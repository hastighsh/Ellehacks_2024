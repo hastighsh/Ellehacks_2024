{
 "cells": [
  {
   "cell_type": "code",
   "execution_count": null,
   "metadata": {},
   "outputs": [],
   "source": [
    "import matplotlib.pyplot as plt\n",
    "from ucimlrepo import fetch_ucirepo \n",
    "import numpy as np\n",
    "from sklearn.pipeline import Pipeline\n",
    "from sklearn.impute import SimpleImputer\n",
    "from sklearn.preprocessing import StandardScaler, OneHotEncoder\n",
    "from sklearn.compose import ColumnTransformer\n",
    "import pandas as pd"
   ]
  },
  {
   "cell_type": "code",
   "execution_count": null,
   "metadata": {},
   "outputs": [],
   "source": [
    "#Raw content URL for the dataset\n",
    "url = \"https://raw.githubusercontent.com/hastighsh/Ellehacks_2024/main/Monthly_weather_report.csv\"\n",
    "\n",
    "#Specify the delimiter\n",
    "delimiter = ','\n",
    "\n",
    "#Read the data into a DataFrame\n",
    "weather = pd.read_csv(url, delimiter=delimiter)\n",
    "\n",
    "#Let's create a backup copy of the dataset\n",
    "weather_backup = weather.copy()"
   ]
  }
 ],
 "metadata": {
  "language_info": {
   "name": "python"
  }
 },
 "nbformat": 4,
 "nbformat_minor": 2
}
