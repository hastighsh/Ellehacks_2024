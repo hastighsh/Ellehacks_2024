{
 "cells": [
  {
   "cell_type": "code",
   "execution_count": 1,
   "id": "c0d57997",
   "metadata": {},
   "outputs": [],
   "source": [
    "import numpy as np\n",
    "import pandas as pd\n",
    "import matplotlib.pyplot as plt\n",
    "import sklearn"
   ]
  },
  {
   "cell_type": "code",
   "execution_count": 2,
   "id": "26206890",
   "metadata": {},
   "outputs": [
    {
     "name": "stdout",
     "output_type": "stream",
     "text": [
      "Requirement already satisfied: wwo-hist in c:\\users\\heliiix\\anaconda3\\lib\\site-packages (0.0.7)\n"
     ]
    }
   ],
   "source": [
    "!pip install wwo-hist"
   ]
  },
  {
   "cell_type": "code",
   "execution_count": 3,
   "id": "a46e9d22",
   "metadata": {},
   "outputs": [],
   "source": [
    "from wwo_hist import retrieve_hist_data\n",
    "\n",
    "import os"
   ]
  },
  {
   "cell_type": "code",
   "execution_count": 4,
   "id": "8ef7a3d5",
   "metadata": {},
   "outputs": [],
   "source": [
    "from sklearn.compose import ColumnTransformer\n",
    "from sklearn.pipeline import make_pipeline\n",
    "from sklearn.preprocessing import OneHotEncoder\n",
    "from sklearn.impute import SimpleImputer\n",
    "from sklearn.preprocessing import StandardScaler\n",
    "from sklearn.model_selection import train_test_split\n",
    "from sklearn.svm import SVC\n",
    "from sklearn.metrics import classification_report, ConfusionMatrixDisplay"
   ]
  },
  {
   "cell_type": "code",
   "execution_count": 5,
   "id": "283f4793",
   "metadata": {},
   "outputs": [],
   "source": [
    "#Raw content URL for adult-all.txt\n",
    "url = \"https://raw.githubusercontent.com/hastighsh/Ellehacks_2024/main/power_outages_data_copy.csv\"\n",
    "\n",
    "#Specify the delimiter (assuming it's a tab-separated file)\n",
    "delimiter = ','\n",
    "\n",
    "#Read the data into a DataFrame\n",
    "power_outages_data = pd.read_csv(url, delimiter=delimiter)\n",
    "\n",
    "#Let's create a backup copy of the dataset\n",
    "outage_backup = power_outages_data.copy()"
   ]
  },
  {
   "cell_type": "code",
   "execution_count": 6,
   "id": "a19d9e3c",
   "metadata": {},
   "outputs": [
    {
     "data": {
      "text/html": [
       "<div>\n",
       "<style scoped>\n",
       "    .dataframe tbody tr th:only-of-type {\n",
       "        vertical-align: middle;\n",
       "    }\n",
       "\n",
       "    .dataframe tbody tr th {\n",
       "        vertical-align: top;\n",
       "    }\n",
       "\n",
       "    .dataframe thead th {\n",
       "        text-align: right;\n",
       "    }\n",
       "</style>\n",
       "<table border=\"1\" class=\"dataframe\">\n",
       "  <thead>\n",
       "    <tr style=\"text-align: right;\">\n",
       "      <th></th>\n",
       "      <th>Unnamed: 0</th>\n",
       "      <th>Event Description</th>\n",
       "      <th>Year</th>\n",
       "      <th>Date Event Began</th>\n",
       "      <th>Date of Restoration</th>\n",
       "      <th>Respondent</th>\n",
       "      <th>Geographic Areas</th>\n",
       "      <th>NERC Region</th>\n",
       "      <th>Demand Loss (MW)</th>\n",
       "      <th>Number of Customers Affected</th>\n",
       "      <th>Tags</th>\n",
       "      <th>Time Event Began</th>\n",
       "      <th>Time of Restoration</th>\n",
       "    </tr>\n",
       "  </thead>\n",
       "  <tbody>\n",
       "    <tr>\n",
       "      <th>0</th>\n",
       "      <td>0</td>\n",
       "      <td>Severe Weather - Thunderstorms</td>\n",
       "      <td>2014</td>\n",
       "      <td>6/30/2014</td>\n",
       "      <td>7/2/2014</td>\n",
       "      <td>Exelon Corporation/ComEd</td>\n",
       "      <td>Illinois</td>\n",
       "      <td>RFC</td>\n",
       "      <td>Unknown</td>\n",
       "      <td>420,000</td>\n",
       "      <td>severe weather, thunderstorm</td>\n",
       "      <td>20:00:00</td>\n",
       "      <td>18:30:00</td>\n",
       "    </tr>\n",
       "    <tr>\n",
       "      <th>1</th>\n",
       "      <td>1</td>\n",
       "      <td>Severe Weather - Thunderstorms</td>\n",
       "      <td>2014</td>\n",
       "      <td>6/30/2014</td>\n",
       "      <td>7/1/2014</td>\n",
       "      <td>Northern Indiana Public Service Company</td>\n",
       "      <td>North Central Indiana</td>\n",
       "      <td>RFC</td>\n",
       "      <td>Unknown</td>\n",
       "      <td>127,000</td>\n",
       "      <td>severe weather, thunderstorm</td>\n",
       "      <td>23:20:00</td>\n",
       "      <td>17:00:00</td>\n",
       "    </tr>\n",
       "    <tr>\n",
       "      <th>2</th>\n",
       "      <td>2</td>\n",
       "      <td>Severe Weather - Thunderstorms</td>\n",
       "      <td>2014</td>\n",
       "      <td>6/30/2014</td>\n",
       "      <td>7/1/2014</td>\n",
       "      <td>We Energies</td>\n",
       "      <td>Southeast  Wisconsin</td>\n",
       "      <td>MRO</td>\n",
       "      <td>424</td>\n",
       "      <td>120,000</td>\n",
       "      <td>severe weather, thunderstorm</td>\n",
       "      <td>17:55:00</td>\n",
       "      <td>02:53:00</td>\n",
       "    </tr>\n",
       "    <tr>\n",
       "      <th>3</th>\n",
       "      <td>3</td>\n",
       "      <td>Fuel Supply Emergency - Coal</td>\n",
       "      <td>2014</td>\n",
       "      <td>6/27/2014</td>\n",
       "      <td>Unknown</td>\n",
       "      <td>We Energies</td>\n",
       "      <td>Wisconsin</td>\n",
       "      <td>MRO</td>\n",
       "      <td>Unknown</td>\n",
       "      <td>Unknown</td>\n",
       "      <td>fuel supply emergency, coal</td>\n",
       "      <td>13:21:00</td>\n",
       "      <td>NaN</td>\n",
       "    </tr>\n",
       "    <tr>\n",
       "      <th>4</th>\n",
       "      <td>4</td>\n",
       "      <td>Physical Attack - Vandalism</td>\n",
       "      <td>2014</td>\n",
       "      <td>6/24/2014</td>\n",
       "      <td>6/24/2014</td>\n",
       "      <td>Tennessee Valley Authority</td>\n",
       "      <td>Nashville, Tennessee</td>\n",
       "      <td>SERC</td>\n",
       "      <td>Unknown</td>\n",
       "      <td>Unknown</td>\n",
       "      <td>vandalism, physical</td>\n",
       "      <td>14:54:00</td>\n",
       "      <td>14:55:00</td>\n",
       "    </tr>\n",
       "    <tr>\n",
       "      <th>...</th>\n",
       "      <td>...</td>\n",
       "      <td>...</td>\n",
       "      <td>...</td>\n",
       "      <td>...</td>\n",
       "      <td>...</td>\n",
       "      <td>...</td>\n",
       "      <td>...</td>\n",
       "      <td>...</td>\n",
       "      <td>...</td>\n",
       "      <td>...</td>\n",
       "      <td>...</td>\n",
       "      <td>...</td>\n",
       "      <td>...</td>\n",
       "    </tr>\n",
       "    <tr>\n",
       "      <th>1647</th>\n",
       "      <td>1647</td>\n",
       "      <td>Transmission Line Loss</td>\n",
       "      <td>2000</td>\n",
       "      <td>3/18/2000</td>\n",
       "      <td>3/18/2000</td>\n",
       "      <td>El Paso Elec. Co.</td>\n",
       "      <td>Texas</td>\n",
       "      <td>MAIN</td>\n",
       "      <td>400</td>\n",
       "      <td>100,000</td>\n",
       "      <td>transmission interruption</td>\n",
       "      <td>16:00:00</td>\n",
       "      <td>17:10:00</td>\n",
       "    </tr>\n",
       "    <tr>\n",
       "      <th>1648</th>\n",
       "      <td>1648</td>\n",
       "      <td>Vandalism</td>\n",
       "      <td>2000</td>\n",
       "      <td>3/14/2000</td>\n",
       "      <td>NaN</td>\n",
       "      <td>Alliant Energy</td>\n",
       "      <td>Maine</td>\n",
       "      <td>MAIN</td>\n",
       "      <td>NaN</td>\n",
       "      <td>NaN</td>\n",
       "      <td>vandalism</td>\n",
       "      <td>21:06:00</td>\n",
       "      <td>NaN</td>\n",
       "    </tr>\n",
       "    <tr>\n",
       "      <th>1649</th>\n",
       "      <td>1649</td>\n",
       "      <td>Ice Storm</td>\n",
       "      <td>2000</td>\n",
       "      <td>1/29/2000</td>\n",
       "      <td>2/3/2000</td>\n",
       "      <td>Duke Power Co.</td>\n",
       "      <td>South Carolina</td>\n",
       "      <td>SERC</td>\n",
       "      <td>300</td>\n",
       "      <td>81,000</td>\n",
       "      <td>severe weather, winter storm</td>\n",
       "      <td>22:00:00</td>\n",
       "      <td>12:00:00</td>\n",
       "    </tr>\n",
       "    <tr>\n",
       "      <th>1650</th>\n",
       "      <td>1650</td>\n",
       "      <td>Ice Storm</td>\n",
       "      <td>2000</td>\n",
       "      <td>1/24/2000</td>\n",
       "      <td>NaN</td>\n",
       "      <td>Carolina Power &amp; Light</td>\n",
       "      <td>North Carolina &amp; Northern South Carolina</td>\n",
       "      <td>SERC</td>\n",
       "      <td>960</td>\n",
       "      <td>173,000</td>\n",
       "      <td>severe weather, winter storm</td>\n",
       "      <td>19:00:00</td>\n",
       "      <td>NaN</td>\n",
       "    </tr>\n",
       "    <tr>\n",
       "      <th>1651</th>\n",
       "      <td>1651</td>\n",
       "      <td>Ice Storm</td>\n",
       "      <td>2000</td>\n",
       "      <td>1/23/2000</td>\n",
       "      <td>1/28/2000</td>\n",
       "      <td>Duke Power Co.</td>\n",
       "      <td>South Carolina</td>\n",
       "      <td>SERC</td>\n",
       "      <td>450</td>\n",
       "      <td>133,000</td>\n",
       "      <td>severe weather, winter storm</td>\n",
       "      <td>08:00:00</td>\n",
       "      <td>12:00:00</td>\n",
       "    </tr>\n",
       "  </tbody>\n",
       "</table>\n",
       "<p>1652 rows × 13 columns</p>\n",
       "</div>"
      ],
      "text/plain": [
       "      Unnamed: 0               Event Description  Year Date Event Began  \\\n",
       "0              0  Severe Weather - Thunderstorms  2014        6/30/2014   \n",
       "1              1  Severe Weather - Thunderstorms  2014        6/30/2014   \n",
       "2              2  Severe Weather - Thunderstorms  2014        6/30/2014   \n",
       "3              3    Fuel Supply Emergency - Coal  2014        6/27/2014   \n",
       "4              4     Physical Attack - Vandalism  2014        6/24/2014   \n",
       "...          ...                             ...   ...              ...   \n",
       "1647        1647          Transmission Line Loss  2000        3/18/2000   \n",
       "1648        1648                       Vandalism  2000        3/14/2000   \n",
       "1649        1649                       Ice Storm  2000        1/29/2000   \n",
       "1650        1650                       Ice Storm  2000        1/24/2000   \n",
       "1651        1651                       Ice Storm  2000        1/23/2000   \n",
       "\n",
       "     Date of Restoration                               Respondent  \\\n",
       "0               7/2/2014                 Exelon Corporation/ComEd   \n",
       "1               7/1/2014  Northern Indiana Public Service Company   \n",
       "2               7/1/2014                              We Energies   \n",
       "3                Unknown                              We Energies   \n",
       "4              6/24/2014               Tennessee Valley Authority   \n",
       "...                  ...                                      ...   \n",
       "1647           3/18/2000                        El Paso Elec. Co.   \n",
       "1648                 NaN                           Alliant Energy   \n",
       "1649            2/3/2000                           Duke Power Co.   \n",
       "1650                 NaN                   Carolina Power & Light   \n",
       "1651           1/28/2000                           Duke Power Co.   \n",
       "\n",
       "                              Geographic Areas NERC Region Demand Loss (MW)  \\\n",
       "0                                     Illinois         RFC          Unknown   \n",
       "1                        North Central Indiana         RFC          Unknown   \n",
       "2                         Southeast  Wisconsin         MRO              424   \n",
       "3                                    Wisconsin         MRO          Unknown   \n",
       "4                         Nashville, Tennessee        SERC          Unknown   \n",
       "...                                        ...         ...              ...   \n",
       "1647                                     Texas        MAIN              400   \n",
       "1648                                     Maine        MAIN              NaN   \n",
       "1649                            South Carolina        SERC              300   \n",
       "1650  North Carolina & Northern South Carolina        SERC              960   \n",
       "1651                            South Carolina        SERC              450   \n",
       "\n",
       "     Number of Customers Affected                          Tags  \\\n",
       "0                         420,000  severe weather, thunderstorm   \n",
       "1                         127,000  severe weather, thunderstorm   \n",
       "2                         120,000  severe weather, thunderstorm   \n",
       "3                         Unknown   fuel supply emergency, coal   \n",
       "4                         Unknown           vandalism, physical   \n",
       "...                           ...                           ...   \n",
       "1647                      100,000     transmission interruption   \n",
       "1648                          NaN                     vandalism   \n",
       "1649                       81,000  severe weather, winter storm   \n",
       "1650                      173,000  severe weather, winter storm   \n",
       "1651                      133,000  severe weather, winter storm   \n",
       "\n",
       "     Time Event Began Time of Restoration  \n",
       "0            20:00:00            18:30:00  \n",
       "1            23:20:00            17:00:00  \n",
       "2            17:55:00            02:53:00  \n",
       "3            13:21:00                 NaN  \n",
       "4            14:54:00            14:55:00  \n",
       "...               ...                 ...  \n",
       "1647         16:00:00            17:10:00  \n",
       "1648         21:06:00                 NaN  \n",
       "1649         22:00:00            12:00:00  \n",
       "1650         19:00:00                 NaN  \n",
       "1651         08:00:00            12:00:00  \n",
       "\n",
       "[1652 rows x 13 columns]"
      ]
     },
     "execution_count": 6,
     "metadata": {},
     "output_type": "execute_result"
    }
   ],
   "source": [
    "power_outages_data"
   ]
  },
  {
   "cell_type": "code",
   "execution_count": 7,
   "id": "4dfe86e9",
   "metadata": {},
   "outputs": [],
   "source": [
    "power_outages_data = power_outages_data.drop([\"Unnamed: 0\", \"NERC Region\", \"Demand Loss (MW)\", \"Number of Customers Affected\"], axis=1)"
   ]
  },
  {
   "cell_type": "code",
   "execution_count": 8,
   "id": "656ae1c2",
   "metadata": {},
   "outputs": [
    {
     "name": "stdout",
     "output_type": "stream",
     "text": [
      "Missing values in each column:\n",
      "Event Description       0\n",
      "Year                    0\n",
      "Date Event Began        0\n",
      "Date of Restoration    14\n",
      "Respondent              0\n",
      "Geographic Areas        1\n",
      "Tags                    1\n",
      "Time Event Began       12\n",
      "Time of Restoration    44\n",
      "dtype: int64\n"
     ]
    }
   ],
   "source": [
    "# Count missing values in each column\n",
    "missing_values = power_outages_data.isnull().sum()\n",
    "\n",
    "print(\"Missing values in each column:\")\n",
    "print(missing_values)"
   ]
  },
  {
   "cell_type": "code",
   "execution_count": 9,
   "id": "3bbd58a5",
   "metadata": {},
   "outputs": [],
   "source": [
    "cleaned_power_outages = power_outages_data.dropna()"
   ]
  },
  {
   "cell_type": "code",
   "execution_count": 10,
   "id": "a07e4959",
   "metadata": {},
   "outputs": [
    {
     "data": {
      "text/html": [
       "<div>\n",
       "<style scoped>\n",
       "    .dataframe tbody tr th:only-of-type {\n",
       "        vertical-align: middle;\n",
       "    }\n",
       "\n",
       "    .dataframe tbody tr th {\n",
       "        vertical-align: top;\n",
       "    }\n",
       "\n",
       "    .dataframe thead th {\n",
       "        text-align: right;\n",
       "    }\n",
       "</style>\n",
       "<table border=\"1\" class=\"dataframe\">\n",
       "  <thead>\n",
       "    <tr style=\"text-align: right;\">\n",
       "      <th></th>\n",
       "      <th>Event Description</th>\n",
       "      <th>Year</th>\n",
       "      <th>Date Event Began</th>\n",
       "      <th>Date of Restoration</th>\n",
       "      <th>Respondent</th>\n",
       "      <th>Geographic Areas</th>\n",
       "      <th>Tags</th>\n",
       "      <th>Time Event Began</th>\n",
       "      <th>Time of Restoration</th>\n",
       "    </tr>\n",
       "  </thead>\n",
       "  <tbody>\n",
       "    <tr>\n",
       "      <th>0</th>\n",
       "      <td>Severe Weather - Thunderstorms</td>\n",
       "      <td>2014</td>\n",
       "      <td>6/30/2014</td>\n",
       "      <td>7/2/2014</td>\n",
       "      <td>Exelon Corporation/ComEd</td>\n",
       "      <td>Illinois</td>\n",
       "      <td>severe weather, thunderstorm</td>\n",
       "      <td>20:00:00</td>\n",
       "      <td>18:30:00</td>\n",
       "    </tr>\n",
       "    <tr>\n",
       "      <th>1</th>\n",
       "      <td>Severe Weather - Thunderstorms</td>\n",
       "      <td>2014</td>\n",
       "      <td>6/30/2014</td>\n",
       "      <td>7/1/2014</td>\n",
       "      <td>Northern Indiana Public Service Company</td>\n",
       "      <td>North Central Indiana</td>\n",
       "      <td>severe weather, thunderstorm</td>\n",
       "      <td>23:20:00</td>\n",
       "      <td>17:00:00</td>\n",
       "    </tr>\n",
       "    <tr>\n",
       "      <th>2</th>\n",
       "      <td>Severe Weather - Thunderstorms</td>\n",
       "      <td>2014</td>\n",
       "      <td>6/30/2014</td>\n",
       "      <td>7/1/2014</td>\n",
       "      <td>We Energies</td>\n",
       "      <td>Southeast  Wisconsin</td>\n",
       "      <td>severe weather, thunderstorm</td>\n",
       "      <td>17:55:00</td>\n",
       "      <td>02:53:00</td>\n",
       "    </tr>\n",
       "    <tr>\n",
       "      <th>4</th>\n",
       "      <td>Physical Attack - Vandalism</td>\n",
       "      <td>2014</td>\n",
       "      <td>6/24/2014</td>\n",
       "      <td>6/24/2014</td>\n",
       "      <td>Tennessee Valley Authority</td>\n",
       "      <td>Nashville, Tennessee</td>\n",
       "      <td>vandalism, physical</td>\n",
       "      <td>14:54:00</td>\n",
       "      <td>14:55:00</td>\n",
       "    </tr>\n",
       "    <tr>\n",
       "      <th>5</th>\n",
       "      <td>Physical Attack - Vandalism</td>\n",
       "      <td>2014</td>\n",
       "      <td>6/19/2014</td>\n",
       "      <td>6/19/2014</td>\n",
       "      <td>Tennessee Valley Authority</td>\n",
       "      <td>Nashville, Tennessee</td>\n",
       "      <td>vandalism, physical</td>\n",
       "      <td>08:47:00</td>\n",
       "      <td>08:48:00</td>\n",
       "    </tr>\n",
       "    <tr>\n",
       "      <th>...</th>\n",
       "      <td>...</td>\n",
       "      <td>...</td>\n",
       "      <td>...</td>\n",
       "      <td>...</td>\n",
       "      <td>...</td>\n",
       "      <td>...</td>\n",
       "      <td>...</td>\n",
       "      <td>...</td>\n",
       "      <td>...</td>\n",
       "    </tr>\n",
       "    <tr>\n",
       "      <th>1642</th>\n",
       "      <td>Severe Weather</td>\n",
       "      <td>2000</td>\n",
       "      <td>5/2/2000</td>\n",
       "      <td>5/2/2000</td>\n",
       "      <td>Reliant Energy HL&amp;P</td>\n",
       "      <td>Houston, TX</td>\n",
       "      <td>severe weather</td>\n",
       "      <td>04:00:00</td>\n",
       "      <td>12:00:00</td>\n",
       "    </tr>\n",
       "    <tr>\n",
       "      <th>1646</th>\n",
       "      <td>Transmission Line Loss</td>\n",
       "      <td>2000</td>\n",
       "      <td>3/18/2000</td>\n",
       "      <td>3/18/2000</td>\n",
       "      <td>Public Service of New Mexico</td>\n",
       "      <td>New Mexico</td>\n",
       "      <td>transmission interruption</td>\n",
       "      <td>19:08:00</td>\n",
       "      <td>19:08:00</td>\n",
       "    </tr>\n",
       "    <tr>\n",
       "      <th>1647</th>\n",
       "      <td>Transmission Line Loss</td>\n",
       "      <td>2000</td>\n",
       "      <td>3/18/2000</td>\n",
       "      <td>3/18/2000</td>\n",
       "      <td>El Paso Elec. Co.</td>\n",
       "      <td>Texas</td>\n",
       "      <td>transmission interruption</td>\n",
       "      <td>16:00:00</td>\n",
       "      <td>17:10:00</td>\n",
       "    </tr>\n",
       "    <tr>\n",
       "      <th>1649</th>\n",
       "      <td>Ice Storm</td>\n",
       "      <td>2000</td>\n",
       "      <td>1/29/2000</td>\n",
       "      <td>2/3/2000</td>\n",
       "      <td>Duke Power Co.</td>\n",
       "      <td>South Carolina</td>\n",
       "      <td>severe weather, winter storm</td>\n",
       "      <td>22:00:00</td>\n",
       "      <td>12:00:00</td>\n",
       "    </tr>\n",
       "    <tr>\n",
       "      <th>1651</th>\n",
       "      <td>Ice Storm</td>\n",
       "      <td>2000</td>\n",
       "      <td>1/23/2000</td>\n",
       "      <td>1/28/2000</td>\n",
       "      <td>Duke Power Co.</td>\n",
       "      <td>South Carolina</td>\n",
       "      <td>severe weather, winter storm</td>\n",
       "      <td>08:00:00</td>\n",
       "      <td>12:00:00</td>\n",
       "    </tr>\n",
       "  </tbody>\n",
       "</table>\n",
       "<p>1605 rows × 9 columns</p>\n",
       "</div>"
      ],
      "text/plain": [
       "                   Event Description  Year Date Event Began  \\\n",
       "0     Severe Weather - Thunderstorms  2014        6/30/2014   \n",
       "1     Severe Weather - Thunderstorms  2014        6/30/2014   \n",
       "2     Severe Weather - Thunderstorms  2014        6/30/2014   \n",
       "4        Physical Attack - Vandalism  2014        6/24/2014   \n",
       "5        Physical Attack - Vandalism  2014        6/19/2014   \n",
       "...                              ...   ...              ...   \n",
       "1642                  Severe Weather  2000         5/2/2000   \n",
       "1646          Transmission Line Loss  2000        3/18/2000   \n",
       "1647          Transmission Line Loss  2000        3/18/2000   \n",
       "1649                       Ice Storm  2000        1/29/2000   \n",
       "1651                       Ice Storm  2000        1/23/2000   \n",
       "\n",
       "     Date of Restoration                               Respondent  \\\n",
       "0               7/2/2014                 Exelon Corporation/ComEd   \n",
       "1               7/1/2014  Northern Indiana Public Service Company   \n",
       "2               7/1/2014                              We Energies   \n",
       "4              6/24/2014               Tennessee Valley Authority   \n",
       "5              6/19/2014               Tennessee Valley Authority   \n",
       "...                  ...                                      ...   \n",
       "1642            5/2/2000                      Reliant Energy HL&P   \n",
       "1646           3/18/2000             Public Service of New Mexico   \n",
       "1647           3/18/2000                        El Paso Elec. Co.   \n",
       "1649            2/3/2000                           Duke Power Co.   \n",
       "1651           1/28/2000                           Duke Power Co.   \n",
       "\n",
       "           Geographic Areas                          Tags Time Event Began  \\\n",
       "0                  Illinois  severe weather, thunderstorm         20:00:00   \n",
       "1     North Central Indiana  severe weather, thunderstorm         23:20:00   \n",
       "2      Southeast  Wisconsin  severe weather, thunderstorm         17:55:00   \n",
       "4      Nashville, Tennessee           vandalism, physical         14:54:00   \n",
       "5      Nashville, Tennessee           vandalism, physical         08:47:00   \n",
       "...                     ...                           ...              ...   \n",
       "1642            Houston, TX                severe weather         04:00:00   \n",
       "1646             New Mexico     transmission interruption         19:08:00   \n",
       "1647                  Texas     transmission interruption         16:00:00   \n",
       "1649         South Carolina  severe weather, winter storm         22:00:00   \n",
       "1651         South Carolina  severe weather, winter storm         08:00:00   \n",
       "\n",
       "     Time of Restoration  \n",
       "0               18:30:00  \n",
       "1               17:00:00  \n",
       "2               02:53:00  \n",
       "4               14:55:00  \n",
       "5               08:48:00  \n",
       "...                  ...  \n",
       "1642            12:00:00  \n",
       "1646            19:08:00  \n",
       "1647            17:10:00  \n",
       "1649            12:00:00  \n",
       "1651            12:00:00  \n",
       "\n",
       "[1605 rows x 9 columns]"
      ]
     },
     "execution_count": 10,
     "metadata": {},
     "output_type": "execute_result"
    }
   ],
   "source": [
    "cleaned_power_outages"
   ]
  },
  {
   "cell_type": "code",
   "execution_count": 11,
   "id": "d76ab643",
   "metadata": {},
   "outputs": [
    {
     "name": "stdout",
     "output_type": "stream",
     "text": [
      "Missing values in each column:\n",
      "Event Description      0\n",
      "Year                   0\n",
      "Date Event Began       0\n",
      "Date of Restoration    0\n",
      "Respondent             0\n",
      "Geographic Areas       0\n",
      "Tags                   0\n",
      "Time Event Began       0\n",
      "Time of Restoration    0\n",
      "dtype: int64\n"
     ]
    }
   ],
   "source": [
    "# Count missing values in each column\n",
    "missing_values = cleaned_power_outages.isnull().sum()\n",
    "\n",
    "print(\"Missing values in each column:\")\n",
    "print(missing_values)"
   ]
  },
  {
   "cell_type": "code",
   "execution_count": 12,
   "id": "7fd340e9",
   "metadata": {},
   "outputs": [
    {
     "name": "stdout",
     "output_type": "stream",
     "text": [
      "Island of Puerto Rico              30\n",
      "California                         24\n",
      "Texas                              20\n",
      "Northern California                20\n",
      "Tacoma, Washington                 17\n",
      "                                   ..\n",
      "Northeast, Illinois                 1\n",
      "Jefferson, Oregon                   1\n",
      "Fredrickson, Washington             1\n",
      "Entire ComEd Territory, Indiana     1\n",
      "New Mexico                          1\n",
      "Name: Geographic Areas, Length: 985, dtype: int64\n"
     ]
    }
   ],
   "source": [
    "city_counts = cleaned_power_outages['Geographic Areas'].value_counts()\n",
    "\n",
    "# Print the counts for each city\n",
    "print(city_counts)"
   ]
  },
  {
   "cell_type": "code",
   "execution_count": 13,
   "id": "085cd113",
   "metadata": {},
   "outputs": [
    {
     "name": "stdout",
     "output_type": "stream",
     "text": [
      "Number of cities: 985\n"
     ]
    }
   ],
   "source": [
    "count_of_cities = len(city_counts)\n",
    "print(\"Number of cities:\", count_of_cities)"
   ]
  },
  {
   "cell_type": "code",
   "execution_count": 14,
   "id": "646ea7b4",
   "metadata": {},
   "outputs": [
    {
     "name": "stdout",
     "output_type": "stream",
     "text": [
      "Top 20 cities:\n",
      "Island of Puerto Rico                 30\n",
      "California                            24\n",
      "Texas                                 20\n",
      "Northern California                   20\n",
      "Tacoma, Washington                    17\n",
      "Southeastern Michigan                 14\n",
      "Illinois                              12\n",
      "New York                              12\n",
      "Southern California                   12\n",
      "Northern and Central California       10\n",
      "Georgia                               10\n",
      "Pennsylvania                          10\n",
      "Newark, Delaware                      10\n",
      "San Francisco Bay Area, California    10\n",
      "Northern Illinois                     10\n",
      "Alberta, Canada                        9\n",
      "Ohio                                   9\n",
      "Virginia                               9\n",
      "North Carolina                         8\n",
      "Michigan                               8\n",
      "Name: Geographic Areas, dtype: int64\n"
     ]
    }
   ],
   "source": [
    "top_20_cities = city_counts.head(20)\n",
    "print(\"Top 20 cities:\")\n",
    "print(top_20_cities)"
   ]
  },
  {
   "cell_type": "code",
   "execution_count": 179,
   "id": "3919b621",
   "metadata": {},
   "outputs": [
    {
     "data": {
      "text/html": [
       "<div>\n",
       "<style scoped>\n",
       "    .dataframe tbody tr th:only-of-type {\n",
       "        vertical-align: middle;\n",
       "    }\n",
       "\n",
       "    .dataframe tbody tr th {\n",
       "        vertical-align: top;\n",
       "    }\n",
       "\n",
       "    .dataframe thead th {\n",
       "        text-align: right;\n",
       "    }\n",
       "</style>\n",
       "<table border=\"1\" class=\"dataframe\">\n",
       "  <thead>\n",
       "    <tr style=\"text-align: right;\">\n",
       "      <th></th>\n",
       "      <th>Event Description</th>\n",
       "      <th>Year</th>\n",
       "      <th>Date Event Began</th>\n",
       "      <th>Date of Restoration</th>\n",
       "      <th>Respondent</th>\n",
       "      <th>Geographic Areas</th>\n",
       "      <th>Tags</th>\n",
       "      <th>Time Event Began</th>\n",
       "      <th>Time of Restoration</th>\n",
       "      <th>Event_Type_1</th>\n",
       "      <th>Event_Type_2</th>\n",
       "    </tr>\n",
       "  </thead>\n",
       "  <tbody>\n",
       "    <tr>\n",
       "      <th>0</th>\n",
       "      <td>Severe Weather - Thunderstorms</td>\n",
       "      <td>2014</td>\n",
       "      <td>6/30/2014</td>\n",
       "      <td>7/2/2014</td>\n",
       "      <td>Exelon Corporation/ComEd</td>\n",
       "      <td>Illinois</td>\n",
       "      <td>severe weather, thunderstorm</td>\n",
       "      <td>20:00:00</td>\n",
       "      <td>18:30:00</td>\n",
       "      <td>Severe Weather</td>\n",
       "      <td>Thunderstorms</td>\n",
       "    </tr>\n",
       "    <tr>\n",
       "      <th>1</th>\n",
       "      <td>Severe Weather - Thunderstorms</td>\n",
       "      <td>2014</td>\n",
       "      <td>6/30/2014</td>\n",
       "      <td>7/1/2014</td>\n",
       "      <td>Northern Indiana Public Service Company</td>\n",
       "      <td>North Central Indiana</td>\n",
       "      <td>severe weather, thunderstorm</td>\n",
       "      <td>23:20:00</td>\n",
       "      <td>17:00:00</td>\n",
       "      <td>Severe Weather</td>\n",
       "      <td>Thunderstorms</td>\n",
       "    </tr>\n",
       "    <tr>\n",
       "      <th>2</th>\n",
       "      <td>Severe Weather - Thunderstorms</td>\n",
       "      <td>2014</td>\n",
       "      <td>6/30/2014</td>\n",
       "      <td>7/1/2014</td>\n",
       "      <td>We Energies</td>\n",
       "      <td>Southeast  Wisconsin</td>\n",
       "      <td>severe weather, thunderstorm</td>\n",
       "      <td>17:55:00</td>\n",
       "      <td>02:53:00</td>\n",
       "      <td>Severe Weather</td>\n",
       "      <td>Thunderstorms</td>\n",
       "    </tr>\n",
       "    <tr>\n",
       "      <th>4</th>\n",
       "      <td>Physical Attack - Vandalism</td>\n",
       "      <td>2014</td>\n",
       "      <td>6/24/2014</td>\n",
       "      <td>6/24/2014</td>\n",
       "      <td>Tennessee Valley Authority</td>\n",
       "      <td>Nashville, Tennessee</td>\n",
       "      <td>vandalism, physical</td>\n",
       "      <td>14:54:00</td>\n",
       "      <td>14:55:00</td>\n",
       "      <td>Physical Attack</td>\n",
       "      <td>Vandalism</td>\n",
       "    </tr>\n",
       "    <tr>\n",
       "      <th>5</th>\n",
       "      <td>Physical Attack - Vandalism</td>\n",
       "      <td>2014</td>\n",
       "      <td>6/19/2014</td>\n",
       "      <td>6/19/2014</td>\n",
       "      <td>Tennessee Valley Authority</td>\n",
       "      <td>Nashville, Tennessee</td>\n",
       "      <td>vandalism, physical</td>\n",
       "      <td>08:47:00</td>\n",
       "      <td>08:48:00</td>\n",
       "      <td>Physical Attack</td>\n",
       "      <td>Vandalism</td>\n",
       "    </tr>\n",
       "    <tr>\n",
       "      <th>...</th>\n",
       "      <td>...</td>\n",
       "      <td>...</td>\n",
       "      <td>...</td>\n",
       "      <td>...</td>\n",
       "      <td>...</td>\n",
       "      <td>...</td>\n",
       "      <td>...</td>\n",
       "      <td>...</td>\n",
       "      <td>...</td>\n",
       "      <td>...</td>\n",
       "      <td>...</td>\n",
       "    </tr>\n",
       "    <tr>\n",
       "      <th>1642</th>\n",
       "      <td>Severe Weather</td>\n",
       "      <td>2000</td>\n",
       "      <td>5/2/2000</td>\n",
       "      <td>5/2/2000</td>\n",
       "      <td>Reliant Energy HL&amp;P</td>\n",
       "      <td>Houston, TX</td>\n",
       "      <td>severe weather</td>\n",
       "      <td>04:00:00</td>\n",
       "      <td>12:00:00</td>\n",
       "      <td>Severe Weather</td>\n",
       "      <td>None</td>\n",
       "    </tr>\n",
       "    <tr>\n",
       "      <th>1646</th>\n",
       "      <td>Transmission Line Loss</td>\n",
       "      <td>2000</td>\n",
       "      <td>3/18/2000</td>\n",
       "      <td>3/18/2000</td>\n",
       "      <td>Public Service of New Mexico</td>\n",
       "      <td>New Mexico</td>\n",
       "      <td>transmission interruption</td>\n",
       "      <td>19:08:00</td>\n",
       "      <td>19:08:00</td>\n",
       "      <td>Transmission Line Loss</td>\n",
       "      <td>None</td>\n",
       "    </tr>\n",
       "    <tr>\n",
       "      <th>1647</th>\n",
       "      <td>Transmission Line Loss</td>\n",
       "      <td>2000</td>\n",
       "      <td>3/18/2000</td>\n",
       "      <td>3/18/2000</td>\n",
       "      <td>El Paso Elec. Co.</td>\n",
       "      <td>Texas</td>\n",
       "      <td>transmission interruption</td>\n",
       "      <td>16:00:00</td>\n",
       "      <td>17:10:00</td>\n",
       "      <td>Transmission Line Loss</td>\n",
       "      <td>None</td>\n",
       "    </tr>\n",
       "    <tr>\n",
       "      <th>1649</th>\n",
       "      <td>Ice Storm</td>\n",
       "      <td>2000</td>\n",
       "      <td>1/29/2000</td>\n",
       "      <td>2/3/2000</td>\n",
       "      <td>Duke Power Co.</td>\n",
       "      <td>South Carolina</td>\n",
       "      <td>severe weather, winter storm</td>\n",
       "      <td>22:00:00</td>\n",
       "      <td>12:00:00</td>\n",
       "      <td>Ice Storm</td>\n",
       "      <td>None</td>\n",
       "    </tr>\n",
       "    <tr>\n",
       "      <th>1651</th>\n",
       "      <td>Ice Storm</td>\n",
       "      <td>2000</td>\n",
       "      <td>1/23/2000</td>\n",
       "      <td>1/28/2000</td>\n",
       "      <td>Duke Power Co.</td>\n",
       "      <td>South Carolina</td>\n",
       "      <td>severe weather, winter storm</td>\n",
       "      <td>08:00:00</td>\n",
       "      <td>12:00:00</td>\n",
       "      <td>Ice Storm</td>\n",
       "      <td>None</td>\n",
       "    </tr>\n",
       "  </tbody>\n",
       "</table>\n",
       "<p>1605 rows × 11 columns</p>\n",
       "</div>"
      ],
      "text/plain": [
       "                   Event Description  Year Date Event Began  \\\n",
       "0     Severe Weather - Thunderstorms  2014        6/30/2014   \n",
       "1     Severe Weather - Thunderstorms  2014        6/30/2014   \n",
       "2     Severe Weather - Thunderstorms  2014        6/30/2014   \n",
       "4        Physical Attack - Vandalism  2014        6/24/2014   \n",
       "5        Physical Attack - Vandalism  2014        6/19/2014   \n",
       "...                              ...   ...              ...   \n",
       "1642                  Severe Weather  2000         5/2/2000   \n",
       "1646          Transmission Line Loss  2000        3/18/2000   \n",
       "1647          Transmission Line Loss  2000        3/18/2000   \n",
       "1649                       Ice Storm  2000        1/29/2000   \n",
       "1651                       Ice Storm  2000        1/23/2000   \n",
       "\n",
       "     Date of Restoration                               Respondent  \\\n",
       "0               7/2/2014                 Exelon Corporation/ComEd   \n",
       "1               7/1/2014  Northern Indiana Public Service Company   \n",
       "2               7/1/2014                              We Energies   \n",
       "4              6/24/2014               Tennessee Valley Authority   \n",
       "5              6/19/2014               Tennessee Valley Authority   \n",
       "...                  ...                                      ...   \n",
       "1642            5/2/2000                      Reliant Energy HL&P   \n",
       "1646           3/18/2000             Public Service of New Mexico   \n",
       "1647           3/18/2000                        El Paso Elec. Co.   \n",
       "1649            2/3/2000                           Duke Power Co.   \n",
       "1651           1/28/2000                           Duke Power Co.   \n",
       "\n",
       "           Geographic Areas                          Tags Time Event Began  \\\n",
       "0                  Illinois  severe weather, thunderstorm         20:00:00   \n",
       "1     North Central Indiana  severe weather, thunderstorm         23:20:00   \n",
       "2      Southeast  Wisconsin  severe weather, thunderstorm         17:55:00   \n",
       "4      Nashville, Tennessee           vandalism, physical         14:54:00   \n",
       "5      Nashville, Tennessee           vandalism, physical         08:47:00   \n",
       "...                     ...                           ...              ...   \n",
       "1642            Houston, TX                severe weather         04:00:00   \n",
       "1646             New Mexico     transmission interruption         19:08:00   \n",
       "1647                  Texas     transmission interruption         16:00:00   \n",
       "1649         South Carolina  severe weather, winter storm         22:00:00   \n",
       "1651         South Carolina  severe weather, winter storm         08:00:00   \n",
       "\n",
       "     Time of Restoration            Event_Type_1   Event_Type_2  \n",
       "0               18:30:00          Severe Weather  Thunderstorms  \n",
       "1               17:00:00          Severe Weather  Thunderstorms  \n",
       "2               02:53:00          Severe Weather  Thunderstorms  \n",
       "4               14:55:00         Physical Attack      Vandalism  \n",
       "5               08:48:00         Physical Attack      Vandalism  \n",
       "...                  ...                     ...            ...  \n",
       "1642            12:00:00          Severe Weather           None  \n",
       "1646            19:08:00  Transmission Line Loss           None  \n",
       "1647            17:10:00  Transmission Line Loss           None  \n",
       "1649            12:00:00               Ice Storm           None  \n",
       "1651            12:00:00               Ice Storm           None  \n",
       "\n",
       "[1605 rows x 11 columns]"
      ]
     },
     "execution_count": 179,
     "metadata": {},
     "output_type": "execute_result"
    }
   ],
   "source": [
    "# Assuming df is your DataFrame\n",
    "# Split the \"Event Description\" column into two separate columns\n",
    "cleaned_power_outages[['Event_Type_1', 'Event_Type_2']] = cleaned_power_outages['Event Description'].str.split(' - ', 1, expand=True)\n",
    "\n",
    "# Drop the original \"Event Description\" column if needed\n",
    "# df.drop('Event Description', axis=1, inplace=True)\n",
    "\n",
    "# Print the first few rows to verify the changes\n",
    "cleaned_power_outages"
   ]
  },
  {
   "cell_type": "code",
   "execution_count": 16,
   "id": "f68d8387",
   "metadata": {},
   "outputs": [
    {
     "name": "stdout",
     "output_type": "stream",
     "text": [
      "DataFrame with rows for the top 20 cities only:\n"
     ]
    },
    {
     "data": {
      "text/html": [
       "<div>\n",
       "<style scoped>\n",
       "    .dataframe tbody tr th:only-of-type {\n",
       "        vertical-align: middle;\n",
       "    }\n",
       "\n",
       "    .dataframe tbody tr th {\n",
       "        vertical-align: top;\n",
       "    }\n",
       "\n",
       "    .dataframe thead th {\n",
       "        text-align: right;\n",
       "    }\n",
       "</style>\n",
       "<table border=\"1\" class=\"dataframe\">\n",
       "  <thead>\n",
       "    <tr style=\"text-align: right;\">\n",
       "      <th></th>\n",
       "      <th>Event Description</th>\n",
       "      <th>Year</th>\n",
       "      <th>Date Event Began</th>\n",
       "      <th>Date of Restoration</th>\n",
       "      <th>Respondent</th>\n",
       "      <th>Geographic Areas</th>\n",
       "      <th>Tags</th>\n",
       "      <th>Time Event Began</th>\n",
       "      <th>Time of Restoration</th>\n",
       "      <th>Event_Type_1</th>\n",
       "      <th>Event_Type_2</th>\n",
       "    </tr>\n",
       "  </thead>\n",
       "  <tbody>\n",
       "    <tr>\n",
       "      <th>0</th>\n",
       "      <td>Severe Weather - Thunderstorms</td>\n",
       "      <td>2014</td>\n",
       "      <td>6/30/2014</td>\n",
       "      <td>7/2/2014</td>\n",
       "      <td>Exelon Corporation/ComEd</td>\n",
       "      <td>Illinois</td>\n",
       "      <td>severe weather, thunderstorm</td>\n",
       "      <td>20:00:00</td>\n",
       "      <td>18:30:00</td>\n",
       "      <td>Severe Weather</td>\n",
       "      <td>Thunderstorms</td>\n",
       "    </tr>\n",
       "    <tr>\n",
       "      <th>13</th>\n",
       "      <td>Electrical System Islanding</td>\n",
       "      <td>2014</td>\n",
       "      <td>6/9/2014</td>\n",
       "      <td>6/9/2014</td>\n",
       "      <td>Peak Reliability</td>\n",
       "      <td>Alberta, Canada</td>\n",
       "      <td>islanding</td>\n",
       "      <td>11:07:00</td>\n",
       "      <td>11:30:00</td>\n",
       "      <td>Electrical System Islanding</td>\n",
       "      <td>None</td>\n",
       "    </tr>\n",
       "    <tr>\n",
       "      <th>18</th>\n",
       "      <td>Electrical System Islanding</td>\n",
       "      <td>2014</td>\n",
       "      <td>6/3/2014</td>\n",
       "      <td>6/3/2014</td>\n",
       "      <td>Peak Reliability</td>\n",
       "      <td>Alberta, Canada</td>\n",
       "      <td>islanding</td>\n",
       "      <td>15:32:00</td>\n",
       "      <td>15:59:00</td>\n",
       "      <td>Electrical System Islanding</td>\n",
       "      <td>None</td>\n",
       "    </tr>\n",
       "    <tr>\n",
       "      <th>19</th>\n",
       "      <td>Physical Attack - Vandalism</td>\n",
       "      <td>2014</td>\n",
       "      <td>6/3/2014</td>\n",
       "      <td>6/3/2014</td>\n",
       "      <td>Lower Colorado River Authority</td>\n",
       "      <td>Texas</td>\n",
       "      <td>vandalism, physical</td>\n",
       "      <td>01:38:00</td>\n",
       "      <td>01:43:00</td>\n",
       "      <td>Physical Attack</td>\n",
       "      <td>Vandalism</td>\n",
       "    </tr>\n",
       "    <tr>\n",
       "      <th>22</th>\n",
       "      <td>Physical Attack - Vandalism</td>\n",
       "      <td>2014</td>\n",
       "      <td>5/23/2014</td>\n",
       "      <td>5/25/2014</td>\n",
       "      <td>Duke Energy Progress</td>\n",
       "      <td>North Carolina</td>\n",
       "      <td>vandalism, physical</td>\n",
       "      <td>15:00:00</td>\n",
       "      <td>19:00:00</td>\n",
       "      <td>Physical Attack</td>\n",
       "      <td>Vandalism</td>\n",
       "    </tr>\n",
       "    <tr>\n",
       "      <th>...</th>\n",
       "      <td>...</td>\n",
       "      <td>...</td>\n",
       "      <td>...</td>\n",
       "      <td>...</td>\n",
       "      <td>...</td>\n",
       "      <td>...</td>\n",
       "      <td>...</td>\n",
       "      <td>...</td>\n",
       "      <td>...</td>\n",
       "      <td>...</td>\n",
       "      <td>...</td>\n",
       "    </tr>\n",
       "    <tr>\n",
       "      <th>1628</th>\n",
       "      <td>Severe Weather</td>\n",
       "      <td>2000</td>\n",
       "      <td>8/6/2000</td>\n",
       "      <td>8/7/2000</td>\n",
       "      <td>Commonwealth Edison</td>\n",
       "      <td>Illinois</td>\n",
       "      <td>severe weather</td>\n",
       "      <td>16:00:00</td>\n",
       "      <td>12:00:00</td>\n",
       "      <td>Severe Weather</td>\n",
       "      <td>None</td>\n",
       "    </tr>\n",
       "    <tr>\n",
       "      <th>1636</th>\n",
       "      <td>Severe Weather</td>\n",
       "      <td>2000</td>\n",
       "      <td>5/25/2000</td>\n",
       "      <td>6/2/2000</td>\n",
       "      <td>Duke Power</td>\n",
       "      <td>North Carolina</td>\n",
       "      <td>severe weather</td>\n",
       "      <td>10:00:00</td>\n",
       "      <td>06:00:00</td>\n",
       "      <td>Severe Weather</td>\n",
       "      <td>None</td>\n",
       "    </tr>\n",
       "    <tr>\n",
       "      <th>1637</th>\n",
       "      <td>Voltage Elec Usage</td>\n",
       "      <td>2000</td>\n",
       "      <td>5/24/2000</td>\n",
       "      <td>5/25/2000</td>\n",
       "      <td>Entergy</td>\n",
       "      <td>Texas</td>\n",
       "      <td>voltage reduction</td>\n",
       "      <td>10:15:00</td>\n",
       "      <td>22:14:00</td>\n",
       "      <td>Voltage Elec Usage</td>\n",
       "      <td>None</td>\n",
       "    </tr>\n",
       "    <tr>\n",
       "      <th>1640</th>\n",
       "      <td>Energy Conservation</td>\n",
       "      <td>2000</td>\n",
       "      <td>5/9/2000</td>\n",
       "      <td>5/9/2000</td>\n",
       "      <td>Consolidated Edison Co. of New York</td>\n",
       "      <td>New York</td>\n",
       "      <td>load shedding</td>\n",
       "      <td>11:39:00</td>\n",
       "      <td>23:00:00</td>\n",
       "      <td>Energy Conservation</td>\n",
       "      <td>None</td>\n",
       "    </tr>\n",
       "    <tr>\n",
       "      <th>1647</th>\n",
       "      <td>Transmission Line Loss</td>\n",
       "      <td>2000</td>\n",
       "      <td>3/18/2000</td>\n",
       "      <td>3/18/2000</td>\n",
       "      <td>El Paso Elec. Co.</td>\n",
       "      <td>Texas</td>\n",
       "      <td>transmission interruption</td>\n",
       "      <td>16:00:00</td>\n",
       "      <td>17:10:00</td>\n",
       "      <td>Transmission Line Loss</td>\n",
       "      <td>None</td>\n",
       "    </tr>\n",
       "  </tbody>\n",
       "</table>\n",
       "<p>264 rows × 11 columns</p>\n",
       "</div>"
      ],
      "text/plain": [
       "                   Event Description  Year Date Event Began  \\\n",
       "0     Severe Weather - Thunderstorms  2014        6/30/2014   \n",
       "13       Electrical System Islanding  2014         6/9/2014   \n",
       "18       Electrical System Islanding  2014         6/3/2014   \n",
       "19       Physical Attack - Vandalism  2014         6/3/2014   \n",
       "22       Physical Attack - Vandalism  2014        5/23/2014   \n",
       "...                              ...   ...              ...   \n",
       "1628                  Severe Weather  2000         8/6/2000   \n",
       "1636                  Severe Weather  2000        5/25/2000   \n",
       "1637              Voltage Elec Usage  2000        5/24/2000   \n",
       "1640             Energy Conservation  2000         5/9/2000   \n",
       "1647          Transmission Line Loss  2000        3/18/2000   \n",
       "\n",
       "     Date of Restoration                           Respondent  \\\n",
       "0               7/2/2014             Exelon Corporation/ComEd   \n",
       "13              6/9/2014                     Peak Reliability   \n",
       "18              6/3/2014                     Peak Reliability   \n",
       "19              6/3/2014       Lower Colorado River Authority   \n",
       "22             5/25/2014                 Duke Energy Progress   \n",
       "...                  ...                                  ...   \n",
       "1628            8/7/2000                  Commonwealth Edison   \n",
       "1636            6/2/2000                           Duke Power   \n",
       "1637           5/25/2000                              Entergy   \n",
       "1640            5/9/2000  Consolidated Edison Co. of New York   \n",
       "1647           3/18/2000                    El Paso Elec. Co.   \n",
       "\n",
       "     Geographic Areas                          Tags Time Event Began  \\\n",
       "0            Illinois  severe weather, thunderstorm         20:00:00   \n",
       "13    Alberta, Canada                     islanding         11:07:00   \n",
       "18    Alberta, Canada                     islanding         15:32:00   \n",
       "19              Texas           vandalism, physical         01:38:00   \n",
       "22     North Carolina           vandalism, physical         15:00:00   \n",
       "...               ...                           ...              ...   \n",
       "1628         Illinois                severe weather         16:00:00   \n",
       "1636   North Carolina                severe weather         10:00:00   \n",
       "1637            Texas             voltage reduction         10:15:00   \n",
       "1640         New York                 load shedding         11:39:00   \n",
       "1647            Texas     transmission interruption         16:00:00   \n",
       "\n",
       "     Time of Restoration                 Event_Type_1   Event_Type_2  \n",
       "0               18:30:00               Severe Weather  Thunderstorms  \n",
       "13              11:30:00  Electrical System Islanding           None  \n",
       "18              15:59:00  Electrical System Islanding           None  \n",
       "19              01:43:00              Physical Attack      Vandalism  \n",
       "22              19:00:00              Physical Attack      Vandalism  \n",
       "...                  ...                          ...            ...  \n",
       "1628            12:00:00               Severe Weather           None  \n",
       "1636            06:00:00               Severe Weather           None  \n",
       "1637            22:14:00           Voltage Elec Usage           None  \n",
       "1640            23:00:00          Energy Conservation           None  \n",
       "1647            17:10:00       Transmission Line Loss           None  \n",
       "\n",
       "[264 rows x 11 columns]"
      ]
     },
     "execution_count": 16,
     "metadata": {},
     "output_type": "execute_result"
    }
   ],
   "source": [
    "# Get the top 20 cities\n",
    "top_20_cities = city_counts.head(20).index\n",
    "\n",
    "# Create a boolean mask indicating whether each row's city is in the top 20 cities\n",
    "mask = cleaned_power_outages['Geographic Areas'].isin(top_20_cities)\n",
    "\n",
    "# Filter the DataFrame to keep only the rows with cities in the top 20\n",
    "df_top_20 = cleaned_power_outages[mask]\n",
    "\n",
    "# Print the resulting DataFrame\n",
    "print(\"DataFrame with rows for the top 20 cities only:\")\n",
    "df_top_20\n"
   ]
  },
  {
   "cell_type": "code",
   "execution_count": 17,
   "id": "bc898eed",
   "metadata": {},
   "outputs": [
    {
     "data": {
      "text/html": [
       "<div>\n",
       "<style scoped>\n",
       "    .dataframe tbody tr th:only-of-type {\n",
       "        vertical-align: middle;\n",
       "    }\n",
       "\n",
       "    .dataframe tbody tr th {\n",
       "        vertical-align: top;\n",
       "    }\n",
       "\n",
       "    .dataframe thead th {\n",
       "        text-align: right;\n",
       "    }\n",
       "</style>\n",
       "<table border=\"1\" class=\"dataframe\">\n",
       "  <thead>\n",
       "    <tr style=\"text-align: right;\">\n",
       "      <th></th>\n",
       "      <th>Geographic Areas</th>\n",
       "      <th>Date Event Began</th>\n",
       "      <th>Date of Restoration</th>\n",
       "    </tr>\n",
       "  </thead>\n",
       "  <tbody>\n",
       "    <tr>\n",
       "      <th>0</th>\n",
       "      <td>Illinois</td>\n",
       "      <td>6/30/2014</td>\n",
       "      <td>7/2/2014</td>\n",
       "    </tr>\n",
       "    <tr>\n",
       "      <th>13</th>\n",
       "      <td>Alberta, Canada</td>\n",
       "      <td>6/9/2014</td>\n",
       "      <td>6/9/2014</td>\n",
       "    </tr>\n",
       "    <tr>\n",
       "      <th>18</th>\n",
       "      <td>Alberta, Canada</td>\n",
       "      <td>6/3/2014</td>\n",
       "      <td>6/3/2014</td>\n",
       "    </tr>\n",
       "    <tr>\n",
       "      <th>19</th>\n",
       "      <td>Texas</td>\n",
       "      <td>6/3/2014</td>\n",
       "      <td>6/3/2014</td>\n",
       "    </tr>\n",
       "    <tr>\n",
       "      <th>22</th>\n",
       "      <td>North Carolina</td>\n",
       "      <td>5/23/2014</td>\n",
       "      <td>5/25/2014</td>\n",
       "    </tr>\n",
       "    <tr>\n",
       "      <th>...</th>\n",
       "      <td>...</td>\n",
       "      <td>...</td>\n",
       "      <td>...</td>\n",
       "    </tr>\n",
       "    <tr>\n",
       "      <th>1628</th>\n",
       "      <td>Illinois</td>\n",
       "      <td>8/6/2000</td>\n",
       "      <td>8/7/2000</td>\n",
       "    </tr>\n",
       "    <tr>\n",
       "      <th>1636</th>\n",
       "      <td>North Carolina</td>\n",
       "      <td>5/25/2000</td>\n",
       "      <td>6/2/2000</td>\n",
       "    </tr>\n",
       "    <tr>\n",
       "      <th>1637</th>\n",
       "      <td>Texas</td>\n",
       "      <td>5/24/2000</td>\n",
       "      <td>5/25/2000</td>\n",
       "    </tr>\n",
       "    <tr>\n",
       "      <th>1640</th>\n",
       "      <td>New York</td>\n",
       "      <td>5/9/2000</td>\n",
       "      <td>5/9/2000</td>\n",
       "    </tr>\n",
       "    <tr>\n",
       "      <th>1647</th>\n",
       "      <td>Texas</td>\n",
       "      <td>3/18/2000</td>\n",
       "      <td>3/18/2000</td>\n",
       "    </tr>\n",
       "  </tbody>\n",
       "</table>\n",
       "<p>264 rows × 3 columns</p>\n",
       "</div>"
      ],
      "text/plain": [
       "     Geographic Areas Date Event Began Date of Restoration\n",
       "0            Illinois        6/30/2014            7/2/2014\n",
       "13    Alberta, Canada         6/9/2014            6/9/2014\n",
       "18    Alberta, Canada         6/3/2014            6/3/2014\n",
       "19              Texas         6/3/2014            6/3/2014\n",
       "22     North Carolina        5/23/2014           5/25/2014\n",
       "...               ...              ...                 ...\n",
       "1628         Illinois         8/6/2000            8/7/2000\n",
       "1636   North Carolina        5/25/2000            6/2/2000\n",
       "1637            Texas        5/24/2000           5/25/2000\n",
       "1640         New York         5/9/2000            5/9/2000\n",
       "1647            Texas        3/18/2000           3/18/2000\n",
       "\n",
       "[264 rows x 3 columns]"
      ]
     },
     "execution_count": 17,
     "metadata": {},
     "output_type": "execute_result"
    }
   ],
   "source": [
    "# Select only the desired columns to create a smaller temporary DataFrame\n",
    "temp_df = df_top_20[['Geographic Areas','Date Event Began', 'Date of Restoration']]\n",
    "\n",
    "temp_df"
   ]
  },
  {
   "cell_type": "code",
   "execution_count": 18,
   "id": "5eee159a",
   "metadata": {},
   "outputs": [
    {
     "name": "stderr",
     "output_type": "stream",
     "text": [
      "C:\\Users\\Heliiix\\AppData\\Local\\Temp\\ipykernel_6672\\1480150531.py:3: SettingWithCopyWarning: \n",
      "A value is trying to be set on a copy of a slice from a DataFrame.\n",
      "Try using .loc[row_indexer,col_indexer] = value instead\n",
      "\n",
      "See the caveats in the documentation: https://pandas.pydata.org/pandas-docs/stable/user_guide/indexing.html#returning-a-view-versus-a-copy\n",
      "  temp_df.loc[:, 'Geographic Areas'] = temp_df['Geographic Areas'].str.split(',').str[0]\n"
     ]
    },
    {
     "data": {
      "text/html": [
       "<div>\n",
       "<style scoped>\n",
       "    .dataframe tbody tr th:only-of-type {\n",
       "        vertical-align: middle;\n",
       "    }\n",
       "\n",
       "    .dataframe tbody tr th {\n",
       "        vertical-align: top;\n",
       "    }\n",
       "\n",
       "    .dataframe thead th {\n",
       "        text-align: right;\n",
       "    }\n",
       "</style>\n",
       "<table border=\"1\" class=\"dataframe\">\n",
       "  <thead>\n",
       "    <tr style=\"text-align: right;\">\n",
       "      <th></th>\n",
       "      <th>Geographic Areas</th>\n",
       "      <th>Date Event Began</th>\n",
       "      <th>Date of Restoration</th>\n",
       "    </tr>\n",
       "  </thead>\n",
       "  <tbody>\n",
       "    <tr>\n",
       "      <th>0</th>\n",
       "      <td>Illinois</td>\n",
       "      <td>6/30/2014</td>\n",
       "      <td>7/2/2014</td>\n",
       "    </tr>\n",
       "    <tr>\n",
       "      <th>13</th>\n",
       "      <td>Alberta</td>\n",
       "      <td>6/9/2014</td>\n",
       "      <td>6/9/2014</td>\n",
       "    </tr>\n",
       "    <tr>\n",
       "      <th>18</th>\n",
       "      <td>Alberta</td>\n",
       "      <td>6/3/2014</td>\n",
       "      <td>6/3/2014</td>\n",
       "    </tr>\n",
       "    <tr>\n",
       "      <th>19</th>\n",
       "      <td>Texas</td>\n",
       "      <td>6/3/2014</td>\n",
       "      <td>6/3/2014</td>\n",
       "    </tr>\n",
       "    <tr>\n",
       "      <th>22</th>\n",
       "      <td>North Carolina</td>\n",
       "      <td>5/23/2014</td>\n",
       "      <td>5/25/2014</td>\n",
       "    </tr>\n",
       "    <tr>\n",
       "      <th>...</th>\n",
       "      <td>...</td>\n",
       "      <td>...</td>\n",
       "      <td>...</td>\n",
       "    </tr>\n",
       "    <tr>\n",
       "      <th>1628</th>\n",
       "      <td>Illinois</td>\n",
       "      <td>8/6/2000</td>\n",
       "      <td>8/7/2000</td>\n",
       "    </tr>\n",
       "    <tr>\n",
       "      <th>1636</th>\n",
       "      <td>North Carolina</td>\n",
       "      <td>5/25/2000</td>\n",
       "      <td>6/2/2000</td>\n",
       "    </tr>\n",
       "    <tr>\n",
       "      <th>1637</th>\n",
       "      <td>Texas</td>\n",
       "      <td>5/24/2000</td>\n",
       "      <td>5/25/2000</td>\n",
       "    </tr>\n",
       "    <tr>\n",
       "      <th>1640</th>\n",
       "      <td>New York</td>\n",
       "      <td>5/9/2000</td>\n",
       "      <td>5/9/2000</td>\n",
       "    </tr>\n",
       "    <tr>\n",
       "      <th>1647</th>\n",
       "      <td>Texas</td>\n",
       "      <td>3/18/2000</td>\n",
       "      <td>3/18/2000</td>\n",
       "    </tr>\n",
       "  </tbody>\n",
       "</table>\n",
       "<p>264 rows × 3 columns</p>\n",
       "</div>"
      ],
      "text/plain": [
       "     Geographic Areas Date Event Began Date of Restoration\n",
       "0            Illinois        6/30/2014            7/2/2014\n",
       "13            Alberta         6/9/2014            6/9/2014\n",
       "18            Alberta         6/3/2014            6/3/2014\n",
       "19              Texas         6/3/2014            6/3/2014\n",
       "22     North Carolina        5/23/2014           5/25/2014\n",
       "...               ...              ...                 ...\n",
       "1628         Illinois         8/6/2000            8/7/2000\n",
       "1636   North Carolina        5/25/2000            6/2/2000\n",
       "1637            Texas        5/24/2000           5/25/2000\n",
       "1640         New York         5/9/2000            5/9/2000\n",
       "1647            Texas        3/18/2000           3/18/2000\n",
       "\n",
       "[264 rows x 3 columns]"
      ]
     },
     "execution_count": 18,
     "metadata": {},
     "output_type": "execute_result"
    }
   ],
   "source": [
    "# Splitting the \"Geographic Areas\" column\n",
    "# temp_df['Geographic Areas'] = temp_df['Geographic Areas'].str.split(',').str[0]\n",
    "temp_df.loc[:, 'Geographic Areas'] = temp_df['Geographic Areas'].str.split(',').str[0]\n",
    "temp_df"
   ]
  },
  {
   "cell_type": "code",
   "execution_count": 102,
   "id": "69411b2b",
   "metadata": {
    "scrolled": true
   },
   "outputs": [
    {
     "data": {
      "text/html": [
       "<div>\n",
       "<style scoped>\n",
       "    .dataframe tbody tr th:only-of-type {\n",
       "        vertical-align: middle;\n",
       "    }\n",
       "\n",
       "    .dataframe tbody tr th {\n",
       "        vertical-align: top;\n",
       "    }\n",
       "\n",
       "    .dataframe thead th {\n",
       "        text-align: right;\n",
       "    }\n",
       "</style>\n",
       "<table border=\"1\" class=\"dataframe\">\n",
       "  <thead>\n",
       "    <tr style=\"text-align: right;\">\n",
       "      <th></th>\n",
       "      <th>Geographic Areas</th>\n",
       "      <th>Date Event Began</th>\n",
       "      <th>Date of Restoration</th>\n",
       "    </tr>\n",
       "  </thead>\n",
       "  <tbody>\n",
       "    <tr>\n",
       "      <th>0</th>\n",
       "      <td>Illinois</td>\n",
       "      <td>6/30/2014</td>\n",
       "      <td>7/2/2014</td>\n",
       "    </tr>\n",
       "    <tr>\n",
       "      <th>1</th>\n",
       "      <td>Alberta</td>\n",
       "      <td>6/9/2014</td>\n",
       "      <td>6/9/2014</td>\n",
       "    </tr>\n",
       "    <tr>\n",
       "      <th>2</th>\n",
       "      <td>Alberta</td>\n",
       "      <td>6/3/2014</td>\n",
       "      <td>6/3/2014</td>\n",
       "    </tr>\n",
       "    <tr>\n",
       "      <th>3</th>\n",
       "      <td>Texas</td>\n",
       "      <td>6/3/2014</td>\n",
       "      <td>6/3/2014</td>\n",
       "    </tr>\n",
       "    <tr>\n",
       "      <th>4</th>\n",
       "      <td>North Carolina</td>\n",
       "      <td>5/23/2014</td>\n",
       "      <td>5/25/2014</td>\n",
       "    </tr>\n",
       "    <tr>\n",
       "      <th>...</th>\n",
       "      <td>...</td>\n",
       "      <td>...</td>\n",
       "      <td>...</td>\n",
       "    </tr>\n",
       "    <tr>\n",
       "      <th>258</th>\n",
       "      <td>Illinois</td>\n",
       "      <td>8/6/2000</td>\n",
       "      <td>8/7/2000</td>\n",
       "    </tr>\n",
       "    <tr>\n",
       "      <th>259</th>\n",
       "      <td>North Carolina</td>\n",
       "      <td>5/25/2000</td>\n",
       "      <td>6/2/2000</td>\n",
       "    </tr>\n",
       "    <tr>\n",
       "      <th>260</th>\n",
       "      <td>Texas</td>\n",
       "      <td>5/24/2000</td>\n",
       "      <td>5/25/2000</td>\n",
       "    </tr>\n",
       "    <tr>\n",
       "      <th>261</th>\n",
       "      <td>New York</td>\n",
       "      <td>5/9/2000</td>\n",
       "      <td>5/9/2000</td>\n",
       "    </tr>\n",
       "    <tr>\n",
       "      <th>262</th>\n",
       "      <td>Texas</td>\n",
       "      <td>3/18/2000</td>\n",
       "      <td>3/18/2000</td>\n",
       "    </tr>\n",
       "  </tbody>\n",
       "</table>\n",
       "<p>263 rows × 3 columns</p>\n",
       "</div>"
      ],
      "text/plain": [
       "    Geographic Areas Date Event Began Date of Restoration\n",
       "0           Illinois        6/30/2014            7/2/2014\n",
       "1            Alberta         6/9/2014            6/9/2014\n",
       "2            Alberta         6/3/2014            6/3/2014\n",
       "3              Texas         6/3/2014            6/3/2014\n",
       "4     North Carolina        5/23/2014           5/25/2014\n",
       "..               ...              ...                 ...\n",
       "258         Illinois         8/6/2000            8/7/2000\n",
       "259   North Carolina        5/25/2000            6/2/2000\n",
       "260            Texas        5/24/2000           5/25/2000\n",
       "261         New York         5/9/2000            5/9/2000\n",
       "262            Texas        3/18/2000           3/18/2000\n",
       "\n",
       "[263 rows x 3 columns]"
      ]
     },
     "execution_count": 102,
     "metadata": {},
     "output_type": "execute_result"
    }
   ],
   "source": [
    "\n",
    "temp_df.reset_index(drop=True, inplace=True)\n",
    "\n",
    "t = temp_df.head(len(temp_df))\n",
    "t"
   ]
  },
  {
   "cell_type": "code",
   "execution_count": 177,
   "id": "5e2a649b",
   "metadata": {},
   "outputs": [
    {
     "name": "stdout",
     "output_type": "stream",
     "text": [
      "0\n",
      "Illinois\n",
      "\n",
      "\n",
      "Retrieving weather data for Illinois\n",
      "\n",
      "\n",
      "Currently retrieving data for Illinois: from 2014-06-30 to 2014-06-30\n"
     ]
    },
    {
     "name": "stderr",
     "output_type": "stream",
     "text": [
      "C:\\Users\\Heliiix\\anaconda3\\Lib\\site-packages\\wwo_hist\\__init__.py:69: FutureWarning: Argument `closed` is deprecated in favor of `inclusive`.\n",
      "  list_mon_begin = pd.date_range(start_date, end_date, freq='MS', closed='right')\n",
      "C:\\Users\\Heliiix\\anaconda3\\Lib\\site-packages\\wwo_hist\\__init__.py:74: FutureWarning: Argument `closed` is deprecated in favor of `inclusive`.\n",
      "  list_mon_end = pd.date_range(start_date, end_date, freq='M', closed='left')\n"
     ]
    },
    {
     "name": "stdout",
     "output_type": "stream",
     "text": [
      "Time elapsed (hh:mm:ss.ms) 0:00:00.436682\n",
      "Currently retrieving data for Illinois: from 2014-07-01 to 2014-07-02\n",
      "Time elapsed (hh:mm:ss.ms) 0:00:00.708249\n",
      "\n",
      "\n",
      "export Illinois completed!\n",
      "\n",
      "\n",
      "1\n",
      "Alberta\n",
      "\n",
      "\n",
      "Retrieving weather data for Alberta\n",
      "\n",
      "\n",
      "Currently retrieving data for Alberta: from 2014-06-09 to 2014-06-09\n"
     ]
    },
    {
     "name": "stderr",
     "output_type": "stream",
     "text": [
      "C:\\Users\\Heliiix\\anaconda3\\Lib\\site-packages\\wwo_hist\\__init__.py:69: FutureWarning: Argument `closed` is deprecated in favor of `inclusive`.\n",
      "  list_mon_begin = pd.date_range(start_date, end_date, freq='MS', closed='right')\n",
      "C:\\Users\\Heliiix\\anaconda3\\Lib\\site-packages\\wwo_hist\\__init__.py:74: FutureWarning: Argument `closed` is deprecated in favor of `inclusive`.\n",
      "  list_mon_end = pd.date_range(start_date, end_date, freq='M', closed='left')\n"
     ]
    },
    {
     "name": "stdout",
     "output_type": "stream",
     "text": [
      "Time elapsed (hh:mm:ss.ms) 0:00:00.273881\n",
      "\n",
      "\n",
      "export Alberta completed!\n",
      "\n",
      "\n",
      "2\n",
      "Alberta\n",
      "\n",
      "\n",
      "Retrieving weather data for Alberta\n",
      "\n",
      "\n",
      "Currently retrieving data for Alberta: from 2014-06-03 to 2014-06-03\n"
     ]
    },
    {
     "name": "stderr",
     "output_type": "stream",
     "text": [
      "C:\\Users\\Heliiix\\anaconda3\\Lib\\site-packages\\wwo_hist\\__init__.py:69: FutureWarning: Argument `closed` is deprecated in favor of `inclusive`.\n",
      "  list_mon_begin = pd.date_range(start_date, end_date, freq='MS', closed='right')\n",
      "C:\\Users\\Heliiix\\anaconda3\\Lib\\site-packages\\wwo_hist\\__init__.py:74: FutureWarning: Argument `closed` is deprecated in favor of `inclusive`.\n",
      "  list_mon_end = pd.date_range(start_date, end_date, freq='M', closed='left')\n"
     ]
    },
    {
     "name": "stdout",
     "output_type": "stream",
     "text": [
      "Time elapsed (hh:mm:ss.ms) 0:00:00.259270\n",
      "\n",
      "\n",
      "export Alberta completed!\n",
      "\n",
      "\n",
      "3\n",
      "Texas\n",
      "\n",
      "\n",
      "Retrieving weather data for Texas\n",
      "\n",
      "\n",
      "Currently retrieving data for Texas: from 2014-06-03 to 2014-06-03\n"
     ]
    },
    {
     "name": "stderr",
     "output_type": "stream",
     "text": [
      "C:\\Users\\Heliiix\\anaconda3\\Lib\\site-packages\\wwo_hist\\__init__.py:69: FutureWarning: Argument `closed` is deprecated in favor of `inclusive`.\n",
      "  list_mon_begin = pd.date_range(start_date, end_date, freq='MS', closed='right')\n",
      "C:\\Users\\Heliiix\\anaconda3\\Lib\\site-packages\\wwo_hist\\__init__.py:74: FutureWarning: Argument `closed` is deprecated in favor of `inclusive`.\n",
      "  list_mon_end = pd.date_range(start_date, end_date, freq='M', closed='left')\n"
     ]
    },
    {
     "name": "stdout",
     "output_type": "stream",
     "text": [
      "Time elapsed (hh:mm:ss.ms) 0:00:03.251348\n",
      "\n",
      "\n",
      "export Texas completed!\n",
      "\n",
      "\n",
      "4\n",
      "North%20Carolina\n",
      "\n",
      "\n",
      "Retrieving weather data for North%20Carolina\n",
      "\n",
      "\n",
      "Currently retrieving data for North%20Carolina: from 2014-05-23 to 2014-05-25\n"
     ]
    },
    {
     "name": "stderr",
     "output_type": "stream",
     "text": [
      "C:\\Users\\Heliiix\\anaconda3\\Lib\\site-packages\\wwo_hist\\__init__.py:69: FutureWarning: Argument `closed` is deprecated in favor of `inclusive`.\n",
      "  list_mon_begin = pd.date_range(start_date, end_date, freq='MS', closed='right')\n",
      "C:\\Users\\Heliiix\\anaconda3\\Lib\\site-packages\\wwo_hist\\__init__.py:74: FutureWarning: Argument `closed` is deprecated in favor of `inclusive`.\n",
      "  list_mon_end = pd.date_range(start_date, end_date, freq='M', closed='left')\n"
     ]
    },
    {
     "name": "stdout",
     "output_type": "stream",
     "text": [
      "Time elapsed (hh:mm:ss.ms) 0:00:00.293366\n",
      "\n",
      "\n",
      "export North%20Carolina completed!\n",
      "\n",
      "\n",
      "5\n",
      "Alberta\n",
      "\n",
      "\n",
      "Retrieving weather data for Alberta\n",
      "\n",
      "\n",
      "Currently retrieving data for Alberta: from 2014-04-24 to 2014-04-24\n"
     ]
    },
    {
     "name": "stderr",
     "output_type": "stream",
     "text": [
      "C:\\Users\\Heliiix\\anaconda3\\Lib\\site-packages\\wwo_hist\\__init__.py:69: FutureWarning: Argument `closed` is deprecated in favor of `inclusive`.\n",
      "  list_mon_begin = pd.date_range(start_date, end_date, freq='MS', closed='right')\n",
      "C:\\Users\\Heliiix\\anaconda3\\Lib\\site-packages\\wwo_hist\\__init__.py:74: FutureWarning: Argument `closed` is deprecated in favor of `inclusive`.\n",
      "  list_mon_end = pd.date_range(start_date, end_date, freq='M', closed='left')\n"
     ]
    },
    {
     "name": "stdout",
     "output_type": "stream",
     "text": [
      "Time elapsed (hh:mm:ss.ms) 0:00:03.254652\n",
      "\n",
      "\n",
      "export Alberta completed!\n",
      "\n",
      "\n",
      "6\n",
      "Michigan\n",
      "\n",
      "\n",
      "Retrieving weather data for Michigan\n",
      "\n",
      "\n",
      "Currently retrieving data for Michigan: from 2014-04-12 to 2014-04-15\n"
     ]
    },
    {
     "name": "stderr",
     "output_type": "stream",
     "text": [
      "C:\\Users\\Heliiix\\anaconda3\\Lib\\site-packages\\wwo_hist\\__init__.py:69: FutureWarning: Argument `closed` is deprecated in favor of `inclusive`.\n",
      "  list_mon_begin = pd.date_range(start_date, end_date, freq='MS', closed='right')\n",
      "C:\\Users\\Heliiix\\anaconda3\\Lib\\site-packages\\wwo_hist\\__init__.py:74: FutureWarning: Argument `closed` is deprecated in favor of `inclusive`.\n",
      "  list_mon_end = pd.date_range(start_date, end_date, freq='M', closed='left')\n"
     ]
    },
    {
     "name": "stdout",
     "output_type": "stream",
     "text": [
      "Time elapsed (hh:mm:ss.ms) 0:00:00.294638\n",
      "\n",
      "\n",
      "export Michigan completed!\n",
      "\n",
      "\n",
      "7\n",
      "New%20York\n",
      "\n",
      "\n",
      "Retrieving weather data for New%20York\n",
      "\n",
      "\n",
      "Currently retrieving data for New%20York: from 2014-03-20 to 2014-03-20\n"
     ]
    },
    {
     "name": "stderr",
     "output_type": "stream",
     "text": [
      "C:\\Users\\Heliiix\\anaconda3\\Lib\\site-packages\\wwo_hist\\__init__.py:69: FutureWarning: Argument `closed` is deprecated in favor of `inclusive`.\n",
      "  list_mon_begin = pd.date_range(start_date, end_date, freq='MS', closed='right')\n",
      "C:\\Users\\Heliiix\\anaconda3\\Lib\\site-packages\\wwo_hist\\__init__.py:74: FutureWarning: Argument `closed` is deprecated in favor of `inclusive`.\n",
      "  list_mon_end = pd.date_range(start_date, end_date, freq='M', closed='left')\n"
     ]
    },
    {
     "name": "stdout",
     "output_type": "stream",
     "text": [
      "Time elapsed (hh:mm:ss.ms) 0:00:00.248115\n",
      "\n",
      "\n",
      "export New%20York completed!\n",
      "\n",
      "\n",
      "8\n",
      "North%20Carolina\n",
      "\n",
      "\n",
      "Retrieving weather data for North%20Carolina\n",
      "\n",
      "\n",
      "Currently retrieving data for North%20Carolina: from 2014-03-12 to 2014-03-13\n"
     ]
    },
    {
     "name": "stderr",
     "output_type": "stream",
     "text": [
      "C:\\Users\\Heliiix\\anaconda3\\Lib\\site-packages\\wwo_hist\\__init__.py:69: FutureWarning: Argument `closed` is deprecated in favor of `inclusive`.\n",
      "  list_mon_begin = pd.date_range(start_date, end_date, freq='MS', closed='right')\n",
      "C:\\Users\\Heliiix\\anaconda3\\Lib\\site-packages\\wwo_hist\\__init__.py:74: FutureWarning: Argument `closed` is deprecated in favor of `inclusive`.\n",
      "  list_mon_end = pd.date_range(start_date, end_date, freq='M', closed='left')\n"
     ]
    },
    {
     "name": "stdout",
     "output_type": "stream",
     "text": [
      "Time elapsed (hh:mm:ss.ms) 0:00:00.274300\n",
      "\n",
      "\n",
      "export North%20Carolina completed!\n",
      "\n",
      "\n",
      "9\n",
      "New%20York\n",
      "\n",
      "\n",
      "Retrieving weather data for New%20York\n",
      "\n",
      "\n",
      "Currently retrieving data for New%20York: from 2014-03-03 to 2014-03-03\n"
     ]
    },
    {
     "name": "stderr",
     "output_type": "stream",
     "text": [
      "C:\\Users\\Heliiix\\anaconda3\\Lib\\site-packages\\wwo_hist\\__init__.py:69: FutureWarning: Argument `closed` is deprecated in favor of `inclusive`.\n",
      "  list_mon_begin = pd.date_range(start_date, end_date, freq='MS', closed='right')\n",
      "C:\\Users\\Heliiix\\anaconda3\\Lib\\site-packages\\wwo_hist\\__init__.py:74: FutureWarning: Argument `closed` is deprecated in favor of `inclusive`.\n",
      "  list_mon_end = pd.date_range(start_date, end_date, freq='M', closed='left')\n"
     ]
    },
    {
     "name": "stdout",
     "output_type": "stream",
     "text": [
      "Time elapsed (hh:mm:ss.ms) 0:00:00.242062\n",
      "\n",
      "\n",
      "export New%20York completed!\n",
      "\n",
      "\n",
      "10\n",
      "North%20Carolina\n",
      "\n",
      "\n",
      "Retrieving weather data for North%20Carolina\n",
      "\n",
      "\n",
      "Currently retrieving data for North%20Carolina: from 2014-02-12 to 2014-02-15\n"
     ]
    },
    {
     "name": "stderr",
     "output_type": "stream",
     "text": [
      "C:\\Users\\Heliiix\\anaconda3\\Lib\\site-packages\\wwo_hist\\__init__.py:69: FutureWarning: Argument `closed` is deprecated in favor of `inclusive`.\n",
      "  list_mon_begin = pd.date_range(start_date, end_date, freq='MS', closed='right')\n",
      "C:\\Users\\Heliiix\\anaconda3\\Lib\\site-packages\\wwo_hist\\__init__.py:74: FutureWarning: Argument `closed` is deprecated in favor of `inclusive`.\n",
      "  list_mon_end = pd.date_range(start_date, end_date, freq='M', closed='left')\n"
     ]
    },
    {
     "name": "stdout",
     "output_type": "stream",
     "text": [
      "Time elapsed (hh:mm:ss.ms) 0:00:00.930641\n",
      "\n",
      "\n",
      "export North%20Carolina completed!\n",
      "\n",
      "\n",
      "11\n",
      "Texas\n",
      "\n",
      "\n",
      "Retrieving weather data for Texas\n",
      "\n",
      "\n",
      "Currently retrieving data for Texas: from 2014-02-07 to 2014-02-07\n"
     ]
    },
    {
     "name": "stderr",
     "output_type": "stream",
     "text": [
      "C:\\Users\\Heliiix\\anaconda3\\Lib\\site-packages\\wwo_hist\\__init__.py:69: FutureWarning: Argument `closed` is deprecated in favor of `inclusive`.\n",
      "  list_mon_begin = pd.date_range(start_date, end_date, freq='MS', closed='right')\n",
      "C:\\Users\\Heliiix\\anaconda3\\Lib\\site-packages\\wwo_hist\\__init__.py:74: FutureWarning: Argument `closed` is deprecated in favor of `inclusive`.\n",
      "  list_mon_end = pd.date_range(start_date, end_date, freq='M', closed='left')\n"
     ]
    },
    {
     "name": "stdout",
     "output_type": "stream",
     "text": [
      "Time elapsed (hh:mm:ss.ms) 0:00:00.265457\n",
      "\n",
      "\n",
      "export Texas completed!\n",
      "\n",
      "\n",
      "12\n",
      "California\n",
      "\n",
      "\n",
      "Retrieving weather data for California\n",
      "\n",
      "\n",
      "Currently retrieving data for California: from 2014-02-06 to 2014-02-06\n"
     ]
    },
    {
     "name": "stderr",
     "output_type": "stream",
     "text": [
      "C:\\Users\\Heliiix\\anaconda3\\Lib\\site-packages\\wwo_hist\\__init__.py:69: FutureWarning: Argument `closed` is deprecated in favor of `inclusive`.\n",
      "  list_mon_begin = pd.date_range(start_date, end_date, freq='MS', closed='right')\n",
      "C:\\Users\\Heliiix\\anaconda3\\Lib\\site-packages\\wwo_hist\\__init__.py:74: FutureWarning: Argument `closed` is deprecated in favor of `inclusive`.\n",
      "  list_mon_end = pd.date_range(start_date, end_date, freq='M', closed='left')\n"
     ]
    },
    {
     "name": "stdout",
     "output_type": "stream",
     "text": [
      "Time elapsed (hh:mm:ss.ms) 0:00:00.243204\n",
      "\n",
      "\n",
      "export California completed!\n",
      "\n",
      "\n",
      "13\n",
      "California\n",
      "\n",
      "\n",
      "Retrieving weather data for California\n",
      "\n",
      "\n",
      "Currently retrieving data for California: from 2014-02-06 to 2014-02-06\n"
     ]
    },
    {
     "name": "stderr",
     "output_type": "stream",
     "text": [
      "C:\\Users\\Heliiix\\anaconda3\\Lib\\site-packages\\wwo_hist\\__init__.py:69: FutureWarning: Argument `closed` is deprecated in favor of `inclusive`.\n",
      "  list_mon_begin = pd.date_range(start_date, end_date, freq='MS', closed='right')\n",
      "C:\\Users\\Heliiix\\anaconda3\\Lib\\site-packages\\wwo_hist\\__init__.py:74: FutureWarning: Argument `closed` is deprecated in favor of `inclusive`.\n",
      "  list_mon_end = pd.date_range(start_date, end_date, freq='M', closed='left')\n"
     ]
    },
    {
     "name": "stdout",
     "output_type": "stream",
     "text": [
      "Time elapsed (hh:mm:ss.ms) 0:00:00.208648\n",
      "\n",
      "\n",
      "export California completed!\n",
      "\n",
      "\n",
      "14\n",
      "Northern%20California\n",
      "\n",
      "\n",
      "Retrieving weather data for Northern%20California\n",
      "\n",
      "\n",
      "Currently retrieving data for Northern%20California: from 2014-02-06 to 2014-02-06\n"
     ]
    },
    {
     "name": "stderr",
     "output_type": "stream",
     "text": [
      "C:\\Users\\Heliiix\\anaconda3\\Lib\\site-packages\\wwo_hist\\__init__.py:69: FutureWarning: Argument `closed` is deprecated in favor of `inclusive`.\n",
      "  list_mon_begin = pd.date_range(start_date, end_date, freq='MS', closed='right')\n",
      "C:\\Users\\Heliiix\\anaconda3\\Lib\\site-packages\\wwo_hist\\__init__.py:74: FutureWarning: Argument `closed` is deprecated in favor of `inclusive`.\n",
      "  list_mon_end = pd.date_range(start_date, end_date, freq='M', closed='left')\n"
     ]
    },
    {
     "name": "stdout",
     "output_type": "stream",
     "text": [
      "Time elapsed (hh:mm:ss.ms) 0:00:00.254116\n",
      "\n",
      "\n",
      "export Northern%20California completed!\n",
      "\n",
      "\n",
      "15\n",
      "Pennsylvania\n",
      "\n",
      "\n",
      "Retrieving weather data for Pennsylvania\n",
      "\n",
      "\n",
      "Currently retrieving data for Pennsylvania: from 2014-02-05 to 2014-02-09\n"
     ]
    },
    {
     "name": "stderr",
     "output_type": "stream",
     "text": [
      "C:\\Users\\Heliiix\\anaconda3\\Lib\\site-packages\\wwo_hist\\__init__.py:69: FutureWarning: Argument `closed` is deprecated in favor of `inclusive`.\n",
      "  list_mon_begin = pd.date_range(start_date, end_date, freq='MS', closed='right')\n",
      "C:\\Users\\Heliiix\\anaconda3\\Lib\\site-packages\\wwo_hist\\__init__.py:74: FutureWarning: Argument `closed` is deprecated in favor of `inclusive`.\n",
      "  list_mon_end = pd.date_range(start_date, end_date, freq='M', closed='left')\n"
     ]
    },
    {
     "name": "stdout",
     "output_type": "stream",
     "text": [
      "Time elapsed (hh:mm:ss.ms) 0:00:00.305649\n",
      "\n",
      "\n",
      "export Pennsylvania completed!\n",
      "\n",
      "\n",
      "16\n",
      "New%20York\n",
      "\n",
      "\n",
      "Retrieving weather data for New%20York\n",
      "\n",
      "\n",
      "Currently retrieving data for New%20York: from 2014-02-05 to 2014-02-23\n"
     ]
    },
    {
     "name": "stderr",
     "output_type": "stream",
     "text": [
      "C:\\Users\\Heliiix\\anaconda3\\Lib\\site-packages\\wwo_hist\\__init__.py:69: FutureWarning: Argument `closed` is deprecated in favor of `inclusive`.\n",
      "  list_mon_begin = pd.date_range(start_date, end_date, freq='MS', closed='right')\n",
      "C:\\Users\\Heliiix\\anaconda3\\Lib\\site-packages\\wwo_hist\\__init__.py:74: FutureWarning: Argument `closed` is deprecated in favor of `inclusive`.\n",
      "  list_mon_end = pd.date_range(start_date, end_date, freq='M', closed='left')\n"
     ]
    },
    {
     "name": "stdout",
     "output_type": "stream",
     "text": [
      "Time elapsed (hh:mm:ss.ms) 0:00:01.565025\n",
      "\n",
      "\n",
      "export New%20York completed!\n",
      "\n",
      "\n",
      "17\n",
      "Pennsylvania\n",
      "\n",
      "\n",
      "Retrieving weather data for Pennsylvania\n",
      "\n",
      "\n",
      "Currently retrieving data for Pennsylvania: from 2014-02-05 to 2014-02-05\n"
     ]
    },
    {
     "name": "stderr",
     "output_type": "stream",
     "text": [
      "C:\\Users\\Heliiix\\anaconda3\\Lib\\site-packages\\wwo_hist\\__init__.py:69: FutureWarning: Argument `closed` is deprecated in favor of `inclusive`.\n",
      "  list_mon_begin = pd.date_range(start_date, end_date, freq='MS', closed='right')\n",
      "C:\\Users\\Heliiix\\anaconda3\\Lib\\site-packages\\wwo_hist\\__init__.py:74: FutureWarning: Argument `closed` is deprecated in favor of `inclusive`.\n",
      "  list_mon_end = pd.date_range(start_date, end_date, freq='M', closed='left')\n"
     ]
    },
    {
     "name": "stdout",
     "output_type": "stream",
     "text": [
      "Time elapsed (hh:mm:ss.ms) 0:00:00.265627\n",
      "\n",
      "\n",
      "export Pennsylvania completed!\n",
      "\n",
      "\n",
      "18\n",
      "Ohio\n",
      "\n",
      "\n",
      "Retrieving weather data for Ohio\n",
      "\n",
      "\n",
      "Currently retrieving data for Ohio: from 2014-01-22 to 2014-01-22\n"
     ]
    },
    {
     "name": "stderr",
     "output_type": "stream",
     "text": [
      "C:\\Users\\Heliiix\\anaconda3\\Lib\\site-packages\\wwo_hist\\__init__.py:69: FutureWarning: Argument `closed` is deprecated in favor of `inclusive`.\n",
      "  list_mon_begin = pd.date_range(start_date, end_date, freq='MS', closed='right')\n",
      "C:\\Users\\Heliiix\\anaconda3\\Lib\\site-packages\\wwo_hist\\__init__.py:74: FutureWarning: Argument `closed` is deprecated in favor of `inclusive`.\n",
      "  list_mon_end = pd.date_range(start_date, end_date, freq='M', closed='left')\n"
     ]
    },
    {
     "name": "stdout",
     "output_type": "stream",
     "text": [
      "Time elapsed (hh:mm:ss.ms) 0:00:00.243443\n",
      "\n",
      "\n",
      "export Ohio completed!\n",
      "\n",
      "\n",
      "19\n",
      "Texas\n",
      "\n",
      "\n",
      "Retrieving weather data for Texas\n",
      "\n",
      "\n",
      "Currently retrieving data for Texas: from 2014-01-18 to 2014-01-18\n"
     ]
    },
    {
     "name": "stderr",
     "output_type": "stream",
     "text": [
      "C:\\Users\\Heliiix\\anaconda3\\Lib\\site-packages\\wwo_hist\\__init__.py:69: FutureWarning: Argument `closed` is deprecated in favor of `inclusive`.\n",
      "  list_mon_begin = pd.date_range(start_date, end_date, freq='MS', closed='right')\n",
      "C:\\Users\\Heliiix\\anaconda3\\Lib\\site-packages\\wwo_hist\\__init__.py:74: FutureWarning: Argument `closed` is deprecated in favor of `inclusive`.\n",
      "  list_mon_end = pd.date_range(start_date, end_date, freq='M', closed='left')\n"
     ]
    },
    {
     "name": "stdout",
     "output_type": "stream",
     "text": [
      "Time elapsed (hh:mm:ss.ms) 0:00:00.262847\n",
      "\n",
      "\n",
      "export Texas completed!\n",
      "\n",
      "\n",
      "20\n",
      "Ohio\n",
      "\n",
      "\n",
      "Retrieving weather data for Ohio\n",
      "\n",
      "\n",
      "Currently retrieving data for Ohio: from 2014-01-17 to 2014-01-17\n"
     ]
    },
    {
     "name": "stderr",
     "output_type": "stream",
     "text": [
      "C:\\Users\\Heliiix\\anaconda3\\Lib\\site-packages\\wwo_hist\\__init__.py:69: FutureWarning: Argument `closed` is deprecated in favor of `inclusive`.\n",
      "  list_mon_begin = pd.date_range(start_date, end_date, freq='MS', closed='right')\n",
      "C:\\Users\\Heliiix\\anaconda3\\Lib\\site-packages\\wwo_hist\\__init__.py:74: FutureWarning: Argument `closed` is deprecated in favor of `inclusive`.\n",
      "  list_mon_end = pd.date_range(start_date, end_date, freq='M', closed='left')\n"
     ]
    },
    {
     "name": "stdout",
     "output_type": "stream",
     "text": [
      "Time elapsed (hh:mm:ss.ms) 0:00:01.260295\n",
      "\n",
      "\n",
      "export Ohio completed!\n",
      "\n",
      "\n",
      "21\n",
      "North%20Carolina\n",
      "\n",
      "\n",
      "Retrieving weather data for North%20Carolina\n",
      "\n",
      "\n",
      "Currently retrieving data for North%20Carolina: from 2014-01-07 to 2014-01-08\n"
     ]
    },
    {
     "name": "stderr",
     "output_type": "stream",
     "text": [
      "C:\\Users\\Heliiix\\anaconda3\\Lib\\site-packages\\wwo_hist\\__init__.py:69: FutureWarning: Argument `closed` is deprecated in favor of `inclusive`.\n",
      "  list_mon_begin = pd.date_range(start_date, end_date, freq='MS', closed='right')\n",
      "C:\\Users\\Heliiix\\anaconda3\\Lib\\site-packages\\wwo_hist\\__init__.py:74: FutureWarning: Argument `closed` is deprecated in favor of `inclusive`.\n",
      "  list_mon_end = pd.date_range(start_date, end_date, freq='M', closed='left')\n"
     ]
    },
    {
     "name": "stdout",
     "output_type": "stream",
     "text": [
      "Time elapsed (hh:mm:ss.ms) 0:00:00.257491\n",
      "\n",
      "\n",
      "export North%20Carolina completed!\n",
      "\n",
      "\n",
      "22\n",
      "North%20Carolina\n",
      "\n",
      "\n",
      "Retrieving weather data for North%20Carolina\n",
      "\n",
      "\n",
      "Currently retrieving data for North%20Carolina: from 2014-01-07 to 2014-01-07\n"
     ]
    },
    {
     "name": "stderr",
     "output_type": "stream",
     "text": [
      "C:\\Users\\Heliiix\\anaconda3\\Lib\\site-packages\\wwo_hist\\__init__.py:69: FutureWarning: Argument `closed` is deprecated in favor of `inclusive`.\n",
      "  list_mon_begin = pd.date_range(start_date, end_date, freq='MS', closed='right')\n",
      "C:\\Users\\Heliiix\\anaconda3\\Lib\\site-packages\\wwo_hist\\__init__.py:74: FutureWarning: Argument `closed` is deprecated in favor of `inclusive`.\n",
      "  list_mon_end = pd.date_range(start_date, end_date, freq='M', closed='left')\n"
     ]
    },
    {
     "name": "stdout",
     "output_type": "stream",
     "text": [
      "Time elapsed (hh:mm:ss.ms) 0:00:00.244457\n",
      "\n",
      "\n",
      "export North%20Carolina completed!\n",
      "\n",
      "\n",
      "23\n",
      "Illinois\n",
      "\n",
      "\n",
      "Retrieving weather data for Illinois\n",
      "\n",
      "\n",
      "Currently retrieving data for Illinois: from 2014-01-07 to 2014-01-09\n"
     ]
    },
    {
     "name": "stderr",
     "output_type": "stream",
     "text": [
      "C:\\Users\\Heliiix\\anaconda3\\Lib\\site-packages\\wwo_hist\\__init__.py:69: FutureWarning: Argument `closed` is deprecated in favor of `inclusive`.\n",
      "  list_mon_begin = pd.date_range(start_date, end_date, freq='MS', closed='right')\n",
      "C:\\Users\\Heliiix\\anaconda3\\Lib\\site-packages\\wwo_hist\\__init__.py:74: FutureWarning: Argument `closed` is deprecated in favor of `inclusive`.\n",
      "  list_mon_end = pd.date_range(start_date, end_date, freq='M', closed='left')\n"
     ]
    },
    {
     "name": "stdout",
     "output_type": "stream",
     "text": [
      "Time elapsed (hh:mm:ss.ms) 0:00:01.287928\n",
      "\n",
      "\n",
      "export Illinois completed!\n",
      "\n",
      "\n",
      "24\n",
      "Pennsylvania\n",
      "\n",
      "\n",
      "Retrieving weather data for Pennsylvania\n",
      "\n",
      "\n",
      "Currently retrieving data for Pennsylvania: from 2014-01-07 to 2014-01-07\n"
     ]
    },
    {
     "name": "stderr",
     "output_type": "stream",
     "text": [
      "C:\\Users\\Heliiix\\anaconda3\\Lib\\site-packages\\wwo_hist\\__init__.py:69: FutureWarning: Argument `closed` is deprecated in favor of `inclusive`.\n",
      "  list_mon_begin = pd.date_range(start_date, end_date, freq='MS', closed='right')\n",
      "C:\\Users\\Heliiix\\anaconda3\\Lib\\site-packages\\wwo_hist\\__init__.py:74: FutureWarning: Argument `closed` is deprecated in favor of `inclusive`.\n",
      "  list_mon_end = pd.date_range(start_date, end_date, freq='M', closed='left')\n"
     ]
    },
    {
     "name": "stdout",
     "output_type": "stream",
     "text": [
      "Time elapsed (hh:mm:ss.ms) 0:00:00.255447\n",
      "\n",
      "\n",
      "export Pennsylvania completed!\n",
      "\n",
      "\n",
      "25\n",
      "Pennsylvania\n",
      "\n",
      "\n",
      "Retrieving weather data for Pennsylvania\n",
      "\n",
      "\n",
      "Currently retrieving data for Pennsylvania: from 2014-01-06 to 2014-01-06\n"
     ]
    },
    {
     "name": "stderr",
     "output_type": "stream",
     "text": [
      "C:\\Users\\Heliiix\\anaconda3\\Lib\\site-packages\\wwo_hist\\__init__.py:69: FutureWarning: Argument `closed` is deprecated in favor of `inclusive`.\n",
      "  list_mon_begin = pd.date_range(start_date, end_date, freq='MS', closed='right')\n",
      "C:\\Users\\Heliiix\\anaconda3\\Lib\\site-packages\\wwo_hist\\__init__.py:74: FutureWarning: Argument `closed` is deprecated in favor of `inclusive`.\n",
      "  list_mon_end = pd.date_range(start_date, end_date, freq='M', closed='left')\n"
     ]
    },
    {
     "name": "stdout",
     "output_type": "stream",
     "text": [
      "Time elapsed (hh:mm:ss.ms) 0:00:00.238384\n",
      "\n",
      "\n",
      "export Pennsylvania completed!\n",
      "\n",
      "\n",
      "26\n",
      "Pennsylvania\n",
      "\n",
      "\n",
      "Retrieving weather data for Pennsylvania\n",
      "\n",
      "\n",
      "Currently retrieving data for Pennsylvania: from 2014-01-06 to 2014-01-06\n"
     ]
    },
    {
     "name": "stderr",
     "output_type": "stream",
     "text": [
      "C:\\Users\\Heliiix\\anaconda3\\Lib\\site-packages\\wwo_hist\\__init__.py:69: FutureWarning: Argument `closed` is deprecated in favor of `inclusive`.\n",
      "  list_mon_begin = pd.date_range(start_date, end_date, freq='MS', closed='right')\n",
      "C:\\Users\\Heliiix\\anaconda3\\Lib\\site-packages\\wwo_hist\\__init__.py:74: FutureWarning: Argument `closed` is deprecated in favor of `inclusive`.\n",
      "  list_mon_end = pd.date_range(start_date, end_date, freq='M', closed='left')\n"
     ]
    },
    {
     "name": "stdout",
     "output_type": "stream",
     "text": [
      "Time elapsed (hh:mm:ss.ms) 0:00:00.238579\n",
      "\n",
      "\n",
      "export Pennsylvania completed!\n",
      "\n",
      "\n",
      "27\n",
      "Texas\n",
      "\n",
      "\n",
      "Retrieving weather data for Texas\n",
      "\n",
      "\n",
      "Currently retrieving data for Texas: from 2014-01-06 to 2014-01-07\n"
     ]
    },
    {
     "name": "stderr",
     "output_type": "stream",
     "text": [
      "C:\\Users\\Heliiix\\anaconda3\\Lib\\site-packages\\wwo_hist\\__init__.py:69: FutureWarning: Argument `closed` is deprecated in favor of `inclusive`.\n",
      "  list_mon_begin = pd.date_range(start_date, end_date, freq='MS', closed='right')\n",
      "C:\\Users\\Heliiix\\anaconda3\\Lib\\site-packages\\wwo_hist\\__init__.py:74: FutureWarning: Argument `closed` is deprecated in favor of `inclusive`.\n",
      "  list_mon_end = pd.date_range(start_date, end_date, freq='M', closed='left')\n"
     ]
    },
    {
     "name": "stdout",
     "output_type": "stream",
     "text": [
      "Time elapsed (hh:mm:ss.ms) 0:00:01.279071\n",
      "\n",
      "\n",
      "export Texas completed!\n",
      "\n",
      "\n",
      "28\n",
      "Michigan\n",
      "\n",
      "\n",
      "Retrieving weather data for Michigan\n",
      "\n",
      "\n",
      "Currently retrieving data for Michigan: from 2013-12-22 to 2013-12-25\n"
     ]
    },
    {
     "name": "stderr",
     "output_type": "stream",
     "text": [
      "C:\\Users\\Heliiix\\anaconda3\\Lib\\site-packages\\wwo_hist\\__init__.py:69: FutureWarning: Argument `closed` is deprecated in favor of `inclusive`.\n",
      "  list_mon_begin = pd.date_range(start_date, end_date, freq='MS', closed='right')\n",
      "C:\\Users\\Heliiix\\anaconda3\\Lib\\site-packages\\wwo_hist\\__init__.py:74: FutureWarning: Argument `closed` is deprecated in favor of `inclusive`.\n",
      "  list_mon_end = pd.date_range(start_date, end_date, freq='M', closed='left')\n"
     ]
    },
    {
     "name": "stdout",
     "output_type": "stream",
     "text": [
      "Time elapsed (hh:mm:ss.ms) 0:00:00.282216\n",
      "\n",
      "\n",
      "export Michigan completed!\n",
      "\n",
      "\n",
      "29\n",
      "Texas\n",
      "\n",
      "\n",
      "Retrieving weather data for Texas\n",
      "\n",
      "\n",
      "Currently retrieving data for Texas: from 2013-12-13 to 2013-12-27\n"
     ]
    },
    {
     "name": "stderr",
     "output_type": "stream",
     "text": [
      "C:\\Users\\Heliiix\\anaconda3\\Lib\\site-packages\\wwo_hist\\__init__.py:69: FutureWarning: Argument `closed` is deprecated in favor of `inclusive`.\n",
      "  list_mon_begin = pd.date_range(start_date, end_date, freq='MS', closed='right')\n",
      "C:\\Users\\Heliiix\\anaconda3\\Lib\\site-packages\\wwo_hist\\__init__.py:74: FutureWarning: Argument `closed` is deprecated in favor of `inclusive`.\n",
      "  list_mon_end = pd.date_range(start_date, end_date, freq='M', closed='left')\n"
     ]
    },
    {
     "name": "stdout",
     "output_type": "stream",
     "text": [
      "Time elapsed (hh:mm:ss.ms) 0:00:00.504978\n",
      "\n",
      "\n",
      "export Texas completed!\n",
      "\n",
      "\n",
      "30\n",
      "Texas\n",
      "\n",
      "\n",
      "Retrieving weather data for Texas\n",
      "\n",
      "\n",
      "Currently retrieving data for Texas: from 2013-12-13 to 2013-12-27\n"
     ]
    },
    {
     "name": "stderr",
     "output_type": "stream",
     "text": [
      "C:\\Users\\Heliiix\\anaconda3\\Lib\\site-packages\\wwo_hist\\__init__.py:69: FutureWarning: Argument `closed` is deprecated in favor of `inclusive`.\n",
      "  list_mon_begin = pd.date_range(start_date, end_date, freq='MS', closed='right')\n",
      "C:\\Users\\Heliiix\\anaconda3\\Lib\\site-packages\\wwo_hist\\__init__.py:74: FutureWarning: Argument `closed` is deprecated in favor of `inclusive`.\n",
      "  list_mon_end = pd.date_range(start_date, end_date, freq='M', closed='left')\n"
     ]
    },
    {
     "name": "stdout",
     "output_type": "stream",
     "text": [
      "Time elapsed (hh:mm:ss.ms) 0:00:01.505159\n",
      "\n",
      "\n",
      "export Texas completed!\n",
      "\n",
      "\n",
      "31\n",
      "Northern%20California\n",
      "\n",
      "\n",
      "Retrieving weather data for Northern%20California\n",
      "\n",
      "\n",
      "Currently retrieving data for Northern%20California: from 2013-11-21 to 2013-11-22\n"
     ]
    },
    {
     "name": "stderr",
     "output_type": "stream",
     "text": [
      "C:\\Users\\Heliiix\\anaconda3\\Lib\\site-packages\\wwo_hist\\__init__.py:69: FutureWarning: Argument `closed` is deprecated in favor of `inclusive`.\n",
      "  list_mon_begin = pd.date_range(start_date, end_date, freq='MS', closed='right')\n",
      "C:\\Users\\Heliiix\\anaconda3\\Lib\\site-packages\\wwo_hist\\__init__.py:74: FutureWarning: Argument `closed` is deprecated in favor of `inclusive`.\n",
      "  list_mon_end = pd.date_range(start_date, end_date, freq='M', closed='left')\n"
     ]
    },
    {
     "name": "stdout",
     "output_type": "stream",
     "text": [
      "Time elapsed (hh:mm:ss.ms) 0:00:01.284218\n",
      "\n",
      "\n",
      "export Northern%20California completed!\n",
      "\n",
      "\n",
      "32\n",
      "Michigan\n",
      "\n",
      "\n",
      "Retrieving weather data for Michigan\n",
      "\n",
      "\n",
      "Currently retrieving data for Michigan: from 2013-11-17 to 2013-11-20\n"
     ]
    },
    {
     "name": "stderr",
     "output_type": "stream",
     "text": [
      "C:\\Users\\Heliiix\\anaconda3\\Lib\\site-packages\\wwo_hist\\__init__.py:69: FutureWarning: Argument `closed` is deprecated in favor of `inclusive`.\n",
      "  list_mon_begin = pd.date_range(start_date, end_date, freq='MS', closed='right')\n",
      "C:\\Users\\Heliiix\\anaconda3\\Lib\\site-packages\\wwo_hist\\__init__.py:74: FutureWarning: Argument `closed` is deprecated in favor of `inclusive`.\n",
      "  list_mon_end = pd.date_range(start_date, end_date, freq='M', closed='left')\n"
     ]
    },
    {
     "name": "stdout",
     "output_type": "stream",
     "text": [
      "Time elapsed (hh:mm:ss.ms) 0:00:01.276127\n",
      "\n",
      "\n",
      "export Michigan completed!\n",
      "\n",
      "\n",
      "33\n",
      "California\n",
      "\n",
      "\n",
      "Retrieving weather data for California\n",
      "\n",
      "\n",
      "Currently retrieving data for California: from 2013-10-19 to 2013-10-19\n"
     ]
    },
    {
     "name": "stderr",
     "output_type": "stream",
     "text": [
      "C:\\Users\\Heliiix\\anaconda3\\Lib\\site-packages\\wwo_hist\\__init__.py:69: FutureWarning: Argument `closed` is deprecated in favor of `inclusive`.\n",
      "  list_mon_begin = pd.date_range(start_date, end_date, freq='MS', closed='right')\n",
      "C:\\Users\\Heliiix\\anaconda3\\Lib\\site-packages\\wwo_hist\\__init__.py:74: FutureWarning: Argument `closed` is deprecated in favor of `inclusive`.\n",
      "  list_mon_end = pd.date_range(start_date, end_date, freq='M', closed='left')\n"
     ]
    },
    {
     "name": "stdout",
     "output_type": "stream",
     "text": [
      "Time elapsed (hh:mm:ss.ms) 0:00:01.252161\n",
      "\n",
      "\n",
      "export California completed!\n",
      "\n",
      "\n",
      "34\n",
      "Southeastern%20Michigan\n",
      "\n",
      "\n",
      "Retrieving weather data for Southeastern%20Michigan\n",
      "\n",
      "\n",
      "Currently retrieving data for Southeastern%20Michigan: from 2013-09-11 to 2013-09-15\n"
     ]
    },
    {
     "name": "stderr",
     "output_type": "stream",
     "text": [
      "C:\\Users\\Heliiix\\anaconda3\\Lib\\site-packages\\wwo_hist\\__init__.py:69: FutureWarning: Argument `closed` is deprecated in favor of `inclusive`.\n",
      "  list_mon_begin = pd.date_range(start_date, end_date, freq='MS', closed='right')\n",
      "C:\\Users\\Heliiix\\anaconda3\\Lib\\site-packages\\wwo_hist\\__init__.py:74: FutureWarning: Argument `closed` is deprecated in favor of `inclusive`.\n",
      "  list_mon_end = pd.date_range(start_date, end_date, freq='M', closed='left')\n"
     ]
    },
    {
     "name": "stdout",
     "output_type": "stream",
     "text": [
      "Time elapsed (hh:mm:ss.ms) 0:00:03.282663\n",
      "\n",
      "\n",
      "export Southeastern%20Michigan completed!\n",
      "\n",
      "\n",
      "35\n",
      "California\n",
      "\n",
      "\n",
      "Retrieving weather data for California\n",
      "\n",
      "\n",
      "Currently retrieving data for California: from 2013-07-22 to 2013-07-22\n"
     ]
    },
    {
     "name": "stderr",
     "output_type": "stream",
     "text": [
      "C:\\Users\\Heliiix\\anaconda3\\Lib\\site-packages\\wwo_hist\\__init__.py:69: FutureWarning: Argument `closed` is deprecated in favor of `inclusive`.\n",
      "  list_mon_begin = pd.date_range(start_date, end_date, freq='MS', closed='right')\n",
      "C:\\Users\\Heliiix\\anaconda3\\Lib\\site-packages\\wwo_hist\\__init__.py:74: FutureWarning: Argument `closed` is deprecated in favor of `inclusive`.\n",
      "  list_mon_end = pd.date_range(start_date, end_date, freq='M', closed='left')\n"
     ]
    },
    {
     "name": "stdout",
     "output_type": "stream",
     "text": [
      "Time elapsed (hh:mm:ss.ms) 0:00:03.249951\n",
      "\n",
      "\n",
      "export California completed!\n",
      "\n",
      "\n",
      "36\n",
      "New%20York\n",
      "\n",
      "\n",
      "Retrieving weather data for New%20York\n",
      "\n",
      "\n",
      "Currently retrieving data for New%20York: from 2013-07-19 to 2013-07-21\n"
     ]
    },
    {
     "name": "stderr",
     "output_type": "stream",
     "text": [
      "C:\\Users\\Heliiix\\anaconda3\\Lib\\site-packages\\wwo_hist\\__init__.py:69: FutureWarning: Argument `closed` is deprecated in favor of `inclusive`.\n",
      "  list_mon_begin = pd.date_range(start_date, end_date, freq='MS', closed='right')\n",
      "C:\\Users\\Heliiix\\anaconda3\\Lib\\site-packages\\wwo_hist\\__init__.py:74: FutureWarning: Argument `closed` is deprecated in favor of `inclusive`.\n",
      "  list_mon_end = pd.date_range(start_date, end_date, freq='M', closed='left')\n"
     ]
    },
    {
     "name": "stdout",
     "output_type": "stream",
     "text": [
      "Time elapsed (hh:mm:ss.ms) 0:00:00.283372\n",
      "\n",
      "\n",
      "export New%20York completed!\n",
      "\n",
      "\n",
      "37\n",
      "Michigan\n",
      "\n",
      "\n",
      "Retrieving weather data for Michigan\n",
      "\n",
      "\n",
      "Currently retrieving data for Michigan: from 2013-07-19 to 2013-07-20\n"
     ]
    },
    {
     "name": "stderr",
     "output_type": "stream",
     "text": [
      "C:\\Users\\Heliiix\\anaconda3\\Lib\\site-packages\\wwo_hist\\__init__.py:69: FutureWarning: Argument `closed` is deprecated in favor of `inclusive`.\n",
      "  list_mon_begin = pd.date_range(start_date, end_date, freq='MS', closed='right')\n",
      "C:\\Users\\Heliiix\\anaconda3\\Lib\\site-packages\\wwo_hist\\__init__.py:74: FutureWarning: Argument `closed` is deprecated in favor of `inclusive`.\n",
      "  list_mon_end = pd.date_range(start_date, end_date, freq='M', closed='left')\n"
     ]
    },
    {
     "name": "stdout",
     "output_type": "stream",
     "text": [
      "Time elapsed (hh:mm:ss.ms) 0:00:00.258671\n",
      "\n",
      "\n",
      "export Michigan completed!\n",
      "\n",
      "\n",
      "38\n",
      "California\n",
      "\n",
      "\n",
      "Retrieving weather data for California\n",
      "\n",
      "\n",
      "Currently retrieving data for California: from 2013-07-05 to 2013-07-05\n"
     ]
    },
    {
     "name": "stderr",
     "output_type": "stream",
     "text": [
      "C:\\Users\\Heliiix\\anaconda3\\Lib\\site-packages\\wwo_hist\\__init__.py:69: FutureWarning: Argument `closed` is deprecated in favor of `inclusive`.\n",
      "  list_mon_begin = pd.date_range(start_date, end_date, freq='MS', closed='right')\n",
      "C:\\Users\\Heliiix\\anaconda3\\Lib\\site-packages\\wwo_hist\\__init__.py:74: FutureWarning: Argument `closed` is deprecated in favor of `inclusive`.\n",
      "  list_mon_end = pd.date_range(start_date, end_date, freq='M', closed='left')\n"
     ]
    },
    {
     "name": "stdout",
     "output_type": "stream",
     "text": [
      "Time elapsed (hh:mm:ss.ms) 0:00:00.242847\n",
      "\n",
      "\n",
      "export California completed!\n",
      "\n",
      "\n",
      "39\n",
      "Alberta\n",
      "\n",
      "\n",
      "Retrieving weather data for Alberta\n",
      "\n",
      "\n",
      "Currently retrieving data for Alberta: from 2013-07-02 to 2013-07-05\n"
     ]
    },
    {
     "name": "stderr",
     "output_type": "stream",
     "text": [
      "C:\\Users\\Heliiix\\anaconda3\\Lib\\site-packages\\wwo_hist\\__init__.py:69: FutureWarning: Argument `closed` is deprecated in favor of `inclusive`.\n",
      "  list_mon_begin = pd.date_range(start_date, end_date, freq='MS', closed='right')\n",
      "C:\\Users\\Heliiix\\anaconda3\\Lib\\site-packages\\wwo_hist\\__init__.py:74: FutureWarning: Argument `closed` is deprecated in favor of `inclusive`.\n",
      "  list_mon_end = pd.date_range(start_date, end_date, freq='M', closed='left')\n"
     ]
    },
    {
     "name": "stdout",
     "output_type": "stream",
     "text": [
      "Time elapsed (hh:mm:ss.ms) 0:00:01.296113\n",
      "\n",
      "\n",
      "export Alberta completed!\n",
      "\n",
      "\n",
      "40\n",
      "Illinois\n",
      "\n",
      "\n",
      "Retrieving weather data for Illinois\n",
      "\n",
      "\n",
      "Currently retrieving data for Illinois: from 2013-06-24 to 2013-06-25\n"
     ]
    },
    {
     "name": "stderr",
     "output_type": "stream",
     "text": [
      "C:\\Users\\Heliiix\\anaconda3\\Lib\\site-packages\\wwo_hist\\__init__.py:69: FutureWarning: Argument `closed` is deprecated in favor of `inclusive`.\n",
      "  list_mon_begin = pd.date_range(start_date, end_date, freq='MS', closed='right')\n",
      "C:\\Users\\Heliiix\\anaconda3\\Lib\\site-packages\\wwo_hist\\__init__.py:74: FutureWarning: Argument `closed` is deprecated in favor of `inclusive`.\n",
      "  list_mon_end = pd.date_range(start_date, end_date, freq='M', closed='left')\n"
     ]
    },
    {
     "name": "stdout",
     "output_type": "stream",
     "text": [
      "Time elapsed (hh:mm:ss.ms) 0:00:00.266346\n",
      "\n",
      "\n",
      "export Illinois completed!\n",
      "\n",
      "\n",
      "41\n",
      "Alberta\n",
      "\n",
      "\n",
      "Retrieving weather data for Alberta\n",
      "\n",
      "\n",
      "Currently retrieving data for Alberta: from 2013-06-19 to 2013-06-19\n"
     ]
    },
    {
     "name": "stderr",
     "output_type": "stream",
     "text": [
      "C:\\Users\\Heliiix\\anaconda3\\Lib\\site-packages\\wwo_hist\\__init__.py:69: FutureWarning: Argument `closed` is deprecated in favor of `inclusive`.\n",
      "  list_mon_begin = pd.date_range(start_date, end_date, freq='MS', closed='right')\n",
      "C:\\Users\\Heliiix\\anaconda3\\Lib\\site-packages\\wwo_hist\\__init__.py:74: FutureWarning: Argument `closed` is deprecated in favor of `inclusive`.\n",
      "  list_mon_end = pd.date_range(start_date, end_date, freq='M', closed='left')\n"
     ]
    },
    {
     "name": "stdout",
     "output_type": "stream",
     "text": [
      "Time elapsed (hh:mm:ss.ms) 0:00:00.232618\n",
      "\n",
      "\n",
      "export Alberta completed!\n",
      "\n",
      "\n",
      "42\n",
      "Alberta\n",
      "\n",
      "\n",
      "Retrieving weather data for Alberta\n",
      "\n",
      "\n",
      "Currently retrieving data for Alberta: from 2013-06-03 to 2013-06-03\n"
     ]
    },
    {
     "name": "stderr",
     "output_type": "stream",
     "text": [
      "C:\\Users\\Heliiix\\anaconda3\\Lib\\site-packages\\wwo_hist\\__init__.py:69: FutureWarning: Argument `closed` is deprecated in favor of `inclusive`.\n",
      "  list_mon_begin = pd.date_range(start_date, end_date, freq='MS', closed='right')\n",
      "C:\\Users\\Heliiix\\anaconda3\\Lib\\site-packages\\wwo_hist\\__init__.py:74: FutureWarning: Argument `closed` is deprecated in favor of `inclusive`.\n",
      "  list_mon_end = pd.date_range(start_date, end_date, freq='M', closed='left')\n"
     ]
    },
    {
     "name": "stdout",
     "output_type": "stream",
     "text": [
      "Time elapsed (hh:mm:ss.ms) 0:00:01.260812\n",
      "\n",
      "\n",
      "export Alberta completed!\n",
      "\n",
      "\n",
      "43\n",
      "Newark\n",
      "\n",
      "\n",
      "Retrieving weather data for Newark\n",
      "\n",
      "\n",
      "Currently retrieving data for Newark: from 2013-04-23 to 2013-04-23\n"
     ]
    },
    {
     "name": "stderr",
     "output_type": "stream",
     "text": [
      "C:\\Users\\Heliiix\\anaconda3\\Lib\\site-packages\\wwo_hist\\__init__.py:69: FutureWarning: Argument `closed` is deprecated in favor of `inclusive`.\n",
      "  list_mon_begin = pd.date_range(start_date, end_date, freq='MS', closed='right')\n",
      "C:\\Users\\Heliiix\\anaconda3\\Lib\\site-packages\\wwo_hist\\__init__.py:74: FutureWarning: Argument `closed` is deprecated in favor of `inclusive`.\n",
      "  list_mon_end = pd.date_range(start_date, end_date, freq='M', closed='left')\n"
     ]
    },
    {
     "name": "stdout",
     "output_type": "stream",
     "text": [
      "Time elapsed (hh:mm:ss.ms) 0:00:00.257166\n",
      "\n",
      "\n",
      "export Newark completed!\n",
      "\n",
      "\n",
      "44\n",
      "California\n",
      "\n",
      "\n",
      "Retrieving weather data for California\n",
      "\n",
      "\n",
      "Currently retrieving data for California: from 2013-04-16 to 2013-04-18\n"
     ]
    },
    {
     "name": "stderr",
     "output_type": "stream",
     "text": [
      "C:\\Users\\Heliiix\\anaconda3\\Lib\\site-packages\\wwo_hist\\__init__.py:69: FutureWarning: Argument `closed` is deprecated in favor of `inclusive`.\n",
      "  list_mon_begin = pd.date_range(start_date, end_date, freq='MS', closed='right')\n",
      "C:\\Users\\Heliiix\\anaconda3\\Lib\\site-packages\\wwo_hist\\__init__.py:74: FutureWarning: Argument `closed` is deprecated in favor of `inclusive`.\n",
      "  list_mon_end = pd.date_range(start_date, end_date, freq='M', closed='left')\n"
     ]
    },
    {
     "name": "stdout",
     "output_type": "stream",
     "text": [
      "Time elapsed (hh:mm:ss.ms) 0:00:00.288862\n",
      "\n",
      "\n",
      "export California completed!\n",
      "\n",
      "\n",
      "45\n",
      "Southeastern%20Michigan\n",
      "\n",
      "\n",
      "Retrieving weather data for Southeastern%20Michigan\n",
      "\n",
      "\n",
      "Currently retrieving data for Southeastern%20Michigan: from 2013-01-20 to 2013-01-23\n"
     ]
    },
    {
     "name": "stderr",
     "output_type": "stream",
     "text": [
      "C:\\Users\\Heliiix\\anaconda3\\Lib\\site-packages\\wwo_hist\\__init__.py:69: FutureWarning: Argument `closed` is deprecated in favor of `inclusive`.\n",
      "  list_mon_begin = pd.date_range(start_date, end_date, freq='MS', closed='right')\n",
      "C:\\Users\\Heliiix\\anaconda3\\Lib\\site-packages\\wwo_hist\\__init__.py:74: FutureWarning: Argument `closed` is deprecated in favor of `inclusive`.\n",
      "  list_mon_end = pd.date_range(start_date, end_date, freq='M', closed='left')\n"
     ]
    },
    {
     "name": "stdout",
     "output_type": "stream",
     "text": [
      "Time elapsed (hh:mm:ss.ms) 0:00:00.293987\n",
      "\n",
      "\n",
      "export Southeastern%20Michigan completed!\n",
      "\n",
      "\n",
      "46\n",
      "North%20Carolina\n",
      "\n",
      "\n",
      "Retrieving weather data for North%20Carolina\n",
      "\n",
      "\n",
      "Currently retrieving data for North%20Carolina: from 2012-12-31 to 2012-12-31\n"
     ]
    },
    {
     "name": "stderr",
     "output_type": "stream",
     "text": [
      "C:\\Users\\Heliiix\\anaconda3\\Lib\\site-packages\\wwo_hist\\__init__.py:69: FutureWarning: Argument `closed` is deprecated in favor of `inclusive`.\n",
      "  list_mon_begin = pd.date_range(start_date, end_date, freq='MS', closed='right')\n",
      "C:\\Users\\Heliiix\\anaconda3\\Lib\\site-packages\\wwo_hist\\__init__.py:74: FutureWarning: Argument `closed` is deprecated in favor of `inclusive`.\n",
      "  list_mon_end = pd.date_range(start_date, end_date, freq='M', closed='left')\n"
     ]
    },
    {
     "name": "stdout",
     "output_type": "stream",
     "text": [
      "Time elapsed (hh:mm:ss.ms) 0:00:01.246371\n",
      "\n",
      "\n",
      "export North%20Carolina completed!\n",
      "\n",
      "\n",
      "47\n",
      "Tacoma\n",
      "\n",
      "\n",
      "Retrieving weather data for Tacoma\n",
      "\n",
      "\n",
      "Currently retrieving data for Tacoma: from 2012-12-17 to 2012-12-17\n"
     ]
    },
    {
     "name": "stderr",
     "output_type": "stream",
     "text": [
      "C:\\Users\\Heliiix\\anaconda3\\Lib\\site-packages\\wwo_hist\\__init__.py:69: FutureWarning: Argument `closed` is deprecated in favor of `inclusive`.\n",
      "  list_mon_begin = pd.date_range(start_date, end_date, freq='MS', closed='right')\n",
      "C:\\Users\\Heliiix\\anaconda3\\Lib\\site-packages\\wwo_hist\\__init__.py:74: FutureWarning: Argument `closed` is deprecated in favor of `inclusive`.\n",
      "  list_mon_end = pd.date_range(start_date, end_date, freq='M', closed='left')\n"
     ]
    },
    {
     "name": "stdout",
     "output_type": "stream",
     "text": [
      "Time elapsed (hh:mm:ss.ms) 0:00:03.262355\n",
      "\n",
      "\n",
      "export Tacoma completed!\n",
      "\n",
      "\n",
      "48\n",
      "Tacoma\n",
      "\n",
      "\n",
      "Retrieving weather data for Tacoma\n",
      "\n",
      "\n",
      "Currently retrieving data for Tacoma: from 2012-12-03 to 2012-12-03\n"
     ]
    },
    {
     "name": "stderr",
     "output_type": "stream",
     "text": [
      "C:\\Users\\Heliiix\\anaconda3\\Lib\\site-packages\\wwo_hist\\__init__.py:69: FutureWarning: Argument `closed` is deprecated in favor of `inclusive`.\n",
      "  list_mon_begin = pd.date_range(start_date, end_date, freq='MS', closed='right')\n",
      "C:\\Users\\Heliiix\\anaconda3\\Lib\\site-packages\\wwo_hist\\__init__.py:74: FutureWarning: Argument `closed` is deprecated in favor of `inclusive`.\n",
      "  list_mon_end = pd.date_range(start_date, end_date, freq='M', closed='left')\n"
     ]
    },
    {
     "name": "stdout",
     "output_type": "stream",
     "text": [
      "Time elapsed (hh:mm:ss.ms) 0:00:00.268323\n",
      "\n",
      "\n",
      "export Tacoma completed!\n",
      "\n",
      "\n",
      "49\n",
      "Northern%20California\n",
      "\n",
      "\n",
      "Retrieving weather data for Northern%20California\n",
      "\n",
      "\n",
      "Currently retrieving data for Northern%20California: from 2012-12-02 to 2012-12-04\n"
     ]
    },
    {
     "name": "stderr",
     "output_type": "stream",
     "text": [
      "C:\\Users\\Heliiix\\anaconda3\\Lib\\site-packages\\wwo_hist\\__init__.py:69: FutureWarning: Argument `closed` is deprecated in favor of `inclusive`.\n",
      "  list_mon_begin = pd.date_range(start_date, end_date, freq='MS', closed='right')\n",
      "C:\\Users\\Heliiix\\anaconda3\\Lib\\site-packages\\wwo_hist\\__init__.py:74: FutureWarning: Argument `closed` is deprecated in favor of `inclusive`.\n",
      "  list_mon_end = pd.date_range(start_date, end_date, freq='M', closed='left')\n"
     ]
    },
    {
     "name": "stdout",
     "output_type": "stream",
     "text": [
      "Time elapsed (hh:mm:ss.ms) 0:00:00.259716\n",
      "\n",
      "\n",
      "export Northern%20California completed!\n",
      "\n",
      "\n",
      "50\n",
      "Virginia\n",
      "\n",
      "\n",
      "Retrieving weather data for Virginia\n",
      "\n",
      "\n",
      "Currently retrieving data for Virginia: from 2012-10-29 to 2012-10-30\n"
     ]
    },
    {
     "name": "stderr",
     "output_type": "stream",
     "text": [
      "C:\\Users\\Heliiix\\anaconda3\\Lib\\site-packages\\wwo_hist\\__init__.py:69: FutureWarning: Argument `closed` is deprecated in favor of `inclusive`.\n",
      "  list_mon_begin = pd.date_range(start_date, end_date, freq='MS', closed='right')\n",
      "C:\\Users\\Heliiix\\anaconda3\\Lib\\site-packages\\wwo_hist\\__init__.py:74: FutureWarning: Argument `closed` is deprecated in favor of `inclusive`.\n",
      "  list_mon_end = pd.date_range(start_date, end_date, freq='M', closed='left')\n"
     ]
    },
    {
     "name": "stdout",
     "output_type": "stream",
     "text": [
      "Time elapsed (hh:mm:ss.ms) 0:00:00.283652\n",
      "\n",
      "\n",
      "export Virginia completed!\n",
      "\n",
      "\n",
      "51\n",
      "New%20York\n",
      "\n",
      "\n",
      "Retrieving weather data for New%20York\n",
      "\n",
      "\n",
      "Currently retrieving data for New%20York: from 2012-10-29 to 2012-10-31\n"
     ]
    },
    {
     "name": "stderr",
     "output_type": "stream",
     "text": [
      "C:\\Users\\Heliiix\\anaconda3\\Lib\\site-packages\\wwo_hist\\__init__.py:69: FutureWarning: Argument `closed` is deprecated in favor of `inclusive`.\n",
      "  list_mon_begin = pd.date_range(start_date, end_date, freq='MS', closed='right')\n",
      "C:\\Users\\Heliiix\\anaconda3\\Lib\\site-packages\\wwo_hist\\__init__.py:74: FutureWarning: Argument `closed` is deprecated in favor of `inclusive`.\n",
      "  list_mon_end = pd.date_range(start_date, end_date, freq='M', closed='left')\n"
     ]
    },
    {
     "name": "stdout",
     "output_type": "stream",
     "text": [
      "Time elapsed (hh:mm:ss.ms) 0:00:00.280755\n",
      "Currently retrieving data for New%20York: from 2012-11-01 to 2012-11-04\n",
      "Time elapsed (hh:mm:ss.ms) 0:00:00.564924\n",
      "\n",
      "\n",
      "export New%20York completed!\n",
      "\n",
      "\n",
      "52\n",
      "Newark\n",
      "\n",
      "\n",
      "Retrieving weather data for Newark\n",
      "\n",
      "\n",
      "Currently retrieving data for Newark: from 2012-10-25 to 2012-10-25\n"
     ]
    },
    {
     "name": "stderr",
     "output_type": "stream",
     "text": [
      "C:\\Users\\Heliiix\\anaconda3\\Lib\\site-packages\\wwo_hist\\__init__.py:69: FutureWarning: Argument `closed` is deprecated in favor of `inclusive`.\n",
      "  list_mon_begin = pd.date_range(start_date, end_date, freq='MS', closed='right')\n",
      "C:\\Users\\Heliiix\\anaconda3\\Lib\\site-packages\\wwo_hist\\__init__.py:74: FutureWarning: Argument `closed` is deprecated in favor of `inclusive`.\n",
      "  list_mon_end = pd.date_range(start_date, end_date, freq='M', closed='left')\n"
     ]
    },
    {
     "name": "stdout",
     "output_type": "stream",
     "text": [
      "Time elapsed (hh:mm:ss.ms) 0:00:00.247472\n",
      "\n",
      "\n",
      "export Newark completed!\n",
      "\n",
      "\n",
      "53\n",
      "Northern%20California\n",
      "\n",
      "\n",
      "Retrieving weather data for Northern%20California\n",
      "\n",
      "\n",
      "Currently retrieving data for Northern%20California: from 2012-10-14 to 2012-10-14\n"
     ]
    },
    {
     "name": "stderr",
     "output_type": "stream",
     "text": [
      "C:\\Users\\Heliiix\\anaconda3\\Lib\\site-packages\\wwo_hist\\__init__.py:69: FutureWarning: Argument `closed` is deprecated in favor of `inclusive`.\n",
      "  list_mon_begin = pd.date_range(start_date, end_date, freq='MS', closed='right')\n",
      "C:\\Users\\Heliiix\\anaconda3\\Lib\\site-packages\\wwo_hist\\__init__.py:74: FutureWarning: Argument `closed` is deprecated in favor of `inclusive`.\n",
      "  list_mon_end = pd.date_range(start_date, end_date, freq='M', closed='left')\n"
     ]
    },
    {
     "name": "stdout",
     "output_type": "stream",
     "text": [
      "Time elapsed (hh:mm:ss.ms) 0:00:01.273838\n",
      "\n",
      "\n",
      "export Northern%20California completed!\n",
      "\n",
      "\n",
      "54\n",
      "Alberta\n",
      "\n",
      "\n",
      "Retrieving weather data for Alberta\n",
      "\n",
      "\n",
      "Currently retrieving data for Alberta: from 2012-09-11 to 2012-09-11\n"
     ]
    },
    {
     "name": "stderr",
     "output_type": "stream",
     "text": [
      "C:\\Users\\Heliiix\\anaconda3\\Lib\\site-packages\\wwo_hist\\__init__.py:69: FutureWarning: Argument `closed` is deprecated in favor of `inclusive`.\n",
      "  list_mon_begin = pd.date_range(start_date, end_date, freq='MS', closed='right')\n",
      "C:\\Users\\Heliiix\\anaconda3\\Lib\\site-packages\\wwo_hist\\__init__.py:74: FutureWarning: Argument `closed` is deprecated in favor of `inclusive`.\n",
      "  list_mon_end = pd.date_range(start_date, end_date, freq='M', closed='left')\n"
     ]
    },
    {
     "name": "stdout",
     "output_type": "stream",
     "text": [
      "Time elapsed (hh:mm:ss.ms) 0:00:00.259142\n",
      "\n",
      "\n",
      "export Alberta completed!\n",
      "\n",
      "\n",
      "55\n",
      "Virginia\n",
      "\n",
      "\n",
      "Retrieving weather data for Virginia\n",
      "\n",
      "\n",
      "Currently retrieving data for Virginia: from 2012-09-08 to 2012-09-09\n"
     ]
    },
    {
     "name": "stderr",
     "output_type": "stream",
     "text": [
      "C:\\Users\\Heliiix\\anaconda3\\Lib\\site-packages\\wwo_hist\\__init__.py:69: FutureWarning: Argument `closed` is deprecated in favor of `inclusive`.\n",
      "  list_mon_begin = pd.date_range(start_date, end_date, freq='MS', closed='right')\n",
      "C:\\Users\\Heliiix\\anaconda3\\Lib\\site-packages\\wwo_hist\\__init__.py:74: FutureWarning: Argument `closed` is deprecated in favor of `inclusive`.\n",
      "  list_mon_end = pd.date_range(start_date, end_date, freq='M', closed='left')\n"
     ]
    },
    {
     "name": "stdout",
     "output_type": "stream",
     "text": [
      "Time elapsed (hh:mm:ss.ms) 0:00:00.266390\n",
      "\n",
      "\n",
      "export Virginia completed!\n",
      "\n",
      "\n",
      "56\n",
      "Alberta\n",
      "\n",
      "\n",
      "Retrieving weather data for Alberta\n",
      "\n",
      "\n",
      "Currently retrieving data for Alberta: from 2012-09-05 to 2012-09-05\n"
     ]
    },
    {
     "name": "stderr",
     "output_type": "stream",
     "text": [
      "C:\\Users\\Heliiix\\anaconda3\\Lib\\site-packages\\wwo_hist\\__init__.py:69: FutureWarning: Argument `closed` is deprecated in favor of `inclusive`.\n",
      "  list_mon_begin = pd.date_range(start_date, end_date, freq='MS', closed='right')\n",
      "C:\\Users\\Heliiix\\anaconda3\\Lib\\site-packages\\wwo_hist\\__init__.py:74: FutureWarning: Argument `closed` is deprecated in favor of `inclusive`.\n",
      "  list_mon_end = pd.date_range(start_date, end_date, freq='M', closed='left')\n"
     ]
    },
    {
     "name": "stdout",
     "output_type": "stream",
     "text": [
      "Time elapsed (hh:mm:ss.ms) 0:00:00.245510\n",
      "\n",
      "\n",
      "export Alberta completed!\n",
      "\n",
      "\n",
      "57\n",
      "Tacoma\n",
      "\n",
      "\n",
      "Retrieving weather data for Tacoma\n",
      "\n",
      "\n",
      "Currently retrieving data for Tacoma: from 2012-08-11 to 2012-08-11\n"
     ]
    },
    {
     "name": "stderr",
     "output_type": "stream",
     "text": [
      "C:\\Users\\Heliiix\\anaconda3\\Lib\\site-packages\\wwo_hist\\__init__.py:69: FutureWarning: Argument `closed` is deprecated in favor of `inclusive`.\n",
      "  list_mon_begin = pd.date_range(start_date, end_date, freq='MS', closed='right')\n",
      "C:\\Users\\Heliiix\\anaconda3\\Lib\\site-packages\\wwo_hist\\__init__.py:74: FutureWarning: Argument `closed` is deprecated in favor of `inclusive`.\n",
      "  list_mon_end = pd.date_range(start_date, end_date, freq='M', closed='left')\n"
     ]
    },
    {
     "name": "stdout",
     "output_type": "stream",
     "text": [
      "Time elapsed (hh:mm:ss.ms) 0:00:00.260086\n",
      "\n",
      "\n",
      "export Tacoma completed!\n",
      "\n",
      "\n",
      "58\n",
      "Northern%20Illinois\n",
      "\n",
      "\n",
      "Retrieving weather data for Northern%20Illinois\n",
      "\n",
      "\n",
      "Currently retrieving data for Northern%20Illinois: from 2012-07-24 to 2012-07-24\n"
     ]
    },
    {
     "name": "stderr",
     "output_type": "stream",
     "text": [
      "C:\\Users\\Heliiix\\anaconda3\\Lib\\site-packages\\wwo_hist\\__init__.py:69: FutureWarning: Argument `closed` is deprecated in favor of `inclusive`.\n",
      "  list_mon_begin = pd.date_range(start_date, end_date, freq='MS', closed='right')\n",
      "C:\\Users\\Heliiix\\anaconda3\\Lib\\site-packages\\wwo_hist\\__init__.py:74: FutureWarning: Argument `closed` is deprecated in favor of `inclusive`.\n",
      "  list_mon_end = pd.date_range(start_date, end_date, freq='M', closed='left')\n"
     ]
    },
    {
     "name": "stdout",
     "output_type": "stream",
     "text": [
      "Time elapsed (hh:mm:ss.ms) 0:00:00.279734\n",
      "\n",
      "\n",
      "export Northern%20Illinois completed!\n",
      "\n",
      "\n",
      "59\n",
      "Newark\n",
      "\n",
      "\n",
      "Retrieving weather data for Newark\n",
      "\n",
      "\n",
      "Currently retrieving data for Newark: from 2012-07-19 to 2012-07-19\n"
     ]
    },
    {
     "name": "stderr",
     "output_type": "stream",
     "text": [
      "C:\\Users\\Heliiix\\anaconda3\\Lib\\site-packages\\wwo_hist\\__init__.py:69: FutureWarning: Argument `closed` is deprecated in favor of `inclusive`.\n",
      "  list_mon_begin = pd.date_range(start_date, end_date, freq='MS', closed='right')\n",
      "C:\\Users\\Heliiix\\anaconda3\\Lib\\site-packages\\wwo_hist\\__init__.py:74: FutureWarning: Argument `closed` is deprecated in favor of `inclusive`.\n",
      "  list_mon_end = pd.date_range(start_date, end_date, freq='M', closed='left')\n"
     ]
    },
    {
     "name": "stdout",
     "output_type": "stream",
     "text": [
      "Time elapsed (hh:mm:ss.ms) 0:00:00.255286\n",
      "\n",
      "\n",
      "export Newark completed!\n",
      "\n",
      "\n",
      "60\n",
      "Northern%20Illinois\n",
      "\n",
      "\n",
      "Retrieving weather data for Northern%20Illinois\n",
      "\n",
      "\n",
      "Currently retrieving data for Northern%20Illinois: from 2012-07-18 to 2012-07-19\n"
     ]
    },
    {
     "name": "stderr",
     "output_type": "stream",
     "text": [
      "C:\\Users\\Heliiix\\anaconda3\\Lib\\site-packages\\wwo_hist\\__init__.py:69: FutureWarning: Argument `closed` is deprecated in favor of `inclusive`.\n",
      "  list_mon_begin = pd.date_range(start_date, end_date, freq='MS', closed='right')\n",
      "C:\\Users\\Heliiix\\anaconda3\\Lib\\site-packages\\wwo_hist\\__init__.py:74: FutureWarning: Argument `closed` is deprecated in favor of `inclusive`.\n",
      "  list_mon_end = pd.date_range(start_date, end_date, freq='M', closed='left')\n"
     ]
    },
    {
     "name": "stdout",
     "output_type": "stream",
     "text": [
      "Time elapsed (hh:mm:ss.ms) 0:00:00.287208\n",
      "\n",
      "\n",
      "export Northern%20Illinois completed!\n",
      "\n",
      "\n",
      "61\n",
      "Alberta\n",
      "\n",
      "\n",
      "Retrieving weather data for Alberta\n",
      "\n",
      "\n",
      "Currently retrieving data for Alberta: from 2012-07-09 to 2012-07-09\n"
     ]
    },
    {
     "name": "stderr",
     "output_type": "stream",
     "text": [
      "C:\\Users\\Heliiix\\anaconda3\\Lib\\site-packages\\wwo_hist\\__init__.py:69: FutureWarning: Argument `closed` is deprecated in favor of `inclusive`.\n",
      "  list_mon_begin = pd.date_range(start_date, end_date, freq='MS', closed='right')\n",
      "C:\\Users\\Heliiix\\anaconda3\\Lib\\site-packages\\wwo_hist\\__init__.py:74: FutureWarning: Argument `closed` is deprecated in favor of `inclusive`.\n",
      "  list_mon_end = pd.date_range(start_date, end_date, freq='M', closed='left')\n"
     ]
    },
    {
     "name": "stdout",
     "output_type": "stream",
     "text": [
      "Time elapsed (hh:mm:ss.ms) 0:00:00.269995\n",
      "\n",
      "\n",
      "export Alberta completed!\n",
      "\n",
      "\n",
      "62\n",
      "Tacoma\n",
      "\n",
      "\n",
      "Retrieving weather data for Tacoma\n",
      "\n",
      "\n",
      "Currently retrieving data for Tacoma: from 2012-07-06 to 2012-07-06\n"
     ]
    },
    {
     "name": "stderr",
     "output_type": "stream",
     "text": [
      "C:\\Users\\Heliiix\\anaconda3\\Lib\\site-packages\\wwo_hist\\__init__.py:69: FutureWarning: Argument `closed` is deprecated in favor of `inclusive`.\n",
      "  list_mon_begin = pd.date_range(start_date, end_date, freq='MS', closed='right')\n",
      "C:\\Users\\Heliiix\\anaconda3\\Lib\\site-packages\\wwo_hist\\__init__.py:74: FutureWarning: Argument `closed` is deprecated in favor of `inclusive`.\n",
      "  list_mon_end = pd.date_range(start_date, end_date, freq='M', closed='left')\n"
     ]
    },
    {
     "name": "stdout",
     "output_type": "stream",
     "text": [
      "Time elapsed (hh:mm:ss.ms) 0:00:00.253099\n",
      "\n",
      "\n",
      "export Tacoma completed!\n",
      "\n",
      "\n",
      "63\n",
      "Illinois\n",
      "\n",
      "\n",
      "Retrieving weather data for Illinois\n",
      "\n",
      "\n",
      "Currently retrieving data for Illinois: from 2012-07-01 to 2012-07-03\n"
     ]
    },
    {
     "name": "stderr",
     "output_type": "stream",
     "text": [
      "C:\\Users\\Heliiix\\anaconda3\\Lib\\site-packages\\wwo_hist\\__init__.py:69: FutureWarning: Argument `closed` is deprecated in favor of `inclusive`.\n",
      "  list_mon_begin = pd.date_range(start_date, end_date, freq='MS', closed='right')\n",
      "C:\\Users\\Heliiix\\anaconda3\\Lib\\site-packages\\wwo_hist\\__init__.py:74: FutureWarning: Argument `closed` is deprecated in favor of `inclusive`.\n",
      "  list_mon_end = pd.date_range(start_date, end_date, freq='M', closed='left')\n"
     ]
    },
    {
     "name": "stdout",
     "output_type": "stream",
     "text": [
      "Time elapsed (hh:mm:ss.ms) 0:00:00.303121\n",
      "\n",
      "\n",
      "export Illinois completed!\n",
      "\n",
      "\n",
      "64\n",
      "Virginia\n",
      "\n",
      "\n",
      "Retrieving weather data for Virginia\n",
      "\n",
      "\n",
      "Currently retrieving data for Virginia: from 2012-06-29 to 2012-06-30\n"
     ]
    },
    {
     "name": "stderr",
     "output_type": "stream",
     "text": [
      "C:\\Users\\Heliiix\\anaconda3\\Lib\\site-packages\\wwo_hist\\__init__.py:69: FutureWarning: Argument `closed` is deprecated in favor of `inclusive`.\n",
      "  list_mon_begin = pd.date_range(start_date, end_date, freq='MS', closed='right')\n",
      "C:\\Users\\Heliiix\\anaconda3\\Lib\\site-packages\\wwo_hist\\__init__.py:74: FutureWarning: Argument `closed` is deprecated in favor of `inclusive`.\n",
      "  list_mon_end = pd.date_range(start_date, end_date, freq='M', closed='left')\n"
     ]
    },
    {
     "name": "stdout",
     "output_type": "stream",
     "text": [
      "Time elapsed (hh:mm:ss.ms) 0:00:01.280236\n",
      "Currently retrieving data for Virginia: from 2012-07-01 to 2012-07-04\n",
      "Time elapsed (hh:mm:ss.ms) 0:00:01.555259\n",
      "\n",
      "\n",
      "export Virginia completed!\n",
      "\n",
      "\n",
      "65\n",
      "Tacoma\n",
      "\n",
      "\n",
      "Retrieving weather data for Tacoma\n",
      "\n",
      "\n",
      "Currently retrieving data for Tacoma: from 2012-04-21 to 2012-04-23\n"
     ]
    },
    {
     "name": "stderr",
     "output_type": "stream",
     "text": [
      "C:\\Users\\Heliiix\\anaconda3\\Lib\\site-packages\\wwo_hist\\__init__.py:69: FutureWarning: Argument `closed` is deprecated in favor of `inclusive`.\n",
      "  list_mon_begin = pd.date_range(start_date, end_date, freq='MS', closed='right')\n",
      "C:\\Users\\Heliiix\\anaconda3\\Lib\\site-packages\\wwo_hist\\__init__.py:74: FutureWarning: Argument `closed` is deprecated in favor of `inclusive`.\n",
      "  list_mon_end = pd.date_range(start_date, end_date, freq='M', closed='left')\n"
     ]
    },
    {
     "name": "stdout",
     "output_type": "stream",
     "text": [
      "Time elapsed (hh:mm:ss.ms) 0:00:03.283699\n",
      "\n",
      "\n",
      "export Tacoma completed!\n",
      "\n",
      "\n",
      "66\n",
      "Tacoma\n",
      "\n",
      "\n",
      "Retrieving weather data for Tacoma\n",
      "\n",
      "\n",
      "Currently retrieving data for Tacoma: from 2012-04-19 to 2012-04-19\n"
     ]
    },
    {
     "name": "stderr",
     "output_type": "stream",
     "text": [
      "C:\\Users\\Heliiix\\anaconda3\\Lib\\site-packages\\wwo_hist\\__init__.py:69: FutureWarning: Argument `closed` is deprecated in favor of `inclusive`.\n",
      "  list_mon_begin = pd.date_range(start_date, end_date, freq='MS', closed='right')\n",
      "C:\\Users\\Heliiix\\anaconda3\\Lib\\site-packages\\wwo_hist\\__init__.py:74: FutureWarning: Argument `closed` is deprecated in favor of `inclusive`.\n",
      "  list_mon_end = pd.date_range(start_date, end_date, freq='M', closed='left')\n"
     ]
    },
    {
     "name": "stdout",
     "output_type": "stream",
     "text": [
      "Time elapsed (hh:mm:ss.ms) 0:00:00.246778\n",
      "\n",
      "\n",
      "export Tacoma completed!\n",
      "\n",
      "\n",
      "67\n",
      "Georgia\n",
      "\n",
      "\n",
      "Retrieving weather data for Georgia\n",
      "\n",
      "\n",
      "Currently retrieving data for Georgia: from 2012-04-15 to 2012-04-15\n"
     ]
    },
    {
     "name": "stderr",
     "output_type": "stream",
     "text": [
      "C:\\Users\\Heliiix\\anaconda3\\Lib\\site-packages\\wwo_hist\\__init__.py:69: FutureWarning: Argument `closed` is deprecated in favor of `inclusive`.\n",
      "  list_mon_begin = pd.date_range(start_date, end_date, freq='MS', closed='right')\n",
      "C:\\Users\\Heliiix\\anaconda3\\Lib\\site-packages\\wwo_hist\\__init__.py:74: FutureWarning: Argument `closed` is deprecated in favor of `inclusive`.\n",
      "  list_mon_end = pd.date_range(start_date, end_date, freq='M', closed='left')\n"
     ]
    },
    {
     "name": "stdout",
     "output_type": "stream",
     "text": [
      "Time elapsed (hh:mm:ss.ms) 0:00:00.234888\n",
      "\n",
      "\n",
      "export Georgia completed!\n",
      "\n",
      "\n",
      "68\n",
      "Tacoma\n",
      "\n",
      "\n",
      "Retrieving weather data for Tacoma\n",
      "\n",
      "\n",
      "Currently retrieving data for Tacoma: from 2012-04-12 to 2012-04-12\n"
     ]
    },
    {
     "name": "stderr",
     "output_type": "stream",
     "text": [
      "C:\\Users\\Heliiix\\anaconda3\\Lib\\site-packages\\wwo_hist\\__init__.py:69: FutureWarning: Argument `closed` is deprecated in favor of `inclusive`.\n",
      "  list_mon_begin = pd.date_range(start_date, end_date, freq='MS', closed='right')\n",
      "C:\\Users\\Heliiix\\anaconda3\\Lib\\site-packages\\wwo_hist\\__init__.py:74: FutureWarning: Argument `closed` is deprecated in favor of `inclusive`.\n",
      "  list_mon_end = pd.date_range(start_date, end_date, freq='M', closed='left')\n"
     ]
    },
    {
     "name": "stdout",
     "output_type": "stream",
     "text": [
      "Time elapsed (hh:mm:ss.ms) 0:00:00.253726\n",
      "\n",
      "\n",
      "export Tacoma completed!\n",
      "\n",
      "\n",
      "69\n",
      "Newark\n",
      "\n",
      "\n",
      "Retrieving weather data for Newark\n",
      "\n",
      "\n",
      "Currently retrieving data for Newark: from 2012-04-07 to 2012-04-07\n"
     ]
    },
    {
     "name": "stderr",
     "output_type": "stream",
     "text": [
      "C:\\Users\\Heliiix\\anaconda3\\Lib\\site-packages\\wwo_hist\\__init__.py:69: FutureWarning: Argument `closed` is deprecated in favor of `inclusive`.\n",
      "  list_mon_begin = pd.date_range(start_date, end_date, freq='MS', closed='right')\n",
      "C:\\Users\\Heliiix\\anaconda3\\Lib\\site-packages\\wwo_hist\\__init__.py:74: FutureWarning: Argument `closed` is deprecated in favor of `inclusive`.\n",
      "  list_mon_end = pd.date_range(start_date, end_date, freq='M', closed='left')\n"
     ]
    },
    {
     "name": "stdout",
     "output_type": "stream",
     "text": [
      "Time elapsed (hh:mm:ss.ms) 0:00:00.248629\n",
      "\n",
      "\n",
      "export Newark completed!\n",
      "\n",
      "\n",
      "70\n",
      "Newark\n",
      "\n",
      "\n",
      "Retrieving weather data for Newark\n",
      "\n",
      "\n",
      "Currently retrieving data for Newark: from 2012-04-07 to 2012-04-07\n"
     ]
    },
    {
     "name": "stderr",
     "output_type": "stream",
     "text": [
      "C:\\Users\\Heliiix\\anaconda3\\Lib\\site-packages\\wwo_hist\\__init__.py:69: FutureWarning: Argument `closed` is deprecated in favor of `inclusive`.\n",
      "  list_mon_begin = pd.date_range(start_date, end_date, freq='MS', closed='right')\n",
      "C:\\Users\\Heliiix\\anaconda3\\Lib\\site-packages\\wwo_hist\\__init__.py:74: FutureWarning: Argument `closed` is deprecated in favor of `inclusive`.\n",
      "  list_mon_end = pd.date_range(start_date, end_date, freq='M', closed='left')\n"
     ]
    },
    {
     "name": "stdout",
     "output_type": "stream",
     "text": [
      "Time elapsed (hh:mm:ss.ms) 0:00:00.231643\n",
      "\n",
      "\n",
      "export Newark completed!\n",
      "\n",
      "\n",
      "71\n",
      "Newark\n",
      "\n",
      "\n",
      "Retrieving weather data for Newark\n",
      "\n",
      "\n",
      "Currently retrieving data for Newark: from 2012-04-07 to 2012-04-07\n"
     ]
    },
    {
     "name": "stderr",
     "output_type": "stream",
     "text": [
      "C:\\Users\\Heliiix\\anaconda3\\Lib\\site-packages\\wwo_hist\\__init__.py:69: FutureWarning: Argument `closed` is deprecated in favor of `inclusive`.\n",
      "  list_mon_begin = pd.date_range(start_date, end_date, freq='MS', closed='right')\n",
      "C:\\Users\\Heliiix\\anaconda3\\Lib\\site-packages\\wwo_hist\\__init__.py:74: FutureWarning: Argument `closed` is deprecated in favor of `inclusive`.\n",
      "  list_mon_end = pd.date_range(start_date, end_date, freq='M', closed='left')\n"
     ]
    },
    {
     "name": "stdout",
     "output_type": "stream",
     "text": [
      "Time elapsed (hh:mm:ss.ms) 0:00:07.259808\n",
      "\n",
      "\n",
      "export Newark completed!\n",
      "\n",
      "\n",
      "72\n",
      "Tacoma\n",
      "\n",
      "\n",
      "Retrieving weather data for Tacoma\n",
      "\n",
      "\n",
      "Currently retrieving data for Tacoma: from 2012-03-26 to 2012-03-26\n"
     ]
    },
    {
     "name": "stderr",
     "output_type": "stream",
     "text": [
      "C:\\Users\\Heliiix\\anaconda3\\Lib\\site-packages\\wwo_hist\\__init__.py:69: FutureWarning: Argument `closed` is deprecated in favor of `inclusive`.\n",
      "  list_mon_begin = pd.date_range(start_date, end_date, freq='MS', closed='right')\n",
      "C:\\Users\\Heliiix\\anaconda3\\Lib\\site-packages\\wwo_hist\\__init__.py:74: FutureWarning: Argument `closed` is deprecated in favor of `inclusive`.\n",
      "  list_mon_end = pd.date_range(start_date, end_date, freq='M', closed='left')\n"
     ]
    },
    {
     "name": "stdout",
     "output_type": "stream",
     "text": [
      "Time elapsed (hh:mm:ss.ms) 0:00:00.428176\n",
      "\n",
      "\n",
      "export Tacoma completed!\n",
      "\n",
      "\n",
      "73\n",
      "Newark\n",
      "\n",
      "\n",
      "Retrieving weather data for Newark\n",
      "\n",
      "\n",
      "Currently retrieving data for Newark: from 2012-03-23 to 2012-03-23\n"
     ]
    },
    {
     "name": "stderr",
     "output_type": "stream",
     "text": [
      "C:\\Users\\Heliiix\\anaconda3\\Lib\\site-packages\\wwo_hist\\__init__.py:69: FutureWarning: Argument `closed` is deprecated in favor of `inclusive`.\n",
      "  list_mon_begin = pd.date_range(start_date, end_date, freq='MS', closed='right')\n",
      "C:\\Users\\Heliiix\\anaconda3\\Lib\\site-packages\\wwo_hist\\__init__.py:74: FutureWarning: Argument `closed` is deprecated in favor of `inclusive`.\n",
      "  list_mon_end = pd.date_range(start_date, end_date, freq='M', closed='left')\n"
     ]
    },
    {
     "name": "stdout",
     "output_type": "stream",
     "text": [
      "Time elapsed (hh:mm:ss.ms) 0:00:00.246965\n",
      "\n",
      "\n",
      "export Newark completed!\n",
      "\n",
      "\n",
      "74\n",
      "Texas\n",
      "\n",
      "\n",
      "Retrieving weather data for Texas\n",
      "\n",
      "\n",
      "Currently retrieving data for Texas: from 2012-03-04 to 2012-03-05\n"
     ]
    },
    {
     "name": "stderr",
     "output_type": "stream",
     "text": [
      "C:\\Users\\Heliiix\\anaconda3\\Lib\\site-packages\\wwo_hist\\__init__.py:69: FutureWarning: Argument `closed` is deprecated in favor of `inclusive`.\n",
      "  list_mon_begin = pd.date_range(start_date, end_date, freq='MS', closed='right')\n",
      "C:\\Users\\Heliiix\\anaconda3\\Lib\\site-packages\\wwo_hist\\__init__.py:74: FutureWarning: Argument `closed` is deprecated in favor of `inclusive`.\n",
      "  list_mon_end = pd.date_range(start_date, end_date, freq='M', closed='left')\n"
     ]
    },
    {
     "name": "stdout",
     "output_type": "stream",
     "text": [
      "Time elapsed (hh:mm:ss.ms) 0:00:00.280795\n",
      "\n",
      "\n",
      "export Texas completed!\n",
      "\n",
      "\n",
      "75\n",
      "Tacoma\n",
      "\n",
      "\n",
      "Retrieving weather data for Tacoma\n",
      "\n",
      "\n",
      "Currently retrieving data for Tacoma: from 2012-02-14 to 2012-02-15\n"
     ]
    },
    {
     "name": "stderr",
     "output_type": "stream",
     "text": [
      "C:\\Users\\Heliiix\\anaconda3\\Lib\\site-packages\\wwo_hist\\__init__.py:69: FutureWarning: Argument `closed` is deprecated in favor of `inclusive`.\n",
      "  list_mon_begin = pd.date_range(start_date, end_date, freq='MS', closed='right')\n",
      "C:\\Users\\Heliiix\\anaconda3\\Lib\\site-packages\\wwo_hist\\__init__.py:74: FutureWarning: Argument `closed` is deprecated in favor of `inclusive`.\n",
      "  list_mon_end = pd.date_range(start_date, end_date, freq='M', closed='left')\n"
     ]
    },
    {
     "name": "stdout",
     "output_type": "stream",
     "text": [
      "Time elapsed (hh:mm:ss.ms) 0:00:00.259262\n",
      "\n",
      "\n",
      "export Tacoma completed!\n",
      "\n",
      "\n",
      "76\n",
      "Tacoma\n",
      "\n",
      "\n",
      "Retrieving weather data for Tacoma\n",
      "\n",
      "\n",
      "Currently retrieving data for Tacoma: from 2012-02-11 to 2012-02-11\n"
     ]
    },
    {
     "name": "stderr",
     "output_type": "stream",
     "text": [
      "C:\\Users\\Heliiix\\anaconda3\\Lib\\site-packages\\wwo_hist\\__init__.py:69: FutureWarning: Argument `closed` is deprecated in favor of `inclusive`.\n",
      "  list_mon_begin = pd.date_range(start_date, end_date, freq='MS', closed='right')\n",
      "C:\\Users\\Heliiix\\anaconda3\\Lib\\site-packages\\wwo_hist\\__init__.py:74: FutureWarning: Argument `closed` is deprecated in favor of `inclusive`.\n",
      "  list_mon_end = pd.date_range(start_date, end_date, freq='M', closed='left')\n"
     ]
    },
    {
     "name": "stdout",
     "output_type": "stream",
     "text": [
      "Time elapsed (hh:mm:ss.ms) 0:00:00.276132\n",
      "\n",
      "\n",
      "export Tacoma completed!\n",
      "\n",
      "\n",
      "77\n",
      "Tacoma\n",
      "\n",
      "\n",
      "Retrieving weather data for Tacoma\n",
      "\n",
      "\n",
      "Currently retrieving data for Tacoma: from 2012-01-24 to 2012-01-24\n"
     ]
    },
    {
     "name": "stderr",
     "output_type": "stream",
     "text": [
      "C:\\Users\\Heliiix\\anaconda3\\Lib\\site-packages\\wwo_hist\\__init__.py:69: FutureWarning: Argument `closed` is deprecated in favor of `inclusive`.\n",
      "  list_mon_begin = pd.date_range(start_date, end_date, freq='MS', closed='right')\n",
      "C:\\Users\\Heliiix\\anaconda3\\Lib\\site-packages\\wwo_hist\\__init__.py:74: FutureWarning: Argument `closed` is deprecated in favor of `inclusive`.\n",
      "  list_mon_end = pd.date_range(start_date, end_date, freq='M', closed='left')\n"
     ]
    },
    {
     "name": "stdout",
     "output_type": "stream",
     "text": [
      "Time elapsed (hh:mm:ss.ms) 0:00:00.246247\n",
      "\n",
      "\n",
      "export Tacoma completed!\n",
      "\n",
      "\n",
      "78\n",
      "Tacoma\n",
      "\n",
      "\n",
      "Retrieving weather data for Tacoma\n",
      "\n",
      "\n",
      "Currently retrieving data for Tacoma: from 2012-01-15 to 2012-01-15\n"
     ]
    },
    {
     "name": "stderr",
     "output_type": "stream",
     "text": [
      "C:\\Users\\Heliiix\\anaconda3\\Lib\\site-packages\\wwo_hist\\__init__.py:69: FutureWarning: Argument `closed` is deprecated in favor of `inclusive`.\n",
      "  list_mon_begin = pd.date_range(start_date, end_date, freq='MS', closed='right')\n",
      "C:\\Users\\Heliiix\\anaconda3\\Lib\\site-packages\\wwo_hist\\__init__.py:74: FutureWarning: Argument `closed` is deprecated in favor of `inclusive`.\n",
      "  list_mon_end = pd.date_range(start_date, end_date, freq='M', closed='left')\n"
     ]
    },
    {
     "name": "stdout",
     "output_type": "stream",
     "text": [
      "Time elapsed (hh:mm:ss.ms) 0:00:00.243680\n",
      "\n",
      "\n",
      "export Tacoma completed!\n",
      "\n",
      "\n",
      "79\n",
      "Newark\n",
      "\n",
      "\n",
      "Retrieving weather data for Newark\n",
      "\n",
      "\n",
      "Currently retrieving data for Newark: from 2012-01-13 to 2012-01-13\n"
     ]
    },
    {
     "name": "stderr",
     "output_type": "stream",
     "text": [
      "C:\\Users\\Heliiix\\anaconda3\\Lib\\site-packages\\wwo_hist\\__init__.py:69: FutureWarning: Argument `closed` is deprecated in favor of `inclusive`.\n",
      "  list_mon_begin = pd.date_range(start_date, end_date, freq='MS', closed='right')\n",
      "C:\\Users\\Heliiix\\anaconda3\\Lib\\site-packages\\wwo_hist\\__init__.py:74: FutureWarning: Argument `closed` is deprecated in favor of `inclusive`.\n",
      "  list_mon_end = pd.date_range(start_date, end_date, freq='M', closed='left')\n"
     ]
    },
    {
     "name": "stdout",
     "output_type": "stream",
     "text": [
      "Time elapsed (hh:mm:ss.ms) 0:00:00.254797\n",
      "\n",
      "\n",
      "export Newark completed!\n",
      "\n",
      "\n",
      "80\n",
      "Newark\n",
      "\n",
      "\n",
      "Retrieving weather data for Newark\n",
      "\n",
      "\n",
      "Currently retrieving data for Newark: from 2012-01-12 to 2012-01-12\n"
     ]
    },
    {
     "name": "stderr",
     "output_type": "stream",
     "text": [
      "C:\\Users\\Heliiix\\anaconda3\\Lib\\site-packages\\wwo_hist\\__init__.py:69: FutureWarning: Argument `closed` is deprecated in favor of `inclusive`.\n",
      "  list_mon_begin = pd.date_range(start_date, end_date, freq='MS', closed='right')\n",
      "C:\\Users\\Heliiix\\anaconda3\\Lib\\site-packages\\wwo_hist\\__init__.py:74: FutureWarning: Argument `closed` is deprecated in favor of `inclusive`.\n",
      "  list_mon_end = pd.date_range(start_date, end_date, freq='M', closed='left')\n"
     ]
    },
    {
     "name": "stdout",
     "output_type": "stream",
     "text": [
      "Time elapsed (hh:mm:ss.ms) 0:00:00.250859\n",
      "\n",
      "\n",
      "export Newark completed!\n",
      "\n",
      "\n",
      "81\n",
      "Tacoma\n",
      "\n",
      "\n",
      "Retrieving weather data for Tacoma\n",
      "\n",
      "\n",
      "Currently retrieving data for Tacoma: from 2012-01-04 to 2012-01-04\n"
     ]
    },
    {
     "name": "stderr",
     "output_type": "stream",
     "text": [
      "C:\\Users\\Heliiix\\anaconda3\\Lib\\site-packages\\wwo_hist\\__init__.py:69: FutureWarning: Argument `closed` is deprecated in favor of `inclusive`.\n",
      "  list_mon_begin = pd.date_range(start_date, end_date, freq='MS', closed='right')\n",
      "C:\\Users\\Heliiix\\anaconda3\\Lib\\site-packages\\wwo_hist\\__init__.py:74: FutureWarning: Argument `closed` is deprecated in favor of `inclusive`.\n",
      "  list_mon_end = pd.date_range(start_date, end_date, freq='M', closed='left')\n"
     ]
    },
    {
     "name": "stdout",
     "output_type": "stream",
     "text": [
      "Time elapsed (hh:mm:ss.ms) 0:00:00.272527\n",
      "\n",
      "\n",
      "export Tacoma completed!\n",
      "\n",
      "\n",
      "82\n",
      "Tacoma\n",
      "\n",
      "\n",
      "Retrieving weather data for Tacoma\n",
      "\n",
      "\n",
      "Currently retrieving data for Tacoma: from 2011-12-31 to 2011-12-31\n"
     ]
    },
    {
     "name": "stderr",
     "output_type": "stream",
     "text": [
      "C:\\Users\\Heliiix\\anaconda3\\Lib\\site-packages\\wwo_hist\\__init__.py:69: FutureWarning: Argument `closed` is deprecated in favor of `inclusive`.\n",
      "  list_mon_begin = pd.date_range(start_date, end_date, freq='MS', closed='right')\n",
      "C:\\Users\\Heliiix\\anaconda3\\Lib\\site-packages\\wwo_hist\\__init__.py:74: FutureWarning: Argument `closed` is deprecated in favor of `inclusive`.\n",
      "  list_mon_end = pd.date_range(start_date, end_date, freq='M', closed='left')\n"
     ]
    },
    {
     "name": "stdout",
     "output_type": "stream",
     "text": [
      "Time elapsed (hh:mm:ss.ms) 0:00:00.272238\n",
      "\n",
      "\n",
      "export Tacoma completed!\n",
      "\n",
      "\n",
      "83\n",
      "Tacoma\n",
      "\n",
      "\n",
      "Retrieving weather data for Tacoma\n",
      "\n",
      "\n",
      "Currently retrieving data for Tacoma: from 2011-12-20 to 2011-12-20\n"
     ]
    },
    {
     "name": "stderr",
     "output_type": "stream",
     "text": [
      "C:\\Users\\Heliiix\\anaconda3\\Lib\\site-packages\\wwo_hist\\__init__.py:69: FutureWarning: Argument `closed` is deprecated in favor of `inclusive`.\n",
      "  list_mon_begin = pd.date_range(start_date, end_date, freq='MS', closed='right')\n",
      "C:\\Users\\Heliiix\\anaconda3\\Lib\\site-packages\\wwo_hist\\__init__.py:74: FutureWarning: Argument `closed` is deprecated in favor of `inclusive`.\n",
      "  list_mon_end = pd.date_range(start_date, end_date, freq='M', closed='left')\n"
     ]
    },
    {
     "name": "stdout",
     "output_type": "stream",
     "text": [
      "Time elapsed (hh:mm:ss.ms) 0:00:00.336335\n",
      "\n",
      "\n",
      "export Tacoma completed!\n",
      "\n",
      "\n",
      "84\n",
      "Tacoma\n",
      "\n",
      "\n",
      "Retrieving weather data for Tacoma\n",
      "\n",
      "\n",
      "Currently retrieving data for Tacoma: from 2011-12-08 to 2011-12-08\n"
     ]
    },
    {
     "name": "stderr",
     "output_type": "stream",
     "text": [
      "C:\\Users\\Heliiix\\anaconda3\\Lib\\site-packages\\wwo_hist\\__init__.py:69: FutureWarning: Argument `closed` is deprecated in favor of `inclusive`.\n",
      "  list_mon_begin = pd.date_range(start_date, end_date, freq='MS', closed='right')\n",
      "C:\\Users\\Heliiix\\anaconda3\\Lib\\site-packages\\wwo_hist\\__init__.py:74: FutureWarning: Argument `closed` is deprecated in favor of `inclusive`.\n",
      "  list_mon_end = pd.date_range(start_date, end_date, freq='M', closed='left')\n"
     ]
    },
    {
     "name": "stdout",
     "output_type": "stream",
     "text": [
      "Time elapsed (hh:mm:ss.ms) 0:00:00.247397\n",
      "\n",
      "\n",
      "export Tacoma completed!\n",
      "\n",
      "\n",
      "85\n",
      "Tacoma\n",
      "\n",
      "\n",
      "Retrieving weather data for Tacoma\n",
      "\n",
      "\n",
      "Currently retrieving data for Tacoma: from 2011-12-05 to 2011-12-06\n"
     ]
    },
    {
     "name": "stderr",
     "output_type": "stream",
     "text": [
      "C:\\Users\\Heliiix\\anaconda3\\Lib\\site-packages\\wwo_hist\\__init__.py:69: FutureWarning: Argument `closed` is deprecated in favor of `inclusive`.\n",
      "  list_mon_begin = pd.date_range(start_date, end_date, freq='MS', closed='right')\n",
      "C:\\Users\\Heliiix\\anaconda3\\Lib\\site-packages\\wwo_hist\\__init__.py:74: FutureWarning: Argument `closed` is deprecated in favor of `inclusive`.\n",
      "  list_mon_end = pd.date_range(start_date, end_date, freq='M', closed='left')\n"
     ]
    },
    {
     "name": "stdout",
     "output_type": "stream",
     "text": [
      "Time elapsed (hh:mm:ss.ms) 0:00:00.279758\n",
      "\n",
      "\n",
      "export Tacoma completed!\n",
      "\n",
      "\n",
      "86\n",
      "Southern%20California\n",
      "\n",
      "\n",
      "Retrieving weather data for Southern%20California\n",
      "\n",
      "\n",
      "Currently retrieving data for Southern%20California: from 2011-12-01 to 2011-12-07\n"
     ]
    },
    {
     "name": "stderr",
     "output_type": "stream",
     "text": [
      "C:\\Users\\Heliiix\\anaconda3\\Lib\\site-packages\\wwo_hist\\__init__.py:69: FutureWarning: Argument `closed` is deprecated in favor of `inclusive`.\n",
      "  list_mon_begin = pd.date_range(start_date, end_date, freq='MS', closed='right')\n",
      "C:\\Users\\Heliiix\\anaconda3\\Lib\\site-packages\\wwo_hist\\__init__.py:74: FutureWarning: Argument `closed` is deprecated in favor of `inclusive`.\n",
      "  list_mon_end = pd.date_range(start_date, end_date, freq='M', closed='left')\n"
     ]
    },
    {
     "name": "stdout",
     "output_type": "stream",
     "text": [
      "Time elapsed (hh:mm:ss.ms) 0:00:00.326801\n",
      "\n",
      "\n",
      "export Southern%20California completed!\n",
      "\n",
      "\n",
      "87\n",
      "Northern%20California\n",
      "\n",
      "\n",
      "Retrieving weather data for Northern%20California\n",
      "\n",
      "\n",
      "Currently retrieving data for Northern%20California: from 2011-12-01 to 2011-12-02\n"
     ]
    },
    {
     "name": "stderr",
     "output_type": "stream",
     "text": [
      "C:\\Users\\Heliiix\\anaconda3\\Lib\\site-packages\\wwo_hist\\__init__.py:69: FutureWarning: Argument `closed` is deprecated in favor of `inclusive`.\n",
      "  list_mon_begin = pd.date_range(start_date, end_date, freq='MS', closed='right')\n",
      "C:\\Users\\Heliiix\\anaconda3\\Lib\\site-packages\\wwo_hist\\__init__.py:74: FutureWarning: Argument `closed` is deprecated in favor of `inclusive`.\n",
      "  list_mon_end = pd.date_range(start_date, end_date, freq='M', closed='left')\n"
     ]
    },
    {
     "name": "stdout",
     "output_type": "stream",
     "text": [
      "Time elapsed (hh:mm:ss.ms) 0:00:00.259848\n",
      "\n",
      "\n",
      "export Northern%20California completed!\n",
      "\n",
      "\n",
      "88\n",
      "Pennsylvania\n",
      "\n",
      "\n",
      "Retrieving weather data for Pennsylvania\n",
      "\n",
      "\n",
      "Currently retrieving data for Pennsylvania: from 2011-10-29 to 2011-10-31\n"
     ]
    },
    {
     "name": "stderr",
     "output_type": "stream",
     "text": [
      "C:\\Users\\Heliiix\\anaconda3\\Lib\\site-packages\\wwo_hist\\__init__.py:69: FutureWarning: Argument `closed` is deprecated in favor of `inclusive`.\n",
      "  list_mon_begin = pd.date_range(start_date, end_date, freq='MS', closed='right')\n",
      "C:\\Users\\Heliiix\\anaconda3\\Lib\\site-packages\\wwo_hist\\__init__.py:74: FutureWarning: Argument `closed` is deprecated in favor of `inclusive`.\n",
      "  list_mon_end = pd.date_range(start_date, end_date, freq='M', closed='left')\n"
     ]
    },
    {
     "name": "stdout",
     "output_type": "stream",
     "text": [
      "Time elapsed (hh:mm:ss.ms) 0:00:00.288043\n",
      "Currently retrieving data for Pennsylvania: from 2011-11-01 to 2011-11-07\n",
      "Time elapsed (hh:mm:ss.ms) 0:00:00.606023\n",
      "\n",
      "\n",
      "export Pennsylvania completed!\n",
      "\n",
      "\n",
      "89\n",
      "Pennsylvania\n",
      "\n",
      "\n",
      "Retrieving weather data for Pennsylvania\n",
      "\n",
      "\n",
      "Currently retrieving data for Pennsylvania: from 2011-10-29 to 2011-10-31\n"
     ]
    },
    {
     "name": "stderr",
     "output_type": "stream",
     "text": [
      "C:\\Users\\Heliiix\\anaconda3\\Lib\\site-packages\\wwo_hist\\__init__.py:69: FutureWarning: Argument `closed` is deprecated in favor of `inclusive`.\n",
      "  list_mon_begin = pd.date_range(start_date, end_date, freq='MS', closed='right')\n",
      "C:\\Users\\Heliiix\\anaconda3\\Lib\\site-packages\\wwo_hist\\__init__.py:74: FutureWarning: Argument `closed` is deprecated in favor of `inclusive`.\n",
      "  list_mon_end = pd.date_range(start_date, end_date, freq='M', closed='left')\n"
     ]
    },
    {
     "name": "stdout",
     "output_type": "stream",
     "text": [
      "Time elapsed (hh:mm:ss.ms) 0:00:00.252977\n",
      "Currently retrieving data for Pennsylvania: from 2011-11-01 to 2011-11-07\n",
      "Time elapsed (hh:mm:ss.ms) 0:00:00.516740\n",
      "\n",
      "\n",
      "export Pennsylvania completed!\n",
      "\n",
      "\n",
      "90\n",
      "New%20York\n",
      "\n",
      "\n",
      "Retrieving weather data for New%20York\n",
      "\n",
      "\n",
      "Currently retrieving data for New%20York: from 2011-08-28 to 2011-08-28\n"
     ]
    },
    {
     "name": "stderr",
     "output_type": "stream",
     "text": [
      "C:\\Users\\Heliiix\\anaconda3\\Lib\\site-packages\\wwo_hist\\__init__.py:69: FutureWarning: Argument `closed` is deprecated in favor of `inclusive`.\n",
      "  list_mon_begin = pd.date_range(start_date, end_date, freq='MS', closed='right')\n",
      "C:\\Users\\Heliiix\\anaconda3\\Lib\\site-packages\\wwo_hist\\__init__.py:74: FutureWarning: Argument `closed` is deprecated in favor of `inclusive`.\n",
      "  list_mon_end = pd.date_range(start_date, end_date, freq='M', closed='left')\n"
     ]
    },
    {
     "name": "stdout",
     "output_type": "stream",
     "text": [
      "Time elapsed (hh:mm:ss.ms) 0:00:00.244422\n",
      "\n",
      "\n",
      "export New%20York completed!\n",
      "\n",
      "\n",
      "91\n",
      "New%20York\n",
      "\n",
      "\n",
      "Retrieving weather data for New%20York\n",
      "\n",
      "\n",
      "Currently retrieving data for New%20York: from 2011-08-28 to 2011-08-31\n"
     ]
    },
    {
     "name": "stderr",
     "output_type": "stream",
     "text": [
      "C:\\Users\\Heliiix\\anaconda3\\Lib\\site-packages\\wwo_hist\\__init__.py:69: FutureWarning: Argument `closed` is deprecated in favor of `inclusive`.\n",
      "  list_mon_begin = pd.date_range(start_date, end_date, freq='MS', closed='right')\n",
      "C:\\Users\\Heliiix\\anaconda3\\Lib\\site-packages\\wwo_hist\\__init__.py:74: FutureWarning: Argument `closed` is deprecated in favor of `inclusive`.\n",
      "  list_mon_end = pd.date_range(start_date, end_date, freq='M', closed='left')\n"
     ]
    },
    {
     "name": "stdout",
     "output_type": "stream",
     "text": [
      "Time elapsed (hh:mm:ss.ms) 0:00:00.293316\n",
      "Currently retrieving data for New%20York: from 2011-09-01 to 2011-09-03\n",
      "Time elapsed (hh:mm:ss.ms) 0:00:00.565018\n",
      "\n",
      "\n",
      "export New%20York completed!\n",
      "\n",
      "\n",
      "92\n",
      "Pennsylvania\n",
      "\n",
      "\n",
      "Retrieving weather data for Pennsylvania\n",
      "\n",
      "\n",
      "Currently retrieving data for Pennsylvania: from 2011-08-27 to 2011-08-29\n"
     ]
    },
    {
     "name": "stderr",
     "output_type": "stream",
     "text": [
      "C:\\Users\\Heliiix\\anaconda3\\Lib\\site-packages\\wwo_hist\\__init__.py:69: FutureWarning: Argument `closed` is deprecated in favor of `inclusive`.\n",
      "  list_mon_begin = pd.date_range(start_date, end_date, freq='MS', closed='right')\n",
      "C:\\Users\\Heliiix\\anaconda3\\Lib\\site-packages\\wwo_hist\\__init__.py:74: FutureWarning: Argument `closed` is deprecated in favor of `inclusive`.\n",
      "  list_mon_end = pd.date_range(start_date, end_date, freq='M', closed='left')\n"
     ]
    },
    {
     "name": "stdout",
     "output_type": "stream",
     "text": [
      "Time elapsed (hh:mm:ss.ms) 0:00:00.257365\n",
      "\n",
      "\n",
      "export Pennsylvania completed!\n",
      "\n",
      "\n",
      "93\n",
      "Pennsylvania\n",
      "\n",
      "\n",
      "Retrieving weather data for Pennsylvania\n",
      "\n",
      "\n",
      "Currently retrieving data for Pennsylvania: from 2011-08-26 to 2011-08-28\n"
     ]
    },
    {
     "name": "stderr",
     "output_type": "stream",
     "text": [
      "C:\\Users\\Heliiix\\anaconda3\\Lib\\site-packages\\wwo_hist\\__init__.py:69: FutureWarning: Argument `closed` is deprecated in favor of `inclusive`.\n",
      "  list_mon_begin = pd.date_range(start_date, end_date, freq='MS', closed='right')\n",
      "C:\\Users\\Heliiix\\anaconda3\\Lib\\site-packages\\wwo_hist\\__init__.py:74: FutureWarning: Argument `closed` is deprecated in favor of `inclusive`.\n",
      "  list_mon_end = pd.date_range(start_date, end_date, freq='M', closed='left')\n"
     ]
    },
    {
     "name": "stdout",
     "output_type": "stream",
     "text": [
      "Time elapsed (hh:mm:ss.ms) 0:00:00.277374\n",
      "\n",
      "\n",
      "export Pennsylvania completed!\n",
      "\n",
      "\n",
      "94\n",
      "Texas\n",
      "\n",
      "\n",
      "Retrieving weather data for Texas\n",
      "\n",
      "\n",
      "Currently retrieving data for Texas: from 2011-08-24 to 2011-08-29\n"
     ]
    },
    {
     "name": "stderr",
     "output_type": "stream",
     "text": [
      "C:\\Users\\Heliiix\\anaconda3\\Lib\\site-packages\\wwo_hist\\__init__.py:69: FutureWarning: Argument `closed` is deprecated in favor of `inclusive`.\n",
      "  list_mon_begin = pd.date_range(start_date, end_date, freq='MS', closed='right')\n",
      "C:\\Users\\Heliiix\\anaconda3\\Lib\\site-packages\\wwo_hist\\__init__.py:74: FutureWarning: Argument `closed` is deprecated in favor of `inclusive`.\n",
      "  list_mon_end = pd.date_range(start_date, end_date, freq='M', closed='left')\n"
     ]
    },
    {
     "name": "stdout",
     "output_type": "stream",
     "text": [
      "Time elapsed (hh:mm:ss.ms) 0:00:00.300882\n",
      "\n",
      "\n",
      "export Texas completed!\n",
      "\n",
      "\n",
      "95\n",
      "Texas\n",
      "\n",
      "\n",
      "Retrieving weather data for Texas\n",
      "\n",
      "\n",
      "Currently retrieving data for Texas: from 2011-08-23 to 2011-08-23\n"
     ]
    },
    {
     "name": "stderr",
     "output_type": "stream",
     "text": [
      "C:\\Users\\Heliiix\\anaconda3\\Lib\\site-packages\\wwo_hist\\__init__.py:69: FutureWarning: Argument `closed` is deprecated in favor of `inclusive`.\n",
      "  list_mon_begin = pd.date_range(start_date, end_date, freq='MS', closed='right')\n",
      "C:\\Users\\Heliiix\\anaconda3\\Lib\\site-packages\\wwo_hist\\__init__.py:74: FutureWarning: Argument `closed` is deprecated in favor of `inclusive`.\n",
      "  list_mon_end = pd.date_range(start_date, end_date, freq='M', closed='left')\n"
     ]
    },
    {
     "name": "stdout",
     "output_type": "stream",
     "text": [
      "Time elapsed (hh:mm:ss.ms) 0:00:00.236529\n",
      "\n",
      "\n",
      "export Texas completed!\n",
      "\n",
      "\n",
      "96\n",
      "Virginia\n",
      "\n",
      "\n",
      "Retrieving weather data for Virginia\n",
      "\n",
      "\n",
      "Currently retrieving data for Virginia: from 2011-08-23 to 2011-08-23\n"
     ]
    },
    {
     "name": "stderr",
     "output_type": "stream",
     "text": [
      "C:\\Users\\Heliiix\\anaconda3\\Lib\\site-packages\\wwo_hist\\__init__.py:69: FutureWarning: Argument `closed` is deprecated in favor of `inclusive`.\n",
      "  list_mon_begin = pd.date_range(start_date, end_date, freq='MS', closed='right')\n",
      "C:\\Users\\Heliiix\\anaconda3\\Lib\\site-packages\\wwo_hist\\__init__.py:74: FutureWarning: Argument `closed` is deprecated in favor of `inclusive`.\n",
      "  list_mon_end = pd.date_range(start_date, end_date, freq='M', closed='left')\n"
     ]
    },
    {
     "name": "stdout",
     "output_type": "stream",
     "text": [
      "Time elapsed (hh:mm:ss.ms) 0:00:00.255182\n",
      "\n",
      "\n",
      "export Virginia completed!\n",
      "\n",
      "\n",
      "97\n",
      "Southeastern%20Michigan\n",
      "\n",
      "\n",
      "Retrieving weather data for Southeastern%20Michigan\n",
      "\n",
      "\n",
      "Currently retrieving data for Southeastern%20Michigan: from 2011-08-20 to 2011-08-23\n"
     ]
    },
    {
     "name": "stderr",
     "output_type": "stream",
     "text": [
      "C:\\Users\\Heliiix\\anaconda3\\Lib\\site-packages\\wwo_hist\\__init__.py:69: FutureWarning: Argument `closed` is deprecated in favor of `inclusive`.\n",
      "  list_mon_begin = pd.date_range(start_date, end_date, freq='MS', closed='right')\n",
      "C:\\Users\\Heliiix\\anaconda3\\Lib\\site-packages\\wwo_hist\\__init__.py:74: FutureWarning: Argument `closed` is deprecated in favor of `inclusive`.\n",
      "  list_mon_end = pd.date_range(start_date, end_date, freq='M', closed='left')\n"
     ]
    },
    {
     "name": "stdout",
     "output_type": "stream",
     "text": [
      "Time elapsed (hh:mm:ss.ms) 0:00:00.282757\n",
      "\n",
      "\n",
      "export Southeastern%20Michigan completed!\n",
      "\n",
      "\n",
      "98\n",
      "Texas\n",
      "\n",
      "\n",
      "Retrieving weather data for Texas\n",
      "\n",
      "\n",
      "Currently retrieving data for Texas: from 2011-08-01 to 2011-08-05\n"
     ]
    },
    {
     "name": "stderr",
     "output_type": "stream",
     "text": [
      "C:\\Users\\Heliiix\\anaconda3\\Lib\\site-packages\\wwo_hist\\__init__.py:69: FutureWarning: Argument `closed` is deprecated in favor of `inclusive`.\n",
      "  list_mon_begin = pd.date_range(start_date, end_date, freq='MS', closed='right')\n",
      "C:\\Users\\Heliiix\\anaconda3\\Lib\\site-packages\\wwo_hist\\__init__.py:74: FutureWarning: Argument `closed` is deprecated in favor of `inclusive`.\n",
      "  list_mon_end = pd.date_range(start_date, end_date, freq='M', closed='left')\n"
     ]
    },
    {
     "name": "stdout",
     "output_type": "stream",
     "text": [
      "Time elapsed (hh:mm:ss.ms) 0:00:00.291700\n",
      "\n",
      "\n",
      "export Texas completed!\n",
      "\n",
      "\n",
      "99\n",
      "Illinois\n",
      "\n",
      "\n",
      "Retrieving weather data for Illinois\n",
      "\n",
      "\n",
      "Currently retrieving data for Illinois: from 2011-07-23 to 2011-07-24\n"
     ]
    },
    {
     "name": "stderr",
     "output_type": "stream",
     "text": [
      "C:\\Users\\Heliiix\\anaconda3\\Lib\\site-packages\\wwo_hist\\__init__.py:69: FutureWarning: Argument `closed` is deprecated in favor of `inclusive`.\n",
      "  list_mon_begin = pd.date_range(start_date, end_date, freq='MS', closed='right')\n",
      "C:\\Users\\Heliiix\\anaconda3\\Lib\\site-packages\\wwo_hist\\__init__.py:74: FutureWarning: Argument `closed` is deprecated in favor of `inclusive`.\n",
      "  list_mon_end = pd.date_range(start_date, end_date, freq='M', closed='left')\n"
     ]
    },
    {
     "name": "stdout",
     "output_type": "stream",
     "text": [
      "Time elapsed (hh:mm:ss.ms) 0:00:00.262260\n",
      "\n",
      "\n",
      "export Illinois completed!\n",
      "\n",
      "\n",
      "100\n",
      "Ohio\n",
      "\n",
      "\n",
      "Retrieving weather data for Ohio\n",
      "\n",
      "\n",
      "Currently retrieving data for Ohio: from 2011-07-22 to 2011-07-22\n"
     ]
    },
    {
     "name": "stderr",
     "output_type": "stream",
     "text": [
      "C:\\Users\\Heliiix\\anaconda3\\Lib\\site-packages\\wwo_hist\\__init__.py:69: FutureWarning: Argument `closed` is deprecated in favor of `inclusive`.\n",
      "  list_mon_begin = pd.date_range(start_date, end_date, freq='MS', closed='right')\n",
      "C:\\Users\\Heliiix\\anaconda3\\Lib\\site-packages\\wwo_hist\\__init__.py:74: FutureWarning: Argument `closed` is deprecated in favor of `inclusive`.\n",
      "  list_mon_end = pd.date_range(start_date, end_date, freq='M', closed='left')\n"
     ]
    },
    {
     "name": "stdout",
     "output_type": "stream",
     "text": [
      "Time elapsed (hh:mm:ss.ms) 0:00:00.261674\n",
      "\n",
      "\n",
      "export Ohio completed!\n",
      "\n",
      "\n",
      "101\n",
      "Texas\n",
      "\n",
      "\n",
      "Retrieving weather data for Texas\n",
      "\n",
      "\n",
      "Currently retrieving data for Texas: from 2011-07-14 to 2011-07-14\n"
     ]
    },
    {
     "name": "stderr",
     "output_type": "stream",
     "text": [
      "C:\\Users\\Heliiix\\anaconda3\\Lib\\site-packages\\wwo_hist\\__init__.py:69: FutureWarning: Argument `closed` is deprecated in favor of `inclusive`.\n",
      "  list_mon_begin = pd.date_range(start_date, end_date, freq='MS', closed='right')\n",
      "C:\\Users\\Heliiix\\anaconda3\\Lib\\site-packages\\wwo_hist\\__init__.py:74: FutureWarning: Argument `closed` is deprecated in favor of `inclusive`.\n",
      "  list_mon_end = pd.date_range(start_date, end_date, freq='M', closed='left')\n"
     ]
    },
    {
     "name": "stdout",
     "output_type": "stream",
     "text": [
      "Time elapsed (hh:mm:ss.ms) 0:00:00.254687\n",
      "\n",
      "\n",
      "export Texas completed!\n",
      "\n",
      "\n",
      "102\n",
      "California\n",
      "\n",
      "\n",
      "Retrieving weather data for California\n",
      "\n",
      "\n",
      "Currently retrieving data for California: from 2011-07-12 to 2011-07-12\n"
     ]
    },
    {
     "name": "stderr",
     "output_type": "stream",
     "text": [
      "C:\\Users\\Heliiix\\anaconda3\\Lib\\site-packages\\wwo_hist\\__init__.py:69: FutureWarning: Argument `closed` is deprecated in favor of `inclusive`.\n",
      "  list_mon_begin = pd.date_range(start_date, end_date, freq='MS', closed='right')\n",
      "C:\\Users\\Heliiix\\anaconda3\\Lib\\site-packages\\wwo_hist\\__init__.py:74: FutureWarning: Argument `closed` is deprecated in favor of `inclusive`.\n",
      "  list_mon_end = pd.date_range(start_date, end_date, freq='M', closed='left')\n"
     ]
    },
    {
     "name": "stdout",
     "output_type": "stream",
     "text": [
      "Time elapsed (hh:mm:ss.ms) 0:00:00.311185\n",
      "\n",
      "\n",
      "export California completed!\n",
      "\n",
      "\n",
      "103\n",
      "Michigan\n",
      "\n",
      "\n",
      "Retrieving weather data for Michigan\n",
      "\n",
      "\n",
      "Currently retrieving data for Michigan: from 2011-07-11 to 2011-07-11\n"
     ]
    },
    {
     "name": "stderr",
     "output_type": "stream",
     "text": [
      "C:\\Users\\Heliiix\\anaconda3\\Lib\\site-packages\\wwo_hist\\__init__.py:69: FutureWarning: Argument `closed` is deprecated in favor of `inclusive`.\n",
      "  list_mon_begin = pd.date_range(start_date, end_date, freq='MS', closed='right')\n",
      "C:\\Users\\Heliiix\\anaconda3\\Lib\\site-packages\\wwo_hist\\__init__.py:74: FutureWarning: Argument `closed` is deprecated in favor of `inclusive`.\n",
      "  list_mon_end = pd.date_range(start_date, end_date, freq='M', closed='left')\n"
     ]
    },
    {
     "name": "stdout",
     "output_type": "stream",
     "text": [
      "Time elapsed (hh:mm:ss.ms) 0:00:00.236662\n",
      "\n",
      "\n",
      "export Michigan completed!\n",
      "\n",
      "\n",
      "104\n",
      "Illinois\n",
      "\n",
      "\n",
      "Retrieving weather data for Illinois\n",
      "\n",
      "\n",
      "Currently retrieving data for Illinois: from 2011-07-11 to 2011-07-11\n"
     ]
    },
    {
     "name": "stderr",
     "output_type": "stream",
     "text": [
      "C:\\Users\\Heliiix\\anaconda3\\Lib\\site-packages\\wwo_hist\\__init__.py:69: FutureWarning: Argument `closed` is deprecated in favor of `inclusive`.\n",
      "  list_mon_begin = pd.date_range(start_date, end_date, freq='MS', closed='right')\n",
      "C:\\Users\\Heliiix\\anaconda3\\Lib\\site-packages\\wwo_hist\\__init__.py:74: FutureWarning: Argument `closed` is deprecated in favor of `inclusive`.\n",
      "  list_mon_end = pd.date_range(start_date, end_date, freq='M', closed='left')\n"
     ]
    },
    {
     "name": "stdout",
     "output_type": "stream",
     "text": [
      "Time elapsed (hh:mm:ss.ms) 0:00:00.305813\n",
      "\n",
      "\n",
      "export Illinois completed!\n",
      "\n",
      "\n",
      "105\n",
      "Virginia\n",
      "\n",
      "\n",
      "Retrieving weather data for Virginia\n",
      "\n",
      "\n",
      "Currently retrieving data for Virginia: from 2011-07-04 to 2011-07-04\n"
     ]
    },
    {
     "name": "stderr",
     "output_type": "stream",
     "text": [
      "C:\\Users\\Heliiix\\anaconda3\\Lib\\site-packages\\wwo_hist\\__init__.py:69: FutureWarning: Argument `closed` is deprecated in favor of `inclusive`.\n",
      "  list_mon_begin = pd.date_range(start_date, end_date, freq='MS', closed='right')\n",
      "C:\\Users\\Heliiix\\anaconda3\\Lib\\site-packages\\wwo_hist\\__init__.py:74: FutureWarning: Argument `closed` is deprecated in favor of `inclusive`.\n",
      "  list_mon_end = pd.date_range(start_date, end_date, freq='M', closed='left')\n"
     ]
    },
    {
     "name": "stdout",
     "output_type": "stream",
     "text": [
      "Time elapsed (hh:mm:ss.ms) 0:00:00.263174\n",
      "\n",
      "\n",
      "export Virginia completed!\n",
      "\n",
      "\n",
      "106\n",
      "Illinois\n",
      "\n",
      "\n",
      "Retrieving weather data for Illinois\n",
      "\n",
      "\n",
      "Currently retrieving data for Illinois: from 2011-06-30 to 2011-06-30\n"
     ]
    },
    {
     "name": "stderr",
     "output_type": "stream",
     "text": [
      "C:\\Users\\Heliiix\\anaconda3\\Lib\\site-packages\\wwo_hist\\__init__.py:69: FutureWarning: Argument `closed` is deprecated in favor of `inclusive`.\n",
      "  list_mon_begin = pd.date_range(start_date, end_date, freq='MS', closed='right')\n",
      "C:\\Users\\Heliiix\\anaconda3\\Lib\\site-packages\\wwo_hist\\__init__.py:74: FutureWarning: Argument `closed` is deprecated in favor of `inclusive`.\n",
      "  list_mon_end = pd.date_range(start_date, end_date, freq='M', closed='left')\n"
     ]
    },
    {
     "name": "stdout",
     "output_type": "stream",
     "text": [
      "Time elapsed (hh:mm:ss.ms) 0:00:00.267983\n",
      "Currently retrieving data for Illinois: from 2011-07-01 to 2011-07-01\n",
      "Time elapsed (hh:mm:ss.ms) 0:00:00.504351\n",
      "\n",
      "\n",
      "export Illinois completed!\n",
      "\n",
      "\n",
      "107\n",
      "Texas\n",
      "\n",
      "\n",
      "Retrieving weather data for Texas\n",
      "\n",
      "\n",
      "Currently retrieving data for Texas: from 2011-06-27 to 2011-06-27\n"
     ]
    },
    {
     "name": "stderr",
     "output_type": "stream",
     "text": [
      "C:\\Users\\Heliiix\\anaconda3\\Lib\\site-packages\\wwo_hist\\__init__.py:69: FutureWarning: Argument `closed` is deprecated in favor of `inclusive`.\n",
      "  list_mon_begin = pd.date_range(start_date, end_date, freq='MS', closed='right')\n",
      "C:\\Users\\Heliiix\\anaconda3\\Lib\\site-packages\\wwo_hist\\__init__.py:74: FutureWarning: Argument `closed` is deprecated in favor of `inclusive`.\n",
      "  list_mon_end = pd.date_range(start_date, end_date, freq='M', closed='left')\n"
     ]
    },
    {
     "name": "stdout",
     "output_type": "stream",
     "text": [
      "Time elapsed (hh:mm:ss.ms) 0:00:00.248352\n",
      "\n",
      "\n",
      "export Texas completed!\n",
      "\n",
      "\n",
      "108\n",
      "Illinois\n",
      "\n",
      "\n",
      "Retrieving weather data for Illinois\n",
      "\n",
      "\n",
      "Currently retrieving data for Illinois: from 2011-06-21 to 2011-06-23\n"
     ]
    },
    {
     "name": "stderr",
     "output_type": "stream",
     "text": [
      "C:\\Users\\Heliiix\\anaconda3\\Lib\\site-packages\\wwo_hist\\__init__.py:69: FutureWarning: Argument `closed` is deprecated in favor of `inclusive`.\n",
      "  list_mon_begin = pd.date_range(start_date, end_date, freq='MS', closed='right')\n",
      "C:\\Users\\Heliiix\\anaconda3\\Lib\\site-packages\\wwo_hist\\__init__.py:74: FutureWarning: Argument `closed` is deprecated in favor of `inclusive`.\n",
      "  list_mon_end = pd.date_range(start_date, end_date, freq='M', closed='left')\n"
     ]
    },
    {
     "name": "stdout",
     "output_type": "stream",
     "text": [
      "Time elapsed (hh:mm:ss.ms) 0:00:00.302837\n",
      "\n",
      "\n",
      "export Illinois completed!\n",
      "\n",
      "\n",
      "109\n",
      "Georgia\n",
      "\n",
      "\n",
      "Retrieving weather data for Georgia\n",
      "\n",
      "\n",
      "Currently retrieving data for Georgia: from 2011-06-15 to 2011-06-16\n"
     ]
    },
    {
     "name": "stderr",
     "output_type": "stream",
     "text": [
      "C:\\Users\\Heliiix\\anaconda3\\Lib\\site-packages\\wwo_hist\\__init__.py:69: FutureWarning: Argument `closed` is deprecated in favor of `inclusive`.\n",
      "  list_mon_begin = pd.date_range(start_date, end_date, freq='MS', closed='right')\n",
      "C:\\Users\\Heliiix\\anaconda3\\Lib\\site-packages\\wwo_hist\\__init__.py:74: FutureWarning: Argument `closed` is deprecated in favor of `inclusive`.\n",
      "  list_mon_end = pd.date_range(start_date, end_date, freq='M', closed='left')\n"
     ]
    },
    {
     "name": "stdout",
     "output_type": "stream",
     "text": [
      "Time elapsed (hh:mm:ss.ms) 0:00:00.270119\n",
      "\n",
      "\n",
      "export Georgia completed!\n",
      "\n",
      "\n",
      "110\n",
      "Virginia\n",
      "\n",
      "\n",
      "Retrieving weather data for Virginia\n",
      "\n",
      "\n",
      "Currently retrieving data for Virginia: from 2011-06-12 to 2011-06-12\n"
     ]
    },
    {
     "name": "stderr",
     "output_type": "stream",
     "text": [
      "C:\\Users\\Heliiix\\anaconda3\\Lib\\site-packages\\wwo_hist\\__init__.py:69: FutureWarning: Argument `closed` is deprecated in favor of `inclusive`.\n",
      "  list_mon_begin = pd.date_range(start_date, end_date, freq='MS', closed='right')\n",
      "C:\\Users\\Heliiix\\anaconda3\\Lib\\site-packages\\wwo_hist\\__init__.py:74: FutureWarning: Argument `closed` is deprecated in favor of `inclusive`.\n",
      "  list_mon_end = pd.date_range(start_date, end_date, freq='M', closed='left')\n"
     ]
    },
    {
     "name": "stdout",
     "output_type": "stream",
     "text": [
      "Time elapsed (hh:mm:ss.ms) 0:00:00.263007\n",
      "\n",
      "\n",
      "export Virginia completed!\n",
      "\n",
      "\n",
      "111\n",
      "Illinois\n",
      "\n",
      "\n",
      "Retrieving weather data for Illinois\n",
      "\n",
      "\n",
      "Currently retrieving data for Illinois: from 2011-06-09 to 2011-06-09\n"
     ]
    },
    {
     "name": "stderr",
     "output_type": "stream",
     "text": [
      "C:\\Users\\Heliiix\\anaconda3\\Lib\\site-packages\\wwo_hist\\__init__.py:69: FutureWarning: Argument `closed` is deprecated in favor of `inclusive`.\n",
      "  list_mon_begin = pd.date_range(start_date, end_date, freq='MS', closed='right')\n",
      "C:\\Users\\Heliiix\\anaconda3\\Lib\\site-packages\\wwo_hist\\__init__.py:74: FutureWarning: Argument `closed` is deprecated in favor of `inclusive`.\n",
      "  list_mon_end = pd.date_range(start_date, end_date, freq='M', closed='left')\n"
     ]
    },
    {
     "name": "stdout",
     "output_type": "stream",
     "text": [
      "Time elapsed (hh:mm:ss.ms) 0:00:00.236723\n",
      "\n",
      "\n",
      "export Illinois completed!\n",
      "\n",
      "\n",
      "112\n",
      "Ohio\n",
      "\n",
      "\n",
      "Retrieving weather data for Ohio\n",
      "\n",
      "\n",
      "Currently retrieving data for Ohio: from 2011-06-07 to 2011-06-08\n"
     ]
    },
    {
     "name": "stderr",
     "output_type": "stream",
     "text": [
      "C:\\Users\\Heliiix\\anaconda3\\Lib\\site-packages\\wwo_hist\\__init__.py:69: FutureWarning: Argument `closed` is deprecated in favor of `inclusive`.\n",
      "  list_mon_begin = pd.date_range(start_date, end_date, freq='MS', closed='right')\n",
      "C:\\Users\\Heliiix\\anaconda3\\Lib\\site-packages\\wwo_hist\\__init__.py:74: FutureWarning: Argument `closed` is deprecated in favor of `inclusive`.\n",
      "  list_mon_end = pd.date_range(start_date, end_date, freq='M', closed='left')\n"
     ]
    },
    {
     "name": "stdout",
     "output_type": "stream",
     "text": [
      "Time elapsed (hh:mm:ss.ms) 0:00:00.270044\n",
      "\n",
      "\n",
      "export Ohio completed!\n",
      "\n",
      "\n",
      "113\n",
      "New%20York\n",
      "\n",
      "\n",
      "Retrieving weather data for New%20York\n",
      "\n",
      "\n",
      "Currently retrieving data for New%20York: from 2011-05-08 to 2011-05-08\n"
     ]
    },
    {
     "name": "stderr",
     "output_type": "stream",
     "text": [
      "C:\\Users\\Heliiix\\anaconda3\\Lib\\site-packages\\wwo_hist\\__init__.py:69: FutureWarning: Argument `closed` is deprecated in favor of `inclusive`.\n",
      "  list_mon_begin = pd.date_range(start_date, end_date, freq='MS', closed='right')\n",
      "C:\\Users\\Heliiix\\anaconda3\\Lib\\site-packages\\wwo_hist\\__init__.py:74: FutureWarning: Argument `closed` is deprecated in favor of `inclusive`.\n",
      "  list_mon_end = pd.date_range(start_date, end_date, freq='M', closed='left')\n"
     ]
    },
    {
     "name": "stdout",
     "output_type": "stream",
     "text": [
      "Time elapsed (hh:mm:ss.ms) 0:00:00.260623\n",
      "\n",
      "\n",
      "export New%20York completed!\n",
      "\n",
      "\n",
      "114\n",
      "Michigan\n",
      "\n",
      "\n",
      "Retrieving weather data for Michigan\n",
      "\n",
      "\n",
      "Currently retrieving data for Michigan: from 2011-05-04 to 2011-05-04\n"
     ]
    },
    {
     "name": "stderr",
     "output_type": "stream",
     "text": [
      "C:\\Users\\Heliiix\\anaconda3\\Lib\\site-packages\\wwo_hist\\__init__.py:69: FutureWarning: Argument `closed` is deprecated in favor of `inclusive`.\n",
      "  list_mon_begin = pd.date_range(start_date, end_date, freq='MS', closed='right')\n",
      "C:\\Users\\Heliiix\\anaconda3\\Lib\\site-packages\\wwo_hist\\__init__.py:74: FutureWarning: Argument `closed` is deprecated in favor of `inclusive`.\n",
      "  list_mon_end = pd.date_range(start_date, end_date, freq='M', closed='left')\n"
     ]
    },
    {
     "name": "stdout",
     "output_type": "stream",
     "text": [
      "Time elapsed (hh:mm:ss.ms) 0:00:00.240108\n",
      "\n",
      "\n",
      "export Michigan completed!\n",
      "\n",
      "\n",
      "115\n",
      "Illinois\n",
      "\n",
      "\n",
      "Retrieving weather data for Illinois\n",
      "\n",
      "\n",
      "Currently retrieving data for Illinois: from 2011-04-19 to 2011-04-19\n"
     ]
    },
    {
     "name": "stderr",
     "output_type": "stream",
     "text": [
      "C:\\Users\\Heliiix\\anaconda3\\Lib\\site-packages\\wwo_hist\\__init__.py:69: FutureWarning: Argument `closed` is deprecated in favor of `inclusive`.\n",
      "  list_mon_begin = pd.date_range(start_date, end_date, freq='MS', closed='right')\n",
      "C:\\Users\\Heliiix\\anaconda3\\Lib\\site-packages\\wwo_hist\\__init__.py:74: FutureWarning: Argument `closed` is deprecated in favor of `inclusive`.\n",
      "  list_mon_end = pd.date_range(start_date, end_date, freq='M', closed='left')\n"
     ]
    },
    {
     "name": "stdout",
     "output_type": "stream",
     "text": [
      "Time elapsed (hh:mm:ss.ms) 0:00:00.266479\n",
      "\n",
      "\n",
      "export Illinois completed!\n",
      "\n",
      "\n",
      "116\n",
      "Southern%20California\n",
      "\n",
      "\n",
      "Retrieving weather data for Southern%20California\n",
      "\n",
      "\n",
      "Currently retrieving data for Southern%20California: from 2011-03-21 to 2011-03-21\n"
     ]
    },
    {
     "name": "stderr",
     "output_type": "stream",
     "text": [
      "C:\\Users\\Heliiix\\anaconda3\\Lib\\site-packages\\wwo_hist\\__init__.py:69: FutureWarning: Argument `closed` is deprecated in favor of `inclusive`.\n",
      "  list_mon_begin = pd.date_range(start_date, end_date, freq='MS', closed='right')\n",
      "C:\\Users\\Heliiix\\anaconda3\\Lib\\site-packages\\wwo_hist\\__init__.py:74: FutureWarning: Argument `closed` is deprecated in favor of `inclusive`.\n",
      "  list_mon_end = pd.date_range(start_date, end_date, freq='M', closed='left')\n"
     ]
    },
    {
     "name": "stdout",
     "output_type": "stream",
     "text": [
      "Time elapsed (hh:mm:ss.ms) 0:00:00.262563\n",
      "\n",
      "\n",
      "export Southern%20California completed!\n",
      "\n",
      "\n",
      "117\n",
      "Northern%20and%20Central%20California\n",
      "\n",
      "\n",
      "Retrieving weather data for Northern%20and%20Central%20California\n",
      "\n",
      "\n",
      "Currently retrieving data for Northern%20and%20Central%20California: from 2011-03-19 to 2011-03-24\n"
     ]
    },
    {
     "name": "stderr",
     "output_type": "stream",
     "text": [
      "C:\\Users\\Heliiix\\anaconda3\\Lib\\site-packages\\wwo_hist\\__init__.py:69: FutureWarning: Argument `closed` is deprecated in favor of `inclusive`.\n",
      "  list_mon_begin = pd.date_range(start_date, end_date, freq='MS', closed='right')\n",
      "C:\\Users\\Heliiix\\anaconda3\\Lib\\site-packages\\wwo_hist\\__init__.py:74: FutureWarning: Argument `closed` is deprecated in favor of `inclusive`.\n",
      "  list_mon_end = pd.date_range(start_date, end_date, freq='M', closed='left')\n"
     ]
    },
    {
     "name": "stdout",
     "output_type": "stream",
     "text": [
      "Time elapsed (hh:mm:ss.ms) 0:00:00.298371\n",
      "\n",
      "\n",
      "export Northern%20and%20Central%20California completed!\n",
      "\n",
      "\n",
      "118\n",
      "Texas\n",
      "\n",
      "\n",
      "Retrieving weather data for Texas\n",
      "\n",
      "\n",
      "Currently retrieving data for Texas: from 2011-03-10 to 2011-03-11\n"
     ]
    },
    {
     "name": "stderr",
     "output_type": "stream",
     "text": [
      "C:\\Users\\Heliiix\\anaconda3\\Lib\\site-packages\\wwo_hist\\__init__.py:69: FutureWarning: Argument `closed` is deprecated in favor of `inclusive`.\n",
      "  list_mon_begin = pd.date_range(start_date, end_date, freq='MS', closed='right')\n",
      "C:\\Users\\Heliiix\\anaconda3\\Lib\\site-packages\\wwo_hist\\__init__.py:74: FutureWarning: Argument `closed` is deprecated in favor of `inclusive`.\n",
      "  list_mon_end = pd.date_range(start_date, end_date, freq='M', closed='left')\n"
     ]
    },
    {
     "name": "stdout",
     "output_type": "stream",
     "text": [
      "Time elapsed (hh:mm:ss.ms) 0:00:00.274519\n",
      "\n",
      "\n",
      "export Texas completed!\n",
      "\n",
      "\n",
      "119\n",
      "Virginia\n",
      "\n",
      "\n",
      "Retrieving weather data for Virginia\n",
      "\n",
      "\n",
      "Currently retrieving data for Virginia: from 2011-02-25 to 2011-02-25\n"
     ]
    },
    {
     "name": "stderr",
     "output_type": "stream",
     "text": [
      "C:\\Users\\Heliiix\\anaconda3\\Lib\\site-packages\\wwo_hist\\__init__.py:69: FutureWarning: Argument `closed` is deprecated in favor of `inclusive`.\n",
      "  list_mon_begin = pd.date_range(start_date, end_date, freq='MS', closed='right')\n",
      "C:\\Users\\Heliiix\\anaconda3\\Lib\\site-packages\\wwo_hist\\__init__.py:74: FutureWarning: Argument `closed` is deprecated in favor of `inclusive`.\n",
      "  list_mon_end = pd.date_range(start_date, end_date, freq='M', closed='left')\n"
     ]
    },
    {
     "name": "stdout",
     "output_type": "stream",
     "text": [
      "Time elapsed (hh:mm:ss.ms) 0:00:00.254595\n",
      "\n",
      "\n",
      "export Virginia completed!\n",
      "\n",
      "\n",
      "120\n",
      "Northern%20and%20Central%20California\n",
      "\n",
      "\n",
      "Retrieving weather data for Northern%20and%20Central%20California\n",
      "\n",
      "\n",
      "Currently retrieving data for Northern%20and%20Central%20California: from 2011-02-25 to 2011-02-28\n"
     ]
    },
    {
     "name": "stderr",
     "output_type": "stream",
     "text": [
      "C:\\Users\\Heliiix\\anaconda3\\Lib\\site-packages\\wwo_hist\\__init__.py:69: FutureWarning: Argument `closed` is deprecated in favor of `inclusive`.\n",
      "  list_mon_begin = pd.date_range(start_date, end_date, freq='MS', closed='right')\n",
      "C:\\Users\\Heliiix\\anaconda3\\Lib\\site-packages\\wwo_hist\\__init__.py:74: FutureWarning: Argument `closed` is deprecated in favor of `inclusive`.\n",
      "  list_mon_end = pd.date_range(start_date, end_date, freq='M', closed='left')\n"
     ]
    },
    {
     "name": "stdout",
     "output_type": "stream",
     "text": [
      "Time elapsed (hh:mm:ss.ms) 0:00:00.314355\n",
      "\n",
      "\n",
      "export Northern%20and%20Central%20California completed!\n",
      "\n",
      "\n",
      "121\n",
      "Northern%20and%20Central%20California\n",
      "\n",
      "\n",
      "Retrieving weather data for Northern%20and%20Central%20California\n",
      "\n",
      "\n",
      "Currently retrieving data for Northern%20and%20Central%20California: from 2011-02-17 to 2011-02-19\n"
     ]
    },
    {
     "name": "stderr",
     "output_type": "stream",
     "text": [
      "C:\\Users\\Heliiix\\anaconda3\\Lib\\site-packages\\wwo_hist\\__init__.py:69: FutureWarning: Argument `closed` is deprecated in favor of `inclusive`.\n",
      "  list_mon_begin = pd.date_range(start_date, end_date, freq='MS', closed='right')\n",
      "C:\\Users\\Heliiix\\anaconda3\\Lib\\site-packages\\wwo_hist\\__init__.py:74: FutureWarning: Argument `closed` is deprecated in favor of `inclusive`.\n",
      "  list_mon_end = pd.date_range(start_date, end_date, freq='M', closed='left')\n"
     ]
    },
    {
     "name": "stdout",
     "output_type": "stream",
     "text": [
      "Time elapsed (hh:mm:ss.ms) 0:00:00.292509\n",
      "\n",
      "\n",
      "export Northern%20and%20Central%20California completed!\n",
      "\n",
      "\n",
      "122\n",
      "Texas\n",
      "\n",
      "\n",
      "Retrieving weather data for Texas\n",
      "\n",
      "\n",
      "Currently retrieving data for Texas: from 2011-02-09 to 2011-02-10\n"
     ]
    },
    {
     "name": "stderr",
     "output_type": "stream",
     "text": [
      "C:\\Users\\Heliiix\\anaconda3\\Lib\\site-packages\\wwo_hist\\__init__.py:69: FutureWarning: Argument `closed` is deprecated in favor of `inclusive`.\n",
      "  list_mon_begin = pd.date_range(start_date, end_date, freq='MS', closed='right')\n",
      "C:\\Users\\Heliiix\\anaconda3\\Lib\\site-packages\\wwo_hist\\__init__.py:74: FutureWarning: Argument `closed` is deprecated in favor of `inclusive`.\n",
      "  list_mon_end = pd.date_range(start_date, end_date, freq='M', closed='left')\n"
     ]
    },
    {
     "name": "stdout",
     "output_type": "stream",
     "text": [
      "Time elapsed (hh:mm:ss.ms) 0:00:00.256589\n",
      "\n",
      "\n",
      "export Texas completed!\n",
      "\n",
      "\n",
      "123\n",
      "Texas\n",
      "\n",
      "\n",
      "Retrieving weather data for Texas\n",
      "\n",
      "\n",
      "Currently retrieving data for Texas: from 2011-02-03 to 2011-02-04\n"
     ]
    },
    {
     "name": "stderr",
     "output_type": "stream",
     "text": [
      "C:\\Users\\Heliiix\\anaconda3\\Lib\\site-packages\\wwo_hist\\__init__.py:69: FutureWarning: Argument `closed` is deprecated in favor of `inclusive`.\n",
      "  list_mon_begin = pd.date_range(start_date, end_date, freq='MS', closed='right')\n",
      "C:\\Users\\Heliiix\\anaconda3\\Lib\\site-packages\\wwo_hist\\__init__.py:74: FutureWarning: Argument `closed` is deprecated in favor of `inclusive`.\n",
      "  list_mon_end = pd.date_range(start_date, end_date, freq='M', closed='left')\n"
     ]
    },
    {
     "name": "stdout",
     "output_type": "stream",
     "text": [
      "Time elapsed (hh:mm:ss.ms) 0:00:00.261908\n",
      "\n",
      "\n",
      "export Texas completed!\n",
      "\n",
      "\n",
      "124\n",
      "Texas\n",
      "\n",
      "\n",
      "Retrieving weather data for Texas\n",
      "\n",
      "\n",
      "Currently retrieving data for Texas: from 2011-02-02 to 2011-02-03\n"
     ]
    },
    {
     "name": "stderr",
     "output_type": "stream",
     "text": [
      "C:\\Users\\Heliiix\\anaconda3\\Lib\\site-packages\\wwo_hist\\__init__.py:69: FutureWarning: Argument `closed` is deprecated in favor of `inclusive`.\n",
      "  list_mon_begin = pd.date_range(start_date, end_date, freq='MS', closed='right')\n",
      "C:\\Users\\Heliiix\\anaconda3\\Lib\\site-packages\\wwo_hist\\__init__.py:74: FutureWarning: Argument `closed` is deprecated in favor of `inclusive`.\n",
      "  list_mon_end = pd.date_range(start_date, end_date, freq='M', closed='left')\n"
     ]
    },
    {
     "name": "stdout",
     "output_type": "stream",
     "text": [
      "Time elapsed (hh:mm:ss.ms) 0:00:00.256879\n",
      "\n",
      "\n",
      "export Texas completed!\n",
      "\n",
      "\n",
      "125\n",
      "Northern%20Illinois\n",
      "\n",
      "\n",
      "Retrieving weather data for Northern%20Illinois\n",
      "\n",
      "\n",
      "Currently retrieving data for Northern%20Illinois: from 2011-02-01 to 2011-02-02\n"
     ]
    },
    {
     "name": "stderr",
     "output_type": "stream",
     "text": [
      "C:\\Users\\Heliiix\\anaconda3\\Lib\\site-packages\\wwo_hist\\__init__.py:69: FutureWarning: Argument `closed` is deprecated in favor of `inclusive`.\n",
      "  list_mon_begin = pd.date_range(start_date, end_date, freq='MS', closed='right')\n",
      "C:\\Users\\Heliiix\\anaconda3\\Lib\\site-packages\\wwo_hist\\__init__.py:74: FutureWarning: Argument `closed` is deprecated in favor of `inclusive`.\n",
      "  list_mon_end = pd.date_range(start_date, end_date, freq='M', closed='left')\n"
     ]
    },
    {
     "name": "stdout",
     "output_type": "stream",
     "text": [
      "Time elapsed (hh:mm:ss.ms) 0:00:00.265140\n",
      "\n",
      "\n",
      "export Northern%20Illinois completed!\n",
      "\n",
      "\n",
      "126\n",
      "Michigan\n",
      "\n",
      "\n",
      "Retrieving weather data for Michigan\n",
      "\n",
      "\n",
      "Currently retrieving data for Michigan: from 2011-01-26 to 2011-01-27\n"
     ]
    },
    {
     "name": "stderr",
     "output_type": "stream",
     "text": [
      "C:\\Users\\Heliiix\\anaconda3\\Lib\\site-packages\\wwo_hist\\__init__.py:69: FutureWarning: Argument `closed` is deprecated in favor of `inclusive`.\n",
      "  list_mon_begin = pd.date_range(start_date, end_date, freq='MS', closed='right')\n",
      "C:\\Users\\Heliiix\\anaconda3\\Lib\\site-packages\\wwo_hist\\__init__.py:74: FutureWarning: Argument `closed` is deprecated in favor of `inclusive`.\n",
      "  list_mon_end = pd.date_range(start_date, end_date, freq='M', closed='left')\n"
     ]
    },
    {
     "name": "stdout",
     "output_type": "stream",
     "text": [
      "Time elapsed (hh:mm:ss.ms) 0:00:00.255199\n",
      "\n",
      "\n",
      "export Michigan completed!\n",
      "\n",
      "\n",
      "127\n",
      "Newark\n",
      "\n",
      "\n",
      "Retrieving weather data for Newark\n",
      "\n",
      "\n",
      "Currently retrieving data for Newark: from 2011-01-25 to 2011-01-25\n"
     ]
    },
    {
     "name": "stderr",
     "output_type": "stream",
     "text": [
      "C:\\Users\\Heliiix\\anaconda3\\Lib\\site-packages\\wwo_hist\\__init__.py:69: FutureWarning: Argument `closed` is deprecated in favor of `inclusive`.\n",
      "  list_mon_begin = pd.date_range(start_date, end_date, freq='MS', closed='right')\n",
      "C:\\Users\\Heliiix\\anaconda3\\Lib\\site-packages\\wwo_hist\\__init__.py:74: FutureWarning: Argument `closed` is deprecated in favor of `inclusive`.\n",
      "  list_mon_end = pd.date_range(start_date, end_date, freq='M', closed='left')\n"
     ]
    },
    {
     "name": "stdout",
     "output_type": "stream",
     "text": [
      "Time elapsed (hh:mm:ss.ms) 0:00:00.245605\n",
      "\n",
      "\n",
      "export Newark completed!\n",
      "\n",
      "\n",
      "128\n",
      "Southern%20California\n",
      "\n",
      "\n",
      "Retrieving weather data for Southern%20California\n",
      "\n",
      "\n",
      "Currently retrieving data for Southern%20California: from 2010-12-14 to 2010-12-15\n"
     ]
    },
    {
     "name": "stderr",
     "output_type": "stream",
     "text": [
      "C:\\Users\\Heliiix\\anaconda3\\Lib\\site-packages\\wwo_hist\\__init__.py:69: FutureWarning: Argument `closed` is deprecated in favor of `inclusive`.\n",
      "  list_mon_begin = pd.date_range(start_date, end_date, freq='MS', closed='right')\n",
      "C:\\Users\\Heliiix\\anaconda3\\Lib\\site-packages\\wwo_hist\\__init__.py:74: FutureWarning: Argument `closed` is deprecated in favor of `inclusive`.\n",
      "  list_mon_end = pd.date_range(start_date, end_date, freq='M', closed='left')\n"
     ]
    },
    {
     "name": "stdout",
     "output_type": "stream",
     "text": [
      "Time elapsed (hh:mm:ss.ms) 0:00:00.251847\n",
      "\n",
      "\n",
      "export Southern%20California completed!\n",
      "\n",
      "\n",
      "129\n",
      "California\n",
      "\n",
      "\n",
      "Retrieving weather data for California\n",
      "\n",
      "\n",
      "Currently retrieving data for California: from 2010-12-14 to 2010-12-14\n"
     ]
    },
    {
     "name": "stderr",
     "output_type": "stream",
     "text": [
      "C:\\Users\\Heliiix\\anaconda3\\Lib\\site-packages\\wwo_hist\\__init__.py:69: FutureWarning: Argument `closed` is deprecated in favor of `inclusive`.\n",
      "  list_mon_begin = pd.date_range(start_date, end_date, freq='MS', closed='right')\n",
      "C:\\Users\\Heliiix\\anaconda3\\Lib\\site-packages\\wwo_hist\\__init__.py:74: FutureWarning: Argument `closed` is deprecated in favor of `inclusive`.\n",
      "  list_mon_end = pd.date_range(start_date, end_date, freq='M', closed='left')\n"
     ]
    },
    {
     "name": "stdout",
     "output_type": "stream",
     "text": [
      "Time elapsed (hh:mm:ss.ms) 0:00:00.259405\n",
      "\n",
      "\n",
      "export California completed!\n",
      "\n",
      "\n",
      "130\n",
      "Southeastern%20Michigan\n",
      "\n",
      "\n",
      "Retrieving weather data for Southeastern%20Michigan\n",
      "\n",
      "\n",
      "Currently retrieving data for Southeastern%20Michigan: from 2010-12-12 to 2010-12-15\n"
     ]
    },
    {
     "name": "stderr",
     "output_type": "stream",
     "text": [
      "C:\\Users\\Heliiix\\anaconda3\\Lib\\site-packages\\wwo_hist\\__init__.py:69: FutureWarning: Argument `closed` is deprecated in favor of `inclusive`.\n",
      "  list_mon_begin = pd.date_range(start_date, end_date, freq='MS', closed='right')\n",
      "C:\\Users\\Heliiix\\anaconda3\\Lib\\site-packages\\wwo_hist\\__init__.py:74: FutureWarning: Argument `closed` is deprecated in favor of `inclusive`.\n",
      "  list_mon_end = pd.date_range(start_date, end_date, freq='M', closed='left')\n"
     ]
    },
    {
     "name": "stdout",
     "output_type": "stream",
     "text": [
      "Time elapsed (hh:mm:ss.ms) 0:00:00.277440\n",
      "\n",
      "\n",
      "export Southeastern%20Michigan completed!\n",
      "\n",
      "\n",
      "131\n",
      "California\n",
      "\n",
      "\n",
      "Retrieving weather data for California\n",
      "\n",
      "\n",
      "Currently retrieving data for California: from 2010-12-03 to 2010-12-04\n"
     ]
    },
    {
     "name": "stderr",
     "output_type": "stream",
     "text": [
      "C:\\Users\\Heliiix\\anaconda3\\Lib\\site-packages\\wwo_hist\\__init__.py:69: FutureWarning: Argument `closed` is deprecated in favor of `inclusive`.\n",
      "  list_mon_begin = pd.date_range(start_date, end_date, freq='MS', closed='right')\n",
      "C:\\Users\\Heliiix\\anaconda3\\Lib\\site-packages\\wwo_hist\\__init__.py:74: FutureWarning: Argument `closed` is deprecated in favor of `inclusive`.\n",
      "  list_mon_end = pd.date_range(start_date, end_date, freq='M', closed='left')\n"
     ]
    },
    {
     "name": "stdout",
     "output_type": "stream",
     "text": [
      "Time elapsed (hh:mm:ss.ms) 0:00:00.267069\n",
      "\n",
      "\n",
      "export California completed!\n",
      "\n",
      "\n",
      "132\n",
      "Northern%20California\n",
      "\n",
      "\n",
      "Retrieving weather data for Northern%20California\n",
      "\n",
      "\n",
      "Currently retrieving data for Northern%20California: from 2010-11-23 to 2010-11-23\n"
     ]
    },
    {
     "name": "stderr",
     "output_type": "stream",
     "text": [
      "C:\\Users\\Heliiix\\anaconda3\\Lib\\site-packages\\wwo_hist\\__init__.py:69: FutureWarning: Argument `closed` is deprecated in favor of `inclusive`.\n",
      "  list_mon_begin = pd.date_range(start_date, end_date, freq='MS', closed='right')\n",
      "C:\\Users\\Heliiix\\anaconda3\\Lib\\site-packages\\wwo_hist\\__init__.py:74: FutureWarning: Argument `closed` is deprecated in favor of `inclusive`.\n",
      "  list_mon_end = pd.date_range(start_date, end_date, freq='M', closed='left')\n"
     ]
    },
    {
     "name": "stdout",
     "output_type": "stream",
     "text": [
      "Time elapsed (hh:mm:ss.ms) 0:00:00.276442\n",
      "\n",
      "\n",
      "export Northern%20California completed!\n",
      "\n",
      "\n",
      "133\n",
      "Northern%20and%20Central%20California\n",
      "\n",
      "\n",
      "Retrieving weather data for Northern%20and%20Central%20California\n",
      "\n",
      "\n",
      "Currently retrieving data for Northern%20and%20Central%20California: from 2010-11-21 to 2010-11-24\n"
     ]
    },
    {
     "name": "stderr",
     "output_type": "stream",
     "text": [
      "C:\\Users\\Heliiix\\anaconda3\\Lib\\site-packages\\wwo_hist\\__init__.py:69: FutureWarning: Argument `closed` is deprecated in favor of `inclusive`.\n",
      "  list_mon_begin = pd.date_range(start_date, end_date, freq='MS', closed='right')\n",
      "C:\\Users\\Heliiix\\anaconda3\\Lib\\site-packages\\wwo_hist\\__init__.py:74: FutureWarning: Argument `closed` is deprecated in favor of `inclusive`.\n",
      "  list_mon_end = pd.date_range(start_date, end_date, freq='M', closed='left')\n"
     ]
    },
    {
     "name": "stdout",
     "output_type": "stream",
     "text": [
      "Time elapsed (hh:mm:ss.ms) 0:00:00.294431\n",
      "\n",
      "\n",
      "export Northern%20and%20Central%20California completed!\n",
      "\n",
      "\n",
      "134\n",
      "Northern%20California\n",
      "\n",
      "\n",
      "Retrieving weather data for Northern%20California\n",
      "\n",
      "\n",
      "Currently retrieving data for Northern%20California: from 2010-11-06 to 2010-11-06\n"
     ]
    },
    {
     "name": "stderr",
     "output_type": "stream",
     "text": [
      "C:\\Users\\Heliiix\\anaconda3\\Lib\\site-packages\\wwo_hist\\__init__.py:69: FutureWarning: Argument `closed` is deprecated in favor of `inclusive`.\n",
      "  list_mon_begin = pd.date_range(start_date, end_date, freq='MS', closed='right')\n",
      "C:\\Users\\Heliiix\\anaconda3\\Lib\\site-packages\\wwo_hist\\__init__.py:74: FutureWarning: Argument `closed` is deprecated in favor of `inclusive`.\n",
      "  list_mon_end = pd.date_range(start_date, end_date, freq='M', closed='left')\n"
     ]
    },
    {
     "name": "stdout",
     "output_type": "stream",
     "text": [
      "Time elapsed (hh:mm:ss.ms) 0:00:00.260038\n",
      "\n",
      "\n",
      "export Northern%20California completed!\n",
      "\n",
      "\n",
      "135\n",
      "Northern%20California\n",
      "\n",
      "\n",
      "Retrieving weather data for Northern%20California\n",
      "\n",
      "\n",
      "Currently retrieving data for Northern%20California: from 2010-10-27 to 2010-10-27\n"
     ]
    },
    {
     "name": "stderr",
     "output_type": "stream",
     "text": [
      "C:\\Users\\Heliiix\\anaconda3\\Lib\\site-packages\\wwo_hist\\__init__.py:69: FutureWarning: Argument `closed` is deprecated in favor of `inclusive`.\n",
      "  list_mon_begin = pd.date_range(start_date, end_date, freq='MS', closed='right')\n",
      "C:\\Users\\Heliiix\\anaconda3\\Lib\\site-packages\\wwo_hist\\__init__.py:74: FutureWarning: Argument `closed` is deprecated in favor of `inclusive`.\n",
      "  list_mon_end = pd.date_range(start_date, end_date, freq='M', closed='left')\n"
     ]
    },
    {
     "name": "stdout",
     "output_type": "stream",
     "text": [
      "Time elapsed (hh:mm:ss.ms) 0:00:00.242971\n",
      "\n",
      "\n",
      "export Northern%20California completed!\n",
      "\n",
      "\n",
      "136\n",
      "Northern%20Illinois\n",
      "\n",
      "\n",
      "Retrieving weather data for Northern%20Illinois\n",
      "\n",
      "\n",
      "Currently retrieving data for Northern%20Illinois: from 2010-10-27 to 2010-10-29\n"
     ]
    },
    {
     "name": "stderr",
     "output_type": "stream",
     "text": [
      "C:\\Users\\Heliiix\\anaconda3\\Lib\\site-packages\\wwo_hist\\__init__.py:69: FutureWarning: Argument `closed` is deprecated in favor of `inclusive`.\n",
      "  list_mon_begin = pd.date_range(start_date, end_date, freq='MS', closed='right')\n",
      "C:\\Users\\Heliiix\\anaconda3\\Lib\\site-packages\\wwo_hist\\__init__.py:74: FutureWarning: Argument `closed` is deprecated in favor of `inclusive`.\n",
      "  list_mon_end = pd.date_range(start_date, end_date, freq='M', closed='left')\n"
     ]
    },
    {
     "name": "stdout",
     "output_type": "stream",
     "text": [
      "Time elapsed (hh:mm:ss.ms) 0:00:00.280261\n",
      "\n",
      "\n",
      "export Northern%20Illinois completed!\n",
      "\n",
      "\n",
      "137\n",
      "Northern%20Illinois\n",
      "\n",
      "\n",
      "Retrieving weather data for Northern%20Illinois\n",
      "\n",
      "\n",
      "Currently retrieving data for Northern%20Illinois: from 2010-10-26 to 2010-10-28\n"
     ]
    },
    {
     "name": "stderr",
     "output_type": "stream",
     "text": [
      "C:\\Users\\Heliiix\\anaconda3\\Lib\\site-packages\\wwo_hist\\__init__.py:69: FutureWarning: Argument `closed` is deprecated in favor of `inclusive`.\n",
      "  list_mon_begin = pd.date_range(start_date, end_date, freq='MS', closed='right')\n",
      "C:\\Users\\Heliiix\\anaconda3\\Lib\\site-packages\\wwo_hist\\__init__.py:74: FutureWarning: Argument `closed` is deprecated in favor of `inclusive`.\n",
      "  list_mon_end = pd.date_range(start_date, end_date, freq='M', closed='left')\n"
     ]
    },
    {
     "name": "stdout",
     "output_type": "stream",
     "text": [
      "Time elapsed (hh:mm:ss.ms) 0:00:00.264296\n",
      "\n",
      "\n",
      "export Northern%20Illinois completed!\n",
      "\n",
      "\n",
      "138\n",
      "Southeastern%20Michigan\n",
      "\n",
      "\n",
      "Retrieving weather data for Southeastern%20Michigan\n",
      "\n",
      "\n",
      "Currently retrieving data for Southeastern%20Michigan: from 2010-08-19 to 2010-08-23\n"
     ]
    },
    {
     "name": "stderr",
     "output_type": "stream",
     "text": [
      "C:\\Users\\Heliiix\\anaconda3\\Lib\\site-packages\\wwo_hist\\__init__.py:69: FutureWarning: Argument `closed` is deprecated in favor of `inclusive`.\n",
      "  list_mon_begin = pd.date_range(start_date, end_date, freq='MS', closed='right')\n",
      "C:\\Users\\Heliiix\\anaconda3\\Lib\\site-packages\\wwo_hist\\__init__.py:74: FutureWarning: Argument `closed` is deprecated in favor of `inclusive`.\n",
      "  list_mon_end = pd.date_range(start_date, end_date, freq='M', closed='left')\n"
     ]
    },
    {
     "name": "stdout",
     "output_type": "stream",
     "text": [
      "Time elapsed (hh:mm:ss.ms) 0:00:00.306706\n",
      "\n",
      "\n",
      "export Southeastern%20Michigan completed!\n",
      "\n",
      "\n",
      "139\n",
      "Ohio\n",
      "\n",
      "\n",
      "Retrieving weather data for Ohio\n",
      "\n",
      "\n",
      "Currently retrieving data for Ohio: from 2010-08-11 to 2010-08-11\n"
     ]
    },
    {
     "name": "stderr",
     "output_type": "stream",
     "text": [
      "C:\\Users\\Heliiix\\anaconda3\\Lib\\site-packages\\wwo_hist\\__init__.py:69: FutureWarning: Argument `closed` is deprecated in favor of `inclusive`.\n",
      "  list_mon_begin = pd.date_range(start_date, end_date, freq='MS', closed='right')\n",
      "C:\\Users\\Heliiix\\anaconda3\\Lib\\site-packages\\wwo_hist\\__init__.py:74: FutureWarning: Argument `closed` is deprecated in favor of `inclusive`.\n",
      "  list_mon_end = pd.date_range(start_date, end_date, freq='M', closed='left')\n"
     ]
    },
    {
     "name": "stdout",
     "output_type": "stream",
     "text": [
      "Time elapsed (hh:mm:ss.ms) 0:00:00.256903\n",
      "\n",
      "\n",
      "export Ohio completed!\n",
      "\n",
      "\n",
      "140\n",
      "Virginia\n",
      "\n",
      "\n",
      "Retrieving weather data for Virginia\n",
      "\n",
      "\n",
      "Currently retrieving data for Virginia: from 2010-07-29 to 2010-07-29\n"
     ]
    },
    {
     "name": "stderr",
     "output_type": "stream",
     "text": [
      "C:\\Users\\Heliiix\\anaconda3\\Lib\\site-packages\\wwo_hist\\__init__.py:69: FutureWarning: Argument `closed` is deprecated in favor of `inclusive`.\n",
      "  list_mon_begin = pd.date_range(start_date, end_date, freq='MS', closed='right')\n",
      "C:\\Users\\Heliiix\\anaconda3\\Lib\\site-packages\\wwo_hist\\__init__.py:74: FutureWarning: Argument `closed` is deprecated in favor of `inclusive`.\n",
      "  list_mon_end = pd.date_range(start_date, end_date, freq='M', closed='left')\n"
     ]
    },
    {
     "name": "stdout",
     "output_type": "stream",
     "text": [
      "Time elapsed (hh:mm:ss.ms) 0:00:00.238726\n",
      "\n",
      "\n",
      "export Virginia completed!\n",
      "\n",
      "\n",
      "141\n",
      "Southern%20California\n",
      "\n",
      "\n",
      "Retrieving weather data for Southern%20California\n",
      "\n",
      "\n",
      "Currently retrieving data for Southern%20California: from 2010-07-29 to 2010-07-29\n"
     ]
    },
    {
     "name": "stderr",
     "output_type": "stream",
     "text": [
      "C:\\Users\\Heliiix\\anaconda3\\Lib\\site-packages\\wwo_hist\\__init__.py:69: FutureWarning: Argument `closed` is deprecated in favor of `inclusive`.\n",
      "  list_mon_begin = pd.date_range(start_date, end_date, freq='MS', closed='right')\n",
      "C:\\Users\\Heliiix\\anaconda3\\Lib\\site-packages\\wwo_hist\\__init__.py:74: FutureWarning: Argument `closed` is deprecated in favor of `inclusive`.\n",
      "  list_mon_end = pd.date_range(start_date, end_date, freq='M', closed='left')\n"
     ]
    },
    {
     "name": "stdout",
     "output_type": "stream",
     "text": [
      "Time elapsed (hh:mm:ss.ms) 0:00:00.248689\n",
      "\n",
      "\n",
      "export Southern%20California completed!\n",
      "\n",
      "\n",
      "142\n",
      "Southern%20California\n",
      "\n",
      "\n",
      "Retrieving weather data for Southern%20California\n",
      "\n",
      "\n",
      "Currently retrieving data for Southern%20California: from 2010-07-29 to 2010-07-29\n"
     ]
    },
    {
     "name": "stderr",
     "output_type": "stream",
     "text": [
      "C:\\Users\\Heliiix\\anaconda3\\Lib\\site-packages\\wwo_hist\\__init__.py:69: FutureWarning: Argument `closed` is deprecated in favor of `inclusive`.\n",
      "  list_mon_begin = pd.date_range(start_date, end_date, freq='MS', closed='right')\n",
      "C:\\Users\\Heliiix\\anaconda3\\Lib\\site-packages\\wwo_hist\\__init__.py:74: FutureWarning: Argument `closed` is deprecated in favor of `inclusive`.\n",
      "  list_mon_end = pd.date_range(start_date, end_date, freq='M', closed='left')\n"
     ]
    },
    {
     "name": "stdout",
     "output_type": "stream",
     "text": [
      "Time elapsed (hh:mm:ss.ms) 0:00:00.210706\n",
      "\n",
      "\n",
      "export Southern%20California completed!\n",
      "\n",
      "\n",
      "143\n",
      "Southeastern%20Michigan\n",
      "\n",
      "\n",
      "Retrieving weather data for Southeastern%20Michigan\n",
      "\n",
      "\n",
      "Currently retrieving data for Southeastern%20Michigan: from 2010-07-23 to 2010-07-26\n"
     ]
    },
    {
     "name": "stderr",
     "output_type": "stream",
     "text": [
      "C:\\Users\\Heliiix\\anaconda3\\Lib\\site-packages\\wwo_hist\\__init__.py:69: FutureWarning: Argument `closed` is deprecated in favor of `inclusive`.\n",
      "  list_mon_begin = pd.date_range(start_date, end_date, freq='MS', closed='right')\n",
      "C:\\Users\\Heliiix\\anaconda3\\Lib\\site-packages\\wwo_hist\\__init__.py:74: FutureWarning: Argument `closed` is deprecated in favor of `inclusive`.\n",
      "  list_mon_end = pd.date_range(start_date, end_date, freq='M', closed='left')\n"
     ]
    },
    {
     "name": "stdout",
     "output_type": "stream",
     "text": [
      "Time elapsed (hh:mm:ss.ms) 0:00:00.295217\n",
      "\n",
      "\n",
      "export Southeastern%20Michigan completed!\n",
      "\n",
      "\n",
      "144\n",
      "Southeastern%20Michigan\n",
      "\n",
      "\n",
      "Retrieving weather data for Southeastern%20Michigan\n",
      "\n",
      "\n",
      "Currently retrieving data for Southeastern%20Michigan: from 2010-07-15 to 2010-07-19\n"
     ]
    },
    {
     "name": "stderr",
     "output_type": "stream",
     "text": [
      "C:\\Users\\Heliiix\\anaconda3\\Lib\\site-packages\\wwo_hist\\__init__.py:69: FutureWarning: Argument `closed` is deprecated in favor of `inclusive`.\n",
      "  list_mon_begin = pd.date_range(start_date, end_date, freq='MS', closed='right')\n",
      "C:\\Users\\Heliiix\\anaconda3\\Lib\\site-packages\\wwo_hist\\__init__.py:74: FutureWarning: Argument `closed` is deprecated in favor of `inclusive`.\n",
      "  list_mon_end = pd.date_range(start_date, end_date, freq='M', closed='left')\n"
     ]
    },
    {
     "name": "stdout",
     "output_type": "stream",
     "text": [
      "Time elapsed (hh:mm:ss.ms) 0:00:00.279678\n",
      "\n",
      "\n",
      "export Southeastern%20Michigan completed!\n",
      "\n",
      "\n",
      "145\n",
      "Northern%20California\n",
      "\n",
      "\n",
      "Retrieving weather data for Northern%20California\n",
      "\n",
      "\n",
      "Currently retrieving data for Northern%20California: from 2010-06-25 to 2010-06-26\n"
     ]
    },
    {
     "name": "stderr",
     "output_type": "stream",
     "text": [
      "C:\\Users\\Heliiix\\anaconda3\\Lib\\site-packages\\wwo_hist\\__init__.py:69: FutureWarning: Argument `closed` is deprecated in favor of `inclusive`.\n",
      "  list_mon_begin = pd.date_range(start_date, end_date, freq='MS', closed='right')\n",
      "C:\\Users\\Heliiix\\anaconda3\\Lib\\site-packages\\wwo_hist\\__init__.py:74: FutureWarning: Argument `closed` is deprecated in favor of `inclusive`.\n",
      "  list_mon_end = pd.date_range(start_date, end_date, freq='M', closed='left')\n"
     ]
    },
    {
     "name": "stdout",
     "output_type": "stream",
     "text": [
      "Time elapsed (hh:mm:ss.ms) 0:00:00.272337\n",
      "\n",
      "\n",
      "export Northern%20California completed!\n",
      "\n",
      "\n",
      "146\n",
      "Northern%20California\n",
      "\n",
      "\n",
      "Retrieving weather data for Northern%20California\n",
      "\n",
      "\n",
      "Currently retrieving data for Northern%20California: from 2010-06-06 to 2010-06-06\n"
     ]
    },
    {
     "name": "stderr",
     "output_type": "stream",
     "text": [
      "C:\\Users\\Heliiix\\anaconda3\\Lib\\site-packages\\wwo_hist\\__init__.py:69: FutureWarning: Argument `closed` is deprecated in favor of `inclusive`.\n",
      "  list_mon_begin = pd.date_range(start_date, end_date, freq='MS', closed='right')\n",
      "C:\\Users\\Heliiix\\anaconda3\\Lib\\site-packages\\wwo_hist\\__init__.py:74: FutureWarning: Argument `closed` is deprecated in favor of `inclusive`.\n",
      "  list_mon_end = pd.date_range(start_date, end_date, freq='M', closed='left')\n"
     ]
    },
    {
     "name": "stdout",
     "output_type": "stream",
     "text": [
      "Time elapsed (hh:mm:ss.ms) 0:00:00.239149\n",
      "\n",
      "\n",
      "export Northern%20California completed!\n",
      "\n",
      "\n",
      "147\n",
      "Northern%20and%20Central%20California\n",
      "\n",
      "\n",
      "Retrieving weather data for Northern%20and%20Central%20California\n",
      "\n",
      "\n",
      "Currently retrieving data for Northern%20and%20Central%20California: from 2010-01-18 to 2010-01-28\n"
     ]
    },
    {
     "name": "stderr",
     "output_type": "stream",
     "text": [
      "C:\\Users\\Heliiix\\anaconda3\\Lib\\site-packages\\wwo_hist\\__init__.py:69: FutureWarning: Argument `closed` is deprecated in favor of `inclusive`.\n",
      "  list_mon_begin = pd.date_range(start_date, end_date, freq='MS', closed='right')\n",
      "C:\\Users\\Heliiix\\anaconda3\\Lib\\site-packages\\wwo_hist\\__init__.py:74: FutureWarning: Argument `closed` is deprecated in favor of `inclusive`.\n",
      "  list_mon_end = pd.date_range(start_date, end_date, freq='M', closed='left')\n"
     ]
    },
    {
     "name": "stdout",
     "output_type": "stream",
     "text": [
      "Time elapsed (hh:mm:ss.ms) 0:00:00.378369\n",
      "\n",
      "\n",
      "export Northern%20and%20Central%20California completed!\n",
      "\n",
      "\n",
      "148\n",
      "Michigan\n",
      "\n",
      "\n",
      "Retrieving weather data for Michigan\n",
      "\n",
      "\n",
      "Currently retrieving data for Michigan: from 2009-12-10 to 2009-12-12\n"
     ]
    },
    {
     "name": "stderr",
     "output_type": "stream",
     "text": [
      "C:\\Users\\Heliiix\\anaconda3\\Lib\\site-packages\\wwo_hist\\__init__.py:69: FutureWarning: Argument `closed` is deprecated in favor of `inclusive`.\n",
      "  list_mon_begin = pd.date_range(start_date, end_date, freq='MS', closed='right')\n",
      "C:\\Users\\Heliiix\\anaconda3\\Lib\\site-packages\\wwo_hist\\__init__.py:74: FutureWarning: Argument `closed` is deprecated in favor of `inclusive`.\n",
      "  list_mon_end = pd.date_range(start_date, end_date, freq='M', closed='left')\n"
     ]
    },
    {
     "name": "stdout",
     "output_type": "stream",
     "text": [
      "Time elapsed (hh:mm:ss.ms) 0:00:00.278113\n",
      "\n",
      "\n",
      "export Michigan completed!\n",
      "\n",
      "\n",
      "149\n",
      "Ohio\n",
      "\n",
      "\n",
      "Retrieving weather data for Ohio\n",
      "\n",
      "\n",
      "Currently retrieving data for Ohio: from 2009-12-09 to 2009-12-10\n"
     ]
    },
    {
     "name": "stderr",
     "output_type": "stream",
     "text": [
      "C:\\Users\\Heliiix\\anaconda3\\Lib\\site-packages\\wwo_hist\\__init__.py:69: FutureWarning: Argument `closed` is deprecated in favor of `inclusive`.\n",
      "  list_mon_begin = pd.date_range(start_date, end_date, freq='MS', closed='right')\n",
      "C:\\Users\\Heliiix\\anaconda3\\Lib\\site-packages\\wwo_hist\\__init__.py:74: FutureWarning: Argument `closed` is deprecated in favor of `inclusive`.\n",
      "  list_mon_end = pd.date_range(start_date, end_date, freq='M', closed='left')\n"
     ]
    },
    {
     "name": "stdout",
     "output_type": "stream",
     "text": [
      "Time elapsed (hh:mm:ss.ms) 0:00:00.250259\n",
      "\n",
      "\n",
      "export Ohio completed!\n",
      "\n",
      "\n",
      "150\n",
      "California\n",
      "\n",
      "\n",
      "Retrieving weather data for California\n",
      "\n",
      "\n",
      "Currently retrieving data for California: from 2009-12-08 to 2009-12-08\n"
     ]
    },
    {
     "name": "stderr",
     "output_type": "stream",
     "text": [
      "C:\\Users\\Heliiix\\anaconda3\\Lib\\site-packages\\wwo_hist\\__init__.py:69: FutureWarning: Argument `closed` is deprecated in favor of `inclusive`.\n",
      "  list_mon_begin = pd.date_range(start_date, end_date, freq='MS', closed='right')\n",
      "C:\\Users\\Heliiix\\anaconda3\\Lib\\site-packages\\wwo_hist\\__init__.py:74: FutureWarning: Argument `closed` is deprecated in favor of `inclusive`.\n",
      "  list_mon_end = pd.date_range(start_date, end_date, freq='M', closed='left')\n"
     ]
    },
    {
     "name": "stdout",
     "output_type": "stream",
     "text": [
      "Time elapsed (hh:mm:ss.ms) 0:00:00.246965\n",
      "\n",
      "\n",
      "export California completed!\n",
      "\n",
      "\n",
      "151\n",
      "California\n",
      "\n",
      "\n",
      "Retrieving weather data for California\n",
      "\n",
      "\n",
      "Currently retrieving data for California: from 2009-12-07 to 2009-12-08\n"
     ]
    },
    {
     "name": "stderr",
     "output_type": "stream",
     "text": [
      "C:\\Users\\Heliiix\\anaconda3\\Lib\\site-packages\\wwo_hist\\__init__.py:69: FutureWarning: Argument `closed` is deprecated in favor of `inclusive`.\n",
      "  list_mon_begin = pd.date_range(start_date, end_date, freq='MS', closed='right')\n",
      "C:\\Users\\Heliiix\\anaconda3\\Lib\\site-packages\\wwo_hist\\__init__.py:74: FutureWarning: Argument `closed` is deprecated in favor of `inclusive`.\n",
      "  list_mon_end = pd.date_range(start_date, end_date, freq='M', closed='left')\n"
     ]
    },
    {
     "name": "stdout",
     "output_type": "stream",
     "text": [
      "Time elapsed (hh:mm:ss.ms) 0:00:00.248919\n",
      "\n",
      "\n",
      "export California completed!\n",
      "\n",
      "\n",
      "152\n",
      "Northern%20California\n",
      "\n",
      "\n",
      "Retrieving weather data for Northern%20California\n",
      "\n",
      "\n",
      "Currently retrieving data for Northern%20California: from 2009-10-13 to 2009-10-13\n"
     ]
    },
    {
     "name": "stderr",
     "output_type": "stream",
     "text": [
      "C:\\Users\\Heliiix\\anaconda3\\Lib\\site-packages\\wwo_hist\\__init__.py:69: FutureWarning: Argument `closed` is deprecated in favor of `inclusive`.\n",
      "  list_mon_begin = pd.date_range(start_date, end_date, freq='MS', closed='right')\n",
      "C:\\Users\\Heliiix\\anaconda3\\Lib\\site-packages\\wwo_hist\\__init__.py:74: FutureWarning: Argument `closed` is deprecated in favor of `inclusive`.\n",
      "  list_mon_end = pd.date_range(start_date, end_date, freq='M', closed='left')\n"
     ]
    },
    {
     "name": "stdout",
     "output_type": "stream",
     "text": [
      "Time elapsed (hh:mm:ss.ms) 0:00:00.270854\n",
      "\n",
      "\n",
      "export Northern%20California completed!\n",
      "\n",
      "\n",
      "153\n",
      "San%20Francisco%20Bay%20Area\n",
      "\n",
      "\n",
      "Retrieving weather data for San%20Francisco%20Bay%20Area\n",
      "\n",
      "\n",
      "Currently retrieving data for San%20Francisco%20Bay%20Area: from 2009-07-21 to 2009-07-21\n"
     ]
    },
    {
     "name": "stderr",
     "output_type": "stream",
     "text": [
      "C:\\Users\\Heliiix\\anaconda3\\Lib\\site-packages\\wwo_hist\\__init__.py:69: FutureWarning: Argument `closed` is deprecated in favor of `inclusive`.\n",
      "  list_mon_begin = pd.date_range(start_date, end_date, freq='MS', closed='right')\n",
      "C:\\Users\\Heliiix\\anaconda3\\Lib\\site-packages\\wwo_hist\\__init__.py:74: FutureWarning: Argument `closed` is deprecated in favor of `inclusive`.\n",
      "  list_mon_end = pd.date_range(start_date, end_date, freq='M', closed='left')\n"
     ]
    },
    {
     "name": "stdout",
     "output_type": "stream",
     "text": [
      "Time elapsed (hh:mm:ss.ms) 0:00:00.242028\n",
      "\n",
      "\n",
      "export San%20Francisco%20Bay%20Area completed!\n",
      "\n",
      "\n",
      "154\n",
      "Georgia\n",
      "\n",
      "\n",
      "Retrieving weather data for Georgia\n",
      "\n",
      "\n",
      "Currently retrieving data for Georgia: from 2009-06-12 to 2009-06-13\n"
     ]
    },
    {
     "name": "stderr",
     "output_type": "stream",
     "text": [
      "C:\\Users\\Heliiix\\anaconda3\\Lib\\site-packages\\wwo_hist\\__init__.py:69: FutureWarning: Argument `closed` is deprecated in favor of `inclusive`.\n",
      "  list_mon_begin = pd.date_range(start_date, end_date, freq='MS', closed='right')\n",
      "C:\\Users\\Heliiix\\anaconda3\\Lib\\site-packages\\wwo_hist\\__init__.py:74: FutureWarning: Argument `closed` is deprecated in favor of `inclusive`.\n",
      "  list_mon_end = pd.date_range(start_date, end_date, freq='M', closed='left')\n"
     ]
    },
    {
     "name": "stdout",
     "output_type": "stream",
     "text": [
      "Time elapsed (hh:mm:ss.ms) 0:00:00.261024\n",
      "\n",
      "\n",
      "export Georgia completed!\n",
      "\n",
      "\n",
      "155\n",
      "San%20Francisco%20Bay%20Area\n",
      "\n",
      "\n",
      "Retrieving weather data for San%20Francisco%20Bay%20Area\n",
      "\n",
      "\n",
      "Currently retrieving data for San%20Francisco%20Bay%20Area: from 2009-03-08 to 2009-03-08\n"
     ]
    },
    {
     "name": "stderr",
     "output_type": "stream",
     "text": [
      "C:\\Users\\Heliiix\\anaconda3\\Lib\\site-packages\\wwo_hist\\__init__.py:69: FutureWarning: Argument `closed` is deprecated in favor of `inclusive`.\n",
      "  list_mon_begin = pd.date_range(start_date, end_date, freq='MS', closed='right')\n",
      "C:\\Users\\Heliiix\\anaconda3\\Lib\\site-packages\\wwo_hist\\__init__.py:74: FutureWarning: Argument `closed` is deprecated in favor of `inclusive`.\n",
      "  list_mon_end = pd.date_range(start_date, end_date, freq='M', closed='left')\n"
     ]
    },
    {
     "name": "stdout",
     "output_type": "stream",
     "text": [
      "Time elapsed (hh:mm:ss.ms) 0:00:00.250090\n",
      "\n",
      "\n",
      "export San%20Francisco%20Bay%20Area completed!\n",
      "\n",
      "\n",
      "156\n",
      "Southeastern%20Michigan\n",
      "\n",
      "\n",
      "Retrieving weather data for Southeastern%20Michigan\n",
      "\n",
      "\n",
      "Currently retrieving data for Southeastern%20Michigan: from 2008-12-27 to 2008-01-01\n"
     ]
    },
    {
     "name": "stderr",
     "output_type": "stream",
     "text": [
      "C:\\Users\\Heliiix\\anaconda3\\Lib\\site-packages\\wwo_hist\\__init__.py:69: FutureWarning: Argument `closed` is deprecated in favor of `inclusive`.\n",
      "  list_mon_begin = pd.date_range(start_date, end_date, freq='MS', closed='right')\n",
      "C:\\Users\\Heliiix\\anaconda3\\Lib\\site-packages\\wwo_hist\\__init__.py:74: FutureWarning: Argument `closed` is deprecated in favor of `inclusive`.\n",
      "  list_mon_end = pd.date_range(start_date, end_date, freq='M', closed='left')\n"
     ]
    },
    {
     "name": "stdout",
     "output_type": "stream",
     "text": [
      "Error processing data for location: Southeastern Michigan. Error: 'weather'\n",
      "157\n",
      "Island%20of%20Puerto%20Rico\n",
      "\n",
      "\n",
      "Retrieving weather data for Island%20of%20Puerto%20Rico\n",
      "\n",
      "\n",
      "Currently retrieving data for Island%20of%20Puerto%20Rico: from 2008-11-11 to 2008-11-11\n"
     ]
    },
    {
     "name": "stderr",
     "output_type": "stream",
     "text": [
      "C:\\Users\\Heliiix\\anaconda3\\Lib\\site-packages\\wwo_hist\\__init__.py:69: FutureWarning: Argument `closed` is deprecated in favor of `inclusive`.\n",
      "  list_mon_begin = pd.date_range(start_date, end_date, freq='MS', closed='right')\n",
      "C:\\Users\\Heliiix\\anaconda3\\Lib\\site-packages\\wwo_hist\\__init__.py:74: FutureWarning: Argument `closed` is deprecated in favor of `inclusive`.\n",
      "  list_mon_end = pd.date_range(start_date, end_date, freq='M', closed='left')\n"
     ]
    },
    {
     "name": "stdout",
     "output_type": "stream",
     "text": [
      "Time elapsed (hh:mm:ss.ms) 0:00:00.268228\n",
      "\n",
      "\n",
      "export Island%20of%20Puerto%20Rico completed!\n",
      "\n",
      "\n",
      "158\n",
      "Southern%20California\n",
      "\n",
      "\n",
      "Retrieving weather data for Southern%20California\n",
      "\n",
      "\n",
      "Currently retrieving data for Southern%20California: from 2008-11-07 to 2008-11-07\n"
     ]
    },
    {
     "name": "stderr",
     "output_type": "stream",
     "text": [
      "C:\\Users\\Heliiix\\anaconda3\\Lib\\site-packages\\wwo_hist\\__init__.py:69: FutureWarning: Argument `closed` is deprecated in favor of `inclusive`.\n",
      "  list_mon_begin = pd.date_range(start_date, end_date, freq='MS', closed='right')\n",
      "C:\\Users\\Heliiix\\anaconda3\\Lib\\site-packages\\wwo_hist\\__init__.py:74: FutureWarning: Argument `closed` is deprecated in favor of `inclusive`.\n",
      "  list_mon_end = pd.date_range(start_date, end_date, freq='M', closed='left')\n"
     ]
    },
    {
     "name": "stdout",
     "output_type": "stream",
     "text": [
      "Time elapsed (hh:mm:ss.ms) 0:00:00.258086\n",
      "\n",
      "\n",
      "export Southern%20California completed!\n",
      "\n",
      "\n",
      "159\n",
      "Island%20of%20Puerto%20Rico\n",
      "\n",
      "\n",
      "Retrieving weather data for Island%20of%20Puerto%20Rico\n",
      "\n",
      "\n",
      "Currently retrieving data for Island%20of%20Puerto%20Rico: from 2008-09-22 to 2008-09-22\n"
     ]
    },
    {
     "name": "stderr",
     "output_type": "stream",
     "text": [
      "C:\\Users\\Heliiix\\anaconda3\\Lib\\site-packages\\wwo_hist\\__init__.py:69: FutureWarning: Argument `closed` is deprecated in favor of `inclusive`.\n",
      "  list_mon_begin = pd.date_range(start_date, end_date, freq='MS', closed='right')\n",
      "C:\\Users\\Heliiix\\anaconda3\\Lib\\site-packages\\wwo_hist\\__init__.py:74: FutureWarning: Argument `closed` is deprecated in favor of `inclusive`.\n",
      "  list_mon_end = pd.date_range(start_date, end_date, freq='M', closed='left')\n"
     ]
    },
    {
     "name": "stdout",
     "output_type": "stream",
     "text": [
      "Time elapsed (hh:mm:ss.ms) 0:00:00.238788\n",
      "\n",
      "\n",
      "export Island%20of%20Puerto%20Rico completed!\n",
      "\n",
      "\n",
      "160\n",
      "Island%20of%20Puerto%20Rico\n",
      "\n",
      "\n",
      "Retrieving weather data for Island%20of%20Puerto%20Rico\n",
      "\n",
      "\n",
      "Currently retrieving data for Island%20of%20Puerto%20Rico: from 2008-08-16 to 2008-08-16\n"
     ]
    },
    {
     "name": "stderr",
     "output_type": "stream",
     "text": [
      "C:\\Users\\Heliiix\\anaconda3\\Lib\\site-packages\\wwo_hist\\__init__.py:69: FutureWarning: Argument `closed` is deprecated in favor of `inclusive`.\n",
      "  list_mon_begin = pd.date_range(start_date, end_date, freq='MS', closed='right')\n",
      "C:\\Users\\Heliiix\\anaconda3\\Lib\\site-packages\\wwo_hist\\__init__.py:74: FutureWarning: Argument `closed` is deprecated in favor of `inclusive`.\n",
      "  list_mon_end = pd.date_range(start_date, end_date, freq='M', closed='left')\n"
     ]
    },
    {
     "name": "stdout",
     "output_type": "stream",
     "text": [
      "Time elapsed (hh:mm:ss.ms) 0:00:00.266217\n",
      "\n",
      "\n",
      "export Island%20of%20Puerto%20Rico completed!\n",
      "\n",
      "\n",
      "161\n",
      "San%20Francisco%20Bay%20Area\n",
      "\n",
      "\n",
      "Retrieving weather data for San%20Francisco%20Bay%20Area\n",
      "\n",
      "\n",
      "Currently retrieving data for San%20Francisco%20Bay%20Area: from 2008-07-10 to 2008-07-10\n"
     ]
    },
    {
     "name": "stderr",
     "output_type": "stream",
     "text": [
      "C:\\Users\\Heliiix\\anaconda3\\Lib\\site-packages\\wwo_hist\\__init__.py:69: FutureWarning: Argument `closed` is deprecated in favor of `inclusive`.\n",
      "  list_mon_begin = pd.date_range(start_date, end_date, freq='MS', closed='right')\n",
      "C:\\Users\\Heliiix\\anaconda3\\Lib\\site-packages\\wwo_hist\\__init__.py:74: FutureWarning: Argument `closed` is deprecated in favor of `inclusive`.\n",
      "  list_mon_end = pd.date_range(start_date, end_date, freq='M', closed='left')\n"
     ]
    },
    {
     "name": "stdout",
     "output_type": "stream",
     "text": [
      "Time elapsed (hh:mm:ss.ms) 0:00:00.260668\n",
      "\n",
      "\n",
      "export San%20Francisco%20Bay%20Area completed!\n",
      "\n",
      "\n",
      "162\n",
      "San%20Francisco%20Bay%20Area\n",
      "\n",
      "\n",
      "Retrieving weather data for San%20Francisco%20Bay%20Area\n",
      "\n",
      "\n",
      "Currently retrieving data for San%20Francisco%20Bay%20Area: from 2008-07-01 to 2008-07-01\n"
     ]
    },
    {
     "name": "stderr",
     "output_type": "stream",
     "text": [
      "C:\\Users\\Heliiix\\anaconda3\\Lib\\site-packages\\wwo_hist\\__init__.py:69: FutureWarning: Argument `closed` is deprecated in favor of `inclusive`.\n",
      "  list_mon_begin = pd.date_range(start_date, end_date, freq='MS', closed='right')\n",
      "C:\\Users\\Heliiix\\anaconda3\\Lib\\site-packages\\wwo_hist\\__init__.py:74: FutureWarning: Argument `closed` is deprecated in favor of `inclusive`.\n",
      "  list_mon_end = pd.date_range(start_date, end_date, freq='M', closed='left')\n",
      "C:\\Users\\Heliiix\\anaconda3\\Lib\\site-packages\\wwo_hist\\__init__.py:69: FutureWarning: Argument `closed` is deprecated in favor of `inclusive`.\n",
      "  list_mon_begin = pd.date_range(start_date, end_date, freq='MS', closed='right')\n",
      "C:\\Users\\Heliiix\\anaconda3\\Lib\\site-packages\\wwo_hist\\__init__.py:74: FutureWarning: Argument `closed` is deprecated in favor of `inclusive`.\n",
      "  list_mon_end = pd.date_range(start_date, end_date, freq='M', closed='left')\n"
     ]
    },
    {
     "name": "stdout",
     "output_type": "stream",
     "text": [
      "Time elapsed (hh:mm:ss.ms) 0:00:00.221924\n",
      "Error processing data for location: San Francisco Bay Area. Error: 1\n",
      "163\n",
      "Island%20of%20Puerto%20Rico\n",
      "\n",
      "\n",
      "Retrieving weather data for Island%20of%20Puerto%20Rico\n",
      "\n",
      "\n",
      "Currently retrieving data for Island%20of%20Puerto%20Rico: from 2008-06-04 to 2008-06-04\n",
      "Error processing data for location: Island of Puerto Rico. Error: 'weather'\n",
      "164\n",
      "Georgia\n",
      "\n",
      "\n",
      "Retrieving weather data for Georgia\n",
      "\n",
      "\n",
      "Currently retrieving data for Georgia: from 2008-05-11 to 2008-05-12\n"
     ]
    },
    {
     "name": "stderr",
     "output_type": "stream",
     "text": [
      "C:\\Users\\Heliiix\\anaconda3\\Lib\\site-packages\\wwo_hist\\__init__.py:69: FutureWarning: Argument `closed` is deprecated in favor of `inclusive`.\n",
      "  list_mon_begin = pd.date_range(start_date, end_date, freq='MS', closed='right')\n",
      "C:\\Users\\Heliiix\\anaconda3\\Lib\\site-packages\\wwo_hist\\__init__.py:74: FutureWarning: Argument `closed` is deprecated in favor of `inclusive`.\n",
      "  list_mon_end = pd.date_range(start_date, end_date, freq='M', closed='left')\n"
     ]
    },
    {
     "name": "stdout",
     "output_type": "stream",
     "text": [
      "Error processing data for location: Georgia. Error: 'weather'\n",
      "165\n",
      "California\n",
      "\n",
      "\n",
      "Retrieving weather data for California\n",
      "\n",
      "\n",
      "Currently retrieving data for California: from 2008-05-08 to 2008-05-08\n"
     ]
    },
    {
     "name": "stderr",
     "output_type": "stream",
     "text": [
      "C:\\Users\\Heliiix\\anaconda3\\Lib\\site-packages\\wwo_hist\\__init__.py:69: FutureWarning: Argument `closed` is deprecated in favor of `inclusive`.\n",
      "  list_mon_begin = pd.date_range(start_date, end_date, freq='MS', closed='right')\n",
      "C:\\Users\\Heliiix\\anaconda3\\Lib\\site-packages\\wwo_hist\\__init__.py:74: FutureWarning: Argument `closed` is deprecated in favor of `inclusive`.\n",
      "  list_mon_end = pd.date_range(start_date, end_date, freq='M', closed='left')\n"
     ]
    },
    {
     "name": "stdout",
     "output_type": "stream",
     "text": [
      "Error processing data for location: California. Error: 'weather'\n",
      "166\n",
      "San%20Francisco%20Bay%20Area\n",
      "\n",
      "\n",
      "Retrieving weather data for San%20Francisco%20Bay%20Area\n",
      "\n",
      "\n",
      "Currently retrieving data for San%20Francisco%20Bay%20Area: from 2008-02-02 to 2008-02-02\n"
     ]
    },
    {
     "name": "stderr",
     "output_type": "stream",
     "text": [
      "C:\\Users\\Heliiix\\anaconda3\\Lib\\site-packages\\wwo_hist\\__init__.py:69: FutureWarning: Argument `closed` is deprecated in favor of `inclusive`.\n",
      "  list_mon_begin = pd.date_range(start_date, end_date, freq='MS', closed='right')\n",
      "C:\\Users\\Heliiix\\anaconda3\\Lib\\site-packages\\wwo_hist\\__init__.py:74: FutureWarning: Argument `closed` is deprecated in favor of `inclusive`.\n",
      "  list_mon_end = pd.date_range(start_date, end_date, freq='M', closed='left')\n"
     ]
    },
    {
     "name": "stdout",
     "output_type": "stream",
     "text": [
      "Error processing data for location: San Francisco Bay Area. Error: 'weather'\n",
      "167\n",
      "San%20Francisco%20Bay%20Area\n",
      "\n",
      "\n",
      "Retrieving weather data for San%20Francisco%20Bay%20Area\n",
      "\n",
      "\n",
      "Currently retrieving data for San%20Francisco%20Bay%20Area: from 2008-02-01 to 2008-02-01\n"
     ]
    },
    {
     "name": "stderr",
     "output_type": "stream",
     "text": [
      "C:\\Users\\Heliiix\\anaconda3\\Lib\\site-packages\\wwo_hist\\__init__.py:69: FutureWarning: Argument `closed` is deprecated in favor of `inclusive`.\n",
      "  list_mon_begin = pd.date_range(start_date, end_date, freq='MS', closed='right')\n",
      "C:\\Users\\Heliiix\\anaconda3\\Lib\\site-packages\\wwo_hist\\__init__.py:74: FutureWarning: Argument `closed` is deprecated in favor of `inclusive`.\n",
      "  list_mon_end = pd.date_range(start_date, end_date, freq='M', closed='left')\n"
     ]
    },
    {
     "name": "stdout",
     "output_type": "stream",
     "text": [
      "Error processing data for location: San Francisco Bay Area. Error: 'weather'\n",
      "168\n",
      "Southeastern%20Michigan\n",
      "\n",
      "\n",
      "Retrieving weather data for Southeastern%20Michigan\n",
      "\n",
      "\n",
      "Currently retrieving data for Southeastern%20Michigan: from 2008-01-29 to 2008-01-31\n"
     ]
    },
    {
     "name": "stderr",
     "output_type": "stream",
     "text": [
      "C:\\Users\\Heliiix\\anaconda3\\Lib\\site-packages\\wwo_hist\\__init__.py:69: FutureWarning: Argument `closed` is deprecated in favor of `inclusive`.\n",
      "  list_mon_begin = pd.date_range(start_date, end_date, freq='MS', closed='right')\n",
      "C:\\Users\\Heliiix\\anaconda3\\Lib\\site-packages\\wwo_hist\\__init__.py:74: FutureWarning: Argument `closed` is deprecated in favor of `inclusive`.\n",
      "  list_mon_end = pd.date_range(start_date, end_date, freq='M', closed='left')\n"
     ]
    },
    {
     "name": "stdout",
     "output_type": "stream",
     "text": [
      "Error processing data for location: Southeastern Michigan. Error: 'weather'\n",
      "169\n",
      "San%20Francisco%20Bay%20Area\n",
      "\n",
      "\n",
      "Retrieving weather data for San%20Francisco%20Bay%20Area\n",
      "\n",
      "\n",
      "Currently retrieving data for San%20Francisco%20Bay%20Area: from 2008-01-29 to 2008-01-29\n",
      "Error processing data for location: San Francisco Bay Area. Error: 'weather'\n",
      "170\n",
      "Northern%20California\n",
      "\n",
      "\n",
      "Retrieving weather data for Northern%20California\n",
      "\n",
      "\n",
      "Currently retrieving data for Northern%20California: from 2008-01-04 to 2008-01-14\n"
     ]
    },
    {
     "name": "stderr",
     "output_type": "stream",
     "text": [
      "C:\\Users\\Heliiix\\anaconda3\\Lib\\site-packages\\wwo_hist\\__init__.py:69: FutureWarning: Argument `closed` is deprecated in favor of `inclusive`.\n",
      "  list_mon_begin = pd.date_range(start_date, end_date, freq='MS', closed='right')\n",
      "C:\\Users\\Heliiix\\anaconda3\\Lib\\site-packages\\wwo_hist\\__init__.py:74: FutureWarning: Argument `closed` is deprecated in favor of `inclusive`.\n",
      "  list_mon_end = pd.date_range(start_date, end_date, freq='M', closed='left')\n",
      "C:\\Users\\Heliiix\\anaconda3\\Lib\\site-packages\\wwo_hist\\__init__.py:69: FutureWarning: Argument `closed` is deprecated in favor of `inclusive`.\n",
      "  list_mon_begin = pd.date_range(start_date, end_date, freq='MS', closed='right')\n",
      "C:\\Users\\Heliiix\\anaconda3\\Lib\\site-packages\\wwo_hist\\__init__.py:74: FutureWarning: Argument `closed` is deprecated in favor of `inclusive`.\n",
      "  list_mon_end = pd.date_range(start_date, end_date, freq='M', closed='left')\n"
     ]
    },
    {
     "name": "stdout",
     "output_type": "stream",
     "text": [
      "Error processing data for location: Northern California. Error: 'weather'\n",
      "171\n",
      "Island%20of%20Puerto%20Rico\n",
      "\n",
      "\n",
      "Retrieving weather data for Island%20of%20Puerto%20Rico\n",
      "\n",
      "\n",
      "Currently retrieving data for Island%20of%20Puerto%20Rico: from 2007-12-11 to 2007-12-11\n"
     ]
    },
    {
     "name": "stderr",
     "output_type": "stream",
     "text": [
      "C:\\Users\\Heliiix\\anaconda3\\Lib\\site-packages\\wwo_hist\\__init__.py:69: FutureWarning: Argument `closed` is deprecated in favor of `inclusive`.\n",
      "  list_mon_begin = pd.date_range(start_date, end_date, freq='MS', closed='right')\n",
      "C:\\Users\\Heliiix\\anaconda3\\Lib\\site-packages\\wwo_hist\\__init__.py:74: FutureWarning: Argument `closed` is deprecated in favor of `inclusive`.\n",
      "  list_mon_end = pd.date_range(start_date, end_date, freq='M', closed='left')\n"
     ]
    },
    {
     "name": "stdout",
     "output_type": "stream",
     "text": [
      "Error processing data for location: Island of Puerto Rico. Error: 'weather'\n",
      "172\n",
      "Island%20of%20Puerto%20Rico\n",
      "\n",
      "\n",
      "Retrieving weather data for Island%20of%20Puerto%20Rico\n",
      "\n",
      "\n",
      "Currently retrieving data for Island%20of%20Puerto%20Rico: from 2007-12-04 to 2007-12-04\n"
     ]
    },
    {
     "name": "stderr",
     "output_type": "stream",
     "text": [
      "C:\\Users\\Heliiix\\anaconda3\\Lib\\site-packages\\wwo_hist\\__init__.py:69: FutureWarning: Argument `closed` is deprecated in favor of `inclusive`.\n",
      "  list_mon_begin = pd.date_range(start_date, end_date, freq='MS', closed='right')\n",
      "C:\\Users\\Heliiix\\anaconda3\\Lib\\site-packages\\wwo_hist\\__init__.py:74: FutureWarning: Argument `closed` is deprecated in favor of `inclusive`.\n",
      "  list_mon_end = pd.date_range(start_date, end_date, freq='M', closed='left')\n"
     ]
    },
    {
     "name": "stdout",
     "output_type": "stream",
     "text": [
      "Error processing data for location: Island of Puerto Rico. Error: 'weather'\n",
      "173\n",
      "Southern%20California\n",
      "\n",
      "\n",
      "Retrieving weather data for Southern%20California\n",
      "\n",
      "\n",
      "Currently retrieving data for Southern%20California: from 2007-10-22 to 2007-10-22\n"
     ]
    },
    {
     "name": "stderr",
     "output_type": "stream",
     "text": [
      "C:\\Users\\Heliiix\\anaconda3\\Lib\\site-packages\\wwo_hist\\__init__.py:69: FutureWarning: Argument `closed` is deprecated in favor of `inclusive`.\n",
      "  list_mon_begin = pd.date_range(start_date, end_date, freq='MS', closed='right')\n",
      "C:\\Users\\Heliiix\\anaconda3\\Lib\\site-packages\\wwo_hist\\__init__.py:74: FutureWarning: Argument `closed` is deprecated in favor of `inclusive`.\n",
      "  list_mon_end = pd.date_range(start_date, end_date, freq='M', closed='left')\n"
     ]
    },
    {
     "name": "stdout",
     "output_type": "stream",
     "text": [
      "Error processing data for location: Southern California. Error: 'weather'\n",
      "174\n",
      "Southern%20California\n",
      "\n",
      "\n",
      "Retrieving weather data for Southern%20California\n",
      "\n",
      "\n",
      "Currently retrieving data for Southern%20California: from 2007-10-22 to 2007-10-22\n"
     ]
    },
    {
     "name": "stderr",
     "output_type": "stream",
     "text": [
      "C:\\Users\\Heliiix\\anaconda3\\Lib\\site-packages\\wwo_hist\\__init__.py:69: FutureWarning: Argument `closed` is deprecated in favor of `inclusive`.\n",
      "  list_mon_begin = pd.date_range(start_date, end_date, freq='MS', closed='right')\n",
      "C:\\Users\\Heliiix\\anaconda3\\Lib\\site-packages\\wwo_hist\\__init__.py:74: FutureWarning: Argument `closed` is deprecated in favor of `inclusive`.\n",
      "  list_mon_end = pd.date_range(start_date, end_date, freq='M', closed='left')\n"
     ]
    },
    {
     "name": "stdout",
     "output_type": "stream",
     "text": [
      "Error processing data for location: Southern California. Error: 'weather'\n",
      "175\n",
      "Southeastern%20Michigan\n",
      "\n",
      "\n",
      "Retrieving weather data for Southeastern%20Michigan\n",
      "\n",
      "\n",
      "Currently retrieving data for Southeastern%20Michigan: from 2007-08-24 to 2007-08-28\n"
     ]
    },
    {
     "name": "stderr",
     "output_type": "stream",
     "text": [
      "C:\\Users\\Heliiix\\anaconda3\\Lib\\site-packages\\wwo_hist\\__init__.py:69: FutureWarning: Argument `closed` is deprecated in favor of `inclusive`.\n",
      "  list_mon_begin = pd.date_range(start_date, end_date, freq='MS', closed='right')\n",
      "C:\\Users\\Heliiix\\anaconda3\\Lib\\site-packages\\wwo_hist\\__init__.py:74: FutureWarning: Argument `closed` is deprecated in favor of `inclusive`.\n",
      "  list_mon_end = pd.date_range(start_date, end_date, freq='M', closed='left')\n"
     ]
    },
    {
     "name": "stdout",
     "output_type": "stream",
     "text": [
      "Error processing data for location: Southeastern Michigan. Error: 'weather'\n",
      "176\n",
      "Northern%20Illinois\n",
      "\n",
      "\n",
      "Retrieving weather data for Northern%20Illinois\n",
      "\n",
      "\n",
      "Currently retrieving data for Northern%20Illinois: from 2007-08-23 to 2007-08-28\n"
     ]
    },
    {
     "name": "stderr",
     "output_type": "stream",
     "text": [
      "C:\\Users\\Heliiix\\anaconda3\\Lib\\site-packages\\wwo_hist\\__init__.py:69: FutureWarning: Argument `closed` is deprecated in favor of `inclusive`.\n",
      "  list_mon_begin = pd.date_range(start_date, end_date, freq='MS', closed='right')\n",
      "C:\\Users\\Heliiix\\anaconda3\\Lib\\site-packages\\wwo_hist\\__init__.py:74: FutureWarning: Argument `closed` is deprecated in favor of `inclusive`.\n",
      "  list_mon_end = pd.date_range(start_date, end_date, freq='M', closed='left')\n"
     ]
    },
    {
     "name": "stdout",
     "output_type": "stream",
     "text": [
      "Error processing data for location: Northern Illinois. Error: 'weather'\n",
      "177\n",
      "Southeastern%20Michigan\n",
      "\n",
      "\n",
      "Retrieving weather data for Southeastern%20Michigan\n",
      "\n",
      "\n",
      "Currently retrieving data for Southeastern%20Michigan: from 2007-07-05 to 2007-07-08\n"
     ]
    },
    {
     "name": "stderr",
     "output_type": "stream",
     "text": [
      "C:\\Users\\Heliiix\\anaconda3\\Lib\\site-packages\\wwo_hist\\__init__.py:69: FutureWarning: Argument `closed` is deprecated in favor of `inclusive`.\n",
      "  list_mon_begin = pd.date_range(start_date, end_date, freq='MS', closed='right')\n",
      "C:\\Users\\Heliiix\\anaconda3\\Lib\\site-packages\\wwo_hist\\__init__.py:74: FutureWarning: Argument `closed` is deprecated in favor of `inclusive`.\n",
      "  list_mon_end = pd.date_range(start_date, end_date, freq='M', closed='left')\n"
     ]
    },
    {
     "name": "stdout",
     "output_type": "stream",
     "text": [
      "Error processing data for location: Southeastern Michigan. Error: 'weather'\n",
      "178\n",
      "Southeastern%20Michigan\n",
      "\n",
      "\n",
      "Retrieving weather data for Southeastern%20Michigan\n",
      "\n",
      "\n",
      "Currently retrieving data for Southeastern%20Michigan: from 2007-05-15 to 2007-05-17\n"
     ]
    },
    {
     "name": "stderr",
     "output_type": "stream",
     "text": [
      "C:\\Users\\Heliiix\\anaconda3\\Lib\\site-packages\\wwo_hist\\__init__.py:69: FutureWarning: Argument `closed` is deprecated in favor of `inclusive`.\n",
      "  list_mon_begin = pd.date_range(start_date, end_date, freq='MS', closed='right')\n",
      "C:\\Users\\Heliiix\\anaconda3\\Lib\\site-packages\\wwo_hist\\__init__.py:74: FutureWarning: Argument `closed` is deprecated in favor of `inclusive`.\n",
      "  list_mon_end = pd.date_range(start_date, end_date, freq='M', closed='left')\n"
     ]
    },
    {
     "name": "stdout",
     "output_type": "stream",
     "text": [
      "Error processing data for location: Southeastern Michigan. Error: 'weather'\n",
      "179\n",
      "San%20Francisco%20Bay%20Area\n",
      "\n",
      "\n",
      "Retrieving weather data for San%20Francisco%20Bay%20Area\n",
      "\n",
      "\n",
      "Currently retrieving data for San%20Francisco%20Bay%20Area: from 2007-05-14 to 2007-05-14\n"
     ]
    },
    {
     "name": "stderr",
     "output_type": "stream",
     "text": [
      "C:\\Users\\Heliiix\\anaconda3\\Lib\\site-packages\\wwo_hist\\__init__.py:69: FutureWarning: Argument `closed` is deprecated in favor of `inclusive`.\n",
      "  list_mon_begin = pd.date_range(start_date, end_date, freq='MS', closed='right')\n",
      "C:\\Users\\Heliiix\\anaconda3\\Lib\\site-packages\\wwo_hist\\__init__.py:74: FutureWarning: Argument `closed` is deprecated in favor of `inclusive`.\n",
      "  list_mon_end = pd.date_range(start_date, end_date, freq='M', closed='left')\n"
     ]
    },
    {
     "name": "stdout",
     "output_type": "stream",
     "text": [
      "Error processing data for location: San Francisco Bay Area. Error: 'weather'\n",
      "180\n",
      "San%20Francisco%20Bay%20Area\n",
      "\n",
      "\n",
      "Retrieving weather data for San%20Francisco%20Bay%20Area\n",
      "\n",
      "\n",
      "Currently retrieving data for San%20Francisco%20Bay%20Area: from 2007-05-10 to 2007-05-10\n"
     ]
    },
    {
     "name": "stderr",
     "output_type": "stream",
     "text": [
      "C:\\Users\\Heliiix\\anaconda3\\Lib\\site-packages\\wwo_hist\\__init__.py:69: FutureWarning: Argument `closed` is deprecated in favor of `inclusive`.\n",
      "  list_mon_begin = pd.date_range(start_date, end_date, freq='MS', closed='right')\n",
      "C:\\Users\\Heliiix\\anaconda3\\Lib\\site-packages\\wwo_hist\\__init__.py:74: FutureWarning: Argument `closed` is deprecated in favor of `inclusive`.\n",
      "  list_mon_end = pd.date_range(start_date, end_date, freq='M', closed='left')\n"
     ]
    },
    {
     "name": "stdout",
     "output_type": "stream",
     "text": [
      "Error processing data for location: San Francisco Bay Area. Error: 'weather'\n",
      "181\n",
      "San%20Francisco%20Bay%20Area\n",
      "\n",
      "\n",
      "Retrieving weather data for San%20Francisco%20Bay%20Area\n",
      "\n",
      "\n",
      "Currently retrieving data for San%20Francisco%20Bay%20Area: from 2007-04-12 to 2007-04-12\n"
     ]
    },
    {
     "name": "stderr",
     "output_type": "stream",
     "text": [
      "C:\\Users\\Heliiix\\anaconda3\\Lib\\site-packages\\wwo_hist\\__init__.py:69: FutureWarning: Argument `closed` is deprecated in favor of `inclusive`.\n",
      "  list_mon_begin = pd.date_range(start_date, end_date, freq='MS', closed='right')\n",
      "C:\\Users\\Heliiix\\anaconda3\\Lib\\site-packages\\wwo_hist\\__init__.py:74: FutureWarning: Argument `closed` is deprecated in favor of `inclusive`.\n",
      "  list_mon_end = pd.date_range(start_date, end_date, freq='M', closed='left')\n"
     ]
    },
    {
     "name": "stdout",
     "output_type": "stream",
     "text": [
      "Error processing data for location: San Francisco Bay Area. Error: 'weather'\n",
      "182\n",
      "Northern%20California\n",
      "\n",
      "\n",
      "Retrieving weather data for Northern%20California\n",
      "\n",
      "\n",
      "Currently retrieving data for Northern%20California: from 2007-02-28 to 2007-02-28\n"
     ]
    },
    {
     "name": "stderr",
     "output_type": "stream",
     "text": [
      "C:\\Users\\Heliiix\\anaconda3\\Lib\\site-packages\\wwo_hist\\__init__.py:69: FutureWarning: Argument `closed` is deprecated in favor of `inclusive`.\n",
      "  list_mon_begin = pd.date_range(start_date, end_date, freq='MS', closed='right')\n",
      "C:\\Users\\Heliiix\\anaconda3\\Lib\\site-packages\\wwo_hist\\__init__.py:74: FutureWarning: Argument `closed` is deprecated in favor of `inclusive`.\n",
      "  list_mon_end = pd.date_range(start_date, end_date, freq='M', closed='left')\n"
     ]
    },
    {
     "name": "stdout",
     "output_type": "stream",
     "text": [
      "Error processing data for location: Northern California. Error: 'weather'\n",
      "183\n",
      "Island%20of%20Puerto%20Rico\n",
      "\n",
      "\n",
      "Retrieving weather data for Island%20of%20Puerto%20Rico\n",
      "\n",
      "\n",
      "Currently retrieving data for Island%20of%20Puerto%20Rico: from 2007-01-05 to 2007-01-05\n"
     ]
    },
    {
     "name": "stderr",
     "output_type": "stream",
     "text": [
      "C:\\Users\\Heliiix\\anaconda3\\Lib\\site-packages\\wwo_hist\\__init__.py:69: FutureWarning: Argument `closed` is deprecated in favor of `inclusive`.\n",
      "  list_mon_begin = pd.date_range(start_date, end_date, freq='MS', closed='right')\n",
      "C:\\Users\\Heliiix\\anaconda3\\Lib\\site-packages\\wwo_hist\\__init__.py:74: FutureWarning: Argument `closed` is deprecated in favor of `inclusive`.\n",
      "  list_mon_end = pd.date_range(start_date, end_date, freq='M', closed='left')\n"
     ]
    },
    {
     "name": "stdout",
     "output_type": "stream",
     "text": [
      "Error processing data for location: Island of Puerto Rico. Error: 'weather'\n",
      "184\n",
      "Northern%20California\n",
      "\n",
      "\n",
      "Retrieving weather data for Northern%20California\n",
      "\n",
      "\n",
      "Currently retrieving data for Northern%20California: from 2006-12-26 to 2006-12-31\n"
     ]
    },
    {
     "name": "stderr",
     "output_type": "stream",
     "text": [
      "C:\\Users\\Heliiix\\anaconda3\\Lib\\site-packages\\wwo_hist\\__init__.py:69: FutureWarning: Argument `closed` is deprecated in favor of `inclusive`.\n",
      "  list_mon_begin = pd.date_range(start_date, end_date, freq='MS', closed='right')\n",
      "C:\\Users\\Heliiix\\anaconda3\\Lib\\site-packages\\wwo_hist\\__init__.py:74: FutureWarning: Argument `closed` is deprecated in favor of `inclusive`.\n",
      "  list_mon_end = pd.date_range(start_date, end_date, freq='M', closed='left')\n"
     ]
    },
    {
     "name": "stdout",
     "output_type": "stream",
     "text": [
      "Error processing data for location: Northern California. Error: 'weather'\n",
      "185\n",
      "Ohio\n",
      "\n",
      "\n",
      "Retrieving weather data for Ohio\n",
      "\n",
      "\n",
      "Currently retrieving data for Ohio: from 2006-12-01 to 2006-12-02\n"
     ]
    },
    {
     "name": "stderr",
     "output_type": "stream",
     "text": [
      "C:\\Users\\Heliiix\\anaconda3\\Lib\\site-packages\\wwo_hist\\__init__.py:69: FutureWarning: Argument `closed` is deprecated in favor of `inclusive`.\n",
      "  list_mon_begin = pd.date_range(start_date, end_date, freq='MS', closed='right')\n",
      "C:\\Users\\Heliiix\\anaconda3\\Lib\\site-packages\\wwo_hist\\__init__.py:74: FutureWarning: Argument `closed` is deprecated in favor of `inclusive`.\n",
      "  list_mon_end = pd.date_range(start_date, end_date, freq='M', closed='left')\n"
     ]
    },
    {
     "name": "stdout",
     "output_type": "stream",
     "text": [
      "Error processing data for location: Ohio. Error: 'weather'\n",
      "186\n",
      "Georgia\n",
      "\n",
      "\n",
      "Retrieving weather data for Georgia\n",
      "\n",
      "\n",
      "Currently retrieving data for Georgia: from 2006-11-15 to 2006-11-15\n"
     ]
    },
    {
     "name": "stderr",
     "output_type": "stream",
     "text": [
      "C:\\Users\\Heliiix\\anaconda3\\Lib\\site-packages\\wwo_hist\\__init__.py:69: FutureWarning: Argument `closed` is deprecated in favor of `inclusive`.\n",
      "  list_mon_begin = pd.date_range(start_date, end_date, freq='MS', closed='right')\n",
      "C:\\Users\\Heliiix\\anaconda3\\Lib\\site-packages\\wwo_hist\\__init__.py:74: FutureWarning: Argument `closed` is deprecated in favor of `inclusive`.\n",
      "  list_mon_end = pd.date_range(start_date, end_date, freq='M', closed='left')\n"
     ]
    },
    {
     "name": "stdout",
     "output_type": "stream",
     "text": [
      "Error processing data for location: Georgia. Error: 'weather'\n",
      "187\n",
      "Island%20of%20Puerto%20Rico\n",
      "\n",
      "\n",
      "Retrieving weather data for Island%20of%20Puerto%20Rico\n",
      "\n",
      "\n",
      "Currently retrieving data for Island%20of%20Puerto%20Rico: from 2006-09-14 to 2006-09-14\n"
     ]
    },
    {
     "name": "stderr",
     "output_type": "stream",
     "text": [
      "C:\\Users\\Heliiix\\anaconda3\\Lib\\site-packages\\wwo_hist\\__init__.py:69: FutureWarning: Argument `closed` is deprecated in favor of `inclusive`.\n",
      "  list_mon_begin = pd.date_range(start_date, end_date, freq='MS', closed='right')\n",
      "C:\\Users\\Heliiix\\anaconda3\\Lib\\site-packages\\wwo_hist\\__init__.py:74: FutureWarning: Argument `closed` is deprecated in favor of `inclusive`.\n",
      "  list_mon_end = pd.date_range(start_date, end_date, freq='M', closed='left')\n"
     ]
    },
    {
     "name": "stdout",
     "output_type": "stream",
     "text": [
      "Error processing data for location: Island of Puerto Rico. Error: 'weather'\n",
      "188\n",
      "Island%20of%20Puerto%20Rico\n",
      "\n",
      "\n",
      "Retrieving weather data for Island%20of%20Puerto%20Rico\n",
      "\n",
      "\n",
      "Currently retrieving data for Island%20of%20Puerto%20Rico: from 2006-08-24 to 2006-08-24\n"
     ]
    },
    {
     "name": "stderr",
     "output_type": "stream",
     "text": [
      "C:\\Users\\Heliiix\\anaconda3\\Lib\\site-packages\\wwo_hist\\__init__.py:69: FutureWarning: Argument `closed` is deprecated in favor of `inclusive`.\n",
      "  list_mon_begin = pd.date_range(start_date, end_date, freq='MS', closed='right')\n",
      "C:\\Users\\Heliiix\\anaconda3\\Lib\\site-packages\\wwo_hist\\__init__.py:74: FutureWarning: Argument `closed` is deprecated in favor of `inclusive`.\n",
      "  list_mon_end = pd.date_range(start_date, end_date, freq='M', closed='left')\n"
     ]
    },
    {
     "name": "stdout",
     "output_type": "stream",
     "text": [
      "Error processing data for location: Island of Puerto Rico. Error: 'weather'\n",
      "189\n",
      "Island%20of%20Puerto%20Rico\n",
      "\n",
      "\n",
      "Retrieving weather data for Island%20of%20Puerto%20Rico\n",
      "\n",
      "\n",
      "Currently retrieving data for Island%20of%20Puerto%20Rico: from 2006-08-03 to 2006-08-03\n"
     ]
    },
    {
     "name": "stderr",
     "output_type": "stream",
     "text": [
      "C:\\Users\\Heliiix\\anaconda3\\Lib\\site-packages\\wwo_hist\\__init__.py:69: FutureWarning: Argument `closed` is deprecated in favor of `inclusive`.\n",
      "  list_mon_begin = pd.date_range(start_date, end_date, freq='MS', closed='right')\n",
      "C:\\Users\\Heliiix\\anaconda3\\Lib\\site-packages\\wwo_hist\\__init__.py:74: FutureWarning: Argument `closed` is deprecated in favor of `inclusive`.\n",
      "  list_mon_end = pd.date_range(start_date, end_date, freq='M', closed='left')\n"
     ]
    },
    {
     "name": "stdout",
     "output_type": "stream",
     "text": [
      "Error processing data for location: Island of Puerto Rico. Error: 'weather'\n",
      "190\n",
      "California\n",
      "\n",
      "\n",
      "Retrieving weather data for California\n",
      "\n",
      "\n",
      "Currently retrieving data for California: from 2006-07-24 to 2006-07-24\n"
     ]
    },
    {
     "name": "stderr",
     "output_type": "stream",
     "text": [
      "C:\\Users\\Heliiix\\anaconda3\\Lib\\site-packages\\wwo_hist\\__init__.py:69: FutureWarning: Argument `closed` is deprecated in favor of `inclusive`.\n",
      "  list_mon_begin = pd.date_range(start_date, end_date, freq='MS', closed='right')\n",
      "C:\\Users\\Heliiix\\anaconda3\\Lib\\site-packages\\wwo_hist\\__init__.py:74: FutureWarning: Argument `closed` is deprecated in favor of `inclusive`.\n",
      "  list_mon_end = pd.date_range(start_date, end_date, freq='M', closed='left')\n"
     ]
    },
    {
     "name": "stdout",
     "output_type": "stream",
     "text": [
      "Error processing data for location: California. Error: 'weather'\n",
      "191\n",
      "California\n",
      "\n",
      "\n",
      "Retrieving weather data for California\n",
      "\n",
      "\n",
      "Currently retrieving data for California: from 2006-07-24 to 2006-07-24\n"
     ]
    },
    {
     "name": "stderr",
     "output_type": "stream",
     "text": [
      "C:\\Users\\Heliiix\\anaconda3\\Lib\\site-packages\\wwo_hist\\__init__.py:69: FutureWarning: Argument `closed` is deprecated in favor of `inclusive`.\n",
      "  list_mon_begin = pd.date_range(start_date, end_date, freq='MS', closed='right')\n",
      "C:\\Users\\Heliiix\\anaconda3\\Lib\\site-packages\\wwo_hist\\__init__.py:74: FutureWarning: Argument `closed` is deprecated in favor of `inclusive`.\n",
      "  list_mon_end = pd.date_range(start_date, end_date, freq='M', closed='left')\n"
     ]
    },
    {
     "name": "stdout",
     "output_type": "stream",
     "text": [
      "Error processing data for location: California. Error: 'weather'\n",
      "192\n",
      "California\n",
      "\n",
      "\n",
      "Retrieving weather data for California\n",
      "\n",
      "\n",
      "Currently retrieving data for California: from 2006-07-22 to 2006-07-27\n"
     ]
    },
    {
     "name": "stderr",
     "output_type": "stream",
     "text": [
      "C:\\Users\\Heliiix\\anaconda3\\Lib\\site-packages\\wwo_hist\\__init__.py:69: FutureWarning: Argument `closed` is deprecated in favor of `inclusive`.\n",
      "  list_mon_begin = pd.date_range(start_date, end_date, freq='MS', closed='right')\n",
      "C:\\Users\\Heliiix\\anaconda3\\Lib\\site-packages\\wwo_hist\\__init__.py:74: FutureWarning: Argument `closed` is deprecated in favor of `inclusive`.\n",
      "  list_mon_end = pd.date_range(start_date, end_date, freq='M', closed='left')\n"
     ]
    },
    {
     "name": "stdout",
     "output_type": "stream",
     "text": [
      "Error processing data for location: California. Error: 'weather'\n",
      "193\n",
      "Island%20of%20Puerto%20Rico\n",
      "\n",
      "\n",
      "Retrieving weather data for Island%20of%20Puerto%20Rico\n",
      "\n",
      "\n",
      "Currently retrieving data for Island%20of%20Puerto%20Rico: from 2006-05-04 to 2006-05-04\n"
     ]
    },
    {
     "name": "stderr",
     "output_type": "stream",
     "text": [
      "C:\\Users\\Heliiix\\anaconda3\\Lib\\site-packages\\wwo_hist\\__init__.py:69: FutureWarning: Argument `closed` is deprecated in favor of `inclusive`.\n",
      "  list_mon_begin = pd.date_range(start_date, end_date, freq='MS', closed='right')\n",
      "C:\\Users\\Heliiix\\anaconda3\\Lib\\site-packages\\wwo_hist\\__init__.py:74: FutureWarning: Argument `closed` is deprecated in favor of `inclusive`.\n",
      "  list_mon_end = pd.date_range(start_date, end_date, freq='M', closed='left')\n"
     ]
    },
    {
     "name": "stdout",
     "output_type": "stream",
     "text": [
      "Error processing data for location: Island of Puerto Rico. Error: 'weather'\n",
      "194\n",
      "Island%20of%20Puerto%20Rico\n",
      "\n",
      "\n",
      "Retrieving weather data for Island%20of%20Puerto%20Rico\n",
      "\n",
      "\n",
      "Currently retrieving data for Island%20of%20Puerto%20Rico: from 2006-04-29 to 2006-04-29\n"
     ]
    },
    {
     "name": "stderr",
     "output_type": "stream",
     "text": [
      "C:\\Users\\Heliiix\\anaconda3\\Lib\\site-packages\\wwo_hist\\__init__.py:69: FutureWarning: Argument `closed` is deprecated in favor of `inclusive`.\n",
      "  list_mon_begin = pd.date_range(start_date, end_date, freq='MS', closed='right')\n",
      "C:\\Users\\Heliiix\\anaconda3\\Lib\\site-packages\\wwo_hist\\__init__.py:74: FutureWarning: Argument `closed` is deprecated in favor of `inclusive`.\n",
      "  list_mon_end = pd.date_range(start_date, end_date, freq='M', closed='left')\n"
     ]
    },
    {
     "name": "stdout",
     "output_type": "stream",
     "text": [
      "Error processing data for location: Island of Puerto Rico. Error: 'weather'\n",
      "195\n",
      "Island%20of%20Puerto%20Rico\n",
      "\n",
      "\n",
      "Retrieving weather data for Island%20of%20Puerto%20Rico\n",
      "\n",
      "\n",
      "Currently retrieving data for Island%20of%20Puerto%20Rico: from 2006-04-07 to 2006-04-07\n"
     ]
    },
    {
     "name": "stderr",
     "output_type": "stream",
     "text": [
      "C:\\Users\\Heliiix\\anaconda3\\Lib\\site-packages\\wwo_hist\\__init__.py:69: FutureWarning: Argument `closed` is deprecated in favor of `inclusive`.\n",
      "  list_mon_begin = pd.date_range(start_date, end_date, freq='MS', closed='right')\n",
      "C:\\Users\\Heliiix\\anaconda3\\Lib\\site-packages\\wwo_hist\\__init__.py:74: FutureWarning: Argument `closed` is deprecated in favor of `inclusive`.\n",
      "  list_mon_end = pd.date_range(start_date, end_date, freq='M', closed='left')\n"
     ]
    },
    {
     "name": "stdout",
     "output_type": "stream",
     "text": [
      "Error processing data for location: Island of Puerto Rico. Error: 'weather'\n",
      "196\n",
      "Northern%20and%20Central%20California\n",
      "\n",
      "\n",
      "Retrieving weather data for Northern%20and%20Central%20California\n",
      "\n",
      "\n",
      "Currently retrieving data for Northern%20and%20Central%20California: from 2006-02-27 to 2006-02-28\n"
     ]
    },
    {
     "name": "stderr",
     "output_type": "stream",
     "text": [
      "C:\\Users\\Heliiix\\anaconda3\\Lib\\site-packages\\wwo_hist\\__init__.py:69: FutureWarning: Argument `closed` is deprecated in favor of `inclusive`.\n",
      "  list_mon_begin = pd.date_range(start_date, end_date, freq='MS', closed='right')\n",
      "C:\\Users\\Heliiix\\anaconda3\\Lib\\site-packages\\wwo_hist\\__init__.py:74: FutureWarning: Argument `closed` is deprecated in favor of `inclusive`.\n",
      "  list_mon_end = pd.date_range(start_date, end_date, freq='M', closed='left')\n"
     ]
    },
    {
     "name": "stdout",
     "output_type": "stream",
     "text": [
      "Error processing data for location: Northern and Central California. Error: 'weather'\n",
      "197\n",
      "Northern%20and%20Central%20California\n",
      "\n",
      "\n",
      "Retrieving weather data for Northern%20and%20Central%20California\n",
      "\n",
      "\n",
      "Currently retrieving data for Northern%20and%20Central%20California: from 2005-12-31 to 2005-12-31\n"
     ]
    },
    {
     "name": "stderr",
     "output_type": "stream",
     "text": [
      "C:\\Users\\Heliiix\\anaconda3\\Lib\\site-packages\\wwo_hist\\__init__.py:69: FutureWarning: Argument `closed` is deprecated in favor of `inclusive`.\n",
      "  list_mon_begin = pd.date_range(start_date, end_date, freq='MS', closed='right')\n",
      "C:\\Users\\Heliiix\\anaconda3\\Lib\\site-packages\\wwo_hist\\__init__.py:74: FutureWarning: Argument `closed` is deprecated in favor of `inclusive`.\n",
      "  list_mon_end = pd.date_range(start_date, end_date, freq='M', closed='left')\n"
     ]
    },
    {
     "name": "stdout",
     "output_type": "stream",
     "text": [
      "Error processing data for location: Northern and Central California. Error: 'weather'\n",
      "198\n",
      "Island%20of%20Puerto%20Rico\n",
      "\n",
      "\n",
      "Retrieving weather data for Island%20of%20Puerto%20Rico\n",
      "\n",
      "\n",
      "Currently retrieving data for Island%20of%20Puerto%20Rico: from 2005-10-22 to 2005-10-22\n"
     ]
    },
    {
     "name": "stderr",
     "output_type": "stream",
     "text": [
      "C:\\Users\\Heliiix\\anaconda3\\Lib\\site-packages\\wwo_hist\\__init__.py:69: FutureWarning: Argument `closed` is deprecated in favor of `inclusive`.\n",
      "  list_mon_begin = pd.date_range(start_date, end_date, freq='MS', closed='right')\n",
      "C:\\Users\\Heliiix\\anaconda3\\Lib\\site-packages\\wwo_hist\\__init__.py:74: FutureWarning: Argument `closed` is deprecated in favor of `inclusive`.\n",
      "  list_mon_end = pd.date_range(start_date, end_date, freq='M', closed='left')\n"
     ]
    },
    {
     "name": "stdout",
     "output_type": "stream",
     "text": [
      "Error processing data for location: Island of Puerto Rico. Error: 'weather'\n",
      "199\n",
      "Island%20of%20Puerto%20Rico\n",
      "\n",
      "\n",
      "Retrieving weather data for Island%20of%20Puerto%20Rico\n",
      "\n",
      "\n",
      "Currently retrieving data for Island%20of%20Puerto%20Rico: from 2005-10-02 to 2005-10-02\n"
     ]
    },
    {
     "name": "stderr",
     "output_type": "stream",
     "text": [
      "C:\\Users\\Heliiix\\anaconda3\\Lib\\site-packages\\wwo_hist\\__init__.py:69: FutureWarning: Argument `closed` is deprecated in favor of `inclusive`.\n",
      "  list_mon_begin = pd.date_range(start_date, end_date, freq='MS', closed='right')\n",
      "C:\\Users\\Heliiix\\anaconda3\\Lib\\site-packages\\wwo_hist\\__init__.py:74: FutureWarning: Argument `closed` is deprecated in favor of `inclusive`.\n",
      "  list_mon_end = pd.date_range(start_date, end_date, freq='M', closed='left')\n"
     ]
    },
    {
     "name": "stdout",
     "output_type": "stream",
     "text": [
      "Error processing data for location: Island of Puerto Rico. Error: 'weather'\n",
      "200\n",
      "Island%20of%20Puerto%20Rico\n",
      "\n",
      "\n",
      "Retrieving weather data for Island%20of%20Puerto%20Rico\n",
      "\n",
      "\n",
      "Currently retrieving data for Island%20of%20Puerto%20Rico: from 2005-09-13 to 2005-09-13\n"
     ]
    },
    {
     "name": "stderr",
     "output_type": "stream",
     "text": [
      "C:\\Users\\Heliiix\\anaconda3\\Lib\\site-packages\\wwo_hist\\__init__.py:69: FutureWarning: Argument `closed` is deprecated in favor of `inclusive`.\n",
      "  list_mon_begin = pd.date_range(start_date, end_date, freq='MS', closed='right')\n",
      "C:\\Users\\Heliiix\\anaconda3\\Lib\\site-packages\\wwo_hist\\__init__.py:74: FutureWarning: Argument `closed` is deprecated in favor of `inclusive`.\n",
      "  list_mon_end = pd.date_range(start_date, end_date, freq='M', closed='left')\n"
     ]
    },
    {
     "name": "stdout",
     "output_type": "stream",
     "text": [
      "Error processing data for location: Island of Puerto Rico. Error: 'weather'\n",
      "201\n",
      "Southern%20California\n",
      "\n",
      "\n",
      "Retrieving weather data for Southern%20California\n",
      "\n",
      "\n",
      "Currently retrieving data for Southern%20California: from 2005-08-25 to 2005-08-25\n"
     ]
    },
    {
     "name": "stderr",
     "output_type": "stream",
     "text": [
      "C:\\Users\\Heliiix\\anaconda3\\Lib\\site-packages\\wwo_hist\\__init__.py:69: FutureWarning: Argument `closed` is deprecated in favor of `inclusive`.\n",
      "  list_mon_begin = pd.date_range(start_date, end_date, freq='MS', closed='right')\n",
      "C:\\Users\\Heliiix\\anaconda3\\Lib\\site-packages\\wwo_hist\\__init__.py:74: FutureWarning: Argument `closed` is deprecated in favor of `inclusive`.\n",
      "  list_mon_end = pd.date_range(start_date, end_date, freq='M', closed='left')\n"
     ]
    },
    {
     "name": "stdout",
     "output_type": "stream",
     "text": [
      "Error processing data for location: Southern California. Error: 'weather'\n",
      "202\n",
      "Southern%20California\n",
      "\n",
      "\n",
      "Retrieving weather data for Southern%20California\n",
      "\n",
      "\n",
      "Currently retrieving data for Southern%20California: from 2005-08-25 to 2005-08-25\n"
     ]
    },
    {
     "name": "stderr",
     "output_type": "stream",
     "text": [
      "C:\\Users\\Heliiix\\anaconda3\\Lib\\site-packages\\wwo_hist\\__init__.py:69: FutureWarning: Argument `closed` is deprecated in favor of `inclusive`.\n",
      "  list_mon_begin = pd.date_range(start_date, end_date, freq='MS', closed='right')\n",
      "C:\\Users\\Heliiix\\anaconda3\\Lib\\site-packages\\wwo_hist\\__init__.py:74: FutureWarning: Argument `closed` is deprecated in favor of `inclusive`.\n",
      "  list_mon_end = pd.date_range(start_date, end_date, freq='M', closed='left')\n"
     ]
    },
    {
     "name": "stdout",
     "output_type": "stream",
     "text": [
      "Error processing data for location: Southern California. Error: 'weather'\n",
      "203\n",
      "Island%20of%20Puerto%20Rico\n",
      "\n",
      "\n",
      "Retrieving weather data for Island%20of%20Puerto%20Rico\n",
      "\n",
      "\n",
      "Currently retrieving data for Island%20of%20Puerto%20Rico: from 2005-08-19 to 2005-08-19\n"
     ]
    },
    {
     "name": "stderr",
     "output_type": "stream",
     "text": [
      "C:\\Users\\Heliiix\\anaconda3\\Lib\\site-packages\\wwo_hist\\__init__.py:69: FutureWarning: Argument `closed` is deprecated in favor of `inclusive`.\n",
      "  list_mon_begin = pd.date_range(start_date, end_date, freq='MS', closed='right')\n",
      "C:\\Users\\Heliiix\\anaconda3\\Lib\\site-packages\\wwo_hist\\__init__.py:74: FutureWarning: Argument `closed` is deprecated in favor of `inclusive`.\n",
      "  list_mon_end = pd.date_range(start_date, end_date, freq='M', closed='left')\n"
     ]
    },
    {
     "name": "stdout",
     "output_type": "stream",
     "text": [
      "Error processing data for location: Island of Puerto Rico. Error: 'weather'\n",
      "204\n",
      "Island%20of%20Puerto%20Rico\n",
      "\n",
      "\n",
      "Retrieving weather data for Island%20of%20Puerto%20Rico\n",
      "\n",
      "\n",
      "Currently retrieving data for Island%20of%20Puerto%20Rico: from 2005-08-01 to 2005-08-01\n"
     ]
    },
    {
     "name": "stderr",
     "output_type": "stream",
     "text": [
      "C:\\Users\\Heliiix\\anaconda3\\Lib\\site-packages\\wwo_hist\\__init__.py:69: FutureWarning: Argument `closed` is deprecated in favor of `inclusive`.\n",
      "  list_mon_begin = pd.date_range(start_date, end_date, freq='MS', closed='right')\n",
      "C:\\Users\\Heliiix\\anaconda3\\Lib\\site-packages\\wwo_hist\\__init__.py:74: FutureWarning: Argument `closed` is deprecated in favor of `inclusive`.\n",
      "  list_mon_end = pd.date_range(start_date, end_date, freq='M', closed='left')\n"
     ]
    },
    {
     "name": "stdout",
     "output_type": "stream",
     "text": [
      "Error processing data for location: Island of Puerto Rico. Error: 'weather'\n",
      "205\n",
      "Southern%20California\n",
      "\n",
      "\n",
      "Retrieving weather data for Southern%20California\n",
      "\n",
      "\n",
      "Currently retrieving data for Southern%20California: from 2005-07-22 to 2005-07-22\n"
     ]
    },
    {
     "name": "stderr",
     "output_type": "stream",
     "text": [
      "C:\\Users\\Heliiix\\anaconda3\\Lib\\site-packages\\wwo_hist\\__init__.py:69: FutureWarning: Argument `closed` is deprecated in favor of `inclusive`.\n",
      "  list_mon_begin = pd.date_range(start_date, end_date, freq='MS', closed='right')\n",
      "C:\\Users\\Heliiix\\anaconda3\\Lib\\site-packages\\wwo_hist\\__init__.py:74: FutureWarning: Argument `closed` is deprecated in favor of `inclusive`.\n",
      "  list_mon_end = pd.date_range(start_date, end_date, freq='M', closed='left')\n"
     ]
    },
    {
     "name": "stdout",
     "output_type": "stream",
     "text": [
      "Error processing data for location: Southern California. Error: 'weather'\n",
      "206\n",
      "Southern%20California\n",
      "\n",
      "\n",
      "Retrieving weather data for Southern%20California\n",
      "\n",
      "\n",
      "Currently retrieving data for Southern%20California: from 2005-07-21 to 2005-07-21\n"
     ]
    },
    {
     "name": "stderr",
     "output_type": "stream",
     "text": [
      "C:\\Users\\Heliiix\\anaconda3\\Lib\\site-packages\\wwo_hist\\__init__.py:69: FutureWarning: Argument `closed` is deprecated in favor of `inclusive`.\n",
      "  list_mon_begin = pd.date_range(start_date, end_date, freq='MS', closed='right')\n",
      "C:\\Users\\Heliiix\\anaconda3\\Lib\\site-packages\\wwo_hist\\__init__.py:74: FutureWarning: Argument `closed` is deprecated in favor of `inclusive`.\n",
      "  list_mon_end = pd.date_range(start_date, end_date, freq='M', closed='left')\n"
     ]
    },
    {
     "name": "stdout",
     "output_type": "stream",
     "text": [
      "Error processing data for location: Southern California. Error: 'weather'\n",
      "207\n",
      "Island%20of%20Puerto%20Rico\n",
      "\n",
      "\n",
      "Retrieving weather data for Island%20of%20Puerto%20Rico\n",
      "\n",
      "\n",
      "Currently retrieving data for Island%20of%20Puerto%20Rico: from 2005-07-02 to 2005-07-02\n"
     ]
    },
    {
     "name": "stderr",
     "output_type": "stream",
     "text": [
      "C:\\Users\\Heliiix\\anaconda3\\Lib\\site-packages\\wwo_hist\\__init__.py:69: FutureWarning: Argument `closed` is deprecated in favor of `inclusive`.\n",
      "  list_mon_begin = pd.date_range(start_date, end_date, freq='MS', closed='right')\n",
      "C:\\Users\\Heliiix\\anaconda3\\Lib\\site-packages\\wwo_hist\\__init__.py:74: FutureWarning: Argument `closed` is deprecated in favor of `inclusive`.\n",
      "  list_mon_end = pd.date_range(start_date, end_date, freq='M', closed='left')\n"
     ]
    },
    {
     "name": "stdout",
     "output_type": "stream",
     "text": [
      "Error processing data for location: Island of Puerto Rico. Error: 'weather'\n",
      "208\n",
      "Island%20of%20Puerto%20Rico\n",
      "\n",
      "\n",
      "Retrieving weather data for Island%20of%20Puerto%20Rico\n",
      "\n",
      "\n",
      "Currently retrieving data for Island%20of%20Puerto%20Rico: from 2005-06-20 to 2005-06-20\n"
     ]
    },
    {
     "name": "stderr",
     "output_type": "stream",
     "text": [
      "C:\\Users\\Heliiix\\anaconda3\\Lib\\site-packages\\wwo_hist\\__init__.py:69: FutureWarning: Argument `closed` is deprecated in favor of `inclusive`.\n",
      "  list_mon_begin = pd.date_range(start_date, end_date, freq='MS', closed='right')\n",
      "C:\\Users\\Heliiix\\anaconda3\\Lib\\site-packages\\wwo_hist\\__init__.py:74: FutureWarning: Argument `closed` is deprecated in favor of `inclusive`.\n",
      "  list_mon_end = pd.date_range(start_date, end_date, freq='M', closed='left')\n"
     ]
    },
    {
     "name": "stdout",
     "output_type": "stream",
     "text": [
      "Error processing data for location: Island of Puerto Rico. Error: 'weather'\n",
      "209\n",
      "Island%20of%20Puerto%20Rico\n",
      "\n",
      "\n",
      "Retrieving weather data for Island%20of%20Puerto%20Rico\n",
      "\n",
      "\n",
      "Currently retrieving data for Island%20of%20Puerto%20Rico: from 2005-05-11 to 2005-05-11\n"
     ]
    },
    {
     "name": "stderr",
     "output_type": "stream",
     "text": [
      "C:\\Users\\Heliiix\\anaconda3\\Lib\\site-packages\\wwo_hist\\__init__.py:69: FutureWarning: Argument `closed` is deprecated in favor of `inclusive`.\n",
      "  list_mon_begin = pd.date_range(start_date, end_date, freq='MS', closed='right')\n",
      "C:\\Users\\Heliiix\\anaconda3\\Lib\\site-packages\\wwo_hist\\__init__.py:74: FutureWarning: Argument `closed` is deprecated in favor of `inclusive`.\n",
      "  list_mon_end = pd.date_range(start_date, end_date, freq='M', closed='left')\n"
     ]
    },
    {
     "name": "stdout",
     "output_type": "stream",
     "text": [
      "Error processing data for location: Island of Puerto Rico. Error: 'weather'\n",
      "210\n",
      "Island%20of%20Puerto%20Rico\n",
      "\n",
      "\n",
      "Retrieving weather data for Island%20of%20Puerto%20Rico\n",
      "\n",
      "\n",
      "Currently retrieving data for Island%20of%20Puerto%20Rico: from 2005-04-23 to 2005-04-23\n"
     ]
    },
    {
     "name": "stderr",
     "output_type": "stream",
     "text": [
      "C:\\Users\\Heliiix\\anaconda3\\Lib\\site-packages\\wwo_hist\\__init__.py:69: FutureWarning: Argument `closed` is deprecated in favor of `inclusive`.\n",
      "  list_mon_begin = pd.date_range(start_date, end_date, freq='MS', closed='right')\n",
      "C:\\Users\\Heliiix\\anaconda3\\Lib\\site-packages\\wwo_hist\\__init__.py:74: FutureWarning: Argument `closed` is deprecated in favor of `inclusive`.\n",
      "  list_mon_end = pd.date_range(start_date, end_date, freq='M', closed='left')\n"
     ]
    },
    {
     "name": "stdout",
     "output_type": "stream",
     "text": [
      "Error processing data for location: Island of Puerto Rico. Error: 'weather'\n",
      "211\n",
      "Island%20of%20Puerto%20Rico\n",
      "\n",
      "\n",
      "Retrieving weather data for Island%20of%20Puerto%20Rico\n",
      "\n",
      "\n",
      "Currently retrieving data for Island%20of%20Puerto%20Rico: from 2005-02-24 to 2005-02-24\n"
     ]
    },
    {
     "name": "stderr",
     "output_type": "stream",
     "text": [
      "C:\\Users\\Heliiix\\anaconda3\\Lib\\site-packages\\wwo_hist\\__init__.py:69: FutureWarning: Argument `closed` is deprecated in favor of `inclusive`.\n",
      "  list_mon_begin = pd.date_range(start_date, end_date, freq='MS', closed='right')\n",
      "C:\\Users\\Heliiix\\anaconda3\\Lib\\site-packages\\wwo_hist\\__init__.py:74: FutureWarning: Argument `closed` is deprecated in favor of `inclusive`.\n",
      "  list_mon_end = pd.date_range(start_date, end_date, freq='M', closed='left')\n"
     ]
    },
    {
     "name": "stdout",
     "output_type": "stream",
     "text": [
      "Error processing data for location: Island of Puerto Rico. Error: 'weather'\n",
      "212\n",
      "Island%20of%20Puerto%20Rico\n",
      "\n",
      "\n",
      "Retrieving weather data for Island%20of%20Puerto%20Rico\n",
      "\n",
      "\n",
      "Currently retrieving data for Island%20of%20Puerto%20Rico: from 2005-02-18 to 2005-02-18\n"
     ]
    },
    {
     "name": "stderr",
     "output_type": "stream",
     "text": [
      "C:\\Users\\Heliiix\\anaconda3\\Lib\\site-packages\\wwo_hist\\__init__.py:69: FutureWarning: Argument `closed` is deprecated in favor of `inclusive`.\n",
      "  list_mon_begin = pd.date_range(start_date, end_date, freq='MS', closed='right')\n",
      "C:\\Users\\Heliiix\\anaconda3\\Lib\\site-packages\\wwo_hist\\__init__.py:74: FutureWarning: Argument `closed` is deprecated in favor of `inclusive`.\n",
      "  list_mon_end = pd.date_range(start_date, end_date, freq='M', closed='left')\n"
     ]
    },
    {
     "name": "stdout",
     "output_type": "stream",
     "text": [
      "Error processing data for location: Island of Puerto Rico. Error: 'weather'\n",
      "213\n",
      "Island%20of%20Puerto%20Rico\n",
      "\n",
      "\n",
      "Retrieving weather data for Island%20of%20Puerto%20Rico\n",
      "\n",
      "\n",
      "Currently retrieving data for Island%20of%20Puerto%20Rico: from 2005-02-16 to 2005-02-16\n"
     ]
    },
    {
     "name": "stderr",
     "output_type": "stream",
     "text": [
      "C:\\Users\\Heliiix\\anaconda3\\Lib\\site-packages\\wwo_hist\\__init__.py:69: FutureWarning: Argument `closed` is deprecated in favor of `inclusive`.\n",
      "  list_mon_begin = pd.date_range(start_date, end_date, freq='MS', closed='right')\n",
      "C:\\Users\\Heliiix\\anaconda3\\Lib\\site-packages\\wwo_hist\\__init__.py:74: FutureWarning: Argument `closed` is deprecated in favor of `inclusive`.\n",
      "  list_mon_end = pd.date_range(start_date, end_date, freq='M', closed='left')\n"
     ]
    },
    {
     "name": "stdout",
     "output_type": "stream",
     "text": [
      "Error processing data for location: Island of Puerto Rico. Error: 'weather'\n",
      "214\n",
      "Island%20of%20Puerto%20Rico\n",
      "\n",
      "\n",
      "Retrieving weather data for Island%20of%20Puerto%20Rico\n",
      "\n",
      "\n",
      "Currently retrieving data for Island%20of%20Puerto%20Rico: from 2005-02-15 to 2005-02-15\n"
     ]
    },
    {
     "name": "stderr",
     "output_type": "stream",
     "text": [
      "C:\\Users\\Heliiix\\anaconda3\\Lib\\site-packages\\wwo_hist\\__init__.py:69: FutureWarning: Argument `closed` is deprecated in favor of `inclusive`.\n",
      "  list_mon_begin = pd.date_range(start_date, end_date, freq='MS', closed='right')\n",
      "C:\\Users\\Heliiix\\anaconda3\\Lib\\site-packages\\wwo_hist\\__init__.py:74: FutureWarning: Argument `closed` is deprecated in favor of `inclusive`.\n",
      "  list_mon_end = pd.date_range(start_date, end_date, freq='M', closed='left')\n"
     ]
    },
    {
     "name": "stdout",
     "output_type": "stream",
     "text": [
      "Error processing data for location: Island of Puerto Rico. Error: 'weather'\n",
      "215\n",
      "Georgia\n",
      "\n",
      "\n",
      "Retrieving weather data for Georgia\n",
      "\n",
      "\n",
      "Currently retrieving data for Georgia: from 2005-01-29 to 2005-01-30\n",
      "Error processing data for location: Georgia. Error: 'weather'\n",
      "216\n",
      "Island%20of%20Puerto%20Rico\n",
      "\n",
      "\n",
      "Retrieving weather data for Island%20of%20Puerto%20Rico\n",
      "\n",
      "\n",
      "Currently retrieving data for Island%20of%20Puerto%20Rico: from 2005-01-24 to 2005-01-24\n"
     ]
    },
    {
     "name": "stderr",
     "output_type": "stream",
     "text": [
      "C:\\Users\\Heliiix\\anaconda3\\Lib\\site-packages\\wwo_hist\\__init__.py:69: FutureWarning: Argument `closed` is deprecated in favor of `inclusive`.\n",
      "  list_mon_begin = pd.date_range(start_date, end_date, freq='MS', closed='right')\n",
      "C:\\Users\\Heliiix\\anaconda3\\Lib\\site-packages\\wwo_hist\\__init__.py:74: FutureWarning: Argument `closed` is deprecated in favor of `inclusive`.\n",
      "  list_mon_end = pd.date_range(start_date, end_date, freq='M', closed='left')\n",
      "C:\\Users\\Heliiix\\anaconda3\\Lib\\site-packages\\wwo_hist\\__init__.py:69: FutureWarning: Argument `closed` is deprecated in favor of `inclusive`.\n",
      "  list_mon_begin = pd.date_range(start_date, end_date, freq='MS', closed='right')\n",
      "C:\\Users\\Heliiix\\anaconda3\\Lib\\site-packages\\wwo_hist\\__init__.py:74: FutureWarning: Argument `closed` is deprecated in favor of `inclusive`.\n",
      "  list_mon_end = pd.date_range(start_date, end_date, freq='M', closed='left')\n"
     ]
    },
    {
     "name": "stdout",
     "output_type": "stream",
     "text": [
      "Error processing data for location: Island of Puerto Rico. Error: 'weather'\n",
      "217\n",
      "Island%20of%20Puerto%20Rico\n",
      "\n",
      "\n",
      "Retrieving weather data for Island%20of%20Puerto%20Rico\n",
      "\n",
      "\n",
      "Currently retrieving data for Island%20of%20Puerto%20Rico: from 2005-01-24 to 2005-01-24\n"
     ]
    },
    {
     "name": "stderr",
     "output_type": "stream",
     "text": [
      "C:\\Users\\Heliiix\\anaconda3\\Lib\\site-packages\\wwo_hist\\__init__.py:69: FutureWarning: Argument `closed` is deprecated in favor of `inclusive`.\n",
      "  list_mon_begin = pd.date_range(start_date, end_date, freq='MS', closed='right')\n",
      "C:\\Users\\Heliiix\\anaconda3\\Lib\\site-packages\\wwo_hist\\__init__.py:74: FutureWarning: Argument `closed` is deprecated in favor of `inclusive`.\n",
      "  list_mon_end = pd.date_range(start_date, end_date, freq='M', closed='left')\n"
     ]
    },
    {
     "name": "stdout",
     "output_type": "stream",
     "text": [
      "Error processing data for location: Island of Puerto Rico. Error: 'weather'\n",
      "218\n",
      "Island%20of%20Puerto%20Rico\n",
      "\n",
      "\n",
      "Retrieving weather data for Island%20of%20Puerto%20Rico\n",
      "\n",
      "\n",
      "Currently retrieving data for Island%20of%20Puerto%20Rico: from 2005-01-23 to 2005-01-23\n"
     ]
    },
    {
     "name": "stderr",
     "output_type": "stream",
     "text": [
      "C:\\Users\\Heliiix\\anaconda3\\Lib\\site-packages\\wwo_hist\\__init__.py:69: FutureWarning: Argument `closed` is deprecated in favor of `inclusive`.\n",
      "  list_mon_begin = pd.date_range(start_date, end_date, freq='MS', closed='right')\n",
      "C:\\Users\\Heliiix\\anaconda3\\Lib\\site-packages\\wwo_hist\\__init__.py:74: FutureWarning: Argument `closed` is deprecated in favor of `inclusive`.\n",
      "  list_mon_end = pd.date_range(start_date, end_date, freq='M', closed='left')\n"
     ]
    },
    {
     "name": "stdout",
     "output_type": "stream",
     "text": [
      "Error processing data for location: Island of Puerto Rico. Error: 'weather'\n",
      "219\n",
      "Island%20of%20Puerto%20Rico\n",
      "\n",
      "\n",
      "Retrieving weather data for Island%20of%20Puerto%20Rico\n",
      "\n",
      "\n",
      "Currently retrieving data for Island%20of%20Puerto%20Rico: from 2005-01-19 to 2005-01-19\n"
     ]
    },
    {
     "name": "stderr",
     "output_type": "stream",
     "text": [
      "C:\\Users\\Heliiix\\anaconda3\\Lib\\site-packages\\wwo_hist\\__init__.py:69: FutureWarning: Argument `closed` is deprecated in favor of `inclusive`.\n",
      "  list_mon_begin = pd.date_range(start_date, end_date, freq='MS', closed='right')\n",
      "C:\\Users\\Heliiix\\anaconda3\\Lib\\site-packages\\wwo_hist\\__init__.py:74: FutureWarning: Argument `closed` is deprecated in favor of `inclusive`.\n",
      "  list_mon_end = pd.date_range(start_date, end_date, freq='M', closed='left')\n"
     ]
    },
    {
     "name": "stdout",
     "output_type": "stream",
     "text": [
      "Error processing data for location: Island of Puerto Rico. Error: 'weather'\n",
      "220\n",
      "Northern%20California\n",
      "\n",
      "\n",
      "Retrieving weather data for Northern%20California\n",
      "\n",
      "\n",
      "Currently retrieving data for Northern%20California: from 2005-01-07 to 2005-01-10\n"
     ]
    },
    {
     "name": "stderr",
     "output_type": "stream",
     "text": [
      "C:\\Users\\Heliiix\\anaconda3\\Lib\\site-packages\\wwo_hist\\__init__.py:69: FutureWarning: Argument `closed` is deprecated in favor of `inclusive`.\n",
      "  list_mon_begin = pd.date_range(start_date, end_date, freq='MS', closed='right')\n",
      "C:\\Users\\Heliiix\\anaconda3\\Lib\\site-packages\\wwo_hist\\__init__.py:74: FutureWarning: Argument `closed` is deprecated in favor of `inclusive`.\n",
      "  list_mon_end = pd.date_range(start_date, end_date, freq='M', closed='left')\n"
     ]
    },
    {
     "name": "stdout",
     "output_type": "stream",
     "text": [
      "Error processing data for location: Northern California. Error: 'weather'\n",
      "221\n",
      "Georgia\n",
      "\n",
      "\n",
      "Retrieving weather data for Georgia\n",
      "\n",
      "\n",
      "Currently retrieving data for Georgia: from 2004-11-24 to 2004-11-24\n"
     ]
    },
    {
     "name": "stderr",
     "output_type": "stream",
     "text": [
      "C:\\Users\\Heliiix\\anaconda3\\Lib\\site-packages\\wwo_hist\\__init__.py:69: FutureWarning: Argument `closed` is deprecated in favor of `inclusive`.\n",
      "  list_mon_begin = pd.date_range(start_date, end_date, freq='MS', closed='right')\n",
      "C:\\Users\\Heliiix\\anaconda3\\Lib\\site-packages\\wwo_hist\\__init__.py:74: FutureWarning: Argument `closed` is deprecated in favor of `inclusive`.\n",
      "  list_mon_end = pd.date_range(start_date, end_date, freq='M', closed='left')\n"
     ]
    },
    {
     "name": "stdout",
     "output_type": "stream",
     "text": [
      "Error processing data for location: Georgia. Error: 'weather'\n",
      "222\n",
      "Southeastern%20Michigan\n",
      "\n",
      "\n",
      "Retrieving weather data for Southeastern%20Michigan\n",
      "\n",
      "\n",
      "Currently retrieving data for Southeastern%20Michigan: from 2004-10-30 to 2004-10-31\n"
     ]
    },
    {
     "name": "stderr",
     "output_type": "stream",
     "text": [
      "C:\\Users\\Heliiix\\anaconda3\\Lib\\site-packages\\wwo_hist\\__init__.py:69: FutureWarning: Argument `closed` is deprecated in favor of `inclusive`.\n",
      "  list_mon_begin = pd.date_range(start_date, end_date, freq='MS', closed='right')\n",
      "C:\\Users\\Heliiix\\anaconda3\\Lib\\site-packages\\wwo_hist\\__init__.py:74: FutureWarning: Argument `closed` is deprecated in favor of `inclusive`.\n",
      "  list_mon_end = pd.date_range(start_date, end_date, freq='M', closed='left')\n"
     ]
    },
    {
     "name": "stdout",
     "output_type": "stream",
     "text": [
      "Error processing data for location: Southeastern Michigan. Error: 'weather'\n",
      "223\n",
      "Northern%20California\n",
      "\n",
      "\n",
      "Retrieving weather data for Northern%20California\n",
      "\n",
      "\n",
      "Currently retrieving data for Northern%20California: from 2004-10-18 to 2004-10-20\n"
     ]
    },
    {
     "name": "stderr",
     "output_type": "stream",
     "text": [
      "C:\\Users\\Heliiix\\anaconda3\\Lib\\site-packages\\wwo_hist\\__init__.py:69: FutureWarning: Argument `closed` is deprecated in favor of `inclusive`.\n",
      "  list_mon_begin = pd.date_range(start_date, end_date, freq='MS', closed='right')\n",
      "C:\\Users\\Heliiix\\anaconda3\\Lib\\site-packages\\wwo_hist\\__init__.py:74: FutureWarning: Argument `closed` is deprecated in favor of `inclusive`.\n",
      "  list_mon_end = pd.date_range(start_date, end_date, freq='M', closed='left')\n"
     ]
    },
    {
     "name": "stdout",
     "output_type": "stream",
     "text": [
      "Error processing data for location: Northern California. Error: 'weather'\n",
      "224\n",
      "Georgia\n",
      "\n",
      "\n",
      "Retrieving weather data for Georgia\n",
      "\n",
      "\n",
      "Currently retrieving data for Georgia: from 2004-09-27 to 2004-09-27\n"
     ]
    },
    {
     "name": "stderr",
     "output_type": "stream",
     "text": [
      "C:\\Users\\Heliiix\\anaconda3\\Lib\\site-packages\\wwo_hist\\__init__.py:69: FutureWarning: Argument `closed` is deprecated in favor of `inclusive`.\n",
      "  list_mon_begin = pd.date_range(start_date, end_date, freq='MS', closed='right')\n",
      "C:\\Users\\Heliiix\\anaconda3\\Lib\\site-packages\\wwo_hist\\__init__.py:74: FutureWarning: Argument `closed` is deprecated in favor of `inclusive`.\n",
      "  list_mon_end = pd.date_range(start_date, end_date, freq='M', closed='left')\n"
     ]
    },
    {
     "name": "stdout",
     "output_type": "stream",
     "text": [
      "Error processing data for location: Georgia. Error: 'weather'\n",
      "225\n",
      "Georgia\n",
      "\n",
      "\n",
      "Retrieving weather data for Georgia\n",
      "\n",
      "\n",
      "Currently retrieving data for Georgia: from 2004-09-07 to 2004-09-08\n"
     ]
    },
    {
     "name": "stderr",
     "output_type": "stream",
     "text": [
      "C:\\Users\\Heliiix\\anaconda3\\Lib\\site-packages\\wwo_hist\\__init__.py:69: FutureWarning: Argument `closed` is deprecated in favor of `inclusive`.\n",
      "  list_mon_begin = pd.date_range(start_date, end_date, freq='MS', closed='right')\n",
      "C:\\Users\\Heliiix\\anaconda3\\Lib\\site-packages\\wwo_hist\\__init__.py:74: FutureWarning: Argument `closed` is deprecated in favor of `inclusive`.\n",
      "  list_mon_end = pd.date_range(start_date, end_date, freq='M', closed='left')\n"
     ]
    },
    {
     "name": "stdout",
     "output_type": "stream",
     "text": [
      "Error processing data for location: Georgia. Error: 'weather'\n",
      "226\n",
      "Northern%20Illinois\n",
      "\n",
      "\n",
      "Retrieving weather data for Northern%20Illinois\n",
      "\n",
      "\n",
      "Currently retrieving data for Northern%20Illinois: from 2004-08-03 to 2004-08-04\n"
     ]
    },
    {
     "name": "stderr",
     "output_type": "stream",
     "text": [
      "C:\\Users\\Heliiix\\anaconda3\\Lib\\site-packages\\wwo_hist\\__init__.py:69: FutureWarning: Argument `closed` is deprecated in favor of `inclusive`.\n",
      "  list_mon_begin = pd.date_range(start_date, end_date, freq='MS', closed='right')\n",
      "C:\\Users\\Heliiix\\anaconda3\\Lib\\site-packages\\wwo_hist\\__init__.py:74: FutureWarning: Argument `closed` is deprecated in favor of `inclusive`.\n",
      "  list_mon_end = pd.date_range(start_date, end_date, freq='M', closed='left')\n"
     ]
    },
    {
     "name": "stdout",
     "output_type": "stream",
     "text": [
      "Error processing data for location: Northern Illinois. Error: 'weather'\n",
      "227\n",
      "Georgia\n",
      "\n",
      "\n",
      "Retrieving weather data for Georgia\n",
      "\n",
      "\n",
      "Currently retrieving data for Georgia: from 2004-02-26 to 2004-02-26\n"
     ]
    },
    {
     "name": "stderr",
     "output_type": "stream",
     "text": [
      "C:\\Users\\Heliiix\\anaconda3\\Lib\\site-packages\\wwo_hist\\__init__.py:69: FutureWarning: Argument `closed` is deprecated in favor of `inclusive`.\n",
      "  list_mon_begin = pd.date_range(start_date, end_date, freq='MS', closed='right')\n",
      "C:\\Users\\Heliiix\\anaconda3\\Lib\\site-packages\\wwo_hist\\__init__.py:74: FutureWarning: Argument `closed` is deprecated in favor of `inclusive`.\n",
      "  list_mon_end = pd.date_range(start_date, end_date, freq='M', closed='left')\n"
     ]
    },
    {
     "name": "stdout",
     "output_type": "stream",
     "text": [
      "Error processing data for location: Georgia. Error: 'weather'\n",
      "228\n",
      "Northern%20California\n",
      "\n",
      "\n",
      "Retrieving weather data for Northern%20California\n",
      "\n",
      "\n",
      "Currently retrieving data for Northern%20California: from 2004-02-25 to 2004-02-26\n"
     ]
    },
    {
     "name": "stderr",
     "output_type": "stream",
     "text": [
      "C:\\Users\\Heliiix\\anaconda3\\Lib\\site-packages\\wwo_hist\\__init__.py:69: FutureWarning: Argument `closed` is deprecated in favor of `inclusive`.\n",
      "  list_mon_begin = pd.date_range(start_date, end_date, freq='MS', closed='right')\n",
      "C:\\Users\\Heliiix\\anaconda3\\Lib\\site-packages\\wwo_hist\\__init__.py:74: FutureWarning: Argument `closed` is deprecated in favor of `inclusive`.\n",
      "  list_mon_end = pd.date_range(start_date, end_date, freq='M', closed='left')\n"
     ]
    },
    {
     "name": "stdout",
     "output_type": "stream",
     "text": [
      "Error processing data for location: Northern California. Error: 'weather'\n",
      "229\n",
      "Northern%20California\n",
      "\n",
      "\n",
      "Retrieving weather data for Northern%20California\n",
      "\n",
      "\n",
      "Currently retrieving data for Northern%20California: from 2004-01-01 to 2004-01-02\n"
     ]
    },
    {
     "name": "stderr",
     "output_type": "stream",
     "text": [
      "C:\\Users\\Heliiix\\anaconda3\\Lib\\site-packages\\wwo_hist\\__init__.py:69: FutureWarning: Argument `closed` is deprecated in favor of `inclusive`.\n",
      "  list_mon_begin = pd.date_range(start_date, end_date, freq='MS', closed='right')\n",
      "C:\\Users\\Heliiix\\anaconda3\\Lib\\site-packages\\wwo_hist\\__init__.py:74: FutureWarning: Argument `closed` is deprecated in favor of `inclusive`.\n",
      "  list_mon_end = pd.date_range(start_date, end_date, freq='M', closed='left')\n"
     ]
    },
    {
     "name": "stdout",
     "output_type": "stream",
     "text": [
      "Error processing data for location: Northern California. Error: 'weather'\n",
      "230\n",
      "Northern%20California\n",
      "\n",
      "\n",
      "Retrieving weather data for Northern%20California\n",
      "\n",
      "\n",
      "Currently retrieving data for Northern%20California: from 2003-12-28 to 2003-12-31\n"
     ]
    },
    {
     "name": "stderr",
     "output_type": "stream",
     "text": [
      "C:\\Users\\Heliiix\\anaconda3\\Lib\\site-packages\\wwo_hist\\__init__.py:69: FutureWarning: Argument `closed` is deprecated in favor of `inclusive`.\n",
      "  list_mon_begin = pd.date_range(start_date, end_date, freq='MS', closed='right')\n",
      "C:\\Users\\Heliiix\\anaconda3\\Lib\\site-packages\\wwo_hist\\__init__.py:74: FutureWarning: Argument `closed` is deprecated in favor of `inclusive`.\n",
      "  list_mon_end = pd.date_range(start_date, end_date, freq='M', closed='left')\n"
     ]
    },
    {
     "name": "stdout",
     "output_type": "stream",
     "text": [
      "Error processing data for location: Northern California. Error: 'weather'\n",
      "231\n",
      "New%20York\n",
      "\n",
      "\n",
      "Retrieving weather data for New%20York\n",
      "\n",
      "\n",
      "Currently retrieving data for New%20York: from 2003-11-13 to 2003-11-14\n"
     ]
    },
    {
     "name": "stderr",
     "output_type": "stream",
     "text": [
      "C:\\Users\\Heliiix\\anaconda3\\Lib\\site-packages\\wwo_hist\\__init__.py:69: FutureWarning: Argument `closed` is deprecated in favor of `inclusive`.\n",
      "  list_mon_begin = pd.date_range(start_date, end_date, freq='MS', closed='right')\n",
      "C:\\Users\\Heliiix\\anaconda3\\Lib\\site-packages\\wwo_hist\\__init__.py:74: FutureWarning: Argument `closed` is deprecated in favor of `inclusive`.\n",
      "  list_mon_end = pd.date_range(start_date, end_date, freq='M', closed='left')\n"
     ]
    },
    {
     "name": "stdout",
     "output_type": "stream",
     "text": [
      "Error processing data for location: New York. Error: 'weather'\n",
      "232\n",
      "Northern%20Illinois\n",
      "\n",
      "\n",
      "Retrieving weather data for Northern%20Illinois\n",
      "\n",
      "\n",
      "Currently retrieving data for Northern%20Illinois: from 2003-11-12 to 2003-11-12\n"
     ]
    },
    {
     "name": "stderr",
     "output_type": "stream",
     "text": [
      "C:\\Users\\Heliiix\\anaconda3\\Lib\\site-packages\\wwo_hist\\__init__.py:69: FutureWarning: Argument `closed` is deprecated in favor of `inclusive`.\n",
      "  list_mon_begin = pd.date_range(start_date, end_date, freq='MS', closed='right')\n",
      "C:\\Users\\Heliiix\\anaconda3\\Lib\\site-packages\\wwo_hist\\__init__.py:74: FutureWarning: Argument `closed` is deprecated in favor of `inclusive`.\n",
      "  list_mon_end = pd.date_range(start_date, end_date, freq='M', closed='left')\n"
     ]
    },
    {
     "name": "stdout",
     "output_type": "stream",
     "text": [
      "Error processing data for location: Northern Illinois. Error: 'weather'\n",
      "233\n",
      "Southeastern%20Michigan\n",
      "\n",
      "\n",
      "Retrieving weather data for Southeastern%20Michigan\n",
      "\n",
      "\n",
      "Currently retrieving data for Southeastern%20Michigan: from 2003-11-12 to 2003-11-16\n"
     ]
    },
    {
     "name": "stderr",
     "output_type": "stream",
     "text": [
      "C:\\Users\\Heliiix\\anaconda3\\Lib\\site-packages\\wwo_hist\\__init__.py:69: FutureWarning: Argument `closed` is deprecated in favor of `inclusive`.\n",
      "  list_mon_begin = pd.date_range(start_date, end_date, freq='MS', closed='right')\n",
      "C:\\Users\\Heliiix\\anaconda3\\Lib\\site-packages\\wwo_hist\\__init__.py:74: FutureWarning: Argument `closed` is deprecated in favor of `inclusive`.\n",
      "  list_mon_end = pd.date_range(start_date, end_date, freq='M', closed='left')\n"
     ]
    },
    {
     "name": "stdout",
     "output_type": "stream",
     "text": [
      "Error processing data for location: Southeastern Michigan. Error: 'weather'\n",
      "234\n",
      "Pennsylvania\n",
      "\n",
      "\n",
      "Retrieving weather data for Pennsylvania\n",
      "\n",
      "\n",
      "Currently retrieving data for Pennsylvania: from 2003-07-21 to 2003-07-24\n"
     ]
    },
    {
     "name": "stderr",
     "output_type": "stream",
     "text": [
      "C:\\Users\\Heliiix\\anaconda3\\Lib\\site-packages\\wwo_hist\\__init__.py:69: FutureWarning: Argument `closed` is deprecated in favor of `inclusive`.\n",
      "  list_mon_begin = pd.date_range(start_date, end_date, freq='MS', closed='right')\n",
      "C:\\Users\\Heliiix\\anaconda3\\Lib\\site-packages\\wwo_hist\\__init__.py:74: FutureWarning: Argument `closed` is deprecated in favor of `inclusive`.\n",
      "  list_mon_end = pd.date_range(start_date, end_date, freq='M', closed='left')\n"
     ]
    },
    {
     "name": "stdout",
     "output_type": "stream",
     "text": [
      "Error processing data for location: Pennsylvania. Error: 'weather'\n",
      "235\n",
      "Texas\n",
      "\n",
      "\n",
      "Retrieving weather data for Texas\n",
      "\n",
      "\n",
      "Currently retrieving data for Texas: from 2003-07-15 to 2003-07-21\n"
     ]
    },
    {
     "name": "stderr",
     "output_type": "stream",
     "text": [
      "C:\\Users\\Heliiix\\anaconda3\\Lib\\site-packages\\wwo_hist\\__init__.py:69: FutureWarning: Argument `closed` is deprecated in favor of `inclusive`.\n",
      "  list_mon_begin = pd.date_range(start_date, end_date, freq='MS', closed='right')\n",
      "C:\\Users\\Heliiix\\anaconda3\\Lib\\site-packages\\wwo_hist\\__init__.py:74: FutureWarning: Argument `closed` is deprecated in favor of `inclusive`.\n",
      "  list_mon_end = pd.date_range(start_date, end_date, freq='M', closed='left')\n"
     ]
    },
    {
     "name": "stdout",
     "output_type": "stream",
     "text": [
      "Error processing data for location: Texas. Error: 'weather'\n",
      "236\n",
      "Ohio\n",
      "\n",
      "\n",
      "Retrieving weather data for Ohio\n",
      "\n",
      "\n",
      "Currently retrieving data for Ohio: from 2003-07-08 to 2003-07-11\n"
     ]
    },
    {
     "name": "stderr",
     "output_type": "stream",
     "text": [
      "C:\\Users\\Heliiix\\anaconda3\\Lib\\site-packages\\wwo_hist\\__init__.py:69: FutureWarning: Argument `closed` is deprecated in favor of `inclusive`.\n",
      "  list_mon_begin = pd.date_range(start_date, end_date, freq='MS', closed='right')\n",
      "C:\\Users\\Heliiix\\anaconda3\\Lib\\site-packages\\wwo_hist\\__init__.py:74: FutureWarning: Argument `closed` is deprecated in favor of `inclusive`.\n",
      "  list_mon_end = pd.date_range(start_date, end_date, freq='M', closed='left')\n"
     ]
    },
    {
     "name": "stdout",
     "output_type": "stream",
     "text": [
      "Error processing data for location: Ohio. Error: 'weather'\n",
      "237\n",
      "Northern%20Illinois\n",
      "\n",
      "\n",
      "Retrieving weather data for Northern%20Illinois\n",
      "\n",
      "\n",
      "Currently retrieving data for Northern%20Illinois: from 2003-07-07 to 2003-07-07\n"
     ]
    },
    {
     "name": "stderr",
     "output_type": "stream",
     "text": [
      "C:\\Users\\Heliiix\\anaconda3\\Lib\\site-packages\\wwo_hist\\__init__.py:69: FutureWarning: Argument `closed` is deprecated in favor of `inclusive`.\n",
      "  list_mon_begin = pd.date_range(start_date, end_date, freq='MS', closed='right')\n",
      "C:\\Users\\Heliiix\\anaconda3\\Lib\\site-packages\\wwo_hist\\__init__.py:74: FutureWarning: Argument `closed` is deprecated in favor of `inclusive`.\n",
      "  list_mon_end = pd.date_range(start_date, end_date, freq='M', closed='left')\n"
     ]
    },
    {
     "name": "stdout",
     "output_type": "stream",
     "text": [
      "Error processing data for location: Northern Illinois. Error: 'weather'\n",
      "238\n",
      "Northern%20Illinois\n",
      "\n",
      "\n",
      "Retrieving weather data for Northern%20Illinois\n",
      "\n",
      "\n",
      "Currently retrieving data for Northern%20Illinois: from 2003-07-05 to 2003-07-05\n"
     ]
    },
    {
     "name": "stderr",
     "output_type": "stream",
     "text": [
      "C:\\Users\\Heliiix\\anaconda3\\Lib\\site-packages\\wwo_hist\\__init__.py:69: FutureWarning: Argument `closed` is deprecated in favor of `inclusive`.\n",
      "  list_mon_begin = pd.date_range(start_date, end_date, freq='MS', closed='right')\n",
      "C:\\Users\\Heliiix\\anaconda3\\Lib\\site-packages\\wwo_hist\\__init__.py:74: FutureWarning: Argument `closed` is deprecated in favor of `inclusive`.\n",
      "  list_mon_end = pd.date_range(start_date, end_date, freq='M', closed='left')\n"
     ]
    },
    {
     "name": "stdout",
     "output_type": "stream",
     "text": [
      "Error processing data for location: Northern Illinois. Error: 'weather'\n",
      "239\n",
      "Northern%20California\n",
      "\n",
      "\n",
      "Retrieving weather data for Northern%20California\n",
      "\n",
      "\n",
      "Currently retrieving data for Northern%20California: from 2003-07-02 to 2003-07-02\n"
     ]
    },
    {
     "name": "stderr",
     "output_type": "stream",
     "text": [
      "C:\\Users\\Heliiix\\anaconda3\\Lib\\site-packages\\wwo_hist\\__init__.py:69: FutureWarning: Argument `closed` is deprecated in favor of `inclusive`.\n",
      "  list_mon_begin = pd.date_range(start_date, end_date, freq='MS', closed='right')\n",
      "C:\\Users\\Heliiix\\anaconda3\\Lib\\site-packages\\wwo_hist\\__init__.py:74: FutureWarning: Argument `closed` is deprecated in favor of `inclusive`.\n",
      "  list_mon_end = pd.date_range(start_date, end_date, freq='M', closed='left')\n"
     ]
    },
    {
     "name": "stdout",
     "output_type": "stream",
     "text": [
      "Error processing data for location: Northern California. Error: 'weather'\n",
      "240\n",
      "Northern%20and%20Central%20California\n",
      "\n",
      "\n",
      "Retrieving weather data for Northern%20and%20Central%20California\n",
      "\n",
      "\n",
      "Currently retrieving data for Northern%20and%20Central%20California: from 2002-12-19 to 2002-12-21\n"
     ]
    },
    {
     "name": "stderr",
     "output_type": "stream",
     "text": [
      "C:\\Users\\Heliiix\\anaconda3\\Lib\\site-packages\\wwo_hist\\__init__.py:69: FutureWarning: Argument `closed` is deprecated in favor of `inclusive`.\n",
      "  list_mon_begin = pd.date_range(start_date, end_date, freq='MS', closed='right')\n",
      "C:\\Users\\Heliiix\\anaconda3\\Lib\\site-packages\\wwo_hist\\__init__.py:74: FutureWarning: Argument `closed` is deprecated in favor of `inclusive`.\n",
      "  list_mon_end = pd.date_range(start_date, end_date, freq='M', closed='left')\n"
     ]
    },
    {
     "name": "stdout",
     "output_type": "stream",
     "text": [
      "Error processing data for location: Northern and Central California. Error: 'weather'\n",
      "241\n",
      "Northern%20and%20Central%20California\n",
      "\n",
      "\n",
      "Retrieving weather data for Northern%20and%20Central%20California\n",
      "\n",
      "\n",
      "Currently retrieving data for Northern%20and%20Central%20California: from 2002-12-14 to 2002-12-19\n"
     ]
    },
    {
     "name": "stderr",
     "output_type": "stream",
     "text": [
      "C:\\Users\\Heliiix\\anaconda3\\Lib\\site-packages\\wwo_hist\\__init__.py:69: FutureWarning: Argument `closed` is deprecated in favor of `inclusive`.\n",
      "  list_mon_begin = pd.date_range(start_date, end_date, freq='MS', closed='right')\n",
      "C:\\Users\\Heliiix\\anaconda3\\Lib\\site-packages\\wwo_hist\\__init__.py:74: FutureWarning: Argument `closed` is deprecated in favor of `inclusive`.\n",
      "  list_mon_end = pd.date_range(start_date, end_date, freq='M', closed='left')\n"
     ]
    },
    {
     "name": "stdout",
     "output_type": "stream",
     "text": [
      "Error processing data for location: Northern and Central California. Error: 'weather'\n",
      "242\n",
      "Northern%20and%20Central%20California\n",
      "\n",
      "\n",
      "Retrieving weather data for Northern%20and%20Central%20California\n",
      "\n",
      "\n",
      "Currently retrieving data for Northern%20and%20Central%20California: from 2002-11-06 to 2002-11-10\n"
     ]
    },
    {
     "name": "stderr",
     "output_type": "stream",
     "text": [
      "C:\\Users\\Heliiix\\anaconda3\\Lib\\site-packages\\wwo_hist\\__init__.py:69: FutureWarning: Argument `closed` is deprecated in favor of `inclusive`.\n",
      "  list_mon_begin = pd.date_range(start_date, end_date, freq='MS', closed='right')\n",
      "C:\\Users\\Heliiix\\anaconda3\\Lib\\site-packages\\wwo_hist\\__init__.py:74: FutureWarning: Argument `closed` is deprecated in favor of `inclusive`.\n",
      "  list_mon_end = pd.date_range(start_date, end_date, freq='M', closed='left')\n"
     ]
    },
    {
     "name": "stdout",
     "output_type": "stream",
     "text": [
      "Error processing data for location: Northern and Central California. Error: 'weather'\n",
      "243\n",
      "California\n",
      "\n",
      "\n",
      "Retrieving weather data for California\n",
      "\n",
      "\n",
      "Currently retrieving data for California: from 2002-08-25 to 2002-08-25\n"
     ]
    },
    {
     "name": "stderr",
     "output_type": "stream",
     "text": [
      "C:\\Users\\Heliiix\\anaconda3\\Lib\\site-packages\\wwo_hist\\__init__.py:69: FutureWarning: Argument `closed` is deprecated in favor of `inclusive`.\n",
      "  list_mon_begin = pd.date_range(start_date, end_date, freq='MS', closed='right')\n",
      "C:\\Users\\Heliiix\\anaconda3\\Lib\\site-packages\\wwo_hist\\__init__.py:74: FutureWarning: Argument `closed` is deprecated in favor of `inclusive`.\n",
      "  list_mon_end = pd.date_range(start_date, end_date, freq='M', closed='left')\n"
     ]
    },
    {
     "name": "stdout",
     "output_type": "stream",
     "text": [
      "Error processing data for location: California. Error: 'weather'\n",
      "244\n",
      "Illinois\n",
      "\n",
      "\n",
      "Retrieving weather data for Illinois\n",
      "\n",
      "\n",
      "Currently retrieving data for Illinois: from 2002-08-02 to 2002-08-02\n"
     ]
    },
    {
     "name": "stderr",
     "output_type": "stream",
     "text": [
      "C:\\Users\\Heliiix\\anaconda3\\Lib\\site-packages\\wwo_hist\\__init__.py:69: FutureWarning: Argument `closed` is deprecated in favor of `inclusive`.\n",
      "  list_mon_begin = pd.date_range(start_date, end_date, freq='MS', closed='right')\n",
      "C:\\Users\\Heliiix\\anaconda3\\Lib\\site-packages\\wwo_hist\\__init__.py:74: FutureWarning: Argument `closed` is deprecated in favor of `inclusive`.\n",
      "  list_mon_end = pd.date_range(start_date, end_date, freq='M', closed='left')\n"
     ]
    },
    {
     "name": "stdout",
     "output_type": "stream",
     "text": [
      "Error processing data for location: Illinois. Error: 'weather'\n",
      "245\n",
      "New%20York\n",
      "\n",
      "\n",
      "Retrieving weather data for New%20York\n",
      "\n",
      "\n",
      "Currently retrieving data for New%20York: from 2002-07-20 to 2002-07-20\n"
     ]
    },
    {
     "name": "stderr",
     "output_type": "stream",
     "text": [
      "C:\\Users\\Heliiix\\anaconda3\\Lib\\site-packages\\wwo_hist\\__init__.py:69: FutureWarning: Argument `closed` is deprecated in favor of `inclusive`.\n",
      "  list_mon_begin = pd.date_range(start_date, end_date, freq='MS', closed='right')\n",
      "C:\\Users\\Heliiix\\anaconda3\\Lib\\site-packages\\wwo_hist\\__init__.py:74: FutureWarning: Argument `closed` is deprecated in favor of `inclusive`.\n",
      "  list_mon_end = pd.date_range(start_date, end_date, freq='M', closed='left')\n"
     ]
    },
    {
     "name": "stdout",
     "output_type": "stream",
     "text": [
      "Error processing data for location: New York. Error: 'weather'\n",
      "246\n",
      "California\n",
      "\n",
      "\n",
      "Retrieving weather data for California\n",
      "\n",
      "\n",
      "Currently retrieving data for California: from 2002-07-19 to 2002-07-19\n"
     ]
    },
    {
     "name": "stderr",
     "output_type": "stream",
     "text": [
      "C:\\Users\\Heliiix\\anaconda3\\Lib\\site-packages\\wwo_hist\\__init__.py:69: FutureWarning: Argument `closed` is deprecated in favor of `inclusive`.\n",
      "  list_mon_begin = pd.date_range(start_date, end_date, freq='MS', closed='right')\n",
      "C:\\Users\\Heliiix\\anaconda3\\Lib\\site-packages\\wwo_hist\\__init__.py:74: FutureWarning: Argument `closed` is deprecated in favor of `inclusive`.\n",
      "  list_mon_end = pd.date_range(start_date, end_date, freq='M', closed='left')\n"
     ]
    },
    {
     "name": "stdout",
     "output_type": "stream",
     "text": [
      "Error processing data for location: California. Error: 'weather'\n",
      "247\n",
      "California\n",
      "\n",
      "\n",
      "Retrieving weather data for California\n",
      "\n",
      "\n",
      "Currently retrieving data for California: from 2002-07-09 to 2002-07-09\n"
     ]
    },
    {
     "name": "stderr",
     "output_type": "stream",
     "text": [
      "C:\\Users\\Heliiix\\anaconda3\\Lib\\site-packages\\wwo_hist\\__init__.py:69: FutureWarning: Argument `closed` is deprecated in favor of `inclusive`.\n",
      "  list_mon_begin = pd.date_range(start_date, end_date, freq='MS', closed='right')\n",
      "C:\\Users\\Heliiix\\anaconda3\\Lib\\site-packages\\wwo_hist\\__init__.py:74: FutureWarning: Argument `closed` is deprecated in favor of `inclusive`.\n",
      "  list_mon_end = pd.date_range(start_date, end_date, freq='M', closed='left')\n"
     ]
    },
    {
     "name": "stdout",
     "output_type": "stream",
     "text": [
      "Error processing data for location: California. Error: 'weather'\n",
      "248\n",
      "California\n",
      "\n",
      "\n",
      "Retrieving weather data for California\n",
      "\n",
      "\n",
      "Currently retrieving data for California: from 2002-02-27 to 2002-02-27\n"
     ]
    },
    {
     "name": "stderr",
     "output_type": "stream",
     "text": [
      "C:\\Users\\Heliiix\\anaconda3\\Lib\\site-packages\\wwo_hist\\__init__.py:69: FutureWarning: Argument `closed` is deprecated in favor of `inclusive`.\n",
      "  list_mon_begin = pd.date_range(start_date, end_date, freq='MS', closed='right')\n",
      "C:\\Users\\Heliiix\\anaconda3\\Lib\\site-packages\\wwo_hist\\__init__.py:74: FutureWarning: Argument `closed` is deprecated in favor of `inclusive`.\n",
      "  list_mon_end = pd.date_range(start_date, end_date, freq='M', closed='left')\n"
     ]
    },
    {
     "name": "stdout",
     "output_type": "stream",
     "text": [
      "Error processing data for location: California. Error: 'weather'\n",
      "249\n",
      "Virginia\n",
      "\n",
      "\n",
      "Retrieving weather data for Virginia\n",
      "\n",
      "\n",
      "Currently retrieving data for Virginia: from 2001-08-09 to 2001-08-09\n"
     ]
    },
    {
     "name": "stderr",
     "output_type": "stream",
     "text": [
      "C:\\Users\\Heliiix\\anaconda3\\Lib\\site-packages\\wwo_hist\\__init__.py:69: FutureWarning: Argument `closed` is deprecated in favor of `inclusive`.\n",
      "  list_mon_begin = pd.date_range(start_date, end_date, freq='MS', closed='right')\n",
      "C:\\Users\\Heliiix\\anaconda3\\Lib\\site-packages\\wwo_hist\\__init__.py:74: FutureWarning: Argument `closed` is deprecated in favor of `inclusive`.\n",
      "  list_mon_end = pd.date_range(start_date, end_date, freq='M', closed='left')\n"
     ]
    },
    {
     "name": "stdout",
     "output_type": "stream",
     "text": [
      "Error processing data for location: Virginia. Error: 'weather'\n",
      "250\n",
      "Texas\n",
      "\n",
      "\n",
      "Retrieving weather data for Texas\n",
      "\n",
      "\n",
      "Currently retrieving data for Texas: from 2001-06-08 to 2001-06-15\n"
     ]
    },
    {
     "name": "stderr",
     "output_type": "stream",
     "text": [
      "C:\\Users\\Heliiix\\anaconda3\\Lib\\site-packages\\wwo_hist\\__init__.py:69: FutureWarning: Argument `closed` is deprecated in favor of `inclusive`.\n",
      "  list_mon_begin = pd.date_range(start_date, end_date, freq='MS', closed='right')\n",
      "C:\\Users\\Heliiix\\anaconda3\\Lib\\site-packages\\wwo_hist\\__init__.py:74: FutureWarning: Argument `closed` is deprecated in favor of `inclusive`.\n",
      "  list_mon_end = pd.date_range(start_date, end_date, freq='M', closed='left')\n"
     ]
    },
    {
     "name": "stdout",
     "output_type": "stream",
     "text": [
      "Error processing data for location: Texas. Error: 'weather'\n",
      "251\n",
      "California\n",
      "\n",
      "\n",
      "Retrieving weather data for California\n",
      "\n",
      "\n",
      "Currently retrieving data for California: from 2001-05-08 to 2001-05-08\n"
     ]
    },
    {
     "name": "stderr",
     "output_type": "stream",
     "text": [
      "C:\\Users\\Heliiix\\anaconda3\\Lib\\site-packages\\wwo_hist\\__init__.py:69: FutureWarning: Argument `closed` is deprecated in favor of `inclusive`.\n",
      "  list_mon_begin = pd.date_range(start_date, end_date, freq='MS', closed='right')\n",
      "C:\\Users\\Heliiix\\anaconda3\\Lib\\site-packages\\wwo_hist\\__init__.py:74: FutureWarning: Argument `closed` is deprecated in favor of `inclusive`.\n",
      "  list_mon_end = pd.date_range(start_date, end_date, freq='M', closed='left')\n"
     ]
    },
    {
     "name": "stdout",
     "output_type": "stream",
     "text": [
      "Error processing data for location: California. Error: 'weather'\n",
      "252\n",
      "California\n",
      "\n",
      "\n",
      "Retrieving weather data for California\n",
      "\n",
      "\n",
      "Currently retrieving data for California: from 2001-05-08 to 2001-05-08\n"
     ]
    },
    {
     "name": "stderr",
     "output_type": "stream",
     "text": [
      "C:\\Users\\Heliiix\\anaconda3\\Lib\\site-packages\\wwo_hist\\__init__.py:69: FutureWarning: Argument `closed` is deprecated in favor of `inclusive`.\n",
      "  list_mon_begin = pd.date_range(start_date, end_date, freq='MS', closed='right')\n",
      "C:\\Users\\Heliiix\\anaconda3\\Lib\\site-packages\\wwo_hist\\__init__.py:74: FutureWarning: Argument `closed` is deprecated in favor of `inclusive`.\n",
      "  list_mon_end = pd.date_range(start_date, end_date, freq='M', closed='left')\n"
     ]
    },
    {
     "name": "stdout",
     "output_type": "stream",
     "text": [
      "Error processing data for location: California. Error: 'weather'\n",
      "253\n",
      "California\n",
      "\n",
      "\n",
      "Retrieving weather data for California\n",
      "\n",
      "\n",
      "Currently retrieving data for California: from 2001-05-07 to 2001-05-07\n"
     ]
    },
    {
     "name": "stderr",
     "output_type": "stream",
     "text": [
      "C:\\Users\\Heliiix\\anaconda3\\Lib\\site-packages\\wwo_hist\\__init__.py:69: FutureWarning: Argument `closed` is deprecated in favor of `inclusive`.\n",
      "  list_mon_begin = pd.date_range(start_date, end_date, freq='MS', closed='right')\n",
      "C:\\Users\\Heliiix\\anaconda3\\Lib\\site-packages\\wwo_hist\\__init__.py:74: FutureWarning: Argument `closed` is deprecated in favor of `inclusive`.\n",
      "  list_mon_end = pd.date_range(start_date, end_date, freq='M', closed='left')\n"
     ]
    },
    {
     "name": "stdout",
     "output_type": "stream",
     "text": [
      "Error processing data for location: California. Error: 'weather'\n",
      "254\n",
      "California\n",
      "\n",
      "\n",
      "Retrieving weather data for California\n",
      "\n",
      "\n",
      "Currently retrieving data for California: from 2001-01-20 to 2001-01-21\n"
     ]
    },
    {
     "name": "stderr",
     "output_type": "stream",
     "text": [
      "C:\\Users\\Heliiix\\anaconda3\\Lib\\site-packages\\wwo_hist\\__init__.py:69: FutureWarning: Argument `closed` is deprecated in favor of `inclusive`.\n",
      "  list_mon_begin = pd.date_range(start_date, end_date, freq='MS', closed='right')\n",
      "C:\\Users\\Heliiix\\anaconda3\\Lib\\site-packages\\wwo_hist\\__init__.py:74: FutureWarning: Argument `closed` is deprecated in favor of `inclusive`.\n",
      "  list_mon_end = pd.date_range(start_date, end_date, freq='M', closed='left')\n"
     ]
    },
    {
     "name": "stdout",
     "output_type": "stream",
     "text": [
      "Error processing data for location: California. Error: 'weather'\n",
      "255\n",
      "California\n",
      "\n",
      "\n",
      "Retrieving weather data for California\n",
      "\n",
      "\n",
      "Currently retrieving data for California: from 2001-01-17 to 2001-01-18\n"
     ]
    },
    {
     "name": "stderr",
     "output_type": "stream",
     "text": [
      "C:\\Users\\Heliiix\\anaconda3\\Lib\\site-packages\\wwo_hist\\__init__.py:69: FutureWarning: Argument `closed` is deprecated in favor of `inclusive`.\n",
      "  list_mon_begin = pd.date_range(start_date, end_date, freq='MS', closed='right')\n",
      "C:\\Users\\Heliiix\\anaconda3\\Lib\\site-packages\\wwo_hist\\__init__.py:74: FutureWarning: Argument `closed` is deprecated in favor of `inclusive`.\n",
      "  list_mon_end = pd.date_range(start_date, end_date, freq='M', closed='left')\n"
     ]
    },
    {
     "name": "stdout",
     "output_type": "stream",
     "text": [
      "Error processing data for location: California. Error: 'weather'\n",
      "256\n",
      "North%20Carolina\n",
      "\n",
      "\n",
      "Retrieving weather data for North%20Carolina\n",
      "\n",
      "\n",
      "Currently retrieving data for North%20Carolina: from 2000-08-18 to 2000-08-20\n"
     ]
    },
    {
     "name": "stderr",
     "output_type": "stream",
     "text": [
      "C:\\Users\\Heliiix\\anaconda3\\Lib\\site-packages\\wwo_hist\\__init__.py:69: FutureWarning: Argument `closed` is deprecated in favor of `inclusive`.\n",
      "  list_mon_begin = pd.date_range(start_date, end_date, freq='MS', closed='right')\n",
      "C:\\Users\\Heliiix\\anaconda3\\Lib\\site-packages\\wwo_hist\\__init__.py:74: FutureWarning: Argument `closed` is deprecated in favor of `inclusive`.\n",
      "  list_mon_end = pd.date_range(start_date, end_date, freq='M', closed='left')\n"
     ]
    },
    {
     "name": "stdout",
     "output_type": "stream",
     "text": [
      "Error processing data for location: North Carolina. Error: 'weather'\n",
      "257\n",
      "Ohio\n",
      "\n",
      "\n",
      "Retrieving weather data for Ohio\n",
      "\n",
      "\n",
      "Currently retrieving data for Ohio: from 2000-08-09 to 2000-08-07\n"
     ]
    },
    {
     "name": "stderr",
     "output_type": "stream",
     "text": [
      "C:\\Users\\Heliiix\\anaconda3\\Lib\\site-packages\\wwo_hist\\__init__.py:69: FutureWarning: Argument `closed` is deprecated in favor of `inclusive`.\n",
      "  list_mon_begin = pd.date_range(start_date, end_date, freq='MS', closed='right')\n",
      "C:\\Users\\Heliiix\\anaconda3\\Lib\\site-packages\\wwo_hist\\__init__.py:74: FutureWarning: Argument `closed` is deprecated in favor of `inclusive`.\n",
      "  list_mon_end = pd.date_range(start_date, end_date, freq='M', closed='left')\n"
     ]
    },
    {
     "name": "stdout",
     "output_type": "stream",
     "text": [
      "Error processing data for location: Ohio. Error: 'weather'\n",
      "258\n",
      "Illinois\n",
      "\n",
      "\n",
      "Retrieving weather data for Illinois\n",
      "\n",
      "\n",
      "Currently retrieving data for Illinois: from 2000-08-06 to 2000-08-07\n"
     ]
    },
    {
     "name": "stderr",
     "output_type": "stream",
     "text": [
      "C:\\Users\\Heliiix\\anaconda3\\Lib\\site-packages\\wwo_hist\\__init__.py:69: FutureWarning: Argument `closed` is deprecated in favor of `inclusive`.\n",
      "  list_mon_begin = pd.date_range(start_date, end_date, freq='MS', closed='right')\n",
      "C:\\Users\\Heliiix\\anaconda3\\Lib\\site-packages\\wwo_hist\\__init__.py:74: FutureWarning: Argument `closed` is deprecated in favor of `inclusive`.\n",
      "  list_mon_end = pd.date_range(start_date, end_date, freq='M', closed='left')\n"
     ]
    },
    {
     "name": "stdout",
     "output_type": "stream",
     "text": [
      "Error processing data for location: Illinois. Error: 'weather'\n",
      "259\n",
      "North%20Carolina\n",
      "\n",
      "\n",
      "Retrieving weather data for North%20Carolina\n",
      "\n",
      "\n",
      "Currently retrieving data for North%20Carolina: from 2000-05-25 to 2000-05-31\n"
     ]
    },
    {
     "name": "stderr",
     "output_type": "stream",
     "text": [
      "C:\\Users\\Heliiix\\anaconda3\\Lib\\site-packages\\wwo_hist\\__init__.py:69: FutureWarning: Argument `closed` is deprecated in favor of `inclusive`.\n",
      "  list_mon_begin = pd.date_range(start_date, end_date, freq='MS', closed='right')\n",
      "C:\\Users\\Heliiix\\anaconda3\\Lib\\site-packages\\wwo_hist\\__init__.py:74: FutureWarning: Argument `closed` is deprecated in favor of `inclusive`.\n",
      "  list_mon_end = pd.date_range(start_date, end_date, freq='M', closed='left')\n"
     ]
    },
    {
     "name": "stdout",
     "output_type": "stream",
     "text": [
      "Error processing data for location: North Carolina. Error: 'weather'\n",
      "260\n",
      "Texas\n",
      "\n",
      "\n",
      "Retrieving weather data for Texas\n",
      "\n",
      "\n",
      "Currently retrieving data for Texas: from 2000-05-24 to 2000-05-25\n"
     ]
    },
    {
     "name": "stderr",
     "output_type": "stream",
     "text": [
      "C:\\Users\\Heliiix\\anaconda3\\Lib\\site-packages\\wwo_hist\\__init__.py:69: FutureWarning: Argument `closed` is deprecated in favor of `inclusive`.\n",
      "  list_mon_begin = pd.date_range(start_date, end_date, freq='MS', closed='right')\n",
      "C:\\Users\\Heliiix\\anaconda3\\Lib\\site-packages\\wwo_hist\\__init__.py:74: FutureWarning: Argument `closed` is deprecated in favor of `inclusive`.\n",
      "  list_mon_end = pd.date_range(start_date, end_date, freq='M', closed='left')\n"
     ]
    },
    {
     "name": "stdout",
     "output_type": "stream",
     "text": [
      "Error processing data for location: Texas. Error: 'weather'\n",
      "261\n",
      "New%20York\n",
      "\n",
      "\n",
      "Retrieving weather data for New%20York\n",
      "\n",
      "\n",
      "Currently retrieving data for New%20York: from 2000-05-09 to 2000-05-09\n"
     ]
    },
    {
     "name": "stderr",
     "output_type": "stream",
     "text": [
      "C:\\Users\\Heliiix\\anaconda3\\Lib\\site-packages\\wwo_hist\\__init__.py:69: FutureWarning: Argument `closed` is deprecated in favor of `inclusive`.\n",
      "  list_mon_begin = pd.date_range(start_date, end_date, freq='MS', closed='right')\n",
      "C:\\Users\\Heliiix\\anaconda3\\Lib\\site-packages\\wwo_hist\\__init__.py:74: FutureWarning: Argument `closed` is deprecated in favor of `inclusive`.\n",
      "  list_mon_end = pd.date_range(start_date, end_date, freq='M', closed='left')\n"
     ]
    },
    {
     "name": "stdout",
     "output_type": "stream",
     "text": [
      "Error processing data for location: New York. Error: 'weather'\n",
      "262\n",
      "Texas\n",
      "\n",
      "\n",
      "Retrieving weather data for Texas\n",
      "\n",
      "\n",
      "Currently retrieving data for Texas: from 2000-03-18 to 2000-03-18\n"
     ]
    },
    {
     "name": "stderr",
     "output_type": "stream",
     "text": [
      "C:\\Users\\Heliiix\\anaconda3\\Lib\\site-packages\\wwo_hist\\__init__.py:69: FutureWarning: Argument `closed` is deprecated in favor of `inclusive`.\n",
      "  list_mon_begin = pd.date_range(start_date, end_date, freq='MS', closed='right')\n",
      "C:\\Users\\Heliiix\\anaconda3\\Lib\\site-packages\\wwo_hist\\__init__.py:74: FutureWarning: Argument `closed` is deprecated in favor of `inclusive`.\n",
      "  list_mon_end = pd.date_range(start_date, end_date, freq='M', closed='left')\n"
     ]
    },
    {
     "name": "stdout",
     "output_type": "stream",
     "text": [
      "Error processing data for location: Texas. Error: 'weather'\n"
     ]
    }
   ],
   "source": [
    "import urllib.parse\n",
    "import os\n",
    "import pandas as pd\n",
    "\n",
    "# Assuming t is your DataFrame\n",
    "for index, row in t.iterrows():\n",
    "    print(index)\n",
    "    # Extract values from the row\n",
    "    api_key = 'd14fcf5b629c4c148f4191223241702'\n",
    "    location = row['Geographic Areas']\n",
    "    encoded_location = urllib.parse.quote(location)\n",
    "    print(encoded_location)\n",
    "    start_date = row['Date Event Began']\n",
    "    end_date = row['Date of Restoration']  # Use a different date for the end date\n",
    "    frequency = 24\n",
    "\n",
    "    try:\n",
    "        # Call retrieve_hist_data function to get historical weather data\n",
    "        response = retrieve_hist_data(api_key=api_key,\n",
    "                                       location_list=[encoded_location],\n",
    "                                       start_date=start_date,\n",
    "                                       end_date=end_date,\n",
    "                                       frequency=frequency)\n",
    "        \n",
    "        if response is None:\n",
    "            print(f\"No data returned for location: {location}\")\n",
    "            continue  # Skip to the next iteration if no data is returned\n",
    "\n",
    "        # Continue processing the data if it's successfully retrieved\n",
    "        \n",
    "        s = row['Geographic Areas'].replace(' ', '%20') + \".csv\"\n",
    "        df_excel = pd.read_csv(s)\n",
    "\n",
    "        # Read existing data from combined_data.csv into another DataFrame\n",
    "        combined_data_csv_path = 'combined_data.csv'\n",
    "        if os.path.exists(combined_data_csv_path):\n",
    "            df_combined_data = pd.read_csv(combined_data_csv_path)\n",
    "        else:\n",
    "            df_combined_data = pd.DataFrame()  # If combined_data.csv doesn't exist yet\n",
    "\n",
    "        # Concatenate new data from Excel file with existing data from combined_data.csv\n",
    "        combined_df = pd.concat([df_combined_data, df_excel], ignore_index=True)\n",
    "\n",
    "        # Write the combined DataFrame back to combined_data.csv\n",
    "        combined_df.to_csv(combined_data_csv_path, index=False)\n",
    "        \n",
    "    except Exception as e:\n",
    "        print(f\"Error processing data for location: {location}. Error: {e}\")\n",
    "        continue  # Skip to the next iteration if an error occurs\n"
   ]
  },
  {
   "cell_type": "code",
   "execution_count": null,
   "id": "b711361f",
   "metadata": {},
   "outputs": [],
   "source": []
  },
  {
   "cell_type": "code",
   "execution_count": null,
   "id": "0a6d4430",
   "metadata": {},
   "outputs": [],
   "source": []
  }
 ],
 "metadata": {
  "kernelspec": {
   "display_name": "Python 3 (ipykernel)",
   "language": "python",
   "name": "python3"
  },
  "language_info": {
   "codemirror_mode": {
    "name": "ipython",
    "version": 3
   },
   "file_extension": ".py",
   "mimetype": "text/x-python",
   "name": "python",
   "nbconvert_exporter": "python",
   "pygments_lexer": "ipython3",
   "version": "3.11.4"
  }
 },
 "nbformat": 4,
 "nbformat_minor": 5
}
