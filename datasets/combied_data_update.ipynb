{
 "cells": [
  {
   "cell_type": "code",
   "execution_count": 32,
   "id": "41838a96",
   "metadata": {},
   "outputs": [],
   "source": [
    "import pandas as pd\n",
    "import urllib.parse\n",
    "import os"
   ]
  },
  {
   "cell_type": "code",
   "execution_count": 33,
   "id": "c09497a7",
   "metadata": {},
   "outputs": [
    {
     "name": "stdout",
     "output_type": "stream",
     "text": [
      "Requirement already satisfied: wwo-hist in c:\\users\\heliiix\\anaconda3\\lib\\site-packages (0.0.7)\n"
     ]
    }
   ],
   "source": [
    "!pip install wwo-hist"
   ]
  },
  {
   "cell_type": "code",
   "execution_count": 34,
   "id": "c189a7ec",
   "metadata": {},
   "outputs": [],
   "source": [
    "from wwo_hist import retrieve_hist_data"
   ]
  },
  {
   "cell_type": "code",
   "execution_count": 18,
   "id": "9be74966",
   "metadata": {},
   "outputs": [
    {
     "name": "stdout",
     "output_type": "stream",
     "text": [
      "Unique random dates: ['2000-09-02', '2015-04-03', '2006-01-09', '2022-09-03', '2010-05-10', '2005-01-27', '2020-03-07', '2025-06-13', '2024-07-16', '2023-06-03']\n"
     ]
    }
   ],
   "source": [
    "import random\n",
    "from datetime import datetime, timedelta\n",
    "\n",
    "# Function to generate random dates within a range of years\n",
    "def generate_random_dates(start_year, end_year, num_dates):\n",
    "    dates = []\n",
    "    for _ in range(num_dates):\n",
    "        year = random.randint(start_year, end_year)\n",
    "        month = random.randint(1, 12)\n",
    "        day = random.randint(1, 28)  # Assuming all months have 28 days for simplicity\n",
    "        dates.append(datetime(year, month, day))\n",
    "    return dates\n",
    "\n",
    "# List of dates in the format 'YYYY-MM-DD'\n",
    "existing_dates = df['date_time'].unique().tolist() \n",
    "\n",
    "# Convert existing dates to datetime objects for comparison\n",
    "existing_dates = [datetime.strptime(date_str, '%Y-%m-%d') for date_str in existing_dates]\n",
    "\n",
    "\n"
   ]
  },
  {
   "cell_type": "code",
   "execution_count": 22,
   "id": "b05f7ce3",
   "metadata": {},
   "outputs": [],
   "source": [
    "# Define the range of years for random date generation\n",
    "start_year = 2008\n",
    "end_year = 2014\n",
    "\n",
    "# Generate 10 random dates that are not in the existing list\n",
    "num_dates_to_generate = 200\n",
    "random_dates = generate_random_dates(start_year, end_year, num_dates_to_generate)\n",
    "\n",
    "# Filter out dates that are already in the existing list\n",
    "unique_random_dates = [date.strftime('%Y-%m-%d') for date in random_dates if date not in existing_dates]"
   ]
  },
  {
   "cell_type": "code",
   "execution_count": 21,
   "id": "4e5e1cc6",
   "metadata": {},
   "outputs": [],
   "source": [
    "df = pd.read_csv('combined_data.csv')"
   ]
  },
  {
   "cell_type": "code",
   "execution_count": 36,
   "id": "0af23e00",
   "metadata": {},
   "outputs": [],
   "source": [
    "df['target'] = 1"
   ]
  },
  {
   "cell_type": "code",
   "execution_count": 37,
   "id": "9ae9fa2c",
   "metadata": {},
   "outputs": [
    {
     "data": {
      "text/html": [
       "<div>\n",
       "<style scoped>\n",
       "    .dataframe tbody tr th:only-of-type {\n",
       "        vertical-align: middle;\n",
       "    }\n",
       "\n",
       "    .dataframe tbody tr th {\n",
       "        vertical-align: top;\n",
       "    }\n",
       "\n",
       "    .dataframe thead th {\n",
       "        text-align: right;\n",
       "    }\n",
       "</style>\n",
       "<table border=\"1\" class=\"dataframe\">\n",
       "  <thead>\n",
       "    <tr style=\"text-align: right;\">\n",
       "      <th></th>\n",
       "      <th>date_time</th>\n",
       "      <th>maxtempC</th>\n",
       "      <th>mintempC</th>\n",
       "      <th>totalSnow_cm</th>\n",
       "      <th>sunHour</th>\n",
       "      <th>uvIndex</th>\n",
       "      <th>moon_illumination</th>\n",
       "      <th>moonrise</th>\n",
       "      <th>moonset</th>\n",
       "      <th>sunrise</th>\n",
       "      <th>...</th>\n",
       "      <th>cloudcover</th>\n",
       "      <th>humidity</th>\n",
       "      <th>precipMM</th>\n",
       "      <th>pressure</th>\n",
       "      <th>tempC</th>\n",
       "      <th>visibility</th>\n",
       "      <th>winddirDegree</th>\n",
       "      <th>windspeedKmph</th>\n",
       "      <th>location</th>\n",
       "      <th>target</th>\n",
       "    </tr>\n",
       "  </thead>\n",
       "  <tbody>\n",
       "    <tr>\n",
       "      <th>0</th>\n",
       "      <td>2008-07-10</td>\n",
       "      <td>25</td>\n",
       "      <td>16</td>\n",
       "      <td>0.0</td>\n",
       "      <td>8.0</td>\n",
       "      <td>4</td>\n",
       "      <td>47</td>\n",
       "      <td>01:52 PM</td>\n",
       "      <td>12:33 AM</td>\n",
       "      <td>06:22 AM</td>\n",
       "      <td>...</td>\n",
       "      <td>68</td>\n",
       "      <td>91</td>\n",
       "      <td>25.3</td>\n",
       "      <td>1014</td>\n",
       "      <td>25</td>\n",
       "      <td>8</td>\n",
       "      <td>169</td>\n",
       "      <td>7</td>\n",
       "      <td>San%20Francisco%20Bay%20Area</td>\n",
       "      <td>1</td>\n",
       "    </tr>\n",
       "    <tr>\n",
       "      <th>1</th>\n",
       "      <td>2008-07-10</td>\n",
       "      <td>25</td>\n",
       "      <td>16</td>\n",
       "      <td>0.0</td>\n",
       "      <td>8.0</td>\n",
       "      <td>4</td>\n",
       "      <td>47</td>\n",
       "      <td>01:52 PM</td>\n",
       "      <td>12:33 AM</td>\n",
       "      <td>06:22 AM</td>\n",
       "      <td>...</td>\n",
       "      <td>68</td>\n",
       "      <td>91</td>\n",
       "      <td>25.3</td>\n",
       "      <td>1014</td>\n",
       "      <td>25</td>\n",
       "      <td>8</td>\n",
       "      <td>169</td>\n",
       "      <td>7</td>\n",
       "      <td>San%20Francisco%20Bay%20Area</td>\n",
       "      <td>1</td>\n",
       "    </tr>\n",
       "    <tr>\n",
       "      <th>2</th>\n",
       "      <td>2014-06-30</td>\n",
       "      <td>30</td>\n",
       "      <td>22</td>\n",
       "      <td>0.0</td>\n",
       "      <td>10.0</td>\n",
       "      <td>6</td>\n",
       "      <td>16</td>\n",
       "      <td>08:49 AM</td>\n",
       "      <td>10:31 PM</td>\n",
       "      <td>05:34 AM</td>\n",
       "      <td>...</td>\n",
       "      <td>63</td>\n",
       "      <td>92</td>\n",
       "      <td>28.8</td>\n",
       "      <td>1006</td>\n",
       "      <td>30</td>\n",
       "      <td>7</td>\n",
       "      <td>198</td>\n",
       "      <td>16</td>\n",
       "      <td>Illinois</td>\n",
       "      <td>1</td>\n",
       "    </tr>\n",
       "    <tr>\n",
       "      <th>3</th>\n",
       "      <td>2014-07-01</td>\n",
       "      <td>26</td>\n",
       "      <td>18</td>\n",
       "      <td>0.0</td>\n",
       "      <td>15.0</td>\n",
       "      <td>6</td>\n",
       "      <td>23</td>\n",
       "      <td>09:46 AM</td>\n",
       "      <td>11:01 PM</td>\n",
       "      <td>05:34 AM</td>\n",
       "      <td>...</td>\n",
       "      <td>19</td>\n",
       "      <td>82</td>\n",
       "      <td>0.0</td>\n",
       "      <td>1007</td>\n",
       "      <td>26</td>\n",
       "      <td>10</td>\n",
       "      <td>265</td>\n",
       "      <td>17</td>\n",
       "      <td>Illinois</td>\n",
       "      <td>1</td>\n",
       "    </tr>\n",
       "    <tr>\n",
       "      <th>4</th>\n",
       "      <td>2014-07-02</td>\n",
       "      <td>18</td>\n",
       "      <td>14</td>\n",
       "      <td>0.0</td>\n",
       "      <td>5.0</td>\n",
       "      <td>4</td>\n",
       "      <td>30</td>\n",
       "      <td>10:42 AM</td>\n",
       "      <td>11:30 PM</td>\n",
       "      <td>05:35 AM</td>\n",
       "      <td>...</td>\n",
       "      <td>81</td>\n",
       "      <td>90</td>\n",
       "      <td>1.1</td>\n",
       "      <td>1015</td>\n",
       "      <td>18</td>\n",
       "      <td>7</td>\n",
       "      <td>297</td>\n",
       "      <td>13</td>\n",
       "      <td>Illinois</td>\n",
       "      <td>1</td>\n",
       "    </tr>\n",
       "    <tr>\n",
       "      <th>...</th>\n",
       "      <td>...</td>\n",
       "      <td>...</td>\n",
       "      <td>...</td>\n",
       "      <td>...</td>\n",
       "      <td>...</td>\n",
       "      <td>...</td>\n",
       "      <td>...</td>\n",
       "      <td>...</td>\n",
       "      <td>...</td>\n",
       "      <td>...</td>\n",
       "      <td>...</td>\n",
       "      <td>...</td>\n",
       "      <td>...</td>\n",
       "      <td>...</td>\n",
       "      <td>...</td>\n",
       "      <td>...</td>\n",
       "      <td>...</td>\n",
       "      <td>...</td>\n",
       "      <td>...</td>\n",
       "      <td>...</td>\n",
       "      <td>...</td>\n",
       "    </tr>\n",
       "    <tr>\n",
       "      <th>377</th>\n",
       "      <td>2008-11-11</td>\n",
       "      <td>27</td>\n",
       "      <td>20</td>\n",
       "      <td>0.0</td>\n",
       "      <td>10.0</td>\n",
       "      <td>5</td>\n",
       "      <td>93</td>\n",
       "      <td>04:20 PM</td>\n",
       "      <td>03:57 AM</td>\n",
       "      <td>05:44 AM</td>\n",
       "      <td>...</td>\n",
       "      <td>62</td>\n",
       "      <td>92</td>\n",
       "      <td>9.2</td>\n",
       "      <td>1010</td>\n",
       "      <td>27</td>\n",
       "      <td>8</td>\n",
       "      <td>223</td>\n",
       "      <td>4</td>\n",
       "      <td>Island%20of%20Puerto%20Rico</td>\n",
       "      <td>1</td>\n",
       "    </tr>\n",
       "    <tr>\n",
       "      <th>378</th>\n",
       "      <td>2008-11-07</td>\n",
       "      <td>22</td>\n",
       "      <td>10</td>\n",
       "      <td>0.0</td>\n",
       "      <td>11.0</td>\n",
       "      <td>5</td>\n",
       "      <td>62</td>\n",
       "      <td>01:55 PM</td>\n",
       "      <td>12:33 AM</td>\n",
       "      <td>06:45 AM</td>\n",
       "      <td>...</td>\n",
       "      <td>2</td>\n",
       "      <td>73</td>\n",
       "      <td>0.0</td>\n",
       "      <td>1013</td>\n",
       "      <td>22</td>\n",
       "      <td>10</td>\n",
       "      <td>220</td>\n",
       "      <td>9</td>\n",
       "      <td>Southern%20California</td>\n",
       "      <td>1</td>\n",
       "    </tr>\n",
       "    <tr>\n",
       "      <th>379</th>\n",
       "      <td>2008-09-22</td>\n",
       "      <td>26</td>\n",
       "      <td>25</td>\n",
       "      <td>0.0</td>\n",
       "      <td>4.0</td>\n",
       "      <td>6</td>\n",
       "      <td>39</td>\n",
       "      <td>No moonrise</td>\n",
       "      <td>01:24 PM</td>\n",
       "      <td>06:12 AM</td>\n",
       "      <td>...</td>\n",
       "      <td>85</td>\n",
       "      <td>88</td>\n",
       "      <td>94.3</td>\n",
       "      <td>1013</td>\n",
       "      <td>26</td>\n",
       "      <td>5</td>\n",
       "      <td>131</td>\n",
       "      <td>19</td>\n",
       "      <td>Island%20of%20Puerto%20Rico</td>\n",
       "      <td>1</td>\n",
       "    </tr>\n",
       "    <tr>\n",
       "      <th>380</th>\n",
       "      <td>2008-08-16</td>\n",
       "      <td>33</td>\n",
       "      <td>24</td>\n",
       "      <td>0.0</td>\n",
       "      <td>11.0</td>\n",
       "      <td>6</td>\n",
       "      <td>100</td>\n",
       "      <td>07:40 PM</td>\n",
       "      <td>06:40 AM</td>\n",
       "      <td>06:58 AM</td>\n",
       "      <td>...</td>\n",
       "      <td>43</td>\n",
       "      <td>78</td>\n",
       "      <td>16.8</td>\n",
       "      <td>1012</td>\n",
       "      <td>33</td>\n",
       "      <td>8</td>\n",
       "      <td>76</td>\n",
       "      <td>5</td>\n",
       "      <td>Island%20of%20Puerto%20Rico</td>\n",
       "      <td>1</td>\n",
       "    </tr>\n",
       "    <tr>\n",
       "      <th>381</th>\n",
       "      <td>2008-07-10</td>\n",
       "      <td>25</td>\n",
       "      <td>16</td>\n",
       "      <td>0.0</td>\n",
       "      <td>8.0</td>\n",
       "      <td>4</td>\n",
       "      <td>47</td>\n",
       "      <td>01:52 PM</td>\n",
       "      <td>12:33 AM</td>\n",
       "      <td>06:22 AM</td>\n",
       "      <td>...</td>\n",
       "      <td>68</td>\n",
       "      <td>91</td>\n",
       "      <td>25.3</td>\n",
       "      <td>1014</td>\n",
       "      <td>25</td>\n",
       "      <td>8</td>\n",
       "      <td>169</td>\n",
       "      <td>7</td>\n",
       "      <td>San%20Francisco%20Bay%20Area</td>\n",
       "      <td>1</td>\n",
       "    </tr>\n",
       "  </tbody>\n",
       "</table>\n",
       "<p>382 rows × 26 columns</p>\n",
       "</div>"
      ],
      "text/plain": [
       "      date_time  maxtempC  mintempC  totalSnow_cm  sunHour  uvIndex  \\\n",
       "0    2008-07-10        25        16           0.0      8.0        4   \n",
       "1    2008-07-10        25        16           0.0      8.0        4   \n",
       "2    2014-06-30        30        22           0.0     10.0        6   \n",
       "3    2014-07-01        26        18           0.0     15.0        6   \n",
       "4    2014-07-02        18        14           0.0      5.0        4   \n",
       "..          ...       ...       ...           ...      ...      ...   \n",
       "377  2008-11-11        27        20           0.0     10.0        5   \n",
       "378  2008-11-07        22        10           0.0     11.0        5   \n",
       "379  2008-09-22        26        25           0.0      4.0        6   \n",
       "380  2008-08-16        33        24           0.0     11.0        6   \n",
       "381  2008-07-10        25        16           0.0      8.0        4   \n",
       "\n",
       "     moon_illumination     moonrise   moonset   sunrise  ... cloudcover  \\\n",
       "0                   47     01:52 PM  12:33 AM  06:22 AM  ...         68   \n",
       "1                   47     01:52 PM  12:33 AM  06:22 AM  ...         68   \n",
       "2                   16     08:49 AM  10:31 PM  05:34 AM  ...         63   \n",
       "3                   23     09:46 AM  11:01 PM  05:34 AM  ...         19   \n",
       "4                   30     10:42 AM  11:30 PM  05:35 AM  ...         81   \n",
       "..                 ...          ...       ...       ...  ...        ...   \n",
       "377                 93     04:20 PM  03:57 AM  05:44 AM  ...         62   \n",
       "378                 62     01:55 PM  12:33 AM  06:45 AM  ...          2   \n",
       "379                 39  No moonrise  01:24 PM  06:12 AM  ...         85   \n",
       "380                100     07:40 PM  06:40 AM  06:58 AM  ...         43   \n",
       "381                 47     01:52 PM  12:33 AM  06:22 AM  ...         68   \n",
       "\n",
       "     humidity  precipMM  pressure  tempC  visibility  winddirDegree  \\\n",
       "0          91      25.3      1014     25           8            169   \n",
       "1          91      25.3      1014     25           8            169   \n",
       "2          92      28.8      1006     30           7            198   \n",
       "3          82       0.0      1007     26          10            265   \n",
       "4          90       1.1      1015     18           7            297   \n",
       "..        ...       ...       ...    ...         ...            ...   \n",
       "377        92       9.2      1010     27           8            223   \n",
       "378        73       0.0      1013     22          10            220   \n",
       "379        88      94.3      1013     26           5            131   \n",
       "380        78      16.8      1012     33           8             76   \n",
       "381        91      25.3      1014     25           8            169   \n",
       "\n",
       "     windspeedKmph                      location  target  \n",
       "0                7  San%20Francisco%20Bay%20Area       1  \n",
       "1                7  San%20Francisco%20Bay%20Area       1  \n",
       "2               16                      Illinois       1  \n",
       "3               17                      Illinois       1  \n",
       "4               13                      Illinois       1  \n",
       "..             ...                           ...     ...  \n",
       "377              4   Island%20of%20Puerto%20Rico       1  \n",
       "378              9         Southern%20California       1  \n",
       "379             19   Island%20of%20Puerto%20Rico       1  \n",
       "380              5   Island%20of%20Puerto%20Rico       1  \n",
       "381              7  San%20Francisco%20Bay%20Area       1  \n",
       "\n",
       "[382 rows x 26 columns]"
      ]
     },
     "execution_count": 37,
     "metadata": {},
     "output_type": "execute_result"
    }
   ],
   "source": [
    "df"
   ]
  },
  {
   "cell_type": "code",
   "execution_count": 30,
   "id": "6b6bf2fe",
   "metadata": {},
   "outputs": [],
   "source": [
    "import urllib.parse\n",
    "import os\n",
    "import pandas as pd\n",
    "\n",
    "def process_weather_data(api_key, t):\n",
    "    for index, row in t.iterrows():\n",
    "        print(index)\n",
    "        # Extract values from the row\n",
    "        location = row['Location']\n",
    "        encoded_location = urllib.parse.quote(location)\n",
    "        print(encoded_location)\n",
    "        start_date = row['Date']\n",
    "        end_date = row['Date']  # Use a different date for the end date\n",
    "        frequency = 24\n",
    "\n",
    "        try:\n",
    "            # Call retrieve_hist_data function to get historical weather data\n",
    "            response = retrieve_hist_data(api_key=api_key,\n",
    "                                           location_list=[encoded_location],\n",
    "                                           start_date=start_date,\n",
    "                                           end_date=end_date,\n",
    "                                           frequency=frequency)\n",
    "\n",
    "            if response is None:\n",
    "                print(f\"No data returned for location: {location}\")\n",
    "                continue  # Skip to the next iteration if no data is returned\n",
    "\n",
    "            # Continue processing the data if it's successfully retrieved\n",
    "\n",
    "            s = row['Geographic Areas'].replace(' ', '%20') + \".csv\"\n",
    "            df_excel = pd.read_csv(s)\n",
    "\n",
    "            # Read existing data from combined_data.csv into another DataFrame\n",
    "            combined_data_csv_path = 'combined_data.csv'\n",
    "            if os.path.exists(combined_data_csv_path):\n",
    "                df_combined_data = pd.read_csv(combined_data_csv_path)\n",
    "            else:\n",
    "                df_combined_data = pd.DataFrame()  # If combined_data.csv doesn't exist yet\n",
    "\n",
    "            # Concatenate new data from Excel file with existing data from combined_data.csv\n",
    "            combined_df = pd.concat([df_combined_data, df_excel], ignore_index=True)\n",
    "\n",
    "            # Write the combined DataFrame back to combined_data.csv\n",
    "            combined_df.to_csv(combined_data_csv_path, index=False)\n",
    "\n",
    "        except Exception as e:\n",
    "            print(f\"Error processing data for location: {location}. Error: {e}\")\n",
    "            continue  # Skip to the next iteration if an error occurs\n"
   ]
  },
  {
   "cell_type": "code",
   "execution_count": null,
   "id": "9740f7b6",
   "metadata": {},
   "outputs": [],
   "source": []
  },
  {
   "cell_type": "code",
   "execution_count": 10,
   "id": "3cefb3b1",
   "metadata": {},
   "outputs": [],
   "source": [
    "decoded_locations = [urllib.parse.unquote(location) for location in all_locations]"
   ]
  },
  {
   "cell_type": "code",
   "execution_count": 11,
   "id": "1197821e",
   "metadata": {},
   "outputs": [
    {
     "data": {
      "text/plain": [
       "['San Francisco Bay Area',\n",
       " 'Illinois',\n",
       " 'Alberta',\n",
       " 'Texas',\n",
       " 'North Carolina',\n",
       " 'Michigan',\n",
       " 'New York',\n",
       " 'California',\n",
       " 'Northern California',\n",
       " 'Pennsylvania',\n",
       " 'Ohio',\n",
       " 'Southeastern Michigan',\n",
       " 'Newark',\n",
       " 'Tacoma',\n",
       " 'Virginia',\n",
       " 'Northern Illinois',\n",
       " 'Georgia',\n",
       " 'Southern California',\n",
       " 'Northern and Central California',\n",
       " 'Island of Puerto Rico']"
      ]
     },
     "execution_count": 11,
     "metadata": {},
     "output_type": "execute_result"
    }
   ],
   "source": [
    "decoded_locations"
   ]
  },
  {
   "cell_type": "code",
   "execution_count": 17,
   "id": "a7599aeb",
   "metadata": {},
   "outputs": [
    {
     "name": "stdout",
     "output_type": "stream",
     "text": [
      "286\n",
      "0\n"
     ]
    }
   ],
   "source": [
    "import urllib.parse\n",
    "import pandas as pd\n",
    "\n",
    "\n",
    "# List of all locations and dates you want to retrieve data for\n",
    "all_locations = df['location'].unique().tolist()  # List of all locations you're interested in\n",
    "all_locations = [urllib.parse.unquote(location) for location in all_locations]\n",
    "all_dates = unique_random_dates      # List of all dates you're interested in\n",
    "\n",
    "\n",
    "\n",
    "\n"
   ]
  },
  {
   "cell_type": "code",
   "execution_count": null,
   "id": "3b01dc76",
   "metadata": {},
   "outputs": [],
   "source": [
    "unique_random_dates"
   ]
  },
  {
   "cell_type": "code",
   "execution_count": 25,
   "id": "c36e959f",
   "metadata": {},
   "outputs": [
    {
     "name": "stdout",
     "output_type": "stream",
     "text": [
      "           Date                         Location\n",
      "0    2008-07-10              Northern California\n",
      "1    2014-06-30              Southern California\n",
      "2    2014-07-01                         Virginia\n",
      "3    2014-07-02            Island of Puerto Rico\n",
      "4    2014-06-09                          Alberta\n",
      "..          ...                              ...\n",
      "281  2009-03-08                            Texas\n",
      "282  2008-11-11                          Alberta\n",
      "283  2008-11-07                         Michigan\n",
      "284  2008-09-22  Northern and Central California\n",
      "285  2008-08-16                         New York\n",
      "\n",
      "[286 rows x 2 columns]\n"
     ]
    }
   ],
   "source": [
    "import numpy as np\n",
    "# Assuming you have all_locations and all_dates defined\n",
    "\n",
    "# Randomly select a location for each date\n",
    "selected_locations = [np.random.choice(all_locations) for _ in range(len(all_dates))]\n",
    "\n",
    "# Create a DataFrame with 200 rows (dates) and a single column for the selected locations\n",
    "random_table = pd.DataFrame({'Date': all_dates, 'Location': selected_locations})\n",
    "\n"
   ]
  },
  {
   "cell_type": "code",
   "execution_count": 26,
   "id": "422baeb3",
   "metadata": {},
   "outputs": [
    {
     "data": {
      "text/html": [
       "<div>\n",
       "<style scoped>\n",
       "    .dataframe tbody tr th:only-of-type {\n",
       "        vertical-align: middle;\n",
       "    }\n",
       "\n",
       "    .dataframe tbody tr th {\n",
       "        vertical-align: top;\n",
       "    }\n",
       "\n",
       "    .dataframe thead th {\n",
       "        text-align: right;\n",
       "    }\n",
       "</style>\n",
       "<table border=\"1\" class=\"dataframe\">\n",
       "  <thead>\n",
       "    <tr style=\"text-align: right;\">\n",
       "      <th></th>\n",
       "      <th>Date</th>\n",
       "      <th>Location</th>\n",
       "    </tr>\n",
       "  </thead>\n",
       "  <tbody>\n",
       "    <tr>\n",
       "      <th>0</th>\n",
       "      <td>2008-07-10</td>\n",
       "      <td>Northern California</td>\n",
       "    </tr>\n",
       "    <tr>\n",
       "      <th>1</th>\n",
       "      <td>2014-06-30</td>\n",
       "      <td>Southern California</td>\n",
       "    </tr>\n",
       "    <tr>\n",
       "      <th>2</th>\n",
       "      <td>2014-07-01</td>\n",
       "      <td>Virginia</td>\n",
       "    </tr>\n",
       "    <tr>\n",
       "      <th>3</th>\n",
       "      <td>2014-07-02</td>\n",
       "      <td>Island of Puerto Rico</td>\n",
       "    </tr>\n",
       "    <tr>\n",
       "      <th>4</th>\n",
       "      <td>2014-06-09</td>\n",
       "      <td>Alberta</td>\n",
       "    </tr>\n",
       "    <tr>\n",
       "      <th>...</th>\n",
       "      <td>...</td>\n",
       "      <td>...</td>\n",
       "    </tr>\n",
       "    <tr>\n",
       "      <th>281</th>\n",
       "      <td>2009-03-08</td>\n",
       "      <td>Texas</td>\n",
       "    </tr>\n",
       "    <tr>\n",
       "      <th>282</th>\n",
       "      <td>2008-11-11</td>\n",
       "      <td>Alberta</td>\n",
       "    </tr>\n",
       "    <tr>\n",
       "      <th>283</th>\n",
       "      <td>2008-11-07</td>\n",
       "      <td>Michigan</td>\n",
       "    </tr>\n",
       "    <tr>\n",
       "      <th>284</th>\n",
       "      <td>2008-09-22</td>\n",
       "      <td>Northern and Central California</td>\n",
       "    </tr>\n",
       "    <tr>\n",
       "      <th>285</th>\n",
       "      <td>2008-08-16</td>\n",
       "      <td>New York</td>\n",
       "    </tr>\n",
       "  </tbody>\n",
       "</table>\n",
       "<p>286 rows × 2 columns</p>\n",
       "</div>"
      ],
      "text/plain": [
       "           Date                         Location\n",
       "0    2008-07-10              Northern California\n",
       "1    2014-06-30              Southern California\n",
       "2    2014-07-01                         Virginia\n",
       "3    2014-07-02            Island of Puerto Rico\n",
       "4    2014-06-09                          Alberta\n",
       "..          ...                              ...\n",
       "281  2009-03-08                            Texas\n",
       "282  2008-11-11                          Alberta\n",
       "283  2008-11-07                         Michigan\n",
       "284  2008-09-22  Northern and Central California\n",
       "285  2008-08-16                         New York\n",
       "\n",
       "[286 rows x 2 columns]"
      ]
     },
     "execution_count": 26,
     "metadata": {},
     "output_type": "execute_result"
    }
   ],
   "source": [
    "random_table"
   ]
  },
  {
   "cell_type": "code",
   "execution_count": 39,
   "id": "e9b90ad9",
   "metadata": {},
   "outputs": [],
   "source": [
    "api_key = '07197fcd9b464a3ca62233857241702'\n",
    "# process_weather_data(api_key, random_table)"
   ]
  },
  {
   "cell_type": "code",
   "execution_count": 45,
   "id": "de6d1968",
   "metadata": {},
   "outputs": [
    {
     "name": "stdout",
     "output_type": "stream",
     "text": [
      "0\n",
      "Northern%20California\n",
      "\n",
      "\n",
      "Retrieving weather data for Northern%20California\n",
      "\n",
      "\n",
      "Currently retrieving data for Northern%20California: from 2008-07-10 to 2008-07-10\n"
     ]
    },
    {
     "name": "stderr",
     "output_type": "stream",
     "text": [
      "C:\\Users\\Heliiix\\anaconda3\\Lib\\site-packages\\wwo_hist\\__init__.py:69: FutureWarning: Argument `closed` is deprecated in favor of `inclusive`.\n",
      "  list_mon_begin = pd.date_range(start_date, end_date, freq='MS', closed='right')\n",
      "C:\\Users\\Heliiix\\anaconda3\\Lib\\site-packages\\wwo_hist\\__init__.py:74: FutureWarning: Argument `closed` is deprecated in favor of `inclusive`.\n",
      "  list_mon_end = pd.date_range(start_date, end_date, freq='M', closed='left')\n"
     ]
    },
    {
     "name": "stdout",
     "output_type": "stream",
     "text": [
      "Time elapsed (hh:mm:ss.ms) 0:00:00.566024\n",
      "\n",
      "\n",
      "export Northern%20California completed!\n",
      "\n",
      "\n",
      "1\n",
      "Southern%20California\n",
      "\n",
      "\n",
      "Retrieving weather data for Southern%20California\n",
      "\n",
      "\n",
      "Currently retrieving data for Southern%20California: from 2014-06-30 to 2014-06-30\n"
     ]
    },
    {
     "name": "stderr",
     "output_type": "stream",
     "text": [
      "C:\\Users\\Heliiix\\anaconda3\\Lib\\site-packages\\wwo_hist\\__init__.py:69: FutureWarning: Argument `closed` is deprecated in favor of `inclusive`.\n",
      "  list_mon_begin = pd.date_range(start_date, end_date, freq='MS', closed='right')\n",
      "C:\\Users\\Heliiix\\anaconda3\\Lib\\site-packages\\wwo_hist\\__init__.py:74: FutureWarning: Argument `closed` is deprecated in favor of `inclusive`.\n",
      "  list_mon_end = pd.date_range(start_date, end_date, freq='M', closed='left')\n"
     ]
    },
    {
     "name": "stdout",
     "output_type": "stream",
     "text": [
      "Time elapsed (hh:mm:ss.ms) 0:00:00.505905\n",
      "\n",
      "\n",
      "export Southern%20California completed!\n",
      "\n",
      "\n",
      "2\n",
      "Virginia\n",
      "\n",
      "\n",
      "Retrieving weather data for Virginia\n",
      "\n",
      "\n",
      "Currently retrieving data for Virginia: from 2014-07-01 to 2014-07-01\n"
     ]
    },
    {
     "name": "stderr",
     "output_type": "stream",
     "text": [
      "C:\\Users\\Heliiix\\anaconda3\\Lib\\site-packages\\wwo_hist\\__init__.py:69: FutureWarning: Argument `closed` is deprecated in favor of `inclusive`.\n",
      "  list_mon_begin = pd.date_range(start_date, end_date, freq='MS', closed='right')\n",
      "C:\\Users\\Heliiix\\anaconda3\\Lib\\site-packages\\wwo_hist\\__init__.py:74: FutureWarning: Argument `closed` is deprecated in favor of `inclusive`.\n",
      "  list_mon_end = pd.date_range(start_date, end_date, freq='M', closed='left')\n"
     ]
    },
    {
     "name": "stdout",
     "output_type": "stream",
     "text": [
      "Time elapsed (hh:mm:ss.ms) 0:00:00.251259\n",
      "Error processing data for location: Virginia. Error: 1\n",
      "3\n",
      "Island%20of%20Puerto%20Rico\n",
      "\n",
      "\n",
      "Retrieving weather data for Island%20of%20Puerto%20Rico\n",
      "\n",
      "\n",
      "Currently retrieving data for Island%20of%20Puerto%20Rico: from 2014-07-02 to 2014-07-02\n"
     ]
    },
    {
     "name": "stderr",
     "output_type": "stream",
     "text": [
      "C:\\Users\\Heliiix\\anaconda3\\Lib\\site-packages\\wwo_hist\\__init__.py:69: FutureWarning: Argument `closed` is deprecated in favor of `inclusive`.\n",
      "  list_mon_begin = pd.date_range(start_date, end_date, freq='MS', closed='right')\n",
      "C:\\Users\\Heliiix\\anaconda3\\Lib\\site-packages\\wwo_hist\\__init__.py:74: FutureWarning: Argument `closed` is deprecated in favor of `inclusive`.\n",
      "  list_mon_end = pd.date_range(start_date, end_date, freq='M', closed='left')\n"
     ]
    },
    {
     "name": "stdout",
     "output_type": "stream",
     "text": [
      "Time elapsed (hh:mm:ss.ms) 0:00:00.326384\n",
      "\n",
      "\n",
      "export Island%20of%20Puerto%20Rico completed!\n",
      "\n",
      "\n",
      "4\n",
      "Alberta\n",
      "\n",
      "\n",
      "Retrieving weather data for Alberta\n",
      "\n",
      "\n",
      "Currently retrieving data for Alberta: from 2014-06-09 to 2014-06-09\n"
     ]
    },
    {
     "name": "stderr",
     "output_type": "stream",
     "text": [
      "C:\\Users\\Heliiix\\anaconda3\\Lib\\site-packages\\wwo_hist\\__init__.py:69: FutureWarning: Argument `closed` is deprecated in favor of `inclusive`.\n",
      "  list_mon_begin = pd.date_range(start_date, end_date, freq='MS', closed='right')\n",
      "C:\\Users\\Heliiix\\anaconda3\\Lib\\site-packages\\wwo_hist\\__init__.py:74: FutureWarning: Argument `closed` is deprecated in favor of `inclusive`.\n",
      "  list_mon_end = pd.date_range(start_date, end_date, freq='M', closed='left')\n"
     ]
    },
    {
     "name": "stdout",
     "output_type": "stream",
     "text": [
      "Time elapsed (hh:mm:ss.ms) 0:00:01.545857\n",
      "\n",
      "\n",
      "export Alberta completed!\n",
      "\n",
      "\n",
      "5\n",
      "Pennsylvania\n",
      "\n",
      "\n",
      "Retrieving weather data for Pennsylvania\n",
      "\n",
      "\n",
      "Currently retrieving data for Pennsylvania: from 2014-06-03 to 2014-06-03\n"
     ]
    },
    {
     "name": "stderr",
     "output_type": "stream",
     "text": [
      "C:\\Users\\Heliiix\\anaconda3\\Lib\\site-packages\\wwo_hist\\__init__.py:69: FutureWarning: Argument `closed` is deprecated in favor of `inclusive`.\n",
      "  list_mon_begin = pd.date_range(start_date, end_date, freq='MS', closed='right')\n",
      "C:\\Users\\Heliiix\\anaconda3\\Lib\\site-packages\\wwo_hist\\__init__.py:74: FutureWarning: Argument `closed` is deprecated in favor of `inclusive`.\n",
      "  list_mon_end = pd.date_range(start_date, end_date, freq='M', closed='left')\n"
     ]
    },
    {
     "name": "stdout",
     "output_type": "stream",
     "text": [
      "Time elapsed (hh:mm:ss.ms) 0:00:01.373866\n",
      "\n",
      "\n",
      "export Pennsylvania completed!\n",
      "\n",
      "\n",
      "6\n",
      "Pennsylvania\n",
      "\n",
      "\n",
      "Retrieving weather data for Pennsylvania\n",
      "\n",
      "\n",
      "Currently retrieving data for Pennsylvania: from 2014-05-23 to 2014-05-23\n"
     ]
    },
    {
     "name": "stderr",
     "output_type": "stream",
     "text": [
      "C:\\Users\\Heliiix\\anaconda3\\Lib\\site-packages\\wwo_hist\\__init__.py:69: FutureWarning: Argument `closed` is deprecated in favor of `inclusive`.\n",
      "  list_mon_begin = pd.date_range(start_date, end_date, freq='MS', closed='right')\n",
      "C:\\Users\\Heliiix\\anaconda3\\Lib\\site-packages\\wwo_hist\\__init__.py:74: FutureWarning: Argument `closed` is deprecated in favor of `inclusive`.\n",
      "  list_mon_end = pd.date_range(start_date, end_date, freq='M', closed='left')\n"
     ]
    },
    {
     "name": "stdout",
     "output_type": "stream",
     "text": [
      "Time elapsed (hh:mm:ss.ms) 0:00:00.290748\n",
      "\n",
      "\n",
      "export Pennsylvania completed!\n",
      "\n",
      "\n",
      "7\n",
      "Southeastern%20Michigan\n",
      "\n",
      "\n",
      "Retrieving weather data for Southeastern%20Michigan\n",
      "\n",
      "\n",
      "Currently retrieving data for Southeastern%20Michigan: from 2014-05-24 to 2014-05-24\n"
     ]
    },
    {
     "name": "stderr",
     "output_type": "stream",
     "text": [
      "C:\\Users\\Heliiix\\anaconda3\\Lib\\site-packages\\wwo_hist\\__init__.py:69: FutureWarning: Argument `closed` is deprecated in favor of `inclusive`.\n",
      "  list_mon_begin = pd.date_range(start_date, end_date, freq='MS', closed='right')\n",
      "C:\\Users\\Heliiix\\anaconda3\\Lib\\site-packages\\wwo_hist\\__init__.py:74: FutureWarning: Argument `closed` is deprecated in favor of `inclusive`.\n",
      "  list_mon_end = pd.date_range(start_date, end_date, freq='M', closed='left')\n"
     ]
    },
    {
     "name": "stdout",
     "output_type": "stream",
     "text": [
      "Time elapsed (hh:mm:ss.ms) 0:00:00.277466\n",
      "\n",
      "\n",
      "export Southeastern%20Michigan completed!\n",
      "\n",
      "\n",
      "8\n",
      "Southeastern%20Michigan\n",
      "\n",
      "\n",
      "Retrieving weather data for Southeastern%20Michigan\n",
      "\n",
      "\n",
      "Currently retrieving data for Southeastern%20Michigan: from 2014-05-25 to 2014-05-25\n"
     ]
    },
    {
     "name": "stderr",
     "output_type": "stream",
     "text": [
      "C:\\Users\\Heliiix\\anaconda3\\Lib\\site-packages\\wwo_hist\\__init__.py:69: FutureWarning: Argument `closed` is deprecated in favor of `inclusive`.\n",
      "  list_mon_begin = pd.date_range(start_date, end_date, freq='MS', closed='right')\n",
      "C:\\Users\\Heliiix\\anaconda3\\Lib\\site-packages\\wwo_hist\\__init__.py:74: FutureWarning: Argument `closed` is deprecated in favor of `inclusive`.\n",
      "  list_mon_end = pd.date_range(start_date, end_date, freq='M', closed='left')\n"
     ]
    },
    {
     "name": "stdout",
     "output_type": "stream",
     "text": [
      "Time elapsed (hh:mm:ss.ms) 0:00:00.542551\n",
      "\n",
      "\n",
      "export Southeastern%20Michigan completed!\n",
      "\n",
      "\n",
      "9\n",
      "Ohio\n",
      "\n",
      "\n",
      "Retrieving weather data for Ohio\n",
      "\n",
      "\n",
      "Currently retrieving data for Ohio: from 2014-04-24 to 2014-04-24\n"
     ]
    },
    {
     "name": "stderr",
     "output_type": "stream",
     "text": [
      "C:\\Users\\Heliiix\\anaconda3\\Lib\\site-packages\\wwo_hist\\__init__.py:69: FutureWarning: Argument `closed` is deprecated in favor of `inclusive`.\n",
      "  list_mon_begin = pd.date_range(start_date, end_date, freq='MS', closed='right')\n",
      "C:\\Users\\Heliiix\\anaconda3\\Lib\\site-packages\\wwo_hist\\__init__.py:74: FutureWarning: Argument `closed` is deprecated in favor of `inclusive`.\n",
      "  list_mon_end = pd.date_range(start_date, end_date, freq='M', closed='left')\n"
     ]
    },
    {
     "name": "stdout",
     "output_type": "stream",
     "text": [
      "Time elapsed (hh:mm:ss.ms) 0:00:00.262316\n",
      "\n",
      "\n",
      "export Ohio completed!\n",
      "\n",
      "\n",
      "10\n",
      "Northern%20Illinois\n",
      "\n",
      "\n",
      "Retrieving weather data for Northern%20Illinois\n",
      "\n",
      "\n",
      "Currently retrieving data for Northern%20Illinois: from 2014-04-12 to 2014-04-12\n"
     ]
    },
    {
     "name": "stderr",
     "output_type": "stream",
     "text": [
      "C:\\Users\\Heliiix\\anaconda3\\Lib\\site-packages\\wwo_hist\\__init__.py:69: FutureWarning: Argument `closed` is deprecated in favor of `inclusive`.\n",
      "  list_mon_begin = pd.date_range(start_date, end_date, freq='MS', closed='right')\n",
      "C:\\Users\\Heliiix\\anaconda3\\Lib\\site-packages\\wwo_hist\\__init__.py:74: FutureWarning: Argument `closed` is deprecated in favor of `inclusive`.\n",
      "  list_mon_end = pd.date_range(start_date, end_date, freq='M', closed='left')\n"
     ]
    },
    {
     "name": "stdout",
     "output_type": "stream",
     "text": [
      "Time elapsed (hh:mm:ss.ms) 0:00:00.291137\n",
      "\n",
      "\n",
      "export Northern%20Illinois completed!\n",
      "\n",
      "\n",
      "11\n",
      "Alberta\n",
      "\n",
      "\n",
      "Retrieving weather data for Alberta\n",
      "\n",
      "\n",
      "Currently retrieving data for Alberta: from 2014-04-13 to 2014-04-13\n"
     ]
    },
    {
     "name": "stderr",
     "output_type": "stream",
     "text": [
      "C:\\Users\\Heliiix\\anaconda3\\Lib\\site-packages\\wwo_hist\\__init__.py:69: FutureWarning: Argument `closed` is deprecated in favor of `inclusive`.\n",
      "  list_mon_begin = pd.date_range(start_date, end_date, freq='MS', closed='right')\n",
      "C:\\Users\\Heliiix\\anaconda3\\Lib\\site-packages\\wwo_hist\\__init__.py:74: FutureWarning: Argument `closed` is deprecated in favor of `inclusive`.\n",
      "  list_mon_end = pd.date_range(start_date, end_date, freq='M', closed='left')\n"
     ]
    },
    {
     "name": "stdout",
     "output_type": "stream",
     "text": [
      "Time elapsed (hh:mm:ss.ms) 0:00:00.269046\n",
      "\n",
      "\n",
      "export Alberta completed!\n",
      "\n",
      "\n",
      "12\n",
      "North%20Carolina\n",
      "\n",
      "\n",
      "Retrieving weather data for North%20Carolina\n",
      "\n",
      "\n",
      "Currently retrieving data for North%20Carolina: from 2014-04-14 to 2014-04-14\n"
     ]
    },
    {
     "name": "stderr",
     "output_type": "stream",
     "text": [
      "C:\\Users\\Heliiix\\anaconda3\\Lib\\site-packages\\wwo_hist\\__init__.py:69: FutureWarning: Argument `closed` is deprecated in favor of `inclusive`.\n",
      "  list_mon_begin = pd.date_range(start_date, end_date, freq='MS', closed='right')\n",
      "C:\\Users\\Heliiix\\anaconda3\\Lib\\site-packages\\wwo_hist\\__init__.py:74: FutureWarning: Argument `closed` is deprecated in favor of `inclusive`.\n",
      "  list_mon_end = pd.date_range(start_date, end_date, freq='M', closed='left')\n"
     ]
    },
    {
     "name": "stdout",
     "output_type": "stream",
     "text": [
      "Time elapsed (hh:mm:ss.ms) 0:00:00.318284\n",
      "\n",
      "\n",
      "export North%20Carolina completed!\n",
      "\n",
      "\n",
      "13\n",
      "Northern%20and%20Central%20California\n",
      "\n",
      "\n",
      "Retrieving weather data for Northern%20and%20Central%20California\n",
      "\n",
      "\n",
      "Currently retrieving data for Northern%20and%20Central%20California: from 2014-04-15 to 2014-04-15\n"
     ]
    },
    {
     "name": "stderr",
     "output_type": "stream",
     "text": [
      "C:\\Users\\Heliiix\\anaconda3\\Lib\\site-packages\\wwo_hist\\__init__.py:69: FutureWarning: Argument `closed` is deprecated in favor of `inclusive`.\n",
      "  list_mon_begin = pd.date_range(start_date, end_date, freq='MS', closed='right')\n",
      "C:\\Users\\Heliiix\\anaconda3\\Lib\\site-packages\\wwo_hist\\__init__.py:74: FutureWarning: Argument `closed` is deprecated in favor of `inclusive`.\n",
      "  list_mon_end = pd.date_range(start_date, end_date, freq='M', closed='left')\n"
     ]
    },
    {
     "name": "stdout",
     "output_type": "stream",
     "text": [
      "Time elapsed (hh:mm:ss.ms) 0:00:00.335755\n",
      "\n",
      "\n",
      "export Northern%20and%20Central%20California completed!\n",
      "\n",
      "\n",
      "14\n",
      "Southeastern%20Michigan\n",
      "\n",
      "\n",
      "Retrieving weather data for Southeastern%20Michigan\n",
      "\n",
      "\n",
      "Currently retrieving data for Southeastern%20Michigan: from 2014-03-20 to 2014-03-20\n"
     ]
    },
    {
     "name": "stderr",
     "output_type": "stream",
     "text": [
      "C:\\Users\\Heliiix\\anaconda3\\Lib\\site-packages\\wwo_hist\\__init__.py:69: FutureWarning: Argument `closed` is deprecated in favor of `inclusive`.\n",
      "  list_mon_begin = pd.date_range(start_date, end_date, freq='MS', closed='right')\n",
      "C:\\Users\\Heliiix\\anaconda3\\Lib\\site-packages\\wwo_hist\\__init__.py:74: FutureWarning: Argument `closed` is deprecated in favor of `inclusive`.\n",
      "  list_mon_end = pd.date_range(start_date, end_date, freq='M', closed='left')\n"
     ]
    },
    {
     "name": "stdout",
     "output_type": "stream",
     "text": [
      "Time elapsed (hh:mm:ss.ms) 0:00:00.276033\n",
      "\n",
      "\n",
      "export Southeastern%20Michigan completed!\n",
      "\n",
      "\n",
      "15\n",
      "Virginia\n",
      "\n",
      "\n",
      "Retrieving weather data for Virginia\n",
      "\n",
      "\n",
      "Currently retrieving data for Virginia: from 2014-03-12 to 2014-03-12\n"
     ]
    },
    {
     "name": "stderr",
     "output_type": "stream",
     "text": [
      "C:\\Users\\Heliiix\\anaconda3\\Lib\\site-packages\\wwo_hist\\__init__.py:69: FutureWarning: Argument `closed` is deprecated in favor of `inclusive`.\n",
      "  list_mon_begin = pd.date_range(start_date, end_date, freq='MS', closed='right')\n",
      "C:\\Users\\Heliiix\\anaconda3\\Lib\\site-packages\\wwo_hist\\__init__.py:74: FutureWarning: Argument `closed` is deprecated in favor of `inclusive`.\n",
      "  list_mon_end = pd.date_range(start_date, end_date, freq='M', closed='left')\n"
     ]
    },
    {
     "name": "stdout",
     "output_type": "stream",
     "text": [
      "Time elapsed (hh:mm:ss.ms) 0:00:00.329064\n",
      "\n",
      "\n",
      "export Virginia completed!\n",
      "\n",
      "\n",
      "16\n",
      "Virginia\n",
      "\n",
      "\n",
      "Retrieving weather data for Virginia\n",
      "\n",
      "\n",
      "Currently retrieving data for Virginia: from 2014-03-13 to 2014-03-13\n"
     ]
    },
    {
     "name": "stderr",
     "output_type": "stream",
     "text": [
      "C:\\Users\\Heliiix\\anaconda3\\Lib\\site-packages\\wwo_hist\\__init__.py:69: FutureWarning: Argument `closed` is deprecated in favor of `inclusive`.\n",
      "  list_mon_begin = pd.date_range(start_date, end_date, freq='MS', closed='right')\n",
      "C:\\Users\\Heliiix\\anaconda3\\Lib\\site-packages\\wwo_hist\\__init__.py:74: FutureWarning: Argument `closed` is deprecated in favor of `inclusive`.\n",
      "  list_mon_end = pd.date_range(start_date, end_date, freq='M', closed='left')\n"
     ]
    },
    {
     "name": "stdout",
     "output_type": "stream",
     "text": [
      "Time elapsed (hh:mm:ss.ms) 0:00:00.265113\n",
      "\n",
      "\n",
      "export Virginia completed!\n",
      "\n",
      "\n",
      "17\n",
      "Pennsylvania\n",
      "\n",
      "\n",
      "Retrieving weather data for Pennsylvania\n",
      "\n",
      "\n",
      "Currently retrieving data for Pennsylvania: from 2014-03-03 to 2014-03-03\n"
     ]
    },
    {
     "name": "stderr",
     "output_type": "stream",
     "text": [
      "C:\\Users\\Heliiix\\anaconda3\\Lib\\site-packages\\wwo_hist\\__init__.py:69: FutureWarning: Argument `closed` is deprecated in favor of `inclusive`.\n",
      "  list_mon_begin = pd.date_range(start_date, end_date, freq='MS', closed='right')\n",
      "C:\\Users\\Heliiix\\anaconda3\\Lib\\site-packages\\wwo_hist\\__init__.py:74: FutureWarning: Argument `closed` is deprecated in favor of `inclusive`.\n",
      "  list_mon_end = pd.date_range(start_date, end_date, freq='M', closed='left')\n"
     ]
    },
    {
     "name": "stdout",
     "output_type": "stream",
     "text": [
      "Time elapsed (hh:mm:ss.ms) 0:00:00.296770\n",
      "\n",
      "\n",
      "export Pennsylvania completed!\n",
      "\n",
      "\n",
      "18\n",
      "Georgia\n",
      "\n",
      "\n",
      "Retrieving weather data for Georgia\n",
      "\n",
      "\n",
      "Currently retrieving data for Georgia: from 2014-02-12 to 2014-02-12\n"
     ]
    },
    {
     "name": "stderr",
     "output_type": "stream",
     "text": [
      "C:\\Users\\Heliiix\\anaconda3\\Lib\\site-packages\\wwo_hist\\__init__.py:69: FutureWarning: Argument `closed` is deprecated in favor of `inclusive`.\n",
      "  list_mon_begin = pd.date_range(start_date, end_date, freq='MS', closed='right')\n",
      "C:\\Users\\Heliiix\\anaconda3\\Lib\\site-packages\\wwo_hist\\__init__.py:74: FutureWarning: Argument `closed` is deprecated in favor of `inclusive`.\n",
      "  list_mon_end = pd.date_range(start_date, end_date, freq='M', closed='left')\n"
     ]
    },
    {
     "name": "stdout",
     "output_type": "stream",
     "text": [
      "Time elapsed (hh:mm:ss.ms) 0:00:00.254510\n",
      "\n",
      "\n",
      "export Georgia completed!\n",
      "\n",
      "\n",
      "19\n",
      "Texas\n",
      "\n",
      "\n",
      "Retrieving weather data for Texas\n",
      "\n",
      "\n",
      "Currently retrieving data for Texas: from 2014-02-13 to 2014-02-13\n"
     ]
    },
    {
     "name": "stderr",
     "output_type": "stream",
     "text": [
      "C:\\Users\\Heliiix\\anaconda3\\Lib\\site-packages\\wwo_hist\\__init__.py:69: FutureWarning: Argument `closed` is deprecated in favor of `inclusive`.\n",
      "  list_mon_begin = pd.date_range(start_date, end_date, freq='MS', closed='right')\n",
      "C:\\Users\\Heliiix\\anaconda3\\Lib\\site-packages\\wwo_hist\\__init__.py:74: FutureWarning: Argument `closed` is deprecated in favor of `inclusive`.\n",
      "  list_mon_end = pd.date_range(start_date, end_date, freq='M', closed='left')\n"
     ]
    },
    {
     "name": "stdout",
     "output_type": "stream",
     "text": [
      "Time elapsed (hh:mm:ss.ms) 0:00:01.503348\n",
      "\n",
      "\n",
      "export Texas completed!\n",
      "\n",
      "\n",
      "20\n",
      "Virginia\n",
      "\n",
      "\n",
      "Retrieving weather data for Virginia\n",
      "\n",
      "\n",
      "Currently retrieving data for Virginia: from 2014-02-14 to 2014-02-14\n"
     ]
    },
    {
     "name": "stderr",
     "output_type": "stream",
     "text": [
      "C:\\Users\\Heliiix\\anaconda3\\Lib\\site-packages\\wwo_hist\\__init__.py:69: FutureWarning: Argument `closed` is deprecated in favor of `inclusive`.\n",
      "  list_mon_begin = pd.date_range(start_date, end_date, freq='MS', closed='right')\n",
      "C:\\Users\\Heliiix\\anaconda3\\Lib\\site-packages\\wwo_hist\\__init__.py:74: FutureWarning: Argument `closed` is deprecated in favor of `inclusive`.\n",
      "  list_mon_end = pd.date_range(start_date, end_date, freq='M', closed='left')\n"
     ]
    },
    {
     "name": "stdout",
     "output_type": "stream",
     "text": [
      "Time elapsed (hh:mm:ss.ms) 0:00:01.283436\n",
      "\n",
      "\n",
      "export Virginia completed!\n",
      "\n",
      "\n",
      "21\n",
      "Alberta\n",
      "\n",
      "\n",
      "Retrieving weather data for Alberta\n",
      "\n",
      "\n",
      "Currently retrieving data for Alberta: from 2014-02-15 to 2014-02-15\n"
     ]
    },
    {
     "name": "stderr",
     "output_type": "stream",
     "text": [
      "C:\\Users\\Heliiix\\anaconda3\\Lib\\site-packages\\wwo_hist\\__init__.py:69: FutureWarning: Argument `closed` is deprecated in favor of `inclusive`.\n",
      "  list_mon_begin = pd.date_range(start_date, end_date, freq='MS', closed='right')\n",
      "C:\\Users\\Heliiix\\anaconda3\\Lib\\site-packages\\wwo_hist\\__init__.py:74: FutureWarning: Argument `closed` is deprecated in favor of `inclusive`.\n",
      "  list_mon_end = pd.date_range(start_date, end_date, freq='M', closed='left')\n"
     ]
    },
    {
     "name": "stdout",
     "output_type": "stream",
     "text": [
      "Time elapsed (hh:mm:ss.ms) 0:00:00.293556\n",
      "\n",
      "\n",
      "export Alberta completed!\n",
      "\n",
      "\n",
      "22\n",
      "Pennsylvania\n",
      "\n",
      "\n",
      "Retrieving weather data for Pennsylvania\n",
      "\n",
      "\n",
      "Currently retrieving data for Pennsylvania: from 2014-02-07 to 2014-02-07\n"
     ]
    },
    {
     "name": "stderr",
     "output_type": "stream",
     "text": [
      "C:\\Users\\Heliiix\\anaconda3\\Lib\\site-packages\\wwo_hist\\__init__.py:69: FutureWarning: Argument `closed` is deprecated in favor of `inclusive`.\n",
      "  list_mon_begin = pd.date_range(start_date, end_date, freq='MS', closed='right')\n",
      "C:\\Users\\Heliiix\\anaconda3\\Lib\\site-packages\\wwo_hist\\__init__.py:74: FutureWarning: Argument `closed` is deprecated in favor of `inclusive`.\n",
      "  list_mon_end = pd.date_range(start_date, end_date, freq='M', closed='left')\n"
     ]
    },
    {
     "name": "stdout",
     "output_type": "stream",
     "text": [
      "Time elapsed (hh:mm:ss.ms) 0:00:00.311449\n",
      "\n",
      "\n",
      "export Pennsylvania completed!\n",
      "\n",
      "\n",
      "23\n",
      "Northern%20Illinois\n",
      "\n",
      "\n",
      "Retrieving weather data for Northern%20Illinois\n",
      "\n",
      "\n",
      "Currently retrieving data for Northern%20Illinois: from 2014-02-06 to 2014-02-06\n"
     ]
    },
    {
     "name": "stderr",
     "output_type": "stream",
     "text": [
      "C:\\Users\\Heliiix\\anaconda3\\Lib\\site-packages\\wwo_hist\\__init__.py:69: FutureWarning: Argument `closed` is deprecated in favor of `inclusive`.\n",
      "  list_mon_begin = pd.date_range(start_date, end_date, freq='MS', closed='right')\n",
      "C:\\Users\\Heliiix\\anaconda3\\Lib\\site-packages\\wwo_hist\\__init__.py:74: FutureWarning: Argument `closed` is deprecated in favor of `inclusive`.\n",
      "  list_mon_end = pd.date_range(start_date, end_date, freq='M', closed='left')\n"
     ]
    },
    {
     "name": "stdout",
     "output_type": "stream",
     "text": [
      "Time elapsed (hh:mm:ss.ms) 0:00:00.398105\n",
      "\n",
      "\n",
      "export Northern%20Illinois completed!\n",
      "\n",
      "\n",
      "24\n",
      "Island%20of%20Puerto%20Rico\n",
      "\n",
      "\n",
      "Retrieving weather data for Island%20of%20Puerto%20Rico\n",
      "\n",
      "\n",
      "Currently retrieving data for Island%20of%20Puerto%20Rico: from 2014-02-05 to 2014-02-05\n"
     ]
    },
    {
     "name": "stderr",
     "output_type": "stream",
     "text": [
      "C:\\Users\\Heliiix\\anaconda3\\Lib\\site-packages\\wwo_hist\\__init__.py:69: FutureWarning: Argument `closed` is deprecated in favor of `inclusive`.\n",
      "  list_mon_begin = pd.date_range(start_date, end_date, freq='MS', closed='right')\n",
      "C:\\Users\\Heliiix\\anaconda3\\Lib\\site-packages\\wwo_hist\\__init__.py:74: FutureWarning: Argument `closed` is deprecated in favor of `inclusive`.\n",
      "  list_mon_end = pd.date_range(start_date, end_date, freq='M', closed='left')\n"
     ]
    },
    {
     "name": "stdout",
     "output_type": "stream",
     "text": [
      "Time elapsed (hh:mm:ss.ms) 0:00:00.670117\n",
      "\n",
      "\n",
      "export Island%20of%20Puerto%20Rico completed!\n",
      "\n",
      "\n",
      "25\n",
      "Pennsylvania\n",
      "\n",
      "\n",
      "Retrieving weather data for Pennsylvania\n",
      "\n",
      "\n",
      "Currently retrieving data for Pennsylvania: from 2014-02-08 to 2014-02-08\n"
     ]
    },
    {
     "name": "stderr",
     "output_type": "stream",
     "text": [
      "C:\\Users\\Heliiix\\anaconda3\\Lib\\site-packages\\wwo_hist\\__init__.py:69: FutureWarning: Argument `closed` is deprecated in favor of `inclusive`.\n",
      "  list_mon_begin = pd.date_range(start_date, end_date, freq='MS', closed='right')\n",
      "C:\\Users\\Heliiix\\anaconda3\\Lib\\site-packages\\wwo_hist\\__init__.py:74: FutureWarning: Argument `closed` is deprecated in favor of `inclusive`.\n",
      "  list_mon_end = pd.date_range(start_date, end_date, freq='M', closed='left')\n"
     ]
    },
    {
     "name": "stdout",
     "output_type": "stream",
     "text": [
      "Time elapsed (hh:mm:ss.ms) 0:00:00.321342\n",
      "\n",
      "\n",
      "export Pennsylvania completed!\n",
      "\n",
      "\n",
      "26\n",
      "Georgia\n",
      "\n",
      "\n",
      "Retrieving weather data for Georgia\n",
      "\n",
      "\n",
      "Currently retrieving data for Georgia: from 2014-02-09 to 2014-02-09\n"
     ]
    },
    {
     "name": "stderr",
     "output_type": "stream",
     "text": [
      "C:\\Users\\Heliiix\\anaconda3\\Lib\\site-packages\\wwo_hist\\__init__.py:69: FutureWarning: Argument `closed` is deprecated in favor of `inclusive`.\n",
      "  list_mon_begin = pd.date_range(start_date, end_date, freq='MS', closed='right')\n",
      "C:\\Users\\Heliiix\\anaconda3\\Lib\\site-packages\\wwo_hist\\__init__.py:74: FutureWarning: Argument `closed` is deprecated in favor of `inclusive`.\n",
      "  list_mon_end = pd.date_range(start_date, end_date, freq='M', closed='left')\n"
     ]
    },
    {
     "name": "stdout",
     "output_type": "stream",
     "text": [
      "Time elapsed (hh:mm:ss.ms) 0:00:00.269932\n",
      "\n",
      "\n",
      "export Georgia completed!\n",
      "\n",
      "\n",
      "27\n",
      "Texas\n",
      "\n",
      "\n",
      "Retrieving weather data for Texas\n",
      "\n",
      "\n",
      "Currently retrieving data for Texas: from 2014-02-10 to 2014-02-10\n"
     ]
    },
    {
     "name": "stderr",
     "output_type": "stream",
     "text": [
      "C:\\Users\\Heliiix\\anaconda3\\Lib\\site-packages\\wwo_hist\\__init__.py:69: FutureWarning: Argument `closed` is deprecated in favor of `inclusive`.\n",
      "  list_mon_begin = pd.date_range(start_date, end_date, freq='MS', closed='right')\n",
      "C:\\Users\\Heliiix\\anaconda3\\Lib\\site-packages\\wwo_hist\\__init__.py:74: FutureWarning: Argument `closed` is deprecated in favor of `inclusive`.\n",
      "  list_mon_end = pd.date_range(start_date, end_date, freq='M', closed='left')\n"
     ]
    },
    {
     "name": "stdout",
     "output_type": "stream",
     "text": [
      "Time elapsed (hh:mm:ss.ms) 0:00:00.262467\n",
      "\n",
      "\n",
      "export Texas completed!\n",
      "\n",
      "\n",
      "28\n",
      "Texas\n",
      "\n",
      "\n",
      "Retrieving weather data for Texas\n",
      "\n",
      "\n",
      "Currently retrieving data for Texas: from 2014-02-11 to 2014-02-11\n"
     ]
    },
    {
     "name": "stderr",
     "output_type": "stream",
     "text": [
      "C:\\Users\\Heliiix\\anaconda3\\Lib\\site-packages\\wwo_hist\\__init__.py:69: FutureWarning: Argument `closed` is deprecated in favor of `inclusive`.\n",
      "  list_mon_begin = pd.date_range(start_date, end_date, freq='MS', closed='right')\n",
      "C:\\Users\\Heliiix\\anaconda3\\Lib\\site-packages\\wwo_hist\\__init__.py:74: FutureWarning: Argument `closed` is deprecated in favor of `inclusive`.\n",
      "  list_mon_end = pd.date_range(start_date, end_date, freq='M', closed='left')\n"
     ]
    },
    {
     "name": "stdout",
     "output_type": "stream",
     "text": [
      "Time elapsed (hh:mm:ss.ms) 0:00:01.276811\n",
      "\n",
      "\n",
      "export Texas completed!\n",
      "\n",
      "\n",
      "29\n",
      "Northern%20California\n",
      "\n",
      "\n",
      "Retrieving weather data for Northern%20California\n",
      "\n",
      "\n",
      "Currently retrieving data for Northern%20California: from 2014-02-16 to 2014-02-16\n"
     ]
    },
    {
     "name": "stderr",
     "output_type": "stream",
     "text": [
      "C:\\Users\\Heliiix\\anaconda3\\Lib\\site-packages\\wwo_hist\\__init__.py:69: FutureWarning: Argument `closed` is deprecated in favor of `inclusive`.\n",
      "  list_mon_begin = pd.date_range(start_date, end_date, freq='MS', closed='right')\n",
      "C:\\Users\\Heliiix\\anaconda3\\Lib\\site-packages\\wwo_hist\\__init__.py:74: FutureWarning: Argument `closed` is deprecated in favor of `inclusive`.\n",
      "  list_mon_end = pd.date_range(start_date, end_date, freq='M', closed='left')\n"
     ]
    },
    {
     "name": "stdout",
     "output_type": "stream",
     "text": [
      "Time elapsed (hh:mm:ss.ms) 0:00:01.778883\n",
      "\n",
      "\n",
      "export Northern%20California completed!\n",
      "\n",
      "\n",
      "30\n",
      "Pennsylvania\n",
      "\n",
      "\n",
      "Retrieving weather data for Pennsylvania\n",
      "\n",
      "\n",
      "Currently retrieving data for Pennsylvania: from 2014-02-17 to 2014-02-17\n"
     ]
    },
    {
     "name": "stderr",
     "output_type": "stream",
     "text": [
      "C:\\Users\\Heliiix\\anaconda3\\Lib\\site-packages\\wwo_hist\\__init__.py:69: FutureWarning: Argument `closed` is deprecated in favor of `inclusive`.\n",
      "  list_mon_begin = pd.date_range(start_date, end_date, freq='MS', closed='right')\n",
      "C:\\Users\\Heliiix\\anaconda3\\Lib\\site-packages\\wwo_hist\\__init__.py:74: FutureWarning: Argument `closed` is deprecated in favor of `inclusive`.\n",
      "  list_mon_end = pd.date_range(start_date, end_date, freq='M', closed='left')\n"
     ]
    },
    {
     "name": "stdout",
     "output_type": "stream",
     "text": [
      "Time elapsed (hh:mm:ss.ms) 0:00:00.248557\n",
      "\n",
      "\n",
      "export Pennsylvania completed!\n",
      "\n",
      "\n",
      "31\n",
      "Illinois\n",
      "\n",
      "\n",
      "Retrieving weather data for Illinois\n",
      "\n",
      "\n",
      "Currently retrieving data for Illinois: from 2014-02-18 to 2014-02-18\n"
     ]
    },
    {
     "name": "stderr",
     "output_type": "stream",
     "text": [
      "C:\\Users\\Heliiix\\anaconda3\\Lib\\site-packages\\wwo_hist\\__init__.py:69: FutureWarning: Argument `closed` is deprecated in favor of `inclusive`.\n",
      "  list_mon_begin = pd.date_range(start_date, end_date, freq='MS', closed='right')\n",
      "C:\\Users\\Heliiix\\anaconda3\\Lib\\site-packages\\wwo_hist\\__init__.py:74: FutureWarning: Argument `closed` is deprecated in favor of `inclusive`.\n",
      "  list_mon_end = pd.date_range(start_date, end_date, freq='M', closed='left')\n"
     ]
    },
    {
     "name": "stdout",
     "output_type": "stream",
     "text": [
      "Time elapsed (hh:mm:ss.ms) 0:00:00.586204\n",
      "\n",
      "\n",
      "export Illinois completed!\n",
      "\n",
      "\n",
      "32\n",
      "Virginia\n",
      "\n",
      "\n",
      "Retrieving weather data for Virginia\n",
      "\n",
      "\n",
      "Currently retrieving data for Virginia: from 2014-02-19 to 2014-02-19\n"
     ]
    },
    {
     "name": "stderr",
     "output_type": "stream",
     "text": [
      "C:\\Users\\Heliiix\\anaconda3\\Lib\\site-packages\\wwo_hist\\__init__.py:69: FutureWarning: Argument `closed` is deprecated in favor of `inclusive`.\n",
      "  list_mon_begin = pd.date_range(start_date, end_date, freq='MS', closed='right')\n",
      "C:\\Users\\Heliiix\\anaconda3\\Lib\\site-packages\\wwo_hist\\__init__.py:74: FutureWarning: Argument `closed` is deprecated in favor of `inclusive`.\n",
      "  list_mon_end = pd.date_range(start_date, end_date, freq='M', closed='left')\n"
     ]
    },
    {
     "name": "stdout",
     "output_type": "stream",
     "text": [
      "Time elapsed (hh:mm:ss.ms) 0:00:00.256929\n",
      "\n",
      "\n",
      "export Virginia completed!\n",
      "\n",
      "\n",
      "33\n",
      "San%20Francisco%20Bay%20Area\n",
      "\n",
      "\n",
      "Retrieving weather data for San%20Francisco%20Bay%20Area\n",
      "\n",
      "\n",
      "Currently retrieving data for San%20Francisco%20Bay%20Area: from 2014-02-20 to 2014-02-20\n"
     ]
    },
    {
     "name": "stderr",
     "output_type": "stream",
     "text": [
      "C:\\Users\\Heliiix\\anaconda3\\Lib\\site-packages\\wwo_hist\\__init__.py:69: FutureWarning: Argument `closed` is deprecated in favor of `inclusive`.\n",
      "  list_mon_begin = pd.date_range(start_date, end_date, freq='MS', closed='right')\n",
      "C:\\Users\\Heliiix\\anaconda3\\Lib\\site-packages\\wwo_hist\\__init__.py:74: FutureWarning: Argument `closed` is deprecated in favor of `inclusive`.\n",
      "  list_mon_end = pd.date_range(start_date, end_date, freq='M', closed='left')\n"
     ]
    },
    {
     "name": "stdout",
     "output_type": "stream",
     "text": [
      "Time elapsed (hh:mm:ss.ms) 0:00:00.357354\n",
      "\n",
      "\n",
      "export San%20Francisco%20Bay%20Area completed!\n",
      "\n",
      "\n",
      "34\n",
      "Georgia\n",
      "\n",
      "\n",
      "Retrieving weather data for Georgia\n",
      "\n",
      "\n",
      "Currently retrieving data for Georgia: from 2014-02-21 to 2014-02-21\n"
     ]
    },
    {
     "name": "stderr",
     "output_type": "stream",
     "text": [
      "C:\\Users\\Heliiix\\anaconda3\\Lib\\site-packages\\wwo_hist\\__init__.py:69: FutureWarning: Argument `closed` is deprecated in favor of `inclusive`.\n",
      "  list_mon_begin = pd.date_range(start_date, end_date, freq='MS', closed='right')\n",
      "C:\\Users\\Heliiix\\anaconda3\\Lib\\site-packages\\wwo_hist\\__init__.py:74: FutureWarning: Argument `closed` is deprecated in favor of `inclusive`.\n",
      "  list_mon_end = pd.date_range(start_date, end_date, freq='M', closed='left')\n"
     ]
    },
    {
     "name": "stdout",
     "output_type": "stream",
     "text": [
      "Time elapsed (hh:mm:ss.ms) 0:00:00.262430\n",
      "\n",
      "\n",
      "export Georgia completed!\n",
      "\n",
      "\n",
      "35\n",
      "New%20York\n",
      "\n",
      "\n",
      "Retrieving weather data for New%20York\n",
      "\n",
      "\n",
      "Currently retrieving data for New%20York: from 2014-02-22 to 2014-02-22\n"
     ]
    },
    {
     "name": "stderr",
     "output_type": "stream",
     "text": [
      "C:\\Users\\Heliiix\\anaconda3\\Lib\\site-packages\\wwo_hist\\__init__.py:69: FutureWarning: Argument `closed` is deprecated in favor of `inclusive`.\n",
      "  list_mon_begin = pd.date_range(start_date, end_date, freq='MS', closed='right')\n",
      "C:\\Users\\Heliiix\\anaconda3\\Lib\\site-packages\\wwo_hist\\__init__.py:74: FutureWarning: Argument `closed` is deprecated in favor of `inclusive`.\n",
      "  list_mon_end = pd.date_range(start_date, end_date, freq='M', closed='left')\n"
     ]
    },
    {
     "name": "stdout",
     "output_type": "stream",
     "text": [
      "Time elapsed (hh:mm:ss.ms) 0:00:01.280340\n",
      "\n",
      "\n",
      "export New%20York completed!\n",
      "\n",
      "\n",
      "36\n",
      "New%20York\n",
      "\n",
      "\n",
      "Retrieving weather data for New%20York\n",
      "\n",
      "\n",
      "Currently retrieving data for New%20York: from 2014-02-23 to 2014-02-23\n"
     ]
    },
    {
     "name": "stderr",
     "output_type": "stream",
     "text": [
      "C:\\Users\\Heliiix\\anaconda3\\Lib\\site-packages\\wwo_hist\\__init__.py:69: FutureWarning: Argument `closed` is deprecated in favor of `inclusive`.\n",
      "  list_mon_begin = pd.date_range(start_date, end_date, freq='MS', closed='right')\n",
      "C:\\Users\\Heliiix\\anaconda3\\Lib\\site-packages\\wwo_hist\\__init__.py:74: FutureWarning: Argument `closed` is deprecated in favor of `inclusive`.\n",
      "  list_mon_end = pd.date_range(start_date, end_date, freq='M', closed='left')\n"
     ]
    },
    {
     "name": "stdout",
     "output_type": "stream",
     "text": [
      "Time elapsed (hh:mm:ss.ms) 0:00:00.282179\n",
      "\n",
      "\n",
      "export New%20York completed!\n",
      "\n",
      "\n",
      "37\n",
      "Newark\n",
      "\n",
      "\n",
      "Retrieving weather data for Newark\n",
      "\n",
      "\n",
      "Currently retrieving data for Newark: from 2014-01-22 to 2014-01-22\n"
     ]
    },
    {
     "name": "stderr",
     "output_type": "stream",
     "text": [
      "C:\\Users\\Heliiix\\anaconda3\\Lib\\site-packages\\wwo_hist\\__init__.py:69: FutureWarning: Argument `closed` is deprecated in favor of `inclusive`.\n",
      "  list_mon_begin = pd.date_range(start_date, end_date, freq='MS', closed='right')\n",
      "C:\\Users\\Heliiix\\anaconda3\\Lib\\site-packages\\wwo_hist\\__init__.py:74: FutureWarning: Argument `closed` is deprecated in favor of `inclusive`.\n",
      "  list_mon_end = pd.date_range(start_date, end_date, freq='M', closed='left')\n"
     ]
    },
    {
     "name": "stdout",
     "output_type": "stream",
     "text": [
      "Time elapsed (hh:mm:ss.ms) 0:00:00.283045\n",
      "\n",
      "\n",
      "export Newark completed!\n",
      "\n",
      "\n",
      "38\n",
      "Tacoma\n",
      "\n",
      "\n",
      "Retrieving weather data for Tacoma\n",
      "\n",
      "\n",
      "Currently retrieving data for Tacoma: from 2014-01-18 to 2014-01-18\n"
     ]
    },
    {
     "name": "stderr",
     "output_type": "stream",
     "text": [
      "C:\\Users\\Heliiix\\anaconda3\\Lib\\site-packages\\wwo_hist\\__init__.py:69: FutureWarning: Argument `closed` is deprecated in favor of `inclusive`.\n",
      "  list_mon_begin = pd.date_range(start_date, end_date, freq='MS', closed='right')\n",
      "C:\\Users\\Heliiix\\anaconda3\\Lib\\site-packages\\wwo_hist\\__init__.py:74: FutureWarning: Argument `closed` is deprecated in favor of `inclusive`.\n",
      "  list_mon_end = pd.date_range(start_date, end_date, freq='M', closed='left')\n"
     ]
    },
    {
     "name": "stdout",
     "output_type": "stream",
     "text": [
      "Time elapsed (hh:mm:ss.ms) 0:00:00.314581\n",
      "\n",
      "\n",
      "export Tacoma completed!\n",
      "\n",
      "\n",
      "39\n",
      "Island%20of%20Puerto%20Rico\n",
      "\n",
      "\n",
      "Retrieving weather data for Island%20of%20Puerto%20Rico\n",
      "\n",
      "\n",
      "Currently retrieving data for Island%20of%20Puerto%20Rico: from 2014-01-17 to 2014-01-17\n"
     ]
    },
    {
     "name": "stderr",
     "output_type": "stream",
     "text": [
      "C:\\Users\\Heliiix\\anaconda3\\Lib\\site-packages\\wwo_hist\\__init__.py:69: FutureWarning: Argument `closed` is deprecated in favor of `inclusive`.\n",
      "  list_mon_begin = pd.date_range(start_date, end_date, freq='MS', closed='right')\n",
      "C:\\Users\\Heliiix\\anaconda3\\Lib\\site-packages\\wwo_hist\\__init__.py:74: FutureWarning: Argument `closed` is deprecated in favor of `inclusive`.\n",
      "  list_mon_end = pd.date_range(start_date, end_date, freq='M', closed='left')\n"
     ]
    },
    {
     "name": "stdout",
     "output_type": "stream",
     "text": [
      "Time elapsed (hh:mm:ss.ms) 0:00:00.564672\n",
      "\n",
      "\n",
      "export Island%20of%20Puerto%20Rico completed!\n",
      "\n",
      "\n",
      "40\n",
      "Northern%20and%20Central%20California\n",
      "\n",
      "\n",
      "Retrieving weather data for Northern%20and%20Central%20California\n",
      "\n",
      "\n",
      "Currently retrieving data for Northern%20and%20Central%20California: from 2014-01-07 to 2014-01-07\n"
     ]
    },
    {
     "name": "stderr",
     "output_type": "stream",
     "text": [
      "C:\\Users\\Heliiix\\anaconda3\\Lib\\site-packages\\wwo_hist\\__init__.py:69: FutureWarning: Argument `closed` is deprecated in favor of `inclusive`.\n",
      "  list_mon_begin = pd.date_range(start_date, end_date, freq='MS', closed='right')\n",
      "C:\\Users\\Heliiix\\anaconda3\\Lib\\site-packages\\wwo_hist\\__init__.py:74: FutureWarning: Argument `closed` is deprecated in favor of `inclusive`.\n",
      "  list_mon_end = pd.date_range(start_date, end_date, freq='M', closed='left')\n"
     ]
    },
    {
     "name": "stdout",
     "output_type": "stream",
     "text": [
      "Time elapsed (hh:mm:ss.ms) 0:00:00.287367\n",
      "\n",
      "\n",
      "export Northern%20and%20Central%20California completed!\n",
      "\n",
      "\n",
      "41\n",
      "Michigan\n",
      "\n",
      "\n",
      "Retrieving weather data for Michigan\n",
      "\n",
      "\n",
      "Currently retrieving data for Michigan: from 2014-01-08 to 2014-01-08\n"
     ]
    },
    {
     "name": "stderr",
     "output_type": "stream",
     "text": [
      "C:\\Users\\Heliiix\\anaconda3\\Lib\\site-packages\\wwo_hist\\__init__.py:69: FutureWarning: Argument `closed` is deprecated in favor of `inclusive`.\n",
      "  list_mon_begin = pd.date_range(start_date, end_date, freq='MS', closed='right')\n",
      "C:\\Users\\Heliiix\\anaconda3\\Lib\\site-packages\\wwo_hist\\__init__.py:74: FutureWarning: Argument `closed` is deprecated in favor of `inclusive`.\n",
      "  list_mon_end = pd.date_range(start_date, end_date, freq='M', closed='left')\n"
     ]
    },
    {
     "name": "stdout",
     "output_type": "stream",
     "text": [
      "Time elapsed (hh:mm:ss.ms) 0:00:00.262256\n",
      "\n",
      "\n",
      "export Michigan completed!\n",
      "\n",
      "\n",
      "42\n",
      "Texas\n",
      "\n",
      "\n",
      "Retrieving weather data for Texas\n",
      "\n",
      "\n",
      "Currently retrieving data for Texas: from 2014-01-09 to 2014-01-09\n"
     ]
    },
    {
     "name": "stderr",
     "output_type": "stream",
     "text": [
      "C:\\Users\\Heliiix\\anaconda3\\Lib\\site-packages\\wwo_hist\\__init__.py:69: FutureWarning: Argument `closed` is deprecated in favor of `inclusive`.\n",
      "  list_mon_begin = pd.date_range(start_date, end_date, freq='MS', closed='right')\n",
      "C:\\Users\\Heliiix\\anaconda3\\Lib\\site-packages\\wwo_hist\\__init__.py:74: FutureWarning: Argument `closed` is deprecated in favor of `inclusive`.\n",
      "  list_mon_end = pd.date_range(start_date, end_date, freq='M', closed='left')\n"
     ]
    },
    {
     "name": "stdout",
     "output_type": "stream",
     "text": [
      "Time elapsed (hh:mm:ss.ms) 0:00:00.259912\n",
      "\n",
      "\n",
      "export Texas completed!\n",
      "\n",
      "\n",
      "43\n",
      "Georgia\n",
      "\n",
      "\n",
      "Retrieving weather data for Georgia\n",
      "\n",
      "\n",
      "Currently retrieving data for Georgia: from 2014-01-06 to 2014-01-06\n"
     ]
    },
    {
     "name": "stderr",
     "output_type": "stream",
     "text": [
      "C:\\Users\\Heliiix\\anaconda3\\Lib\\site-packages\\wwo_hist\\__init__.py:69: FutureWarning: Argument `closed` is deprecated in favor of `inclusive`.\n",
      "  list_mon_begin = pd.date_range(start_date, end_date, freq='MS', closed='right')\n",
      "C:\\Users\\Heliiix\\anaconda3\\Lib\\site-packages\\wwo_hist\\__init__.py:74: FutureWarning: Argument `closed` is deprecated in favor of `inclusive`.\n",
      "  list_mon_end = pd.date_range(start_date, end_date, freq='M', closed='left')\n"
     ]
    },
    {
     "name": "stdout",
     "output_type": "stream",
     "text": [
      "Time elapsed (hh:mm:ss.ms) 0:00:00.258593\n",
      "\n",
      "\n",
      "export Georgia completed!\n",
      "\n",
      "\n",
      "44\n",
      "Georgia\n",
      "\n",
      "\n",
      "Retrieving weather data for Georgia\n",
      "\n",
      "\n",
      "Currently retrieving data for Georgia: from 2013-12-22 to 2013-12-22\n"
     ]
    },
    {
     "name": "stderr",
     "output_type": "stream",
     "text": [
      "C:\\Users\\Heliiix\\anaconda3\\Lib\\site-packages\\wwo_hist\\__init__.py:69: FutureWarning: Argument `closed` is deprecated in favor of `inclusive`.\n",
      "  list_mon_begin = pd.date_range(start_date, end_date, freq='MS', closed='right')\n",
      "C:\\Users\\Heliiix\\anaconda3\\Lib\\site-packages\\wwo_hist\\__init__.py:74: FutureWarning: Argument `closed` is deprecated in favor of `inclusive`.\n",
      "  list_mon_end = pd.date_range(start_date, end_date, freq='M', closed='left')\n"
     ]
    },
    {
     "name": "stdout",
     "output_type": "stream",
     "text": [
      "Time elapsed (hh:mm:ss.ms) 0:00:01.475973\n",
      "\n",
      "\n",
      "export Georgia completed!\n",
      "\n",
      "\n",
      "45\n",
      "Pennsylvania\n",
      "\n",
      "\n",
      "Retrieving weather data for Pennsylvania\n",
      "\n",
      "\n",
      "Currently retrieving data for Pennsylvania: from 2013-12-23 to 2013-12-23\n"
     ]
    },
    {
     "name": "stderr",
     "output_type": "stream",
     "text": [
      "C:\\Users\\Heliiix\\anaconda3\\Lib\\site-packages\\wwo_hist\\__init__.py:69: FutureWarning: Argument `closed` is deprecated in favor of `inclusive`.\n",
      "  list_mon_begin = pd.date_range(start_date, end_date, freq='MS', closed='right')\n",
      "C:\\Users\\Heliiix\\anaconda3\\Lib\\site-packages\\wwo_hist\\__init__.py:74: FutureWarning: Argument `closed` is deprecated in favor of `inclusive`.\n",
      "  list_mon_end = pd.date_range(start_date, end_date, freq='M', closed='left')\n"
     ]
    },
    {
     "name": "stdout",
     "output_type": "stream",
     "text": [
      "Time elapsed (hh:mm:ss.ms) 0:00:00.242739\n",
      "\n",
      "\n",
      "export Pennsylvania completed!\n",
      "\n",
      "\n",
      "46\n",
      "Virginia\n",
      "\n",
      "\n",
      "Retrieving weather data for Virginia\n",
      "\n",
      "\n",
      "Currently retrieving data for Virginia: from 2013-12-24 to 2013-12-24\n"
     ]
    },
    {
     "name": "stderr",
     "output_type": "stream",
     "text": [
      "C:\\Users\\Heliiix\\anaconda3\\Lib\\site-packages\\wwo_hist\\__init__.py:69: FutureWarning: Argument `closed` is deprecated in favor of `inclusive`.\n",
      "  list_mon_begin = pd.date_range(start_date, end_date, freq='MS', closed='right')\n",
      "C:\\Users\\Heliiix\\anaconda3\\Lib\\site-packages\\wwo_hist\\__init__.py:74: FutureWarning: Argument `closed` is deprecated in favor of `inclusive`.\n",
      "  list_mon_end = pd.date_range(start_date, end_date, freq='M', closed='left')\n"
     ]
    },
    {
     "name": "stdout",
     "output_type": "stream",
     "text": [
      "Time elapsed (hh:mm:ss.ms) 0:00:00.246368\n",
      "\n",
      "\n",
      "export Virginia completed!\n",
      "\n",
      "\n",
      "47\n",
      "Illinois\n",
      "\n",
      "\n",
      "Retrieving weather data for Illinois\n",
      "\n",
      "\n",
      "Currently retrieving data for Illinois: from 2013-12-25 to 2013-12-25\n"
     ]
    },
    {
     "name": "stderr",
     "output_type": "stream",
     "text": [
      "C:\\Users\\Heliiix\\anaconda3\\Lib\\site-packages\\wwo_hist\\__init__.py:69: FutureWarning: Argument `closed` is deprecated in favor of `inclusive`.\n",
      "  list_mon_begin = pd.date_range(start_date, end_date, freq='MS', closed='right')\n",
      "C:\\Users\\Heliiix\\anaconda3\\Lib\\site-packages\\wwo_hist\\__init__.py:74: FutureWarning: Argument `closed` is deprecated in favor of `inclusive`.\n",
      "  list_mon_end = pd.date_range(start_date, end_date, freq='M', closed='left')\n"
     ]
    },
    {
     "name": "stdout",
     "output_type": "stream",
     "text": [
      "Time elapsed (hh:mm:ss.ms) 0:00:00.252748\n",
      "\n",
      "\n",
      "export Illinois completed!\n",
      "\n",
      "\n",
      "48\n",
      "Northern%20Illinois\n",
      "\n",
      "\n",
      "Retrieving weather data for Northern%20Illinois\n",
      "\n",
      "\n",
      "Currently retrieving data for Northern%20Illinois: from 2013-12-13 to 2013-12-13\n"
     ]
    },
    {
     "name": "stderr",
     "output_type": "stream",
     "text": [
      "C:\\Users\\Heliiix\\anaconda3\\Lib\\site-packages\\wwo_hist\\__init__.py:69: FutureWarning: Argument `closed` is deprecated in favor of `inclusive`.\n",
      "  list_mon_begin = pd.date_range(start_date, end_date, freq='MS', closed='right')\n",
      "C:\\Users\\Heliiix\\anaconda3\\Lib\\site-packages\\wwo_hist\\__init__.py:74: FutureWarning: Argument `closed` is deprecated in favor of `inclusive`.\n",
      "  list_mon_end = pd.date_range(start_date, end_date, freq='M', closed='left')\n"
     ]
    },
    {
     "name": "stdout",
     "output_type": "stream",
     "text": [
      "Time elapsed (hh:mm:ss.ms) 0:00:00.272477\n",
      "\n",
      "\n",
      "export Northern%20Illinois completed!\n",
      "\n",
      "\n",
      "49\n",
      "Newark\n",
      "\n",
      "\n",
      "Retrieving weather data for Newark\n",
      "\n",
      "\n",
      "Currently retrieving data for Newark: from 2013-12-14 to 2013-12-14\n"
     ]
    },
    {
     "name": "stderr",
     "output_type": "stream",
     "text": [
      "C:\\Users\\Heliiix\\anaconda3\\Lib\\site-packages\\wwo_hist\\__init__.py:69: FutureWarning: Argument `closed` is deprecated in favor of `inclusive`.\n",
      "  list_mon_begin = pd.date_range(start_date, end_date, freq='MS', closed='right')\n",
      "C:\\Users\\Heliiix\\anaconda3\\Lib\\site-packages\\wwo_hist\\__init__.py:74: FutureWarning: Argument `closed` is deprecated in favor of `inclusive`.\n",
      "  list_mon_end = pd.date_range(start_date, end_date, freq='M', closed='left')\n"
     ]
    },
    {
     "name": "stdout",
     "output_type": "stream",
     "text": [
      "Time elapsed (hh:mm:ss.ms) 0:00:01.297917\n",
      "\n",
      "\n",
      "export Newark completed!\n",
      "\n",
      "\n",
      "50\n",
      "Tacoma\n",
      "\n",
      "\n",
      "Retrieving weather data for Tacoma\n",
      "\n",
      "\n",
      "Currently retrieving data for Tacoma: from 2013-12-15 to 2013-12-15\n"
     ]
    },
    {
     "name": "stderr",
     "output_type": "stream",
     "text": [
      "C:\\Users\\Heliiix\\anaconda3\\Lib\\site-packages\\wwo_hist\\__init__.py:69: FutureWarning: Argument `closed` is deprecated in favor of `inclusive`.\n",
      "  list_mon_begin = pd.date_range(start_date, end_date, freq='MS', closed='right')\n",
      "C:\\Users\\Heliiix\\anaconda3\\Lib\\site-packages\\wwo_hist\\__init__.py:74: FutureWarning: Argument `closed` is deprecated in favor of `inclusive`.\n",
      "  list_mon_end = pd.date_range(start_date, end_date, freq='M', closed='left')\n"
     ]
    },
    {
     "name": "stdout",
     "output_type": "stream",
     "text": [
      "Time elapsed (hh:mm:ss.ms) 0:00:00.289379\n",
      "\n",
      "\n",
      "export Tacoma completed!\n",
      "\n",
      "\n",
      "51\n",
      "Illinois\n",
      "\n",
      "\n",
      "Retrieving weather data for Illinois\n",
      "\n",
      "\n",
      "Currently retrieving data for Illinois: from 2013-12-16 to 2013-12-16\n"
     ]
    },
    {
     "name": "stderr",
     "output_type": "stream",
     "text": [
      "C:\\Users\\Heliiix\\anaconda3\\Lib\\site-packages\\wwo_hist\\__init__.py:69: FutureWarning: Argument `closed` is deprecated in favor of `inclusive`.\n",
      "  list_mon_begin = pd.date_range(start_date, end_date, freq='MS', closed='right')\n",
      "C:\\Users\\Heliiix\\anaconda3\\Lib\\site-packages\\wwo_hist\\__init__.py:74: FutureWarning: Argument `closed` is deprecated in favor of `inclusive`.\n",
      "  list_mon_end = pd.date_range(start_date, end_date, freq='M', closed='left')\n"
     ]
    },
    {
     "name": "stdout",
     "output_type": "stream",
     "text": [
      "Time elapsed (hh:mm:ss.ms) 0:00:01.267456\n",
      "\n",
      "\n",
      "export Illinois completed!\n",
      "\n",
      "\n",
      "52\n",
      "Alberta\n",
      "\n",
      "\n",
      "Retrieving weather data for Alberta\n",
      "\n",
      "\n",
      "Currently retrieving data for Alberta: from 2013-12-17 to 2013-12-17\n"
     ]
    },
    {
     "name": "stderr",
     "output_type": "stream",
     "text": [
      "C:\\Users\\Heliiix\\anaconda3\\Lib\\site-packages\\wwo_hist\\__init__.py:69: FutureWarning: Argument `closed` is deprecated in favor of `inclusive`.\n",
      "  list_mon_begin = pd.date_range(start_date, end_date, freq='MS', closed='right')\n",
      "C:\\Users\\Heliiix\\anaconda3\\Lib\\site-packages\\wwo_hist\\__init__.py:74: FutureWarning: Argument `closed` is deprecated in favor of `inclusive`.\n",
      "  list_mon_end = pd.date_range(start_date, end_date, freq='M', closed='left')\n"
     ]
    },
    {
     "name": "stdout",
     "output_type": "stream",
     "text": [
      "Time elapsed (hh:mm:ss.ms) 0:00:00.281065\n",
      "\n",
      "\n",
      "export Alberta completed!\n",
      "\n",
      "\n",
      "53\n",
      "Northern%20and%20Central%20California\n",
      "\n",
      "\n",
      "Retrieving weather data for Northern%20and%20Central%20California\n",
      "\n",
      "\n",
      "Currently retrieving data for Northern%20and%20Central%20California: from 2013-12-18 to 2013-12-18\n"
     ]
    },
    {
     "name": "stderr",
     "output_type": "stream",
     "text": [
      "C:\\Users\\Heliiix\\anaconda3\\Lib\\site-packages\\wwo_hist\\__init__.py:69: FutureWarning: Argument `closed` is deprecated in favor of `inclusive`.\n",
      "  list_mon_begin = pd.date_range(start_date, end_date, freq='MS', closed='right')\n",
      "C:\\Users\\Heliiix\\anaconda3\\Lib\\site-packages\\wwo_hist\\__init__.py:74: FutureWarning: Argument `closed` is deprecated in favor of `inclusive`.\n",
      "  list_mon_end = pd.date_range(start_date, end_date, freq='M', closed='left')\n"
     ]
    },
    {
     "name": "stdout",
     "output_type": "stream",
     "text": [
      "Time elapsed (hh:mm:ss.ms) 0:00:00.326365\n",
      "\n",
      "\n",
      "export Northern%20and%20Central%20California completed!\n",
      "\n",
      "\n",
      "54\n",
      "San%20Francisco%20Bay%20Area\n",
      "\n",
      "\n",
      "Retrieving weather data for San%20Francisco%20Bay%20Area\n",
      "\n",
      "\n",
      "Currently retrieving data for San%20Francisco%20Bay%20Area: from 2013-12-19 to 2013-12-19\n"
     ]
    },
    {
     "name": "stderr",
     "output_type": "stream",
     "text": [
      "C:\\Users\\Heliiix\\anaconda3\\Lib\\site-packages\\wwo_hist\\__init__.py:69: FutureWarning: Argument `closed` is deprecated in favor of `inclusive`.\n",
      "  list_mon_begin = pd.date_range(start_date, end_date, freq='MS', closed='right')\n",
      "C:\\Users\\Heliiix\\anaconda3\\Lib\\site-packages\\wwo_hist\\__init__.py:74: FutureWarning: Argument `closed` is deprecated in favor of `inclusive`.\n",
      "  list_mon_end = pd.date_range(start_date, end_date, freq='M', closed='left')\n"
     ]
    },
    {
     "name": "stdout",
     "output_type": "stream",
     "text": [
      "Time elapsed (hh:mm:ss.ms) 0:00:00.283489\n",
      "\n",
      "\n",
      "export San%20Francisco%20Bay%20Area completed!\n",
      "\n",
      "\n",
      "55\n",
      "San%20Francisco%20Bay%20Area\n",
      "\n",
      "\n",
      "Retrieving weather data for San%20Francisco%20Bay%20Area\n",
      "\n",
      "\n",
      "Currently retrieving data for San%20Francisco%20Bay%20Area: from 2013-12-20 to 2013-12-20\n"
     ]
    },
    {
     "name": "stderr",
     "output_type": "stream",
     "text": [
      "C:\\Users\\Heliiix\\anaconda3\\Lib\\site-packages\\wwo_hist\\__init__.py:69: FutureWarning: Argument `closed` is deprecated in favor of `inclusive`.\n",
      "  list_mon_begin = pd.date_range(start_date, end_date, freq='MS', closed='right')\n",
      "C:\\Users\\Heliiix\\anaconda3\\Lib\\site-packages\\wwo_hist\\__init__.py:74: FutureWarning: Argument `closed` is deprecated in favor of `inclusive`.\n",
      "  list_mon_end = pd.date_range(start_date, end_date, freq='M', closed='left')\n"
     ]
    },
    {
     "name": "stdout",
     "output_type": "stream",
     "text": [
      "Time elapsed (hh:mm:ss.ms) 0:00:00.310454\n",
      "\n",
      "\n",
      "export San%20Francisco%20Bay%20Area completed!\n",
      "\n",
      "\n",
      "56\n",
      "Michigan\n",
      "\n",
      "\n",
      "Retrieving weather data for Michigan\n",
      "\n",
      "\n",
      "Currently retrieving data for Michigan: from 2013-12-21 to 2013-12-21\n"
     ]
    },
    {
     "name": "stderr",
     "output_type": "stream",
     "text": [
      "C:\\Users\\Heliiix\\anaconda3\\Lib\\site-packages\\wwo_hist\\__init__.py:69: FutureWarning: Argument `closed` is deprecated in favor of `inclusive`.\n",
      "  list_mon_begin = pd.date_range(start_date, end_date, freq='MS', closed='right')\n",
      "C:\\Users\\Heliiix\\anaconda3\\Lib\\site-packages\\wwo_hist\\__init__.py:74: FutureWarning: Argument `closed` is deprecated in favor of `inclusive`.\n",
      "  list_mon_end = pd.date_range(start_date, end_date, freq='M', closed='left')\n"
     ]
    },
    {
     "name": "stdout",
     "output_type": "stream",
     "text": [
      "Time elapsed (hh:mm:ss.ms) 0:00:00.393550\n",
      "\n",
      "\n",
      "export Michigan completed!\n",
      "\n",
      "\n",
      "57\n",
      "Michigan\n",
      "\n",
      "\n",
      "Retrieving weather data for Michigan\n",
      "\n",
      "\n",
      "Currently retrieving data for Michigan: from 2013-12-26 to 2013-12-26\n"
     ]
    },
    {
     "name": "stderr",
     "output_type": "stream",
     "text": [
      "C:\\Users\\Heliiix\\anaconda3\\Lib\\site-packages\\wwo_hist\\__init__.py:69: FutureWarning: Argument `closed` is deprecated in favor of `inclusive`.\n",
      "  list_mon_begin = pd.date_range(start_date, end_date, freq='MS', closed='right')\n",
      "C:\\Users\\Heliiix\\anaconda3\\Lib\\site-packages\\wwo_hist\\__init__.py:74: FutureWarning: Argument `closed` is deprecated in favor of `inclusive`.\n",
      "  list_mon_end = pd.date_range(start_date, end_date, freq='M', closed='left')\n"
     ]
    },
    {
     "name": "stdout",
     "output_type": "stream",
     "text": [
      "Time elapsed (hh:mm:ss.ms) 0:00:01.258442\n",
      "\n",
      "\n",
      "export Michigan completed!\n",
      "\n",
      "\n",
      "58\n",
      "Northern%20and%20Central%20California\n",
      "\n",
      "\n",
      "Retrieving weather data for Northern%20and%20Central%20California\n",
      "\n",
      "\n",
      "Currently retrieving data for Northern%20and%20Central%20California: from 2013-12-27 to 2013-12-27\n"
     ]
    },
    {
     "name": "stderr",
     "output_type": "stream",
     "text": [
      "C:\\Users\\Heliiix\\anaconda3\\Lib\\site-packages\\wwo_hist\\__init__.py:69: FutureWarning: Argument `closed` is deprecated in favor of `inclusive`.\n",
      "  list_mon_begin = pd.date_range(start_date, end_date, freq='MS', closed='right')\n",
      "C:\\Users\\Heliiix\\anaconda3\\Lib\\site-packages\\wwo_hist\\__init__.py:74: FutureWarning: Argument `closed` is deprecated in favor of `inclusive`.\n",
      "  list_mon_end = pd.date_range(start_date, end_date, freq='M', closed='left')\n"
     ]
    },
    {
     "name": "stdout",
     "output_type": "stream",
     "text": [
      "Time elapsed (hh:mm:ss.ms) 0:00:01.759062\n",
      "\n",
      "\n",
      "export Northern%20and%20Central%20California completed!\n",
      "\n",
      "\n",
      "59\n",
      "North%20Carolina\n",
      "\n",
      "\n",
      "Retrieving weather data for North%20Carolina\n",
      "\n",
      "\n",
      "Currently retrieving data for North%20Carolina: from 2013-11-21 to 2013-11-21\n"
     ]
    },
    {
     "name": "stderr",
     "output_type": "stream",
     "text": [
      "C:\\Users\\Heliiix\\anaconda3\\Lib\\site-packages\\wwo_hist\\__init__.py:69: FutureWarning: Argument `closed` is deprecated in favor of `inclusive`.\n",
      "  list_mon_begin = pd.date_range(start_date, end_date, freq='MS', closed='right')\n",
      "C:\\Users\\Heliiix\\anaconda3\\Lib\\site-packages\\wwo_hist\\__init__.py:74: FutureWarning: Argument `closed` is deprecated in favor of `inclusive`.\n",
      "  list_mon_end = pd.date_range(start_date, end_date, freq='M', closed='left')\n"
     ]
    },
    {
     "name": "stdout",
     "output_type": "stream",
     "text": [
      "Time elapsed (hh:mm:ss.ms) 0:00:01.282026\n",
      "\n",
      "\n",
      "export North%20Carolina completed!\n",
      "\n",
      "\n",
      "60\n",
      "Virginia\n",
      "\n",
      "\n",
      "Retrieving weather data for Virginia\n",
      "\n",
      "\n",
      "Currently retrieving data for Virginia: from 2013-11-22 to 2013-11-22\n"
     ]
    },
    {
     "name": "stderr",
     "output_type": "stream",
     "text": [
      "C:\\Users\\Heliiix\\anaconda3\\Lib\\site-packages\\wwo_hist\\__init__.py:69: FutureWarning: Argument `closed` is deprecated in favor of `inclusive`.\n",
      "  list_mon_begin = pd.date_range(start_date, end_date, freq='MS', closed='right')\n",
      "C:\\Users\\Heliiix\\anaconda3\\Lib\\site-packages\\wwo_hist\\__init__.py:74: FutureWarning: Argument `closed` is deprecated in favor of `inclusive`.\n",
      "  list_mon_end = pd.date_range(start_date, end_date, freq='M', closed='left')\n"
     ]
    },
    {
     "name": "stdout",
     "output_type": "stream",
     "text": [
      "Time elapsed (hh:mm:ss.ms) 0:00:00.265229\n",
      "\n",
      "\n",
      "export Virginia completed!\n",
      "\n",
      "\n",
      "61\n",
      "Tacoma\n",
      "\n",
      "\n",
      "Retrieving weather data for Tacoma\n",
      "\n",
      "\n",
      "Currently retrieving data for Tacoma: from 2013-11-17 to 2013-11-17\n"
     ]
    },
    {
     "name": "stderr",
     "output_type": "stream",
     "text": [
      "C:\\Users\\Heliiix\\anaconda3\\Lib\\site-packages\\wwo_hist\\__init__.py:69: FutureWarning: Argument `closed` is deprecated in favor of `inclusive`.\n",
      "  list_mon_begin = pd.date_range(start_date, end_date, freq='MS', closed='right')\n",
      "C:\\Users\\Heliiix\\anaconda3\\Lib\\site-packages\\wwo_hist\\__init__.py:74: FutureWarning: Argument `closed` is deprecated in favor of `inclusive`.\n",
      "  list_mon_end = pd.date_range(start_date, end_date, freq='M', closed='left')\n"
     ]
    },
    {
     "name": "stdout",
     "output_type": "stream",
     "text": [
      "Time elapsed (hh:mm:ss.ms) 0:00:00.289381\n",
      "\n",
      "\n",
      "export Tacoma completed!\n",
      "\n",
      "\n",
      "62\n",
      "Illinois\n",
      "\n",
      "\n",
      "Retrieving weather data for Illinois\n",
      "\n",
      "\n",
      "Currently retrieving data for Illinois: from 2013-11-18 to 2013-11-18\n"
     ]
    },
    {
     "name": "stderr",
     "output_type": "stream",
     "text": [
      "C:\\Users\\Heliiix\\anaconda3\\Lib\\site-packages\\wwo_hist\\__init__.py:69: FutureWarning: Argument `closed` is deprecated in favor of `inclusive`.\n",
      "  list_mon_begin = pd.date_range(start_date, end_date, freq='MS', closed='right')\n",
      "C:\\Users\\Heliiix\\anaconda3\\Lib\\site-packages\\wwo_hist\\__init__.py:74: FutureWarning: Argument `closed` is deprecated in favor of `inclusive`.\n",
      "  list_mon_end = pd.date_range(start_date, end_date, freq='M', closed='left')\n"
     ]
    },
    {
     "name": "stdout",
     "output_type": "stream",
     "text": [
      "Time elapsed (hh:mm:ss.ms) 0:00:00.277540\n",
      "\n",
      "\n",
      "export Illinois completed!\n",
      "\n",
      "\n",
      "63\n",
      "Northern%20California\n",
      "\n",
      "\n",
      "Retrieving weather data for Northern%20California\n",
      "\n",
      "\n",
      "Currently retrieving data for Northern%20California: from 2013-11-19 to 2013-11-19\n"
     ]
    },
    {
     "name": "stderr",
     "output_type": "stream",
     "text": [
      "C:\\Users\\Heliiix\\anaconda3\\Lib\\site-packages\\wwo_hist\\__init__.py:69: FutureWarning: Argument `closed` is deprecated in favor of `inclusive`.\n",
      "  list_mon_begin = pd.date_range(start_date, end_date, freq='MS', closed='right')\n",
      "C:\\Users\\Heliiix\\anaconda3\\Lib\\site-packages\\wwo_hist\\__init__.py:74: FutureWarning: Argument `closed` is deprecated in favor of `inclusive`.\n",
      "  list_mon_end = pd.date_range(start_date, end_date, freq='M', closed='left')\n"
     ]
    },
    {
     "name": "stdout",
     "output_type": "stream",
     "text": [
      "Time elapsed (hh:mm:ss.ms) 0:00:01.271986\n",
      "\n",
      "\n",
      "export Northern%20California completed!\n",
      "\n",
      "\n",
      "64\n",
      "Texas\n",
      "\n",
      "\n",
      "Retrieving weather data for Texas\n",
      "\n",
      "\n",
      "Currently retrieving data for Texas: from 2013-11-20 to 2013-11-20\n"
     ]
    },
    {
     "name": "stderr",
     "output_type": "stream",
     "text": [
      "C:\\Users\\Heliiix\\anaconda3\\Lib\\site-packages\\wwo_hist\\__init__.py:69: FutureWarning: Argument `closed` is deprecated in favor of `inclusive`.\n",
      "  list_mon_begin = pd.date_range(start_date, end_date, freq='MS', closed='right')\n",
      "C:\\Users\\Heliiix\\anaconda3\\Lib\\site-packages\\wwo_hist\\__init__.py:74: FutureWarning: Argument `closed` is deprecated in favor of `inclusive`.\n",
      "  list_mon_end = pd.date_range(start_date, end_date, freq='M', closed='left')\n"
     ]
    },
    {
     "name": "stdout",
     "output_type": "stream",
     "text": [
      "Time elapsed (hh:mm:ss.ms) 0:00:00.269403\n",
      "\n",
      "\n",
      "export Texas completed!\n",
      "\n",
      "\n",
      "65\n",
      "North%20Carolina\n",
      "\n",
      "\n",
      "Retrieving weather data for North%20Carolina\n",
      "\n",
      "\n",
      "Currently retrieving data for North%20Carolina: from 2013-10-19 to 2013-10-19\n"
     ]
    },
    {
     "name": "stderr",
     "output_type": "stream",
     "text": [
      "C:\\Users\\Heliiix\\anaconda3\\Lib\\site-packages\\wwo_hist\\__init__.py:69: FutureWarning: Argument `closed` is deprecated in favor of `inclusive`.\n",
      "  list_mon_begin = pd.date_range(start_date, end_date, freq='MS', closed='right')\n",
      "C:\\Users\\Heliiix\\anaconda3\\Lib\\site-packages\\wwo_hist\\__init__.py:74: FutureWarning: Argument `closed` is deprecated in favor of `inclusive`.\n",
      "  list_mon_end = pd.date_range(start_date, end_date, freq='M', closed='left')\n"
     ]
    },
    {
     "name": "stdout",
     "output_type": "stream",
     "text": [
      "Time elapsed (hh:mm:ss.ms) 0:00:00.317384\n",
      "\n",
      "\n",
      "export North%20Carolina completed!\n",
      "\n",
      "\n",
      "66\n",
      "Northern%20Illinois\n",
      "\n",
      "\n",
      "Retrieving weather data for Northern%20Illinois\n",
      "\n",
      "\n",
      "Currently retrieving data for Northern%20Illinois: from 2013-09-11 to 2013-09-11\n"
     ]
    },
    {
     "name": "stderr",
     "output_type": "stream",
     "text": [
      "C:\\Users\\Heliiix\\anaconda3\\Lib\\site-packages\\wwo_hist\\__init__.py:69: FutureWarning: Argument `closed` is deprecated in favor of `inclusive`.\n",
      "  list_mon_begin = pd.date_range(start_date, end_date, freq='MS', closed='right')\n",
      "C:\\Users\\Heliiix\\anaconda3\\Lib\\site-packages\\wwo_hist\\__init__.py:74: FutureWarning: Argument `closed` is deprecated in favor of `inclusive`.\n",
      "  list_mon_end = pd.date_range(start_date, end_date, freq='M', closed='left')\n"
     ]
    },
    {
     "name": "stdout",
     "output_type": "stream",
     "text": [
      "Time elapsed (hh:mm:ss.ms) 0:00:00.286958\n",
      "\n",
      "\n",
      "export Northern%20Illinois completed!\n",
      "\n",
      "\n",
      "67\n",
      "California\n",
      "\n",
      "\n",
      "Retrieving weather data for California\n",
      "\n",
      "\n",
      "Currently retrieving data for California: from 2013-09-12 to 2013-09-12\n"
     ]
    },
    {
     "name": "stderr",
     "output_type": "stream",
     "text": [
      "C:\\Users\\Heliiix\\anaconda3\\Lib\\site-packages\\wwo_hist\\__init__.py:69: FutureWarning: Argument `closed` is deprecated in favor of `inclusive`.\n",
      "  list_mon_begin = pd.date_range(start_date, end_date, freq='MS', closed='right')\n",
      "C:\\Users\\Heliiix\\anaconda3\\Lib\\site-packages\\wwo_hist\\__init__.py:74: FutureWarning: Argument `closed` is deprecated in favor of `inclusive`.\n",
      "  list_mon_end = pd.date_range(start_date, end_date, freq='M', closed='left')\n"
     ]
    },
    {
     "name": "stdout",
     "output_type": "stream",
     "text": [
      "Time elapsed (hh:mm:ss.ms) 0:00:00.243544\n",
      "\n",
      "\n",
      "export California completed!\n",
      "\n",
      "\n",
      "68\n",
      "Southeastern%20Michigan\n",
      "\n",
      "\n",
      "Retrieving weather data for Southeastern%20Michigan\n",
      "\n",
      "\n",
      "Currently retrieving data for Southeastern%20Michigan: from 2013-09-13 to 2013-09-13\n"
     ]
    },
    {
     "name": "stderr",
     "output_type": "stream",
     "text": [
      "C:\\Users\\Heliiix\\anaconda3\\Lib\\site-packages\\wwo_hist\\__init__.py:69: FutureWarning: Argument `closed` is deprecated in favor of `inclusive`.\n",
      "  list_mon_begin = pd.date_range(start_date, end_date, freq='MS', closed='right')\n",
      "C:\\Users\\Heliiix\\anaconda3\\Lib\\site-packages\\wwo_hist\\__init__.py:74: FutureWarning: Argument `closed` is deprecated in favor of `inclusive`.\n",
      "  list_mon_end = pd.date_range(start_date, end_date, freq='M', closed='left')\n"
     ]
    },
    {
     "name": "stdout",
     "output_type": "stream",
     "text": [
      "Time elapsed (hh:mm:ss.ms) 0:00:00.254700\n",
      "\n",
      "\n",
      "export Southeastern%20Michigan completed!\n",
      "\n",
      "\n",
      "69\n",
      "Northern%20and%20Central%20California\n",
      "\n",
      "\n",
      "Retrieving weather data for Northern%20and%20Central%20California\n",
      "\n",
      "\n",
      "Currently retrieving data for Northern%20and%20Central%20California: from 2013-09-14 to 2013-09-14\n"
     ]
    },
    {
     "name": "stderr",
     "output_type": "stream",
     "text": [
      "C:\\Users\\Heliiix\\anaconda3\\Lib\\site-packages\\wwo_hist\\__init__.py:69: FutureWarning: Argument `closed` is deprecated in favor of `inclusive`.\n",
      "  list_mon_begin = pd.date_range(start_date, end_date, freq='MS', closed='right')\n",
      "C:\\Users\\Heliiix\\anaconda3\\Lib\\site-packages\\wwo_hist\\__init__.py:74: FutureWarning: Argument `closed` is deprecated in favor of `inclusive`.\n",
      "  list_mon_end = pd.date_range(start_date, end_date, freq='M', closed='left')\n"
     ]
    },
    {
     "name": "stdout",
     "output_type": "stream",
     "text": [
      "Time elapsed (hh:mm:ss.ms) 0:00:00.308953\n",
      "\n",
      "\n",
      "export Northern%20and%20Central%20California completed!\n",
      "\n",
      "\n",
      "70\n",
      "Michigan\n",
      "\n",
      "\n",
      "Retrieving weather data for Michigan\n",
      "\n",
      "\n",
      "Currently retrieving data for Michigan: from 2013-09-15 to 2013-09-15\n"
     ]
    },
    {
     "name": "stderr",
     "output_type": "stream",
     "text": [
      "C:\\Users\\Heliiix\\anaconda3\\Lib\\site-packages\\wwo_hist\\__init__.py:69: FutureWarning: Argument `closed` is deprecated in favor of `inclusive`.\n",
      "  list_mon_begin = pd.date_range(start_date, end_date, freq='MS', closed='right')\n",
      "C:\\Users\\Heliiix\\anaconda3\\Lib\\site-packages\\wwo_hist\\__init__.py:74: FutureWarning: Argument `closed` is deprecated in favor of `inclusive`.\n",
      "  list_mon_end = pd.date_range(start_date, end_date, freq='M', closed='left')\n"
     ]
    },
    {
     "name": "stdout",
     "output_type": "stream",
     "text": [
      "Time elapsed (hh:mm:ss.ms) 0:00:00.275386\n",
      "\n",
      "\n",
      "export Michigan completed!\n",
      "\n",
      "\n",
      "71\n",
      "Northern%20Illinois\n",
      "\n",
      "\n",
      "Retrieving weather data for Northern%20Illinois\n",
      "\n",
      "\n",
      "Currently retrieving data for Northern%20Illinois: from 2013-07-22 to 2013-07-22\n"
     ]
    },
    {
     "name": "stderr",
     "output_type": "stream",
     "text": [
      "C:\\Users\\Heliiix\\anaconda3\\Lib\\site-packages\\wwo_hist\\__init__.py:69: FutureWarning: Argument `closed` is deprecated in favor of `inclusive`.\n",
      "  list_mon_begin = pd.date_range(start_date, end_date, freq='MS', closed='right')\n",
      "C:\\Users\\Heliiix\\anaconda3\\Lib\\site-packages\\wwo_hist\\__init__.py:74: FutureWarning: Argument `closed` is deprecated in favor of `inclusive`.\n",
      "  list_mon_end = pd.date_range(start_date, end_date, freq='M', closed='left')\n"
     ]
    },
    {
     "name": "stdout",
     "output_type": "stream",
     "text": [
      "Time elapsed (hh:mm:ss.ms) 0:00:00.283382\n",
      "\n",
      "\n",
      "export Northern%20Illinois completed!\n",
      "\n",
      "\n",
      "72\n",
      "North%20Carolina\n",
      "\n",
      "\n",
      "Retrieving weather data for North%20Carolina\n",
      "\n",
      "\n",
      "Currently retrieving data for North%20Carolina: from 2013-07-19 to 2013-07-19\n"
     ]
    },
    {
     "name": "stderr",
     "output_type": "stream",
     "text": [
      "C:\\Users\\Heliiix\\anaconda3\\Lib\\site-packages\\wwo_hist\\__init__.py:69: FutureWarning: Argument `closed` is deprecated in favor of `inclusive`.\n",
      "  list_mon_begin = pd.date_range(start_date, end_date, freq='MS', closed='right')\n",
      "C:\\Users\\Heliiix\\anaconda3\\Lib\\site-packages\\wwo_hist\\__init__.py:74: FutureWarning: Argument `closed` is deprecated in favor of `inclusive`.\n",
      "  list_mon_end = pd.date_range(start_date, end_date, freq='M', closed='left')\n"
     ]
    },
    {
     "name": "stdout",
     "output_type": "stream",
     "text": [
      "Time elapsed (hh:mm:ss.ms) 0:00:00.265122\n",
      "\n",
      "\n",
      "export North%20Carolina completed!\n",
      "\n",
      "\n",
      "73\n",
      "Newark\n",
      "\n",
      "\n",
      "Retrieving weather data for Newark\n",
      "\n",
      "\n",
      "Currently retrieving data for Newark: from 2013-07-20 to 2013-07-20\n"
     ]
    },
    {
     "name": "stderr",
     "output_type": "stream",
     "text": [
      "C:\\Users\\Heliiix\\anaconda3\\Lib\\site-packages\\wwo_hist\\__init__.py:69: FutureWarning: Argument `closed` is deprecated in favor of `inclusive`.\n",
      "  list_mon_begin = pd.date_range(start_date, end_date, freq='MS', closed='right')\n",
      "C:\\Users\\Heliiix\\anaconda3\\Lib\\site-packages\\wwo_hist\\__init__.py:74: FutureWarning: Argument `closed` is deprecated in favor of `inclusive`.\n",
      "  list_mon_end = pd.date_range(start_date, end_date, freq='M', closed='left')\n"
     ]
    },
    {
     "name": "stdout",
     "output_type": "stream",
     "text": [
      "Time elapsed (hh:mm:ss.ms) 0:00:01.272428\n",
      "\n",
      "\n",
      "export Newark completed!\n",
      "\n",
      "\n",
      "74\n",
      "Michigan\n",
      "\n",
      "\n",
      "Retrieving weather data for Michigan\n",
      "\n",
      "\n",
      "Currently retrieving data for Michigan: from 2013-07-21 to 2013-07-21\n"
     ]
    },
    {
     "name": "stderr",
     "output_type": "stream",
     "text": [
      "C:\\Users\\Heliiix\\anaconda3\\Lib\\site-packages\\wwo_hist\\__init__.py:69: FutureWarning: Argument `closed` is deprecated in favor of `inclusive`.\n",
      "  list_mon_begin = pd.date_range(start_date, end_date, freq='MS', closed='right')\n",
      "C:\\Users\\Heliiix\\anaconda3\\Lib\\site-packages\\wwo_hist\\__init__.py:74: FutureWarning: Argument `closed` is deprecated in favor of `inclusive`.\n",
      "  list_mon_end = pd.date_range(start_date, end_date, freq='M', closed='left')\n"
     ]
    },
    {
     "name": "stdout",
     "output_type": "stream",
     "text": [
      "Time elapsed (hh:mm:ss.ms) 0:00:00.271287\n",
      "\n",
      "\n",
      "export Michigan completed!\n",
      "\n",
      "\n",
      "75\n",
      "Island%20of%20Puerto%20Rico\n",
      "\n",
      "\n",
      "Retrieving weather data for Island%20of%20Puerto%20Rico\n",
      "\n",
      "\n",
      "Currently retrieving data for Island%20of%20Puerto%20Rico: from 2013-07-05 to 2013-07-05\n"
     ]
    },
    {
     "name": "stderr",
     "output_type": "stream",
     "text": [
      "C:\\Users\\Heliiix\\anaconda3\\Lib\\site-packages\\wwo_hist\\__init__.py:69: FutureWarning: Argument `closed` is deprecated in favor of `inclusive`.\n",
      "  list_mon_begin = pd.date_range(start_date, end_date, freq='MS', closed='right')\n",
      "C:\\Users\\Heliiix\\anaconda3\\Lib\\site-packages\\wwo_hist\\__init__.py:74: FutureWarning: Argument `closed` is deprecated in favor of `inclusive`.\n",
      "  list_mon_end = pd.date_range(start_date, end_date, freq='M', closed='left')\n"
     ]
    },
    {
     "name": "stdout",
     "output_type": "stream",
     "text": [
      "Time elapsed (hh:mm:ss.ms) 0:00:00.279208\n",
      "\n",
      "\n",
      "export Island%20of%20Puerto%20Rico completed!\n",
      "\n",
      "\n",
      "76\n",
      "Newark\n",
      "\n",
      "\n",
      "Retrieving weather data for Newark\n",
      "\n",
      "\n",
      "Currently retrieving data for Newark: from 2013-07-02 to 2013-07-02\n"
     ]
    },
    {
     "name": "stderr",
     "output_type": "stream",
     "text": [
      "C:\\Users\\Heliiix\\anaconda3\\Lib\\site-packages\\wwo_hist\\__init__.py:69: FutureWarning: Argument `closed` is deprecated in favor of `inclusive`.\n",
      "  list_mon_begin = pd.date_range(start_date, end_date, freq='MS', closed='right')\n",
      "C:\\Users\\Heliiix\\anaconda3\\Lib\\site-packages\\wwo_hist\\__init__.py:74: FutureWarning: Argument `closed` is deprecated in favor of `inclusive`.\n",
      "  list_mon_end = pd.date_range(start_date, end_date, freq='M', closed='left')\n"
     ]
    },
    {
     "name": "stdout",
     "output_type": "stream",
     "text": [
      "Time elapsed (hh:mm:ss.ms) 0:00:00.278351\n",
      "\n",
      "\n",
      "export Newark completed!\n",
      "\n",
      "\n",
      "77\n",
      "Northern%20Illinois\n",
      "\n",
      "\n",
      "Retrieving weather data for Northern%20Illinois\n",
      "\n",
      "\n",
      "Currently retrieving data for Northern%20Illinois: from 2013-07-03 to 2013-07-03\n"
     ]
    },
    {
     "name": "stderr",
     "output_type": "stream",
     "text": [
      "C:\\Users\\Heliiix\\anaconda3\\Lib\\site-packages\\wwo_hist\\__init__.py:69: FutureWarning: Argument `closed` is deprecated in favor of `inclusive`.\n",
      "  list_mon_begin = pd.date_range(start_date, end_date, freq='MS', closed='right')\n",
      "C:\\Users\\Heliiix\\anaconda3\\Lib\\site-packages\\wwo_hist\\__init__.py:74: FutureWarning: Argument `closed` is deprecated in favor of `inclusive`.\n",
      "  list_mon_end = pd.date_range(start_date, end_date, freq='M', closed='left')\n"
     ]
    },
    {
     "name": "stdout",
     "output_type": "stream",
     "text": [
      "Time elapsed (hh:mm:ss.ms) 0:00:00.254681\n",
      "\n",
      "\n",
      "export Northern%20Illinois completed!\n",
      "\n",
      "\n",
      "78\n",
      "Southern%20California\n",
      "\n",
      "\n",
      "Retrieving weather data for Southern%20California\n",
      "\n",
      "\n",
      "Currently retrieving data for Southern%20California: from 2013-07-04 to 2013-07-04\n"
     ]
    },
    {
     "name": "stderr",
     "output_type": "stream",
     "text": [
      "C:\\Users\\Heliiix\\anaconda3\\Lib\\site-packages\\wwo_hist\\__init__.py:69: FutureWarning: Argument `closed` is deprecated in favor of `inclusive`.\n",
      "  list_mon_begin = pd.date_range(start_date, end_date, freq='MS', closed='right')\n",
      "C:\\Users\\Heliiix\\anaconda3\\Lib\\site-packages\\wwo_hist\\__init__.py:74: FutureWarning: Argument `closed` is deprecated in favor of `inclusive`.\n",
      "  list_mon_end = pd.date_range(start_date, end_date, freq='M', closed='left')\n"
     ]
    },
    {
     "name": "stdout",
     "output_type": "stream",
     "text": [
      "Time elapsed (hh:mm:ss.ms) 0:00:00.585744\n",
      "\n",
      "\n",
      "export Southern%20California completed!\n",
      "\n",
      "\n",
      "79\n",
      "Alberta\n",
      "\n",
      "\n",
      "Retrieving weather data for Alberta\n",
      "\n",
      "\n",
      "Currently retrieving data for Alberta: from 2013-06-24 to 2013-06-24\n"
     ]
    },
    {
     "name": "stderr",
     "output_type": "stream",
     "text": [
      "C:\\Users\\Heliiix\\anaconda3\\Lib\\site-packages\\wwo_hist\\__init__.py:69: FutureWarning: Argument `closed` is deprecated in favor of `inclusive`.\n",
      "  list_mon_begin = pd.date_range(start_date, end_date, freq='MS', closed='right')\n",
      "C:\\Users\\Heliiix\\anaconda3\\Lib\\site-packages\\wwo_hist\\__init__.py:74: FutureWarning: Argument `closed` is deprecated in favor of `inclusive`.\n",
      "  list_mon_end = pd.date_range(start_date, end_date, freq='M', closed='left')\n"
     ]
    },
    {
     "name": "stdout",
     "output_type": "stream",
     "text": [
      "Time elapsed (hh:mm:ss.ms) 0:00:00.263389\n",
      "\n",
      "\n",
      "export Alberta completed!\n",
      "\n",
      "\n",
      "80\n",
      "Northern%20and%20Central%20California\n",
      "\n",
      "\n",
      "Retrieving weather data for Northern%20and%20Central%20California\n",
      "\n",
      "\n",
      "Currently retrieving data for Northern%20and%20Central%20California: from 2013-06-25 to 2013-06-25\n"
     ]
    },
    {
     "name": "stderr",
     "output_type": "stream",
     "text": [
      "C:\\Users\\Heliiix\\anaconda3\\Lib\\site-packages\\wwo_hist\\__init__.py:69: FutureWarning: Argument `closed` is deprecated in favor of `inclusive`.\n",
      "  list_mon_begin = pd.date_range(start_date, end_date, freq='MS', closed='right')\n",
      "C:\\Users\\Heliiix\\anaconda3\\Lib\\site-packages\\wwo_hist\\__init__.py:74: FutureWarning: Argument `closed` is deprecated in favor of `inclusive`.\n",
      "  list_mon_end = pd.date_range(start_date, end_date, freq='M', closed='left')\n"
     ]
    },
    {
     "name": "stdout",
     "output_type": "stream",
     "text": [
      "Time elapsed (hh:mm:ss.ms) 0:00:01.262449\n",
      "\n",
      "\n",
      "export Northern%20and%20Central%20California completed!\n",
      "\n",
      "\n",
      "81\n",
      "Northern%20and%20Central%20California\n",
      "\n",
      "\n",
      "Retrieving weather data for Northern%20and%20Central%20California\n",
      "\n",
      "\n",
      "Currently retrieving data for Northern%20and%20Central%20California: from 2013-06-19 to 2013-06-19\n"
     ]
    },
    {
     "name": "stderr",
     "output_type": "stream",
     "text": [
      "C:\\Users\\Heliiix\\anaconda3\\Lib\\site-packages\\wwo_hist\\__init__.py:69: FutureWarning: Argument `closed` is deprecated in favor of `inclusive`.\n",
      "  list_mon_begin = pd.date_range(start_date, end_date, freq='MS', closed='right')\n",
      "C:\\Users\\Heliiix\\anaconda3\\Lib\\site-packages\\wwo_hist\\__init__.py:74: FutureWarning: Argument `closed` is deprecated in favor of `inclusive`.\n",
      "  list_mon_end = pd.date_range(start_date, end_date, freq='M', closed='left')\n"
     ]
    },
    {
     "name": "stdout",
     "output_type": "stream",
     "text": [
      "Time elapsed (hh:mm:ss.ms) 0:00:00.289323\n",
      "\n",
      "\n",
      "export Northern%20and%20Central%20California completed!\n",
      "\n",
      "\n",
      "82\n",
      "Island%20of%20Puerto%20Rico\n",
      "\n",
      "\n",
      "Retrieving weather data for Island%20of%20Puerto%20Rico\n",
      "\n",
      "\n",
      "Currently retrieving data for Island%20of%20Puerto%20Rico: from 2013-06-03 to 2013-06-03\n"
     ]
    },
    {
     "name": "stderr",
     "output_type": "stream",
     "text": [
      "C:\\Users\\Heliiix\\anaconda3\\Lib\\site-packages\\wwo_hist\\__init__.py:69: FutureWarning: Argument `closed` is deprecated in favor of `inclusive`.\n",
      "  list_mon_begin = pd.date_range(start_date, end_date, freq='MS', closed='right')\n",
      "C:\\Users\\Heliiix\\anaconda3\\Lib\\site-packages\\wwo_hist\\__init__.py:74: FutureWarning: Argument `closed` is deprecated in favor of `inclusive`.\n",
      "  list_mon_end = pd.date_range(start_date, end_date, freq='M', closed='left')\n"
     ]
    },
    {
     "name": "stdout",
     "output_type": "stream",
     "text": [
      "Time elapsed (hh:mm:ss.ms) 0:00:00.284981\n",
      "\n",
      "\n",
      "export Island%20of%20Puerto%20Rico completed!\n",
      "\n",
      "\n",
      "83\n",
      "Michigan\n",
      "\n",
      "\n",
      "Retrieving weather data for Michigan\n",
      "\n",
      "\n",
      "Currently retrieving data for Michigan: from 2013-04-23 to 2013-04-23\n"
     ]
    },
    {
     "name": "stderr",
     "output_type": "stream",
     "text": [
      "C:\\Users\\Heliiix\\anaconda3\\Lib\\site-packages\\wwo_hist\\__init__.py:69: FutureWarning: Argument `closed` is deprecated in favor of `inclusive`.\n",
      "  list_mon_begin = pd.date_range(start_date, end_date, freq='MS', closed='right')\n",
      "C:\\Users\\Heliiix\\anaconda3\\Lib\\site-packages\\wwo_hist\\__init__.py:74: FutureWarning: Argument `closed` is deprecated in favor of `inclusive`.\n",
      "  list_mon_end = pd.date_range(start_date, end_date, freq='M', closed='left')\n"
     ]
    },
    {
     "name": "stdout",
     "output_type": "stream",
     "text": [
      "Time elapsed (hh:mm:ss.ms) 0:00:00.276894\n",
      "\n",
      "\n",
      "export Michigan completed!\n",
      "\n",
      "\n",
      "84\n",
      "Michigan\n",
      "\n",
      "\n",
      "Retrieving weather data for Michigan\n",
      "\n",
      "\n",
      "Currently retrieving data for Michigan: from 2013-04-16 to 2013-04-16\n"
     ]
    },
    {
     "name": "stderr",
     "output_type": "stream",
     "text": [
      "C:\\Users\\Heliiix\\anaconda3\\Lib\\site-packages\\wwo_hist\\__init__.py:69: FutureWarning: Argument `closed` is deprecated in favor of `inclusive`.\n",
      "  list_mon_begin = pd.date_range(start_date, end_date, freq='MS', closed='right')\n",
      "C:\\Users\\Heliiix\\anaconda3\\Lib\\site-packages\\wwo_hist\\__init__.py:74: FutureWarning: Argument `closed` is deprecated in favor of `inclusive`.\n",
      "  list_mon_end = pd.date_range(start_date, end_date, freq='M', closed='left')\n"
     ]
    },
    {
     "name": "stdout",
     "output_type": "stream",
     "text": [
      "Time elapsed (hh:mm:ss.ms) 0:00:00.261118\n",
      "\n",
      "\n",
      "export Michigan completed!\n",
      "\n",
      "\n",
      "85\n",
      "Northern%20California\n",
      "\n",
      "\n",
      "Retrieving weather data for Northern%20California\n",
      "\n",
      "\n",
      "Currently retrieving data for Northern%20California: from 2013-04-17 to 2013-04-17\n"
     ]
    },
    {
     "name": "stderr",
     "output_type": "stream",
     "text": [
      "C:\\Users\\Heliiix\\anaconda3\\Lib\\site-packages\\wwo_hist\\__init__.py:69: FutureWarning: Argument `closed` is deprecated in favor of `inclusive`.\n",
      "  list_mon_begin = pd.date_range(start_date, end_date, freq='MS', closed='right')\n",
      "C:\\Users\\Heliiix\\anaconda3\\Lib\\site-packages\\wwo_hist\\__init__.py:74: FutureWarning: Argument `closed` is deprecated in favor of `inclusive`.\n",
      "  list_mon_end = pd.date_range(start_date, end_date, freq='M', closed='left')\n"
     ]
    },
    {
     "name": "stdout",
     "output_type": "stream",
     "text": [
      "Time elapsed (hh:mm:ss.ms) 0:00:00.252397\n",
      "\n",
      "\n",
      "export Northern%20California completed!\n",
      "\n",
      "\n",
      "86\n",
      "Northern%20California\n",
      "\n",
      "\n",
      "Retrieving weather data for Northern%20California\n",
      "\n",
      "\n",
      "Currently retrieving data for Northern%20California: from 2013-04-18 to 2013-04-18\n"
     ]
    },
    {
     "name": "stderr",
     "output_type": "stream",
     "text": [
      "C:\\Users\\Heliiix\\anaconda3\\Lib\\site-packages\\wwo_hist\\__init__.py:69: FutureWarning: Argument `closed` is deprecated in favor of `inclusive`.\n",
      "  list_mon_begin = pd.date_range(start_date, end_date, freq='MS', closed='right')\n",
      "C:\\Users\\Heliiix\\anaconda3\\Lib\\site-packages\\wwo_hist\\__init__.py:74: FutureWarning: Argument `closed` is deprecated in favor of `inclusive`.\n",
      "  list_mon_end = pd.date_range(start_date, end_date, freq='M', closed='left')\n"
     ]
    },
    {
     "name": "stdout",
     "output_type": "stream",
     "text": [
      "Time elapsed (hh:mm:ss.ms) 0:00:00.296672\n",
      "\n",
      "\n",
      "export Northern%20California completed!\n",
      "\n",
      "\n",
      "87\n",
      "Alberta\n",
      "\n",
      "\n",
      "Retrieving weather data for Alberta\n",
      "\n",
      "\n",
      "Currently retrieving data for Alberta: from 2013-01-20 to 2013-01-20\n"
     ]
    },
    {
     "name": "stderr",
     "output_type": "stream",
     "text": [
      "C:\\Users\\Heliiix\\anaconda3\\Lib\\site-packages\\wwo_hist\\__init__.py:69: FutureWarning: Argument `closed` is deprecated in favor of `inclusive`.\n",
      "  list_mon_begin = pd.date_range(start_date, end_date, freq='MS', closed='right')\n",
      "C:\\Users\\Heliiix\\anaconda3\\Lib\\site-packages\\wwo_hist\\__init__.py:74: FutureWarning: Argument `closed` is deprecated in favor of `inclusive`.\n",
      "  list_mon_end = pd.date_range(start_date, end_date, freq='M', closed='left')\n"
     ]
    },
    {
     "name": "stdout",
     "output_type": "stream",
     "text": [
      "Time elapsed (hh:mm:ss.ms) 0:00:00.270200\n",
      "\n",
      "\n",
      "export Alberta completed!\n",
      "\n",
      "\n",
      "88\n",
      "Northern%20California\n",
      "\n",
      "\n",
      "Retrieving weather data for Northern%20California\n",
      "\n",
      "\n",
      "Currently retrieving data for Northern%20California: from 2013-01-21 to 2013-01-21\n"
     ]
    },
    {
     "name": "stderr",
     "output_type": "stream",
     "text": [
      "C:\\Users\\Heliiix\\anaconda3\\Lib\\site-packages\\wwo_hist\\__init__.py:69: FutureWarning: Argument `closed` is deprecated in favor of `inclusive`.\n",
      "  list_mon_begin = pd.date_range(start_date, end_date, freq='MS', closed='right')\n",
      "C:\\Users\\Heliiix\\anaconda3\\Lib\\site-packages\\wwo_hist\\__init__.py:74: FutureWarning: Argument `closed` is deprecated in favor of `inclusive`.\n",
      "  list_mon_end = pd.date_range(start_date, end_date, freq='M', closed='left')\n"
     ]
    },
    {
     "name": "stdout",
     "output_type": "stream",
     "text": [
      "Time elapsed (hh:mm:ss.ms) 0:00:00.260784\n",
      "\n",
      "\n",
      "export Northern%20California completed!\n",
      "\n",
      "\n",
      "89\n",
      "North%20Carolina\n",
      "\n",
      "\n",
      "Retrieving weather data for North%20Carolina\n",
      "\n",
      "\n",
      "Currently retrieving data for North%20Carolina: from 2013-01-22 to 2013-01-22\n"
     ]
    },
    {
     "name": "stderr",
     "output_type": "stream",
     "text": [
      "C:\\Users\\Heliiix\\anaconda3\\Lib\\site-packages\\wwo_hist\\__init__.py:69: FutureWarning: Argument `closed` is deprecated in favor of `inclusive`.\n",
      "  list_mon_begin = pd.date_range(start_date, end_date, freq='MS', closed='right')\n",
      "C:\\Users\\Heliiix\\anaconda3\\Lib\\site-packages\\wwo_hist\\__init__.py:74: FutureWarning: Argument `closed` is deprecated in favor of `inclusive`.\n",
      "  list_mon_end = pd.date_range(start_date, end_date, freq='M', closed='left')\n"
     ]
    },
    {
     "name": "stdout",
     "output_type": "stream",
     "text": [
      "Time elapsed (hh:mm:ss.ms) 0:00:00.259822\n",
      "\n",
      "\n",
      "export North%20Carolina completed!\n",
      "\n",
      "\n",
      "90\n",
      "Northern%20California\n",
      "\n",
      "\n",
      "Retrieving weather data for Northern%20California\n",
      "\n",
      "\n",
      "Currently retrieving data for Northern%20California: from 2013-01-23 to 2013-01-23\n"
     ]
    },
    {
     "name": "stderr",
     "output_type": "stream",
     "text": [
      "C:\\Users\\Heliiix\\anaconda3\\Lib\\site-packages\\wwo_hist\\__init__.py:69: FutureWarning: Argument `closed` is deprecated in favor of `inclusive`.\n",
      "  list_mon_begin = pd.date_range(start_date, end_date, freq='MS', closed='right')\n",
      "C:\\Users\\Heliiix\\anaconda3\\Lib\\site-packages\\wwo_hist\\__init__.py:74: FutureWarning: Argument `closed` is deprecated in favor of `inclusive`.\n",
      "  list_mon_end = pd.date_range(start_date, end_date, freq='M', closed='left')\n"
     ]
    },
    {
     "name": "stdout",
     "output_type": "stream",
     "text": [
      "Time elapsed (hh:mm:ss.ms) 0:00:01.282002\n",
      "\n",
      "\n",
      "export Northern%20California completed!\n",
      "\n",
      "\n",
      "91\n",
      "Southern%20California\n",
      "\n",
      "\n",
      "Retrieving weather data for Southern%20California\n",
      "\n",
      "\n",
      "Currently retrieving data for Southern%20California: from 2012-12-31 to 2012-12-31\n"
     ]
    },
    {
     "name": "stderr",
     "output_type": "stream",
     "text": [
      "C:\\Users\\Heliiix\\anaconda3\\Lib\\site-packages\\wwo_hist\\__init__.py:69: FutureWarning: Argument `closed` is deprecated in favor of `inclusive`.\n",
      "  list_mon_begin = pd.date_range(start_date, end_date, freq='MS', closed='right')\n",
      "C:\\Users\\Heliiix\\anaconda3\\Lib\\site-packages\\wwo_hist\\__init__.py:74: FutureWarning: Argument `closed` is deprecated in favor of `inclusive`.\n",
      "  list_mon_end = pd.date_range(start_date, end_date, freq='M', closed='left')\n"
     ]
    },
    {
     "name": "stdout",
     "output_type": "stream",
     "text": [
      "Time elapsed (hh:mm:ss.ms) 0:00:00.307744\n",
      "\n",
      "\n",
      "export Southern%20California completed!\n",
      "\n",
      "\n",
      "92\n",
      "Georgia\n",
      "\n",
      "\n",
      "Retrieving weather data for Georgia\n",
      "\n",
      "\n",
      "Currently retrieving data for Georgia: from 2012-12-17 to 2012-12-17\n"
     ]
    },
    {
     "name": "stderr",
     "output_type": "stream",
     "text": [
      "C:\\Users\\Heliiix\\anaconda3\\Lib\\site-packages\\wwo_hist\\__init__.py:69: FutureWarning: Argument `closed` is deprecated in favor of `inclusive`.\n",
      "  list_mon_begin = pd.date_range(start_date, end_date, freq='MS', closed='right')\n",
      "C:\\Users\\Heliiix\\anaconda3\\Lib\\site-packages\\wwo_hist\\__init__.py:74: FutureWarning: Argument `closed` is deprecated in favor of `inclusive`.\n",
      "  list_mon_end = pd.date_range(start_date, end_date, freq='M', closed='left')\n"
     ]
    },
    {
     "name": "stdout",
     "output_type": "stream",
     "text": [
      "Time elapsed (hh:mm:ss.ms) 0:00:00.301803\n",
      "\n",
      "\n",
      "export Georgia completed!\n",
      "\n",
      "\n",
      "93\n",
      "Virginia\n",
      "\n",
      "\n",
      "Retrieving weather data for Virginia\n",
      "\n",
      "\n",
      "Currently retrieving data for Virginia: from 2012-12-03 to 2012-12-03\n"
     ]
    },
    {
     "name": "stderr",
     "output_type": "stream",
     "text": [
      "C:\\Users\\Heliiix\\anaconda3\\Lib\\site-packages\\wwo_hist\\__init__.py:69: FutureWarning: Argument `closed` is deprecated in favor of `inclusive`.\n",
      "  list_mon_begin = pd.date_range(start_date, end_date, freq='MS', closed='right')\n",
      "C:\\Users\\Heliiix\\anaconda3\\Lib\\site-packages\\wwo_hist\\__init__.py:74: FutureWarning: Argument `closed` is deprecated in favor of `inclusive`.\n",
      "  list_mon_end = pd.date_range(start_date, end_date, freq='M', closed='left')\n"
     ]
    },
    {
     "name": "stdout",
     "output_type": "stream",
     "text": [
      "Time elapsed (hh:mm:ss.ms) 0:00:05.620357\n",
      "\n",
      "\n",
      "export Virginia completed!\n",
      "\n",
      "\n",
      "94\n",
      "Newark\n",
      "\n",
      "\n",
      "Retrieving weather data for Newark\n",
      "\n",
      "\n",
      "Currently retrieving data for Newark: from 2012-12-02 to 2012-12-02\n"
     ]
    },
    {
     "name": "stderr",
     "output_type": "stream",
     "text": [
      "C:\\Users\\Heliiix\\anaconda3\\Lib\\site-packages\\wwo_hist\\__init__.py:69: FutureWarning: Argument `closed` is deprecated in favor of `inclusive`.\n",
      "  list_mon_begin = pd.date_range(start_date, end_date, freq='MS', closed='right')\n",
      "C:\\Users\\Heliiix\\anaconda3\\Lib\\site-packages\\wwo_hist\\__init__.py:74: FutureWarning: Argument `closed` is deprecated in favor of `inclusive`.\n",
      "  list_mon_end = pd.date_range(start_date, end_date, freq='M', closed='left')\n"
     ]
    },
    {
     "name": "stdout",
     "output_type": "stream",
     "text": [
      "Time elapsed (hh:mm:ss.ms) 0:00:01.283858\n",
      "\n",
      "\n",
      "export Newark completed!\n",
      "\n",
      "\n",
      "95\n",
      "Northern%20California\n",
      "\n",
      "\n",
      "Retrieving weather data for Northern%20California\n",
      "\n",
      "\n",
      "Currently retrieving data for Northern%20California: from 2012-12-04 to 2012-12-04\n"
     ]
    },
    {
     "name": "stderr",
     "output_type": "stream",
     "text": [
      "C:\\Users\\Heliiix\\anaconda3\\Lib\\site-packages\\wwo_hist\\__init__.py:69: FutureWarning: Argument `closed` is deprecated in favor of `inclusive`.\n",
      "  list_mon_begin = pd.date_range(start_date, end_date, freq='MS', closed='right')\n",
      "C:\\Users\\Heliiix\\anaconda3\\Lib\\site-packages\\wwo_hist\\__init__.py:74: FutureWarning: Argument `closed` is deprecated in favor of `inclusive`.\n",
      "  list_mon_end = pd.date_range(start_date, end_date, freq='M', closed='left')\n"
     ]
    },
    {
     "name": "stdout",
     "output_type": "stream",
     "text": [
      "Time elapsed (hh:mm:ss.ms) 0:00:00.259657\n",
      "\n",
      "\n",
      "export Northern%20California completed!\n",
      "\n",
      "\n",
      "96\n",
      "Northern%20California\n",
      "\n",
      "\n",
      "Retrieving weather data for Northern%20California\n",
      "\n",
      "\n",
      "Currently retrieving data for Northern%20California: from 2012-10-29 to 2012-10-29\n"
     ]
    },
    {
     "name": "stderr",
     "output_type": "stream",
     "text": [
      "C:\\Users\\Heliiix\\anaconda3\\Lib\\site-packages\\wwo_hist\\__init__.py:69: FutureWarning: Argument `closed` is deprecated in favor of `inclusive`.\n",
      "  list_mon_begin = pd.date_range(start_date, end_date, freq='MS', closed='right')\n",
      "C:\\Users\\Heliiix\\anaconda3\\Lib\\site-packages\\wwo_hist\\__init__.py:74: FutureWarning: Argument `closed` is deprecated in favor of `inclusive`.\n",
      "  list_mon_end = pd.date_range(start_date, end_date, freq='M', closed='left')\n"
     ]
    },
    {
     "name": "stdout",
     "output_type": "stream",
     "text": [
      "Time elapsed (hh:mm:ss.ms) 0:00:02.121616\n",
      "\n",
      "\n",
      "export Northern%20California completed!\n",
      "\n",
      "\n",
      "97\n",
      "Michigan\n",
      "\n",
      "\n",
      "Retrieving weather data for Michigan\n",
      "\n",
      "\n",
      "Currently retrieving data for Michigan: from 2012-10-30 to 2012-10-30\n"
     ]
    },
    {
     "name": "stderr",
     "output_type": "stream",
     "text": [
      "C:\\Users\\Heliiix\\anaconda3\\Lib\\site-packages\\wwo_hist\\__init__.py:69: FutureWarning: Argument `closed` is deprecated in favor of `inclusive`.\n",
      "  list_mon_begin = pd.date_range(start_date, end_date, freq='MS', closed='right')\n",
      "C:\\Users\\Heliiix\\anaconda3\\Lib\\site-packages\\wwo_hist\\__init__.py:74: FutureWarning: Argument `closed` is deprecated in favor of `inclusive`.\n",
      "  list_mon_end = pd.date_range(start_date, end_date, freq='M', closed='left')\n"
     ]
    },
    {
     "name": "stdout",
     "output_type": "stream",
     "text": [
      "Time elapsed (hh:mm:ss.ms) 0:00:01.249818\n",
      "\n",
      "\n",
      "export Michigan completed!\n",
      "\n",
      "\n",
      "98\n",
      "New%20York\n",
      "\n",
      "\n",
      "Retrieving weather data for New%20York\n",
      "\n",
      "\n",
      "Currently retrieving data for New%20York: from 2012-10-31 to 2012-10-31\n"
     ]
    },
    {
     "name": "stderr",
     "output_type": "stream",
     "text": [
      "C:\\Users\\Heliiix\\anaconda3\\Lib\\site-packages\\wwo_hist\\__init__.py:69: FutureWarning: Argument `closed` is deprecated in favor of `inclusive`.\n",
      "  list_mon_begin = pd.date_range(start_date, end_date, freq='MS', closed='right')\n",
      "C:\\Users\\Heliiix\\anaconda3\\Lib\\site-packages\\wwo_hist\\__init__.py:74: FutureWarning: Argument `closed` is deprecated in favor of `inclusive`.\n",
      "  list_mon_end = pd.date_range(start_date, end_date, freq='M', closed='left')\n"
     ]
    },
    {
     "name": "stdout",
     "output_type": "stream",
     "text": [
      "Time elapsed (hh:mm:ss.ms) 0:00:00.258688\n",
      "\n",
      "\n",
      "export New%20York completed!\n",
      "\n",
      "\n",
      "99\n",
      "Newark\n",
      "\n",
      "\n",
      "Retrieving weather data for Newark\n",
      "\n",
      "\n",
      "Currently retrieving data for Newark: from 2012-11-01 to 2012-11-01\n"
     ]
    },
    {
     "name": "stderr",
     "output_type": "stream",
     "text": [
      "C:\\Users\\Heliiix\\anaconda3\\Lib\\site-packages\\wwo_hist\\__init__.py:69: FutureWarning: Argument `closed` is deprecated in favor of `inclusive`.\n",
      "  list_mon_begin = pd.date_range(start_date, end_date, freq='MS', closed='right')\n",
      "C:\\Users\\Heliiix\\anaconda3\\Lib\\site-packages\\wwo_hist\\__init__.py:74: FutureWarning: Argument `closed` is deprecated in favor of `inclusive`.\n",
      "  list_mon_end = pd.date_range(start_date, end_date, freq='M', closed='left')\n"
     ]
    },
    {
     "name": "stdout",
     "output_type": "stream",
     "text": [
      "Time elapsed (hh:mm:ss.ms) 0:00:01.424709\n",
      "Error processing data for location: Newark. Error: 1\n",
      "100\n",
      "Michigan\n",
      "\n",
      "\n",
      "Retrieving weather data for Michigan\n",
      "\n",
      "\n",
      "Currently retrieving data for Michigan: from 2012-11-02 to 2012-11-02\n"
     ]
    },
    {
     "name": "stderr",
     "output_type": "stream",
     "text": [
      "C:\\Users\\Heliiix\\anaconda3\\Lib\\site-packages\\wwo_hist\\__init__.py:69: FutureWarning: Argument `closed` is deprecated in favor of `inclusive`.\n",
      "  list_mon_begin = pd.date_range(start_date, end_date, freq='MS', closed='right')\n",
      "C:\\Users\\Heliiix\\anaconda3\\Lib\\site-packages\\wwo_hist\\__init__.py:74: FutureWarning: Argument `closed` is deprecated in favor of `inclusive`.\n",
      "  list_mon_end = pd.date_range(start_date, end_date, freq='M', closed='left')\n"
     ]
    },
    {
     "name": "stdout",
     "output_type": "stream",
     "text": [
      "Time elapsed (hh:mm:ss.ms) 0:00:00.266225\n",
      "\n",
      "\n",
      "export Michigan completed!\n",
      "\n",
      "\n",
      "101\n",
      "Tacoma\n",
      "\n",
      "\n",
      "Retrieving weather data for Tacoma\n",
      "\n",
      "\n",
      "Currently retrieving data for Tacoma: from 2012-11-03 to 2012-11-03\n"
     ]
    },
    {
     "name": "stderr",
     "output_type": "stream",
     "text": [
      "C:\\Users\\Heliiix\\anaconda3\\Lib\\site-packages\\wwo_hist\\__init__.py:69: FutureWarning: Argument `closed` is deprecated in favor of `inclusive`.\n",
      "  list_mon_begin = pd.date_range(start_date, end_date, freq='MS', closed='right')\n",
      "C:\\Users\\Heliiix\\anaconda3\\Lib\\site-packages\\wwo_hist\\__init__.py:74: FutureWarning: Argument `closed` is deprecated in favor of `inclusive`.\n",
      "  list_mon_end = pd.date_range(start_date, end_date, freq='M', closed='left')\n"
     ]
    },
    {
     "name": "stdout",
     "output_type": "stream",
     "text": [
      "Time elapsed (hh:mm:ss.ms) 0:00:00.283318\n",
      "\n",
      "\n",
      "export Tacoma completed!\n",
      "\n",
      "\n",
      "102\n",
      "Northern%20and%20Central%20California\n",
      "\n",
      "\n",
      "Retrieving weather data for Northern%20and%20Central%20California\n",
      "\n",
      "\n",
      "Currently retrieving data for Northern%20and%20Central%20California: from 2012-11-04 to 2012-11-04\n"
     ]
    },
    {
     "name": "stderr",
     "output_type": "stream",
     "text": [
      "C:\\Users\\Heliiix\\anaconda3\\Lib\\site-packages\\wwo_hist\\__init__.py:69: FutureWarning: Argument `closed` is deprecated in favor of `inclusive`.\n",
      "  list_mon_begin = pd.date_range(start_date, end_date, freq='MS', closed='right')\n",
      "C:\\Users\\Heliiix\\anaconda3\\Lib\\site-packages\\wwo_hist\\__init__.py:74: FutureWarning: Argument `closed` is deprecated in favor of `inclusive`.\n",
      "  list_mon_end = pd.date_range(start_date, end_date, freq='M', closed='left')\n"
     ]
    },
    {
     "name": "stdout",
     "output_type": "stream",
     "text": [
      "Time elapsed (hh:mm:ss.ms) 0:00:00.269614\n",
      "\n",
      "\n",
      "export Northern%20and%20Central%20California completed!\n",
      "\n",
      "\n",
      "103\n",
      "Northern%20Illinois\n",
      "\n",
      "\n",
      "Retrieving weather data for Northern%20Illinois\n",
      "\n",
      "\n",
      "Currently retrieving data for Northern%20Illinois: from 2012-10-25 to 2012-10-25\n"
     ]
    },
    {
     "name": "stderr",
     "output_type": "stream",
     "text": [
      "C:\\Users\\Heliiix\\anaconda3\\Lib\\site-packages\\wwo_hist\\__init__.py:69: FutureWarning: Argument `closed` is deprecated in favor of `inclusive`.\n",
      "  list_mon_begin = pd.date_range(start_date, end_date, freq='MS', closed='right')\n",
      "C:\\Users\\Heliiix\\anaconda3\\Lib\\site-packages\\wwo_hist\\__init__.py:74: FutureWarning: Argument `closed` is deprecated in favor of `inclusive`.\n",
      "  list_mon_end = pd.date_range(start_date, end_date, freq='M', closed='left')\n"
     ]
    },
    {
     "name": "stdout",
     "output_type": "stream",
     "text": [
      "Time elapsed (hh:mm:ss.ms) 0:00:00.270473\n",
      "\n",
      "\n",
      "export Northern%20Illinois completed!\n",
      "\n",
      "\n",
      "104\n",
      "Texas\n",
      "\n",
      "\n",
      "Retrieving weather data for Texas\n",
      "\n",
      "\n",
      "Currently retrieving data for Texas: from 2012-10-14 to 2012-10-14\n"
     ]
    },
    {
     "name": "stderr",
     "output_type": "stream",
     "text": [
      "C:\\Users\\Heliiix\\anaconda3\\Lib\\site-packages\\wwo_hist\\__init__.py:69: FutureWarning: Argument `closed` is deprecated in favor of `inclusive`.\n",
      "  list_mon_begin = pd.date_range(start_date, end_date, freq='MS', closed='right')\n",
      "C:\\Users\\Heliiix\\anaconda3\\Lib\\site-packages\\wwo_hist\\__init__.py:74: FutureWarning: Argument `closed` is deprecated in favor of `inclusive`.\n",
      "  list_mon_end = pd.date_range(start_date, end_date, freq='M', closed='left')\n"
     ]
    },
    {
     "name": "stdout",
     "output_type": "stream",
     "text": [
      "Time elapsed (hh:mm:ss.ms) 0:00:00.267258\n",
      "\n",
      "\n",
      "export Texas completed!\n",
      "\n",
      "\n",
      "105\n",
      "Southern%20California\n",
      "\n",
      "\n",
      "Retrieving weather data for Southern%20California\n",
      "\n",
      "\n",
      "Currently retrieving data for Southern%20California: from 2012-09-11 to 2012-09-11\n"
     ]
    },
    {
     "name": "stderr",
     "output_type": "stream",
     "text": [
      "C:\\Users\\Heliiix\\anaconda3\\Lib\\site-packages\\wwo_hist\\__init__.py:69: FutureWarning: Argument `closed` is deprecated in favor of `inclusive`.\n",
      "  list_mon_begin = pd.date_range(start_date, end_date, freq='MS', closed='right')\n",
      "C:\\Users\\Heliiix\\anaconda3\\Lib\\site-packages\\wwo_hist\\__init__.py:74: FutureWarning: Argument `closed` is deprecated in favor of `inclusive`.\n",
      "  list_mon_end = pd.date_range(start_date, end_date, freq='M', closed='left')\n"
     ]
    },
    {
     "name": "stdout",
     "output_type": "stream",
     "text": [
      "Time elapsed (hh:mm:ss.ms) 0:00:00.276514\n",
      "\n",
      "\n",
      "export Southern%20California completed!\n",
      "\n",
      "\n",
      "106\n",
      "Pennsylvania\n",
      "\n",
      "\n",
      "Retrieving weather data for Pennsylvania\n",
      "\n",
      "\n",
      "Currently retrieving data for Pennsylvania: from 2012-09-08 to 2012-09-08\n"
     ]
    },
    {
     "name": "stderr",
     "output_type": "stream",
     "text": [
      "C:\\Users\\Heliiix\\anaconda3\\Lib\\site-packages\\wwo_hist\\__init__.py:69: FutureWarning: Argument `closed` is deprecated in favor of `inclusive`.\n",
      "  list_mon_begin = pd.date_range(start_date, end_date, freq='MS', closed='right')\n",
      "C:\\Users\\Heliiix\\anaconda3\\Lib\\site-packages\\wwo_hist\\__init__.py:74: FutureWarning: Argument `closed` is deprecated in favor of `inclusive`.\n",
      "  list_mon_end = pd.date_range(start_date, end_date, freq='M', closed='left')\n"
     ]
    },
    {
     "name": "stdout",
     "output_type": "stream",
     "text": [
      "Time elapsed (hh:mm:ss.ms) 0:00:00.335307\n",
      "\n",
      "\n",
      "export Pennsylvania completed!\n",
      "\n",
      "\n",
      "107\n",
      "San%20Francisco%20Bay%20Area\n",
      "\n",
      "\n",
      "Retrieving weather data for San%20Francisco%20Bay%20Area\n",
      "\n",
      "\n",
      "Currently retrieving data for San%20Francisco%20Bay%20Area: from 2012-09-09 to 2012-09-09\n"
     ]
    },
    {
     "name": "stderr",
     "output_type": "stream",
     "text": [
      "C:\\Users\\Heliiix\\anaconda3\\Lib\\site-packages\\wwo_hist\\__init__.py:69: FutureWarning: Argument `closed` is deprecated in favor of `inclusive`.\n",
      "  list_mon_begin = pd.date_range(start_date, end_date, freq='MS', closed='right')\n",
      "C:\\Users\\Heliiix\\anaconda3\\Lib\\site-packages\\wwo_hist\\__init__.py:74: FutureWarning: Argument `closed` is deprecated in favor of `inclusive`.\n",
      "  list_mon_end = pd.date_range(start_date, end_date, freq='M', closed='left')\n"
     ]
    },
    {
     "name": "stdout",
     "output_type": "stream",
     "text": [
      "Time elapsed (hh:mm:ss.ms) 0:00:01.265760\n",
      "\n",
      "\n",
      "export San%20Francisco%20Bay%20Area completed!\n",
      "\n",
      "\n",
      "108\n",
      "Southeastern%20Michigan\n",
      "\n",
      "\n",
      "Retrieving weather data for Southeastern%20Michigan\n",
      "\n",
      "\n",
      "Currently retrieving data for Southeastern%20Michigan: from 2012-09-05 to 2012-09-05\n"
     ]
    },
    {
     "name": "stderr",
     "output_type": "stream",
     "text": [
      "C:\\Users\\Heliiix\\anaconda3\\Lib\\site-packages\\wwo_hist\\__init__.py:69: FutureWarning: Argument `closed` is deprecated in favor of `inclusive`.\n",
      "  list_mon_begin = pd.date_range(start_date, end_date, freq='MS', closed='right')\n",
      "C:\\Users\\Heliiix\\anaconda3\\Lib\\site-packages\\wwo_hist\\__init__.py:74: FutureWarning: Argument `closed` is deprecated in favor of `inclusive`.\n",
      "  list_mon_end = pd.date_range(start_date, end_date, freq='M', closed='left')\n"
     ]
    },
    {
     "name": "stdout",
     "output_type": "stream",
     "text": [
      "Time elapsed (hh:mm:ss.ms) 0:00:00.266307\n",
      "\n",
      "\n",
      "export Southeastern%20Michigan completed!\n",
      "\n",
      "\n",
      "109\n",
      "Southeastern%20Michigan\n",
      "\n",
      "\n",
      "Retrieving weather data for Southeastern%20Michigan\n",
      "\n",
      "\n",
      "Currently retrieving data for Southeastern%20Michigan: from 2012-08-11 to 2012-08-11\n"
     ]
    },
    {
     "name": "stderr",
     "output_type": "stream",
     "text": [
      "C:\\Users\\Heliiix\\anaconda3\\Lib\\site-packages\\wwo_hist\\__init__.py:69: FutureWarning: Argument `closed` is deprecated in favor of `inclusive`.\n",
      "  list_mon_begin = pd.date_range(start_date, end_date, freq='MS', closed='right')\n",
      "C:\\Users\\Heliiix\\anaconda3\\Lib\\site-packages\\wwo_hist\\__init__.py:74: FutureWarning: Argument `closed` is deprecated in favor of `inclusive`.\n",
      "  list_mon_end = pd.date_range(start_date, end_date, freq='M', closed='left')\n"
     ]
    },
    {
     "name": "stdout",
     "output_type": "stream",
     "text": [
      "Time elapsed (hh:mm:ss.ms) 0:00:00.230115\n",
      "\n",
      "\n",
      "export Southeastern%20Michigan completed!\n",
      "\n",
      "\n",
      "110\n",
      "Texas\n",
      "\n",
      "\n",
      "Retrieving weather data for Texas\n",
      "\n",
      "\n",
      "Currently retrieving data for Texas: from 2012-07-24 to 2012-07-24\n"
     ]
    },
    {
     "name": "stderr",
     "output_type": "stream",
     "text": [
      "C:\\Users\\Heliiix\\anaconda3\\Lib\\site-packages\\wwo_hist\\__init__.py:69: FutureWarning: Argument `closed` is deprecated in favor of `inclusive`.\n",
      "  list_mon_begin = pd.date_range(start_date, end_date, freq='MS', closed='right')\n",
      "C:\\Users\\Heliiix\\anaconda3\\Lib\\site-packages\\wwo_hist\\__init__.py:74: FutureWarning: Argument `closed` is deprecated in favor of `inclusive`.\n",
      "  list_mon_end = pd.date_range(start_date, end_date, freq='M', closed='left')\n"
     ]
    },
    {
     "name": "stdout",
     "output_type": "stream",
     "text": [
      "Time elapsed (hh:mm:ss.ms) 0:00:00.349742\n",
      "\n",
      "\n",
      "export Texas completed!\n",
      "\n",
      "\n",
      "111\n",
      "North%20Carolina\n",
      "\n",
      "\n",
      "Retrieving weather data for North%20Carolina\n",
      "\n",
      "\n",
      "Currently retrieving data for North%20Carolina: from 2012-07-19 to 2012-07-19\n"
     ]
    },
    {
     "name": "stderr",
     "output_type": "stream",
     "text": [
      "C:\\Users\\Heliiix\\anaconda3\\Lib\\site-packages\\wwo_hist\\__init__.py:69: FutureWarning: Argument `closed` is deprecated in favor of `inclusive`.\n",
      "  list_mon_begin = pd.date_range(start_date, end_date, freq='MS', closed='right')\n",
      "C:\\Users\\Heliiix\\anaconda3\\Lib\\site-packages\\wwo_hist\\__init__.py:74: FutureWarning: Argument `closed` is deprecated in favor of `inclusive`.\n",
      "  list_mon_end = pd.date_range(start_date, end_date, freq='M', closed='left')\n"
     ]
    },
    {
     "name": "stdout",
     "output_type": "stream",
     "text": [
      "Time elapsed (hh:mm:ss.ms) 0:00:00.270642\n",
      "\n",
      "\n",
      "export North%20Carolina completed!\n",
      "\n",
      "\n",
      "112\n",
      "California\n",
      "\n",
      "\n",
      "Retrieving weather data for California\n",
      "\n",
      "\n",
      "Currently retrieving data for California: from 2012-07-18 to 2012-07-18\n"
     ]
    },
    {
     "name": "stderr",
     "output_type": "stream",
     "text": [
      "C:\\Users\\Heliiix\\anaconda3\\Lib\\site-packages\\wwo_hist\\__init__.py:69: FutureWarning: Argument `closed` is deprecated in favor of `inclusive`.\n",
      "  list_mon_begin = pd.date_range(start_date, end_date, freq='MS', closed='right')\n",
      "C:\\Users\\Heliiix\\anaconda3\\Lib\\site-packages\\wwo_hist\\__init__.py:74: FutureWarning: Argument `closed` is deprecated in favor of `inclusive`.\n",
      "  list_mon_end = pd.date_range(start_date, end_date, freq='M', closed='left')\n"
     ]
    },
    {
     "name": "stdout",
     "output_type": "stream",
     "text": [
      "Time elapsed (hh:mm:ss.ms) 0:00:00.992729\n",
      "\n",
      "\n",
      "export California completed!\n",
      "\n",
      "\n",
      "113\n",
      "North%20Carolina\n",
      "\n",
      "\n",
      "Retrieving weather data for North%20Carolina\n",
      "\n",
      "\n",
      "Currently retrieving data for North%20Carolina: from 2012-07-09 to 2012-07-09\n"
     ]
    },
    {
     "name": "stderr",
     "output_type": "stream",
     "text": [
      "C:\\Users\\Heliiix\\anaconda3\\Lib\\site-packages\\wwo_hist\\__init__.py:69: FutureWarning: Argument `closed` is deprecated in favor of `inclusive`.\n",
      "  list_mon_begin = pd.date_range(start_date, end_date, freq='MS', closed='right')\n",
      "C:\\Users\\Heliiix\\anaconda3\\Lib\\site-packages\\wwo_hist\\__init__.py:74: FutureWarning: Argument `closed` is deprecated in favor of `inclusive`.\n",
      "  list_mon_end = pd.date_range(start_date, end_date, freq='M', closed='left')\n"
     ]
    },
    {
     "name": "stdout",
     "output_type": "stream",
     "text": [
      "Time elapsed (hh:mm:ss.ms) 0:00:00.278949\n",
      "\n",
      "\n",
      "export North%20Carolina completed!\n",
      "\n",
      "\n",
      "114\n",
      "Island%20of%20Puerto%20Rico\n",
      "\n",
      "\n",
      "Retrieving weather data for Island%20of%20Puerto%20Rico\n",
      "\n",
      "\n",
      "Currently retrieving data for Island%20of%20Puerto%20Rico: from 2012-07-06 to 2012-07-06\n"
     ]
    },
    {
     "name": "stderr",
     "output_type": "stream",
     "text": [
      "C:\\Users\\Heliiix\\anaconda3\\Lib\\site-packages\\wwo_hist\\__init__.py:69: FutureWarning: Argument `closed` is deprecated in favor of `inclusive`.\n",
      "  list_mon_begin = pd.date_range(start_date, end_date, freq='MS', closed='right')\n",
      "C:\\Users\\Heliiix\\anaconda3\\Lib\\site-packages\\wwo_hist\\__init__.py:74: FutureWarning: Argument `closed` is deprecated in favor of `inclusive`.\n",
      "  list_mon_end = pd.date_range(start_date, end_date, freq='M', closed='left')\n"
     ]
    },
    {
     "name": "stdout",
     "output_type": "stream",
     "text": [
      "Time elapsed (hh:mm:ss.ms) 0:00:00.273781\n",
      "\n",
      "\n",
      "export Island%20of%20Puerto%20Rico completed!\n",
      "\n",
      "\n",
      "115\n",
      "Northern%20California\n",
      "\n",
      "\n",
      "Retrieving weather data for Northern%20California\n",
      "\n",
      "\n",
      "Currently retrieving data for Northern%20California: from 2012-07-01 to 2012-07-01\n"
     ]
    },
    {
     "name": "stderr",
     "output_type": "stream",
     "text": [
      "C:\\Users\\Heliiix\\anaconda3\\Lib\\site-packages\\wwo_hist\\__init__.py:69: FutureWarning: Argument `closed` is deprecated in favor of `inclusive`.\n",
      "  list_mon_begin = pd.date_range(start_date, end_date, freq='MS', closed='right')\n",
      "C:\\Users\\Heliiix\\anaconda3\\Lib\\site-packages\\wwo_hist\\__init__.py:74: FutureWarning: Argument `closed` is deprecated in favor of `inclusive`.\n",
      "  list_mon_end = pd.date_range(start_date, end_date, freq='M', closed='left')\n"
     ]
    },
    {
     "name": "stdout",
     "output_type": "stream",
     "text": [
      "Time elapsed (hh:mm:ss.ms) 0:00:00.341148\n",
      "Error processing data for location: Northern California. Error: 1\n",
      "116\n",
      "Island%20of%20Puerto%20Rico\n",
      "\n",
      "\n",
      "Retrieving weather data for Island%20of%20Puerto%20Rico\n",
      "\n",
      "\n",
      "Currently retrieving data for Island%20of%20Puerto%20Rico: from 2012-07-02 to 2012-07-02\n"
     ]
    },
    {
     "name": "stderr",
     "output_type": "stream",
     "text": [
      "C:\\Users\\Heliiix\\anaconda3\\Lib\\site-packages\\wwo_hist\\__init__.py:69: FutureWarning: Argument `closed` is deprecated in favor of `inclusive`.\n",
      "  list_mon_begin = pd.date_range(start_date, end_date, freq='MS', closed='right')\n",
      "C:\\Users\\Heliiix\\anaconda3\\Lib\\site-packages\\wwo_hist\\__init__.py:74: FutureWarning: Argument `closed` is deprecated in favor of `inclusive`.\n",
      "  list_mon_end = pd.date_range(start_date, end_date, freq='M', closed='left')\n"
     ]
    },
    {
     "name": "stdout",
     "output_type": "stream",
     "text": [
      "Time elapsed (hh:mm:ss.ms) 0:00:00.235645\n",
      "\n",
      "\n",
      "export Island%20of%20Puerto%20Rico completed!\n",
      "\n",
      "\n",
      "117\n",
      "Northern%20Illinois\n",
      "\n",
      "\n",
      "Retrieving weather data for Northern%20Illinois\n",
      "\n",
      "\n",
      "Currently retrieving data for Northern%20Illinois: from 2012-07-03 to 2012-07-03\n"
     ]
    },
    {
     "name": "stderr",
     "output_type": "stream",
     "text": [
      "C:\\Users\\Heliiix\\anaconda3\\Lib\\site-packages\\wwo_hist\\__init__.py:69: FutureWarning: Argument `closed` is deprecated in favor of `inclusive`.\n",
      "  list_mon_begin = pd.date_range(start_date, end_date, freq='MS', closed='right')\n",
      "C:\\Users\\Heliiix\\anaconda3\\Lib\\site-packages\\wwo_hist\\__init__.py:74: FutureWarning: Argument `closed` is deprecated in favor of `inclusive`.\n",
      "  list_mon_end = pd.date_range(start_date, end_date, freq='M', closed='left')\n"
     ]
    },
    {
     "name": "stdout",
     "output_type": "stream",
     "text": [
      "Time elapsed (hh:mm:ss.ms) 0:00:00.261023\n",
      "\n",
      "\n",
      "export Northern%20Illinois completed!\n",
      "\n",
      "\n",
      "118\n",
      "North%20Carolina\n",
      "\n",
      "\n",
      "Retrieving weather data for North%20Carolina\n",
      "\n",
      "\n",
      "Currently retrieving data for North%20Carolina: from 2012-06-29 to 2012-06-29\n"
     ]
    },
    {
     "name": "stderr",
     "output_type": "stream",
     "text": [
      "C:\\Users\\Heliiix\\anaconda3\\Lib\\site-packages\\wwo_hist\\__init__.py:69: FutureWarning: Argument `closed` is deprecated in favor of `inclusive`.\n",
      "  list_mon_begin = pd.date_range(start_date, end_date, freq='MS', closed='right')\n",
      "C:\\Users\\Heliiix\\anaconda3\\Lib\\site-packages\\wwo_hist\\__init__.py:74: FutureWarning: Argument `closed` is deprecated in favor of `inclusive`.\n",
      "  list_mon_end = pd.date_range(start_date, end_date, freq='M', closed='left')\n"
     ]
    },
    {
     "name": "stdout",
     "output_type": "stream",
     "text": [
      "Time elapsed (hh:mm:ss.ms) 0:00:00.252245\n",
      "\n",
      "\n",
      "export North%20Carolina completed!\n",
      "\n",
      "\n",
      "119\n",
      "Southeastern%20Michigan\n",
      "\n",
      "\n",
      "Retrieving weather data for Southeastern%20Michigan\n",
      "\n",
      "\n",
      "Currently retrieving data for Southeastern%20Michigan: from 2012-06-30 to 2012-06-30\n"
     ]
    },
    {
     "name": "stderr",
     "output_type": "stream",
     "text": [
      "C:\\Users\\Heliiix\\anaconda3\\Lib\\site-packages\\wwo_hist\\__init__.py:69: FutureWarning: Argument `closed` is deprecated in favor of `inclusive`.\n",
      "  list_mon_begin = pd.date_range(start_date, end_date, freq='MS', closed='right')\n",
      "C:\\Users\\Heliiix\\anaconda3\\Lib\\site-packages\\wwo_hist\\__init__.py:74: FutureWarning: Argument `closed` is deprecated in favor of `inclusive`.\n",
      "  list_mon_end = pd.date_range(start_date, end_date, freq='M', closed='left')\n"
     ]
    },
    {
     "name": "stdout",
     "output_type": "stream",
     "text": [
      "Time elapsed (hh:mm:ss.ms) 0:00:00.570881\n",
      "\n",
      "\n",
      "export Southeastern%20Michigan completed!\n",
      "\n",
      "\n",
      "120\n",
      "Michigan\n",
      "\n",
      "\n",
      "Retrieving weather data for Michigan\n",
      "\n",
      "\n",
      "Currently retrieving data for Michigan: from 2012-07-04 to 2012-07-04\n"
     ]
    },
    {
     "name": "stderr",
     "output_type": "stream",
     "text": [
      "C:\\Users\\Heliiix\\anaconda3\\Lib\\site-packages\\wwo_hist\\__init__.py:69: FutureWarning: Argument `closed` is deprecated in favor of `inclusive`.\n",
      "  list_mon_begin = pd.date_range(start_date, end_date, freq='MS', closed='right')\n",
      "C:\\Users\\Heliiix\\anaconda3\\Lib\\site-packages\\wwo_hist\\__init__.py:74: FutureWarning: Argument `closed` is deprecated in favor of `inclusive`.\n",
      "  list_mon_end = pd.date_range(start_date, end_date, freq='M', closed='left')\n"
     ]
    },
    {
     "name": "stdout",
     "output_type": "stream",
     "text": [
      "Time elapsed (hh:mm:ss.ms) 0:00:00.335915\n",
      "\n",
      "\n",
      "export Michigan completed!\n",
      "\n",
      "\n",
      "121\n",
      "Ohio\n",
      "\n",
      "\n",
      "Retrieving weather data for Ohio\n",
      "\n",
      "\n",
      "Currently retrieving data for Ohio: from 2012-04-21 to 2012-04-21\n"
     ]
    },
    {
     "name": "stderr",
     "output_type": "stream",
     "text": [
      "C:\\Users\\Heliiix\\anaconda3\\Lib\\site-packages\\wwo_hist\\__init__.py:69: FutureWarning: Argument `closed` is deprecated in favor of `inclusive`.\n",
      "  list_mon_begin = pd.date_range(start_date, end_date, freq='MS', closed='right')\n",
      "C:\\Users\\Heliiix\\anaconda3\\Lib\\site-packages\\wwo_hist\\__init__.py:74: FutureWarning: Argument `closed` is deprecated in favor of `inclusive`.\n",
      "  list_mon_end = pd.date_range(start_date, end_date, freq='M', closed='left')\n"
     ]
    },
    {
     "name": "stdout",
     "output_type": "stream",
     "text": [
      "Time elapsed (hh:mm:ss.ms) 0:00:00.272098\n",
      "\n",
      "\n",
      "export Ohio completed!\n",
      "\n",
      "\n",
      "122\n",
      "Southeastern%20Michigan\n",
      "\n",
      "\n",
      "Retrieving weather data for Southeastern%20Michigan\n",
      "\n",
      "\n",
      "Currently retrieving data for Southeastern%20Michigan: from 2012-04-22 to 2012-04-22\n"
     ]
    },
    {
     "name": "stderr",
     "output_type": "stream",
     "text": [
      "C:\\Users\\Heliiix\\anaconda3\\Lib\\site-packages\\wwo_hist\\__init__.py:69: FutureWarning: Argument `closed` is deprecated in favor of `inclusive`.\n",
      "  list_mon_begin = pd.date_range(start_date, end_date, freq='MS', closed='right')\n",
      "C:\\Users\\Heliiix\\anaconda3\\Lib\\site-packages\\wwo_hist\\__init__.py:74: FutureWarning: Argument `closed` is deprecated in favor of `inclusive`.\n",
      "  list_mon_end = pd.date_range(start_date, end_date, freq='M', closed='left')\n"
     ]
    },
    {
     "name": "stdout",
     "output_type": "stream",
     "text": [
      "Time elapsed (hh:mm:ss.ms) 0:00:00.279429\n",
      "\n",
      "\n",
      "export Southeastern%20Michigan completed!\n",
      "\n",
      "\n",
      "123\n",
      "Virginia\n",
      "\n",
      "\n",
      "Retrieving weather data for Virginia\n",
      "\n",
      "\n",
      "Currently retrieving data for Virginia: from 2012-04-23 to 2012-04-23\n"
     ]
    },
    {
     "name": "stderr",
     "output_type": "stream",
     "text": [
      "C:\\Users\\Heliiix\\anaconda3\\Lib\\site-packages\\wwo_hist\\__init__.py:69: FutureWarning: Argument `closed` is deprecated in favor of `inclusive`.\n",
      "  list_mon_begin = pd.date_range(start_date, end_date, freq='MS', closed='right')\n",
      "C:\\Users\\Heliiix\\anaconda3\\Lib\\site-packages\\wwo_hist\\__init__.py:74: FutureWarning: Argument `closed` is deprecated in favor of `inclusive`.\n",
      "  list_mon_end = pd.date_range(start_date, end_date, freq='M', closed='left')\n"
     ]
    },
    {
     "name": "stdout",
     "output_type": "stream",
     "text": [
      "Time elapsed (hh:mm:ss.ms) 0:00:00.252916\n",
      "\n",
      "\n",
      "export Virginia completed!\n",
      "\n",
      "\n",
      "124\n",
      "California\n",
      "\n",
      "\n",
      "Retrieving weather data for California\n",
      "\n",
      "\n",
      "Currently retrieving data for California: from 2012-04-19 to 2012-04-19\n"
     ]
    },
    {
     "name": "stderr",
     "output_type": "stream",
     "text": [
      "C:\\Users\\Heliiix\\anaconda3\\Lib\\site-packages\\wwo_hist\\__init__.py:69: FutureWarning: Argument `closed` is deprecated in favor of `inclusive`.\n",
      "  list_mon_begin = pd.date_range(start_date, end_date, freq='MS', closed='right')\n",
      "C:\\Users\\Heliiix\\anaconda3\\Lib\\site-packages\\wwo_hist\\__init__.py:74: FutureWarning: Argument `closed` is deprecated in favor of `inclusive`.\n",
      "  list_mon_end = pd.date_range(start_date, end_date, freq='M', closed='left')\n"
     ]
    },
    {
     "name": "stdout",
     "output_type": "stream",
     "text": [
      "Time elapsed (hh:mm:ss.ms) 0:00:00.261008\n",
      "\n",
      "\n",
      "export California completed!\n",
      "\n",
      "\n",
      "125\n",
      "North%20Carolina\n",
      "\n",
      "\n",
      "Retrieving weather data for North%20Carolina\n",
      "\n",
      "\n",
      "Currently retrieving data for North%20Carolina: from 2012-04-15 to 2012-04-15\n"
     ]
    },
    {
     "name": "stderr",
     "output_type": "stream",
     "text": [
      "C:\\Users\\Heliiix\\anaconda3\\Lib\\site-packages\\wwo_hist\\__init__.py:69: FutureWarning: Argument `closed` is deprecated in favor of `inclusive`.\n",
      "  list_mon_begin = pd.date_range(start_date, end_date, freq='MS', closed='right')\n",
      "C:\\Users\\Heliiix\\anaconda3\\Lib\\site-packages\\wwo_hist\\__init__.py:74: FutureWarning: Argument `closed` is deprecated in favor of `inclusive`.\n",
      "  list_mon_end = pd.date_range(start_date, end_date, freq='M', closed='left')\n"
     ]
    },
    {
     "name": "stdout",
     "output_type": "stream",
     "text": [
      "Time elapsed (hh:mm:ss.ms) 0:00:00.294036\n",
      "\n",
      "\n",
      "export North%20Carolina completed!\n",
      "\n",
      "\n",
      "126\n",
      "Georgia\n",
      "\n",
      "\n",
      "Retrieving weather data for Georgia\n",
      "\n",
      "\n",
      "Currently retrieving data for Georgia: from 2012-04-12 to 2012-04-12\n"
     ]
    },
    {
     "name": "stderr",
     "output_type": "stream",
     "text": [
      "C:\\Users\\Heliiix\\anaconda3\\Lib\\site-packages\\wwo_hist\\__init__.py:69: FutureWarning: Argument `closed` is deprecated in favor of `inclusive`.\n",
      "  list_mon_begin = pd.date_range(start_date, end_date, freq='MS', closed='right')\n",
      "C:\\Users\\Heliiix\\anaconda3\\Lib\\site-packages\\wwo_hist\\__init__.py:74: FutureWarning: Argument `closed` is deprecated in favor of `inclusive`.\n",
      "  list_mon_end = pd.date_range(start_date, end_date, freq='M', closed='left')\n"
     ]
    },
    {
     "name": "stdout",
     "output_type": "stream",
     "text": [
      "Time elapsed (hh:mm:ss.ms) 0:00:00.532320\n",
      "\n",
      "\n",
      "export Georgia completed!\n",
      "\n",
      "\n",
      "127\n",
      "Pennsylvania\n",
      "\n",
      "\n",
      "Retrieving weather data for Pennsylvania\n",
      "\n",
      "\n",
      "Currently retrieving data for Pennsylvania: from 2012-04-07 to 2012-04-07\n"
     ]
    },
    {
     "name": "stderr",
     "output_type": "stream",
     "text": [
      "C:\\Users\\Heliiix\\anaconda3\\Lib\\site-packages\\wwo_hist\\__init__.py:69: FutureWarning: Argument `closed` is deprecated in favor of `inclusive`.\n",
      "  list_mon_begin = pd.date_range(start_date, end_date, freq='MS', closed='right')\n",
      "C:\\Users\\Heliiix\\anaconda3\\Lib\\site-packages\\wwo_hist\\__init__.py:74: FutureWarning: Argument `closed` is deprecated in favor of `inclusive`.\n",
      "  list_mon_end = pd.date_range(start_date, end_date, freq='M', closed='left')\n"
     ]
    },
    {
     "name": "stdout",
     "output_type": "stream",
     "text": [
      "Time elapsed (hh:mm:ss.ms) 0:00:01.083826\n",
      "\n",
      "\n",
      "export Pennsylvania completed!\n",
      "\n",
      "\n",
      "128\n",
      "Northern%20Illinois\n",
      "\n",
      "\n",
      "Retrieving weather data for Northern%20Illinois\n",
      "\n",
      "\n",
      "Currently retrieving data for Northern%20Illinois: from 2012-03-26 to 2012-03-26\n"
     ]
    },
    {
     "name": "stderr",
     "output_type": "stream",
     "text": [
      "C:\\Users\\Heliiix\\anaconda3\\Lib\\site-packages\\wwo_hist\\__init__.py:69: FutureWarning: Argument `closed` is deprecated in favor of `inclusive`.\n",
      "  list_mon_begin = pd.date_range(start_date, end_date, freq='MS', closed='right')\n",
      "C:\\Users\\Heliiix\\anaconda3\\Lib\\site-packages\\wwo_hist\\__init__.py:74: FutureWarning: Argument `closed` is deprecated in favor of `inclusive`.\n",
      "  list_mon_end = pd.date_range(start_date, end_date, freq='M', closed='left')\n"
     ]
    },
    {
     "name": "stdout",
     "output_type": "stream",
     "text": [
      "Time elapsed (hh:mm:ss.ms) 0:00:00.632777\n",
      "\n",
      "\n",
      "export Northern%20Illinois completed!\n",
      "\n",
      "\n",
      "129\n",
      "Northern%20Illinois\n",
      "\n",
      "\n",
      "Retrieving weather data for Northern%20Illinois\n",
      "\n",
      "\n",
      "Currently retrieving data for Northern%20Illinois: from 2012-03-23 to 2012-03-23\n"
     ]
    },
    {
     "name": "stderr",
     "output_type": "stream",
     "text": [
      "C:\\Users\\Heliiix\\anaconda3\\Lib\\site-packages\\wwo_hist\\__init__.py:69: FutureWarning: Argument `closed` is deprecated in favor of `inclusive`.\n",
      "  list_mon_begin = pd.date_range(start_date, end_date, freq='MS', closed='right')\n",
      "C:\\Users\\Heliiix\\anaconda3\\Lib\\site-packages\\wwo_hist\\__init__.py:74: FutureWarning: Argument `closed` is deprecated in favor of `inclusive`.\n",
      "  list_mon_end = pd.date_range(start_date, end_date, freq='M', closed='left')\n"
     ]
    },
    {
     "name": "stdout",
     "output_type": "stream",
     "text": [
      "Time elapsed (hh:mm:ss.ms) 0:00:00.303230\n",
      "\n",
      "\n",
      "export Northern%20Illinois completed!\n",
      "\n",
      "\n",
      "130\n",
      "Northern%20Illinois\n",
      "\n",
      "\n",
      "Retrieving weather data for Northern%20Illinois\n",
      "\n",
      "\n",
      "Currently retrieving data for Northern%20Illinois: from 2012-03-04 to 2012-03-04\n"
     ]
    },
    {
     "name": "stderr",
     "output_type": "stream",
     "text": [
      "C:\\Users\\Heliiix\\anaconda3\\Lib\\site-packages\\wwo_hist\\__init__.py:69: FutureWarning: Argument `closed` is deprecated in favor of `inclusive`.\n",
      "  list_mon_begin = pd.date_range(start_date, end_date, freq='MS', closed='right')\n",
      "C:\\Users\\Heliiix\\anaconda3\\Lib\\site-packages\\wwo_hist\\__init__.py:74: FutureWarning: Argument `closed` is deprecated in favor of `inclusive`.\n",
      "  list_mon_end = pd.date_range(start_date, end_date, freq='M', closed='left')\n"
     ]
    },
    {
     "name": "stdout",
     "output_type": "stream",
     "text": [
      "Time elapsed (hh:mm:ss.ms) 0:00:01.233230\n",
      "\n",
      "\n",
      "export Northern%20Illinois completed!\n",
      "\n",
      "\n",
      "131\n",
      "Northern%20Illinois\n",
      "\n",
      "\n",
      "Retrieving weather data for Northern%20Illinois\n",
      "\n",
      "\n",
      "Currently retrieving data for Northern%20Illinois: from 2012-03-05 to 2012-03-05\n"
     ]
    },
    {
     "name": "stderr",
     "output_type": "stream",
     "text": [
      "C:\\Users\\Heliiix\\anaconda3\\Lib\\site-packages\\wwo_hist\\__init__.py:69: FutureWarning: Argument `closed` is deprecated in favor of `inclusive`.\n",
      "  list_mon_begin = pd.date_range(start_date, end_date, freq='MS', closed='right')\n",
      "C:\\Users\\Heliiix\\anaconda3\\Lib\\site-packages\\wwo_hist\\__init__.py:74: FutureWarning: Argument `closed` is deprecated in favor of `inclusive`.\n",
      "  list_mon_end = pd.date_range(start_date, end_date, freq='M', closed='left')\n"
     ]
    },
    {
     "name": "stdout",
     "output_type": "stream",
     "text": [
      "Time elapsed (hh:mm:ss.ms) 0:00:00.272925\n",
      "\n",
      "\n",
      "export Northern%20Illinois completed!\n",
      "\n",
      "\n",
      "132\n",
      "Michigan\n",
      "\n",
      "\n",
      "Retrieving weather data for Michigan\n",
      "\n",
      "\n",
      "Currently retrieving data for Michigan: from 2012-02-14 to 2012-02-14\n"
     ]
    },
    {
     "name": "stderr",
     "output_type": "stream",
     "text": [
      "C:\\Users\\Heliiix\\anaconda3\\Lib\\site-packages\\wwo_hist\\__init__.py:69: FutureWarning: Argument `closed` is deprecated in favor of `inclusive`.\n",
      "  list_mon_begin = pd.date_range(start_date, end_date, freq='MS', closed='right')\n",
      "C:\\Users\\Heliiix\\anaconda3\\Lib\\site-packages\\wwo_hist\\__init__.py:74: FutureWarning: Argument `closed` is deprecated in favor of `inclusive`.\n",
      "  list_mon_end = pd.date_range(start_date, end_date, freq='M', closed='left')\n"
     ]
    },
    {
     "name": "stdout",
     "output_type": "stream",
     "text": [
      "Time elapsed (hh:mm:ss.ms) 0:00:01.282867\n",
      "\n",
      "\n",
      "export Michigan completed!\n",
      "\n",
      "\n",
      "133\n",
      "San%20Francisco%20Bay%20Area\n",
      "\n",
      "\n",
      "Retrieving weather data for San%20Francisco%20Bay%20Area\n",
      "\n",
      "\n",
      "Currently retrieving data for San%20Francisco%20Bay%20Area: from 2012-02-15 to 2012-02-15\n"
     ]
    },
    {
     "name": "stderr",
     "output_type": "stream",
     "text": [
      "C:\\Users\\Heliiix\\anaconda3\\Lib\\site-packages\\wwo_hist\\__init__.py:69: FutureWarning: Argument `closed` is deprecated in favor of `inclusive`.\n",
      "  list_mon_begin = pd.date_range(start_date, end_date, freq='MS', closed='right')\n",
      "C:\\Users\\Heliiix\\anaconda3\\Lib\\site-packages\\wwo_hist\\__init__.py:74: FutureWarning: Argument `closed` is deprecated in favor of `inclusive`.\n",
      "  list_mon_end = pd.date_range(start_date, end_date, freq='M', closed='left')\n"
     ]
    },
    {
     "name": "stdout",
     "output_type": "stream",
     "text": [
      "Time elapsed (hh:mm:ss.ms) 0:00:00.243561\n",
      "\n",
      "\n",
      "export San%20Francisco%20Bay%20Area completed!\n",
      "\n",
      "\n",
      "134\n",
      "Northern%20Illinois\n",
      "\n",
      "\n",
      "Retrieving weather data for Northern%20Illinois\n",
      "\n",
      "\n",
      "Currently retrieving data for Northern%20Illinois: from 2012-02-11 to 2012-02-11\n"
     ]
    },
    {
     "name": "stderr",
     "output_type": "stream",
     "text": [
      "C:\\Users\\Heliiix\\anaconda3\\Lib\\site-packages\\wwo_hist\\__init__.py:69: FutureWarning: Argument `closed` is deprecated in favor of `inclusive`.\n",
      "  list_mon_begin = pd.date_range(start_date, end_date, freq='MS', closed='right')\n",
      "C:\\Users\\Heliiix\\anaconda3\\Lib\\site-packages\\wwo_hist\\__init__.py:74: FutureWarning: Argument `closed` is deprecated in favor of `inclusive`.\n",
      "  list_mon_end = pd.date_range(start_date, end_date, freq='M', closed='left')\n"
     ]
    },
    {
     "name": "stdout",
     "output_type": "stream",
     "text": [
      "Time elapsed (hh:mm:ss.ms) 0:00:01.286044\n",
      "\n",
      "\n",
      "export Northern%20Illinois completed!\n",
      "\n",
      "\n",
      "135\n",
      "New%20York\n",
      "\n",
      "\n",
      "Retrieving weather data for New%20York\n",
      "\n",
      "\n",
      "Currently retrieving data for New%20York: from 2012-01-24 to 2012-01-24\n"
     ]
    },
    {
     "name": "stderr",
     "output_type": "stream",
     "text": [
      "C:\\Users\\Heliiix\\anaconda3\\Lib\\site-packages\\wwo_hist\\__init__.py:69: FutureWarning: Argument `closed` is deprecated in favor of `inclusive`.\n",
      "  list_mon_begin = pd.date_range(start_date, end_date, freq='MS', closed='right')\n",
      "C:\\Users\\Heliiix\\anaconda3\\Lib\\site-packages\\wwo_hist\\__init__.py:74: FutureWarning: Argument `closed` is deprecated in favor of `inclusive`.\n",
      "  list_mon_end = pd.date_range(start_date, end_date, freq='M', closed='left')\n"
     ]
    },
    {
     "name": "stdout",
     "output_type": "stream",
     "text": [
      "Time elapsed (hh:mm:ss.ms) 0:00:01.281511\n",
      "\n",
      "\n",
      "export New%20York completed!\n",
      "\n",
      "\n",
      "136\n",
      "North%20Carolina\n",
      "\n",
      "\n",
      "Retrieving weather data for North%20Carolina\n",
      "\n",
      "\n",
      "Currently retrieving data for North%20Carolina: from 2012-01-15 to 2012-01-15\n"
     ]
    },
    {
     "name": "stderr",
     "output_type": "stream",
     "text": [
      "C:\\Users\\Heliiix\\anaconda3\\Lib\\site-packages\\wwo_hist\\__init__.py:69: FutureWarning: Argument `closed` is deprecated in favor of `inclusive`.\n",
      "  list_mon_begin = pd.date_range(start_date, end_date, freq='MS', closed='right')\n",
      "C:\\Users\\Heliiix\\anaconda3\\Lib\\site-packages\\wwo_hist\\__init__.py:74: FutureWarning: Argument `closed` is deprecated in favor of `inclusive`.\n",
      "  list_mon_end = pd.date_range(start_date, end_date, freq='M', closed='left')\n"
     ]
    },
    {
     "name": "stdout",
     "output_type": "stream",
     "text": [
      "Time elapsed (hh:mm:ss.ms) 0:00:00.278930\n",
      "\n",
      "\n",
      "export North%20Carolina completed!\n",
      "\n",
      "\n",
      "137\n",
      "Newark\n",
      "\n",
      "\n",
      "Retrieving weather data for Newark\n",
      "\n",
      "\n",
      "Currently retrieving data for Newark: from 2012-01-13 to 2012-01-13\n"
     ]
    },
    {
     "name": "stderr",
     "output_type": "stream",
     "text": [
      "C:\\Users\\Heliiix\\anaconda3\\Lib\\site-packages\\wwo_hist\\__init__.py:69: FutureWarning: Argument `closed` is deprecated in favor of `inclusive`.\n",
      "  list_mon_begin = pd.date_range(start_date, end_date, freq='MS', closed='right')\n",
      "C:\\Users\\Heliiix\\anaconda3\\Lib\\site-packages\\wwo_hist\\__init__.py:74: FutureWarning: Argument `closed` is deprecated in favor of `inclusive`.\n",
      "  list_mon_end = pd.date_range(start_date, end_date, freq='M', closed='left')\n"
     ]
    },
    {
     "name": "stdout",
     "output_type": "stream",
     "text": [
      "Time elapsed (hh:mm:ss.ms) 0:00:00.260107\n",
      "\n",
      "\n",
      "export Newark completed!\n",
      "\n",
      "\n",
      "138\n",
      "California\n",
      "\n",
      "\n",
      "Retrieving weather data for California\n",
      "\n",
      "\n",
      "Currently retrieving data for California: from 2012-01-12 to 2012-01-12\n"
     ]
    },
    {
     "name": "stderr",
     "output_type": "stream",
     "text": [
      "C:\\Users\\Heliiix\\anaconda3\\Lib\\site-packages\\wwo_hist\\__init__.py:69: FutureWarning: Argument `closed` is deprecated in favor of `inclusive`.\n",
      "  list_mon_begin = pd.date_range(start_date, end_date, freq='MS', closed='right')\n",
      "C:\\Users\\Heliiix\\anaconda3\\Lib\\site-packages\\wwo_hist\\__init__.py:74: FutureWarning: Argument `closed` is deprecated in favor of `inclusive`.\n",
      "  list_mon_end = pd.date_range(start_date, end_date, freq='M', closed='left')\n"
     ]
    },
    {
     "name": "stdout",
     "output_type": "stream",
     "text": [
      "Time elapsed (hh:mm:ss.ms) 0:00:00.582235\n",
      "\n",
      "\n",
      "export California completed!\n",
      "\n",
      "\n",
      "139\n",
      "Northern%20and%20Central%20California\n",
      "\n",
      "\n",
      "Retrieving weather data for Northern%20and%20Central%20California\n",
      "\n",
      "\n",
      "Currently retrieving data for Northern%20and%20Central%20California: from 2012-01-04 to 2012-01-04\n"
     ]
    },
    {
     "name": "stderr",
     "output_type": "stream",
     "text": [
      "C:\\Users\\Heliiix\\anaconda3\\Lib\\site-packages\\wwo_hist\\__init__.py:69: FutureWarning: Argument `closed` is deprecated in favor of `inclusive`.\n",
      "  list_mon_begin = pd.date_range(start_date, end_date, freq='MS', closed='right')\n",
      "C:\\Users\\Heliiix\\anaconda3\\Lib\\site-packages\\wwo_hist\\__init__.py:74: FutureWarning: Argument `closed` is deprecated in favor of `inclusive`.\n",
      "  list_mon_end = pd.date_range(start_date, end_date, freq='M', closed='left')\n"
     ]
    },
    {
     "name": "stdout",
     "output_type": "stream",
     "text": [
      "Time elapsed (hh:mm:ss.ms) 0:00:00.371580\n",
      "\n",
      "\n",
      "export Northern%20and%20Central%20California completed!\n",
      "\n",
      "\n",
      "140\n",
      "Northern%20and%20Central%20California\n",
      "\n",
      "\n",
      "Retrieving weather data for Northern%20and%20Central%20California\n",
      "\n",
      "\n",
      "Currently retrieving data for Northern%20and%20Central%20California: from 2011-12-31 to 2011-12-31\n"
     ]
    },
    {
     "name": "stderr",
     "output_type": "stream",
     "text": [
      "C:\\Users\\Heliiix\\anaconda3\\Lib\\site-packages\\wwo_hist\\__init__.py:69: FutureWarning: Argument `closed` is deprecated in favor of `inclusive`.\n",
      "  list_mon_begin = pd.date_range(start_date, end_date, freq='MS', closed='right')\n",
      "C:\\Users\\Heliiix\\anaconda3\\Lib\\site-packages\\wwo_hist\\__init__.py:74: FutureWarning: Argument `closed` is deprecated in favor of `inclusive`.\n",
      "  list_mon_end = pd.date_range(start_date, end_date, freq='M', closed='left')\n"
     ]
    },
    {
     "name": "stdout",
     "output_type": "stream",
     "text": [
      "Time elapsed (hh:mm:ss.ms) 0:00:02.320931\n",
      "\n",
      "\n",
      "export Northern%20and%20Central%20California completed!\n",
      "\n",
      "\n",
      "141\n",
      "Illinois\n",
      "\n",
      "\n",
      "Retrieving weather data for Illinois\n",
      "\n",
      "\n",
      "Currently retrieving data for Illinois: from 2011-12-20 to 2011-12-20\n"
     ]
    },
    {
     "name": "stderr",
     "output_type": "stream",
     "text": [
      "C:\\Users\\Heliiix\\anaconda3\\Lib\\site-packages\\wwo_hist\\__init__.py:69: FutureWarning: Argument `closed` is deprecated in favor of `inclusive`.\n",
      "  list_mon_begin = pd.date_range(start_date, end_date, freq='MS', closed='right')\n",
      "C:\\Users\\Heliiix\\anaconda3\\Lib\\site-packages\\wwo_hist\\__init__.py:74: FutureWarning: Argument `closed` is deprecated in favor of `inclusive`.\n",
      "  list_mon_end = pd.date_range(start_date, end_date, freq='M', closed='left')\n"
     ]
    },
    {
     "name": "stdout",
     "output_type": "stream",
     "text": [
      "Time elapsed (hh:mm:ss.ms) 0:00:00.361215\n",
      "\n",
      "\n",
      "export Illinois completed!\n",
      "\n",
      "\n",
      "142\n",
      "Ohio\n",
      "\n",
      "\n",
      "Retrieving weather data for Ohio\n",
      "\n",
      "\n",
      "Currently retrieving data for Ohio: from 2011-12-08 to 2011-12-08\n"
     ]
    },
    {
     "name": "stderr",
     "output_type": "stream",
     "text": [
      "C:\\Users\\Heliiix\\anaconda3\\Lib\\site-packages\\wwo_hist\\__init__.py:69: FutureWarning: Argument `closed` is deprecated in favor of `inclusive`.\n",
      "  list_mon_begin = pd.date_range(start_date, end_date, freq='MS', closed='right')\n",
      "C:\\Users\\Heliiix\\anaconda3\\Lib\\site-packages\\wwo_hist\\__init__.py:74: FutureWarning: Argument `closed` is deprecated in favor of `inclusive`.\n",
      "  list_mon_end = pd.date_range(start_date, end_date, freq='M', closed='left')\n"
     ]
    },
    {
     "name": "stdout",
     "output_type": "stream",
     "text": [
      "Time elapsed (hh:mm:ss.ms) 0:00:00.258896\n",
      "\n",
      "\n",
      "export Ohio completed!\n",
      "\n",
      "\n",
      "143\n",
      "Virginia\n",
      "\n",
      "\n",
      "Retrieving weather data for Virginia\n",
      "\n",
      "\n",
      "Currently retrieving data for Virginia: from 2011-12-05 to 2011-12-05\n"
     ]
    },
    {
     "name": "stderr",
     "output_type": "stream",
     "text": [
      "C:\\Users\\Heliiix\\anaconda3\\Lib\\site-packages\\wwo_hist\\__init__.py:69: FutureWarning: Argument `closed` is deprecated in favor of `inclusive`.\n",
      "  list_mon_begin = pd.date_range(start_date, end_date, freq='MS', closed='right')\n",
      "C:\\Users\\Heliiix\\anaconda3\\Lib\\site-packages\\wwo_hist\\__init__.py:74: FutureWarning: Argument `closed` is deprecated in favor of `inclusive`.\n",
      "  list_mon_end = pd.date_range(start_date, end_date, freq='M', closed='left')\n"
     ]
    },
    {
     "name": "stdout",
     "output_type": "stream",
     "text": [
      "Time elapsed (hh:mm:ss.ms) 0:00:03.094481\n",
      "\n",
      "\n",
      "export Virginia completed!\n",
      "\n",
      "\n",
      "144\n",
      "Illinois\n",
      "\n",
      "\n",
      "Retrieving weather data for Illinois\n",
      "\n",
      "\n",
      "Currently retrieving data for Illinois: from 2011-12-06 to 2011-12-06\n"
     ]
    },
    {
     "name": "stderr",
     "output_type": "stream",
     "text": [
      "C:\\Users\\Heliiix\\anaconda3\\Lib\\site-packages\\wwo_hist\\__init__.py:69: FutureWarning: Argument `closed` is deprecated in favor of `inclusive`.\n",
      "  list_mon_begin = pd.date_range(start_date, end_date, freq='MS', closed='right')\n",
      "C:\\Users\\Heliiix\\anaconda3\\Lib\\site-packages\\wwo_hist\\__init__.py:74: FutureWarning: Argument `closed` is deprecated in favor of `inclusive`.\n",
      "  list_mon_end = pd.date_range(start_date, end_date, freq='M', closed='left')\n"
     ]
    },
    {
     "name": "stdout",
     "output_type": "stream",
     "text": [
      "Time elapsed (hh:mm:ss.ms) 0:00:00.295906\n",
      "\n",
      "\n",
      "export Illinois completed!\n",
      "\n",
      "\n",
      "145\n",
      "Pennsylvania\n",
      "\n",
      "\n",
      "Retrieving weather data for Pennsylvania\n",
      "\n",
      "\n",
      "Currently retrieving data for Pennsylvania: from 2011-12-01 to 2011-12-01\n"
     ]
    },
    {
     "name": "stderr",
     "output_type": "stream",
     "text": [
      "C:\\Users\\Heliiix\\anaconda3\\Lib\\site-packages\\wwo_hist\\__init__.py:69: FutureWarning: Argument `closed` is deprecated in favor of `inclusive`.\n",
      "  list_mon_begin = pd.date_range(start_date, end_date, freq='MS', closed='right')\n",
      "C:\\Users\\Heliiix\\anaconda3\\Lib\\site-packages\\wwo_hist\\__init__.py:74: FutureWarning: Argument `closed` is deprecated in favor of `inclusive`.\n",
      "  list_mon_end = pd.date_range(start_date, end_date, freq='M', closed='left')\n"
     ]
    },
    {
     "name": "stdout",
     "output_type": "stream",
     "text": [
      "Time elapsed (hh:mm:ss.ms) 0:00:00.316943\n",
      "Error processing data for location: Pennsylvania. Error: 1\n",
      "146\n",
      "Southeastern%20Michigan\n",
      "\n",
      "\n",
      "Retrieving weather data for Southeastern%20Michigan\n",
      "\n",
      "\n",
      "Currently retrieving data for Southeastern%20Michigan: from 2011-12-02 to 2011-12-02\n"
     ]
    },
    {
     "name": "stderr",
     "output_type": "stream",
     "text": [
      "C:\\Users\\Heliiix\\anaconda3\\Lib\\site-packages\\wwo_hist\\__init__.py:69: FutureWarning: Argument `closed` is deprecated in favor of `inclusive`.\n",
      "  list_mon_begin = pd.date_range(start_date, end_date, freq='MS', closed='right')\n",
      "C:\\Users\\Heliiix\\anaconda3\\Lib\\site-packages\\wwo_hist\\__init__.py:74: FutureWarning: Argument `closed` is deprecated in favor of `inclusive`.\n",
      "  list_mon_end = pd.date_range(start_date, end_date, freq='M', closed='left')\n"
     ]
    },
    {
     "name": "stdout",
     "output_type": "stream",
     "text": [
      "Time elapsed (hh:mm:ss.ms) 0:00:00.461427\n",
      "\n",
      "\n",
      "export Southeastern%20Michigan completed!\n",
      "\n",
      "\n",
      "147\n",
      "Northern%20and%20Central%20California\n",
      "\n",
      "\n",
      "Retrieving weather data for Northern%20and%20Central%20California\n",
      "\n",
      "\n",
      "Currently retrieving data for Northern%20and%20Central%20California: from 2011-12-03 to 2011-12-03\n"
     ]
    },
    {
     "name": "stderr",
     "output_type": "stream",
     "text": [
      "C:\\Users\\Heliiix\\anaconda3\\Lib\\site-packages\\wwo_hist\\__init__.py:69: FutureWarning: Argument `closed` is deprecated in favor of `inclusive`.\n",
      "  list_mon_begin = pd.date_range(start_date, end_date, freq='MS', closed='right')\n",
      "C:\\Users\\Heliiix\\anaconda3\\Lib\\site-packages\\wwo_hist\\__init__.py:74: FutureWarning: Argument `closed` is deprecated in favor of `inclusive`.\n",
      "  list_mon_end = pd.date_range(start_date, end_date, freq='M', closed='left')\n"
     ]
    },
    {
     "name": "stdout",
     "output_type": "stream",
     "text": [
      "Time elapsed (hh:mm:ss.ms) 0:00:00.747211\n",
      "\n",
      "\n",
      "export Northern%20and%20Central%20California completed!\n",
      "\n",
      "\n",
      "148\n",
      "Alberta\n",
      "\n",
      "\n",
      "Retrieving weather data for Alberta\n",
      "\n",
      "\n",
      "Currently retrieving data for Alberta: from 2011-12-04 to 2011-12-04\n"
     ]
    },
    {
     "name": "stderr",
     "output_type": "stream",
     "text": [
      "C:\\Users\\Heliiix\\anaconda3\\Lib\\site-packages\\wwo_hist\\__init__.py:69: FutureWarning: Argument `closed` is deprecated in favor of `inclusive`.\n",
      "  list_mon_begin = pd.date_range(start_date, end_date, freq='MS', closed='right')\n",
      "C:\\Users\\Heliiix\\anaconda3\\Lib\\site-packages\\wwo_hist\\__init__.py:74: FutureWarning: Argument `closed` is deprecated in favor of `inclusive`.\n",
      "  list_mon_end = pd.date_range(start_date, end_date, freq='M', closed='left')\n"
     ]
    },
    {
     "name": "stdout",
     "output_type": "stream",
     "text": [
      "Time elapsed (hh:mm:ss.ms) 0:00:00.257790\n",
      "\n",
      "\n",
      "export Alberta completed!\n",
      "\n",
      "\n",
      "149\n",
      "Pennsylvania\n",
      "\n",
      "\n",
      "Retrieving weather data for Pennsylvania\n",
      "\n",
      "\n",
      "Currently retrieving data for Pennsylvania: from 2011-12-07 to 2011-12-07\n"
     ]
    },
    {
     "name": "stderr",
     "output_type": "stream",
     "text": [
      "C:\\Users\\Heliiix\\anaconda3\\Lib\\site-packages\\wwo_hist\\__init__.py:69: FutureWarning: Argument `closed` is deprecated in favor of `inclusive`.\n",
      "  list_mon_begin = pd.date_range(start_date, end_date, freq='MS', closed='right')\n",
      "C:\\Users\\Heliiix\\anaconda3\\Lib\\site-packages\\wwo_hist\\__init__.py:74: FutureWarning: Argument `closed` is deprecated in favor of `inclusive`.\n",
      "  list_mon_end = pd.date_range(start_date, end_date, freq='M', closed='left')\n"
     ]
    },
    {
     "name": "stdout",
     "output_type": "stream",
     "text": [
      "Time elapsed (hh:mm:ss.ms) 0:00:00.537567\n",
      "\n",
      "\n",
      "export Pennsylvania completed!\n",
      "\n",
      "\n",
      "150\n",
      "Ohio\n",
      "\n",
      "\n",
      "Retrieving weather data for Ohio\n",
      "\n",
      "\n",
      "Currently retrieving data for Ohio: from 2011-10-29 to 2011-10-29\n"
     ]
    },
    {
     "name": "stderr",
     "output_type": "stream",
     "text": [
      "C:\\Users\\Heliiix\\anaconda3\\Lib\\site-packages\\wwo_hist\\__init__.py:69: FutureWarning: Argument `closed` is deprecated in favor of `inclusive`.\n",
      "  list_mon_begin = pd.date_range(start_date, end_date, freq='MS', closed='right')\n",
      "C:\\Users\\Heliiix\\anaconda3\\Lib\\site-packages\\wwo_hist\\__init__.py:74: FutureWarning: Argument `closed` is deprecated in favor of `inclusive`.\n",
      "  list_mon_end = pd.date_range(start_date, end_date, freq='M', closed='left')\n"
     ]
    },
    {
     "name": "stdout",
     "output_type": "stream",
     "text": [
      "Time elapsed (hh:mm:ss.ms) 0:00:00.256048\n",
      "\n",
      "\n",
      "export Ohio completed!\n",
      "\n",
      "\n",
      "151\n",
      "Northern%20Illinois\n",
      "\n",
      "\n",
      "Retrieving weather data for Northern%20Illinois\n",
      "\n",
      "\n",
      "Currently retrieving data for Northern%20Illinois: from 2011-10-30 to 2011-10-30\n"
     ]
    },
    {
     "name": "stderr",
     "output_type": "stream",
     "text": [
      "C:\\Users\\Heliiix\\anaconda3\\Lib\\site-packages\\wwo_hist\\__init__.py:69: FutureWarning: Argument `closed` is deprecated in favor of `inclusive`.\n",
      "  list_mon_begin = pd.date_range(start_date, end_date, freq='MS', closed='right')\n",
      "C:\\Users\\Heliiix\\anaconda3\\Lib\\site-packages\\wwo_hist\\__init__.py:74: FutureWarning: Argument `closed` is deprecated in favor of `inclusive`.\n",
      "  list_mon_end = pd.date_range(start_date, end_date, freq='M', closed='left')\n"
     ]
    },
    {
     "name": "stdout",
     "output_type": "stream",
     "text": [
      "Time elapsed (hh:mm:ss.ms) 0:00:03.294403\n",
      "\n",
      "\n",
      "export Northern%20Illinois completed!\n",
      "\n",
      "\n",
      "152\n",
      "Pennsylvania\n",
      "\n",
      "\n",
      "Retrieving weather data for Pennsylvania\n",
      "\n",
      "\n",
      "Currently retrieving data for Pennsylvania: from 2011-10-31 to 2011-10-31\n"
     ]
    },
    {
     "name": "stderr",
     "output_type": "stream",
     "text": [
      "C:\\Users\\Heliiix\\anaconda3\\Lib\\site-packages\\wwo_hist\\__init__.py:69: FutureWarning: Argument `closed` is deprecated in favor of `inclusive`.\n",
      "  list_mon_begin = pd.date_range(start_date, end_date, freq='MS', closed='right')\n",
      "C:\\Users\\Heliiix\\anaconda3\\Lib\\site-packages\\wwo_hist\\__init__.py:74: FutureWarning: Argument `closed` is deprecated in favor of `inclusive`.\n",
      "  list_mon_end = pd.date_range(start_date, end_date, freq='M', closed='left')\n"
     ]
    },
    {
     "name": "stdout",
     "output_type": "stream",
     "text": [
      "Time elapsed (hh:mm:ss.ms) 0:00:00.268578\n",
      "\n",
      "\n",
      "export Pennsylvania completed!\n",
      "\n",
      "\n",
      "153\n",
      "Northern%20California\n",
      "\n",
      "\n",
      "Retrieving weather data for Northern%20California\n",
      "\n",
      "\n",
      "Currently retrieving data for Northern%20California: from 2011-11-01 to 2011-11-01\n"
     ]
    },
    {
     "name": "stderr",
     "output_type": "stream",
     "text": [
      "C:\\Users\\Heliiix\\anaconda3\\Lib\\site-packages\\wwo_hist\\__init__.py:69: FutureWarning: Argument `closed` is deprecated in favor of `inclusive`.\n",
      "  list_mon_begin = pd.date_range(start_date, end_date, freq='MS', closed='right')\n",
      "C:\\Users\\Heliiix\\anaconda3\\Lib\\site-packages\\wwo_hist\\__init__.py:74: FutureWarning: Argument `closed` is deprecated in favor of `inclusive`.\n",
      "  list_mon_end = pd.date_range(start_date, end_date, freq='M', closed='left')\n"
     ]
    },
    {
     "name": "stdout",
     "output_type": "stream",
     "text": [
      "Time elapsed (hh:mm:ss.ms) 0:00:00.246633\n",
      "Error processing data for location: Northern California. Error: 1\n",
      "154\n",
      "Ohio\n",
      "\n",
      "\n",
      "Retrieving weather data for Ohio\n",
      "\n",
      "\n",
      "Currently retrieving data for Ohio: from 2011-11-02 to 2011-11-02\n"
     ]
    },
    {
     "name": "stderr",
     "output_type": "stream",
     "text": [
      "C:\\Users\\Heliiix\\anaconda3\\Lib\\site-packages\\wwo_hist\\__init__.py:69: FutureWarning: Argument `closed` is deprecated in favor of `inclusive`.\n",
      "  list_mon_begin = pd.date_range(start_date, end_date, freq='MS', closed='right')\n",
      "C:\\Users\\Heliiix\\anaconda3\\Lib\\site-packages\\wwo_hist\\__init__.py:74: FutureWarning: Argument `closed` is deprecated in favor of `inclusive`.\n",
      "  list_mon_end = pd.date_range(start_date, end_date, freq='M', closed='left')\n"
     ]
    },
    {
     "name": "stdout",
     "output_type": "stream",
     "text": [
      "Time elapsed (hh:mm:ss.ms) 0:00:01.270222\n",
      "\n",
      "\n",
      "export Ohio completed!\n",
      "\n",
      "\n",
      "155\n",
      "Virginia\n",
      "\n",
      "\n",
      "Retrieving weather data for Virginia\n",
      "\n",
      "\n",
      "Currently retrieving data for Virginia: from 2011-11-03 to 2011-11-03\n"
     ]
    },
    {
     "name": "stderr",
     "output_type": "stream",
     "text": [
      "C:\\Users\\Heliiix\\anaconda3\\Lib\\site-packages\\wwo_hist\\__init__.py:69: FutureWarning: Argument `closed` is deprecated in favor of `inclusive`.\n",
      "  list_mon_begin = pd.date_range(start_date, end_date, freq='MS', closed='right')\n",
      "C:\\Users\\Heliiix\\anaconda3\\Lib\\site-packages\\wwo_hist\\__init__.py:74: FutureWarning: Argument `closed` is deprecated in favor of `inclusive`.\n",
      "  list_mon_end = pd.date_range(start_date, end_date, freq='M', closed='left')\n"
     ]
    },
    {
     "name": "stdout",
     "output_type": "stream",
     "text": [
      "Time elapsed (hh:mm:ss.ms) 0:00:00.275311\n",
      "\n",
      "\n",
      "export Virginia completed!\n",
      "\n",
      "\n",
      "156\n",
      "New%20York\n",
      "\n",
      "\n",
      "Retrieving weather data for New%20York\n",
      "\n",
      "\n",
      "Currently retrieving data for New%20York: from 2011-11-04 to 2011-11-04\n"
     ]
    },
    {
     "name": "stderr",
     "output_type": "stream",
     "text": [
      "C:\\Users\\Heliiix\\anaconda3\\Lib\\site-packages\\wwo_hist\\__init__.py:69: FutureWarning: Argument `closed` is deprecated in favor of `inclusive`.\n",
      "  list_mon_begin = pd.date_range(start_date, end_date, freq='MS', closed='right')\n",
      "C:\\Users\\Heliiix\\anaconda3\\Lib\\site-packages\\wwo_hist\\__init__.py:74: FutureWarning: Argument `closed` is deprecated in favor of `inclusive`.\n",
      "  list_mon_end = pd.date_range(start_date, end_date, freq='M', closed='left')\n"
     ]
    },
    {
     "name": "stdout",
     "output_type": "stream",
     "text": [
      "Time elapsed (hh:mm:ss.ms) 0:00:01.100146\n",
      "\n",
      "\n",
      "export New%20York completed!\n",
      "\n",
      "\n",
      "157\n",
      "San%20Francisco%20Bay%20Area\n",
      "\n",
      "\n",
      "Retrieving weather data for San%20Francisco%20Bay%20Area\n",
      "\n",
      "\n",
      "Currently retrieving data for San%20Francisco%20Bay%20Area: from 2011-11-05 to 2011-11-05\n"
     ]
    },
    {
     "name": "stderr",
     "output_type": "stream",
     "text": [
      "C:\\Users\\Heliiix\\anaconda3\\Lib\\site-packages\\wwo_hist\\__init__.py:69: FutureWarning: Argument `closed` is deprecated in favor of `inclusive`.\n",
      "  list_mon_begin = pd.date_range(start_date, end_date, freq='MS', closed='right')\n",
      "C:\\Users\\Heliiix\\anaconda3\\Lib\\site-packages\\wwo_hist\\__init__.py:74: FutureWarning: Argument `closed` is deprecated in favor of `inclusive`.\n",
      "  list_mon_end = pd.date_range(start_date, end_date, freq='M', closed='left')\n"
     ]
    },
    {
     "name": "stdout",
     "output_type": "stream",
     "text": [
      "Time elapsed (hh:mm:ss.ms) 0:00:00.585453\n",
      "\n",
      "\n",
      "export San%20Francisco%20Bay%20Area completed!\n",
      "\n",
      "\n",
      "158\n",
      "Texas\n",
      "\n",
      "\n",
      "Retrieving weather data for Texas\n",
      "\n",
      "\n",
      "Currently retrieving data for Texas: from 2011-11-06 to 2011-11-06\n"
     ]
    },
    {
     "name": "stderr",
     "output_type": "stream",
     "text": [
      "C:\\Users\\Heliiix\\anaconda3\\Lib\\site-packages\\wwo_hist\\__init__.py:69: FutureWarning: Argument `closed` is deprecated in favor of `inclusive`.\n",
      "  list_mon_begin = pd.date_range(start_date, end_date, freq='MS', closed='right')\n",
      "C:\\Users\\Heliiix\\anaconda3\\Lib\\site-packages\\wwo_hist\\__init__.py:74: FutureWarning: Argument `closed` is deprecated in favor of `inclusive`.\n",
      "  list_mon_end = pd.date_range(start_date, end_date, freq='M', closed='left')\n"
     ]
    },
    {
     "name": "stdout",
     "output_type": "stream",
     "text": [
      "Time elapsed (hh:mm:ss.ms) 0:00:01.297379\n",
      "\n",
      "\n",
      "export Texas completed!\n",
      "\n",
      "\n",
      "159\n",
      "Southern%20California\n",
      "\n",
      "\n",
      "Retrieving weather data for Southern%20California\n",
      "\n",
      "\n",
      "Currently retrieving data for Southern%20California: from 2011-11-07 to 2011-11-07\n"
     ]
    },
    {
     "name": "stderr",
     "output_type": "stream",
     "text": [
      "C:\\Users\\Heliiix\\anaconda3\\Lib\\site-packages\\wwo_hist\\__init__.py:69: FutureWarning: Argument `closed` is deprecated in favor of `inclusive`.\n",
      "  list_mon_begin = pd.date_range(start_date, end_date, freq='MS', closed='right')\n",
      "C:\\Users\\Heliiix\\anaconda3\\Lib\\site-packages\\wwo_hist\\__init__.py:74: FutureWarning: Argument `closed` is deprecated in favor of `inclusive`.\n",
      "  list_mon_end = pd.date_range(start_date, end_date, freq='M', closed='left')\n"
     ]
    },
    {
     "name": "stdout",
     "output_type": "stream",
     "text": [
      "Time elapsed (hh:mm:ss.ms) 0:00:00.279237\n",
      "\n",
      "\n",
      "export Southern%20California completed!\n",
      "\n",
      "\n",
      "160\n",
      "North%20Carolina\n",
      "\n",
      "\n",
      "Retrieving weather data for North%20Carolina\n",
      "\n",
      "\n",
      "Currently retrieving data for North%20Carolina: from 2011-08-28 to 2011-08-28\n"
     ]
    },
    {
     "name": "stderr",
     "output_type": "stream",
     "text": [
      "C:\\Users\\Heliiix\\anaconda3\\Lib\\site-packages\\wwo_hist\\__init__.py:69: FutureWarning: Argument `closed` is deprecated in favor of `inclusive`.\n",
      "  list_mon_begin = pd.date_range(start_date, end_date, freq='MS', closed='right')\n",
      "C:\\Users\\Heliiix\\anaconda3\\Lib\\site-packages\\wwo_hist\\__init__.py:74: FutureWarning: Argument `closed` is deprecated in favor of `inclusive`.\n",
      "  list_mon_end = pd.date_range(start_date, end_date, freq='M', closed='left')\n"
     ]
    },
    {
     "name": "stdout",
     "output_type": "stream",
     "text": [
      "Time elapsed (hh:mm:ss.ms) 0:00:01.317483\n",
      "\n",
      "\n",
      "export North%20Carolina completed!\n",
      "\n",
      "\n",
      "161\n",
      "Southern%20California\n",
      "\n",
      "\n",
      "Retrieving weather data for Southern%20California\n",
      "\n",
      "\n",
      "Currently retrieving data for Southern%20California: from 2011-08-29 to 2011-08-29\n"
     ]
    },
    {
     "name": "stderr",
     "output_type": "stream",
     "text": [
      "C:\\Users\\Heliiix\\anaconda3\\Lib\\site-packages\\wwo_hist\\__init__.py:69: FutureWarning: Argument `closed` is deprecated in favor of `inclusive`.\n",
      "  list_mon_begin = pd.date_range(start_date, end_date, freq='MS', closed='right')\n",
      "C:\\Users\\Heliiix\\anaconda3\\Lib\\site-packages\\wwo_hist\\__init__.py:74: FutureWarning: Argument `closed` is deprecated in favor of `inclusive`.\n",
      "  list_mon_end = pd.date_range(start_date, end_date, freq='M', closed='left')\n"
     ]
    },
    {
     "name": "stdout",
     "output_type": "stream",
     "text": [
      "Time elapsed (hh:mm:ss.ms) 0:00:00.264419\n",
      "\n",
      "\n",
      "export Southern%20California completed!\n",
      "\n",
      "\n",
      "162\n",
      "Ohio\n",
      "\n",
      "\n",
      "Retrieving weather data for Ohio\n",
      "\n",
      "\n",
      "Currently retrieving data for Ohio: from 2011-08-30 to 2011-08-30\n"
     ]
    },
    {
     "name": "stderr",
     "output_type": "stream",
     "text": [
      "C:\\Users\\Heliiix\\anaconda3\\Lib\\site-packages\\wwo_hist\\__init__.py:69: FutureWarning: Argument `closed` is deprecated in favor of `inclusive`.\n",
      "  list_mon_begin = pd.date_range(start_date, end_date, freq='MS', closed='right')\n",
      "C:\\Users\\Heliiix\\anaconda3\\Lib\\site-packages\\wwo_hist\\__init__.py:74: FutureWarning: Argument `closed` is deprecated in favor of `inclusive`.\n",
      "  list_mon_end = pd.date_range(start_date, end_date, freq='M', closed='left')\n"
     ]
    },
    {
     "name": "stdout",
     "output_type": "stream",
     "text": [
      "Time elapsed (hh:mm:ss.ms) 0:00:00.256199\n",
      "\n",
      "\n",
      "export Ohio completed!\n",
      "\n",
      "\n",
      "163\n",
      "Alberta\n",
      "\n",
      "\n",
      "Retrieving weather data for Alberta\n",
      "\n",
      "\n",
      "Currently retrieving data for Alberta: from 2011-08-31 to 2011-08-31\n"
     ]
    },
    {
     "name": "stderr",
     "output_type": "stream",
     "text": [
      "C:\\Users\\Heliiix\\anaconda3\\Lib\\site-packages\\wwo_hist\\__init__.py:69: FutureWarning: Argument `closed` is deprecated in favor of `inclusive`.\n",
      "  list_mon_begin = pd.date_range(start_date, end_date, freq='MS', closed='right')\n",
      "C:\\Users\\Heliiix\\anaconda3\\Lib\\site-packages\\wwo_hist\\__init__.py:74: FutureWarning: Argument `closed` is deprecated in favor of `inclusive`.\n",
      "  list_mon_end = pd.date_range(start_date, end_date, freq='M', closed='left')\n"
     ]
    },
    {
     "name": "stdout",
     "output_type": "stream",
     "text": [
      "Time elapsed (hh:mm:ss.ms) 0:00:00.271486\n",
      "\n",
      "\n",
      "export Alberta completed!\n",
      "\n",
      "\n",
      "164\n",
      "Island%20of%20Puerto%20Rico\n",
      "\n",
      "\n",
      "Retrieving weather data for Island%20of%20Puerto%20Rico\n",
      "\n",
      "\n",
      "Currently retrieving data for Island%20of%20Puerto%20Rico: from 2011-09-01 to 2011-09-01\n"
     ]
    },
    {
     "name": "stderr",
     "output_type": "stream",
     "text": [
      "C:\\Users\\Heliiix\\anaconda3\\Lib\\site-packages\\wwo_hist\\__init__.py:69: FutureWarning: Argument `closed` is deprecated in favor of `inclusive`.\n",
      "  list_mon_begin = pd.date_range(start_date, end_date, freq='MS', closed='right')\n",
      "C:\\Users\\Heliiix\\anaconda3\\Lib\\site-packages\\wwo_hist\\__init__.py:74: FutureWarning: Argument `closed` is deprecated in favor of `inclusive`.\n",
      "  list_mon_end = pd.date_range(start_date, end_date, freq='M', closed='left')\n"
     ]
    },
    {
     "name": "stdout",
     "output_type": "stream",
     "text": [
      "Time elapsed (hh:mm:ss.ms) 0:00:00.317317\n",
      "Error processing data for location: Island of Puerto Rico. Error: 1\n",
      "165\n",
      "Tacoma\n",
      "\n",
      "\n",
      "Retrieving weather data for Tacoma\n",
      "\n",
      "\n",
      "Currently retrieving data for Tacoma: from 2011-09-02 to 2011-09-02\n"
     ]
    },
    {
     "name": "stderr",
     "output_type": "stream",
     "text": [
      "C:\\Users\\Heliiix\\anaconda3\\Lib\\site-packages\\wwo_hist\\__init__.py:69: FutureWarning: Argument `closed` is deprecated in favor of `inclusive`.\n",
      "  list_mon_begin = pd.date_range(start_date, end_date, freq='MS', closed='right')\n",
      "C:\\Users\\Heliiix\\anaconda3\\Lib\\site-packages\\wwo_hist\\__init__.py:74: FutureWarning: Argument `closed` is deprecated in favor of `inclusive`.\n",
      "  list_mon_end = pd.date_range(start_date, end_date, freq='M', closed='left')\n"
     ]
    },
    {
     "name": "stdout",
     "output_type": "stream",
     "text": [
      "Time elapsed (hh:mm:ss.ms) 0:00:00.549771\n",
      "\n",
      "\n",
      "export Tacoma completed!\n",
      "\n",
      "\n",
      "166\n",
      "New%20York\n",
      "\n",
      "\n",
      "Retrieving weather data for New%20York\n",
      "\n",
      "\n",
      "Currently retrieving data for New%20York: from 2011-09-03 to 2011-09-03\n"
     ]
    },
    {
     "name": "stderr",
     "output_type": "stream",
     "text": [
      "C:\\Users\\Heliiix\\anaconda3\\Lib\\site-packages\\wwo_hist\\__init__.py:69: FutureWarning: Argument `closed` is deprecated in favor of `inclusive`.\n",
      "  list_mon_begin = pd.date_range(start_date, end_date, freq='MS', closed='right')\n",
      "C:\\Users\\Heliiix\\anaconda3\\Lib\\site-packages\\wwo_hist\\__init__.py:74: FutureWarning: Argument `closed` is deprecated in favor of `inclusive`.\n",
      "  list_mon_end = pd.date_range(start_date, end_date, freq='M', closed='left')\n"
     ]
    },
    {
     "name": "stdout",
     "output_type": "stream",
     "text": [
      "Time elapsed (hh:mm:ss.ms) 0:00:00.267294\n",
      "\n",
      "\n",
      "export New%20York completed!\n",
      "\n",
      "\n",
      "167\n",
      "Texas\n",
      "\n",
      "\n",
      "Retrieving weather data for Texas\n",
      "\n",
      "\n",
      "Currently retrieving data for Texas: from 2011-08-27 to 2011-08-27\n"
     ]
    },
    {
     "name": "stderr",
     "output_type": "stream",
     "text": [
      "C:\\Users\\Heliiix\\anaconda3\\Lib\\site-packages\\wwo_hist\\__init__.py:69: FutureWarning: Argument `closed` is deprecated in favor of `inclusive`.\n",
      "  list_mon_begin = pd.date_range(start_date, end_date, freq='MS', closed='right')\n",
      "C:\\Users\\Heliiix\\anaconda3\\Lib\\site-packages\\wwo_hist\\__init__.py:74: FutureWarning: Argument `closed` is deprecated in favor of `inclusive`.\n",
      "  list_mon_end = pd.date_range(start_date, end_date, freq='M', closed='left')\n"
     ]
    },
    {
     "name": "stdout",
     "output_type": "stream",
     "text": [
      "Time elapsed (hh:mm:ss.ms) 0:00:00.324490\n",
      "\n",
      "\n",
      "export Texas completed!\n",
      "\n",
      "\n",
      "168\n",
      "Pennsylvania\n",
      "\n",
      "\n",
      "Retrieving weather data for Pennsylvania\n",
      "\n",
      "\n",
      "Currently retrieving data for Pennsylvania: from 2011-08-26 to 2011-08-26\n"
     ]
    },
    {
     "name": "stderr",
     "output_type": "stream",
     "text": [
      "C:\\Users\\Heliiix\\anaconda3\\Lib\\site-packages\\wwo_hist\\__init__.py:69: FutureWarning: Argument `closed` is deprecated in favor of `inclusive`.\n",
      "  list_mon_begin = pd.date_range(start_date, end_date, freq='MS', closed='right')\n",
      "C:\\Users\\Heliiix\\anaconda3\\Lib\\site-packages\\wwo_hist\\__init__.py:74: FutureWarning: Argument `closed` is deprecated in favor of `inclusive`.\n",
      "  list_mon_end = pd.date_range(start_date, end_date, freq='M', closed='left')\n"
     ]
    },
    {
     "name": "stdout",
     "output_type": "stream",
     "text": [
      "Time elapsed (hh:mm:ss.ms) 0:00:00.266455\n",
      "\n",
      "\n",
      "export Pennsylvania completed!\n",
      "\n",
      "\n",
      "169\n",
      "Alberta\n",
      "\n",
      "\n",
      "Retrieving weather data for Alberta\n",
      "\n",
      "\n",
      "Currently retrieving data for Alberta: from 2011-08-24 to 2011-08-24\n"
     ]
    },
    {
     "name": "stderr",
     "output_type": "stream",
     "text": [
      "C:\\Users\\Heliiix\\anaconda3\\Lib\\site-packages\\wwo_hist\\__init__.py:69: FutureWarning: Argument `closed` is deprecated in favor of `inclusive`.\n",
      "  list_mon_begin = pd.date_range(start_date, end_date, freq='MS', closed='right')\n",
      "C:\\Users\\Heliiix\\anaconda3\\Lib\\site-packages\\wwo_hist\\__init__.py:74: FutureWarning: Argument `closed` is deprecated in favor of `inclusive`.\n",
      "  list_mon_end = pd.date_range(start_date, end_date, freq='M', closed='left')\n"
     ]
    },
    {
     "name": "stdout",
     "output_type": "stream",
     "text": [
      "Time elapsed (hh:mm:ss.ms) 0:00:00.274663\n",
      "\n",
      "\n",
      "export Alberta completed!\n",
      "\n",
      "\n",
      "170\n",
      "Southeastern%20Michigan\n",
      "\n",
      "\n",
      "Retrieving weather data for Southeastern%20Michigan\n",
      "\n",
      "\n",
      "Currently retrieving data for Southeastern%20Michigan: from 2011-08-25 to 2011-08-25\n"
     ]
    },
    {
     "name": "stderr",
     "output_type": "stream",
     "text": [
      "C:\\Users\\Heliiix\\anaconda3\\Lib\\site-packages\\wwo_hist\\__init__.py:69: FutureWarning: Argument `closed` is deprecated in favor of `inclusive`.\n",
      "  list_mon_begin = pd.date_range(start_date, end_date, freq='MS', closed='right')\n",
      "C:\\Users\\Heliiix\\anaconda3\\Lib\\site-packages\\wwo_hist\\__init__.py:74: FutureWarning: Argument `closed` is deprecated in favor of `inclusive`.\n",
      "  list_mon_end = pd.date_range(start_date, end_date, freq='M', closed='left')\n"
     ]
    },
    {
     "name": "stdout",
     "output_type": "stream",
     "text": [
      "Time elapsed (hh:mm:ss.ms) 0:00:00.268417\n",
      "\n",
      "\n",
      "export Southeastern%20Michigan completed!\n",
      "\n",
      "\n",
      "171\n",
      "Georgia\n",
      "\n",
      "\n",
      "Retrieving weather data for Georgia\n",
      "\n",
      "\n",
      "Currently retrieving data for Georgia: from 2011-08-23 to 2011-08-23\n"
     ]
    },
    {
     "name": "stderr",
     "output_type": "stream",
     "text": [
      "C:\\Users\\Heliiix\\anaconda3\\Lib\\site-packages\\wwo_hist\\__init__.py:69: FutureWarning: Argument `closed` is deprecated in favor of `inclusive`.\n",
      "  list_mon_begin = pd.date_range(start_date, end_date, freq='MS', closed='right')\n",
      "C:\\Users\\Heliiix\\anaconda3\\Lib\\site-packages\\wwo_hist\\__init__.py:74: FutureWarning: Argument `closed` is deprecated in favor of `inclusive`.\n",
      "  list_mon_end = pd.date_range(start_date, end_date, freq='M', closed='left')\n"
     ]
    },
    {
     "name": "stdout",
     "output_type": "stream",
     "text": [
      "Time elapsed (hh:mm:ss.ms) 0:00:01.248409\n",
      "\n",
      "\n",
      "export Georgia completed!\n",
      "\n",
      "\n",
      "172\n",
      "Pennsylvania\n",
      "\n",
      "\n",
      "Retrieving weather data for Pennsylvania\n",
      "\n",
      "\n",
      "Currently retrieving data for Pennsylvania: from 2011-08-20 to 2011-08-20\n"
     ]
    },
    {
     "name": "stderr",
     "output_type": "stream",
     "text": [
      "C:\\Users\\Heliiix\\anaconda3\\Lib\\site-packages\\wwo_hist\\__init__.py:69: FutureWarning: Argument `closed` is deprecated in favor of `inclusive`.\n",
      "  list_mon_begin = pd.date_range(start_date, end_date, freq='MS', closed='right')\n",
      "C:\\Users\\Heliiix\\anaconda3\\Lib\\site-packages\\wwo_hist\\__init__.py:74: FutureWarning: Argument `closed` is deprecated in favor of `inclusive`.\n",
      "  list_mon_end = pd.date_range(start_date, end_date, freq='M', closed='left')\n"
     ]
    },
    {
     "name": "stdout",
     "output_type": "stream",
     "text": [
      "Time elapsed (hh:mm:ss.ms) 0:00:01.073699\n",
      "\n",
      "\n",
      "export Pennsylvania completed!\n",
      "\n",
      "\n",
      "173\n",
      "Southern%20California\n",
      "\n",
      "\n",
      "Retrieving weather data for Southern%20California\n",
      "\n",
      "\n",
      "Currently retrieving data for Southern%20California: from 2011-08-21 to 2011-08-21\n"
     ]
    },
    {
     "name": "stderr",
     "output_type": "stream",
     "text": [
      "C:\\Users\\Heliiix\\anaconda3\\Lib\\site-packages\\wwo_hist\\__init__.py:69: FutureWarning: Argument `closed` is deprecated in favor of `inclusive`.\n",
      "  list_mon_begin = pd.date_range(start_date, end_date, freq='MS', closed='right')\n",
      "C:\\Users\\Heliiix\\anaconda3\\Lib\\site-packages\\wwo_hist\\__init__.py:74: FutureWarning: Argument `closed` is deprecated in favor of `inclusive`.\n",
      "  list_mon_end = pd.date_range(start_date, end_date, freq='M', closed='left')\n"
     ]
    },
    {
     "name": "stdout",
     "output_type": "stream",
     "text": [
      "Time elapsed (hh:mm:ss.ms) 0:00:00.547313\n",
      "\n",
      "\n",
      "export Southern%20California completed!\n",
      "\n",
      "\n",
      "174\n",
      "Illinois\n",
      "\n",
      "\n",
      "Retrieving weather data for Illinois\n",
      "\n",
      "\n",
      "Currently retrieving data for Illinois: from 2011-08-22 to 2011-08-22\n"
     ]
    },
    {
     "name": "stderr",
     "output_type": "stream",
     "text": [
      "C:\\Users\\Heliiix\\anaconda3\\Lib\\site-packages\\wwo_hist\\__init__.py:69: FutureWarning: Argument `closed` is deprecated in favor of `inclusive`.\n",
      "  list_mon_begin = pd.date_range(start_date, end_date, freq='MS', closed='right')\n",
      "C:\\Users\\Heliiix\\anaconda3\\Lib\\site-packages\\wwo_hist\\__init__.py:74: FutureWarning: Argument `closed` is deprecated in favor of `inclusive`.\n",
      "  list_mon_end = pd.date_range(start_date, end_date, freq='M', closed='left')\n"
     ]
    },
    {
     "name": "stdout",
     "output_type": "stream",
     "text": [
      "Time elapsed (hh:mm:ss.ms) 0:00:00.319362\n",
      "\n",
      "\n",
      "export Illinois completed!\n",
      "\n",
      "\n",
      "175\n",
      "New%20York\n",
      "\n",
      "\n",
      "Retrieving weather data for New%20York\n",
      "\n",
      "\n",
      "Currently retrieving data for New%20York: from 2011-08-01 to 2011-08-01\n"
     ]
    },
    {
     "name": "stderr",
     "output_type": "stream",
     "text": [
      "C:\\Users\\Heliiix\\anaconda3\\Lib\\site-packages\\wwo_hist\\__init__.py:69: FutureWarning: Argument `closed` is deprecated in favor of `inclusive`.\n",
      "  list_mon_begin = pd.date_range(start_date, end_date, freq='MS', closed='right')\n",
      "C:\\Users\\Heliiix\\anaconda3\\Lib\\site-packages\\wwo_hist\\__init__.py:74: FutureWarning: Argument `closed` is deprecated in favor of `inclusive`.\n",
      "  list_mon_end = pd.date_range(start_date, end_date, freq='M', closed='left')\n"
     ]
    },
    {
     "name": "stdout",
     "output_type": "stream",
     "text": [
      "Time elapsed (hh:mm:ss.ms) 0:00:00.295886\n",
      "Error processing data for location: New York. Error: 1\n",
      "176\n",
      "Alberta\n",
      "\n",
      "\n",
      "Retrieving weather data for Alberta\n",
      "\n",
      "\n",
      "Currently retrieving data for Alberta: from 2011-08-02 to 2011-08-02\n"
     ]
    },
    {
     "name": "stderr",
     "output_type": "stream",
     "text": [
      "C:\\Users\\Heliiix\\anaconda3\\Lib\\site-packages\\wwo_hist\\__init__.py:69: FutureWarning: Argument `closed` is deprecated in favor of `inclusive`.\n",
      "  list_mon_begin = pd.date_range(start_date, end_date, freq='MS', closed='right')\n",
      "C:\\Users\\Heliiix\\anaconda3\\Lib\\site-packages\\wwo_hist\\__init__.py:74: FutureWarning: Argument `closed` is deprecated in favor of `inclusive`.\n",
      "  list_mon_end = pd.date_range(start_date, end_date, freq='M', closed='left')\n"
     ]
    },
    {
     "name": "stdout",
     "output_type": "stream",
     "text": [
      "Time elapsed (hh:mm:ss.ms) 0:00:00.511617\n",
      "\n",
      "\n",
      "export Alberta completed!\n",
      "\n",
      "\n",
      "177\n",
      "Northern%20California\n",
      "\n",
      "\n",
      "Retrieving weather data for Northern%20California\n",
      "\n",
      "\n",
      "Currently retrieving data for Northern%20California: from 2011-08-03 to 2011-08-03\n"
     ]
    },
    {
     "name": "stderr",
     "output_type": "stream",
     "text": [
      "C:\\Users\\Heliiix\\anaconda3\\Lib\\site-packages\\wwo_hist\\__init__.py:69: FutureWarning: Argument `closed` is deprecated in favor of `inclusive`.\n",
      "  list_mon_begin = pd.date_range(start_date, end_date, freq='MS', closed='right')\n",
      "C:\\Users\\Heliiix\\anaconda3\\Lib\\site-packages\\wwo_hist\\__init__.py:74: FutureWarning: Argument `closed` is deprecated in favor of `inclusive`.\n",
      "  list_mon_end = pd.date_range(start_date, end_date, freq='M', closed='left')\n"
     ]
    },
    {
     "name": "stdout",
     "output_type": "stream",
     "text": [
      "Time elapsed (hh:mm:ss.ms) 0:00:00.527249\n",
      "\n",
      "\n",
      "export Northern%20California completed!\n",
      "\n",
      "\n",
      "178\n",
      "Southern%20California\n",
      "\n",
      "\n",
      "Retrieving weather data for Southern%20California\n",
      "\n",
      "\n",
      "Currently retrieving data for Southern%20California: from 2011-08-04 to 2011-08-04\n"
     ]
    },
    {
     "name": "stderr",
     "output_type": "stream",
     "text": [
      "C:\\Users\\Heliiix\\anaconda3\\Lib\\site-packages\\wwo_hist\\__init__.py:69: FutureWarning: Argument `closed` is deprecated in favor of `inclusive`.\n",
      "  list_mon_begin = pd.date_range(start_date, end_date, freq='MS', closed='right')\n",
      "C:\\Users\\Heliiix\\anaconda3\\Lib\\site-packages\\wwo_hist\\__init__.py:74: FutureWarning: Argument `closed` is deprecated in favor of `inclusive`.\n",
      "  list_mon_end = pd.date_range(start_date, end_date, freq='M', closed='left')\n"
     ]
    },
    {
     "name": "stdout",
     "output_type": "stream",
     "text": [
      "Time elapsed (hh:mm:ss.ms) 0:00:01.550600\n",
      "\n",
      "\n",
      "export Southern%20California completed!\n",
      "\n",
      "\n",
      "179\n",
      "Texas\n",
      "\n",
      "\n",
      "Retrieving weather data for Texas\n",
      "\n",
      "\n",
      "Currently retrieving data for Texas: from 2011-08-05 to 2011-08-05\n"
     ]
    },
    {
     "name": "stderr",
     "output_type": "stream",
     "text": [
      "C:\\Users\\Heliiix\\anaconda3\\Lib\\site-packages\\wwo_hist\\__init__.py:69: FutureWarning: Argument `closed` is deprecated in favor of `inclusive`.\n",
      "  list_mon_begin = pd.date_range(start_date, end_date, freq='MS', closed='right')\n",
      "C:\\Users\\Heliiix\\anaconda3\\Lib\\site-packages\\wwo_hist\\__init__.py:74: FutureWarning: Argument `closed` is deprecated in favor of `inclusive`.\n",
      "  list_mon_end = pd.date_range(start_date, end_date, freq='M', closed='left')\n"
     ]
    },
    {
     "name": "stdout",
     "output_type": "stream",
     "text": [
      "Time elapsed (hh:mm:ss.ms) 0:00:00.354801\n",
      "\n",
      "\n",
      "export Texas completed!\n",
      "\n",
      "\n",
      "180\n",
      "Virginia\n",
      "\n",
      "\n",
      "Retrieving weather data for Virginia\n",
      "\n",
      "\n",
      "Currently retrieving data for Virginia: from 2011-07-23 to 2011-07-23\n"
     ]
    },
    {
     "name": "stderr",
     "output_type": "stream",
     "text": [
      "C:\\Users\\Heliiix\\anaconda3\\Lib\\site-packages\\wwo_hist\\__init__.py:69: FutureWarning: Argument `closed` is deprecated in favor of `inclusive`.\n",
      "  list_mon_begin = pd.date_range(start_date, end_date, freq='MS', closed='right')\n",
      "C:\\Users\\Heliiix\\anaconda3\\Lib\\site-packages\\wwo_hist\\__init__.py:74: FutureWarning: Argument `closed` is deprecated in favor of `inclusive`.\n",
      "  list_mon_end = pd.date_range(start_date, end_date, freq='M', closed='left')\n"
     ]
    },
    {
     "name": "stdout",
     "output_type": "stream",
     "text": [
      "Time elapsed (hh:mm:ss.ms) 0:00:00.329697\n",
      "\n",
      "\n",
      "export Virginia completed!\n",
      "\n",
      "\n",
      "181\n",
      "Georgia\n",
      "\n",
      "\n",
      "Retrieving weather data for Georgia\n",
      "\n",
      "\n",
      "Currently retrieving data for Georgia: from 2011-07-24 to 2011-07-24\n"
     ]
    },
    {
     "name": "stderr",
     "output_type": "stream",
     "text": [
      "C:\\Users\\Heliiix\\anaconda3\\Lib\\site-packages\\wwo_hist\\__init__.py:69: FutureWarning: Argument `closed` is deprecated in favor of `inclusive`.\n",
      "  list_mon_begin = pd.date_range(start_date, end_date, freq='MS', closed='right')\n",
      "C:\\Users\\Heliiix\\anaconda3\\Lib\\site-packages\\wwo_hist\\__init__.py:74: FutureWarning: Argument `closed` is deprecated in favor of `inclusive`.\n",
      "  list_mon_end = pd.date_range(start_date, end_date, freq='M', closed='left')\n"
     ]
    },
    {
     "name": "stdout",
     "output_type": "stream",
     "text": [
      "Time elapsed (hh:mm:ss.ms) 0:00:00.507953\n",
      "\n",
      "\n",
      "export Georgia completed!\n",
      "\n",
      "\n",
      "182\n",
      "California\n",
      "\n",
      "\n",
      "Retrieving weather data for California\n",
      "\n",
      "\n",
      "Currently retrieving data for California: from 2011-07-22 to 2011-07-22\n"
     ]
    },
    {
     "name": "stderr",
     "output_type": "stream",
     "text": [
      "C:\\Users\\Heliiix\\anaconda3\\Lib\\site-packages\\wwo_hist\\__init__.py:69: FutureWarning: Argument `closed` is deprecated in favor of `inclusive`.\n",
      "  list_mon_begin = pd.date_range(start_date, end_date, freq='MS', closed='right')\n",
      "C:\\Users\\Heliiix\\anaconda3\\Lib\\site-packages\\wwo_hist\\__init__.py:74: FutureWarning: Argument `closed` is deprecated in favor of `inclusive`.\n",
      "  list_mon_end = pd.date_range(start_date, end_date, freq='M', closed='left')\n"
     ]
    },
    {
     "name": "stdout",
     "output_type": "stream",
     "text": [
      "Time elapsed (hh:mm:ss.ms) 0:00:00.563179\n",
      "\n",
      "\n",
      "export California completed!\n",
      "\n",
      "\n",
      "183\n",
      "Newark\n",
      "\n",
      "\n",
      "Retrieving weather data for Newark\n",
      "\n",
      "\n",
      "Currently retrieving data for Newark: from 2011-07-14 to 2011-07-14\n"
     ]
    },
    {
     "name": "stderr",
     "output_type": "stream",
     "text": [
      "C:\\Users\\Heliiix\\anaconda3\\Lib\\site-packages\\wwo_hist\\__init__.py:69: FutureWarning: Argument `closed` is deprecated in favor of `inclusive`.\n",
      "  list_mon_begin = pd.date_range(start_date, end_date, freq='MS', closed='right')\n",
      "C:\\Users\\Heliiix\\anaconda3\\Lib\\site-packages\\wwo_hist\\__init__.py:74: FutureWarning: Argument `closed` is deprecated in favor of `inclusive`.\n",
      "  list_mon_end = pd.date_range(start_date, end_date, freq='M', closed='left')\n"
     ]
    },
    {
     "name": "stdout",
     "output_type": "stream",
     "text": [
      "Time elapsed (hh:mm:ss.ms) 0:00:00.269932\n",
      "\n",
      "\n",
      "export Newark completed!\n",
      "\n",
      "\n",
      "184\n",
      "Ohio\n",
      "\n",
      "\n",
      "Retrieving weather data for Ohio\n",
      "\n",
      "\n",
      "Currently retrieving data for Ohio: from 2011-07-12 to 2011-07-12\n"
     ]
    },
    {
     "name": "stderr",
     "output_type": "stream",
     "text": [
      "C:\\Users\\Heliiix\\anaconda3\\Lib\\site-packages\\wwo_hist\\__init__.py:69: FutureWarning: Argument `closed` is deprecated in favor of `inclusive`.\n",
      "  list_mon_begin = pd.date_range(start_date, end_date, freq='MS', closed='right')\n",
      "C:\\Users\\Heliiix\\anaconda3\\Lib\\site-packages\\wwo_hist\\__init__.py:74: FutureWarning: Argument `closed` is deprecated in favor of `inclusive`.\n",
      "  list_mon_end = pd.date_range(start_date, end_date, freq='M', closed='left')\n"
     ]
    },
    {
     "name": "stdout",
     "output_type": "stream",
     "text": [
      "Time elapsed (hh:mm:ss.ms) 0:00:00.279866\n",
      "\n",
      "\n",
      "export Ohio completed!\n",
      "\n",
      "\n",
      "185\n",
      "Ohio\n",
      "\n",
      "\n",
      "Retrieving weather data for Ohio\n",
      "\n",
      "\n",
      "Currently retrieving data for Ohio: from 2011-07-11 to 2011-07-11\n"
     ]
    },
    {
     "name": "stderr",
     "output_type": "stream",
     "text": [
      "C:\\Users\\Heliiix\\anaconda3\\Lib\\site-packages\\wwo_hist\\__init__.py:69: FutureWarning: Argument `closed` is deprecated in favor of `inclusive`.\n",
      "  list_mon_begin = pd.date_range(start_date, end_date, freq='MS', closed='right')\n",
      "C:\\Users\\Heliiix\\anaconda3\\Lib\\site-packages\\wwo_hist\\__init__.py:74: FutureWarning: Argument `closed` is deprecated in favor of `inclusive`.\n",
      "  list_mon_end = pd.date_range(start_date, end_date, freq='M', closed='left')\n"
     ]
    },
    {
     "name": "stdout",
     "output_type": "stream",
     "text": [
      "Time elapsed (hh:mm:ss.ms) 0:00:00.279205\n",
      "\n",
      "\n",
      "export Ohio completed!\n",
      "\n",
      "\n",
      "186\n",
      "Northern%20Illinois\n",
      "\n",
      "\n",
      "Retrieving weather data for Northern%20Illinois\n",
      "\n",
      "\n",
      "Currently retrieving data for Northern%20Illinois: from 2011-07-04 to 2011-07-04\n"
     ]
    },
    {
     "name": "stderr",
     "output_type": "stream",
     "text": [
      "C:\\Users\\Heliiix\\anaconda3\\Lib\\site-packages\\wwo_hist\\__init__.py:69: FutureWarning: Argument `closed` is deprecated in favor of `inclusive`.\n",
      "  list_mon_begin = pd.date_range(start_date, end_date, freq='MS', closed='right')\n",
      "C:\\Users\\Heliiix\\anaconda3\\Lib\\site-packages\\wwo_hist\\__init__.py:74: FutureWarning: Argument `closed` is deprecated in favor of `inclusive`.\n",
      "  list_mon_end = pd.date_range(start_date, end_date, freq='M', closed='left')\n"
     ]
    },
    {
     "name": "stdout",
     "output_type": "stream",
     "text": [
      "Time elapsed (hh:mm:ss.ms) 0:00:00.496345\n",
      "\n",
      "\n",
      "export Northern%20Illinois completed!\n",
      "\n",
      "\n",
      "187\n",
      "Georgia\n",
      "\n",
      "\n",
      "Retrieving weather data for Georgia\n",
      "\n",
      "\n",
      "Currently retrieving data for Georgia: from 2011-06-30 to 2011-06-30\n"
     ]
    },
    {
     "name": "stderr",
     "output_type": "stream",
     "text": [
      "C:\\Users\\Heliiix\\anaconda3\\Lib\\site-packages\\wwo_hist\\__init__.py:69: FutureWarning: Argument `closed` is deprecated in favor of `inclusive`.\n",
      "  list_mon_begin = pd.date_range(start_date, end_date, freq='MS', closed='right')\n",
      "C:\\Users\\Heliiix\\anaconda3\\Lib\\site-packages\\wwo_hist\\__init__.py:74: FutureWarning: Argument `closed` is deprecated in favor of `inclusive`.\n",
      "  list_mon_end = pd.date_range(start_date, end_date, freq='M', closed='left')\n"
     ]
    },
    {
     "name": "stdout",
     "output_type": "stream",
     "text": [
      "Time elapsed (hh:mm:ss.ms) 0:00:00.536314\n",
      "\n",
      "\n",
      "export Georgia completed!\n",
      "\n",
      "\n",
      "188\n",
      "Georgia\n",
      "\n",
      "\n",
      "Retrieving weather data for Georgia\n",
      "\n",
      "\n",
      "Currently retrieving data for Georgia: from 2011-07-01 to 2011-07-01\n"
     ]
    },
    {
     "name": "stderr",
     "output_type": "stream",
     "text": [
      "C:\\Users\\Heliiix\\anaconda3\\Lib\\site-packages\\wwo_hist\\__init__.py:69: FutureWarning: Argument `closed` is deprecated in favor of `inclusive`.\n",
      "  list_mon_begin = pd.date_range(start_date, end_date, freq='MS', closed='right')\n",
      "C:\\Users\\Heliiix\\anaconda3\\Lib\\site-packages\\wwo_hist\\__init__.py:74: FutureWarning: Argument `closed` is deprecated in favor of `inclusive`.\n",
      "  list_mon_end = pd.date_range(start_date, end_date, freq='M', closed='left')\n"
     ]
    },
    {
     "name": "stdout",
     "output_type": "stream",
     "text": [
      "Time elapsed (hh:mm:ss.ms) 0:00:00.250103\n",
      "Error processing data for location: Georgia. Error: 1\n",
      "189\n",
      "California\n",
      "\n",
      "\n",
      "Retrieving weather data for California\n",
      "\n",
      "\n",
      "Currently retrieving data for California: from 2011-06-27 to 2011-06-27\n"
     ]
    },
    {
     "name": "stderr",
     "output_type": "stream",
     "text": [
      "C:\\Users\\Heliiix\\anaconda3\\Lib\\site-packages\\wwo_hist\\__init__.py:69: FutureWarning: Argument `closed` is deprecated in favor of `inclusive`.\n",
      "  list_mon_begin = pd.date_range(start_date, end_date, freq='MS', closed='right')\n",
      "C:\\Users\\Heliiix\\anaconda3\\Lib\\site-packages\\wwo_hist\\__init__.py:74: FutureWarning: Argument `closed` is deprecated in favor of `inclusive`.\n",
      "  list_mon_end = pd.date_range(start_date, end_date, freq='M', closed='left')\n"
     ]
    },
    {
     "name": "stdout",
     "output_type": "stream",
     "text": [
      "Time elapsed (hh:mm:ss.ms) 0:00:00.526069\n",
      "\n",
      "\n",
      "export California completed!\n",
      "\n",
      "\n",
      "190\n",
      "Alberta\n",
      "\n",
      "\n",
      "Retrieving weather data for Alberta\n",
      "\n",
      "\n",
      "Currently retrieving data for Alberta: from 2011-06-21 to 2011-06-21\n"
     ]
    },
    {
     "name": "stderr",
     "output_type": "stream",
     "text": [
      "C:\\Users\\Heliiix\\anaconda3\\Lib\\site-packages\\wwo_hist\\__init__.py:69: FutureWarning: Argument `closed` is deprecated in favor of `inclusive`.\n",
      "  list_mon_begin = pd.date_range(start_date, end_date, freq='MS', closed='right')\n",
      "C:\\Users\\Heliiix\\anaconda3\\Lib\\site-packages\\wwo_hist\\__init__.py:74: FutureWarning: Argument `closed` is deprecated in favor of `inclusive`.\n",
      "  list_mon_end = pd.date_range(start_date, end_date, freq='M', closed='left')\n"
     ]
    },
    {
     "name": "stdout",
     "output_type": "stream",
     "text": [
      "Time elapsed (hh:mm:ss.ms) 0:00:00.273906\n",
      "\n",
      "\n",
      "export Alberta completed!\n",
      "\n",
      "\n",
      "191\n",
      "Island%20of%20Puerto%20Rico\n",
      "\n",
      "\n",
      "Retrieving weather data for Island%20of%20Puerto%20Rico\n",
      "\n",
      "\n",
      "Currently retrieving data for Island%20of%20Puerto%20Rico: from 2011-06-22 to 2011-06-22\n"
     ]
    },
    {
     "name": "stderr",
     "output_type": "stream",
     "text": [
      "C:\\Users\\Heliiix\\anaconda3\\Lib\\site-packages\\wwo_hist\\__init__.py:69: FutureWarning: Argument `closed` is deprecated in favor of `inclusive`.\n",
      "  list_mon_begin = pd.date_range(start_date, end_date, freq='MS', closed='right')\n",
      "C:\\Users\\Heliiix\\anaconda3\\Lib\\site-packages\\wwo_hist\\__init__.py:74: FutureWarning: Argument `closed` is deprecated in favor of `inclusive`.\n",
      "  list_mon_end = pd.date_range(start_date, end_date, freq='M', closed='left')\n"
     ]
    },
    {
     "name": "stdout",
     "output_type": "stream",
     "text": [
      "Time elapsed (hh:mm:ss.ms) 0:00:01.323617\n",
      "\n",
      "\n",
      "export Island%20of%20Puerto%20Rico completed!\n",
      "\n",
      "\n",
      "192\n",
      "San%20Francisco%20Bay%20Area\n",
      "\n",
      "\n",
      "Retrieving weather data for San%20Francisco%20Bay%20Area\n",
      "\n",
      "\n",
      "Currently retrieving data for San%20Francisco%20Bay%20Area: from 2011-06-23 to 2011-06-23\n"
     ]
    },
    {
     "name": "stderr",
     "output_type": "stream",
     "text": [
      "C:\\Users\\Heliiix\\anaconda3\\Lib\\site-packages\\wwo_hist\\__init__.py:69: FutureWarning: Argument `closed` is deprecated in favor of `inclusive`.\n",
      "  list_mon_begin = pd.date_range(start_date, end_date, freq='MS', closed='right')\n",
      "C:\\Users\\Heliiix\\anaconda3\\Lib\\site-packages\\wwo_hist\\__init__.py:74: FutureWarning: Argument `closed` is deprecated in favor of `inclusive`.\n",
      "  list_mon_end = pd.date_range(start_date, end_date, freq='M', closed='left')\n"
     ]
    },
    {
     "name": "stdout",
     "output_type": "stream",
     "text": [
      "Time elapsed (hh:mm:ss.ms) 0:00:00.303789\n",
      "\n",
      "\n",
      "export San%20Francisco%20Bay%20Area completed!\n",
      "\n",
      "\n",
      "193\n",
      "Georgia\n",
      "\n",
      "\n",
      "Retrieving weather data for Georgia\n",
      "\n",
      "\n",
      "Currently retrieving data for Georgia: from 2011-06-15 to 2011-06-15\n"
     ]
    },
    {
     "name": "stderr",
     "output_type": "stream",
     "text": [
      "C:\\Users\\Heliiix\\anaconda3\\Lib\\site-packages\\wwo_hist\\__init__.py:69: FutureWarning: Argument `closed` is deprecated in favor of `inclusive`.\n",
      "  list_mon_begin = pd.date_range(start_date, end_date, freq='MS', closed='right')\n",
      "C:\\Users\\Heliiix\\anaconda3\\Lib\\site-packages\\wwo_hist\\__init__.py:74: FutureWarning: Argument `closed` is deprecated in favor of `inclusive`.\n",
      "  list_mon_end = pd.date_range(start_date, end_date, freq='M', closed='left')\n"
     ]
    },
    {
     "name": "stdout",
     "output_type": "stream",
     "text": [
      "Time elapsed (hh:mm:ss.ms) 0:00:00.275572\n",
      "\n",
      "\n",
      "export Georgia completed!\n",
      "\n",
      "\n",
      "194\n",
      "Tacoma\n",
      "\n",
      "\n",
      "Retrieving weather data for Tacoma\n",
      "\n",
      "\n",
      "Currently retrieving data for Tacoma: from 2011-06-16 to 2011-06-16\n"
     ]
    },
    {
     "name": "stderr",
     "output_type": "stream",
     "text": [
      "C:\\Users\\Heliiix\\anaconda3\\Lib\\site-packages\\wwo_hist\\__init__.py:69: FutureWarning: Argument `closed` is deprecated in favor of `inclusive`.\n",
      "  list_mon_begin = pd.date_range(start_date, end_date, freq='MS', closed='right')\n",
      "C:\\Users\\Heliiix\\anaconda3\\Lib\\site-packages\\wwo_hist\\__init__.py:74: FutureWarning: Argument `closed` is deprecated in favor of `inclusive`.\n",
      "  list_mon_end = pd.date_range(start_date, end_date, freq='M', closed='left')\n"
     ]
    },
    {
     "name": "stdout",
     "output_type": "stream",
     "text": [
      "Time elapsed (hh:mm:ss.ms) 0:00:00.251111\n",
      "\n",
      "\n",
      "export Tacoma completed!\n",
      "\n",
      "\n",
      "195\n",
      "Ohio\n",
      "\n",
      "\n",
      "Retrieving weather data for Ohio\n",
      "\n",
      "\n",
      "Currently retrieving data for Ohio: from 2011-06-12 to 2011-06-12\n"
     ]
    },
    {
     "name": "stderr",
     "output_type": "stream",
     "text": [
      "C:\\Users\\Heliiix\\anaconda3\\Lib\\site-packages\\wwo_hist\\__init__.py:69: FutureWarning: Argument `closed` is deprecated in favor of `inclusive`.\n",
      "  list_mon_begin = pd.date_range(start_date, end_date, freq='MS', closed='right')\n",
      "C:\\Users\\Heliiix\\anaconda3\\Lib\\site-packages\\wwo_hist\\__init__.py:74: FutureWarning: Argument `closed` is deprecated in favor of `inclusive`.\n",
      "  list_mon_end = pd.date_range(start_date, end_date, freq='M', closed='left')\n"
     ]
    },
    {
     "name": "stdout",
     "output_type": "stream",
     "text": [
      "Time elapsed (hh:mm:ss.ms) 0:00:00.270244\n",
      "\n",
      "\n",
      "export Ohio completed!\n",
      "\n",
      "\n",
      "196\n",
      "Virginia\n",
      "\n",
      "\n",
      "Retrieving weather data for Virginia\n",
      "\n",
      "\n",
      "Currently retrieving data for Virginia: from 2011-06-09 to 2011-06-09\n"
     ]
    },
    {
     "name": "stderr",
     "output_type": "stream",
     "text": [
      "C:\\Users\\Heliiix\\anaconda3\\Lib\\site-packages\\wwo_hist\\__init__.py:69: FutureWarning: Argument `closed` is deprecated in favor of `inclusive`.\n",
      "  list_mon_begin = pd.date_range(start_date, end_date, freq='MS', closed='right')\n",
      "C:\\Users\\Heliiix\\anaconda3\\Lib\\site-packages\\wwo_hist\\__init__.py:74: FutureWarning: Argument `closed` is deprecated in favor of `inclusive`.\n",
      "  list_mon_end = pd.date_range(start_date, end_date, freq='M', closed='left')\n"
     ]
    },
    {
     "name": "stdout",
     "output_type": "stream",
     "text": [
      "Time elapsed (hh:mm:ss.ms) 0:00:00.266438\n",
      "\n",
      "\n",
      "export Virginia completed!\n",
      "\n",
      "\n",
      "197\n",
      "Newark\n",
      "\n",
      "\n",
      "Retrieving weather data for Newark\n",
      "\n",
      "\n",
      "Currently retrieving data for Newark: from 2011-06-07 to 2011-06-07\n"
     ]
    },
    {
     "name": "stderr",
     "output_type": "stream",
     "text": [
      "C:\\Users\\Heliiix\\anaconda3\\Lib\\site-packages\\wwo_hist\\__init__.py:69: FutureWarning: Argument `closed` is deprecated in favor of `inclusive`.\n",
      "  list_mon_begin = pd.date_range(start_date, end_date, freq='MS', closed='right')\n",
      "C:\\Users\\Heliiix\\anaconda3\\Lib\\site-packages\\wwo_hist\\__init__.py:74: FutureWarning: Argument `closed` is deprecated in favor of `inclusive`.\n",
      "  list_mon_end = pd.date_range(start_date, end_date, freq='M', closed='left')\n"
     ]
    },
    {
     "name": "stdout",
     "output_type": "stream",
     "text": [
      "Time elapsed (hh:mm:ss.ms) 0:00:00.267376\n",
      "\n",
      "\n",
      "export Newark completed!\n",
      "\n",
      "\n",
      "198\n",
      "New%20York\n",
      "\n",
      "\n",
      "Retrieving weather data for New%20York\n",
      "\n",
      "\n",
      "Currently retrieving data for New%20York: from 2011-06-08 to 2011-06-08\n"
     ]
    },
    {
     "name": "stderr",
     "output_type": "stream",
     "text": [
      "C:\\Users\\Heliiix\\anaconda3\\Lib\\site-packages\\wwo_hist\\__init__.py:69: FutureWarning: Argument `closed` is deprecated in favor of `inclusive`.\n",
      "  list_mon_begin = pd.date_range(start_date, end_date, freq='MS', closed='right')\n",
      "C:\\Users\\Heliiix\\anaconda3\\Lib\\site-packages\\wwo_hist\\__init__.py:74: FutureWarning: Argument `closed` is deprecated in favor of `inclusive`.\n",
      "  list_mon_end = pd.date_range(start_date, end_date, freq='M', closed='left')\n"
     ]
    },
    {
     "name": "stdout",
     "output_type": "stream",
     "text": [
      "Time elapsed (hh:mm:ss.ms) 0:00:00.253265\n",
      "\n",
      "\n",
      "export New%20York completed!\n",
      "\n",
      "\n",
      "199\n",
      "Newark\n",
      "\n",
      "\n",
      "Retrieving weather data for Newark\n",
      "\n",
      "\n",
      "Currently retrieving data for Newark: from 2011-05-08 to 2011-05-08\n"
     ]
    },
    {
     "name": "stderr",
     "output_type": "stream",
     "text": [
      "C:\\Users\\Heliiix\\anaconda3\\Lib\\site-packages\\wwo_hist\\__init__.py:69: FutureWarning: Argument `closed` is deprecated in favor of `inclusive`.\n",
      "  list_mon_begin = pd.date_range(start_date, end_date, freq='MS', closed='right')\n",
      "C:\\Users\\Heliiix\\anaconda3\\Lib\\site-packages\\wwo_hist\\__init__.py:74: FutureWarning: Argument `closed` is deprecated in favor of `inclusive`.\n",
      "  list_mon_end = pd.date_range(start_date, end_date, freq='M', closed='left')\n"
     ]
    },
    {
     "name": "stdout",
     "output_type": "stream",
     "text": [
      "Time elapsed (hh:mm:ss.ms) 0:00:00.296632\n",
      "\n",
      "\n",
      "export Newark completed!\n",
      "\n",
      "\n",
      "200\n",
      "Northern%20and%20Central%20California\n",
      "\n",
      "\n",
      "Retrieving weather data for Northern%20and%20Central%20California\n",
      "\n",
      "\n",
      "Currently retrieving data for Northern%20and%20Central%20California: from 2011-05-04 to 2011-05-04\n"
     ]
    },
    {
     "name": "stderr",
     "output_type": "stream",
     "text": [
      "C:\\Users\\Heliiix\\anaconda3\\Lib\\site-packages\\wwo_hist\\__init__.py:69: FutureWarning: Argument `closed` is deprecated in favor of `inclusive`.\n",
      "  list_mon_begin = pd.date_range(start_date, end_date, freq='MS', closed='right')\n",
      "C:\\Users\\Heliiix\\anaconda3\\Lib\\site-packages\\wwo_hist\\__init__.py:74: FutureWarning: Argument `closed` is deprecated in favor of `inclusive`.\n",
      "  list_mon_end = pd.date_range(start_date, end_date, freq='M', closed='left')\n"
     ]
    },
    {
     "name": "stdout",
     "output_type": "stream",
     "text": [
      "Time elapsed (hh:mm:ss.ms) 0:00:01.321480\n",
      "\n",
      "\n",
      "export Northern%20and%20Central%20California completed!\n",
      "\n",
      "\n",
      "201\n",
      "Alberta\n",
      "\n",
      "\n",
      "Retrieving weather data for Alberta\n",
      "\n",
      "\n",
      "Currently retrieving data for Alberta: from 2011-04-19 to 2011-04-19\n"
     ]
    },
    {
     "name": "stderr",
     "output_type": "stream",
     "text": [
      "C:\\Users\\Heliiix\\anaconda3\\Lib\\site-packages\\wwo_hist\\__init__.py:69: FutureWarning: Argument `closed` is deprecated in favor of `inclusive`.\n",
      "  list_mon_begin = pd.date_range(start_date, end_date, freq='MS', closed='right')\n",
      "C:\\Users\\Heliiix\\anaconda3\\Lib\\site-packages\\wwo_hist\\__init__.py:74: FutureWarning: Argument `closed` is deprecated in favor of `inclusive`.\n",
      "  list_mon_end = pd.date_range(start_date, end_date, freq='M', closed='left')\n"
     ]
    },
    {
     "name": "stdout",
     "output_type": "stream",
     "text": [
      "Time elapsed (hh:mm:ss.ms) 0:00:00.445285\n",
      "\n",
      "\n",
      "export Alberta completed!\n",
      "\n",
      "\n",
      "202\n",
      "Alberta\n",
      "\n",
      "\n",
      "Retrieving weather data for Alberta\n",
      "\n",
      "\n",
      "Currently retrieving data for Alberta: from 2011-03-21 to 2011-03-21\n"
     ]
    },
    {
     "name": "stderr",
     "output_type": "stream",
     "text": [
      "C:\\Users\\Heliiix\\anaconda3\\Lib\\site-packages\\wwo_hist\\__init__.py:69: FutureWarning: Argument `closed` is deprecated in favor of `inclusive`.\n",
      "  list_mon_begin = pd.date_range(start_date, end_date, freq='MS', closed='right')\n",
      "C:\\Users\\Heliiix\\anaconda3\\Lib\\site-packages\\wwo_hist\\__init__.py:74: FutureWarning: Argument `closed` is deprecated in favor of `inclusive`.\n",
      "  list_mon_end = pd.date_range(start_date, end_date, freq='M', closed='left')\n"
     ]
    },
    {
     "name": "stdout",
     "output_type": "stream",
     "text": [
      "Time elapsed (hh:mm:ss.ms) 0:00:00.257150\n",
      "\n",
      "\n",
      "export Alberta completed!\n",
      "\n",
      "\n",
      "203\n",
      "Northern%20and%20Central%20California\n",
      "\n",
      "\n",
      "Retrieving weather data for Northern%20and%20Central%20California\n",
      "\n",
      "\n",
      "Currently retrieving data for Northern%20and%20Central%20California: from 2011-03-19 to 2011-03-19\n"
     ]
    },
    {
     "name": "stderr",
     "output_type": "stream",
     "text": [
      "C:\\Users\\Heliiix\\anaconda3\\Lib\\site-packages\\wwo_hist\\__init__.py:69: FutureWarning: Argument `closed` is deprecated in favor of `inclusive`.\n",
      "  list_mon_begin = pd.date_range(start_date, end_date, freq='MS', closed='right')\n",
      "C:\\Users\\Heliiix\\anaconda3\\Lib\\site-packages\\wwo_hist\\__init__.py:74: FutureWarning: Argument `closed` is deprecated in favor of `inclusive`.\n",
      "  list_mon_end = pd.date_range(start_date, end_date, freq='M', closed='left')\n"
     ]
    },
    {
     "name": "stdout",
     "output_type": "stream",
     "text": [
      "Time elapsed (hh:mm:ss.ms) 0:00:00.265371\n",
      "\n",
      "\n",
      "export Northern%20and%20Central%20California completed!\n",
      "\n",
      "\n",
      "204\n",
      "Virginia\n",
      "\n",
      "\n",
      "Retrieving weather data for Virginia\n",
      "\n",
      "\n",
      "Currently retrieving data for Virginia: from 2011-03-20 to 2011-03-20\n"
     ]
    },
    {
     "name": "stderr",
     "output_type": "stream",
     "text": [
      "C:\\Users\\Heliiix\\anaconda3\\Lib\\site-packages\\wwo_hist\\__init__.py:69: FutureWarning: Argument `closed` is deprecated in favor of `inclusive`.\n",
      "  list_mon_begin = pd.date_range(start_date, end_date, freq='MS', closed='right')\n",
      "C:\\Users\\Heliiix\\anaconda3\\Lib\\site-packages\\wwo_hist\\__init__.py:74: FutureWarning: Argument `closed` is deprecated in favor of `inclusive`.\n",
      "  list_mon_end = pd.date_range(start_date, end_date, freq='M', closed='left')\n"
     ]
    },
    {
     "name": "stdout",
     "output_type": "stream",
     "text": [
      "Time elapsed (hh:mm:ss.ms) 0:00:00.238664\n",
      "\n",
      "\n",
      "export Virginia completed!\n",
      "\n",
      "\n",
      "205\n",
      "San%20Francisco%20Bay%20Area\n",
      "\n",
      "\n",
      "Retrieving weather data for San%20Francisco%20Bay%20Area\n",
      "\n",
      "\n",
      "Currently retrieving data for San%20Francisco%20Bay%20Area: from 2011-03-22 to 2011-03-22\n"
     ]
    },
    {
     "name": "stderr",
     "output_type": "stream",
     "text": [
      "C:\\Users\\Heliiix\\anaconda3\\Lib\\site-packages\\wwo_hist\\__init__.py:69: FutureWarning: Argument `closed` is deprecated in favor of `inclusive`.\n",
      "  list_mon_begin = pd.date_range(start_date, end_date, freq='MS', closed='right')\n",
      "C:\\Users\\Heliiix\\anaconda3\\Lib\\site-packages\\wwo_hist\\__init__.py:74: FutureWarning: Argument `closed` is deprecated in favor of `inclusive`.\n",
      "  list_mon_end = pd.date_range(start_date, end_date, freq='M', closed='left')\n"
     ]
    },
    {
     "name": "stdout",
     "output_type": "stream",
     "text": [
      "Time elapsed (hh:mm:ss.ms) 0:00:00.258387\n",
      "\n",
      "\n",
      "export San%20Francisco%20Bay%20Area completed!\n",
      "\n",
      "\n",
      "206\n",
      "Tacoma\n",
      "\n",
      "\n",
      "Retrieving weather data for Tacoma\n",
      "\n",
      "\n",
      "Currently retrieving data for Tacoma: from 2011-03-23 to 2011-03-23\n"
     ]
    },
    {
     "name": "stderr",
     "output_type": "stream",
     "text": [
      "C:\\Users\\Heliiix\\anaconda3\\Lib\\site-packages\\wwo_hist\\__init__.py:69: FutureWarning: Argument `closed` is deprecated in favor of `inclusive`.\n",
      "  list_mon_begin = pd.date_range(start_date, end_date, freq='MS', closed='right')\n",
      "C:\\Users\\Heliiix\\anaconda3\\Lib\\site-packages\\wwo_hist\\__init__.py:74: FutureWarning: Argument `closed` is deprecated in favor of `inclusive`.\n",
      "  list_mon_end = pd.date_range(start_date, end_date, freq='M', closed='left')\n"
     ]
    },
    {
     "name": "stdout",
     "output_type": "stream",
     "text": [
      "Time elapsed (hh:mm:ss.ms) 0:00:00.239096\n",
      "\n",
      "\n",
      "export Tacoma completed!\n",
      "\n",
      "\n",
      "207\n",
      "Island%20of%20Puerto%20Rico\n",
      "\n",
      "\n",
      "Retrieving weather data for Island%20of%20Puerto%20Rico\n",
      "\n",
      "\n",
      "Currently retrieving data for Island%20of%20Puerto%20Rico: from 2011-03-24 to 2011-03-24\n"
     ]
    },
    {
     "name": "stderr",
     "output_type": "stream",
     "text": [
      "C:\\Users\\Heliiix\\anaconda3\\Lib\\site-packages\\wwo_hist\\__init__.py:69: FutureWarning: Argument `closed` is deprecated in favor of `inclusive`.\n",
      "  list_mon_begin = pd.date_range(start_date, end_date, freq='MS', closed='right')\n",
      "C:\\Users\\Heliiix\\anaconda3\\Lib\\site-packages\\wwo_hist\\__init__.py:74: FutureWarning: Argument `closed` is deprecated in favor of `inclusive`.\n",
      "  list_mon_end = pd.date_range(start_date, end_date, freq='M', closed='left')\n"
     ]
    },
    {
     "name": "stdout",
     "output_type": "stream",
     "text": [
      "Time elapsed (hh:mm:ss.ms) 0:00:00.247599\n",
      "\n",
      "\n",
      "export Island%20of%20Puerto%20Rico completed!\n",
      "\n",
      "\n",
      "208\n",
      "New%20York\n",
      "\n",
      "\n",
      "Retrieving weather data for New%20York\n",
      "\n",
      "\n",
      "Currently retrieving data for New%20York: from 2011-03-10 to 2011-03-10\n"
     ]
    },
    {
     "name": "stderr",
     "output_type": "stream",
     "text": [
      "C:\\Users\\Heliiix\\anaconda3\\Lib\\site-packages\\wwo_hist\\__init__.py:69: FutureWarning: Argument `closed` is deprecated in favor of `inclusive`.\n",
      "  list_mon_begin = pd.date_range(start_date, end_date, freq='MS', closed='right')\n",
      "C:\\Users\\Heliiix\\anaconda3\\Lib\\site-packages\\wwo_hist\\__init__.py:74: FutureWarning: Argument `closed` is deprecated in favor of `inclusive`.\n",
      "  list_mon_end = pd.date_range(start_date, end_date, freq='M', closed='left')\n"
     ]
    },
    {
     "name": "stdout",
     "output_type": "stream",
     "text": [
      "Time elapsed (hh:mm:ss.ms) 0:00:00.260944\n",
      "\n",
      "\n",
      "export New%20York completed!\n",
      "\n",
      "\n",
      "209\n",
      "New%20York\n",
      "\n",
      "\n",
      "Retrieving weather data for New%20York\n",
      "\n",
      "\n",
      "Currently retrieving data for New%20York: from 2011-03-11 to 2011-03-11\n"
     ]
    },
    {
     "name": "stderr",
     "output_type": "stream",
     "text": [
      "C:\\Users\\Heliiix\\anaconda3\\Lib\\site-packages\\wwo_hist\\__init__.py:69: FutureWarning: Argument `closed` is deprecated in favor of `inclusive`.\n",
      "  list_mon_begin = pd.date_range(start_date, end_date, freq='MS', closed='right')\n",
      "C:\\Users\\Heliiix\\anaconda3\\Lib\\site-packages\\wwo_hist\\__init__.py:74: FutureWarning: Argument `closed` is deprecated in favor of `inclusive`.\n",
      "  list_mon_end = pd.date_range(start_date, end_date, freq='M', closed='left')\n"
     ]
    },
    {
     "name": "stdout",
     "output_type": "stream",
     "text": [
      "Time elapsed (hh:mm:ss.ms) 0:00:00.252159\n",
      "\n",
      "\n",
      "export New%20York completed!\n",
      "\n",
      "\n",
      "210\n",
      "California\n",
      "\n",
      "\n",
      "Retrieving weather data for California\n",
      "\n",
      "\n",
      "Currently retrieving data for California: from 2011-02-25 to 2011-02-25\n"
     ]
    },
    {
     "name": "stderr",
     "output_type": "stream",
     "text": [
      "C:\\Users\\Heliiix\\anaconda3\\Lib\\site-packages\\wwo_hist\\__init__.py:69: FutureWarning: Argument `closed` is deprecated in favor of `inclusive`.\n",
      "  list_mon_begin = pd.date_range(start_date, end_date, freq='MS', closed='right')\n",
      "C:\\Users\\Heliiix\\anaconda3\\Lib\\site-packages\\wwo_hist\\__init__.py:74: FutureWarning: Argument `closed` is deprecated in favor of `inclusive`.\n",
      "  list_mon_end = pd.date_range(start_date, end_date, freq='M', closed='left')\n"
     ]
    },
    {
     "name": "stdout",
     "output_type": "stream",
     "text": [
      "Time elapsed (hh:mm:ss.ms) 0:00:00.248451\n",
      "\n",
      "\n",
      "export California completed!\n",
      "\n",
      "\n",
      "211\n",
      "Northern%20California\n",
      "\n",
      "\n",
      "Retrieving weather data for Northern%20California\n",
      "\n",
      "\n",
      "Currently retrieving data for Northern%20California: from 2011-02-26 to 2011-02-26\n"
     ]
    },
    {
     "name": "stderr",
     "output_type": "stream",
     "text": [
      "C:\\Users\\Heliiix\\anaconda3\\Lib\\site-packages\\wwo_hist\\__init__.py:69: FutureWarning: Argument `closed` is deprecated in favor of `inclusive`.\n",
      "  list_mon_begin = pd.date_range(start_date, end_date, freq='MS', closed='right')\n",
      "C:\\Users\\Heliiix\\anaconda3\\Lib\\site-packages\\wwo_hist\\__init__.py:74: FutureWarning: Argument `closed` is deprecated in favor of `inclusive`.\n",
      "  list_mon_end = pd.date_range(start_date, end_date, freq='M', closed='left')\n"
     ]
    },
    {
     "name": "stdout",
     "output_type": "stream",
     "text": [
      "Time elapsed (hh:mm:ss.ms) 0:00:00.245066\n",
      "\n",
      "\n",
      "export Northern%20California completed!\n",
      "\n",
      "\n",
      "212\n",
      "Texas\n",
      "\n",
      "\n",
      "Retrieving weather data for Texas\n",
      "\n",
      "\n",
      "Currently retrieving data for Texas: from 2011-02-27 to 2011-02-27\n"
     ]
    },
    {
     "name": "stderr",
     "output_type": "stream",
     "text": [
      "C:\\Users\\Heliiix\\anaconda3\\Lib\\site-packages\\wwo_hist\\__init__.py:69: FutureWarning: Argument `closed` is deprecated in favor of `inclusive`.\n",
      "  list_mon_begin = pd.date_range(start_date, end_date, freq='MS', closed='right')\n",
      "C:\\Users\\Heliiix\\anaconda3\\Lib\\site-packages\\wwo_hist\\__init__.py:74: FutureWarning: Argument `closed` is deprecated in favor of `inclusive`.\n",
      "  list_mon_end = pd.date_range(start_date, end_date, freq='M', closed='left')\n"
     ]
    },
    {
     "name": "stdout",
     "output_type": "stream",
     "text": [
      "Time elapsed (hh:mm:ss.ms) 0:00:00.254154\n",
      "\n",
      "\n",
      "export Texas completed!\n",
      "\n",
      "\n",
      "213\n",
      "Southern%20California\n",
      "\n",
      "\n",
      "Retrieving weather data for Southern%20California\n",
      "\n",
      "\n",
      "Currently retrieving data for Southern%20California: from 2011-02-28 to 2011-02-28\n"
     ]
    },
    {
     "name": "stderr",
     "output_type": "stream",
     "text": [
      "C:\\Users\\Heliiix\\anaconda3\\Lib\\site-packages\\wwo_hist\\__init__.py:69: FutureWarning: Argument `closed` is deprecated in favor of `inclusive`.\n",
      "  list_mon_begin = pd.date_range(start_date, end_date, freq='MS', closed='right')\n",
      "C:\\Users\\Heliiix\\anaconda3\\Lib\\site-packages\\wwo_hist\\__init__.py:74: FutureWarning: Argument `closed` is deprecated in favor of `inclusive`.\n",
      "  list_mon_end = pd.date_range(start_date, end_date, freq='M', closed='left')\n"
     ]
    },
    {
     "name": "stdout",
     "output_type": "stream",
     "text": [
      "Time elapsed (hh:mm:ss.ms) 0:00:00.260504\n",
      "\n",
      "\n",
      "export Southern%20California completed!\n",
      "\n",
      "\n",
      "214\n",
      "Illinois\n",
      "\n",
      "\n",
      "Retrieving weather data for Illinois\n",
      "\n",
      "\n",
      "Currently retrieving data for Illinois: from 2011-02-17 to 2011-02-17\n"
     ]
    },
    {
     "name": "stderr",
     "output_type": "stream",
     "text": [
      "C:\\Users\\Heliiix\\anaconda3\\Lib\\site-packages\\wwo_hist\\__init__.py:69: FutureWarning: Argument `closed` is deprecated in favor of `inclusive`.\n",
      "  list_mon_begin = pd.date_range(start_date, end_date, freq='MS', closed='right')\n",
      "C:\\Users\\Heliiix\\anaconda3\\Lib\\site-packages\\wwo_hist\\__init__.py:74: FutureWarning: Argument `closed` is deprecated in favor of `inclusive`.\n",
      "  list_mon_end = pd.date_range(start_date, end_date, freq='M', closed='left')\n"
     ]
    },
    {
     "name": "stdout",
     "output_type": "stream",
     "text": [
      "Time elapsed (hh:mm:ss.ms) 0:00:00.331540\n",
      "\n",
      "\n",
      "export Illinois completed!\n",
      "\n",
      "\n",
      "215\n",
      "New%20York\n",
      "\n",
      "\n",
      "Retrieving weather data for New%20York\n",
      "\n",
      "\n",
      "Currently retrieving data for New%20York: from 2011-02-18 to 2011-02-18\n"
     ]
    },
    {
     "name": "stderr",
     "output_type": "stream",
     "text": [
      "C:\\Users\\Heliiix\\anaconda3\\Lib\\site-packages\\wwo_hist\\__init__.py:69: FutureWarning: Argument `closed` is deprecated in favor of `inclusive`.\n",
      "  list_mon_begin = pd.date_range(start_date, end_date, freq='MS', closed='right')\n",
      "C:\\Users\\Heliiix\\anaconda3\\Lib\\site-packages\\wwo_hist\\__init__.py:74: FutureWarning: Argument `closed` is deprecated in favor of `inclusive`.\n",
      "  list_mon_end = pd.date_range(start_date, end_date, freq='M', closed='left')\n"
     ]
    },
    {
     "name": "stdout",
     "output_type": "stream",
     "text": [
      "Time elapsed (hh:mm:ss.ms) 0:00:00.280428\n",
      "\n",
      "\n",
      "export New%20York completed!\n",
      "\n",
      "\n",
      "216\n",
      "San%20Francisco%20Bay%20Area\n",
      "\n",
      "\n",
      "Retrieving weather data for San%20Francisco%20Bay%20Area\n",
      "\n",
      "\n",
      "Currently retrieving data for San%20Francisco%20Bay%20Area: from 2011-02-19 to 2011-02-19\n"
     ]
    },
    {
     "name": "stderr",
     "output_type": "stream",
     "text": [
      "C:\\Users\\Heliiix\\anaconda3\\Lib\\site-packages\\wwo_hist\\__init__.py:69: FutureWarning: Argument `closed` is deprecated in favor of `inclusive`.\n",
      "  list_mon_begin = pd.date_range(start_date, end_date, freq='MS', closed='right')\n",
      "C:\\Users\\Heliiix\\anaconda3\\Lib\\site-packages\\wwo_hist\\__init__.py:74: FutureWarning: Argument `closed` is deprecated in favor of `inclusive`.\n",
      "  list_mon_end = pd.date_range(start_date, end_date, freq='M', closed='left')\n"
     ]
    },
    {
     "name": "stdout",
     "output_type": "stream",
     "text": [
      "Time elapsed (hh:mm:ss.ms) 0:00:00.289672\n",
      "\n",
      "\n",
      "export San%20Francisco%20Bay%20Area completed!\n",
      "\n",
      "\n",
      "217\n",
      "Alberta\n",
      "\n",
      "\n",
      "Retrieving weather data for Alberta\n",
      "\n",
      "\n",
      "Currently retrieving data for Alberta: from 2011-02-09 to 2011-02-09\n"
     ]
    },
    {
     "name": "stderr",
     "output_type": "stream",
     "text": [
      "C:\\Users\\Heliiix\\anaconda3\\Lib\\site-packages\\wwo_hist\\__init__.py:69: FutureWarning: Argument `closed` is deprecated in favor of `inclusive`.\n",
      "  list_mon_begin = pd.date_range(start_date, end_date, freq='MS', closed='right')\n",
      "C:\\Users\\Heliiix\\anaconda3\\Lib\\site-packages\\wwo_hist\\__init__.py:74: FutureWarning: Argument `closed` is deprecated in favor of `inclusive`.\n",
      "  list_mon_end = pd.date_range(start_date, end_date, freq='M', closed='left')\n"
     ]
    },
    {
     "name": "stdout",
     "output_type": "stream",
     "text": [
      "Time elapsed (hh:mm:ss.ms) 0:00:00.288839\n",
      "\n",
      "\n",
      "export Alberta completed!\n",
      "\n",
      "\n",
      "218\n",
      "Michigan\n",
      "\n",
      "\n",
      "Retrieving weather data for Michigan\n",
      "\n",
      "\n",
      "Currently retrieving data for Michigan: from 2011-02-10 to 2011-02-10\n"
     ]
    },
    {
     "name": "stderr",
     "output_type": "stream",
     "text": [
      "C:\\Users\\Heliiix\\anaconda3\\Lib\\site-packages\\wwo_hist\\__init__.py:69: FutureWarning: Argument `closed` is deprecated in favor of `inclusive`.\n",
      "  list_mon_begin = pd.date_range(start_date, end_date, freq='MS', closed='right')\n",
      "C:\\Users\\Heliiix\\anaconda3\\Lib\\site-packages\\wwo_hist\\__init__.py:74: FutureWarning: Argument `closed` is deprecated in favor of `inclusive`.\n",
      "  list_mon_end = pd.date_range(start_date, end_date, freq='M', closed='left')\n"
     ]
    },
    {
     "name": "stdout",
     "output_type": "stream",
     "text": [
      "Time elapsed (hh:mm:ss.ms) 0:00:00.258649\n",
      "\n",
      "\n",
      "export Michigan completed!\n",
      "\n",
      "\n",
      "219\n",
      "Texas\n",
      "\n",
      "\n",
      "Retrieving weather data for Texas\n",
      "\n",
      "\n",
      "Currently retrieving data for Texas: from 2011-02-03 to 2011-02-03\n"
     ]
    },
    {
     "name": "stderr",
     "output_type": "stream",
     "text": [
      "C:\\Users\\Heliiix\\anaconda3\\Lib\\site-packages\\wwo_hist\\__init__.py:69: FutureWarning: Argument `closed` is deprecated in favor of `inclusive`.\n",
      "  list_mon_begin = pd.date_range(start_date, end_date, freq='MS', closed='right')\n",
      "C:\\Users\\Heliiix\\anaconda3\\Lib\\site-packages\\wwo_hist\\__init__.py:74: FutureWarning: Argument `closed` is deprecated in favor of `inclusive`.\n",
      "  list_mon_end = pd.date_range(start_date, end_date, freq='M', closed='left')\n"
     ]
    },
    {
     "name": "stdout",
     "output_type": "stream",
     "text": [
      "Time elapsed (hh:mm:ss.ms) 0:00:00.254038\n",
      "\n",
      "\n",
      "export Texas completed!\n",
      "\n",
      "\n",
      "220\n",
      "North%20Carolina\n",
      "\n",
      "\n",
      "Retrieving weather data for North%20Carolina\n",
      "\n",
      "\n",
      "Currently retrieving data for North%20Carolina: from 2011-02-04 to 2011-02-04\n"
     ]
    },
    {
     "name": "stderr",
     "output_type": "stream",
     "text": [
      "C:\\Users\\Heliiix\\anaconda3\\Lib\\site-packages\\wwo_hist\\__init__.py:69: FutureWarning: Argument `closed` is deprecated in favor of `inclusive`.\n",
      "  list_mon_begin = pd.date_range(start_date, end_date, freq='MS', closed='right')\n",
      "C:\\Users\\Heliiix\\anaconda3\\Lib\\site-packages\\wwo_hist\\__init__.py:74: FutureWarning: Argument `closed` is deprecated in favor of `inclusive`.\n",
      "  list_mon_end = pd.date_range(start_date, end_date, freq='M', closed='left')\n"
     ]
    },
    {
     "name": "stdout",
     "output_type": "stream",
     "text": [
      "Time elapsed (hh:mm:ss.ms) 0:00:00.278896\n",
      "\n",
      "\n",
      "export North%20Carolina completed!\n",
      "\n",
      "\n",
      "221\n",
      "California\n",
      "\n",
      "\n",
      "Retrieving weather data for California\n",
      "\n",
      "\n",
      "Currently retrieving data for California: from 2011-02-02 to 2011-02-02\n"
     ]
    },
    {
     "name": "stderr",
     "output_type": "stream",
     "text": [
      "C:\\Users\\Heliiix\\anaconda3\\Lib\\site-packages\\wwo_hist\\__init__.py:69: FutureWarning: Argument `closed` is deprecated in favor of `inclusive`.\n",
      "  list_mon_begin = pd.date_range(start_date, end_date, freq='MS', closed='right')\n",
      "C:\\Users\\Heliiix\\anaconda3\\Lib\\site-packages\\wwo_hist\\__init__.py:74: FutureWarning: Argument `closed` is deprecated in favor of `inclusive`.\n",
      "  list_mon_end = pd.date_range(start_date, end_date, freq='M', closed='left')\n"
     ]
    },
    {
     "name": "stdout",
     "output_type": "stream",
     "text": [
      "Time elapsed (hh:mm:ss.ms) 0:00:00.271871\n",
      "\n",
      "\n",
      "export California completed!\n",
      "\n",
      "\n",
      "222\n",
      "Newark\n",
      "\n",
      "\n",
      "Retrieving weather data for Newark\n",
      "\n",
      "\n",
      "Currently retrieving data for Newark: from 2011-02-01 to 2011-02-01\n"
     ]
    },
    {
     "name": "stderr",
     "output_type": "stream",
     "text": [
      "C:\\Users\\Heliiix\\anaconda3\\Lib\\site-packages\\wwo_hist\\__init__.py:69: FutureWarning: Argument `closed` is deprecated in favor of `inclusive`.\n",
      "  list_mon_begin = pd.date_range(start_date, end_date, freq='MS', closed='right')\n",
      "C:\\Users\\Heliiix\\anaconda3\\Lib\\site-packages\\wwo_hist\\__init__.py:74: FutureWarning: Argument `closed` is deprecated in favor of `inclusive`.\n",
      "  list_mon_end = pd.date_range(start_date, end_date, freq='M', closed='left')\n"
     ]
    },
    {
     "name": "stdout",
     "output_type": "stream",
     "text": [
      "Time elapsed (hh:mm:ss.ms) 0:00:00.234559\n",
      "Error processing data for location: Newark. Error: 1\n",
      "223\n",
      "Tacoma\n",
      "\n",
      "\n",
      "Retrieving weather data for Tacoma\n",
      "\n",
      "\n",
      "Currently retrieving data for Tacoma: from 2011-01-26 to 2011-01-26\n"
     ]
    },
    {
     "name": "stderr",
     "output_type": "stream",
     "text": [
      "C:\\Users\\Heliiix\\anaconda3\\Lib\\site-packages\\wwo_hist\\__init__.py:69: FutureWarning: Argument `closed` is deprecated in favor of `inclusive`.\n",
      "  list_mon_begin = pd.date_range(start_date, end_date, freq='MS', closed='right')\n",
      "C:\\Users\\Heliiix\\anaconda3\\Lib\\site-packages\\wwo_hist\\__init__.py:74: FutureWarning: Argument `closed` is deprecated in favor of `inclusive`.\n",
      "  list_mon_end = pd.date_range(start_date, end_date, freq='M', closed='left')\n"
     ]
    },
    {
     "name": "stdout",
     "output_type": "stream",
     "text": [
      "Time elapsed (hh:mm:ss.ms) 0:00:00.281549\n",
      "\n",
      "\n",
      "export Tacoma completed!\n",
      "\n",
      "\n",
      "224\n",
      "Ohio\n",
      "\n",
      "\n",
      "Retrieving weather data for Ohio\n",
      "\n",
      "\n",
      "Currently retrieving data for Ohio: from 2011-01-27 to 2011-01-27\n"
     ]
    },
    {
     "name": "stderr",
     "output_type": "stream",
     "text": [
      "C:\\Users\\Heliiix\\anaconda3\\Lib\\site-packages\\wwo_hist\\__init__.py:69: FutureWarning: Argument `closed` is deprecated in favor of `inclusive`.\n",
      "  list_mon_begin = pd.date_range(start_date, end_date, freq='MS', closed='right')\n",
      "C:\\Users\\Heliiix\\anaconda3\\Lib\\site-packages\\wwo_hist\\__init__.py:74: FutureWarning: Argument `closed` is deprecated in favor of `inclusive`.\n",
      "  list_mon_end = pd.date_range(start_date, end_date, freq='M', closed='left')\n"
     ]
    },
    {
     "name": "stdout",
     "output_type": "stream",
     "text": [
      "Time elapsed (hh:mm:ss.ms) 0:00:00.320616\n",
      "\n",
      "\n",
      "export Ohio completed!\n",
      "\n",
      "\n",
      "225\n",
      "New%20York\n",
      "\n",
      "\n",
      "Retrieving weather data for New%20York\n",
      "\n",
      "\n",
      "Currently retrieving data for New%20York: from 2011-01-25 to 2011-01-25\n"
     ]
    },
    {
     "name": "stderr",
     "output_type": "stream",
     "text": [
      "C:\\Users\\Heliiix\\anaconda3\\Lib\\site-packages\\wwo_hist\\__init__.py:69: FutureWarning: Argument `closed` is deprecated in favor of `inclusive`.\n",
      "  list_mon_begin = pd.date_range(start_date, end_date, freq='MS', closed='right')\n",
      "C:\\Users\\Heliiix\\anaconda3\\Lib\\site-packages\\wwo_hist\\__init__.py:74: FutureWarning: Argument `closed` is deprecated in favor of `inclusive`.\n",
      "  list_mon_end = pd.date_range(start_date, end_date, freq='M', closed='left')\n"
     ]
    },
    {
     "name": "stdout",
     "output_type": "stream",
     "text": [
      "Time elapsed (hh:mm:ss.ms) 0:00:00.233834\n",
      "\n",
      "\n",
      "export New%20York completed!\n",
      "\n",
      "\n",
      "226\n",
      "San%20Francisco%20Bay%20Area\n",
      "\n",
      "\n",
      "Retrieving weather data for San%20Francisco%20Bay%20Area\n",
      "\n",
      "\n",
      "Currently retrieving data for San%20Francisco%20Bay%20Area: from 2010-12-14 to 2010-12-14\n"
     ]
    },
    {
     "name": "stderr",
     "output_type": "stream",
     "text": [
      "C:\\Users\\Heliiix\\anaconda3\\Lib\\site-packages\\wwo_hist\\__init__.py:69: FutureWarning: Argument `closed` is deprecated in favor of `inclusive`.\n",
      "  list_mon_begin = pd.date_range(start_date, end_date, freq='MS', closed='right')\n",
      "C:\\Users\\Heliiix\\anaconda3\\Lib\\site-packages\\wwo_hist\\__init__.py:74: FutureWarning: Argument `closed` is deprecated in favor of `inclusive`.\n",
      "  list_mon_end = pd.date_range(start_date, end_date, freq='M', closed='left')\n"
     ]
    },
    {
     "name": "stdout",
     "output_type": "stream",
     "text": [
      "Time elapsed (hh:mm:ss.ms) 0:00:00.250299\n",
      "\n",
      "\n",
      "export San%20Francisco%20Bay%20Area completed!\n",
      "\n",
      "\n",
      "227\n",
      "San%20Francisco%20Bay%20Area\n",
      "\n",
      "\n",
      "Retrieving weather data for San%20Francisco%20Bay%20Area\n",
      "\n",
      "\n",
      "Currently retrieving data for San%20Francisco%20Bay%20Area: from 2010-12-15 to 2010-12-15\n"
     ]
    },
    {
     "name": "stderr",
     "output_type": "stream",
     "text": [
      "C:\\Users\\Heliiix\\anaconda3\\Lib\\site-packages\\wwo_hist\\__init__.py:69: FutureWarning: Argument `closed` is deprecated in favor of `inclusive`.\n",
      "  list_mon_begin = pd.date_range(start_date, end_date, freq='MS', closed='right')\n",
      "C:\\Users\\Heliiix\\anaconda3\\Lib\\site-packages\\wwo_hist\\__init__.py:74: FutureWarning: Argument `closed` is deprecated in favor of `inclusive`.\n",
      "  list_mon_end = pd.date_range(start_date, end_date, freq='M', closed='left')\n"
     ]
    },
    {
     "name": "stdout",
     "output_type": "stream",
     "text": [
      "Time elapsed (hh:mm:ss.ms) 0:00:00.327095\n",
      "\n",
      "\n",
      "export San%20Francisco%20Bay%20Area completed!\n",
      "\n",
      "\n",
      "228\n",
      "Ohio\n",
      "\n",
      "\n",
      "Retrieving weather data for Ohio\n",
      "\n",
      "\n",
      "Currently retrieving data for Ohio: from 2010-12-12 to 2010-12-12\n"
     ]
    },
    {
     "name": "stderr",
     "output_type": "stream",
     "text": [
      "C:\\Users\\Heliiix\\anaconda3\\Lib\\site-packages\\wwo_hist\\__init__.py:69: FutureWarning: Argument `closed` is deprecated in favor of `inclusive`.\n",
      "  list_mon_begin = pd.date_range(start_date, end_date, freq='MS', closed='right')\n",
      "C:\\Users\\Heliiix\\anaconda3\\Lib\\site-packages\\wwo_hist\\__init__.py:74: FutureWarning: Argument `closed` is deprecated in favor of `inclusive`.\n",
      "  list_mon_end = pd.date_range(start_date, end_date, freq='M', closed='left')\n"
     ]
    },
    {
     "name": "stdout",
     "output_type": "stream",
     "text": [
      "Time elapsed (hh:mm:ss.ms) 0:00:00.272744\n",
      "\n",
      "\n",
      "export Ohio completed!\n",
      "\n",
      "\n",
      "229\n",
      "Tacoma\n",
      "\n",
      "\n",
      "Retrieving weather data for Tacoma\n",
      "\n",
      "\n",
      "Currently retrieving data for Tacoma: from 2010-12-13 to 2010-12-13\n"
     ]
    },
    {
     "name": "stderr",
     "output_type": "stream",
     "text": [
      "C:\\Users\\Heliiix\\anaconda3\\Lib\\site-packages\\wwo_hist\\__init__.py:69: FutureWarning: Argument `closed` is deprecated in favor of `inclusive`.\n",
      "  list_mon_begin = pd.date_range(start_date, end_date, freq='MS', closed='right')\n",
      "C:\\Users\\Heliiix\\anaconda3\\Lib\\site-packages\\wwo_hist\\__init__.py:74: FutureWarning: Argument `closed` is deprecated in favor of `inclusive`.\n",
      "  list_mon_end = pd.date_range(start_date, end_date, freq='M', closed='left')\n"
     ]
    },
    {
     "name": "stdout",
     "output_type": "stream",
     "text": [
      "Time elapsed (hh:mm:ss.ms) 0:00:00.280386\n",
      "\n",
      "\n",
      "export Tacoma completed!\n",
      "\n",
      "\n",
      "230\n",
      "Illinois\n",
      "\n",
      "\n",
      "Retrieving weather data for Illinois\n",
      "\n",
      "\n",
      "Currently retrieving data for Illinois: from 2010-12-03 to 2010-12-03\n"
     ]
    },
    {
     "name": "stderr",
     "output_type": "stream",
     "text": [
      "C:\\Users\\Heliiix\\anaconda3\\Lib\\site-packages\\wwo_hist\\__init__.py:69: FutureWarning: Argument `closed` is deprecated in favor of `inclusive`.\n",
      "  list_mon_begin = pd.date_range(start_date, end_date, freq='MS', closed='right')\n",
      "C:\\Users\\Heliiix\\anaconda3\\Lib\\site-packages\\wwo_hist\\__init__.py:74: FutureWarning: Argument `closed` is deprecated in favor of `inclusive`.\n",
      "  list_mon_end = pd.date_range(start_date, end_date, freq='M', closed='left')\n"
     ]
    },
    {
     "name": "stdout",
     "output_type": "stream",
     "text": [
      "Time elapsed (hh:mm:ss.ms) 0:00:00.256538\n",
      "\n",
      "\n",
      "export Illinois completed!\n",
      "\n",
      "\n",
      "231\n",
      "New%20York\n",
      "\n",
      "\n",
      "Retrieving weather data for New%20York\n",
      "\n",
      "\n",
      "Currently retrieving data for New%20York: from 2010-12-04 to 2010-12-04\n"
     ]
    },
    {
     "name": "stderr",
     "output_type": "stream",
     "text": [
      "C:\\Users\\Heliiix\\anaconda3\\Lib\\site-packages\\wwo_hist\\__init__.py:69: FutureWarning: Argument `closed` is deprecated in favor of `inclusive`.\n",
      "  list_mon_begin = pd.date_range(start_date, end_date, freq='MS', closed='right')\n",
      "C:\\Users\\Heliiix\\anaconda3\\Lib\\site-packages\\wwo_hist\\__init__.py:74: FutureWarning: Argument `closed` is deprecated in favor of `inclusive`.\n",
      "  list_mon_end = pd.date_range(start_date, end_date, freq='M', closed='left')\n"
     ]
    },
    {
     "name": "stdout",
     "output_type": "stream",
     "text": [
      "Time elapsed (hh:mm:ss.ms) 0:00:00.286890\n",
      "\n",
      "\n",
      "export New%20York completed!\n",
      "\n",
      "\n",
      "232\n",
      "Newark\n",
      "\n",
      "\n",
      "Retrieving weather data for Newark\n",
      "\n",
      "\n",
      "Currently retrieving data for Newark: from 2010-11-23 to 2010-11-23\n"
     ]
    },
    {
     "name": "stderr",
     "output_type": "stream",
     "text": [
      "C:\\Users\\Heliiix\\anaconda3\\Lib\\site-packages\\wwo_hist\\__init__.py:69: FutureWarning: Argument `closed` is deprecated in favor of `inclusive`.\n",
      "  list_mon_begin = pd.date_range(start_date, end_date, freq='MS', closed='right')\n",
      "C:\\Users\\Heliiix\\anaconda3\\Lib\\site-packages\\wwo_hist\\__init__.py:74: FutureWarning: Argument `closed` is deprecated in favor of `inclusive`.\n",
      "  list_mon_end = pd.date_range(start_date, end_date, freq='M', closed='left')\n"
     ]
    },
    {
     "name": "stdout",
     "output_type": "stream",
     "text": [
      "Time elapsed (hh:mm:ss.ms) 0:00:00.242850\n",
      "\n",
      "\n",
      "export Newark completed!\n",
      "\n",
      "\n",
      "233\n",
      "Tacoma\n",
      "\n",
      "\n",
      "Retrieving weather data for Tacoma\n",
      "\n",
      "\n",
      "Currently retrieving data for Tacoma: from 2010-11-21 to 2010-11-21\n"
     ]
    },
    {
     "name": "stderr",
     "output_type": "stream",
     "text": [
      "C:\\Users\\Heliiix\\anaconda3\\Lib\\site-packages\\wwo_hist\\__init__.py:69: FutureWarning: Argument `closed` is deprecated in favor of `inclusive`.\n",
      "  list_mon_begin = pd.date_range(start_date, end_date, freq='MS', closed='right')\n",
      "C:\\Users\\Heliiix\\anaconda3\\Lib\\site-packages\\wwo_hist\\__init__.py:74: FutureWarning: Argument `closed` is deprecated in favor of `inclusive`.\n",
      "  list_mon_end = pd.date_range(start_date, end_date, freq='M', closed='left')\n"
     ]
    },
    {
     "name": "stdout",
     "output_type": "stream",
     "text": [
      "Time elapsed (hh:mm:ss.ms) 0:00:00.244669\n",
      "\n",
      "\n",
      "export Tacoma completed!\n",
      "\n",
      "\n",
      "234\n",
      "Southern%20California\n",
      "\n",
      "\n",
      "Retrieving weather data for Southern%20California\n",
      "\n",
      "\n",
      "Currently retrieving data for Southern%20California: from 2010-11-22 to 2010-11-22\n"
     ]
    },
    {
     "name": "stderr",
     "output_type": "stream",
     "text": [
      "C:\\Users\\Heliiix\\anaconda3\\Lib\\site-packages\\wwo_hist\\__init__.py:69: FutureWarning: Argument `closed` is deprecated in favor of `inclusive`.\n",
      "  list_mon_begin = pd.date_range(start_date, end_date, freq='MS', closed='right')\n",
      "C:\\Users\\Heliiix\\anaconda3\\Lib\\site-packages\\wwo_hist\\__init__.py:74: FutureWarning: Argument `closed` is deprecated in favor of `inclusive`.\n",
      "  list_mon_end = pd.date_range(start_date, end_date, freq='M', closed='left')\n"
     ]
    },
    {
     "name": "stdout",
     "output_type": "stream",
     "text": [
      "Time elapsed (hh:mm:ss.ms) 0:00:00.243649\n",
      "\n",
      "\n",
      "export Southern%20California completed!\n",
      "\n",
      "\n",
      "235\n",
      "Ohio\n",
      "\n",
      "\n",
      "Retrieving weather data for Ohio\n",
      "\n",
      "\n",
      "Currently retrieving data for Ohio: from 2010-11-24 to 2010-11-24\n"
     ]
    },
    {
     "name": "stderr",
     "output_type": "stream",
     "text": [
      "C:\\Users\\Heliiix\\anaconda3\\Lib\\site-packages\\wwo_hist\\__init__.py:69: FutureWarning: Argument `closed` is deprecated in favor of `inclusive`.\n",
      "  list_mon_begin = pd.date_range(start_date, end_date, freq='MS', closed='right')\n",
      "C:\\Users\\Heliiix\\anaconda3\\Lib\\site-packages\\wwo_hist\\__init__.py:74: FutureWarning: Argument `closed` is deprecated in favor of `inclusive`.\n",
      "  list_mon_end = pd.date_range(start_date, end_date, freq='M', closed='left')\n"
     ]
    },
    {
     "name": "stdout",
     "output_type": "stream",
     "text": [
      "Time elapsed (hh:mm:ss.ms) 0:00:00.322375\n",
      "\n",
      "\n",
      "export Ohio completed!\n",
      "\n",
      "\n",
      "236\n",
      "Texas\n",
      "\n",
      "\n",
      "Retrieving weather data for Texas\n",
      "\n",
      "\n",
      "Currently retrieving data for Texas: from 2010-11-06 to 2010-11-06\n"
     ]
    },
    {
     "name": "stderr",
     "output_type": "stream",
     "text": [
      "C:\\Users\\Heliiix\\anaconda3\\Lib\\site-packages\\wwo_hist\\__init__.py:69: FutureWarning: Argument `closed` is deprecated in favor of `inclusive`.\n",
      "  list_mon_begin = pd.date_range(start_date, end_date, freq='MS', closed='right')\n",
      "C:\\Users\\Heliiix\\anaconda3\\Lib\\site-packages\\wwo_hist\\__init__.py:74: FutureWarning: Argument `closed` is deprecated in favor of `inclusive`.\n",
      "  list_mon_end = pd.date_range(start_date, end_date, freq='M', closed='left')\n"
     ]
    },
    {
     "name": "stdout",
     "output_type": "stream",
     "text": [
      "Time elapsed (hh:mm:ss.ms) 0:00:00.246674\n",
      "\n",
      "\n",
      "export Texas completed!\n",
      "\n",
      "\n",
      "237\n",
      "Alberta\n",
      "\n",
      "\n",
      "Retrieving weather data for Alberta\n",
      "\n",
      "\n",
      "Currently retrieving data for Alberta: from 2010-10-27 to 2010-10-27\n"
     ]
    },
    {
     "name": "stderr",
     "output_type": "stream",
     "text": [
      "C:\\Users\\Heliiix\\anaconda3\\Lib\\site-packages\\wwo_hist\\__init__.py:69: FutureWarning: Argument `closed` is deprecated in favor of `inclusive`.\n",
      "  list_mon_begin = pd.date_range(start_date, end_date, freq='MS', closed='right')\n",
      "C:\\Users\\Heliiix\\anaconda3\\Lib\\site-packages\\wwo_hist\\__init__.py:74: FutureWarning: Argument `closed` is deprecated in favor of `inclusive`.\n",
      "  list_mon_end = pd.date_range(start_date, end_date, freq='M', closed='left')\n"
     ]
    },
    {
     "name": "stdout",
     "output_type": "stream",
     "text": [
      "Time elapsed (hh:mm:ss.ms) 0:00:00.264122\n",
      "\n",
      "\n",
      "export Alberta completed!\n",
      "\n",
      "\n",
      "238\n",
      "Island%20of%20Puerto%20Rico\n",
      "\n",
      "\n",
      "Retrieving weather data for Island%20of%20Puerto%20Rico\n",
      "\n",
      "\n",
      "Currently retrieving data for Island%20of%20Puerto%20Rico: from 2010-10-28 to 2010-10-28\n"
     ]
    },
    {
     "name": "stderr",
     "output_type": "stream",
     "text": [
      "C:\\Users\\Heliiix\\anaconda3\\Lib\\site-packages\\wwo_hist\\__init__.py:69: FutureWarning: Argument `closed` is deprecated in favor of `inclusive`.\n",
      "  list_mon_begin = pd.date_range(start_date, end_date, freq='MS', closed='right')\n",
      "C:\\Users\\Heliiix\\anaconda3\\Lib\\site-packages\\wwo_hist\\__init__.py:74: FutureWarning: Argument `closed` is deprecated in favor of `inclusive`.\n",
      "  list_mon_end = pd.date_range(start_date, end_date, freq='M', closed='left')\n"
     ]
    },
    {
     "name": "stdout",
     "output_type": "stream",
     "text": [
      "Time elapsed (hh:mm:ss.ms) 0:00:00.276352\n",
      "\n",
      "\n",
      "export Island%20of%20Puerto%20Rico completed!\n",
      "\n",
      "\n",
      "239\n",
      "Northern%20Illinois\n",
      "\n",
      "\n",
      "Retrieving weather data for Northern%20Illinois\n",
      "\n",
      "\n",
      "Currently retrieving data for Northern%20Illinois: from 2010-10-29 to 2010-10-29\n"
     ]
    },
    {
     "name": "stderr",
     "output_type": "stream",
     "text": [
      "C:\\Users\\Heliiix\\anaconda3\\Lib\\site-packages\\wwo_hist\\__init__.py:69: FutureWarning: Argument `closed` is deprecated in favor of `inclusive`.\n",
      "  list_mon_begin = pd.date_range(start_date, end_date, freq='MS', closed='right')\n",
      "C:\\Users\\Heliiix\\anaconda3\\Lib\\site-packages\\wwo_hist\\__init__.py:74: FutureWarning: Argument `closed` is deprecated in favor of `inclusive`.\n",
      "  list_mon_end = pd.date_range(start_date, end_date, freq='M', closed='left')\n"
     ]
    },
    {
     "name": "stdout",
     "output_type": "stream",
     "text": [
      "Time elapsed (hh:mm:ss.ms) 0:00:00.262996\n",
      "\n",
      "\n",
      "export Northern%20Illinois completed!\n",
      "\n",
      "\n",
      "240\n",
      "Newark\n",
      "\n",
      "\n",
      "Retrieving weather data for Newark\n",
      "\n",
      "\n",
      "Currently retrieving data for Newark: from 2010-10-26 to 2010-10-26\n"
     ]
    },
    {
     "name": "stderr",
     "output_type": "stream",
     "text": [
      "C:\\Users\\Heliiix\\anaconda3\\Lib\\site-packages\\wwo_hist\\__init__.py:69: FutureWarning: Argument `closed` is deprecated in favor of `inclusive`.\n",
      "  list_mon_begin = pd.date_range(start_date, end_date, freq='MS', closed='right')\n",
      "C:\\Users\\Heliiix\\anaconda3\\Lib\\site-packages\\wwo_hist\\__init__.py:74: FutureWarning: Argument `closed` is deprecated in favor of `inclusive`.\n",
      "  list_mon_end = pd.date_range(start_date, end_date, freq='M', closed='left')\n"
     ]
    },
    {
     "name": "stdout",
     "output_type": "stream",
     "text": [
      "Time elapsed (hh:mm:ss.ms) 0:00:00.245156\n",
      "\n",
      "\n",
      "export Newark completed!\n",
      "\n",
      "\n",
      "241\n",
      "California\n",
      "\n",
      "\n",
      "Retrieving weather data for California\n",
      "\n",
      "\n",
      "Currently retrieving data for California: from 2010-08-19 to 2010-08-19\n"
     ]
    },
    {
     "name": "stderr",
     "output_type": "stream",
     "text": [
      "C:\\Users\\Heliiix\\anaconda3\\Lib\\site-packages\\wwo_hist\\__init__.py:69: FutureWarning: Argument `closed` is deprecated in favor of `inclusive`.\n",
      "  list_mon_begin = pd.date_range(start_date, end_date, freq='MS', closed='right')\n",
      "C:\\Users\\Heliiix\\anaconda3\\Lib\\site-packages\\wwo_hist\\__init__.py:74: FutureWarning: Argument `closed` is deprecated in favor of `inclusive`.\n",
      "  list_mon_end = pd.date_range(start_date, end_date, freq='M', closed='left')\n"
     ]
    },
    {
     "name": "stdout",
     "output_type": "stream",
     "text": [
      "Time elapsed (hh:mm:ss.ms) 0:00:00.293860\n",
      "\n",
      "\n",
      "export California completed!\n",
      "\n",
      "\n",
      "242\n",
      "Island%20of%20Puerto%20Rico\n",
      "\n",
      "\n",
      "Retrieving weather data for Island%20of%20Puerto%20Rico\n",
      "\n",
      "\n",
      "Currently retrieving data for Island%20of%20Puerto%20Rico: from 2010-08-20 to 2010-08-20\n"
     ]
    },
    {
     "name": "stderr",
     "output_type": "stream",
     "text": [
      "C:\\Users\\Heliiix\\anaconda3\\Lib\\site-packages\\wwo_hist\\__init__.py:69: FutureWarning: Argument `closed` is deprecated in favor of `inclusive`.\n",
      "  list_mon_begin = pd.date_range(start_date, end_date, freq='MS', closed='right')\n",
      "C:\\Users\\Heliiix\\anaconda3\\Lib\\site-packages\\wwo_hist\\__init__.py:74: FutureWarning: Argument `closed` is deprecated in favor of `inclusive`.\n",
      "  list_mon_end = pd.date_range(start_date, end_date, freq='M', closed='left')\n"
     ]
    },
    {
     "name": "stdout",
     "output_type": "stream",
     "text": [
      "Time elapsed (hh:mm:ss.ms) 0:00:00.286277\n",
      "\n",
      "\n",
      "export Island%20of%20Puerto%20Rico completed!\n",
      "\n",
      "\n",
      "243\n",
      "North%20Carolina\n",
      "\n",
      "\n",
      "Retrieving weather data for North%20Carolina\n",
      "\n",
      "\n",
      "Currently retrieving data for North%20Carolina: from 2010-08-21 to 2010-08-21\n"
     ]
    },
    {
     "name": "stderr",
     "output_type": "stream",
     "text": [
      "C:\\Users\\Heliiix\\anaconda3\\Lib\\site-packages\\wwo_hist\\__init__.py:69: FutureWarning: Argument `closed` is deprecated in favor of `inclusive`.\n",
      "  list_mon_begin = pd.date_range(start_date, end_date, freq='MS', closed='right')\n",
      "C:\\Users\\Heliiix\\anaconda3\\Lib\\site-packages\\wwo_hist\\__init__.py:74: FutureWarning: Argument `closed` is deprecated in favor of `inclusive`.\n",
      "  list_mon_end = pd.date_range(start_date, end_date, freq='M', closed='left')\n"
     ]
    },
    {
     "name": "stdout",
     "output_type": "stream",
     "text": [
      "Time elapsed (hh:mm:ss.ms) 0:00:00.297391\n",
      "\n",
      "\n",
      "export North%20Carolina completed!\n",
      "\n",
      "\n",
      "244\n",
      "Virginia\n",
      "\n",
      "\n",
      "Retrieving weather data for Virginia\n",
      "\n",
      "\n",
      "Currently retrieving data for Virginia: from 2010-08-22 to 2010-08-22\n"
     ]
    },
    {
     "name": "stderr",
     "output_type": "stream",
     "text": [
      "C:\\Users\\Heliiix\\anaconda3\\Lib\\site-packages\\wwo_hist\\__init__.py:69: FutureWarning: Argument `closed` is deprecated in favor of `inclusive`.\n",
      "  list_mon_begin = pd.date_range(start_date, end_date, freq='MS', closed='right')\n",
      "C:\\Users\\Heliiix\\anaconda3\\Lib\\site-packages\\wwo_hist\\__init__.py:74: FutureWarning: Argument `closed` is deprecated in favor of `inclusive`.\n",
      "  list_mon_end = pd.date_range(start_date, end_date, freq='M', closed='left')\n"
     ]
    },
    {
     "name": "stdout",
     "output_type": "stream",
     "text": [
      "Time elapsed (hh:mm:ss.ms) 0:00:00.248528\n",
      "\n",
      "\n",
      "export Virginia completed!\n",
      "\n",
      "\n",
      "245\n",
      "Virginia\n",
      "\n",
      "\n",
      "Retrieving weather data for Virginia\n",
      "\n",
      "\n",
      "Currently retrieving data for Virginia: from 2010-08-23 to 2010-08-23\n"
     ]
    },
    {
     "name": "stderr",
     "output_type": "stream",
     "text": [
      "C:\\Users\\Heliiix\\anaconda3\\Lib\\site-packages\\wwo_hist\\__init__.py:69: FutureWarning: Argument `closed` is deprecated in favor of `inclusive`.\n",
      "  list_mon_begin = pd.date_range(start_date, end_date, freq='MS', closed='right')\n",
      "C:\\Users\\Heliiix\\anaconda3\\Lib\\site-packages\\wwo_hist\\__init__.py:74: FutureWarning: Argument `closed` is deprecated in favor of `inclusive`.\n",
      "  list_mon_end = pd.date_range(start_date, end_date, freq='M', closed='left')\n"
     ]
    },
    {
     "name": "stdout",
     "output_type": "stream",
     "text": [
      "Time elapsed (hh:mm:ss.ms) 0:00:00.240361\n",
      "\n",
      "\n",
      "export Virginia completed!\n",
      "\n",
      "\n",
      "246\n",
      "Texas\n",
      "\n",
      "\n",
      "Retrieving weather data for Texas\n",
      "\n",
      "\n",
      "Currently retrieving data for Texas: from 2010-08-11 to 2010-08-11\n"
     ]
    },
    {
     "name": "stderr",
     "output_type": "stream",
     "text": [
      "C:\\Users\\Heliiix\\anaconda3\\Lib\\site-packages\\wwo_hist\\__init__.py:69: FutureWarning: Argument `closed` is deprecated in favor of `inclusive`.\n",
      "  list_mon_begin = pd.date_range(start_date, end_date, freq='MS', closed='right')\n",
      "C:\\Users\\Heliiix\\anaconda3\\Lib\\site-packages\\wwo_hist\\__init__.py:74: FutureWarning: Argument `closed` is deprecated in favor of `inclusive`.\n",
      "  list_mon_end = pd.date_range(start_date, end_date, freq='M', closed='left')\n"
     ]
    },
    {
     "name": "stdout",
     "output_type": "stream",
     "text": [
      "Time elapsed (hh:mm:ss.ms) 0:00:00.241177\n",
      "\n",
      "\n",
      "export Texas completed!\n",
      "\n",
      "\n",
      "247\n",
      "Northern%20California\n",
      "\n",
      "\n",
      "Retrieving weather data for Northern%20California\n",
      "\n",
      "\n",
      "Currently retrieving data for Northern%20California: from 2010-07-29 to 2010-07-29\n"
     ]
    },
    {
     "name": "stderr",
     "output_type": "stream",
     "text": [
      "C:\\Users\\Heliiix\\anaconda3\\Lib\\site-packages\\wwo_hist\\__init__.py:69: FutureWarning: Argument `closed` is deprecated in favor of `inclusive`.\n",
      "  list_mon_begin = pd.date_range(start_date, end_date, freq='MS', closed='right')\n",
      "C:\\Users\\Heliiix\\anaconda3\\Lib\\site-packages\\wwo_hist\\__init__.py:74: FutureWarning: Argument `closed` is deprecated in favor of `inclusive`.\n",
      "  list_mon_end = pd.date_range(start_date, end_date, freq='M', closed='left')\n"
     ]
    },
    {
     "name": "stdout",
     "output_type": "stream",
     "text": [
      "Time elapsed (hh:mm:ss.ms) 0:00:00.256156\n",
      "\n",
      "\n",
      "export Northern%20California completed!\n",
      "\n",
      "\n",
      "248\n",
      "Pennsylvania\n",
      "\n",
      "\n",
      "Retrieving weather data for Pennsylvania\n",
      "\n",
      "\n",
      "Currently retrieving data for Pennsylvania: from 2010-07-23 to 2010-07-23\n"
     ]
    },
    {
     "name": "stderr",
     "output_type": "stream",
     "text": [
      "C:\\Users\\Heliiix\\anaconda3\\Lib\\site-packages\\wwo_hist\\__init__.py:69: FutureWarning: Argument `closed` is deprecated in favor of `inclusive`.\n",
      "  list_mon_begin = pd.date_range(start_date, end_date, freq='MS', closed='right')\n",
      "C:\\Users\\Heliiix\\anaconda3\\Lib\\site-packages\\wwo_hist\\__init__.py:74: FutureWarning: Argument `closed` is deprecated in favor of `inclusive`.\n",
      "  list_mon_end = pd.date_range(start_date, end_date, freq='M', closed='left')\n"
     ]
    },
    {
     "name": "stdout",
     "output_type": "stream",
     "text": [
      "Time elapsed (hh:mm:ss.ms) 0:00:00.242097\n",
      "\n",
      "\n",
      "export Pennsylvania completed!\n",
      "\n",
      "\n",
      "249\n",
      "Illinois\n",
      "\n",
      "\n",
      "Retrieving weather data for Illinois\n",
      "\n",
      "\n",
      "Currently retrieving data for Illinois: from 2010-07-24 to 2010-07-24\n"
     ]
    },
    {
     "name": "stderr",
     "output_type": "stream",
     "text": [
      "C:\\Users\\Heliiix\\anaconda3\\Lib\\site-packages\\wwo_hist\\__init__.py:69: FutureWarning: Argument `closed` is deprecated in favor of `inclusive`.\n",
      "  list_mon_begin = pd.date_range(start_date, end_date, freq='MS', closed='right')\n",
      "C:\\Users\\Heliiix\\anaconda3\\Lib\\site-packages\\wwo_hist\\__init__.py:74: FutureWarning: Argument `closed` is deprecated in favor of `inclusive`.\n",
      "  list_mon_end = pd.date_range(start_date, end_date, freq='M', closed='left')\n"
     ]
    },
    {
     "name": "stdout",
     "output_type": "stream",
     "text": [
      "Time elapsed (hh:mm:ss.ms) 0:00:00.401001\n",
      "\n",
      "\n",
      "export Illinois completed!\n",
      "\n",
      "\n",
      "250\n",
      "Northern%20California\n",
      "\n",
      "\n",
      "Retrieving weather data for Northern%20California\n",
      "\n",
      "\n",
      "Currently retrieving data for Northern%20California: from 2010-07-25 to 2010-07-25\n"
     ]
    },
    {
     "name": "stderr",
     "output_type": "stream",
     "text": [
      "C:\\Users\\Heliiix\\anaconda3\\Lib\\site-packages\\wwo_hist\\__init__.py:69: FutureWarning: Argument `closed` is deprecated in favor of `inclusive`.\n",
      "  list_mon_begin = pd.date_range(start_date, end_date, freq='MS', closed='right')\n",
      "C:\\Users\\Heliiix\\anaconda3\\Lib\\site-packages\\wwo_hist\\__init__.py:74: FutureWarning: Argument `closed` is deprecated in favor of `inclusive`.\n",
      "  list_mon_end = pd.date_range(start_date, end_date, freq='M', closed='left')\n"
     ]
    },
    {
     "name": "stdout",
     "output_type": "stream",
     "text": [
      "Time elapsed (hh:mm:ss.ms) 0:00:00.259936\n",
      "\n",
      "\n",
      "export Northern%20California completed!\n",
      "\n",
      "\n",
      "251\n",
      "Northern%20California\n",
      "\n",
      "\n",
      "Retrieving weather data for Northern%20California\n",
      "\n",
      "\n",
      "Currently retrieving data for Northern%20California: from 2010-07-26 to 2010-07-26\n"
     ]
    },
    {
     "name": "stderr",
     "output_type": "stream",
     "text": [
      "C:\\Users\\Heliiix\\anaconda3\\Lib\\site-packages\\wwo_hist\\__init__.py:69: FutureWarning: Argument `closed` is deprecated in favor of `inclusive`.\n",
      "  list_mon_begin = pd.date_range(start_date, end_date, freq='MS', closed='right')\n",
      "C:\\Users\\Heliiix\\anaconda3\\Lib\\site-packages\\wwo_hist\\__init__.py:74: FutureWarning: Argument `closed` is deprecated in favor of `inclusive`.\n",
      "  list_mon_end = pd.date_range(start_date, end_date, freq='M', closed='left')\n"
     ]
    },
    {
     "name": "stdout",
     "output_type": "stream",
     "text": [
      "Time elapsed (hh:mm:ss.ms) 0:00:00.237936\n",
      "\n",
      "\n",
      "export Northern%20California completed!\n",
      "\n",
      "\n",
      "252\n",
      "Tacoma\n",
      "\n",
      "\n",
      "Retrieving weather data for Tacoma\n",
      "\n",
      "\n",
      "Currently retrieving data for Tacoma: from 2010-07-15 to 2010-07-15\n"
     ]
    },
    {
     "name": "stderr",
     "output_type": "stream",
     "text": [
      "C:\\Users\\Heliiix\\anaconda3\\Lib\\site-packages\\wwo_hist\\__init__.py:69: FutureWarning: Argument `closed` is deprecated in favor of `inclusive`.\n",
      "  list_mon_begin = pd.date_range(start_date, end_date, freq='MS', closed='right')\n",
      "C:\\Users\\Heliiix\\anaconda3\\Lib\\site-packages\\wwo_hist\\__init__.py:74: FutureWarning: Argument `closed` is deprecated in favor of `inclusive`.\n",
      "  list_mon_end = pd.date_range(start_date, end_date, freq='M', closed='left')\n"
     ]
    },
    {
     "name": "stdout",
     "output_type": "stream",
     "text": [
      "Time elapsed (hh:mm:ss.ms) 0:00:00.260245\n",
      "\n",
      "\n",
      "export Tacoma completed!\n",
      "\n",
      "\n",
      "253\n",
      "Virginia\n",
      "\n",
      "\n",
      "Retrieving weather data for Virginia\n",
      "\n",
      "\n",
      "Currently retrieving data for Virginia: from 2010-07-16 to 2010-07-16\n"
     ]
    },
    {
     "name": "stderr",
     "output_type": "stream",
     "text": [
      "C:\\Users\\Heliiix\\anaconda3\\Lib\\site-packages\\wwo_hist\\__init__.py:69: FutureWarning: Argument `closed` is deprecated in favor of `inclusive`.\n",
      "  list_mon_begin = pd.date_range(start_date, end_date, freq='MS', closed='right')\n",
      "C:\\Users\\Heliiix\\anaconda3\\Lib\\site-packages\\wwo_hist\\__init__.py:74: FutureWarning: Argument `closed` is deprecated in favor of `inclusive`.\n",
      "  list_mon_end = pd.date_range(start_date, end_date, freq='M', closed='left')\n"
     ]
    },
    {
     "name": "stdout",
     "output_type": "stream",
     "text": [
      "Time elapsed (hh:mm:ss.ms) 0:00:00.235540\n",
      "\n",
      "\n",
      "export Virginia completed!\n",
      "\n",
      "\n",
      "254\n",
      "Southern%20California\n",
      "\n",
      "\n",
      "Retrieving weather data for Southern%20California\n",
      "\n",
      "\n",
      "Currently retrieving data for Southern%20California: from 2010-07-17 to 2010-07-17\n"
     ]
    },
    {
     "name": "stderr",
     "output_type": "stream",
     "text": [
      "C:\\Users\\Heliiix\\anaconda3\\Lib\\site-packages\\wwo_hist\\__init__.py:69: FutureWarning: Argument `closed` is deprecated in favor of `inclusive`.\n",
      "  list_mon_begin = pd.date_range(start_date, end_date, freq='MS', closed='right')\n",
      "C:\\Users\\Heliiix\\anaconda3\\Lib\\site-packages\\wwo_hist\\__init__.py:74: FutureWarning: Argument `closed` is deprecated in favor of `inclusive`.\n",
      "  list_mon_end = pd.date_range(start_date, end_date, freq='M', closed='left')\n"
     ]
    },
    {
     "name": "stdout",
     "output_type": "stream",
     "text": [
      "Time elapsed (hh:mm:ss.ms) 0:00:00.268162\n",
      "\n",
      "\n",
      "export Southern%20California completed!\n",
      "\n",
      "\n",
      "255\n",
      "New%20York\n",
      "\n",
      "\n",
      "Retrieving weather data for New%20York\n",
      "\n",
      "\n",
      "Currently retrieving data for New%20York: from 2010-07-18 to 2010-07-18\n"
     ]
    },
    {
     "name": "stderr",
     "output_type": "stream",
     "text": [
      "C:\\Users\\Heliiix\\anaconda3\\Lib\\site-packages\\wwo_hist\\__init__.py:69: FutureWarning: Argument `closed` is deprecated in favor of `inclusive`.\n",
      "  list_mon_begin = pd.date_range(start_date, end_date, freq='MS', closed='right')\n",
      "C:\\Users\\Heliiix\\anaconda3\\Lib\\site-packages\\wwo_hist\\__init__.py:74: FutureWarning: Argument `closed` is deprecated in favor of `inclusive`.\n",
      "  list_mon_end = pd.date_range(start_date, end_date, freq='M', closed='left')\n"
     ]
    },
    {
     "name": "stdout",
     "output_type": "stream",
     "text": [
      "Time elapsed (hh:mm:ss.ms) 0:00:00.240680\n",
      "\n",
      "\n",
      "export New%20York completed!\n",
      "\n",
      "\n",
      "256\n",
      "New%20York\n",
      "\n",
      "\n",
      "Retrieving weather data for New%20York\n",
      "\n",
      "\n",
      "Currently retrieving data for New%20York: from 2010-07-19 to 2010-07-19\n"
     ]
    },
    {
     "name": "stderr",
     "output_type": "stream",
     "text": [
      "C:\\Users\\Heliiix\\anaconda3\\Lib\\site-packages\\wwo_hist\\__init__.py:69: FutureWarning: Argument `closed` is deprecated in favor of `inclusive`.\n",
      "  list_mon_begin = pd.date_range(start_date, end_date, freq='MS', closed='right')\n",
      "C:\\Users\\Heliiix\\anaconda3\\Lib\\site-packages\\wwo_hist\\__init__.py:74: FutureWarning: Argument `closed` is deprecated in favor of `inclusive`.\n",
      "  list_mon_end = pd.date_range(start_date, end_date, freq='M', closed='left')\n"
     ]
    },
    {
     "name": "stdout",
     "output_type": "stream",
     "text": [
      "Time elapsed (hh:mm:ss.ms) 0:00:00.267796\n",
      "\n",
      "\n",
      "export New%20York completed!\n",
      "\n",
      "\n",
      "257\n",
      "Michigan\n",
      "\n",
      "\n",
      "Retrieving weather data for Michigan\n",
      "\n",
      "\n",
      "Currently retrieving data for Michigan: from 2010-06-25 to 2010-06-25\n"
     ]
    },
    {
     "name": "stderr",
     "output_type": "stream",
     "text": [
      "C:\\Users\\Heliiix\\anaconda3\\Lib\\site-packages\\wwo_hist\\__init__.py:69: FutureWarning: Argument `closed` is deprecated in favor of `inclusive`.\n",
      "  list_mon_begin = pd.date_range(start_date, end_date, freq='MS', closed='right')\n",
      "C:\\Users\\Heliiix\\anaconda3\\Lib\\site-packages\\wwo_hist\\__init__.py:74: FutureWarning: Argument `closed` is deprecated in favor of `inclusive`.\n",
      "  list_mon_end = pd.date_range(start_date, end_date, freq='M', closed='left')\n"
     ]
    },
    {
     "name": "stdout",
     "output_type": "stream",
     "text": [
      "Time elapsed (hh:mm:ss.ms) 0:00:00.243189\n",
      "\n",
      "\n",
      "export Michigan completed!\n",
      "\n",
      "\n",
      "258\n",
      "Island%20of%20Puerto%20Rico\n",
      "\n",
      "\n",
      "Retrieving weather data for Island%20of%20Puerto%20Rico\n",
      "\n",
      "\n",
      "Currently retrieving data for Island%20of%20Puerto%20Rico: from 2010-06-26 to 2010-06-26\n"
     ]
    },
    {
     "name": "stderr",
     "output_type": "stream",
     "text": [
      "C:\\Users\\Heliiix\\anaconda3\\Lib\\site-packages\\wwo_hist\\__init__.py:69: FutureWarning: Argument `closed` is deprecated in favor of `inclusive`.\n",
      "  list_mon_begin = pd.date_range(start_date, end_date, freq='MS', closed='right')\n",
      "C:\\Users\\Heliiix\\anaconda3\\Lib\\site-packages\\wwo_hist\\__init__.py:74: FutureWarning: Argument `closed` is deprecated in favor of `inclusive`.\n",
      "  list_mon_end = pd.date_range(start_date, end_date, freq='M', closed='left')\n"
     ]
    },
    {
     "name": "stdout",
     "output_type": "stream",
     "text": [
      "Time elapsed (hh:mm:ss.ms) 0:00:00.294510\n",
      "\n",
      "\n",
      "export Island%20of%20Puerto%20Rico completed!\n",
      "\n",
      "\n",
      "259\n",
      "Ohio\n",
      "\n",
      "\n",
      "Retrieving weather data for Ohio\n",
      "\n",
      "\n",
      "Currently retrieving data for Ohio: from 2010-06-06 to 2010-06-06\n"
     ]
    },
    {
     "name": "stderr",
     "output_type": "stream",
     "text": [
      "C:\\Users\\Heliiix\\anaconda3\\Lib\\site-packages\\wwo_hist\\__init__.py:69: FutureWarning: Argument `closed` is deprecated in favor of `inclusive`.\n",
      "  list_mon_begin = pd.date_range(start_date, end_date, freq='MS', closed='right')\n",
      "C:\\Users\\Heliiix\\anaconda3\\Lib\\site-packages\\wwo_hist\\__init__.py:74: FutureWarning: Argument `closed` is deprecated in favor of `inclusive`.\n",
      "  list_mon_end = pd.date_range(start_date, end_date, freq='M', closed='left')\n"
     ]
    },
    {
     "name": "stdout",
     "output_type": "stream",
     "text": [
      "Time elapsed (hh:mm:ss.ms) 0:00:00.248633\n",
      "\n",
      "\n",
      "export Ohio completed!\n",
      "\n",
      "\n",
      "260\n",
      "New%20York\n",
      "\n",
      "\n",
      "Retrieving weather data for New%20York\n",
      "\n",
      "\n",
      "Currently retrieving data for New%20York: from 2010-01-18 to 2010-01-18\n"
     ]
    },
    {
     "name": "stderr",
     "output_type": "stream",
     "text": [
      "C:\\Users\\Heliiix\\anaconda3\\Lib\\site-packages\\wwo_hist\\__init__.py:69: FutureWarning: Argument `closed` is deprecated in favor of `inclusive`.\n",
      "  list_mon_begin = pd.date_range(start_date, end_date, freq='MS', closed='right')\n",
      "C:\\Users\\Heliiix\\anaconda3\\Lib\\site-packages\\wwo_hist\\__init__.py:74: FutureWarning: Argument `closed` is deprecated in favor of `inclusive`.\n",
      "  list_mon_end = pd.date_range(start_date, end_date, freq='M', closed='left')\n"
     ]
    },
    {
     "name": "stdout",
     "output_type": "stream",
     "text": [
      "Time elapsed (hh:mm:ss.ms) 0:00:00.275836\n",
      "\n",
      "\n",
      "export New%20York completed!\n",
      "\n",
      "\n",
      "261\n",
      "Southern%20California\n",
      "\n",
      "\n",
      "Retrieving weather data for Southern%20California\n",
      "\n",
      "\n",
      "Currently retrieving data for Southern%20California: from 2010-01-19 to 2010-01-19\n"
     ]
    },
    {
     "name": "stderr",
     "output_type": "stream",
     "text": [
      "C:\\Users\\Heliiix\\anaconda3\\Lib\\site-packages\\wwo_hist\\__init__.py:69: FutureWarning: Argument `closed` is deprecated in favor of `inclusive`.\n",
      "  list_mon_begin = pd.date_range(start_date, end_date, freq='MS', closed='right')\n",
      "C:\\Users\\Heliiix\\anaconda3\\Lib\\site-packages\\wwo_hist\\__init__.py:74: FutureWarning: Argument `closed` is deprecated in favor of `inclusive`.\n",
      "  list_mon_end = pd.date_range(start_date, end_date, freq='M', closed='left')\n"
     ]
    },
    {
     "name": "stdout",
     "output_type": "stream",
     "text": [
      "Time elapsed (hh:mm:ss.ms) 0:00:00.263736\n",
      "\n",
      "\n",
      "export Southern%20California completed!\n",
      "\n",
      "\n",
      "262\n",
      "North%20Carolina\n",
      "\n",
      "\n",
      "Retrieving weather data for North%20Carolina\n",
      "\n",
      "\n",
      "Currently retrieving data for North%20Carolina: from 2010-01-20 to 2010-01-20\n"
     ]
    },
    {
     "name": "stderr",
     "output_type": "stream",
     "text": [
      "C:\\Users\\Heliiix\\anaconda3\\Lib\\site-packages\\wwo_hist\\__init__.py:69: FutureWarning: Argument `closed` is deprecated in favor of `inclusive`.\n",
      "  list_mon_begin = pd.date_range(start_date, end_date, freq='MS', closed='right')\n",
      "C:\\Users\\Heliiix\\anaconda3\\Lib\\site-packages\\wwo_hist\\__init__.py:74: FutureWarning: Argument `closed` is deprecated in favor of `inclusive`.\n",
      "  list_mon_end = pd.date_range(start_date, end_date, freq='M', closed='left')\n"
     ]
    },
    {
     "name": "stdout",
     "output_type": "stream",
     "text": [
      "Time elapsed (hh:mm:ss.ms) 0:00:00.257366\n",
      "\n",
      "\n",
      "export North%20Carolina completed!\n",
      "\n",
      "\n",
      "263\n",
      "Northern%20and%20Central%20California\n",
      "\n",
      "\n",
      "Retrieving weather data for Northern%20and%20Central%20California\n",
      "\n",
      "\n",
      "Currently retrieving data for Northern%20and%20Central%20California: from 2010-01-21 to 2010-01-21\n"
     ]
    },
    {
     "name": "stderr",
     "output_type": "stream",
     "text": [
      "C:\\Users\\Heliiix\\anaconda3\\Lib\\site-packages\\wwo_hist\\__init__.py:69: FutureWarning: Argument `closed` is deprecated in favor of `inclusive`.\n",
      "  list_mon_begin = pd.date_range(start_date, end_date, freq='MS', closed='right')\n",
      "C:\\Users\\Heliiix\\anaconda3\\Lib\\site-packages\\wwo_hist\\__init__.py:74: FutureWarning: Argument `closed` is deprecated in favor of `inclusive`.\n",
      "  list_mon_end = pd.date_range(start_date, end_date, freq='M', closed='left')\n"
     ]
    },
    {
     "name": "stdout",
     "output_type": "stream",
     "text": [
      "Time elapsed (hh:mm:ss.ms) 0:00:00.271563\n",
      "\n",
      "\n",
      "export Northern%20and%20Central%20California completed!\n",
      "\n",
      "\n",
      "264\n",
      "Island%20of%20Puerto%20Rico\n",
      "\n",
      "\n",
      "Retrieving weather data for Island%20of%20Puerto%20Rico\n",
      "\n",
      "\n",
      "Currently retrieving data for Island%20of%20Puerto%20Rico: from 2010-01-22 to 2010-01-22\n"
     ]
    },
    {
     "name": "stderr",
     "output_type": "stream",
     "text": [
      "C:\\Users\\Heliiix\\anaconda3\\Lib\\site-packages\\wwo_hist\\__init__.py:69: FutureWarning: Argument `closed` is deprecated in favor of `inclusive`.\n",
      "  list_mon_begin = pd.date_range(start_date, end_date, freq='MS', closed='right')\n",
      "C:\\Users\\Heliiix\\anaconda3\\Lib\\site-packages\\wwo_hist\\__init__.py:74: FutureWarning: Argument `closed` is deprecated in favor of `inclusive`.\n",
      "  list_mon_end = pd.date_range(start_date, end_date, freq='M', closed='left')\n"
     ]
    },
    {
     "name": "stdout",
     "output_type": "stream",
     "text": [
      "Time elapsed (hh:mm:ss.ms) 0:00:00.244234\n",
      "\n",
      "\n",
      "export Island%20of%20Puerto%20Rico completed!\n",
      "\n",
      "\n",
      "265\n",
      "North%20Carolina\n",
      "\n",
      "\n",
      "Retrieving weather data for North%20Carolina\n",
      "\n",
      "\n",
      "Currently retrieving data for North%20Carolina: from 2010-01-23 to 2010-01-23\n"
     ]
    },
    {
     "name": "stderr",
     "output_type": "stream",
     "text": [
      "C:\\Users\\Heliiix\\anaconda3\\Lib\\site-packages\\wwo_hist\\__init__.py:69: FutureWarning: Argument `closed` is deprecated in favor of `inclusive`.\n",
      "  list_mon_begin = pd.date_range(start_date, end_date, freq='MS', closed='right')\n",
      "C:\\Users\\Heliiix\\anaconda3\\Lib\\site-packages\\wwo_hist\\__init__.py:74: FutureWarning: Argument `closed` is deprecated in favor of `inclusive`.\n",
      "  list_mon_end = pd.date_range(start_date, end_date, freq='M', closed='left')\n"
     ]
    },
    {
     "name": "stdout",
     "output_type": "stream",
     "text": [
      "Time elapsed (hh:mm:ss.ms) 0:00:00.266756\n",
      "\n",
      "\n",
      "export North%20Carolina completed!\n",
      "\n",
      "\n",
      "266\n",
      "Newark\n",
      "\n",
      "\n",
      "Retrieving weather data for Newark\n",
      "\n",
      "\n",
      "Currently retrieving data for Newark: from 2010-01-24 to 2010-01-24\n"
     ]
    },
    {
     "name": "stderr",
     "output_type": "stream",
     "text": [
      "C:\\Users\\Heliiix\\anaconda3\\Lib\\site-packages\\wwo_hist\\__init__.py:69: FutureWarning: Argument `closed` is deprecated in favor of `inclusive`.\n",
      "  list_mon_begin = pd.date_range(start_date, end_date, freq='MS', closed='right')\n",
      "C:\\Users\\Heliiix\\anaconda3\\Lib\\site-packages\\wwo_hist\\__init__.py:74: FutureWarning: Argument `closed` is deprecated in favor of `inclusive`.\n",
      "  list_mon_end = pd.date_range(start_date, end_date, freq='M', closed='left')\n"
     ]
    },
    {
     "name": "stdout",
     "output_type": "stream",
     "text": [
      "Time elapsed (hh:mm:ss.ms) 0:00:00.240454\n",
      "\n",
      "\n",
      "export Newark completed!\n",
      "\n",
      "\n",
      "267\n",
      "Newark\n",
      "\n",
      "\n",
      "Retrieving weather data for Newark\n",
      "\n",
      "\n",
      "Currently retrieving data for Newark: from 2010-01-25 to 2010-01-25\n"
     ]
    },
    {
     "name": "stderr",
     "output_type": "stream",
     "text": [
      "C:\\Users\\Heliiix\\anaconda3\\Lib\\site-packages\\wwo_hist\\__init__.py:69: FutureWarning: Argument `closed` is deprecated in favor of `inclusive`.\n",
      "  list_mon_begin = pd.date_range(start_date, end_date, freq='MS', closed='right')\n",
      "C:\\Users\\Heliiix\\anaconda3\\Lib\\site-packages\\wwo_hist\\__init__.py:74: FutureWarning: Argument `closed` is deprecated in favor of `inclusive`.\n",
      "  list_mon_end = pd.date_range(start_date, end_date, freq='M', closed='left')\n"
     ]
    },
    {
     "name": "stdout",
     "output_type": "stream",
     "text": [
      "Time elapsed (hh:mm:ss.ms) 0:00:00.237509\n",
      "\n",
      "\n",
      "export Newark completed!\n",
      "\n",
      "\n",
      "268\n",
      "San%20Francisco%20Bay%20Area\n",
      "\n",
      "\n",
      "Retrieving weather data for San%20Francisco%20Bay%20Area\n",
      "\n",
      "\n",
      "Currently retrieving data for San%20Francisco%20Bay%20Area: from 2010-01-26 to 2010-01-26\n"
     ]
    },
    {
     "name": "stderr",
     "output_type": "stream",
     "text": [
      "C:\\Users\\Heliiix\\anaconda3\\Lib\\site-packages\\wwo_hist\\__init__.py:69: FutureWarning: Argument `closed` is deprecated in favor of `inclusive`.\n",
      "  list_mon_begin = pd.date_range(start_date, end_date, freq='MS', closed='right')\n",
      "C:\\Users\\Heliiix\\anaconda3\\Lib\\site-packages\\wwo_hist\\__init__.py:74: FutureWarning: Argument `closed` is deprecated in favor of `inclusive`.\n",
      "  list_mon_end = pd.date_range(start_date, end_date, freq='M', closed='left')\n"
     ]
    },
    {
     "name": "stdout",
     "output_type": "stream",
     "text": [
      "Time elapsed (hh:mm:ss.ms) 0:00:00.277283\n",
      "\n",
      "\n",
      "export San%20Francisco%20Bay%20Area completed!\n",
      "\n",
      "\n",
      "269\n",
      "Northern%20and%20Central%20California\n",
      "\n",
      "\n",
      "Retrieving weather data for Northern%20and%20Central%20California\n",
      "\n",
      "\n",
      "Currently retrieving data for Northern%20and%20Central%20California: from 2010-01-27 to 2010-01-27\n"
     ]
    },
    {
     "name": "stderr",
     "output_type": "stream",
     "text": [
      "C:\\Users\\Heliiix\\anaconda3\\Lib\\site-packages\\wwo_hist\\__init__.py:69: FutureWarning: Argument `closed` is deprecated in favor of `inclusive`.\n",
      "  list_mon_begin = pd.date_range(start_date, end_date, freq='MS', closed='right')\n",
      "C:\\Users\\Heliiix\\anaconda3\\Lib\\site-packages\\wwo_hist\\__init__.py:74: FutureWarning: Argument `closed` is deprecated in favor of `inclusive`.\n",
      "  list_mon_end = pd.date_range(start_date, end_date, freq='M', closed='left')\n"
     ]
    },
    {
     "name": "stdout",
     "output_type": "stream",
     "text": [
      "Time elapsed (hh:mm:ss.ms) 0:00:00.281607\n",
      "\n",
      "\n",
      "export Northern%20and%20Central%20California completed!\n",
      "\n",
      "\n",
      "270\n",
      "Northern%20and%20Central%20California\n",
      "\n",
      "\n",
      "Retrieving weather data for Northern%20and%20Central%20California\n",
      "\n",
      "\n",
      "Currently retrieving data for Northern%20and%20Central%20California: from 2010-01-28 to 2010-01-28\n"
     ]
    },
    {
     "name": "stderr",
     "output_type": "stream",
     "text": [
      "C:\\Users\\Heliiix\\anaconda3\\Lib\\site-packages\\wwo_hist\\__init__.py:69: FutureWarning: Argument `closed` is deprecated in favor of `inclusive`.\n",
      "  list_mon_begin = pd.date_range(start_date, end_date, freq='MS', closed='right')\n",
      "C:\\Users\\Heliiix\\anaconda3\\Lib\\site-packages\\wwo_hist\\__init__.py:74: FutureWarning: Argument `closed` is deprecated in favor of `inclusive`.\n",
      "  list_mon_end = pd.date_range(start_date, end_date, freq='M', closed='left')\n"
     ]
    },
    {
     "name": "stdout",
     "output_type": "stream",
     "text": [
      "Time elapsed (hh:mm:ss.ms) 0:00:00.259636\n",
      "\n",
      "\n",
      "export Northern%20and%20Central%20California completed!\n",
      "\n",
      "\n",
      "271\n",
      "Northern%20California\n",
      "\n",
      "\n",
      "Retrieving weather data for Northern%20California\n",
      "\n",
      "\n",
      "Currently retrieving data for Northern%20California: from 2009-12-10 to 2009-12-10\n"
     ]
    },
    {
     "name": "stderr",
     "output_type": "stream",
     "text": [
      "C:\\Users\\Heliiix\\anaconda3\\Lib\\site-packages\\wwo_hist\\__init__.py:69: FutureWarning: Argument `closed` is deprecated in favor of `inclusive`.\n",
      "  list_mon_begin = pd.date_range(start_date, end_date, freq='MS', closed='right')\n",
      "C:\\Users\\Heliiix\\anaconda3\\Lib\\site-packages\\wwo_hist\\__init__.py:74: FutureWarning: Argument `closed` is deprecated in favor of `inclusive`.\n",
      "  list_mon_end = pd.date_range(start_date, end_date, freq='M', closed='left')\n"
     ]
    },
    {
     "name": "stdout",
     "output_type": "stream",
     "text": [
      "Time elapsed (hh:mm:ss.ms) 0:00:00.256778\n",
      "\n",
      "\n",
      "export Northern%20California completed!\n",
      "\n",
      "\n",
      "272\n",
      "Tacoma\n",
      "\n",
      "\n",
      "Retrieving weather data for Tacoma\n",
      "\n",
      "\n",
      "Currently retrieving data for Tacoma: from 2009-12-11 to 2009-12-11\n"
     ]
    },
    {
     "name": "stderr",
     "output_type": "stream",
     "text": [
      "C:\\Users\\Heliiix\\anaconda3\\Lib\\site-packages\\wwo_hist\\__init__.py:69: FutureWarning: Argument `closed` is deprecated in favor of `inclusive`.\n",
      "  list_mon_begin = pd.date_range(start_date, end_date, freq='MS', closed='right')\n",
      "C:\\Users\\Heliiix\\anaconda3\\Lib\\site-packages\\wwo_hist\\__init__.py:74: FutureWarning: Argument `closed` is deprecated in favor of `inclusive`.\n",
      "  list_mon_end = pd.date_range(start_date, end_date, freq='M', closed='left')\n"
     ]
    },
    {
     "name": "stdout",
     "output_type": "stream",
     "text": [
      "Time elapsed (hh:mm:ss.ms) 0:00:00.609358\n",
      "\n",
      "\n",
      "export Tacoma completed!\n",
      "\n",
      "\n",
      "273\n",
      "Virginia\n",
      "\n",
      "\n",
      "Retrieving weather data for Virginia\n",
      "\n",
      "\n",
      "Currently retrieving data for Virginia: from 2009-12-12 to 2009-12-12\n"
     ]
    },
    {
     "name": "stderr",
     "output_type": "stream",
     "text": [
      "C:\\Users\\Heliiix\\anaconda3\\Lib\\site-packages\\wwo_hist\\__init__.py:69: FutureWarning: Argument `closed` is deprecated in favor of `inclusive`.\n",
      "  list_mon_begin = pd.date_range(start_date, end_date, freq='MS', closed='right')\n",
      "C:\\Users\\Heliiix\\anaconda3\\Lib\\site-packages\\wwo_hist\\__init__.py:74: FutureWarning: Argument `closed` is deprecated in favor of `inclusive`.\n",
      "  list_mon_end = pd.date_range(start_date, end_date, freq='M', closed='left')\n"
     ]
    },
    {
     "name": "stdout",
     "output_type": "stream",
     "text": [
      "Time elapsed (hh:mm:ss.ms) 0:00:00.243507\n",
      "\n",
      "\n",
      "export Virginia completed!\n",
      "\n",
      "\n",
      "274\n",
      "Alberta\n",
      "\n",
      "\n",
      "Retrieving weather data for Alberta\n",
      "\n",
      "\n",
      "Currently retrieving data for Alberta: from 2009-12-09 to 2009-12-09\n"
     ]
    },
    {
     "name": "stderr",
     "output_type": "stream",
     "text": [
      "C:\\Users\\Heliiix\\anaconda3\\Lib\\site-packages\\wwo_hist\\__init__.py:69: FutureWarning: Argument `closed` is deprecated in favor of `inclusive`.\n",
      "  list_mon_begin = pd.date_range(start_date, end_date, freq='MS', closed='right')\n",
      "C:\\Users\\Heliiix\\anaconda3\\Lib\\site-packages\\wwo_hist\\__init__.py:74: FutureWarning: Argument `closed` is deprecated in favor of `inclusive`.\n",
      "  list_mon_end = pd.date_range(start_date, end_date, freq='M', closed='left')\n"
     ]
    },
    {
     "name": "stdout",
     "output_type": "stream",
     "text": [
      "Time elapsed (hh:mm:ss.ms) 0:00:00.267863\n",
      "\n",
      "\n",
      "export Alberta completed!\n",
      "\n",
      "\n",
      "275\n",
      "Newark\n",
      "\n",
      "\n",
      "Retrieving weather data for Newark\n",
      "\n",
      "\n",
      "Currently retrieving data for Newark: from 2009-12-08 to 2009-12-08\n"
     ]
    },
    {
     "name": "stderr",
     "output_type": "stream",
     "text": [
      "C:\\Users\\Heliiix\\anaconda3\\Lib\\site-packages\\wwo_hist\\__init__.py:69: FutureWarning: Argument `closed` is deprecated in favor of `inclusive`.\n",
      "  list_mon_begin = pd.date_range(start_date, end_date, freq='MS', closed='right')\n",
      "C:\\Users\\Heliiix\\anaconda3\\Lib\\site-packages\\wwo_hist\\__init__.py:74: FutureWarning: Argument `closed` is deprecated in favor of `inclusive`.\n",
      "  list_mon_end = pd.date_range(start_date, end_date, freq='M', closed='left')\n"
     ]
    },
    {
     "name": "stdout",
     "output_type": "stream",
     "text": [
      "Time elapsed (hh:mm:ss.ms) 0:00:00.243443\n",
      "\n",
      "\n",
      "export Newark completed!\n",
      "\n",
      "\n",
      "276\n",
      "California\n",
      "\n",
      "\n",
      "Retrieving weather data for California\n",
      "\n",
      "\n",
      "Currently retrieving data for California: from 2009-12-07 to 2009-12-07\n"
     ]
    },
    {
     "name": "stderr",
     "output_type": "stream",
     "text": [
      "C:\\Users\\Heliiix\\anaconda3\\Lib\\site-packages\\wwo_hist\\__init__.py:69: FutureWarning: Argument `closed` is deprecated in favor of `inclusive`.\n",
      "  list_mon_begin = pd.date_range(start_date, end_date, freq='MS', closed='right')\n",
      "C:\\Users\\Heliiix\\anaconda3\\Lib\\site-packages\\wwo_hist\\__init__.py:74: FutureWarning: Argument `closed` is deprecated in favor of `inclusive`.\n",
      "  list_mon_end = pd.date_range(start_date, end_date, freq='M', closed='left')\n"
     ]
    },
    {
     "name": "stdout",
     "output_type": "stream",
     "text": [
      "Time elapsed (hh:mm:ss.ms) 0:00:00.265958\n",
      "\n",
      "\n",
      "export California completed!\n",
      "\n",
      "\n",
      "277\n",
      "Virginia\n",
      "\n",
      "\n",
      "Retrieving weather data for Virginia\n",
      "\n",
      "\n",
      "Currently retrieving data for Virginia: from 2009-10-13 to 2009-10-13\n"
     ]
    },
    {
     "name": "stderr",
     "output_type": "stream",
     "text": [
      "C:\\Users\\Heliiix\\anaconda3\\Lib\\site-packages\\wwo_hist\\__init__.py:69: FutureWarning: Argument `closed` is deprecated in favor of `inclusive`.\n",
      "  list_mon_begin = pd.date_range(start_date, end_date, freq='MS', closed='right')\n",
      "C:\\Users\\Heliiix\\anaconda3\\Lib\\site-packages\\wwo_hist\\__init__.py:74: FutureWarning: Argument `closed` is deprecated in favor of `inclusive`.\n",
      "  list_mon_end = pd.date_range(start_date, end_date, freq='M', closed='left')\n"
     ]
    },
    {
     "name": "stdout",
     "output_type": "stream",
     "text": [
      "Time elapsed (hh:mm:ss.ms) 0:00:00.237204\n",
      "\n",
      "\n",
      "export Virginia completed!\n",
      "\n",
      "\n",
      "278\n",
      "Pennsylvania\n",
      "\n",
      "\n",
      "Retrieving weather data for Pennsylvania\n",
      "\n",
      "\n",
      "Currently retrieving data for Pennsylvania: from 2009-07-21 to 2009-07-21\n"
     ]
    },
    {
     "name": "stderr",
     "output_type": "stream",
     "text": [
      "C:\\Users\\Heliiix\\anaconda3\\Lib\\site-packages\\wwo_hist\\__init__.py:69: FutureWarning: Argument `closed` is deprecated in favor of `inclusive`.\n",
      "  list_mon_begin = pd.date_range(start_date, end_date, freq='MS', closed='right')\n",
      "C:\\Users\\Heliiix\\anaconda3\\Lib\\site-packages\\wwo_hist\\__init__.py:74: FutureWarning: Argument `closed` is deprecated in favor of `inclusive`.\n",
      "  list_mon_end = pd.date_range(start_date, end_date, freq='M', closed='left')\n"
     ]
    },
    {
     "name": "stdout",
     "output_type": "stream",
     "text": [
      "Time elapsed (hh:mm:ss.ms) 0:00:00.394375\n",
      "\n",
      "\n",
      "export Pennsylvania completed!\n",
      "\n",
      "\n",
      "279\n",
      "Virginia\n",
      "\n",
      "\n",
      "Retrieving weather data for Virginia\n",
      "\n",
      "\n",
      "Currently retrieving data for Virginia: from 2009-06-12 to 2009-06-12\n"
     ]
    },
    {
     "name": "stderr",
     "output_type": "stream",
     "text": [
      "C:\\Users\\Heliiix\\anaconda3\\Lib\\site-packages\\wwo_hist\\__init__.py:69: FutureWarning: Argument `closed` is deprecated in favor of `inclusive`.\n",
      "  list_mon_begin = pd.date_range(start_date, end_date, freq='MS', closed='right')\n",
      "C:\\Users\\Heliiix\\anaconda3\\Lib\\site-packages\\wwo_hist\\__init__.py:74: FutureWarning: Argument `closed` is deprecated in favor of `inclusive`.\n",
      "  list_mon_end = pd.date_range(start_date, end_date, freq='M', closed='left')\n"
     ]
    },
    {
     "name": "stdout",
     "output_type": "stream",
     "text": [
      "Time elapsed (hh:mm:ss.ms) 0:00:00.240541\n",
      "\n",
      "\n",
      "export Virginia completed!\n",
      "\n",
      "\n",
      "280\n",
      "New%20York\n",
      "\n",
      "\n",
      "Retrieving weather data for New%20York\n",
      "\n",
      "\n",
      "Currently retrieving data for New%20York: from 2009-06-13 to 2009-06-13\n"
     ]
    },
    {
     "name": "stderr",
     "output_type": "stream",
     "text": [
      "C:\\Users\\Heliiix\\anaconda3\\Lib\\site-packages\\wwo_hist\\__init__.py:69: FutureWarning: Argument `closed` is deprecated in favor of `inclusive`.\n",
      "  list_mon_begin = pd.date_range(start_date, end_date, freq='MS', closed='right')\n",
      "C:\\Users\\Heliiix\\anaconda3\\Lib\\site-packages\\wwo_hist\\__init__.py:74: FutureWarning: Argument `closed` is deprecated in favor of `inclusive`.\n",
      "  list_mon_end = pd.date_range(start_date, end_date, freq='M', closed='left')\n"
     ]
    },
    {
     "name": "stdout",
     "output_type": "stream",
     "text": [
      "Time elapsed (hh:mm:ss.ms) 0:00:00.237023\n",
      "\n",
      "\n",
      "export New%20York completed!\n",
      "\n",
      "\n",
      "281\n",
      "Texas\n",
      "\n",
      "\n",
      "Retrieving weather data for Texas\n",
      "\n",
      "\n",
      "Currently retrieving data for Texas: from 2009-03-08 to 2009-03-08\n"
     ]
    },
    {
     "name": "stderr",
     "output_type": "stream",
     "text": [
      "C:\\Users\\Heliiix\\anaconda3\\Lib\\site-packages\\wwo_hist\\__init__.py:69: FutureWarning: Argument `closed` is deprecated in favor of `inclusive`.\n",
      "  list_mon_begin = pd.date_range(start_date, end_date, freq='MS', closed='right')\n",
      "C:\\Users\\Heliiix\\anaconda3\\Lib\\site-packages\\wwo_hist\\__init__.py:74: FutureWarning: Argument `closed` is deprecated in favor of `inclusive`.\n",
      "  list_mon_end = pd.date_range(start_date, end_date, freq='M', closed='left')\n"
     ]
    },
    {
     "name": "stdout",
     "output_type": "stream",
     "text": [
      "Time elapsed (hh:mm:ss.ms) 0:00:00.255065\n",
      "\n",
      "\n",
      "export Texas completed!\n",
      "\n",
      "\n",
      "282\n",
      "Alberta\n",
      "\n",
      "\n",
      "Retrieving weather data for Alberta\n",
      "\n",
      "\n",
      "Currently retrieving data for Alberta: from 2008-11-11 to 2008-11-11\n"
     ]
    },
    {
     "name": "stderr",
     "output_type": "stream",
     "text": [
      "C:\\Users\\Heliiix\\anaconda3\\Lib\\site-packages\\wwo_hist\\__init__.py:69: FutureWarning: Argument `closed` is deprecated in favor of `inclusive`.\n",
      "  list_mon_begin = pd.date_range(start_date, end_date, freq='MS', closed='right')\n",
      "C:\\Users\\Heliiix\\anaconda3\\Lib\\site-packages\\wwo_hist\\__init__.py:74: FutureWarning: Argument `closed` is deprecated in favor of `inclusive`.\n",
      "  list_mon_end = pd.date_range(start_date, end_date, freq='M', closed='left')\n"
     ]
    },
    {
     "name": "stdout",
     "output_type": "stream",
     "text": [
      "Time elapsed (hh:mm:ss.ms) 0:00:00.248812\n",
      "\n",
      "\n",
      "export Alberta completed!\n",
      "\n",
      "\n",
      "283\n",
      "Michigan\n",
      "\n",
      "\n",
      "Retrieving weather data for Michigan\n",
      "\n",
      "\n",
      "Currently retrieving data for Michigan: from 2008-11-07 to 2008-11-07\n"
     ]
    },
    {
     "name": "stderr",
     "output_type": "stream",
     "text": [
      "C:\\Users\\Heliiix\\anaconda3\\Lib\\site-packages\\wwo_hist\\__init__.py:69: FutureWarning: Argument `closed` is deprecated in favor of `inclusive`.\n",
      "  list_mon_begin = pd.date_range(start_date, end_date, freq='MS', closed='right')\n",
      "C:\\Users\\Heliiix\\anaconda3\\Lib\\site-packages\\wwo_hist\\__init__.py:74: FutureWarning: Argument `closed` is deprecated in favor of `inclusive`.\n",
      "  list_mon_end = pd.date_range(start_date, end_date, freq='M', closed='left')\n"
     ]
    },
    {
     "name": "stdout",
     "output_type": "stream",
     "text": [
      "Time elapsed (hh:mm:ss.ms) 0:00:00.234207\n",
      "\n",
      "\n",
      "export Michigan completed!\n",
      "\n",
      "\n",
      "284\n",
      "Northern%20and%20Central%20California\n",
      "\n",
      "\n",
      "Retrieving weather data for Northern%20and%20Central%20California\n",
      "\n",
      "\n",
      "Currently retrieving data for Northern%20and%20Central%20California: from 2008-09-22 to 2008-09-22\n"
     ]
    },
    {
     "name": "stderr",
     "output_type": "stream",
     "text": [
      "C:\\Users\\Heliiix\\anaconda3\\Lib\\site-packages\\wwo_hist\\__init__.py:69: FutureWarning: Argument `closed` is deprecated in favor of `inclusive`.\n",
      "  list_mon_begin = pd.date_range(start_date, end_date, freq='MS', closed='right')\n",
      "C:\\Users\\Heliiix\\anaconda3\\Lib\\site-packages\\wwo_hist\\__init__.py:74: FutureWarning: Argument `closed` is deprecated in favor of `inclusive`.\n",
      "  list_mon_end = pd.date_range(start_date, end_date, freq='M', closed='left')\n"
     ]
    },
    {
     "name": "stdout",
     "output_type": "stream",
     "text": [
      "Time elapsed (hh:mm:ss.ms) 0:00:00.321306\n",
      "\n",
      "\n",
      "export Northern%20and%20Central%20California completed!\n",
      "\n",
      "\n",
      "285\n",
      "New%20York\n",
      "\n",
      "\n",
      "Retrieving weather data for New%20York\n",
      "\n",
      "\n",
      "Currently retrieving data for New%20York: from 2008-08-16 to 2008-08-16\n"
     ]
    },
    {
     "name": "stderr",
     "output_type": "stream",
     "text": [
      "C:\\Users\\Heliiix\\anaconda3\\Lib\\site-packages\\wwo_hist\\__init__.py:69: FutureWarning: Argument `closed` is deprecated in favor of `inclusive`.\n",
      "  list_mon_begin = pd.date_range(start_date, end_date, freq='MS', closed='right')\n",
      "C:\\Users\\Heliiix\\anaconda3\\Lib\\site-packages\\wwo_hist\\__init__.py:74: FutureWarning: Argument `closed` is deprecated in favor of `inclusive`.\n",
      "  list_mon_end = pd.date_range(start_date, end_date, freq='M', closed='left')\n"
     ]
    },
    {
     "name": "stdout",
     "output_type": "stream",
     "text": [
      "Time elapsed (hh:mm:ss.ms) 0:00:00.261344\n",
      "\n",
      "\n",
      "export New%20York completed!\n",
      "\n",
      "\n"
     ]
    }
   ],
   "source": [
    "# Assuming t is your DataFrame\n",
    "for index, row in random_table.iterrows():\n",
    "    print(index)\n",
    "    # Extract values from the row\n",
    "    api_key = '07197fcd9b464a3ca62233857241702'\n",
    "    location = row['Location']\n",
    "    encoded_location = urllib.parse.quote(location)\n",
    "    print(encoded_location)\n",
    "    start_date = row['Date']\n",
    "    end_date = row['Date']  # Use a different date for the end date\n",
    "    frequency = 24\n",
    "\n",
    "    try:\n",
    "        # Call retrieve_hist_data function to get historical weather data\n",
    "        response = retrieve_hist_data(api_key=api_key,\n",
    "                                       location_list=[encoded_location],\n",
    "                                       start_date=start_date,\n",
    "                                       end_date=end_date,\n",
    "                                       frequency=frequency)\n",
    "        \n",
    "        if response is None:\n",
    "            print(f\"No data returned for location: {location}\")\n",
    "            continue  # Skip to the next iteration if no data is returned\n",
    "\n",
    "        # Continue processing the data if it's successfully retrieved\n",
    "        \n",
    "        s = row['Location'].replace(' ', '%20') + \".csv\"\n",
    "        df_excel = pd.read_csv(s)\n",
    "\n",
    "        # Read existing data from combined_data.csv into another DataFrame\n",
    "        combined_data_csv_path = 'combined_data.csv'\n",
    "        if os.path.exists(combined_data_csv_path):\n",
    "            df_combined_data = pd.read_csv(combined_data_csv_path)\n",
    "        else:\n",
    "            df_combined_data = pd.DataFrame()  # If combined_data.csv doesn't exist yet\n",
    "\n",
    "        # Concatenate new data from Excel file with existing data from combined_data.csv\n",
    "        combined_df = pd.concat([df_combined_data, df_excel], ignore_index=True)\n",
    "\n",
    "        # Write the combined DataFrame back to combined_data.csv\n",
    "        combined_df.to_csv(combined_data_csv_path, index=False)\n",
    "        \n",
    "    except Exception as e:\n",
    "        print(f\"Error processing data for location: {location}. Error: {e}\")\n",
    "        continue  # Skip to the next iteration if an error occurs"
   ]
  },
  {
   "cell_type": "code",
   "execution_count": 46,
   "id": "9156b973",
   "metadata": {},
   "outputs": [],
   "source": [
    "dfNew = pd.read_csv('combined_data.csv')"
   ]
  },
  {
   "cell_type": "code",
   "execution_count": 48,
   "id": "4e5eea67",
   "metadata": {},
   "outputs": [],
   "source": [
    "dfNew['target'] = 0"
   ]
  },
  {
   "cell_type": "code",
   "execution_count": 49,
   "id": "cc0d92eb",
   "metadata": {},
   "outputs": [
    {
     "data": {
      "text/html": [
       "<div>\n",
       "<style scoped>\n",
       "    .dataframe tbody tr th:only-of-type {\n",
       "        vertical-align: middle;\n",
       "    }\n",
       "\n",
       "    .dataframe tbody tr th {\n",
       "        vertical-align: top;\n",
       "    }\n",
       "\n",
       "    .dataframe thead th {\n",
       "        text-align: right;\n",
       "    }\n",
       "</style>\n",
       "<table border=\"1\" class=\"dataframe\">\n",
       "  <thead>\n",
       "    <tr style=\"text-align: right;\">\n",
       "      <th></th>\n",
       "      <th>date_time</th>\n",
       "      <th>maxtempC</th>\n",
       "      <th>mintempC</th>\n",
       "      <th>totalSnow_cm</th>\n",
       "      <th>sunHour</th>\n",
       "      <th>uvIndex</th>\n",
       "      <th>moon_illumination</th>\n",
       "      <th>moonrise</th>\n",
       "      <th>moonset</th>\n",
       "      <th>sunrise</th>\n",
       "      <th>...</th>\n",
       "      <th>cloudcover</th>\n",
       "      <th>humidity</th>\n",
       "      <th>precipMM</th>\n",
       "      <th>pressure</th>\n",
       "      <th>tempC</th>\n",
       "      <th>visibility</th>\n",
       "      <th>winddirDegree</th>\n",
       "      <th>windspeedKmph</th>\n",
       "      <th>location</th>\n",
       "      <th>target</th>\n",
       "    </tr>\n",
       "  </thead>\n",
       "  <tbody>\n",
       "    <tr>\n",
       "      <th>0</th>\n",
       "      <td>2008-07-10</td>\n",
       "      <td>27</td>\n",
       "      <td>14</td>\n",
       "      <td>0.0</td>\n",
       "      <td>15.0</td>\n",
       "      <td>6</td>\n",
       "      <td>47</td>\n",
       "      <td>02:16 PM</td>\n",
       "      <td>12:21 AM</td>\n",
       "      <td>05:54 AM</td>\n",
       "      <td>...</td>\n",
       "      <td>20</td>\n",
       "      <td>68</td>\n",
       "      <td>0.0</td>\n",
       "      <td>1017</td>\n",
       "      <td>27</td>\n",
       "      <td>9</td>\n",
       "      <td>314</td>\n",
       "      <td>9</td>\n",
       "      <td>Northern%20California</td>\n",
       "      <td>0</td>\n",
       "    </tr>\n",
       "    <tr>\n",
       "      <th>1</th>\n",
       "      <td>2014-06-30</td>\n",
       "      <td>32</td>\n",
       "      <td>19</td>\n",
       "      <td>0.0</td>\n",
       "      <td>14.0</td>\n",
       "      <td>7</td>\n",
       "      <td>16</td>\n",
       "      <td>09:10 AM</td>\n",
       "      <td>10:36 PM</td>\n",
       "      <td>06:06 AM</td>\n",
       "      <td>...</td>\n",
       "      <td>25</td>\n",
       "      <td>68</td>\n",
       "      <td>0.0</td>\n",
       "      <td>1016</td>\n",
       "      <td>32</td>\n",
       "      <td>10</td>\n",
       "      <td>174</td>\n",
       "      <td>7</td>\n",
       "      <td>Southern%20California</td>\n",
       "      <td>0</td>\n",
       "    </tr>\n",
       "    <tr>\n",
       "      <th>2</th>\n",
       "      <td>2014-07-02</td>\n",
       "      <td>30</td>\n",
       "      <td>26</td>\n",
       "      <td>0.0</td>\n",
       "      <td>12.0</td>\n",
       "      <td>6</td>\n",
       "      <td>30</td>\n",
       "      <td>10:09 AM</td>\n",
       "      <td>10:41 PM</td>\n",
       "      <td>05:52 AM</td>\n",
       "      <td>...</td>\n",
       "      <td>36</td>\n",
       "      <td>77</td>\n",
       "      <td>0.5</td>\n",
       "      <td>1017</td>\n",
       "      <td>30</td>\n",
       "      <td>10</td>\n",
       "      <td>88</td>\n",
       "      <td>16</td>\n",
       "      <td>Island%20of%20Puerto%20Rico</td>\n",
       "      <td>0</td>\n",
       "    </tr>\n",
       "    <tr>\n",
       "      <th>3</th>\n",
       "      <td>2014-06-09</td>\n",
       "      <td>27</td>\n",
       "      <td>16</td>\n",
       "      <td>0.0</td>\n",
       "      <td>9.0</td>\n",
       "      <td>5</td>\n",
       "      <td>81</td>\n",
       "      <td>03:27 PM</td>\n",
       "      <td>02:33 AM</td>\n",
       "      <td>05:38 AM</td>\n",
       "      <td>...</td>\n",
       "      <td>65</td>\n",
       "      <td>83</td>\n",
       "      <td>13.7</td>\n",
       "      <td>1012</td>\n",
       "      <td>27</td>\n",
       "      <td>8</td>\n",
       "      <td>197</td>\n",
       "      <td>3</td>\n",
       "      <td>Alberta</td>\n",
       "      <td>0</td>\n",
       "    </tr>\n",
       "    <tr>\n",
       "      <th>4</th>\n",
       "      <td>2014-06-03</td>\n",
       "      <td>27</td>\n",
       "      <td>17</td>\n",
       "      <td>0.0</td>\n",
       "      <td>13.0</td>\n",
       "      <td>5</td>\n",
       "      <td>35</td>\n",
       "      <td>11:05 AM</td>\n",
       "      <td>12:04 AM</td>\n",
       "      <td>05:42 AM</td>\n",
       "      <td>...</td>\n",
       "      <td>46</td>\n",
       "      <td>82</td>\n",
       "      <td>0.3</td>\n",
       "      <td>1013</td>\n",
       "      <td>27</td>\n",
       "      <td>8</td>\n",
       "      <td>248</td>\n",
       "      <td>12</td>\n",
       "      <td>Pennsylvania</td>\n",
       "      <td>0</td>\n",
       "    </tr>\n",
       "    <tr>\n",
       "      <th>...</th>\n",
       "      <td>...</td>\n",
       "      <td>...</td>\n",
       "      <td>...</td>\n",
       "      <td>...</td>\n",
       "      <td>...</td>\n",
       "      <td>...</td>\n",
       "      <td>...</td>\n",
       "      <td>...</td>\n",
       "      <td>...</td>\n",
       "      <td>...</td>\n",
       "      <td>...</td>\n",
       "      <td>...</td>\n",
       "      <td>...</td>\n",
       "      <td>...</td>\n",
       "      <td>...</td>\n",
       "      <td>...</td>\n",
       "      <td>...</td>\n",
       "      <td>...</td>\n",
       "      <td>...</td>\n",
       "      <td>...</td>\n",
       "      <td>...</td>\n",
       "    </tr>\n",
       "    <tr>\n",
       "      <th>272</th>\n",
       "      <td>2009-03-08</td>\n",
       "      <td>24</td>\n",
       "      <td>19</td>\n",
       "      <td>0.0</td>\n",
       "      <td>12.0</td>\n",
       "      <td>6</td>\n",
       "      <td>81</td>\n",
       "      <td>04:08 PM</td>\n",
       "      <td>04:53 AM</td>\n",
       "      <td>06:37 AM</td>\n",
       "      <td>...</td>\n",
       "      <td>23</td>\n",
       "      <td>81</td>\n",
       "      <td>0.0</td>\n",
       "      <td>1017</td>\n",
       "      <td>24</td>\n",
       "      <td>10</td>\n",
       "      <td>164</td>\n",
       "      <td>16</td>\n",
       "      <td>Texas</td>\n",
       "      <td>0</td>\n",
       "    </tr>\n",
       "    <tr>\n",
       "      <th>273</th>\n",
       "      <td>2008-11-11</td>\n",
       "      <td>27</td>\n",
       "      <td>12</td>\n",
       "      <td>0.0</td>\n",
       "      <td>11.0</td>\n",
       "      <td>5</td>\n",
       "      <td>93</td>\n",
       "      <td>04:14 PM</td>\n",
       "      <td>04:22 AM</td>\n",
       "      <td>06:09 AM</td>\n",
       "      <td>...</td>\n",
       "      <td>22</td>\n",
       "      <td>79</td>\n",
       "      <td>0.0</td>\n",
       "      <td>1013</td>\n",
       "      <td>27</td>\n",
       "      <td>7</td>\n",
       "      <td>95</td>\n",
       "      <td>3</td>\n",
       "      <td>Alberta</td>\n",
       "      <td>0</td>\n",
       "    </tr>\n",
       "    <tr>\n",
       "      <th>274</th>\n",
       "      <td>2008-11-07</td>\n",
       "      <td>13</td>\n",
       "      <td>4</td>\n",
       "      <td>0.0</td>\n",
       "      <td>10.0</td>\n",
       "      <td>2</td>\n",
       "      <td>62</td>\n",
       "      <td>01:32 PM</td>\n",
       "      <td>No moonset</td>\n",
       "      <td>06:27 AM</td>\n",
       "      <td>...</td>\n",
       "      <td>33</td>\n",
       "      <td>65</td>\n",
       "      <td>0.0</td>\n",
       "      <td>1007</td>\n",
       "      <td>13</td>\n",
       "      <td>10</td>\n",
       "      <td>213</td>\n",
       "      <td>17</td>\n",
       "      <td>Michigan</td>\n",
       "      <td>0</td>\n",
       "    </tr>\n",
       "    <tr>\n",
       "      <th>275</th>\n",
       "      <td>2008-09-22</td>\n",
       "      <td>23</td>\n",
       "      <td>12</td>\n",
       "      <td>0.0</td>\n",
       "      <td>12.0</td>\n",
       "      <td>4</td>\n",
       "      <td>39</td>\n",
       "      <td>No moonrise</td>\n",
       "      <td>03:23 PM</td>\n",
       "      <td>07:03 AM</td>\n",
       "      <td>...</td>\n",
       "      <td>39</td>\n",
       "      <td>77</td>\n",
       "      <td>0.0</td>\n",
       "      <td>1027</td>\n",
       "      <td>23</td>\n",
       "      <td>7</td>\n",
       "      <td>58</td>\n",
       "      <td>9</td>\n",
       "      <td>Northern%20and%20Central%20California</td>\n",
       "      <td>0</td>\n",
       "    </tr>\n",
       "    <tr>\n",
       "      <th>276</th>\n",
       "      <td>2008-08-16</td>\n",
       "      <td>27</td>\n",
       "      <td>17</td>\n",
       "      <td>0.0</td>\n",
       "      <td>13.0</td>\n",
       "      <td>5</td>\n",
       "      <td>100</td>\n",
       "      <td>07:48 PM</td>\n",
       "      <td>05:42 AM</td>\n",
       "      <td>06:08 AM</td>\n",
       "      <td>...</td>\n",
       "      <td>27</td>\n",
       "      <td>71</td>\n",
       "      <td>0.3</td>\n",
       "      <td>1014</td>\n",
       "      <td>27</td>\n",
       "      <td>10</td>\n",
       "      <td>267</td>\n",
       "      <td>7</td>\n",
       "      <td>New%20York</td>\n",
       "      <td>0</td>\n",
       "    </tr>\n",
       "  </tbody>\n",
       "</table>\n",
       "<p>277 rows × 26 columns</p>\n",
       "</div>"
      ],
      "text/plain": [
       "      date_time  maxtempC  mintempC  totalSnow_cm  sunHour  uvIndex  \\\n",
       "0    2008-07-10        27        14           0.0     15.0        6   \n",
       "1    2014-06-30        32        19           0.0     14.0        7   \n",
       "2    2014-07-02        30        26           0.0     12.0        6   \n",
       "3    2014-06-09        27        16           0.0      9.0        5   \n",
       "4    2014-06-03        27        17           0.0     13.0        5   \n",
       "..          ...       ...       ...           ...      ...      ...   \n",
       "272  2009-03-08        24        19           0.0     12.0        6   \n",
       "273  2008-11-11        27        12           0.0     11.0        5   \n",
       "274  2008-11-07        13         4           0.0     10.0        2   \n",
       "275  2008-09-22        23        12           0.0     12.0        4   \n",
       "276  2008-08-16        27        17           0.0     13.0        5   \n",
       "\n",
       "     moon_illumination     moonrise     moonset   sunrise  ... cloudcover  \\\n",
       "0                   47     02:16 PM    12:21 AM  05:54 AM  ...         20   \n",
       "1                   16     09:10 AM    10:36 PM  06:06 AM  ...         25   \n",
       "2                   30     10:09 AM    10:41 PM  05:52 AM  ...         36   \n",
       "3                   81     03:27 PM    02:33 AM  05:38 AM  ...         65   \n",
       "4                   35     11:05 AM    12:04 AM  05:42 AM  ...         46   \n",
       "..                 ...          ...         ...       ...  ...        ...   \n",
       "272                 81     04:08 PM    04:53 AM  06:37 AM  ...         23   \n",
       "273                 93     04:14 PM    04:22 AM  06:09 AM  ...         22   \n",
       "274                 62     01:32 PM  No moonset  06:27 AM  ...         33   \n",
       "275                 39  No moonrise    03:23 PM  07:03 AM  ...         39   \n",
       "276                100     07:48 PM    05:42 AM  06:08 AM  ...         27   \n",
       "\n",
       "     humidity  precipMM  pressure  tempC  visibility  winddirDegree  \\\n",
       "0          68       0.0      1017     27           9            314   \n",
       "1          68       0.0      1016     32          10            174   \n",
       "2          77       0.5      1017     30          10             88   \n",
       "3          83      13.7      1012     27           8            197   \n",
       "4          82       0.3      1013     27           8            248   \n",
       "..        ...       ...       ...    ...         ...            ...   \n",
       "272        81       0.0      1017     24          10            164   \n",
       "273        79       0.0      1013     27           7             95   \n",
       "274        65       0.0      1007     13          10            213   \n",
       "275        77       0.0      1027     23           7             58   \n",
       "276        71       0.3      1014     27          10            267   \n",
       "\n",
       "     windspeedKmph                               location  target  \n",
       "0                9                  Northern%20California       0  \n",
       "1                7                  Southern%20California       0  \n",
       "2               16            Island%20of%20Puerto%20Rico       0  \n",
       "3                3                                Alberta       0  \n",
       "4               12                           Pennsylvania       0  \n",
       "..             ...                                    ...     ...  \n",
       "272             16                                  Texas       0  \n",
       "273              3                                Alberta       0  \n",
       "274             17                               Michigan       0  \n",
       "275              9  Northern%20and%20Central%20California       0  \n",
       "276              7                             New%20York       0  \n",
       "\n",
       "[277 rows x 26 columns]"
      ]
     },
     "execution_count": 49,
     "metadata": {},
     "output_type": "execute_result"
    }
   ],
   "source": [
    "dfNew"
   ]
  },
  {
   "cell_type": "code",
   "execution_count": 51,
   "id": "24233983",
   "metadata": {},
   "outputs": [
    {
     "data": {
      "text/html": [
       "<div>\n",
       "<style scoped>\n",
       "    .dataframe tbody tr th:only-of-type {\n",
       "        vertical-align: middle;\n",
       "    }\n",
       "\n",
       "    .dataframe tbody tr th {\n",
       "        vertical-align: top;\n",
       "    }\n",
       "\n",
       "    .dataframe thead th {\n",
       "        text-align: right;\n",
       "    }\n",
       "</style>\n",
       "<table border=\"1\" class=\"dataframe\">\n",
       "  <thead>\n",
       "    <tr style=\"text-align: right;\">\n",
       "      <th></th>\n",
       "      <th>date_time</th>\n",
       "      <th>maxtempC</th>\n",
       "      <th>mintempC</th>\n",
       "      <th>totalSnow_cm</th>\n",
       "      <th>sunHour</th>\n",
       "      <th>uvIndex</th>\n",
       "      <th>moon_illumination</th>\n",
       "      <th>moonrise</th>\n",
       "      <th>moonset</th>\n",
       "      <th>sunrise</th>\n",
       "      <th>...</th>\n",
       "      <th>cloudcover</th>\n",
       "      <th>humidity</th>\n",
       "      <th>precipMM</th>\n",
       "      <th>pressure</th>\n",
       "      <th>tempC</th>\n",
       "      <th>visibility</th>\n",
       "      <th>winddirDegree</th>\n",
       "      <th>windspeedKmph</th>\n",
       "      <th>location</th>\n",
       "      <th>target</th>\n",
       "    </tr>\n",
       "  </thead>\n",
       "  <tbody>\n",
       "    <tr>\n",
       "      <th>0</th>\n",
       "      <td>2008-07-10</td>\n",
       "      <td>25</td>\n",
       "      <td>16</td>\n",
       "      <td>0.0</td>\n",
       "      <td>8.0</td>\n",
       "      <td>4</td>\n",
       "      <td>47</td>\n",
       "      <td>01:52 PM</td>\n",
       "      <td>12:33 AM</td>\n",
       "      <td>06:22 AM</td>\n",
       "      <td>...</td>\n",
       "      <td>68</td>\n",
       "      <td>91</td>\n",
       "      <td>25.3</td>\n",
       "      <td>1014</td>\n",
       "      <td>25</td>\n",
       "      <td>8</td>\n",
       "      <td>169</td>\n",
       "      <td>7</td>\n",
       "      <td>San%20Francisco%20Bay%20Area</td>\n",
       "      <td>1</td>\n",
       "    </tr>\n",
       "    <tr>\n",
       "      <th>1</th>\n",
       "      <td>2008-07-10</td>\n",
       "      <td>25</td>\n",
       "      <td>16</td>\n",
       "      <td>0.0</td>\n",
       "      <td>8.0</td>\n",
       "      <td>4</td>\n",
       "      <td>47</td>\n",
       "      <td>01:52 PM</td>\n",
       "      <td>12:33 AM</td>\n",
       "      <td>06:22 AM</td>\n",
       "      <td>...</td>\n",
       "      <td>68</td>\n",
       "      <td>91</td>\n",
       "      <td>25.3</td>\n",
       "      <td>1014</td>\n",
       "      <td>25</td>\n",
       "      <td>8</td>\n",
       "      <td>169</td>\n",
       "      <td>7</td>\n",
       "      <td>San%20Francisco%20Bay%20Area</td>\n",
       "      <td>1</td>\n",
       "    </tr>\n",
       "    <tr>\n",
       "      <th>2</th>\n",
       "      <td>2014-06-30</td>\n",
       "      <td>30</td>\n",
       "      <td>22</td>\n",
       "      <td>0.0</td>\n",
       "      <td>10.0</td>\n",
       "      <td>6</td>\n",
       "      <td>16</td>\n",
       "      <td>08:49 AM</td>\n",
       "      <td>10:31 PM</td>\n",
       "      <td>05:34 AM</td>\n",
       "      <td>...</td>\n",
       "      <td>63</td>\n",
       "      <td>92</td>\n",
       "      <td>28.8</td>\n",
       "      <td>1006</td>\n",
       "      <td>30</td>\n",
       "      <td>7</td>\n",
       "      <td>198</td>\n",
       "      <td>16</td>\n",
       "      <td>Illinois</td>\n",
       "      <td>1</td>\n",
       "    </tr>\n",
       "    <tr>\n",
       "      <th>3</th>\n",
       "      <td>2014-07-01</td>\n",
       "      <td>26</td>\n",
       "      <td>18</td>\n",
       "      <td>0.0</td>\n",
       "      <td>15.0</td>\n",
       "      <td>6</td>\n",
       "      <td>23</td>\n",
       "      <td>09:46 AM</td>\n",
       "      <td>11:01 PM</td>\n",
       "      <td>05:34 AM</td>\n",
       "      <td>...</td>\n",
       "      <td>19</td>\n",
       "      <td>82</td>\n",
       "      <td>0.0</td>\n",
       "      <td>1007</td>\n",
       "      <td>26</td>\n",
       "      <td>10</td>\n",
       "      <td>265</td>\n",
       "      <td>17</td>\n",
       "      <td>Illinois</td>\n",
       "      <td>1</td>\n",
       "    </tr>\n",
       "    <tr>\n",
       "      <th>4</th>\n",
       "      <td>2014-07-02</td>\n",
       "      <td>18</td>\n",
       "      <td>14</td>\n",
       "      <td>0.0</td>\n",
       "      <td>5.0</td>\n",
       "      <td>4</td>\n",
       "      <td>30</td>\n",
       "      <td>10:42 AM</td>\n",
       "      <td>11:30 PM</td>\n",
       "      <td>05:35 AM</td>\n",
       "      <td>...</td>\n",
       "      <td>81</td>\n",
       "      <td>90</td>\n",
       "      <td>1.1</td>\n",
       "      <td>1015</td>\n",
       "      <td>18</td>\n",
       "      <td>7</td>\n",
       "      <td>297</td>\n",
       "      <td>13</td>\n",
       "      <td>Illinois</td>\n",
       "      <td>1</td>\n",
       "    </tr>\n",
       "    <tr>\n",
       "      <th>...</th>\n",
       "      <td>...</td>\n",
       "      <td>...</td>\n",
       "      <td>...</td>\n",
       "      <td>...</td>\n",
       "      <td>...</td>\n",
       "      <td>...</td>\n",
       "      <td>...</td>\n",
       "      <td>...</td>\n",
       "      <td>...</td>\n",
       "      <td>...</td>\n",
       "      <td>...</td>\n",
       "      <td>...</td>\n",
       "      <td>...</td>\n",
       "      <td>...</td>\n",
       "      <td>...</td>\n",
       "      <td>...</td>\n",
       "      <td>...</td>\n",
       "      <td>...</td>\n",
       "      <td>...</td>\n",
       "      <td>...</td>\n",
       "      <td>...</td>\n",
       "    </tr>\n",
       "    <tr>\n",
       "      <th>377</th>\n",
       "      <td>2008-11-11</td>\n",
       "      <td>27</td>\n",
       "      <td>20</td>\n",
       "      <td>0.0</td>\n",
       "      <td>10.0</td>\n",
       "      <td>5</td>\n",
       "      <td>93</td>\n",
       "      <td>04:20 PM</td>\n",
       "      <td>03:57 AM</td>\n",
       "      <td>05:44 AM</td>\n",
       "      <td>...</td>\n",
       "      <td>62</td>\n",
       "      <td>92</td>\n",
       "      <td>9.2</td>\n",
       "      <td>1010</td>\n",
       "      <td>27</td>\n",
       "      <td>8</td>\n",
       "      <td>223</td>\n",
       "      <td>4</td>\n",
       "      <td>Island%20of%20Puerto%20Rico</td>\n",
       "      <td>1</td>\n",
       "    </tr>\n",
       "    <tr>\n",
       "      <th>378</th>\n",
       "      <td>2008-11-07</td>\n",
       "      <td>22</td>\n",
       "      <td>10</td>\n",
       "      <td>0.0</td>\n",
       "      <td>11.0</td>\n",
       "      <td>5</td>\n",
       "      <td>62</td>\n",
       "      <td>01:55 PM</td>\n",
       "      <td>12:33 AM</td>\n",
       "      <td>06:45 AM</td>\n",
       "      <td>...</td>\n",
       "      <td>2</td>\n",
       "      <td>73</td>\n",
       "      <td>0.0</td>\n",
       "      <td>1013</td>\n",
       "      <td>22</td>\n",
       "      <td>10</td>\n",
       "      <td>220</td>\n",
       "      <td>9</td>\n",
       "      <td>Southern%20California</td>\n",
       "      <td>1</td>\n",
       "    </tr>\n",
       "    <tr>\n",
       "      <th>379</th>\n",
       "      <td>2008-09-22</td>\n",
       "      <td>26</td>\n",
       "      <td>25</td>\n",
       "      <td>0.0</td>\n",
       "      <td>4.0</td>\n",
       "      <td>6</td>\n",
       "      <td>39</td>\n",
       "      <td>No moonrise</td>\n",
       "      <td>01:24 PM</td>\n",
       "      <td>06:12 AM</td>\n",
       "      <td>...</td>\n",
       "      <td>85</td>\n",
       "      <td>88</td>\n",
       "      <td>94.3</td>\n",
       "      <td>1013</td>\n",
       "      <td>26</td>\n",
       "      <td>5</td>\n",
       "      <td>131</td>\n",
       "      <td>19</td>\n",
       "      <td>Island%20of%20Puerto%20Rico</td>\n",
       "      <td>1</td>\n",
       "    </tr>\n",
       "    <tr>\n",
       "      <th>380</th>\n",
       "      <td>2008-08-16</td>\n",
       "      <td>33</td>\n",
       "      <td>24</td>\n",
       "      <td>0.0</td>\n",
       "      <td>11.0</td>\n",
       "      <td>6</td>\n",
       "      <td>100</td>\n",
       "      <td>07:40 PM</td>\n",
       "      <td>06:40 AM</td>\n",
       "      <td>06:58 AM</td>\n",
       "      <td>...</td>\n",
       "      <td>43</td>\n",
       "      <td>78</td>\n",
       "      <td>16.8</td>\n",
       "      <td>1012</td>\n",
       "      <td>33</td>\n",
       "      <td>8</td>\n",
       "      <td>76</td>\n",
       "      <td>5</td>\n",
       "      <td>Island%20of%20Puerto%20Rico</td>\n",
       "      <td>1</td>\n",
       "    </tr>\n",
       "    <tr>\n",
       "      <th>381</th>\n",
       "      <td>2008-07-10</td>\n",
       "      <td>25</td>\n",
       "      <td>16</td>\n",
       "      <td>0.0</td>\n",
       "      <td>8.0</td>\n",
       "      <td>4</td>\n",
       "      <td>47</td>\n",
       "      <td>01:52 PM</td>\n",
       "      <td>12:33 AM</td>\n",
       "      <td>06:22 AM</td>\n",
       "      <td>...</td>\n",
       "      <td>68</td>\n",
       "      <td>91</td>\n",
       "      <td>25.3</td>\n",
       "      <td>1014</td>\n",
       "      <td>25</td>\n",
       "      <td>8</td>\n",
       "      <td>169</td>\n",
       "      <td>7</td>\n",
       "      <td>San%20Francisco%20Bay%20Area</td>\n",
       "      <td>1</td>\n",
       "    </tr>\n",
       "  </tbody>\n",
       "</table>\n",
       "<p>382 rows × 26 columns</p>\n",
       "</div>"
      ],
      "text/plain": [
       "      date_time  maxtempC  mintempC  totalSnow_cm  sunHour  uvIndex  \\\n",
       "0    2008-07-10        25        16           0.0      8.0        4   \n",
       "1    2008-07-10        25        16           0.0      8.0        4   \n",
       "2    2014-06-30        30        22           0.0     10.0        6   \n",
       "3    2014-07-01        26        18           0.0     15.0        6   \n",
       "4    2014-07-02        18        14           0.0      5.0        4   \n",
       "..          ...       ...       ...           ...      ...      ...   \n",
       "377  2008-11-11        27        20           0.0     10.0        5   \n",
       "378  2008-11-07        22        10           0.0     11.0        5   \n",
       "379  2008-09-22        26        25           0.0      4.0        6   \n",
       "380  2008-08-16        33        24           0.0     11.0        6   \n",
       "381  2008-07-10        25        16           0.0      8.0        4   \n",
       "\n",
       "     moon_illumination     moonrise   moonset   sunrise  ... cloudcover  \\\n",
       "0                   47     01:52 PM  12:33 AM  06:22 AM  ...         68   \n",
       "1                   47     01:52 PM  12:33 AM  06:22 AM  ...         68   \n",
       "2                   16     08:49 AM  10:31 PM  05:34 AM  ...         63   \n",
       "3                   23     09:46 AM  11:01 PM  05:34 AM  ...         19   \n",
       "4                   30     10:42 AM  11:30 PM  05:35 AM  ...         81   \n",
       "..                 ...          ...       ...       ...  ...        ...   \n",
       "377                 93     04:20 PM  03:57 AM  05:44 AM  ...         62   \n",
       "378                 62     01:55 PM  12:33 AM  06:45 AM  ...          2   \n",
       "379                 39  No moonrise  01:24 PM  06:12 AM  ...         85   \n",
       "380                100     07:40 PM  06:40 AM  06:58 AM  ...         43   \n",
       "381                 47     01:52 PM  12:33 AM  06:22 AM  ...         68   \n",
       "\n",
       "     humidity  precipMM  pressure  tempC  visibility  winddirDegree  \\\n",
       "0          91      25.3      1014     25           8            169   \n",
       "1          91      25.3      1014     25           8            169   \n",
       "2          92      28.8      1006     30           7            198   \n",
       "3          82       0.0      1007     26          10            265   \n",
       "4          90       1.1      1015     18           7            297   \n",
       "..        ...       ...       ...    ...         ...            ...   \n",
       "377        92       9.2      1010     27           8            223   \n",
       "378        73       0.0      1013     22          10            220   \n",
       "379        88      94.3      1013     26           5            131   \n",
       "380        78      16.8      1012     33           8             76   \n",
       "381        91      25.3      1014     25           8            169   \n",
       "\n",
       "     windspeedKmph                      location  target  \n",
       "0                7  San%20Francisco%20Bay%20Area       1  \n",
       "1                7  San%20Francisco%20Bay%20Area       1  \n",
       "2               16                      Illinois       1  \n",
       "3               17                      Illinois       1  \n",
       "4               13                      Illinois       1  \n",
       "..             ...                           ...     ...  \n",
       "377              4   Island%20of%20Puerto%20Rico       1  \n",
       "378              9         Southern%20California       1  \n",
       "379             19   Island%20of%20Puerto%20Rico       1  \n",
       "380              5   Island%20of%20Puerto%20Rico       1  \n",
       "381              7  San%20Francisco%20Bay%20Area       1  \n",
       "\n",
       "[382 rows x 26 columns]"
      ]
     },
     "execution_count": 51,
     "metadata": {},
     "output_type": "execute_result"
    }
   ],
   "source": [
    "df"
   ]
  },
  {
   "cell_type": "code",
   "execution_count": 53,
   "id": "f9101260",
   "metadata": {},
   "outputs": [],
   "source": [
    "concatenated_df = pd.concat([df, dfNew], ignore_index=True)"
   ]
  },
  {
   "cell_type": "code",
   "execution_count": 54,
   "id": "57e04ca3",
   "metadata": {},
   "outputs": [
    {
     "data": {
      "text/html": [
       "<div>\n",
       "<style scoped>\n",
       "    .dataframe tbody tr th:only-of-type {\n",
       "        vertical-align: middle;\n",
       "    }\n",
       "\n",
       "    .dataframe tbody tr th {\n",
       "        vertical-align: top;\n",
       "    }\n",
       "\n",
       "    .dataframe thead th {\n",
       "        text-align: right;\n",
       "    }\n",
       "</style>\n",
       "<table border=\"1\" class=\"dataframe\">\n",
       "  <thead>\n",
       "    <tr style=\"text-align: right;\">\n",
       "      <th></th>\n",
       "      <th>date_time</th>\n",
       "      <th>maxtempC</th>\n",
       "      <th>mintempC</th>\n",
       "      <th>totalSnow_cm</th>\n",
       "      <th>sunHour</th>\n",
       "      <th>uvIndex</th>\n",
       "      <th>moon_illumination</th>\n",
       "      <th>moonrise</th>\n",
       "      <th>moonset</th>\n",
       "      <th>sunrise</th>\n",
       "      <th>...</th>\n",
       "      <th>cloudcover</th>\n",
       "      <th>humidity</th>\n",
       "      <th>precipMM</th>\n",
       "      <th>pressure</th>\n",
       "      <th>tempC</th>\n",
       "      <th>visibility</th>\n",
       "      <th>winddirDegree</th>\n",
       "      <th>windspeedKmph</th>\n",
       "      <th>location</th>\n",
       "      <th>target</th>\n",
       "    </tr>\n",
       "  </thead>\n",
       "  <tbody>\n",
       "    <tr>\n",
       "      <th>0</th>\n",
       "      <td>2008-07-10</td>\n",
       "      <td>25</td>\n",
       "      <td>16</td>\n",
       "      <td>0.0</td>\n",
       "      <td>8.0</td>\n",
       "      <td>4</td>\n",
       "      <td>47</td>\n",
       "      <td>01:52 PM</td>\n",
       "      <td>12:33 AM</td>\n",
       "      <td>06:22 AM</td>\n",
       "      <td>...</td>\n",
       "      <td>68</td>\n",
       "      <td>91</td>\n",
       "      <td>25.3</td>\n",
       "      <td>1014</td>\n",
       "      <td>25</td>\n",
       "      <td>8</td>\n",
       "      <td>169</td>\n",
       "      <td>7</td>\n",
       "      <td>San%20Francisco%20Bay%20Area</td>\n",
       "      <td>1</td>\n",
       "    </tr>\n",
       "    <tr>\n",
       "      <th>1</th>\n",
       "      <td>2008-07-10</td>\n",
       "      <td>25</td>\n",
       "      <td>16</td>\n",
       "      <td>0.0</td>\n",
       "      <td>8.0</td>\n",
       "      <td>4</td>\n",
       "      <td>47</td>\n",
       "      <td>01:52 PM</td>\n",
       "      <td>12:33 AM</td>\n",
       "      <td>06:22 AM</td>\n",
       "      <td>...</td>\n",
       "      <td>68</td>\n",
       "      <td>91</td>\n",
       "      <td>25.3</td>\n",
       "      <td>1014</td>\n",
       "      <td>25</td>\n",
       "      <td>8</td>\n",
       "      <td>169</td>\n",
       "      <td>7</td>\n",
       "      <td>San%20Francisco%20Bay%20Area</td>\n",
       "      <td>1</td>\n",
       "    </tr>\n",
       "    <tr>\n",
       "      <th>2</th>\n",
       "      <td>2014-06-30</td>\n",
       "      <td>30</td>\n",
       "      <td>22</td>\n",
       "      <td>0.0</td>\n",
       "      <td>10.0</td>\n",
       "      <td>6</td>\n",
       "      <td>16</td>\n",
       "      <td>08:49 AM</td>\n",
       "      <td>10:31 PM</td>\n",
       "      <td>05:34 AM</td>\n",
       "      <td>...</td>\n",
       "      <td>63</td>\n",
       "      <td>92</td>\n",
       "      <td>28.8</td>\n",
       "      <td>1006</td>\n",
       "      <td>30</td>\n",
       "      <td>7</td>\n",
       "      <td>198</td>\n",
       "      <td>16</td>\n",
       "      <td>Illinois</td>\n",
       "      <td>1</td>\n",
       "    </tr>\n",
       "    <tr>\n",
       "      <th>3</th>\n",
       "      <td>2014-07-01</td>\n",
       "      <td>26</td>\n",
       "      <td>18</td>\n",
       "      <td>0.0</td>\n",
       "      <td>15.0</td>\n",
       "      <td>6</td>\n",
       "      <td>23</td>\n",
       "      <td>09:46 AM</td>\n",
       "      <td>11:01 PM</td>\n",
       "      <td>05:34 AM</td>\n",
       "      <td>...</td>\n",
       "      <td>19</td>\n",
       "      <td>82</td>\n",
       "      <td>0.0</td>\n",
       "      <td>1007</td>\n",
       "      <td>26</td>\n",
       "      <td>10</td>\n",
       "      <td>265</td>\n",
       "      <td>17</td>\n",
       "      <td>Illinois</td>\n",
       "      <td>1</td>\n",
       "    </tr>\n",
       "    <tr>\n",
       "      <th>4</th>\n",
       "      <td>2014-07-02</td>\n",
       "      <td>18</td>\n",
       "      <td>14</td>\n",
       "      <td>0.0</td>\n",
       "      <td>5.0</td>\n",
       "      <td>4</td>\n",
       "      <td>30</td>\n",
       "      <td>10:42 AM</td>\n",
       "      <td>11:30 PM</td>\n",
       "      <td>05:35 AM</td>\n",
       "      <td>...</td>\n",
       "      <td>81</td>\n",
       "      <td>90</td>\n",
       "      <td>1.1</td>\n",
       "      <td>1015</td>\n",
       "      <td>18</td>\n",
       "      <td>7</td>\n",
       "      <td>297</td>\n",
       "      <td>13</td>\n",
       "      <td>Illinois</td>\n",
       "      <td>1</td>\n",
       "    </tr>\n",
       "    <tr>\n",
       "      <th>...</th>\n",
       "      <td>...</td>\n",
       "      <td>...</td>\n",
       "      <td>...</td>\n",
       "      <td>...</td>\n",
       "      <td>...</td>\n",
       "      <td>...</td>\n",
       "      <td>...</td>\n",
       "      <td>...</td>\n",
       "      <td>...</td>\n",
       "      <td>...</td>\n",
       "      <td>...</td>\n",
       "      <td>...</td>\n",
       "      <td>...</td>\n",
       "      <td>...</td>\n",
       "      <td>...</td>\n",
       "      <td>...</td>\n",
       "      <td>...</td>\n",
       "      <td>...</td>\n",
       "      <td>...</td>\n",
       "      <td>...</td>\n",
       "      <td>...</td>\n",
       "    </tr>\n",
       "    <tr>\n",
       "      <th>654</th>\n",
       "      <td>2009-03-08</td>\n",
       "      <td>24</td>\n",
       "      <td>19</td>\n",
       "      <td>0.0</td>\n",
       "      <td>12.0</td>\n",
       "      <td>6</td>\n",
       "      <td>81</td>\n",
       "      <td>04:08 PM</td>\n",
       "      <td>04:53 AM</td>\n",
       "      <td>06:37 AM</td>\n",
       "      <td>...</td>\n",
       "      <td>23</td>\n",
       "      <td>81</td>\n",
       "      <td>0.0</td>\n",
       "      <td>1017</td>\n",
       "      <td>24</td>\n",
       "      <td>10</td>\n",
       "      <td>164</td>\n",
       "      <td>16</td>\n",
       "      <td>Texas</td>\n",
       "      <td>0</td>\n",
       "    </tr>\n",
       "    <tr>\n",
       "      <th>655</th>\n",
       "      <td>2008-11-11</td>\n",
       "      <td>27</td>\n",
       "      <td>12</td>\n",
       "      <td>0.0</td>\n",
       "      <td>11.0</td>\n",
       "      <td>5</td>\n",
       "      <td>93</td>\n",
       "      <td>04:14 PM</td>\n",
       "      <td>04:22 AM</td>\n",
       "      <td>06:09 AM</td>\n",
       "      <td>...</td>\n",
       "      <td>22</td>\n",
       "      <td>79</td>\n",
       "      <td>0.0</td>\n",
       "      <td>1013</td>\n",
       "      <td>27</td>\n",
       "      <td>7</td>\n",
       "      <td>95</td>\n",
       "      <td>3</td>\n",
       "      <td>Alberta</td>\n",
       "      <td>0</td>\n",
       "    </tr>\n",
       "    <tr>\n",
       "      <th>656</th>\n",
       "      <td>2008-11-07</td>\n",
       "      <td>13</td>\n",
       "      <td>4</td>\n",
       "      <td>0.0</td>\n",
       "      <td>10.0</td>\n",
       "      <td>2</td>\n",
       "      <td>62</td>\n",
       "      <td>01:32 PM</td>\n",
       "      <td>No moonset</td>\n",
       "      <td>06:27 AM</td>\n",
       "      <td>...</td>\n",
       "      <td>33</td>\n",
       "      <td>65</td>\n",
       "      <td>0.0</td>\n",
       "      <td>1007</td>\n",
       "      <td>13</td>\n",
       "      <td>10</td>\n",
       "      <td>213</td>\n",
       "      <td>17</td>\n",
       "      <td>Michigan</td>\n",
       "      <td>0</td>\n",
       "    </tr>\n",
       "    <tr>\n",
       "      <th>657</th>\n",
       "      <td>2008-09-22</td>\n",
       "      <td>23</td>\n",
       "      <td>12</td>\n",
       "      <td>0.0</td>\n",
       "      <td>12.0</td>\n",
       "      <td>4</td>\n",
       "      <td>39</td>\n",
       "      <td>No moonrise</td>\n",
       "      <td>03:23 PM</td>\n",
       "      <td>07:03 AM</td>\n",
       "      <td>...</td>\n",
       "      <td>39</td>\n",
       "      <td>77</td>\n",
       "      <td>0.0</td>\n",
       "      <td>1027</td>\n",
       "      <td>23</td>\n",
       "      <td>7</td>\n",
       "      <td>58</td>\n",
       "      <td>9</td>\n",
       "      <td>Northern%20and%20Central%20California</td>\n",
       "      <td>0</td>\n",
       "    </tr>\n",
       "    <tr>\n",
       "      <th>658</th>\n",
       "      <td>2008-08-16</td>\n",
       "      <td>27</td>\n",
       "      <td>17</td>\n",
       "      <td>0.0</td>\n",
       "      <td>13.0</td>\n",
       "      <td>5</td>\n",
       "      <td>100</td>\n",
       "      <td>07:48 PM</td>\n",
       "      <td>05:42 AM</td>\n",
       "      <td>06:08 AM</td>\n",
       "      <td>...</td>\n",
       "      <td>27</td>\n",
       "      <td>71</td>\n",
       "      <td>0.3</td>\n",
       "      <td>1014</td>\n",
       "      <td>27</td>\n",
       "      <td>10</td>\n",
       "      <td>267</td>\n",
       "      <td>7</td>\n",
       "      <td>New%20York</td>\n",
       "      <td>0</td>\n",
       "    </tr>\n",
       "  </tbody>\n",
       "</table>\n",
       "<p>659 rows × 26 columns</p>\n",
       "</div>"
      ],
      "text/plain": [
       "      date_time  maxtempC  mintempC  totalSnow_cm  sunHour  uvIndex  \\\n",
       "0    2008-07-10        25        16           0.0      8.0        4   \n",
       "1    2008-07-10        25        16           0.0      8.0        4   \n",
       "2    2014-06-30        30        22           0.0     10.0        6   \n",
       "3    2014-07-01        26        18           0.0     15.0        6   \n",
       "4    2014-07-02        18        14           0.0      5.0        4   \n",
       "..          ...       ...       ...           ...      ...      ...   \n",
       "654  2009-03-08        24        19           0.0     12.0        6   \n",
       "655  2008-11-11        27        12           0.0     11.0        5   \n",
       "656  2008-11-07        13         4           0.0     10.0        2   \n",
       "657  2008-09-22        23        12           0.0     12.0        4   \n",
       "658  2008-08-16        27        17           0.0     13.0        5   \n",
       "\n",
       "     moon_illumination     moonrise     moonset   sunrise  ... cloudcover  \\\n",
       "0                   47     01:52 PM    12:33 AM  06:22 AM  ...         68   \n",
       "1                   47     01:52 PM    12:33 AM  06:22 AM  ...         68   \n",
       "2                   16     08:49 AM    10:31 PM  05:34 AM  ...         63   \n",
       "3                   23     09:46 AM    11:01 PM  05:34 AM  ...         19   \n",
       "4                   30     10:42 AM    11:30 PM  05:35 AM  ...         81   \n",
       "..                 ...          ...         ...       ...  ...        ...   \n",
       "654                 81     04:08 PM    04:53 AM  06:37 AM  ...         23   \n",
       "655                 93     04:14 PM    04:22 AM  06:09 AM  ...         22   \n",
       "656                 62     01:32 PM  No moonset  06:27 AM  ...         33   \n",
       "657                 39  No moonrise    03:23 PM  07:03 AM  ...         39   \n",
       "658                100     07:48 PM    05:42 AM  06:08 AM  ...         27   \n",
       "\n",
       "     humidity  precipMM  pressure  tempC  visibility  winddirDegree  \\\n",
       "0          91      25.3      1014     25           8            169   \n",
       "1          91      25.3      1014     25           8            169   \n",
       "2          92      28.8      1006     30           7            198   \n",
       "3          82       0.0      1007     26          10            265   \n",
       "4          90       1.1      1015     18           7            297   \n",
       "..        ...       ...       ...    ...         ...            ...   \n",
       "654        81       0.0      1017     24          10            164   \n",
       "655        79       0.0      1013     27           7             95   \n",
       "656        65       0.0      1007     13          10            213   \n",
       "657        77       0.0      1027     23           7             58   \n",
       "658        71       0.3      1014     27          10            267   \n",
       "\n",
       "     windspeedKmph                               location  target  \n",
       "0                7           San%20Francisco%20Bay%20Area       1  \n",
       "1                7           San%20Francisco%20Bay%20Area       1  \n",
       "2               16                               Illinois       1  \n",
       "3               17                               Illinois       1  \n",
       "4               13                               Illinois       1  \n",
       "..             ...                                    ...     ...  \n",
       "654             16                                  Texas       0  \n",
       "655              3                                Alberta       0  \n",
       "656             17                               Michigan       0  \n",
       "657              9  Northern%20and%20Central%20California       0  \n",
       "658              7                             New%20York       0  \n",
       "\n",
       "[659 rows x 26 columns]"
      ]
     },
     "execution_count": 54,
     "metadata": {},
     "output_type": "execute_result"
    }
   ],
   "source": [
    "concatenated_df"
   ]
  },
  {
   "cell_type": "code",
   "execution_count": 55,
   "id": "760e4f8c",
   "metadata": {},
   "outputs": [],
   "source": [
    "concatenated_df['location'] = concatenated_df['location'].apply(urllib.parse.unquote)"
   ]
  },
  {
   "cell_type": "code",
   "execution_count": 56,
   "id": "5d0a19e2",
   "metadata": {},
   "outputs": [
    {
     "data": {
      "text/html": [
       "<div>\n",
       "<style scoped>\n",
       "    .dataframe tbody tr th:only-of-type {\n",
       "        vertical-align: middle;\n",
       "    }\n",
       "\n",
       "    .dataframe tbody tr th {\n",
       "        vertical-align: top;\n",
       "    }\n",
       "\n",
       "    .dataframe thead th {\n",
       "        text-align: right;\n",
       "    }\n",
       "</style>\n",
       "<table border=\"1\" class=\"dataframe\">\n",
       "  <thead>\n",
       "    <tr style=\"text-align: right;\">\n",
       "      <th></th>\n",
       "      <th>date_time</th>\n",
       "      <th>maxtempC</th>\n",
       "      <th>mintempC</th>\n",
       "      <th>totalSnow_cm</th>\n",
       "      <th>sunHour</th>\n",
       "      <th>uvIndex</th>\n",
       "      <th>moon_illumination</th>\n",
       "      <th>moonrise</th>\n",
       "      <th>moonset</th>\n",
       "      <th>sunrise</th>\n",
       "      <th>...</th>\n",
       "      <th>cloudcover</th>\n",
       "      <th>humidity</th>\n",
       "      <th>precipMM</th>\n",
       "      <th>pressure</th>\n",
       "      <th>tempC</th>\n",
       "      <th>visibility</th>\n",
       "      <th>winddirDegree</th>\n",
       "      <th>windspeedKmph</th>\n",
       "      <th>location</th>\n",
       "      <th>target</th>\n",
       "    </tr>\n",
       "  </thead>\n",
       "  <tbody>\n",
       "    <tr>\n",
       "      <th>0</th>\n",
       "      <td>2008-07-10</td>\n",
       "      <td>25</td>\n",
       "      <td>16</td>\n",
       "      <td>0.0</td>\n",
       "      <td>8.0</td>\n",
       "      <td>4</td>\n",
       "      <td>47</td>\n",
       "      <td>01:52 PM</td>\n",
       "      <td>12:33 AM</td>\n",
       "      <td>06:22 AM</td>\n",
       "      <td>...</td>\n",
       "      <td>68</td>\n",
       "      <td>91</td>\n",
       "      <td>25.3</td>\n",
       "      <td>1014</td>\n",
       "      <td>25</td>\n",
       "      <td>8</td>\n",
       "      <td>169</td>\n",
       "      <td>7</td>\n",
       "      <td>San Francisco Bay Area</td>\n",
       "      <td>1</td>\n",
       "    </tr>\n",
       "    <tr>\n",
       "      <th>1</th>\n",
       "      <td>2008-07-10</td>\n",
       "      <td>25</td>\n",
       "      <td>16</td>\n",
       "      <td>0.0</td>\n",
       "      <td>8.0</td>\n",
       "      <td>4</td>\n",
       "      <td>47</td>\n",
       "      <td>01:52 PM</td>\n",
       "      <td>12:33 AM</td>\n",
       "      <td>06:22 AM</td>\n",
       "      <td>...</td>\n",
       "      <td>68</td>\n",
       "      <td>91</td>\n",
       "      <td>25.3</td>\n",
       "      <td>1014</td>\n",
       "      <td>25</td>\n",
       "      <td>8</td>\n",
       "      <td>169</td>\n",
       "      <td>7</td>\n",
       "      <td>San Francisco Bay Area</td>\n",
       "      <td>1</td>\n",
       "    </tr>\n",
       "    <tr>\n",
       "      <th>2</th>\n",
       "      <td>2014-06-30</td>\n",
       "      <td>30</td>\n",
       "      <td>22</td>\n",
       "      <td>0.0</td>\n",
       "      <td>10.0</td>\n",
       "      <td>6</td>\n",
       "      <td>16</td>\n",
       "      <td>08:49 AM</td>\n",
       "      <td>10:31 PM</td>\n",
       "      <td>05:34 AM</td>\n",
       "      <td>...</td>\n",
       "      <td>63</td>\n",
       "      <td>92</td>\n",
       "      <td>28.8</td>\n",
       "      <td>1006</td>\n",
       "      <td>30</td>\n",
       "      <td>7</td>\n",
       "      <td>198</td>\n",
       "      <td>16</td>\n",
       "      <td>Illinois</td>\n",
       "      <td>1</td>\n",
       "    </tr>\n",
       "    <tr>\n",
       "      <th>3</th>\n",
       "      <td>2014-07-01</td>\n",
       "      <td>26</td>\n",
       "      <td>18</td>\n",
       "      <td>0.0</td>\n",
       "      <td>15.0</td>\n",
       "      <td>6</td>\n",
       "      <td>23</td>\n",
       "      <td>09:46 AM</td>\n",
       "      <td>11:01 PM</td>\n",
       "      <td>05:34 AM</td>\n",
       "      <td>...</td>\n",
       "      <td>19</td>\n",
       "      <td>82</td>\n",
       "      <td>0.0</td>\n",
       "      <td>1007</td>\n",
       "      <td>26</td>\n",
       "      <td>10</td>\n",
       "      <td>265</td>\n",
       "      <td>17</td>\n",
       "      <td>Illinois</td>\n",
       "      <td>1</td>\n",
       "    </tr>\n",
       "    <tr>\n",
       "      <th>4</th>\n",
       "      <td>2014-07-02</td>\n",
       "      <td>18</td>\n",
       "      <td>14</td>\n",
       "      <td>0.0</td>\n",
       "      <td>5.0</td>\n",
       "      <td>4</td>\n",
       "      <td>30</td>\n",
       "      <td>10:42 AM</td>\n",
       "      <td>11:30 PM</td>\n",
       "      <td>05:35 AM</td>\n",
       "      <td>...</td>\n",
       "      <td>81</td>\n",
       "      <td>90</td>\n",
       "      <td>1.1</td>\n",
       "      <td>1015</td>\n",
       "      <td>18</td>\n",
       "      <td>7</td>\n",
       "      <td>297</td>\n",
       "      <td>13</td>\n",
       "      <td>Illinois</td>\n",
       "      <td>1</td>\n",
       "    </tr>\n",
       "    <tr>\n",
       "      <th>...</th>\n",
       "      <td>...</td>\n",
       "      <td>...</td>\n",
       "      <td>...</td>\n",
       "      <td>...</td>\n",
       "      <td>...</td>\n",
       "      <td>...</td>\n",
       "      <td>...</td>\n",
       "      <td>...</td>\n",
       "      <td>...</td>\n",
       "      <td>...</td>\n",
       "      <td>...</td>\n",
       "      <td>...</td>\n",
       "      <td>...</td>\n",
       "      <td>...</td>\n",
       "      <td>...</td>\n",
       "      <td>...</td>\n",
       "      <td>...</td>\n",
       "      <td>...</td>\n",
       "      <td>...</td>\n",
       "      <td>...</td>\n",
       "      <td>...</td>\n",
       "    </tr>\n",
       "    <tr>\n",
       "      <th>654</th>\n",
       "      <td>2009-03-08</td>\n",
       "      <td>24</td>\n",
       "      <td>19</td>\n",
       "      <td>0.0</td>\n",
       "      <td>12.0</td>\n",
       "      <td>6</td>\n",
       "      <td>81</td>\n",
       "      <td>04:08 PM</td>\n",
       "      <td>04:53 AM</td>\n",
       "      <td>06:37 AM</td>\n",
       "      <td>...</td>\n",
       "      <td>23</td>\n",
       "      <td>81</td>\n",
       "      <td>0.0</td>\n",
       "      <td>1017</td>\n",
       "      <td>24</td>\n",
       "      <td>10</td>\n",
       "      <td>164</td>\n",
       "      <td>16</td>\n",
       "      <td>Texas</td>\n",
       "      <td>0</td>\n",
       "    </tr>\n",
       "    <tr>\n",
       "      <th>655</th>\n",
       "      <td>2008-11-11</td>\n",
       "      <td>27</td>\n",
       "      <td>12</td>\n",
       "      <td>0.0</td>\n",
       "      <td>11.0</td>\n",
       "      <td>5</td>\n",
       "      <td>93</td>\n",
       "      <td>04:14 PM</td>\n",
       "      <td>04:22 AM</td>\n",
       "      <td>06:09 AM</td>\n",
       "      <td>...</td>\n",
       "      <td>22</td>\n",
       "      <td>79</td>\n",
       "      <td>0.0</td>\n",
       "      <td>1013</td>\n",
       "      <td>27</td>\n",
       "      <td>7</td>\n",
       "      <td>95</td>\n",
       "      <td>3</td>\n",
       "      <td>Alberta</td>\n",
       "      <td>0</td>\n",
       "    </tr>\n",
       "    <tr>\n",
       "      <th>656</th>\n",
       "      <td>2008-11-07</td>\n",
       "      <td>13</td>\n",
       "      <td>4</td>\n",
       "      <td>0.0</td>\n",
       "      <td>10.0</td>\n",
       "      <td>2</td>\n",
       "      <td>62</td>\n",
       "      <td>01:32 PM</td>\n",
       "      <td>No moonset</td>\n",
       "      <td>06:27 AM</td>\n",
       "      <td>...</td>\n",
       "      <td>33</td>\n",
       "      <td>65</td>\n",
       "      <td>0.0</td>\n",
       "      <td>1007</td>\n",
       "      <td>13</td>\n",
       "      <td>10</td>\n",
       "      <td>213</td>\n",
       "      <td>17</td>\n",
       "      <td>Michigan</td>\n",
       "      <td>0</td>\n",
       "    </tr>\n",
       "    <tr>\n",
       "      <th>657</th>\n",
       "      <td>2008-09-22</td>\n",
       "      <td>23</td>\n",
       "      <td>12</td>\n",
       "      <td>0.0</td>\n",
       "      <td>12.0</td>\n",
       "      <td>4</td>\n",
       "      <td>39</td>\n",
       "      <td>No moonrise</td>\n",
       "      <td>03:23 PM</td>\n",
       "      <td>07:03 AM</td>\n",
       "      <td>...</td>\n",
       "      <td>39</td>\n",
       "      <td>77</td>\n",
       "      <td>0.0</td>\n",
       "      <td>1027</td>\n",
       "      <td>23</td>\n",
       "      <td>7</td>\n",
       "      <td>58</td>\n",
       "      <td>9</td>\n",
       "      <td>Northern and Central California</td>\n",
       "      <td>0</td>\n",
       "    </tr>\n",
       "    <tr>\n",
       "      <th>658</th>\n",
       "      <td>2008-08-16</td>\n",
       "      <td>27</td>\n",
       "      <td>17</td>\n",
       "      <td>0.0</td>\n",
       "      <td>13.0</td>\n",
       "      <td>5</td>\n",
       "      <td>100</td>\n",
       "      <td>07:48 PM</td>\n",
       "      <td>05:42 AM</td>\n",
       "      <td>06:08 AM</td>\n",
       "      <td>...</td>\n",
       "      <td>27</td>\n",
       "      <td>71</td>\n",
       "      <td>0.3</td>\n",
       "      <td>1014</td>\n",
       "      <td>27</td>\n",
       "      <td>10</td>\n",
       "      <td>267</td>\n",
       "      <td>7</td>\n",
       "      <td>New York</td>\n",
       "      <td>0</td>\n",
       "    </tr>\n",
       "  </tbody>\n",
       "</table>\n",
       "<p>659 rows × 26 columns</p>\n",
       "</div>"
      ],
      "text/plain": [
       "      date_time  maxtempC  mintempC  totalSnow_cm  sunHour  uvIndex  \\\n",
       "0    2008-07-10        25        16           0.0      8.0        4   \n",
       "1    2008-07-10        25        16           0.0      8.0        4   \n",
       "2    2014-06-30        30        22           0.0     10.0        6   \n",
       "3    2014-07-01        26        18           0.0     15.0        6   \n",
       "4    2014-07-02        18        14           0.0      5.0        4   \n",
       "..          ...       ...       ...           ...      ...      ...   \n",
       "654  2009-03-08        24        19           0.0     12.0        6   \n",
       "655  2008-11-11        27        12           0.0     11.0        5   \n",
       "656  2008-11-07        13         4           0.0     10.0        2   \n",
       "657  2008-09-22        23        12           0.0     12.0        4   \n",
       "658  2008-08-16        27        17           0.0     13.0        5   \n",
       "\n",
       "     moon_illumination     moonrise     moonset   sunrise  ... cloudcover  \\\n",
       "0                   47     01:52 PM    12:33 AM  06:22 AM  ...         68   \n",
       "1                   47     01:52 PM    12:33 AM  06:22 AM  ...         68   \n",
       "2                   16     08:49 AM    10:31 PM  05:34 AM  ...         63   \n",
       "3                   23     09:46 AM    11:01 PM  05:34 AM  ...         19   \n",
       "4                   30     10:42 AM    11:30 PM  05:35 AM  ...         81   \n",
       "..                 ...          ...         ...       ...  ...        ...   \n",
       "654                 81     04:08 PM    04:53 AM  06:37 AM  ...         23   \n",
       "655                 93     04:14 PM    04:22 AM  06:09 AM  ...         22   \n",
       "656                 62     01:32 PM  No moonset  06:27 AM  ...         33   \n",
       "657                 39  No moonrise    03:23 PM  07:03 AM  ...         39   \n",
       "658                100     07:48 PM    05:42 AM  06:08 AM  ...         27   \n",
       "\n",
       "     humidity  precipMM  pressure  tempC  visibility  winddirDegree  \\\n",
       "0          91      25.3      1014     25           8            169   \n",
       "1          91      25.3      1014     25           8            169   \n",
       "2          92      28.8      1006     30           7            198   \n",
       "3          82       0.0      1007     26          10            265   \n",
       "4          90       1.1      1015     18           7            297   \n",
       "..        ...       ...       ...    ...         ...            ...   \n",
       "654        81       0.0      1017     24          10            164   \n",
       "655        79       0.0      1013     27           7             95   \n",
       "656        65       0.0      1007     13          10            213   \n",
       "657        77       0.0      1027     23           7             58   \n",
       "658        71       0.3      1014     27          10            267   \n",
       "\n",
       "     windspeedKmph                         location  target  \n",
       "0                7           San Francisco Bay Area       1  \n",
       "1                7           San Francisco Bay Area       1  \n",
       "2               16                         Illinois       1  \n",
       "3               17                         Illinois       1  \n",
       "4               13                         Illinois       1  \n",
       "..             ...                              ...     ...  \n",
       "654             16                            Texas       0  \n",
       "655              3                          Alberta       0  \n",
       "656             17                         Michigan       0  \n",
       "657              9  Northern and Central California       0  \n",
       "658              7                         New York       0  \n",
       "\n",
       "[659 rows x 26 columns]"
      ]
     },
     "execution_count": 56,
     "metadata": {},
     "output_type": "execute_result"
    }
   ],
   "source": [
    "concatenated_df"
   ]
  },
  {
   "cell_type": "code",
   "execution_count": 58,
   "id": "835ab205",
   "metadata": {},
   "outputs": [],
   "source": [
    "concatenated_df.to_csv('FinalDataSet.csv', index=False)"
   ]
  },
  {
   "cell_type": "code",
   "execution_count": null,
   "id": "6d4363a8",
   "metadata": {},
   "outputs": [],
   "source": []
  }
 ],
 "metadata": {
  "kernelspec": {
   "display_name": "Python 3 (ipykernel)",
   "language": "python",
   "name": "python3"
  },
  "language_info": {
   "codemirror_mode": {
    "name": "ipython",
    "version": 3
   },
   "file_extension": ".py",
   "mimetype": "text/x-python",
   "name": "python",
   "nbconvert_exporter": "python",
   "pygments_lexer": "ipython3",
   "version": "3.11.4"
  }
 },
 "nbformat": 4,
 "nbformat_minor": 5
}
